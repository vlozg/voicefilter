{
 "cells": [
  {
   "cell_type": "markdown",
   "metadata": {},
   "source": [
    "# VF"
   ]
  },
  {
   "cell_type": "code",
   "execution_count": 60,
   "metadata": {},
   "outputs": [],
   "source": [
    "import os\n",
    "import time\n",
    "import logging\n",
    "import argparse\n",
    "\n",
    "from utils.hparams import HParam\n",
    "from utils.writer import MyWriter\n",
    "from datasets.dataloader import create_dataloader\n",
    "\n",
    "import os\n",
    "import IPython.display\n",
    "from torchinfo import summary\n",
    "from thop import profile, clever_format\n",
    "\n",
    "from utils.audio import Audio\n",
    "from utils.hparams import HParam\n",
    "\n",
    "parser = argparse.ArgumentParser()\n",
    "parser.add_argument('-c', '--config', type=str, default='config/best.yaml',\n",
    "                    help=\"folder contain yaml files for configuration\")\n",
    "parser.add_argument('--clean_rerun', type=bool, default=False,\n",
    "                    help=\"remove old checkpoint and log. Default: false\")\n",
    "parser.add_argument('-r', '--resume', type=bool, default=False,\n",
    "                    help=\"resume from checkpoint. Default: false\")\n",
    "args = parser.parse_args([\"-c\", \"config/super_converge/powlaw_loss.yaml\"])\n",
    "\n",
    "config = HParam(args.config)\n",
    "exp = config[\"experiment\"]\n",
    "env = config[\"env\"]\n",
    "\n",
    "with open(args.config, 'r') as f:\n",
    "    # store hparams as string\n",
    "    hp_str = ''.join(f.readlines())\n",
    "\n",
    "\n",
    "chkpt_dir = os.path.join(env.base_dir, env.log.chkpt_dir, exp.name)\n",
    "log_dir = os.path.join(env.base_dir, env.log.log_dir, exp.name)\n",
    "\n",
    "os.makedirs(chkpt_dir, exist_ok=True)\n",
    "os.makedirs(log_dir, exist_ok=True)\n",
    "    \n",
    "\n",
    "logging.basicConfig(\n",
    "    level=logging.INFO,\n",
    "    format='%(asctime)s - %(levelname)s - %(message)s',\n",
    "    handlers=[\n",
    "        logging.FileHandler(os.path.join(log_dir,\n",
    "            '%s-%d.log' % (exp.name, time.time()))),\n",
    "        logging.StreamHandler()\n",
    "    ]\n",
    ")\n",
    "\n",
    "logger = logging.getLogger()\n",
    "writer = MyWriter(exp.audio, log_dir)"
   ]
  },
  {
   "cell_type": "code",
   "execution_count": 61,
   "metadata": {},
   "outputs": [
    {
     "name": "stdout",
     "output_type": "stream",
     "text": [
      "New optimizer\n"
     ]
    }
   ],
   "source": [
    "import torch\n",
    "\n",
    "from utils.audio import Audio\n",
    "\n",
    "from model.get_model import get_vfmodel, get_embedder, get_forward\n",
    "from loss.get_criterion import get_criterion\n",
    "from trainer.optimizer.get_optimizer import get_optimizer\n",
    "from datasets.dataloader import create_dataloader\n",
    "\n",
    "trainloader = create_dataloader(config, scheme=\"train\")\n",
    "\n",
    "# Start using exp config from this onward (for simplication)\n",
    "config = config.experiment\n",
    "\n",
    "it = iter(trainloader) # use iterator instead of for loop\n",
    "device = \"cuda\" if config.use_cuda else \"cpu\"\n",
    "\n",
    "\n",
    "# Init model, embedder, optim, criterion\n",
    "audio = Audio(config)\n",
    "embedder = get_embedder(config, train=False, device=device)\n",
    "model, chkpt = get_vfmodel(config, train=True, device=device)\n",
    "train_forward, _ = get_forward(config)\n",
    "criterion = get_criterion(config)\n",
    "\n",
    "if config.train.get(\"resume_from_chkpt\") is True:\n",
    "    print(\"Resuming optimizer and scheduler from checkpoint: %s\" % config.model.pretrained_chkpt)\n",
    "    optimizer, scheduler = get_optimizer(config, model, chkpt)\n",
    "    if chkpt is not None:\n",
    "        step = chkpt['step']\n",
    "else:\n",
    "    print(\"New optimizer\")\n",
    "    optimizer, scheduler = get_optimizer(config, model, None)\n"
   ]
  },
  {
   "cell_type": "code",
   "execution_count": 62,
   "metadata": {},
   "outputs": [],
   "source": [
    "batch = next(it)"
   ]
  },
  {
   "cell_type": "code",
   "execution_count": 63,
   "metadata": {},
   "outputs": [
    {
     "data": {
      "text/plain": [
       "[torch.Size([16, 301, 601]), torch.Size([16, 256])]"
      ]
     },
     "execution_count": 63,
     "metadata": {},
     "output_type": "execute_result"
    }
   ],
   "source": [
    "[batch[\"mixed_mag\"].shape, batch[\"dvec_tensor\"].shape]"
   ]
  },
  {
   "cell_type": "code",
   "execution_count": 64,
   "metadata": {},
   "outputs": [
    {
     "data": {
      "text/plain": [
       "============================================================================================================================================\n",
       "Layer (type (var_name))                  Kernel Shape              Output Shape              Param #                   Mult-Adds\n",
       "============================================================================================================================================\n",
       "VoiceFilter (VoiceFilter)                --                        [1, 301, 601]             --                        --\n",
       "├─Sequential (conv)                      --                        [1, 8, 301, 601]          --                        --\n",
       "│    └─ZeroPad2d (0)                     --                        [1, 1, 301, 607]          --                        --\n",
       "│    └─Conv2d (1)                        [1, 7]                    [1, 64, 301, 601]         512                       92,621,312\n",
       "│    └─BatchNorm2d (2)                   --                        [1, 64, 301, 601]         128                       128\n",
       "│    └─ReLU (3)                          --                        [1, 64, 301, 601]         --                        --\n",
       "│    └─ZeroPad2d (4)                     --                        [1, 64, 307, 601]         --                        --\n",
       "│    └─Conv2d (5)                        [7, 1]                    [1, 64, 301, 601]         28,736                    5,198,371,136\n",
       "│    └─BatchNorm2d (6)                   --                        [1, 64, 301, 601]         128                       128\n",
       "│    └─ReLU (7)                          --                        [1, 64, 301, 601]         --                        --\n",
       "│    └─ZeroPad2d (8)                     --                        [1, 64, 305, 605]         --                        --\n",
       "│    └─Conv2d (9)                        [5, 5]                    [1, 64, 301, 601]         102,464                   18,535,840,064\n",
       "│    └─BatchNorm2d (10)                  --                        [1, 64, 301, 601]         128                       128\n",
       "│    └─ReLU (11)                         --                        [1, 64, 301, 601]         --                        --\n",
       "│    └─ZeroPad2d (12)                    --                        [1, 64, 309, 605]         --                        --\n",
       "│    └─Conv2d (13)                       [5, 5]                    [1, 64, 301, 601]         102,464                   18,535,840,064\n",
       "│    └─BatchNorm2d (14)                  --                        [1, 64, 301, 601]         128                       128\n",
       "│    └─ReLU (15)                         --                        [1, 64, 301, 601]         --                        --\n",
       "│    └─ZeroPad2d (16)                    --                        [1, 64, 317, 605]         --                        --\n",
       "│    └─Conv2d (17)                       [5, 5]                    [1, 64, 301, 601]         102,464                   18,535,840,064\n",
       "│    └─BatchNorm2d (18)                  --                        [1, 64, 301, 601]         128                       128\n",
       "│    └─ReLU (19)                         --                        [1, 64, 301, 601]         --                        --\n",
       "│    └─ZeroPad2d (20)                    --                        [1, 64, 333, 605]         --                        --\n",
       "│    └─Conv2d (21)                       [5, 5]                    [1, 64, 301, 601]         102,464                   18,535,840,064\n",
       "│    └─BatchNorm2d (22)                  --                        [1, 64, 301, 601]         128                       128\n",
       "│    └─ReLU (23)                         --                        [1, 64, 301, 601]         --                        --\n",
       "│    └─ZeroPad2d (24)                    --                        [1, 64, 365, 605]         --                        --\n",
       "│    └─Conv2d (25)                       [5, 5]                    [1, 64, 301, 601]         102,464                   18,535,840,064\n",
       "│    └─BatchNorm2d (26)                  --                        [1, 64, 301, 601]         128                       128\n",
       "│    └─ReLU (27)                         --                        [1, 64, 301, 601]         --                        --\n",
       "│    └─Conv2d (28)                       [1, 1]                    [1, 8, 301, 601]          520                       94,068,520\n",
       "│    └─BatchNorm2d (29)                  --                        [1, 8, 301, 601]          16                        16\n",
       "│    └─ReLU (30)                         --                        [1, 8, 301, 601]          --                        --\n",
       "├─LSTM (lstm)                            --                        [1, 301, 800]             17,491,200                5,264,851,200\n",
       "├─Linear (fc1)                           --                        [1, 301, 600]             480,600                   480,600\n",
       "├─Linear (fc2)                           --                        [1, 301, 601]             361,201                   361,201\n",
       "============================================================================================================================================\n",
       "Total params: 18,876,001\n",
       "Trainable params: 18,876,001\n",
       "Non-trainable params: 0\n",
       "Total mult-adds (G): 103.33\n",
       "============================================================================================================================================\n",
       "Input size (MB): 0.72\n",
       "Forward/backward pass size (MB): 1324.67\n",
       "Params size (MB): 75.50\n",
       "Estimated Total Size (MB): 1400.90\n",
       "============================================================================================================================================"
      ]
     },
     "execution_count": 64,
     "metadata": {},
     "output_type": "execute_result"
    }
   ],
   "source": [
    "summary(model\n",
    "    ,[(1, 301, 601), (1, 256)]\n",
    "    ,col_names=[\"kernel_size\", \"output_size\", \"num_params\", \"mult_adds\"]\n",
    "    ,row_settings=[\"var_names\"]\n",
    ")"
   ]
  },
  {
   "cell_type": "code",
   "execution_count": 65,
   "metadata": {},
   "outputs": [],
   "source": [
    "batch[\"mixed_mag\"] = batch[\"mixed_mag\"].cuda()\n",
    "batch[\"dvec_tensor\"] = batch[\"dvec_tensor\"].cuda()"
   ]
  },
  {
   "cell_type": "code",
   "execution_count": 67,
   "metadata": {},
   "outputs": [
    {
     "name": "stdout",
     "output_type": "stream",
     "text": [
      "[INFO] Register zero_ops() for <class 'torch.nn.modules.padding.ZeroPad2d'>.\n",
      "[INFO] Register count_convNd() for <class 'torch.nn.modules.conv.Conv2d'>.\n",
      "[INFO] Register count_normalization() for <class 'torch.nn.modules.batchnorm.BatchNorm2d'>.\n",
      "[INFO] Register zero_ops() for <class 'torch.nn.modules.activation.ReLU'>.\n",
      "[INFO] Register zero_ops() for <class 'torch.nn.modules.container.Sequential'>.\n",
      "[INFO] Register count_lstm() for <class 'torch.nn.modules.rnn.LSTM'>.\n",
      "[INFO] Register count_linear() for <class 'torch.nn.modules.linear.Linear'>.\n"
     ]
    },
    {
     "data": {
      "text/plain": [
       "('1.661T', '18.876M')"
      ]
     },
     "metadata": {},
     "output_type": "display_data"
    }
   ],
   "source": [
    "macs, params = profile(model, inputs=(batch[\"mixed_mag\"], batch[\"dvec_tensor\"]))\n",
    "display(clever_format([macs, params], \"%.3f\"))"
   ]
  },
  {
   "cell_type": "code",
   "execution_count": 66,
   "metadata": {},
   "outputs": [
    {
     "name": "stdout",
     "output_type": "stream",
     "text": [
      "[INFO] Register zero_ops() for <class 'torch.nn.modules.padding.ZeroPad2d'>.\n",
      "[INFO] Register count_convNd() for <class 'torch.nn.modules.conv.Conv2d'>.\n",
      "[INFO] Register count_normalization() for <class 'torch.nn.modules.batchnorm.BatchNorm2d'>.\n",
      "[INFO] Register zero_ops() for <class 'torch.nn.modules.activation.ReLU'>.\n",
      "[INFO] Register zero_ops() for <class 'torch.nn.modules.container.Sequential'>.\n",
      "[INFO] Register count_lstm() for <class 'torch.nn.modules.rnn.LSTM'>.\n",
      "[INFO] Register count_linear() for <class 'torch.nn.modules.linear.Linear'>.\n"
     ]
    },
    {
     "data": {
      "text/plain": [
       "('103.832G', '18.876M')"
      ]
     },
     "metadata": {},
     "output_type": "display_data"
    }
   ],
   "source": [
    "macs, params = profile(model, inputs=(batch[\"mixed_mag\"][[0]], batch[\"dvec_tensor\"][[0]]))\n",
    "display(clever_format([macs, params], \"%.3f\"))"
   ]
  },
  {
   "cell_type": "markdown",
   "metadata": {},
   "source": [
    "# PSE-DCCRN"
   ]
  },
  {
   "cell_type": "code",
   "execution_count": 68,
   "metadata": {},
   "outputs": [],
   "source": [
    "import os\n",
    "import time\n",
    "import logging\n",
    "import argparse\n",
    "\n",
    "from utils.hparams import HParam\n",
    "from utils.writer import MyWriter\n",
    "from datasets.dataloader import create_dataloader\n",
    "from thop import profile, clever_format\n",
    "\n",
    "import os\n",
    "import IPython.display\n",
    "from torchinfo import summary\n",
    "\n",
    "\n",
    "from utils.audio import Audio\n",
    "from utils.hparams import HParam\n",
    "\n",
    "parser = argparse.ArgumentParser()\n",
    "parser.add_argument('-c', '--config', type=str, default='config/best.yaml',\n",
    "                    help=\"folder contain yaml files for configuration\")\n",
    "parser.add_argument('--clean_rerun', type=bool, default=False,\n",
    "                    help=\"remove old checkpoint and log. Default: false\")\n",
    "parser.add_argument('-r', '--resume', type=bool, default=False,\n",
    "                    help=\"resume from checkpoint. Default: false\")\n",
    "args = parser.parse_args([\"-c\", \"config/super_converge/pse_dccrn_stft_L_asym.yaml\"])\n",
    "\n",
    "config = HParam(args.config)\n",
    "exp = config[\"experiment\"]\n",
    "env = config[\"env\"]\n",
    "\n",
    "with open(args.config, 'r') as f:\n",
    "    # store hparams as string\n",
    "    hp_str = ''.join(f.readlines())\n",
    "\n",
    "\n",
    "chkpt_dir = os.path.join(env.base_dir, env.log.chkpt_dir, exp.name)\n",
    "log_dir = os.path.join(env.base_dir, env.log.log_dir, exp.name)\n",
    "\n",
    "os.makedirs(chkpt_dir, exist_ok=True)\n",
    "os.makedirs(log_dir, exist_ok=True)\n",
    "    \n",
    "\n",
    "logging.basicConfig(\n",
    "    level=logging.INFO,\n",
    "    format='%(asctime)s - %(levelname)s - %(message)s',\n",
    "    handlers=[\n",
    "        logging.FileHandler(os.path.join(log_dir,\n",
    "            '%s-%d.log' % (exp.name, time.time()))),\n",
    "        logging.StreamHandler()\n",
    "    ]\n",
    ")\n",
    "\n",
    "logger = logging.getLogger()\n",
    "writer = MyWriter(exp.audio, log_dir)"
   ]
  },
  {
   "cell_type": "code",
   "execution_count": 69,
   "metadata": {},
   "outputs": [
    {
     "name": "stdout",
     "output_type": "stream",
     "text": [
      "New optimizer\n"
     ]
    }
   ],
   "source": [
    "import torch\n",
    "\n",
    "from utils.audio import Audio\n",
    "\n",
    "from model.get_model import get_vfmodel, get_embedder, get_forward\n",
    "from loss.get_criterion import get_criterion\n",
    "from trainer.optimizer.get_optimizer import get_optimizer\n",
    "from datasets.dataloader import create_dataloader\n",
    "\n",
    "trainloader = create_dataloader(config, scheme=\"train\")\n",
    "\n",
    "# Start using exp config from this onward (for simplication)\n",
    "config = config.experiment\n",
    "\n",
    "it = iter(trainloader) # use iterator instead of for loop\n",
    "device = \"cuda\" if config.use_cuda else \"cpu\"\n",
    "\n",
    "\n",
    "# Init model, embedder, optim, criterion\n",
    "audio = Audio(config)\n",
    "embedder = get_embedder(config, train=False, device=device)\n",
    "model, chkpt = get_vfmodel(config, train=True, device=device)\n",
    "train_forward, _ = get_forward(config)\n",
    "criterion = get_criterion(config)\n",
    "\n",
    "if config.train.get(\"resume_from_chkpt\") is True:\n",
    "    print(\"Resuming optimizer and scheduler from checkpoint: %s\" % config.model.pretrained_chkpt)\n",
    "    optimizer, scheduler = get_optimizer(config, model, chkpt)\n",
    "    if chkpt is not None:\n",
    "        step = chkpt['step']\n",
    "else:\n",
    "    print(\"New optimizer\")\n",
    "    optimizer, scheduler = get_optimizer(config, model, None)\n"
   ]
  },
  {
   "cell_type": "code",
   "execution_count": 70,
   "metadata": {},
   "outputs": [],
   "source": [
    "batch = next(it)"
   ]
  },
  {
   "cell_type": "code",
   "execution_count": 71,
   "metadata": {},
   "outputs": [
    {
     "data": {
      "text/plain": [
       "[torch.Size([16, 301, 641]), torch.Size([16, 256])]"
      ]
     },
     "execution_count": 71,
     "metadata": {},
     "output_type": "execute_result"
    }
   ],
   "source": [
    "[batch[\"mixed_mag\"].shape, batch[\"dvec_tensor\"].shape]"
   ]
  },
  {
   "cell_type": "code",
   "execution_count": 72,
   "metadata": {},
   "outputs": [],
   "source": [
    "mixed_stft = batch[\"mixed_stft\"]\n",
    "b, t = mixed_stft.shape[:2]\n",
    "mixed_stft_ = torch.view_as_real(mixed_stft).transpose(-2, -1).reshape(b, t, -1).transpose(-1, -2)"
   ]
  },
  {
   "cell_type": "code",
   "execution_count": 73,
   "metadata": {},
   "outputs": [
    {
     "data": {
      "text/plain": [
       "torch.Size([16, 1282, 301])"
      ]
     },
     "execution_count": 73,
     "metadata": {},
     "output_type": "execute_result"
    }
   ],
   "source": [
    "mixed_stft_.shape"
   ]
  },
  {
   "cell_type": "code",
   "execution_count": 74,
   "metadata": {},
   "outputs": [
    {
     "data": {
      "text/plain": [
       "======================================================================================================================================================\n",
       "Layer (type (var_name))                            Kernel Shape              Output Shape              Param #                   Mult-Adds\n",
       "======================================================================================================================================================\n",
       "PSE_DCCRN (PSE_DCCRN)                              5                         [16, 1282, 301]           1,743,655                 --\n",
       "├─ModuleList (encoder)                             --                        --                        --                        --\n",
       "│    └─Sequential (0)                              --                        [16, 32, 320, 301]        --                        --\n",
       "│    │    └─ComplexConv2d (0)                      [5, 2]                    [16, 32, 320, 301]        352                       1,084,948,480\n",
       "│    │    └─BatchNorm2d (1)                        --                        [16, 32, 320, 301]        64                        1,024\n",
       "│    │    └─PReLU (2)                              --                        [16, 32, 320, 301]        1                         16\n",
       "│    └─Sequential (1)                              --                        [16, 64, 160, 301]        129                       --\n",
       "│    │    └─ComplexConv2d (0)                      [5, 2]                    [16, 64, 160, 301]        10,304                    0\n",
       "│    │    └─BatchNorm2d (1)                        --                        [16, 64, 160, 301]        (recursive)               2,048\n",
       "│    │    └─PReLU (2)                              --                        [16, 64, 160, 301]        (recursive)               16\n",
       "│    └─Sequential (2)                              --                        [16, 128, 80, 301]        (recursive)               --\n",
       "│    │    └─ComplexConv2d (0)                      [5, 2]                    [16, 128, 80, 301]        (recursive)               0\n",
       "│    └─Sequential (1)                              --                        --                        --                        --\n",
       "│    │    └─BatchNorm2d (1)                        --                        [16, 64, 160, 301]        (recursive)               2,048\n",
       "│    │    └─PReLU (2)                              --                        [16, 64, 160, 301]        (recursive)               16\n",
       "│    └─Sequential (2)                              --                        [16, 128, 80, 301]        (recursive)               --\n",
       "│    │    └─ComplexConv2d (0)                      [5, 2]                    [16, 128, 80, 301]        (recursive)               0\n",
       "│    └─Sequential (3)                              --                        --                        --                        --\n",
       "│    │    └─BatchNorm2d (1)                        --                        [16, 256, 40, 301]        (recursive)               8,192\n",
       "│    │    └─PReLU (2)                              --                        [16, 256, 40, 301]        (recursive)               16\n",
       "│    └─Sequential (4)                              --                        [16, 256, 20, 301]        (recursive)               --\n",
       "│    │    └─ComplexConv2d (0)                      [5, 2]                    [16, 256, 20, 301]        (recursive)               63,173,591,040\n",
       "│    └─Sequential (2)                              --                        --                        --                        --\n",
       "│    │    └─BatchNorm2d (1)                        --                        [16, 128, 80, 301]        256                       4,096\n",
       "│    │    └─PReLU (2)                              --                        [16, 128, 80, 301]        1                         16\n",
       "│    └─Sequential (3)                              --                        [16, 256, 40, 301]        513                       --\n",
       "│    │    └─ComplexConv2d (0)                      [5, 2]                    [16, 256, 40, 301]        164,096                   63,222,906,880\n",
       "│    │    └─BatchNorm2d (1)                        --                        [16, 256, 40, 301]        (recursive)               8,192\n",
       "│    │    └─PReLU (2)                              --                        [16, 256, 40, 301]        (recursive)               16\n",
       "│    └─Sequential (4)                              --                        [16, 256, 20, 301]        (recursive)               --\n",
       "│    │    └─ComplexConv2d (0)                      [5, 2]                    [16, 256, 20, 301]        (recursive)               63,173,591,040\n",
       "│    │    └─BatchNorm2d (1)                        --                        [16, 256, 20, 301]        512                       8,192\n",
       "├─ModuleList (decoder)                             --                        --                        --                        --\n",
       "│    └─Sequential (1)                              --                        --                        --                        --\n",
       "│    │    └─BatchNorm2d (1)                        --                        [16, 256, 40, 302]        (recursive)               8,192\n",
       "│    │    └─PReLU (2)                              --                        [16, 256, 40, 302]        (recursive)               16\n",
       "│    └─Sequential (2)                              --                        [16, 128, 80, 302]        (recursive)               --\n",
       "│    │    └─ComplexConvTranspose2d (0)             [5, 2]                    [16, 128, 80, 302]        (recursive)               253,434,920,960\n",
       "├─ModuleList (encoder)                             --                        --                        --                        --\n",
       "│    └─Sequential (4)                              --                        --                        --                        --\n",
       "│    │    └─PReLU (2)                              --                        [16, 256, 20, 301]        1                         16\n",
       "│    └─Sequential (5)                              --                        [16, 256, 10, 301]        1                         --\n",
       "│    │    └─ComplexConv2d (0)                      [5, 2]                    [16, 256, 10, 301]        327,936                   31,586,795,520\n",
       "│    │    └─BatchNorm2d (1)                        --                        [16, 256, 10, 301]        512                       8,192\n",
       "├─ModuleList (decoder)                             --                        --                        --                        --\n",
       "│    └─Sequential (3)                              --                        --                        --                        --\n",
       "│    │    └─BatchNorm2d (1)                        --                        [16, 64, 160, 302]        (recursive)               2,048\n",
       "│    │    └─PReLU (2)                              --                        [16, 64, 160, 302]        (recursive)               16\n",
       "│    └─Sequential (4)                              --                        [16, 32, 320, 302]        (recursive)               --\n",
       "│    │    └─ComplexConvTranspose2d (0)             [5, 2]                    [16, 32, 320, 302]        (recursive)               63,432,949,760\n",
       "├─ModuleList (encoder)                             --                        --                        --                        --\n",
       "│    └─Sequential (5)                              --                        --                        --                        --\n",
       "│    │    └─PReLU (2)                              --                        [16, 256, 10, 301]        1                         16\n",
       "├─Sequential (enhance)                             --                        [301, 16, 1280]           --                        --\n",
       "│    └─NavieComplexLSTM (0)                        --                        [301, 16, 128]            --                        --\n",
       "│    │    └─LSTM (real_lstm)                       --                        [301, 16, 128]            852,992                   4,108,009,472\n",
       "│    │    └─LSTM (imag_lstm)                       --                        [301, 16, 128]            852,992                   4,108,009,472\n",
       "│    │    └─LSTM (real_lstm)                       --                        [301, 16, 128]            (recursive)               4,108,009,472\n",
       "│    │    └─LSTM (imag_lstm)                       --                        [301, 16, 128]            (recursive)               4,108,009,472\n",
       "│    └─NavieComplexLSTM (1)                        --                        [301, 16, 1280]           --                        --\n",
       "│    │    └─LSTM (real_lstm)                       --                        [301, 16, 128]            132,096                   636,174,336\n",
       "│    │    └─LSTM (imag_lstm)                       --                        [301, 16, 128]            132,096                   636,174,336\n",
       "│    │    └─LSTM (real_lstm)                       --                        [301, 16, 128]            (recursive)               636,174,336\n",
       "│    │    └─LSTM (imag_lstm)                       --                        [301, 16, 128]            (recursive)               636,174,336\n",
       "│    │    └─Linear (r_trans)                       --                        [301, 16, 1280]           165,120                   49,701,120\n",
       "│    │    └─Linear (i_trans)                       --                        [301, 16, 1280]           165,120                   49,701,120\n",
       "├─ModuleList (decoder)                             --                        --                        --                        --\n",
       "│    └─Sequential (0)                              --                        [16, 256, 20, 302]        --                        --\n",
       "│    │    └─ComplexConvTranspose2d (0)             [5, 2]                    [16, 256, 20, 302]        655,616                   126,717,460,480\n",
       "│    │    └─BatchNorm2d (1)                        --                        [16, 256, 20, 302]        512                       8,192\n",
       "│    │    └─PReLU (2)                              --                        [16, 256, 20, 302]        1                         16\n",
       "│    └─Sequential (1)                              --                        [16, 256, 40, 302]        513                       --\n",
       "│    │    └─ComplexConvTranspose2d (0)             [5, 2]                    [16, 256, 40, 302]        655,616                   253,434,920,960\n",
       "│    │    └─BatchNorm2d (1)                        --                        [16, 256, 40, 302]        (recursive)               8,192\n",
       "│    │    └─PReLU (2)                              --                        [16, 256, 40, 302]        (recursive)               16\n",
       "│    └─Sequential (2)                              --                        [16, 128, 80, 302]        (recursive)               --\n",
       "│    │    └─ComplexConvTranspose2d (0)             [5, 2]                    [16, 128, 80, 302]        (recursive)               253,434,920,960\n",
       "│    │    └─BatchNorm2d (1)                        --                        [16, 128, 80, 302]        256                       4,096\n",
       "│    │    └─PReLU (2)                              --                        [16, 128, 80, 302]        1                         16\n",
       "│    └─Sequential (3)                              --                        [16, 64, 160, 302]        129                       --\n",
       "│    │    └─ComplexConvTranspose2d (0)             [5, 2]                    [16, 64, 160, 302]        81,984                    126,766,940,160\n",
       "│    │    └─BatchNorm2d (1)                        --                        [16, 64, 160, 302]        (recursive)               2,048\n",
       "│    │    └─PReLU (2)                              --                        [16, 64, 160, 302]        (recursive)               16\n",
       "│    └─Sequential (4)                              --                        [16, 32, 320, 302]        (recursive)               --\n",
       "│    │    └─ComplexConvTranspose2d (0)             [5, 2]                    [16, 32, 320, 302]        (recursive)               63,432,949,760\n",
       "│    │    └─BatchNorm2d (1)                        --                        [16, 32, 320, 302]        64                        1,024\n",
       "│    │    └─PReLU (2)                              --                        [16, 32, 320, 302]        1                         16\n",
       "│    └─Sequential (5)                              --                        [16, 2, 640, 302]         --                        --\n",
       "│    │    └─ComplexConvTranspose2d (0)             [5, 2]                    [16, 2, 640, 302]         642                       3,970,744,320\n",
       "======================================================================================================================================================\n",
       "Total params: 4,917,773\n",
       "Trainable params: 4,917,773\n",
       "Non-trainable params: 0\n",
       "Total mult-adds (T): 1.05\n",
       "======================================================================================================================================================\n",
       "Input size (MB): 24.71\n",
       "Forward/backward pass size (MB): 7972.19\n",
       "Params size (MB): 19.67\n",
       "Estimated Total Size (MB): 8016.57\n",
       "======================================================================================================================================================"
      ]
     },
     "execution_count": 74,
     "metadata": {},
     "output_type": "execute_result"
    }
   ],
   "source": [
    "summary(model\n",
    "    ,[(16, 1282, 301), (16, 256)]\n",
    "    ,col_names=[\"kernel_size\", \"output_size\", \"num_params\", \"mult_adds\"]\n",
    "    ,row_settings=[\"var_names\"]\n",
    ")"
   ]
  },
  {
   "cell_type": "code",
   "execution_count": 75,
   "metadata": {},
   "outputs": [
    {
     "data": {
      "text/plain": [
       "======================================================================================================================================================\n",
       "Layer (type (var_name))                            Kernel Shape              Output Shape              Param #                   Mult-Adds\n",
       "======================================================================================================================================================\n",
       "PSE_DCCRN (PSE_DCCRN)                              5                         [1, 1282, 301]            1,743,655                 --\n",
       "├─ModuleList (encoder)                             --                        --                        --                        --\n",
       "│    └─Sequential (0)                              --                        [1, 32, 320, 301]         --                        --\n",
       "│    │    └─ComplexConv2d (0)                      [5, 2]                    [1, 32, 320, 301]         352                       67,809,280\n",
       "│    │    └─BatchNorm2d (1)                        --                        [1, 32, 320, 301]         64                        64\n",
       "│    │    └─PReLU (2)                              --                        [1, 32, 320, 301]         1                         1\n",
       "│    └─Sequential (1)                              --                        [1, 64, 160, 301]         129                       --\n",
       "│    │    └─ComplexConv2d (0)                      [5, 2]                    [1, 64, 160, 301]         10,304                    0\n",
       "│    │    └─BatchNorm2d (1)                        --                        [1, 64, 160, 301]         (recursive)               128\n",
       "│    │    └─PReLU (2)                              --                        [1, 64, 160, 301]         (recursive)               1\n",
       "│    └─Sequential (2)                              --                        [1, 128, 80, 301]         (recursive)               --\n",
       "│    │    └─ComplexConv2d (0)                      [5, 2]                    [1, 128, 80, 301]         (recursive)               0\n",
       "│    └─Sequential (1)                              --                        --                        --                        --\n",
       "│    │    └─BatchNorm2d (1)                        --                        [1, 64, 160, 301]         (recursive)               128\n",
       "│    │    └─PReLU (2)                              --                        [1, 64, 160, 301]         (recursive)               1\n",
       "│    └─Sequential (2)                              --                        [1, 128, 80, 301]         (recursive)               --\n",
       "│    │    └─ComplexConv2d (0)                      [5, 2]                    [1, 128, 80, 301]         (recursive)               0\n",
       "│    └─Sequential (3)                              --                        --                        --                        --\n",
       "│    │    └─BatchNorm2d (1)                        --                        [1, 256, 40, 301]         (recursive)               512\n",
       "│    │    └─PReLU (2)                              --                        [1, 256, 40, 301]         (recursive)               1\n",
       "│    └─Sequential (4)                              --                        [1, 256, 20, 301]         (recursive)               --\n",
       "│    │    └─ComplexConv2d (0)                      [5, 2]                    [1, 256, 20, 301]         (recursive)               3,948,349,440\n",
       "│    └─Sequential (2)                              --                        --                        --                        --\n",
       "│    │    └─BatchNorm2d (1)                        --                        [1, 128, 80, 301]         256                       256\n",
       "│    │    └─PReLU (2)                              --                        [1, 128, 80, 301]         1                         1\n",
       "│    └─Sequential (3)                              --                        [1, 256, 40, 301]         513                       --\n",
       "│    │    └─ComplexConv2d (0)                      [5, 2]                    [1, 256, 40, 301]         164,096                   3,951,431,680\n",
       "│    │    └─BatchNorm2d (1)                        --                        [1, 256, 40, 301]         (recursive)               512\n",
       "│    │    └─PReLU (2)                              --                        [1, 256, 40, 301]         (recursive)               1\n",
       "│    └─Sequential (4)                              --                        [1, 256, 20, 301]         (recursive)               --\n",
       "│    │    └─ComplexConv2d (0)                      [5, 2]                    [1, 256, 20, 301]         (recursive)               3,948,349,440\n",
       "│    │    └─BatchNorm2d (1)                        --                        [1, 256, 20, 301]         512                       512\n",
       "├─ModuleList (decoder)                             --                        --                        --                        --\n",
       "│    └─Sequential (1)                              --                        --                        --                        --\n",
       "│    │    └─BatchNorm2d (1)                        --                        [1, 256, 40, 302]         (recursive)               512\n",
       "│    │    └─PReLU (2)                              --                        [1, 256, 40, 302]         (recursive)               1\n",
       "│    └─Sequential (2)                              --                        [1, 128, 80, 302]         (recursive)               --\n",
       "│    │    └─ComplexConvTranspose2d (0)             [5, 2]                    [1, 128, 80, 302]         (recursive)               15,839,682,560\n",
       "├─ModuleList (encoder)                             --                        --                        --                        --\n",
       "│    └─Sequential (4)                              --                        --                        --                        --\n",
       "│    │    └─PReLU (2)                              --                        [1, 256, 20, 301]         1                         1\n",
       "│    └─Sequential (5)                              --                        [1, 256, 10, 301]         1                         --\n",
       "│    │    └─ComplexConv2d (0)                      [5, 2]                    [1, 256, 10, 301]         327,936                   1,974,174,720\n",
       "│    │    └─BatchNorm2d (1)                        --                        [1, 256, 10, 301]         512                       512\n",
       "├─ModuleList (decoder)                             --                        --                        --                        --\n",
       "│    └─Sequential (3)                              --                        --                        --                        --\n",
       "│    │    └─BatchNorm2d (1)                        --                        [1, 64, 160, 302]         (recursive)               128\n",
       "│    │    └─PReLU (2)                              --                        [1, 64, 160, 302]         (recursive)               1\n",
       "│    └─Sequential (4)                              --                        [1, 32, 320, 302]         (recursive)               --\n",
       "│    │    └─ComplexConvTranspose2d (0)             [5, 2]                    [1, 32, 320, 302]         (recursive)               3,964,559,360\n",
       "├─ModuleList (encoder)                             --                        --                        --                        --\n",
       "│    └─Sequential (5)                              --                        --                        --                        --\n",
       "│    │    └─PReLU (2)                              --                        [1, 256, 10, 301]         1                         1\n",
       "├─Sequential (enhance)                             --                        [301, 1, 1280]            --                        --\n",
       "│    └─NavieComplexLSTM (0)                        --                        [301, 1, 128]             --                        --\n",
       "│    │    └─LSTM (real_lstm)                       --                        [301, 1, 128]             852,992                   256,750,592\n",
       "│    │    └─LSTM (imag_lstm)                       --                        [301, 1, 128]             852,992                   256,750,592\n",
       "│    │    └─LSTM (real_lstm)                       --                        [301, 1, 128]             (recursive)               256,750,592\n",
       "│    │    └─LSTM (imag_lstm)                       --                        [301, 1, 128]             (recursive)               256,750,592\n",
       "│    └─NavieComplexLSTM (1)                        --                        [301, 1, 1280]            --                        --\n",
       "│    │    └─LSTM (real_lstm)                       --                        [301, 1, 128]             132,096                   39,760,896\n",
       "│    │    └─LSTM (imag_lstm)                       --                        [301, 1, 128]             132,096                   39,760,896\n",
       "│    │    └─LSTM (real_lstm)                       --                        [301, 1, 128]             (recursive)               39,760,896\n",
       "│    │    └─LSTM (imag_lstm)                       --                        [301, 1, 128]             (recursive)               39,760,896\n",
       "│    │    └─Linear (r_trans)                       --                        [301, 1, 1280]            165,120                   49,701,120\n",
       "│    │    └─Linear (i_trans)                       --                        [301, 1, 1280]            165,120                   49,701,120\n",
       "├─ModuleList (decoder)                             --                        --                        --                        --\n",
       "│    └─Sequential (0)                              --                        [1, 256, 20, 302]         --                        --\n",
       "│    │    └─ComplexConvTranspose2d (0)             [5, 2]                    [1, 256, 20, 302]         655,616                   7,919,841,280\n",
       "│    │    └─BatchNorm2d (1)                        --                        [1, 256, 20, 302]         512                       512\n",
       "│    │    └─PReLU (2)                              --                        [1, 256, 20, 302]         1                         1\n",
       "│    └─Sequential (1)                              --                        [1, 256, 40, 302]         513                       --\n",
       "│    │    └─ComplexConvTranspose2d (0)             [5, 2]                    [1, 256, 40, 302]         655,616                   15,839,682,560\n",
       "│    │    └─BatchNorm2d (1)                        --                        [1, 256, 40, 302]         (recursive)               512\n",
       "│    │    └─PReLU (2)                              --                        [1, 256, 40, 302]         (recursive)               1\n",
       "│    └─Sequential (2)                              --                        [1, 128, 80, 302]         (recursive)               --\n",
       "│    │    └─ComplexConvTranspose2d (0)             [5, 2]                    [1, 128, 80, 302]         (recursive)               15,839,682,560\n",
       "│    │    └─BatchNorm2d (1)                        --                        [1, 128, 80, 302]         256                       256\n",
       "│    │    └─PReLU (2)                              --                        [1, 128, 80, 302]         1                         1\n",
       "│    └─Sequential (3)                              --                        [1, 64, 160, 302]         129                       --\n",
       "│    │    └─ComplexConvTranspose2d (0)             [5, 2]                    [1, 64, 160, 302]         81,984                    7,922,933,760\n",
       "│    │    └─BatchNorm2d (1)                        --                        [1, 64, 160, 302]         (recursive)               128\n",
       "│    │    └─PReLU (2)                              --                        [1, 64, 160, 302]         (recursive)               1\n",
       "│    └─Sequential (4)                              --                        [1, 32, 320, 302]         (recursive)               --\n",
       "│    │    └─ComplexConvTranspose2d (0)             [5, 2]                    [1, 32, 320, 302]         (recursive)               3,964,559,360\n",
       "│    │    └─BatchNorm2d (1)                        --                        [1, 32, 320, 302]         64                        64\n",
       "│    │    └─PReLU (2)                              --                        [1, 32, 320, 302]         1                         1\n",
       "│    └─Sequential (5)                              --                        [1, 2, 640, 302]          --                        --\n",
       "│    │    └─ComplexConvTranspose2d (0)             [5, 2]                    [1, 2, 640, 302]          642                       248,171,520\n",
       "======================================================================================================================================================\n",
       "Total params: 4,917,773\n",
       "Trainable params: 4,917,773\n",
       "Non-trainable params: 0\n",
       "Total mult-adds (G): 65.93\n",
       "======================================================================================================================================================\n",
       "Input size (MB): 1.54\n",
       "Forward/backward pass size (MB): 498.26\n",
       "Params size (MB): 19.67\n",
       "Estimated Total Size (MB): 519.47\n",
       "======================================================================================================================================================"
      ]
     },
     "execution_count": 75,
     "metadata": {},
     "output_type": "execute_result"
    }
   ],
   "source": [
    "summary(model\n",
    "    ,[(1, 1282, 301), (1, 256)]\n",
    "    ,col_names=[\"kernel_size\", \"output_size\", \"num_params\", \"mult_adds\"]\n",
    "    ,row_settings=[\"var_names\"]\n",
    ")"
   ]
  },
  {
   "cell_type": "code",
   "execution_count": 76,
   "metadata": {},
   "outputs": [],
   "source": [
    "batch[\"mixed_stft\"] = mixed_stft_.cuda()\n",
    "batch[\"dvec_tensor\"] = batch[\"dvec_tensor\"].cuda()"
   ]
  },
  {
   "cell_type": "code",
   "execution_count": 77,
   "metadata": {},
   "outputs": [
    {
     "name": "stdout",
     "output_type": "stream",
     "text": [
      "[INFO] Register count_convNd() for <class 'torch.nn.modules.conv.Conv2d'>.\n",
      "[INFO] Register count_normalization() for <class 'torch.nn.modules.batchnorm.BatchNorm2d'>.\n",
      "[INFO] Register count_prelu() for <class 'torch.nn.modules.activation.PReLU'>.\n",
      "[INFO] Register zero_ops() for <class 'torch.nn.modules.container.Sequential'>.\n",
      "[INFO] Register count_convNd() for <class 'torch.nn.modules.conv.ConvTranspose2d'>.\n",
      "[INFO] Register count_lstm() for <class 'torch.nn.modules.rnn.LSTM'>.\n",
      "[INFO] Register count_linear() for <class 'torch.nn.modules.linear.Linear'>.\n"
     ]
    },
    {
     "data": {
      "text/plain": [
       "('1.056T', '4.918M')"
      ]
     },
     "metadata": {},
     "output_type": "display_data"
    }
   ],
   "source": [
    "macs, params = profile(model, inputs=(batch[\"mixed_stft\"], batch[\"dvec_tensor\"]))\n",
    "display(clever_format([macs, params], \"%.3f\"))"
   ]
  },
  {
   "cell_type": "code",
   "execution_count": 78,
   "metadata": {},
   "outputs": [
    {
     "name": "stdout",
     "output_type": "stream",
     "text": [
      "[INFO] Register count_convNd() for <class 'torch.nn.modules.conv.Conv2d'>.\n",
      "[INFO] Register count_normalization() for <class 'torch.nn.modules.batchnorm.BatchNorm2d'>.\n",
      "[INFO] Register count_prelu() for <class 'torch.nn.modules.activation.PReLU'>.\n",
      "[INFO] Register zero_ops() for <class 'torch.nn.modules.container.Sequential'>.\n",
      "[INFO] Register count_convNd() for <class 'torch.nn.modules.conv.ConvTranspose2d'>.\n",
      "[INFO] Register count_lstm() for <class 'torch.nn.modules.rnn.LSTM'>.\n",
      "[INFO] Register count_linear() for <class 'torch.nn.modules.linear.Linear'>.\n"
     ]
    },
    {
     "data": {
      "text/plain": [
       "('66.020G', '4.918M')"
      ]
     },
     "metadata": {},
     "output_type": "display_data"
    }
   ],
   "source": [
    "macs, params = profile(model, inputs=(batch[\"mixed_stft\"][[0]], batch[\"dvec_tensor\"][[0]]))\n",
    "display(clever_format([macs, params], \"%.3f\"))"
   ]
  }
 ],
 "metadata": {
  "interpreter": {
   "hash": "d4d1e4263499bec80672ea0156c357c1ee493ec2b1c70f0acce89fc37c4a6abe"
  },
  "kernelspec": {
   "display_name": "Python 3.7.12 ('base')",
   "language": "python",
   "name": "python3"
  },
  "language_info": {
   "codemirror_mode": {
    "name": "ipython",
    "version": 3
   },
   "file_extension": ".py",
   "mimetype": "text/x-python",
   "name": "python",
   "nbconvert_exporter": "python",
   "pygments_lexer": "ipython3",
   "version": "3.7.12"
  },
  "orig_nbformat": 4
 },
 "nbformat": 4,
 "nbformat_minor": 2
}
