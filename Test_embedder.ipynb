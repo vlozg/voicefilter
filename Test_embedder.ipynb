{
 "cells": [
  {
   "cell_type": "markdown",
   "id": "2ed6be7b",
   "metadata": {},
   "source": [
    "# Import libraries & parse arguments"
   ]
  },
  {
   "cell_type": "code",
   "execution_count": 1,
   "id": "c82b69b2",
   "metadata": {},
   "outputs": [],
   "source": [
    "import os\n",
    "import glob\n",
    "import torch\n",
    "import numpy as np\n",
    "import IPython.display\n",
    "import torch\n",
    "import torch.nn as nn\n",
    "\n",
    "from model.embedder import SpeechEmbedder\n",
    "from datasets.SpeakerVerifyDataset import create_dataset\n",
    "from utils.hparams import HParam"
   ]
  },
  {
   "cell_type": "markdown",
   "id": "b78b99fb",
   "metadata": {},
   "source": [
    "# Prepare"
   ]
  },
  {
   "cell_type": "markdown",
   "id": "9060b484",
   "metadata": {},
   "source": [
    "Get all folder paths (speaker based). Format will be a single list of folder paths"
   ]
  },
  {
   "cell_type": "code",
   "execution_count": 2,
   "metadata": {},
   "outputs": [
    {
     "name": "stderr",
     "output_type": "stream",
     "text": [
      "/root/voicefilter/utils/hparams.py:18: YAMLLoadWarning: calling yaml.load_all() without Loader=... is deprecated, as the default Loader is unsafe. Please read https://msg.pyyaml.org/load for full details.\n",
      "  for doc in docs:\n"
     ]
    }
   ],
   "source": [
    "hp = HParam(\"config.yaml\")"
   ]
  },
  {
   "cell_type": "code",
   "execution_count": 3,
   "id": "4534eb87",
   "metadata": {},
   "outputs": [],
   "source": [
    "from torch.utils.data import DataLoader\n",
    "from torch.nn.utils.rnn import pad_sequence\n",
    "\n",
    "def test_cuda_collate_fn(batch):\n",
    "    dvec_list = list()\n",
    "    target_wav_list = list()\n",
    "    mixed_wav_list = list()\n",
    "    target_stft_list = list()\n",
    "    mixed_stft_list = list()\n",
    "    mixed_mag_list = list()\n",
    "    target_mag_list = list()\n",
    "    mixed_phase_list = list()\n",
    "    target_phase_list = list()\n",
    "    \n",
    "    for _, _, _, dvec_mel, target_wav, mixed_wav, target_mag, target_phase, mixed_mag, mixed_phase, target_stft, mixed_stft, *_ in batch:\n",
    "        dvec_list.append(dvec_mel)\n",
    "        target_wav_list.append(target_wav)\n",
    "        mixed_wav_list.append(mixed_wav)\n",
    "        target_stft_list.append(target_stft)\n",
    "        mixed_stft_list.append(mixed_stft)\n",
    "        mixed_mag_list.append(mixed_mag)\n",
    "        mixed_phase_list.append(mixed_phase)\n",
    "        target_mag_list.append(target_mag)\n",
    "        target_phase_list.append(target_phase)\n",
    "    target_stft_list = pad_sequence(target_stft_list, batch_first=True)\n",
    "    mixed_stft_list = pad_sequence(mixed_stft_list, batch_first=True)\n",
    "    mixed_mag_list = pad_sequence(mixed_mag_list, batch_first=True)\n",
    "    mixed_phase_list = pad_sequence(mixed_phase_list, batch_first=True)\n",
    "    target_mag_list = pad_sequence(target_mag_list, batch_first=True)\n",
    "    target_phase_list = pad_sequence(target_phase_list, batch_first=True)\n",
    "\n",
    "    return dvec_list, target_mag_list, target_phase_list, \\\n",
    "        mixed_mag_list, mixed_phase_list, \\\n",
    "        target_stft_list, mixed_stft_list, \\\n",
    "        target_wav_list, mixed_wav_list"
   ]
  },
  {
   "cell_type": "code",
   "execution_count": 4,
   "metadata": {},
   "outputs": [],
   "source": [
    "dataset = create_dataset(hp, [\"vin\", \"zalo-train\", \"zalo-test\"], train=False, size=5000)\n",
    "# dataloader = DataLoader(dataset=dataset,\n",
    "#             batch_size=hp.train.batch_size,\n",
    "#             shuffle=False,\n",
    "#             num_workers=0,\n",
    "#             collate_fn=test_cuda_collate_fn,\n",
    "#             pin_memory=True,\n",
    "#             drop_last=True,\n",
    "#             sampler=None)"
   ]
  },
  {
   "cell_type": "markdown",
   "id": "6f7b7121",
   "metadata": {},
   "source": [
    "# Main"
   ]
  },
  {
   "cell_type": "code",
   "execution_count": 26,
   "metadata": {},
   "outputs": [
    {
     "data": {
      "text/plain": [
       "SpeechEmbedder(\n",
       "  (lstm): LSTM(40, 768, num_layers=3, batch_first=True)\n",
       "  (proj): LinearNorm(\n",
       "    (linear_layer): Linear(in_features=768, out_features=256, bias=True)\n",
       "  )\n",
       ")"
      ]
     },
     "execution_count": 26,
     "metadata": {},
     "output_type": "execute_result"
    }
   ],
   "source": [
    "embedder_pt = torch.load('embedder.pt',map_location=\"cpu\")\n",
    "embedder = SpeechEmbedder(hp)\n",
    "embedder.load_state_dict(embedder_pt)\n",
    "embedder.eval()"
   ]
  },
  {
   "cell_type": "code",
   "execution_count": 50,
   "metadata": {},
   "outputs": [
    {
     "data": {
      "text/plain": [
       "('datasets/VinBigdata/dataset/50342/50342/vinfast-vsmart-000005356-50342-GiaLai-MienTrung-2001-nam-vinfast-vsmart-1.wav',\n",
       " 'datasets/VinBigdata/dataset/47530/47530/vinfast-vsmart-000000018-47530-PhuYen-MienTrung-2001-nu-vinfast-vsmart-1.wav',\n",
       " array([ 0.00198364,  0.00241089,  0.00131226, ..., -0.00140381,\n",
       "        -0.00073242, -0.00042725], dtype=float32),\n",
       " array([-0.00735474, -0.00769043, -0.0071106 , ...,  0.00170898,\n",
       "         0.00256348,  0.00247192], dtype=float32),\n",
       " tensor([[-4.9013, -4.5955, -5.3387,  ..., -4.0752, -4.4549, -4.4051],\n",
       "         [-4.1383, -3.4309, -3.4957,  ..., -3.7286, -3.6627, -3.7890],\n",
       "         [-3.9467, -3.3487, -2.9375,  ..., -3.3519, -2.8895, -3.7211],\n",
       "         ...,\n",
       "         [-5.9687, -5.9710, -5.9754,  ..., -5.9916, -5.9917, -5.9955],\n",
       "         [-5.9884, -5.9813, -5.9787,  ..., -5.9924, -5.9955, -5.9968],\n",
       "         [-5.9933, -5.9928, -5.9901,  ..., -5.9969, -5.9977, -5.9972]]),\n",
       " tensor([[-3.8609, -2.3340, -3.1069,  ..., -3.8614, -4.0769, -3.4283],\n",
       "         [-2.4869, -2.2686, -2.3673,  ..., -3.0745, -2.9148, -2.8314],\n",
       "         [-2.5496, -2.5852, -2.0681,  ..., -2.9923, -3.1146, -3.0492],\n",
       "         ...,\n",
       "         [-5.7512, -5.7241, -5.8505,  ..., -5.9333, -5.9455, -5.9385],\n",
       "         [-5.8612, -5.8701, -5.9270,  ..., -5.9637, -5.9653, -5.9785],\n",
       "         [-5.9189, -5.9219, -5.8769,  ..., -5.9653, -5.9807, -5.9837]]),\n",
       " 0)"
      ]
     },
     "execution_count": 50,
     "metadata": {},
     "output_type": "execute_result"
    }
   ],
   "source": [
    "s1_path, s2_path, w1, w2, m1, m2, label = dataset[0]\n",
    "s1_path, s2_path, w1, w2, m1, m2, label"
   ]
  },
  {
   "cell_type": "code",
   "execution_count": 51,
   "metadata": {},
   "outputs": [
    {
     "name": "stdout",
     "output_type": "stream",
     "text": [
      "CPU times: user 676 ms, sys: 0 ns, total: 676 ms\n",
      "Wall time: 88.2 ms\n"
     ]
    }
   ],
   "source": [
    "%%time\n",
    "with torch.no_grad():\n",
    "    e1 = embedder(m1)\n",
    "    e2 = embedder(m2)"
   ]
  },
  {
   "cell_type": "code",
   "execution_count": 46,
   "metadata": {},
   "outputs": [
    {
     "data": {
      "text/plain": [
       "tensor(0.2714)"
      ]
     },
     "execution_count": 46,
     "metadata": {},
     "output_type": "execute_result"
    }
   ],
   "source": [
    "cos = nn.CosineSimilarity(dim=0, eps=1e-6)\n",
    "cos(e1, e2)"
   ]
  },
  {
   "cell_type": "code",
   "execution_count": 47,
   "metadata": {},
   "outputs": [
    {
     "data": {
      "text/plain": [
       "('datasets/ZaloAI2020/dataset/778/778-M-32/16k_778-19.wav',\n",
       " 'datasets/ZaloAI2020/dataset/778/778-M-32/16k_778-15.wav',\n",
       " array([0.00527954, 0.00479126, 0.00393677, ..., 0.13638306, 0.12109375,\n",
       "        0.09823608], dtype=float32),\n",
       " array([-0.03295898, -0.04537964, -0.05502319, ...,  0.00564575,\n",
       "         0.00360107,  0.00280762], dtype=float32),\n",
       " tensor([[-4.2474, -4.2779, -3.7135,  ..., -1.5296, -1.4251, -1.4271],\n",
       "         [-4.5471, -3.4002, -3.5165,  ..., -0.4919, -0.4581, -0.7764],\n",
       "         [-3.2152, -3.1525, -3.0869,  ..., -0.8979, -0.5293, -0.3553],\n",
       "         ...,\n",
       "         [-5.6950, -5.6447, -5.8377,  ..., -4.2674, -4.5451, -4.7328],\n",
       "         [-5.6883, -5.7253, -5.8072,  ..., -4.7223, -5.1005, -4.9832],\n",
       "         [-5.7419, -5.6521, -5.7444,  ..., -4.6509, -5.0025, -4.5425]]),\n",
       " tensor([[-1.1114, -2.7350, -3.2541,  ..., -4.2496, -4.0953, -3.7908],\n",
       "         [-0.3636, -1.0051, -1.7304,  ..., -4.0409, -3.0040, -3.2805],\n",
       "         [-0.5969, -1.0250, -1.8861,  ..., -3.1058, -2.4862, -3.1124],\n",
       "         ...,\n",
       "         [-3.9087, -5.1605, -5.7151,  ..., -5.9062, -5.8256, -5.9190],\n",
       "         [-4.0043, -5.1719, -5.6559,  ..., -5.8583, -5.8244, -5.8326],\n",
       "         [-4.2647, -5.2418, -5.4952,  ..., -5.8383, -5.6228, -5.7643]]),\n",
       " 1)"
      ]
     },
     "execution_count": 47,
     "metadata": {},
     "output_type": "execute_result"
    }
   ],
   "source": [
    "s1_path, s2_path, w1, w2, m1, m2, label = dataset[1]\n",
    "s1_path, s2_path, w1, w2, m1, m2, label"
   ]
  },
  {
   "cell_type": "code",
   "execution_count": 48,
   "metadata": {},
   "outputs": [],
   "source": [
    "with torch.no_grad():\n",
    "    e1 = embedder(m1)\n",
    "    e2 = embedder(m2)"
   ]
  },
  {
   "cell_type": "code",
   "execution_count": 49,
   "metadata": {},
   "outputs": [
    {
     "data": {
      "text/plain": [
       "tensor(0.5904)"
      ]
     },
     "execution_count": 49,
     "metadata": {},
     "output_type": "execute_result"
    }
   ],
   "source": [
    "cos = nn.CosineSimilarity(dim=0, eps=1e-6)\n",
    "cos(e1, e2)"
   ]
  }
 ],
 "metadata": {
  "interpreter": {
   "hash": "4ed27c33f293ca8c3697f2b328444ff97f02b44e95d63e9588b837d1a5300422"
  },
  "kernelspec": {
   "display_name": "Python 3.8.0 64-bit ('venv': virtualenv)",
   "language": "python",
   "name": "python3"
  },
  "language_info": {
   "codemirror_mode": {
    "name": "ipython",
    "version": 3
   },
   "file_extension": ".py",
   "mimetype": "text/x-python",
   "name": "python",
   "nbconvert_exporter": "python",
   "pygments_lexer": "ipython3",
   "version": "3.8.0"
  },
  "orig_nbformat": 4
 },
 "nbformat": 4,
 "nbformat_minor": 2
}
