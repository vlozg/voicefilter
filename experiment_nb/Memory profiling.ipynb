{
 "cells": [
  {
   "cell_type": "code",
   "execution_count": 1,
   "id": "5e65e118",
   "metadata": {},
   "outputs": [],
   "source": [
    "import os\n",
    "import time\n",
    "import logging\n",
    "import argparse\n",
    "\n",
    "from utils.hparams import HParam\n",
    "from utils.writer import MyWriter\n",
    "from datasets.dataloader import create_dataloader"
   ]
  },
  {
   "cell_type": "code",
   "execution_count": 2,
   "id": "815ca8ef",
   "metadata": {},
   "outputs": [],
   "source": [
    "parser = argparse.ArgumentParser()\n",
    "parser.add_argument('-b', '--base_dir', type=str, default='.',\n",
    "                    help=\"Root directory of run.\")\n",
    "parser.add_argument('-c', '--config', type=str, required=True,\n",
    "                    help=\"yaml file for configuration\")\n",
    "parser.add_argument('-e', '--embedder_path', type=str, required=True,\n",
    "                    help=\"path of embedder model pt file\")\n",
    "parser.add_argument('--checkpoint_path', type=str, default=None,\n",
    "                    help=\"path of checkpoint pt file\")\n",
    "parser.add_argument('-m', '--model', type=str, required=True,\n",
    "                    help=\"Name of the model. Used for both logging and saving checkpoints.\")\n",
    "args = parser.parse_args([\"-c\", \"config.yaml\", \"-e\", \"embedder.pt\", \"-m\", \"first_try\"])\n",
    "hp = HParam(args.config)"
   ]
  },
  {
   "cell_type": "code",
   "execution_count": 3,
   "id": "ddc14f2d",
   "metadata": {},
   "outputs": [],
   "source": [
    "with open(args.config, 'r') as f:\n",
    "    # store hparams as string\n",
    "    hp_str = ''.join(f.readlines())\n",
    "\n",
    "pt_dir = os.path.join(args.base_dir, hp.log.chkpt_dir, args.model)\n",
    "os.makedirs(pt_dir, exist_ok=True)\n",
    "\n",
    "log_dir = os.path.join(args.base_dir, hp.log.log_dir, args.model)\n",
    "os.makedirs(log_dir, exist_ok=True)\n",
    "\n",
    "chkpt_path = args.checkpoint_path if args.checkpoint_path is not None else None\n",
    "\n",
    "logging.basicConfig(\n",
    "    level=logging.INFO,\n",
    "    format='%(asctime)s - %(levelname)s - %(message)s',\n",
    "    handlers=[\n",
    "        logging.FileHandler(os.path.join(log_dir,\n",
    "            '%s-%d.log' % (args.model, time.time()))),\n",
    "        logging.StreamHandler()\n",
    "    ]\n",
    ")\n",
    "logger = logging.getLogger()\n",
    "\n",
    "if hp.data.train_dir == '' or hp.data.test_dir == '':\n",
    "    logger.error(\"train_dir, test_dir cannot be empty.\")\n",
    "    raise Exception(\"Please specify directories of data in %s\" % args.config)\n",
    "\n",
    "writer = MyWriter(hp, log_dir)\n",
    "\n",
    "trainloader = create_dataloader(hp, args, train=True)\n",
    "testloader = create_dataloader(hp, args, train=False)"
   ]
  },
  {
   "cell_type": "code",
   "execution_count": 4,
   "id": "a1d42559",
   "metadata": {},
   "outputs": [],
   "source": [
    "import os\n",
    "import math\n",
    "import torch\n",
    "import torch.nn as nn\n",
    "import traceback\n",
    "\n",
    "from utils.adabound import AdaBound\n",
    "from utils.audio import Audio\n",
    "from utils.evaluation import validate\n",
    "from model.model import VoiceFilter\n",
    "from model.embedder import SpeechEmbedder\n",
    "from utils.power_law_loss import PowerLawCompLoss\n",
    "from utils.gdrive import GDrive"
   ]
  },
  {
   "cell_type": "code",
   "execution_count": 5,
   "id": "30306cee",
   "metadata": {},
   "outputs": [
    {
     "name": "stdout",
     "output_type": "stream",
     "text": [
      "|===========================================================================|\n",
      "|                  PyTorch CUDA memory summary, device ID 0                 |\n",
      "|---------------------------------------------------------------------------|\n",
      "|            CUDA OOMs: 0            |        cudaMalloc retries: 0         |\n",
      "|===========================================================================|\n",
      "|        Metric         | Cur Usage  | Peak Usage | Tot Alloc  | Tot Freed  |\n",
      "|---------------------------------------------------------------------------|\n",
      "| Allocated memory      |       0 B  |       0 B  |       0 B  |       0 B  |\n",
      "|       from large pool |       0 B  |       0 B  |       0 B  |       0 B  |\n",
      "|       from small pool |       0 B  |       0 B  |       0 B  |       0 B  |\n",
      "|---------------------------------------------------------------------------|\n",
      "| Active memory         |       0 B  |       0 B  |       0 B  |       0 B  |\n",
      "|       from large pool |       0 B  |       0 B  |       0 B  |       0 B  |\n",
      "|       from small pool |       0 B  |       0 B  |       0 B  |       0 B  |\n",
      "|---------------------------------------------------------------------------|\n",
      "| GPU reserved memory   |       0 B  |       0 B  |       0 B  |       0 B  |\n",
      "|       from large pool |       0 B  |       0 B  |       0 B  |       0 B  |\n",
      "|       from small pool |       0 B  |       0 B  |       0 B  |       0 B  |\n",
      "|---------------------------------------------------------------------------|\n",
      "| Non-releasable memory |       0 B  |       0 B  |       0 B  |       0 B  |\n",
      "|       from large pool |       0 B  |       0 B  |       0 B  |       0 B  |\n",
      "|       from small pool |       0 B  |       0 B  |       0 B  |       0 B  |\n",
      "|---------------------------------------------------------------------------|\n",
      "| Allocations           |       0    |       0    |       0    |       0    |\n",
      "|       from large pool |       0    |       0    |       0    |       0    |\n",
      "|       from small pool |       0    |       0    |       0    |       0    |\n",
      "|---------------------------------------------------------------------------|\n",
      "| Active allocs         |       0    |       0    |       0    |       0    |\n",
      "|       from large pool |       0    |       0    |       0    |       0    |\n",
      "|       from small pool |       0    |       0    |       0    |       0    |\n",
      "|---------------------------------------------------------------------------|\n",
      "| GPU reserved segments |       0    |       0    |       0    |       0    |\n",
      "|       from large pool |       0    |       0    |       0    |       0    |\n",
      "|       from small pool |       0    |       0    |       0    |       0    |\n",
      "|---------------------------------------------------------------------------|\n",
      "| Non-releasable allocs |       0    |       0    |       0    |       0    |\n",
      "|       from large pool |       0    |       0    |       0    |       0    |\n",
      "|       from small pool |       0    |       0    |       0    |       0    |\n",
      "|---------------------------------------------------------------------------|\n",
      "| Oversize allocations  |       0    |       0    |       0    |       0    |\n",
      "|---------------------------------------------------------------------------|\n",
      "| Oversize GPU segments |       0    |       0    |       0    |       0    |\n",
      "|===========================================================================|\n",
      "\n"
     ]
    }
   ],
   "source": [
    "print(torch.cuda.memory_summary())"
   ]
  },
  {
   "cell_type": "code",
   "execution_count": 6,
   "id": "6ae50991",
   "metadata": {},
   "outputs": [
    {
     "name": "stdout",
     "output_type": "stream",
     "text": [
      "|===========================================================================|\n",
      "|                  PyTorch CUDA memory summary, device ID 0                 |\n",
      "|---------------------------------------------------------------------------|\n",
      "|            CUDA OOMs: 0            |        cudaMalloc retries: 0         |\n",
      "|===========================================================================|\n",
      "|        Metric         | Cur Usage  | Peak Usage | Tot Alloc  | Tot Freed  |\n",
      "|---------------------------------------------------------------------------|\n",
      "| Allocated memory      |   95746 KB |  141609 KB |  142378 KB |   46632 KB |\n",
      "|       from large pool |   94208 KB |  140288 KB |  140288 KB |   46080 KB |\n",
      "|       from small pool |    1538 KB |    1538 KB |    2090 KB |     552 KB |\n",
      "|---------------------------------------------------------------------------|\n",
      "| Active memory         |   95746 KB |  141609 KB |  142378 KB |   46632 KB |\n",
      "|       from large pool |   94208 KB |  140288 KB |  140288 KB |   46080 KB |\n",
      "|       from small pool |    1538 KB |    1538 KB |    2090 KB |     552 KB |\n",
      "|---------------------------------------------------------------------------|\n",
      "| GPU reserved memory   |  157696 KB |  157696 KB |  157696 KB |       0 B  |\n",
      "|       from large pool |  155648 KB |  155648 KB |  155648 KB |       0 B  |\n",
      "|       from small pool |    2048 KB |    2048 KB |    2048 KB |       0 B  |\n",
      "|---------------------------------------------------------------------------|\n",
      "| Non-releasable memory |  522240 B  |   25807 KB |   54056 KB |   53546 KB |\n",
      "|       from large pool |       0 B  |   24576 KB |   52224 KB |   52224 KB |\n",
      "|       from small pool |  522240 B  |    1280 KB |    1832 KB |    1322 KB |\n",
      "|---------------------------------------------------------------------------|\n",
      "| Allocations           |       6    |      16    |      18    |      12    |\n",
      "|       from large pool |       2    |       7    |       7    |       5    |\n",
      "|       from small pool |       4    |       9    |      11    |       7    |\n",
      "|---------------------------------------------------------------------------|\n",
      "| Active allocs         |       6    |      16    |      18    |      12    |\n",
      "|       from large pool |       2    |       7    |       7    |       5    |\n",
      "|       from small pool |       4    |       9    |      11    |       7    |\n",
      "|---------------------------------------------------------------------------|\n",
      "| GPU reserved segments |       6    |       6    |       6    |       0    |\n",
      "|       from large pool |       5    |       5    |       5    |       0    |\n",
      "|       from small pool |       1    |       1    |       1    |       0    |\n",
      "|---------------------------------------------------------------------------|\n",
      "| Non-releasable allocs |       1    |       6    |       7    |       6    |\n",
      "|       from large pool |       0    |       4    |       5    |       5    |\n",
      "|       from small pool |       1    |       2    |       2    |       1    |\n",
      "|---------------------------------------------------------------------------|\n",
      "| Oversize allocations  |       0    |       0    |       0    |       0    |\n",
      "|---------------------------------------------------------------------------|\n",
      "| Oversize GPU segments |       0    |       0    |       0    |       0    |\n",
      "|===========================================================================|\n",
      "\n"
     ]
    }
   ],
   "source": [
    "# load embedder\n",
    "embedder_pt = torch.load(args.embedder_path)\n",
    "embedder = SpeechEmbedder(hp).cuda()\n",
    "embedder.load_state_dict(embedder_pt)\n",
    "embedder.eval()\n",
    "\n",
    "print(torch.cuda.memory_summary())"
   ]
  },
  {
   "cell_type": "code",
   "execution_count": 7,
   "id": "57ee3278",
   "metadata": {},
   "outputs": [
    {
     "name": "stdout",
     "output_type": "stream",
     "text": [
      "|===========================================================================|\n",
      "|                  PyTorch CUDA memory summary, device ID 0                 |\n",
      "|---------------------------------------------------------------------------|\n",
      "|            CUDA OOMs: 0            |        cudaMalloc retries: 0         |\n",
      "|===========================================================================|\n",
      "|        Metric         | Cur Usage  | Peak Usage | Tot Alloc  | Tot Freed  |\n",
      "|---------------------------------------------------------------------------|\n",
      "| Allocated memory      |  169500 KB |  234537 KB |  284458 KB |  114958 KB |\n",
      "|       from large pool |  165817 KB |  230833 KB |  280197 KB |  114380 KB |\n",
      "|       from small pool |    3683 KB |    3704 KB |    4261 KB |     578 KB |\n",
      "|---------------------------------------------------------------------------|\n",
      "| Active memory         |  169500 KB |  234537 KB |  284458 KB |  114958 KB |\n",
      "|       from large pool |  165817 KB |  230833 KB |  280197 KB |  114380 KB |\n",
      "|       from small pool |    3683 KB |    3704 KB |    4261 KB |     578 KB |\n",
      "|---------------------------------------------------------------------------|\n",
      "| GPU reserved memory   |  294912 KB |  294912 KB |  294912 KB |       0 B  |\n",
      "|       from large pool |  290816 KB |  290816 KB |  290816 KB |       0 B  |\n",
      "|       from small pool |    4096 KB |    4096 KB |    4096 KB |       0 B  |\n",
      "|---------------------------------------------------------------------------|\n",
      "| Non-releasable memory |   18916 KB |   25807 KB |   98358 KB |   79442 KB |\n",
      "|       from large pool |   18503 KB |   24576 KB |   94852 KB |   76349 KB |\n",
      "|       from small pool |     413 KB |    2038 KB |    3506 KB |    3093 KB |\n",
      "|---------------------------------------------------------------------------|\n",
      "| Allocations           |      67    |      71    |      87    |      20    |\n",
      "|       from large pool |       5    |       7    |      14    |       9    |\n",
      "|       from small pool |      62    |      64    |      73    |      11    |\n",
      "|---------------------------------------------------------------------------|\n",
      "| Active allocs         |      67    |      71    |      87    |      20    |\n",
      "|       from large pool |       5    |       7    |      14    |       9    |\n",
      "|       from small pool |      62    |      64    |      73    |      11    |\n",
      "|---------------------------------------------------------------------------|\n",
      "| GPU reserved segments |      10    |      10    |      10    |       0    |\n",
      "|       from large pool |       8    |       8    |       8    |       0    |\n",
      "|       from small pool |       2    |       2    |       2    |       0    |\n",
      "|---------------------------------------------------------------------------|\n",
      "| Non-releasable allocs |       4    |       7    |      15    |      11    |\n",
      "|       from large pool |       2    |       4    |      11    |       9    |\n",
      "|       from small pool |       2    |       3    |       4    |       2    |\n",
      "|---------------------------------------------------------------------------|\n",
      "| Oversize allocations  |       0    |       0    |       0    |       0    |\n",
      "|---------------------------------------------------------------------------|\n",
      "| Oversize GPU segments |       0    |       0    |       0    |       0    |\n",
      "|===========================================================================|\n",
      "\n"
     ]
    }
   ],
   "source": [
    "audio = Audio(hp)\n",
    "model = VoiceFilter(hp).cuda()\n",
    "if hp.train.optimizer == 'adabound':\n",
    "    optimizer = AdaBound(model.parameters(),\n",
    "                         lr=hp.train.adabound.initial,\n",
    "                         final_lr=hp.train.adabound.final)\n",
    "elif hp.train.optimizer == 'adam':\n",
    "    optimizer = torch.optim.Adam(model.parameters(),\n",
    "                                 lr=hp.train.adam)\n",
    "else:\n",
    "    raise Exception(\"%s optimizer not supported\" % hp.train.optimizer)\n",
    "\n",
    "step = 0\n",
    "\n",
    "print(torch.cuda.memory_summary())"
   ]
  },
  {
   "cell_type": "code",
   "execution_count": 8,
   "id": "b3298581",
   "metadata": {},
   "outputs": [
    {
     "name": "stderr",
     "output_type": "stream",
     "text": [
      "2021-11-24 17:00:18,393 - INFO - Starting new training run\n"
     ]
    }
   ],
   "source": [
    "logger.info(\"Starting new training run\")\n",
    "\n",
    "criterion = nn.MSELoss()\n",
    "_criterion = PowerLawCompLoss()"
   ]
  },
  {
   "cell_type": "code",
   "execution_count": 9,
   "id": "dc8d8096",
   "metadata": {},
   "outputs": [
    {
     "data": {
      "text/plain": [
       "VoiceFilter(\n",
       "  (conv): Sequential(\n",
       "    (0): ZeroPad2d(padding=(3, 3, 0, 0), value=0.0)\n",
       "    (1): Conv2d(1, 64, kernel_size=(1, 7), stride=(1, 1))\n",
       "    (2): BatchNorm2d(64, eps=1e-05, momentum=0.1, affine=True, track_running_stats=True)\n",
       "    (3): ReLU()\n",
       "    (4): ZeroPad2d(padding=(0, 0, 3, 3), value=0.0)\n",
       "    (5): Conv2d(64, 64, kernel_size=(7, 1), stride=(1, 1))\n",
       "    (6): BatchNorm2d(64, eps=1e-05, momentum=0.1, affine=True, track_running_stats=True)\n",
       "    (7): ReLU()\n",
       "    (8): ZeroPad2d(padding=(2, 2, 2, 2), value=0.0)\n",
       "    (9): Conv2d(64, 64, kernel_size=(5, 5), stride=(1, 1))\n",
       "    (10): BatchNorm2d(64, eps=1e-05, momentum=0.1, affine=True, track_running_stats=True)\n",
       "    (11): ReLU()\n",
       "    (12): ZeroPad2d(padding=(2, 2, 4, 4), value=0.0)\n",
       "    (13): Conv2d(64, 64, kernel_size=(5, 5), stride=(1, 1), dilation=(2, 1))\n",
       "    (14): BatchNorm2d(64, eps=1e-05, momentum=0.1, affine=True, track_running_stats=True)\n",
       "    (15): ReLU()\n",
       "    (16): ZeroPad2d(padding=(2, 2, 8, 8), value=0.0)\n",
       "    (17): Conv2d(64, 64, kernel_size=(5, 5), stride=(1, 1), dilation=(4, 1))\n",
       "    (18): BatchNorm2d(64, eps=1e-05, momentum=0.1, affine=True, track_running_stats=True)\n",
       "    (19): ReLU()\n",
       "    (20): ZeroPad2d(padding=(2, 2, 16, 16), value=0.0)\n",
       "    (21): Conv2d(64, 64, kernel_size=(5, 5), stride=(1, 1), dilation=(8, 1))\n",
       "    (22): BatchNorm2d(64, eps=1e-05, momentum=0.1, affine=True, track_running_stats=True)\n",
       "    (23): ReLU()\n",
       "    (24): ZeroPad2d(padding=(2, 2, 32, 32), value=0.0)\n",
       "    (25): Conv2d(64, 64, kernel_size=(5, 5), stride=(1, 1), dilation=(16, 1))\n",
       "    (26): BatchNorm2d(64, eps=1e-05, momentum=0.1, affine=True, track_running_stats=True)\n",
       "    (27): ReLU()\n",
       "    (28): Conv2d(64, 8, kernel_size=(1, 1), stride=(1, 1))\n",
       "    (29): BatchNorm2d(8, eps=1e-05, momentum=0.1, affine=True, track_running_stats=True)\n",
       "    (30): ReLU()\n",
       "  )\n",
       "  (lstm): LSTM(5064, 400, batch_first=True, bidirectional=True)\n",
       "  (fc1): Linear(in_features=800, out_features=600, bias=True)\n",
       "  (fc2): Linear(in_features=600, out_features=601, bias=True)\n",
       ")"
      ]
     },
     "execution_count": 9,
     "metadata": {},
     "output_type": "execute_result"
    }
   ],
   "source": [
    "model.train()"
   ]
  },
  {
   "cell_type": "code",
   "execution_count": 10,
   "id": "8208acff",
   "metadata": {},
   "outputs": [
    {
     "name": "stdout",
     "output_type": "stream",
     "text": [
      "173.568 MB\n"
     ]
    }
   ],
   "source": [
    "def get_gpu_allocated():\n",
    "    print(torch.cuda.memory_allocated()/10**6, \"MB\")\n",
    "\n",
    "get_gpu_allocated()"
   ]
  },
  {
   "cell_type": "code",
   "execution_count": 11,
   "id": "20af48fd",
   "metadata": {},
   "outputs": [],
   "source": [
    "import asyncio\n",
    "import time"
   ]
  },
  {
   "cell_type": "code",
   "execution_count": 12,
   "id": "ac153ad8",
   "metadata": {},
   "outputs": [],
   "source": [
    "async def UploadToDrive(drive,save_path):\n",
    "    print(f\"started backup at{time.strftime('%X')}\")\n",
    "    drive.Upload(save_path, \"1sWAUt5vfyD97Cq85J8_zuwMeX4tmfEiZ\")\n",
    "    print(f\"finished backup at{time.strftime('%X')}\")"
   ]
  },
  {
   "cell_type": "code",
   "execution_count": 13,
   "id": "dd4fbb67",
   "metadata": {
    "scrolled": true
   },
   "outputs": [
    {
     "name": "stdout",
     "output_type": "stream",
     "text": [
      "After input to cuda: 179.357696 MB\n",
      "\bAfter single dvec to cuda: 189.145088 MB\n",
      "\bAfter single dvec to cuda: 197.579264 MB\n",
      "\bAfter single dvec to cuda: 207.099904 MB\n",
      "\bAfter single dvec to cuda: 217.975808 MB\n",
      "After dvec to cuda: 217.979904 MB\n",
      "After forward to cuda: 4124.961792 MB\n",
      "After input to cuda: 299.422208 MB\n",
      "\bAfter single dvec to cuda: 271.133184 MB\n",
      "\bAfter single dvec to cuda: 279.563776 MB\n",
      "\bAfter single dvec to cuda: 288.269824 MB\n",
      "\bAfter single dvec to cuda: 293.425664 MB\n",
      "After dvec to cuda: 293.42976 MB\n",
      "After forward to cuda: 4192.329728 MB\n"
     ]
    },
    {
     "name": "stderr",
     "output_type": "stream",
     "text": [
      "2021-11-24 17:00:19,788 - INFO - Wrote summary at step 1\n"
     ]
    },
    {
     "name": "stdout",
     "output_type": "stream",
     "text": [
      "After input to cuda: 445.507072 MB\n",
      "\bAfter single dvec to cuda: 423.109632 MB\n",
      "\bAfter single dvec to cuda: 430.996992 MB\n",
      "\bAfter single dvec to cuda: 439.698432 MB\n",
      "\bAfter single dvec to cuda: 448.40192 MB\n",
      "After dvec to cuda: 448.406016 MB\n",
      "After forward to cuda: 4347.930624 MB\n",
      "After input to cuda: 448.406016 MB\n",
      "\bAfter single dvec to cuda: 423.161344 MB\n",
      "\bAfter single dvec to cuda: 434.369024 MB\n",
      "\bAfter single dvec to cuda: 443.888128 MB\n",
      "\bAfter single dvec to cuda: 454.222848 MB\n",
      "After dvec to cuda: 454.226944 MB\n",
      "After forward to cuda: 4355.277824 MB\n"
     ]
    },
    {
     "name": "stderr",
     "output_type": "stream",
     "text": [
      "2021-11-24 17:00:20,491 - INFO - Wrote summary at step 2\n"
     ]
    },
    {
     "name": "stdout",
     "output_type": "stream",
     "text": [
      "After input to cuda: 455.781888 MB\n",
      "\bAfter single dvec to cuda: 424.689152 MB\n",
      "\bAfter single dvec to cuda: 430.677504 MB\n",
      "\bAfter single dvec to cuda: 439.926272 MB\n",
      "\bAfter single dvec to cuda: 445.57568 MB\n",
      "After dvec to cuda: 445.579776 MB\n",
      "After forward to cuda: 4344.21504 MB\n",
      "After input to cuda: 444.781056 MB\n",
      "\bAfter single dvec to cuda: 423.94368 MB\n",
      "\bAfter single dvec to cuda: 433.46176 MB\n",
      "\bAfter single dvec to cuda: 442.976256 MB\n",
      "\bAfter single dvec to cuda: 447.606784 MB\n",
      "After dvec to cuda: 447.61088 MB\n",
      "After forward to cuda: 4347.542016 MB\n"
     ]
    },
    {
     "name": "stderr",
     "output_type": "stream",
     "text": [
      "2021-11-24 17:00:21,189 - INFO - Wrote summary at step 3\n"
     ]
    },
    {
     "name": "stdout",
     "output_type": "stream",
     "text": [
      "After input to cuda: 447.289856 MB\n",
      "\bAfter single dvec to cuda: 423.648256 MB\n",
      "\bAfter single dvec to cuda: 431.263232 MB\n",
      "\bAfter single dvec to cuda: 439.968768 MB\n",
      "\bAfter single dvec to cuda: 450.30144 MB\n",
      "After dvec to cuda: 450.305536 MB\n",
      "After forward to cuda: 4351.205376 MB\n",
      "After input to cuda: 449.870336 MB\n",
      "\bAfter single dvec to cuda: 423.184896 MB\n",
      "\bAfter single dvec to cuda: 433.245184 MB\n",
      "\bAfter single dvec to cuda: 434.341376 MB\n",
      "\bAfter single dvec to cuda: 442.771456 MB\n",
      "After dvec to cuda: 442.775552 MB\n",
      "After forward to cuda: 4342.907392 MB\n"
     ]
    },
    {
     "name": "stderr",
     "output_type": "stream",
     "text": [
      "2021-11-24 17:00:21,886 - INFO - Wrote summary at step 4\n"
     ]
    },
    {
     "name": "stdout",
     "output_type": "stream",
     "text": [
      "After input to cuda: 442.775552 MB\n",
      "\bAfter single dvec to cuda: 423.156736 MB\n",
      "\bAfter single dvec to cuda: 431.396864 MB\n",
      "\bAfter single dvec to cuda: 441.457152 MB\n",
      "\bAfter single dvec to cuda: 449.888768 MB\n",
      "After dvec to cuda: 449.892864 MB\n",
      "After forward to cuda: 4349.985792 MB\n",
      "After input to cuda: 450.499072 MB\n",
      "\bAfter single dvec to cuda: 423.764992 MB\n",
      "\bAfter single dvec to cuda: 433.00864 MB\n",
      "\bAfter single dvec to cuda: 442.525184 MB\n",
      "\bAfter single dvec to cuda: 445.252608 MB\n",
      "After dvec to cuda: 445.256704 MB\n",
      "After forward to cuda: 4346.107392 MB\n"
     ]
    },
    {
     "name": "stderr",
     "output_type": "stream",
     "text": [
      "2021-11-24 17:00:22,586 - INFO - Wrote summary at step 5\n"
     ]
    },
    {
     "name": "stdout",
     "output_type": "stream",
     "text": [
      "After input to cuda: 446.005248 MB\n",
      "\bAfter single dvec to cuda: 424.46336 MB\n",
      "\bAfter single dvec to cuda: 434.525696 MB\n",
      "\bAfter single dvec to cuda: 443.229184 MB\n",
      "\bAfter single dvec to cuda: 450.302464 MB\n",
      "After dvec to cuda: 450.30656 MB\n",
      "After forward to cuda: 4350.721536 MB\n",
      "After input to cuda: 449.716736 MB\n",
      "\bAfter single dvec to cuda: 423.95136 MB\n",
      "\bAfter single dvec to cuda: 433.88672 MB\n",
      "\bAfter single dvec to cuda: 443.401728 MB\n",
      "\bAfter single dvec to cuda: 453.462528 MB\n",
      "After dvec to cuda: 453.466624 MB\n",
      "After forward to cuda: 4353.810432 MB\n"
     ]
    },
    {
     "name": "stderr",
     "output_type": "stream",
     "text": [
      "2021-11-24 17:00:23,288 - INFO - Wrote summary at step 6\n"
     ]
    },
    {
     "name": "stdout",
     "output_type": "stream",
     "text": [
      "After input to cuda: 452.701696 MB\n",
      "\bAfter single dvec to cuda: 417.234944 MB\n",
      "\bAfter single dvec to cuda: 424.579072 MB\n",
      "\bAfter single dvec to cuda: 431.571968 MB\n",
      "\bAfter single dvec to cuda: 442.174464 MB\n",
      "After dvec to cuda: 442.17856 MB\n",
      "After forward to cuda: 4341.703168 MB\n",
      "After input to cuda: 442.17856 MB\n",
      "\bAfter single dvec to cuda: 418.220544 MB\n",
      "\bAfter single dvec to cuda: 427.197952 MB\n",
      "\bAfter single dvec to cuda: 435.899392 MB\n",
      "\bAfter single dvec to cuda: 445.414912 MB\n",
      "After dvec to cuda: 445.419008 MB\n",
      "After forward to cuda: 4346.013696 MB\n"
     ]
    },
    {
     "name": "stderr",
     "output_type": "stream",
     "text": [
      "2021-11-24 17:00:23,988 - INFO - Wrote summary at step 7\n"
     ]
    },
    {
     "name": "stdout",
     "output_type": "stream",
     "text": [
      "After input to cuda: 445.419008 MB\n",
      "\bAfter single dvec to cuda: 420.494336 MB\n",
      "\bAfter single dvec to cuda: 430.82496 MB\n",
      "\bAfter single dvec to cuda: 440.07424 MB\n",
      "\bAfter single dvec to cuda: 450.67776 MB\n",
      "After dvec to cuda: 450.681856 MB\n",
      "After forward to cuda: 4350.488064 MB\n",
      "After input to cuda: 450.681856 MB\n",
      "\bAfter single dvec to cuda: 421.308928 MB\n",
      "\bAfter single dvec to cuda: 431.096832 MB\n",
      "\bAfter single dvec to cuda: 441.156608 MB\n",
      "\bAfter single dvec to cuda: 451.488768 MB\n",
      "After dvec to cuda: 451.492864 MB\n",
      "After forward to cuda: 4351.901184 MB\n"
     ]
    },
    {
     "name": "stderr",
     "output_type": "stream",
     "text": [
      "2021-11-24 17:00:24,690 - INFO - Wrote summary at step 8\n"
     ]
    },
    {
     "name": "stdout",
     "output_type": "stream",
     "text": [
      "After input to cuda: 452.094976 MB\n",
      "\bAfter single dvec to cuda: 417.836544 MB\n",
      "\bAfter single dvec to cuda: 429.256704 MB\n",
      "\bAfter single dvec to cuda: 438.232064 MB\n",
      "\bAfter single dvec to cuda: 447.747584 MB\n",
      "After dvec to cuda: 447.75168 MB\n",
      "After forward to cuda: 4347.6224 MB\n",
      "After input to cuda: 447.149568 MB\n",
      "\bAfter single dvec to cuda: 423.185408 MB\n",
      "\bAfter single dvec to cuda: 433.51552 MB\n",
      "\bAfter single dvec to cuda: 443.142656 MB\n",
      "\bAfter single dvec to cuda: 451.845632 MB\n",
      "After dvec to cuda: 451.849728 MB\n",
      "After forward to cuda: 4351.661056 MB\n"
     ]
    },
    {
     "name": "stderr",
     "output_type": "stream",
     "text": [
      "2021-11-24 17:00:25,414 - INFO - Wrote summary at step 9\n"
     ]
    },
    {
     "name": "stdout",
     "output_type": "stream",
     "text": [
      "After input to cuda: 451.849728 MB\n",
      "\bAfter single dvec to cuda: 421.854208 MB\n",
      "\bAfter single dvec to cuda: 431.64416 MB\n",
      "\bAfter single dvec to cuda: 441.430528 MB\n",
      "\bAfter single dvec to cuda: 451.761664 MB\n",
      "After dvec to cuda: 451.76576 MB\n",
      "After forward to cuda: 4353.299968 MB\n",
      "After input to cuda: 452.539904 MB\n",
      "\bAfter single dvec to cuda: 417.733632 MB\n",
      "\bAfter single dvec to cuda: 428.040192 MB\n",
      "\bAfter single dvec to cuda: 437.558784 MB\n",
      "\bAfter single dvec to cuda: 445.718528 MB\n",
      "After dvec to cuda: 445.722624 MB\n",
      "After forward to cuda: 4344.473088 MB\n"
     ]
    },
    {
     "name": "stderr",
     "output_type": "stream",
     "text": [
      "2021-11-24 17:00:26,114 - INFO - Wrote summary at step 10\n"
     ]
    },
    {
     "name": "stdout",
     "output_type": "stream",
     "text": [
      "After input to cuda: 444.94848 MB\n",
      "\bAfter single dvec to cuda: 416.96512 MB\n",
      "\bAfter single dvec to cuda: 425.941504 MB\n",
      "\bAfter single dvec to cuda: 435.733504 MB\n",
      "\bAfter single dvec to cuda: 443.8912 MB\n",
      "After dvec to cuda: 443.895296 MB\n",
      "After forward to cuda: 4344.368128 MB\n",
      "After input to cuda: 443.895296 MB\n",
      "\bAfter single dvec to cuda: 423.107584 MB\n",
      "\bAfter single dvec to cuda: 425.83296 MB\n",
      "\bAfter single dvec to cuda: 435.893248 MB\n",
      "\bAfter single dvec to cuda: 445.744128 MB\n",
      "After dvec to cuda: 445.748224 MB\n",
      "After forward to cuda: 4346.507776 MB\n"
     ]
    },
    {
     "name": "stderr",
     "output_type": "stream",
     "text": [
      "2021-11-24 17:00:26,815 - INFO - Wrote summary at step 11\n"
     ]
    },
    {
     "name": "stdout",
     "output_type": "stream",
     "text": [
      "After input to cuda: 445.748224 MB\n",
      "\bAfter single dvec to cuda: 418.049024 MB\n",
      "\bAfter single dvec to cuda: 424.576512 MB\n",
      "\bAfter single dvec to cuda: 434.80576 MB\n",
      "\bAfter single dvec to cuda: 436.690432 MB\n",
      "After dvec to cuda: 436.694528 MB\n",
      "After forward to cuda: 4337.340416 MB\n",
      "After input to cuda: 436.896256 MB\n",
      "\bAfter single dvec to cuda: 423.36 MB\n",
      "\bAfter single dvec to cuda: 432.878592 MB\n",
      "\bAfter single dvec to cuda: 439.952896 MB\n",
      "\bAfter single dvec to cuda: 450.013696 MB\n",
      "After dvec to cuda: 450.017792 MB\n",
      "After forward to cuda: 4351.426048 MB\n"
     ]
    },
    {
     "name": "stderr",
     "output_type": "stream",
     "text": [
      "2021-11-24 17:00:27,515 - INFO - Wrote summary at step 12\n"
     ]
    },
    {
     "name": "stdout",
     "output_type": "stream",
     "text": [
      "After input to cuda: 450.413056 MB\n",
      "\bAfter single dvec to cuda: 423.732736 MB\n",
      "\bAfter single dvec to cuda: 433.252864 MB\n",
      "\bAfter single dvec to cuda: 441.95328 MB\n",
      "\bAfter single dvec to cuda: 451.469312 MB\n",
      "After dvec to cuda: 451.473408 MB\n",
      "After forward to cuda: 4351.22432 MB\n",
      "After input to cuda: 451.728384 MB\n",
      "\bAfter single dvec to cuda: 421.6192 MB\n",
      "\bAfter single dvec to cuda: 431.952384 MB\n",
      "\bAfter single dvec to cuda: 442.012672 MB\n",
      "\bAfter single dvec to cuda: 450.717696 MB\n",
      "After dvec to cuda: 450.721792 MB\n",
      "After forward to cuda: 4350.853632 MB\n"
     ]
    },
    {
     "name": "stderr",
     "output_type": "stream",
     "text": [
      "2021-11-24 17:00:28,217 - INFO - Wrote summary at step 13\n"
     ]
    },
    {
     "name": "stdout",
     "output_type": "stream",
     "text": [
      "After input to cuda: 449.869824 MB\n",
      "\bAfter single dvec to cuda: 419.953664 MB\n",
      "\bAfter single dvec to cuda: 423.149056 MB\n",
      "\bAfter single dvec to cuda: 430.196224 MB\n",
      "\bAfter single dvec to cuda: 436.99712 MB\n",
      "After dvec to cuda: 437.001216 MB\n",
      "After forward to cuda: 4337.112576 MB\n",
      "After input to cuda: 437.61664 MB\n",
      "\bAfter single dvec to cuda: 423.009792 MB\n",
      "\bAfter single dvec to cuda: 433.073152 MB\n",
      "\bAfter single dvec to cuda: 442.317824 MB\n",
      "\bAfter single dvec to cuda: 452.921344 MB\n",
      "After dvec to cuda: 452.92544 MB\n",
      "After forward to cuda: 4353.203712 MB\n"
     ]
    },
    {
     "name": "stderr",
     "output_type": "stream",
     "text": [
      "2021-11-24 17:00:28,917 - INFO - Wrote summary at step 14\n"
     ]
    },
    {
     "name": "stdout",
     "output_type": "stream",
     "text": [
      "After input to cuda: 453.0432 MB\n",
      "\bAfter single dvec to cuda: 416.607744 MB\n",
      "\bAfter single dvec to cuda: 427.214848 MB\n",
      "\bAfter single dvec to cuda: 436.463104 MB\n",
      "\bAfter single dvec to cuda: 446.793728 MB\n",
      "After dvec to cuda: 446.797824 MB\n",
      "After forward to cuda: 4346.322432 MB\n",
      "After input to cuda: 446.661632 MB\n",
      "\bAfter single dvec to cuda: 422.174208 MB\n",
      "\bAfter single dvec to cuda: 432.23808 MB\n",
      "\bAfter single dvec to cuda: 441.753088 MB\n",
      "\bAfter single dvec to cuda: 449.638912 MB\n",
      "After dvec to cuda: 449.643008 MB\n",
      "After forward to cuda: 4348.570624 MB\n"
     ]
    },
    {
     "name": "stderr",
     "output_type": "stream",
     "text": [
      "2021-11-24 17:00:29,618 - INFO - Wrote summary at step 15\n"
     ]
    },
    {
     "name": "stdout",
     "output_type": "stream",
     "text": [
      "After input to cuda: 449.361408 MB\n",
      "\bAfter single dvec to cuda: 423.496704 MB\n",
      "\bAfter single dvec to cuda: 430.518272 MB\n",
      "\bAfter single dvec to cuda: 439.495168 MB\n",
      "\bAfter single dvec to cuda: 447.382016 MB\n",
      "After dvec to cuda: 447.386112 MB\n",
      "After forward to cuda: 4347.672064 MB\n",
      "After input to cuda: 447.832064 MB\n",
      "\bAfter single dvec to cuda: 422.61504 MB\n",
      "\bAfter single dvec to cuda: 431.044096 MB\n",
      "\bAfter single dvec to cuda: 439.473664 MB\n",
      "\bAfter single dvec to cuda: 449.532416 MB\n",
      "After dvec to cuda: 449.536512 MB\n",
      "After forward to cuda: 4348.873216 MB\n"
     ]
    },
    {
     "name": "stderr",
     "output_type": "stream",
     "text": [
      "2021-11-24 17:00:30,319 - INFO - Wrote summary at step 16\n"
     ]
    },
    {
     "name": "stdout",
     "output_type": "stream",
     "text": [
      "After input to cuda: 448.775168 MB\n",
      "\bAfter single dvec to cuda: 419.57376 MB\n",
      "\bAfter single dvec to cuda: 427.46112 MB\n",
      "\bAfter single dvec to cuda: 437.74208 MB\n",
      "\bAfter single dvec to cuda: 448.076288 MB\n",
      "After dvec to cuda: 448.080384 MB\n",
      "After forward to cuda: 4347.604992 MB\n",
      "After input to cuda: 448.080384 MB\n",
      "\bAfter single dvec to cuda: 420.737024 MB\n",
      "\bAfter single dvec to cuda: 423.191552 MB\n",
      "\bAfter single dvec to cuda: 433.498624 MB\n",
      "\bAfter single dvec to cuda: 440.182272 MB\n",
      "After dvec to cuda: 440.186368 MB\n",
      "After forward to cuda: 4341.612544 MB\n"
     ]
    },
    {
     "name": "stderr",
     "output_type": "stream",
     "text": [
      "2021-11-24 17:00:31,020 - INFO - Wrote summary at step 17\n"
     ]
    },
    {
     "name": "stdout",
     "output_type": "stream",
     "text": [
      "After input to cuda: 441.168384 MB\n",
      "\bAfter single dvec to cuda: 424.111616 MB\n",
      "\bAfter single dvec to cuda: 432.0 MB\n",
      "\bAfter single dvec to cuda: 441.247232 MB\n",
      "\bAfter single dvec to cuda: 449.948672 MB\n",
      "After dvec to cuda: 449.952768 MB\n",
      "After forward to cuda: 4350.084608 MB\n",
      "After input to cuda: 448.970752 MB\n",
      "\bAfter single dvec to cuda: 420.495872 MB\n",
      "\bAfter single dvec to cuda: 427.148288 MB\n",
      "\bAfter single dvec to cuda: 436.391936 MB\n",
      "\bAfter single dvec to cuda: 444.824576 MB\n",
      "After dvec to cuda: 444.828672 MB\n",
      "After forward to cuda: 4344.955392 MB\n"
     ]
    },
    {
     "name": "stderr",
     "output_type": "stream",
     "text": [
      "2021-11-24 17:00:31,720 - INFO - Wrote summary at step 18\n"
     ]
    },
    {
     "name": "stdout",
     "output_type": "stream",
     "text": [
      "After input to cuda: 445.430784 MB\n",
      "\bAfter single dvec to cuda: 416.747008 MB\n",
      "\bAfter single dvec to cuda: 423.819776 MB\n",
      "\bAfter single dvec to cuda: 434.153472 MB\n",
      "\bAfter single dvec to cuda: 444.48512 MB\n",
      "After dvec to cuda: 444.489216 MB\n",
      "After forward to cuda: 4343.698432 MB\n",
      "After input to cuda: 443.941376 MB\n",
      "\bAfter single dvec to cuda: 422.450688 MB\n",
      "\bAfter single dvec to cuda: 432.78336 MB\n",
      "\bAfter single dvec to cuda: 436.732928 MB\n",
      "\bAfter single dvec to cuda: 445.438976 MB\n",
      "After dvec to cuda: 445.443072 MB\n",
      "After forward to cuda: 4345.572864 MB\n"
     ]
    },
    {
     "name": "stderr",
     "output_type": "stream",
     "text": [
      "2021-11-24 17:00:32,421 - INFO - Wrote summary at step 19\n"
     ]
    },
    {
     "name": "stdout",
     "output_type": "stream",
     "text": [
      "After input to cuda: 446.048256 MB\n",
      "\bAfter single dvec to cuda: 417.623552 MB\n",
      "\bAfter single dvec to cuda: 427.953152 MB\n",
      "\bAfter single dvec to cuda: 438.014464 MB\n",
      "\bAfter single dvec to cuda: 447.533056 MB\n",
      "After dvec to cuda: 447.537152 MB\n",
      "After forward to cuda: 4347.189248 MB\n",
      "After input to cuda: 446.877696 MB\n",
      "\bAfter single dvec to cuda: 423.158272 MB\n",
      "\bAfter single dvec to cuda: 425.345024 MB\n",
      "\bAfter single dvec to cuda: 433.778176 MB\n",
      "\bAfter single dvec to cuda: 441.938432 MB\n",
      "After dvec to cuda: 441.942528 MB\n",
      "After forward to cuda: 4341.467136 MB\n"
     ]
    },
    {
     "name": "stderr",
     "output_type": "stream",
     "text": [
      "2021-11-24 17:00:33,120 - INFO - Wrote summary at step 20\n"
     ]
    },
    {
     "name": "stdout",
     "output_type": "stream",
     "text": [
      "After input to cuda: 441.942528 MB\n",
      "\bAfter single dvec to cuda: 421.309952 MB\n",
      "\bAfter single dvec to cuda: 428.657152 MB\n",
      "\bAfter single dvec to cuda: 436.005376 MB\n",
      "\bAfter single dvec to cuda: 446.065152 MB\n",
      "After dvec to cuda: 446.069248 MB\n",
      "After forward to cuda: 4346.162176 MB\n",
      "After input to cuda: 446.66624 MB\n",
      "\bAfter single dvec to cuda: 423.75424 MB\n",
      "\bAfter single dvec to cuda: 431.912448 MB\n",
      "\bAfter single dvec to cuda: 442.248192 MB\n",
      "\bAfter single dvec to cuda: 451.492352 MB\n",
      "After dvec to cuda: 451.496448 MB\n",
      "After forward to cuda: 4350.773248 MB\n"
     ]
    },
    {
     "name": "stderr",
     "output_type": "stream",
     "text": [
      "2021-11-24 17:00:33,823 - INFO - Wrote summary at step 21\n"
     ]
    },
    {
     "name": "stdout",
     "output_type": "stream",
     "text": [
      "After input to cuda: 451.219968 MB\n",
      "\bAfter single dvec to cuda: 421.08416 MB\n",
      "\bAfter single dvec to cuda: 430.332928 MB\n",
      "\bAfter single dvec to cuda: 439.580672 MB\n",
      "\bAfter single dvec to cuda: 441.98144 MB\n",
      "After dvec to cuda: 441.985536 MB\n",
      "After forward to cuda: 4342.078464 MB\n",
      "After input to cuda: 442.591744 MB\n",
      "\bAfter single dvec to cuda: 422.10048 MB\n",
      "\bAfter single dvec to cuda: 429.71648 MB\n",
      "\bAfter single dvec to cuda: 439.506432 MB\n",
      "\bAfter single dvec to cuda: 444.949504 MB\n",
      "After dvec to cuda: 444.9536 MB\n",
      "After forward to cuda: 4344.567296 MB\n"
     ]
    },
    {
     "name": "stderr",
     "output_type": "stream",
     "text": [
      "2021-11-24 17:00:34,523 - INFO - Wrote summary at step 22\n"
     ]
    },
    {
     "name": "stdout",
     "output_type": "stream",
     "text": [
      "After input to cuda: 444.02688 MB\n",
      "\bAfter single dvec to cuda: 423.156736 MB\n",
      "\bAfter single dvec to cuda: 430.202368 MB\n",
      "\bAfter single dvec to cuda: 437.820416 MB\n",
      "\bAfter single dvec to cuda: 444.077056 MB\n",
      "After dvec to cuda: 444.081152 MB\n",
      "After forward to cuda: 4343.88736 MB\n",
      "After input to cuda: 444.081152 MB\n",
      "\bAfter single dvec to cuda: 421.312 MB\n",
      "\bAfter single dvec to cuda: 429.745152 MB\n",
      "\bAfter single dvec to cuda: 433.557504 MB\n",
      "\bAfter single dvec to cuda: 441.988096 MB\n",
      "After dvec to cuda: 441.992192 MB\n",
      "After forward to cuda: 4341.85472 MB\n"
     ]
    },
    {
     "name": "stderr",
     "output_type": "stream",
     "text": [
      "2021-11-24 17:00:35,255 - INFO - Wrote summary at step 23\n"
     ]
    },
    {
     "name": "stdout",
     "output_type": "stream",
     "text": [
      "After input to cuda: 442.043392 MB\n",
      "\bAfter single dvec to cuda: 422.787072 MB\n",
      "\bAfter single dvec to cuda: 431.221248 MB\n",
      "\bAfter single dvec to cuda: 435.035648 MB\n",
      "\bAfter single dvec to cuda: 445.098496 MB\n",
      "After dvec to cuda: 445.102592 MB\n",
      "After forward to cuda: 4345.117696 MB\n",
      "After input to cuda: 445.102592 MB\n",
      "\bAfter single dvec to cuda: 415.111168 MB\n",
      "\bAfter single dvec to cuda: 422.457856 MB\n",
      "\bAfter single dvec to cuda: 427.498496 MB\n",
      "\bAfter single dvec to cuda: 437.28896 MB\n",
      "After dvec to cuda: 437.293056 MB\n",
      "After forward to cuda: 4336.817664 MB\n"
     ]
    },
    {
     "name": "stderr",
     "output_type": "stream",
     "text": [
      "2021-11-24 17:00:35,972 - INFO - Wrote summary at step 24\n"
     ]
    },
    {
     "name": "stdout",
     "output_type": "stream",
     "text": [
      "After input to cuda: 437.241856 MB\n",
      "\bAfter single dvec to cuda: 423.108096 MB\n",
      "\bAfter single dvec to cuda: 430.725632 MB\n",
      "\bAfter single dvec to cuda: 439.699968 MB\n",
      "\bAfter single dvec to cuda: 444.739072 MB\n",
      "After dvec to cuda: 444.743168 MB\n",
      "After forward to cuda: 4344.583168 MB\n",
      "After input to cuda: 445.05856 MB\n",
      "\bAfter single dvec to cuda: 423.498752 MB\n",
      "\bAfter single dvec to cuda: 432.201728 MB\n",
      "\bAfter single dvec to cuda: 441.4464 MB\n",
      "\bAfter single dvec to cuda: 449.879552 MB\n",
      "After dvec to cuda: 449.883648 MB\n",
      "After forward to cuda: 4349.700096 MB\n"
     ]
    },
    {
     "name": "stderr",
     "output_type": "stream",
     "text": [
      "2021-11-24 17:00:36,673 - INFO - Wrote summary at step 25\n"
     ]
    },
    {
     "name": "stdout",
     "output_type": "stream",
     "text": [
      "After input to cuda: 449.568256 MB\n",
      "\bAfter single dvec to cuda: 423.160832 MB\n",
      "\bAfter single dvec to cuda: 431.812608 MB\n",
      "\bAfter single dvec to cuda: 441.60512 MB\n",
      "\bAfter single dvec to cuda: 445.144576 MB\n",
      "After dvec to cuda: 445.148672 MB\n",
      "After forward to cuda: 4344.941568 MB\n",
      "After input to cuda: 445.445632 MB\n",
      "\bAfter single dvec to cuda: 418.61888 MB\n",
      "\bAfter single dvec to cuda: 428.950016 MB\n",
      "\bAfter single dvec to cuda: 438.196224 MB\n",
      "\bAfter single dvec to cuda: 446.626304 MB\n",
      "After dvec to cuda: 446.6304 MB\n",
      "After forward to cuda: 4346.811904 MB\n"
     ]
    },
    {
     "name": "stderr",
     "output_type": "stream",
     "text": [
      "2021-11-24 17:00:37,373 - INFO - Wrote summary at step 26\n"
     ]
    },
    {
     "name": "stdout",
     "output_type": "stream",
     "text": [
      "After input to cuda: 446.33344 MB\n",
      "\bAfter single dvec to cuda: 423.182848 MB\n",
      "\bAfter single dvec to cuda: 433.24416 MB\n",
      "\bAfter single dvec to cuda: 442.217472 MB\n",
      "\bAfter single dvec to cuda: 445.218304 MB\n",
      "After dvec to cuda: 445.2224 MB\n",
      "After forward to cuda: 4345.506816 MB\n",
      "After input to cuda: 446.01088 MB\n",
      "\bAfter single dvec to cuda: 422.370816 MB\n",
      "\bAfter single dvec to cuda: 431.888896 MB\n",
      "\bAfter single dvec to cuda: 440.045568 MB\n",
      "\bAfter single dvec to cuda: 448.203264 MB\n",
      "After dvec to cuda: 448.20736 MB\n",
      "After forward to cuda: 4347.731968 MB\n"
     ]
    },
    {
     "name": "stderr",
     "output_type": "stream",
     "text": [
      "2021-11-24 17:00:38,072 - INFO - Wrote summary at step 27\n"
     ]
    },
    {
     "name": "stdout",
     "output_type": "stream",
     "text": [
      "After input to cuda: 447.41888 MB\n",
      "\bAfter single dvec to cuda: 421.037056 MB\n",
      "\bAfter single dvec to cuda: 429.740544 MB\n",
      "\bAfter single dvec to cuda: 438.713856 MB\n",
      "\bAfter single dvec to cuda: 447.14752 MB\n",
      "After dvec to cuda: 447.151616 MB\n",
      "After forward to cuda: 4347.244544 MB\n",
      "After input to cuda: 447.748608 MB\n",
      "\bAfter single dvec to cuda: 422.44864 MB\n",
      "\bAfter single dvec to cuda: 431.968256 MB\n",
      "\bAfter single dvec to cuda: 441.759744 MB\n",
      "\bAfter single dvec to cuda: 448.472064 MB\n",
      "After dvec to cuda: 448.47616 MB\n",
      "After forward to cuda: 4348.193792 MB\n"
     ]
    },
    {
     "name": "stderr",
     "output_type": "stream",
     "text": [
      "2021-11-24 17:00:38,775 - INFO - Wrote summary at step 28\n"
     ]
    },
    {
     "name": "stdout",
     "output_type": "stream",
     "text": [
      "After input to cuda: 448.640512 MB\n",
      "\bAfter single dvec to cuda: 422.068736 MB\n",
      "\bAfter single dvec to cuda: 431.313408 MB\n",
      "\bAfter single dvec to cuda: 437.57056 MB\n",
      "\bAfter single dvec to cuda: 447.090176 MB\n",
      "After dvec to cuda: 447.094272 MB\n",
      "After forward to cuda: 4347.388928 MB\n",
      "After input to cuda: 446.332928 MB\n",
      "\bAfter single dvec to cuda: 421.853184 MB\n",
      "\bAfter single dvec to cuda: 431.917056 MB\n",
      "\bAfter single dvec to cuda: 441.977344 MB\n",
      "\bAfter single dvec to cuda: 450.409984 MB\n",
      "After dvec to cuda: 450.41408 MB\n",
      "After forward to cuda: 4350.220288 MB\n"
     ]
    },
    {
     "name": "stderr",
     "output_type": "stream",
     "text": [
      "2021-11-24 17:00:39,477 - INFO - Wrote summary at step 29\n"
     ]
    },
    {
     "name": "stdout",
     "output_type": "stream",
     "text": [
      "After input to cuda: 450.41408 MB\n",
      "\bAfter single dvec to cuda: 423.208448 MB\n",
      "\bAfter single dvec to cuda: 432.729088 MB\n",
      "\bAfter single dvec to cuda: 441.432064 MB\n",
      "\bAfter single dvec to cuda: 449.591296 MB\n",
      "After dvec to cuda: 449.595392 MB\n",
      "After forward to cuda: 4350.540288 MB\n",
      "After input to cuda: 450.44736 MB\n",
      "\bAfter single dvec to cuda: 417.181696 MB\n",
      "\bAfter single dvec to cuda: 425.616384 MB\n",
      "\bAfter single dvec to cuda: 435.133952 MB\n",
      "\bAfter single dvec to cuda: 443.73248 MB\n",
      "After dvec to cuda: 443.736576 MB\n",
      "After forward to cuda: 4342.982656 MB\n"
     ]
    },
    {
     "name": "stderr",
     "output_type": "stream",
     "text": [
      "2021-11-24 17:00:40,177 - INFO - Wrote summary at step 30\n"
     ]
    },
    {
     "name": "stdout",
     "output_type": "stream",
     "text": [
      "After input to cuda: 443.640832 MB\n",
      "\bAfter single dvec to cuda: 422.06464 MB\n",
      "\bAfter single dvec to cuda: 429.953024 MB\n",
      "\bAfter single dvec to cuda: 434.580992 MB\n",
      "\bAfter single dvec to cuda: 440.836608 MB\n",
      "After dvec to cuda: 440.840704 MB\n",
      "After forward to cuda: 4341.431808 MB\n",
      "After input to cuda: 440.840704 MB\n",
      "\bAfter single dvec to cuda: 423.966208 MB\n",
      "\bAfter single dvec to cuda: 434.02752 MB\n",
      "\bAfter single dvec to cuda: 438.385664 MB\n",
      "\bAfter single dvec to cuda: 447.629824 MB\n",
      "After dvec to cuda: 447.63392 MB\n",
      "After forward to cuda: 4347.731968 MB\n"
     ]
    },
    {
     "name": "stderr",
     "output_type": "stream",
     "text": [
      "2021-11-24 17:00:40,878 - INFO - Wrote summary at step 31\n"
     ]
    },
    {
     "name": "stdout",
     "output_type": "stream",
     "text": [
      "After input to cuda: 447.474688 MB\n",
      "\bAfter single dvec to cuda: 423.808512 MB\n",
      "\bAfter single dvec to cuda: 433.598976 MB\n",
      "\bAfter single dvec to cuda: 437.410816 MB\n",
      "\bAfter single dvec to cuda: 447.744 MB\n",
      "After dvec to cuda: 447.748096 MB\n",
      "After forward to cuda: 4347.206656 MB\n",
      "After input to cuda: 447.682048 MB\n",
      "\bAfter single dvec to cuda: 420.374528 MB\n",
      "\bAfter single dvec to cuda: 430.67904 MB\n",
      "\bAfter single dvec to cuda: 438.294528 MB\n",
      "\bAfter single dvec to cuda: 448.625152 MB\n",
      "After dvec to cuda: 448.629248 MB\n",
      "After forward to cuda: 4348.153856 MB\n"
     ]
    },
    {
     "name": "stderr",
     "output_type": "stream",
     "text": [
      "2021-11-24 17:00:41,591 - INFO - Wrote summary at step 32\n"
     ]
    },
    {
     "name": "stdout",
     "output_type": "stream",
     "text": [
      "After input to cuda: 448.418816 MB\n",
      "\bAfter single dvec to cuda: 423.424 MB\n",
      "\bAfter single dvec to cuda: 432.128512 MB\n",
      "\bAfter single dvec to cuda: 442.189312 MB\n",
      "\bAfter single dvec to cuda: 450.619392 MB\n",
      "After dvec to cuda: 450.623488 MB\n",
      "After forward to cuda: 4350.434816 MB\n",
      "After input to cuda: 450.302976 MB\n",
      "\bAfter single dvec to cuda: 422.909952 MB\n",
      "\bAfter single dvec to cuda: 433.218048 MB\n",
      "\bAfter single dvec to cuda: 438.930944 MB\n",
      "\bAfter single dvec to cuda: 441.61024 MB\n",
      "After dvec to cuda: 441.614336 MB\n",
      "After forward to cuda: 4341.138944 MB\n"
     ]
    },
    {
     "name": "stderr",
     "output_type": "stream",
     "text": [
      "2021-11-24 17:00:42,293 - INFO - Wrote summary at step 33\n"
     ]
    },
    {
     "name": "stdout",
     "output_type": "stream",
     "text": [
      "After input to cuda: 441.614336 MB\n",
      "\bAfter single dvec to cuda: 421.039104 MB\n",
      "\bAfter single dvec to cuda: 430.28736 MB\n",
      "\bAfter single dvec to cuda: 437.633536 MB\n",
      "\bAfter single dvec to cuda: 447.151616 MB\n",
      "After dvec to cuda: 447.155712 MB\n",
      "After forward to cuda: 4347.686912 MB\n",
      "After input to cuda: 447.752704 MB\n",
      "\bAfter single dvec to cuda: 416.471552 MB\n",
      "\bAfter single dvec to cuda: 425.717248 MB\n",
      "\bAfter single dvec to cuda: 435.50976 MB\n",
      "\bAfter single dvec to cuda: 445.029888 MB\n",
      "After dvec to cuda: 445.033984 MB\n",
      "After forward to cuda: 4345.416704 MB\n"
     ]
    },
    {
     "name": "stderr",
     "output_type": "stream",
     "text": [
      "2021-11-24 17:00:42,995 - INFO - Wrote summary at step 34\n"
     ]
    },
    {
     "name": "stdout",
     "output_type": "stream",
     "text": [
      "After input to cuda: 445.064704 MB\n",
      "\bAfter single dvec to cuda: 424.110592 MB\n",
      "\bAfter single dvec to cuda: 434.38848 MB\n",
      "\bAfter single dvec to cuda: 441.122816 MB\n",
      "\bAfter single dvec to cuda: 450.366464 MB\n",
      "After dvec to cuda: 450.37056 MB\n",
      "After forward to cuda: 4349.895168 MB\n",
      "After input to cuda: 449.742848 MB\n",
      "\bAfter single dvec to cuda: 422.020608 MB\n",
      "\bAfter single dvec to cuda: 424.476672 MB\n",
      "\bAfter single dvec to cuda: 432.909312 MB\n",
      "\bAfter single dvec to cuda: 439.642112 MB\n",
      "After dvec to cuda: 439.646208 MB\n",
      "After forward to cuda: 4339.170816 MB\n"
     ]
    },
    {
     "name": "stderr",
     "output_type": "stream",
     "text": [
      "2021-11-24 17:00:43,696 - INFO - Wrote summary at step 35\n"
     ]
    },
    {
     "name": "stdout",
     "output_type": "stream",
     "text": [
      "After input to cuda: 439.569408 MB\n",
      "\bAfter single dvec to cuda: 423.080448 MB\n",
      "\bAfter single dvec to cuda: 432.59648 MB\n",
      "\bAfter single dvec to cuda: 439.671808 MB\n",
      "\bAfter single dvec to cuda: 444.846592 MB\n",
      "After dvec to cuda: 444.850688 MB\n",
      "After forward to cuda: 4345.020416 MB\n",
      "After input to cuda: 445.52448 MB\n",
      "\bAfter single dvec to cuda: 417.83296 MB\n",
      "\bAfter single dvec to cuda: 428.140032 MB\n",
      "\bAfter single dvec to cuda: 436.844032 MB\n",
      "\bAfter single dvec to cuda: 446.090752 MB\n",
      "After dvec to cuda: 446.094848 MB\n",
      "After forward to cuda: 4345.725952 MB\n"
     ]
    },
    {
     "name": "stderr",
     "output_type": "stream",
     "text": [
      "2021-11-24 17:00:44,412 - INFO - Wrote summary at step 36\n"
     ]
    },
    {
     "name": "stdout",
     "output_type": "stream",
     "text": [
      "After input to cuda: 445.497856 MB\n",
      "\bAfter single dvec to cuda: 422.121472 MB\n",
      "\bAfter single dvec to cuda: 426.751488 MB\n",
      "\bAfter single dvec to cuda: 437.05856 MB\n",
      "\bAfter single dvec to cuda: 442.231296 MB\n",
      "After dvec to cuda: 442.235392 MB\n",
      "After forward to cuda: 4341.809664 MB\n",
      "After input to cuda: 442.235392 MB\n",
      "\bAfter single dvec to cuda: 420.492288 MB\n",
      "\bAfter single dvec to cuda: 431.097344 MB\n",
      "\bAfter single dvec to cuda: 438.631936 MB\n",
      "\bAfter single dvec to cuda: 448.51712 MB\n",
      "After dvec to cuda: 448.521216 MB\n",
      "After forward to cuda: 4348.045824 MB\n"
     ]
    },
    {
     "name": "stderr",
     "output_type": "stream",
     "text": [
      "2021-11-24 17:00:45,112 - INFO - Wrote summary at step 37\n"
     ]
    },
    {
     "name": "stdout",
     "output_type": "stream",
     "text": [
      "After input to cuda: 448.521216 MB\n",
      "\bAfter single dvec to cuda: 422.78912 MB\n",
      "\bAfter single dvec to cuda: 427.144704 MB\n",
      "\bAfter single dvec to cuda: 437.425152 MB\n",
      "\bAfter single dvec to cuda: 446.672384 MB\n",
      "After dvec to cuda: 446.67648 MB\n",
      "After forward to cuda: 4347.530752 MB\n",
      "After input to cuda: 448.344064 MB\n",
      "\bAfter single dvec to cuda: 424.853504 MB\n",
      "\bAfter single dvec to cuda: 431.847936 MB\n",
      "\bAfter single dvec to cuda: 440.549888 MB\n",
      "\bAfter single dvec to cuda: 450.612736 MB\n",
      "After dvec to cuda: 450.616832 MB\n",
      "After forward to cuda: 4350.343168 MB\n"
     ]
    },
    {
     "name": "stderr",
     "output_type": "stream",
     "text": [
      "2021-11-24 17:00:45,813 - INFO - Wrote summary at step 38\n"
     ]
    },
    {
     "name": "stdout",
     "output_type": "stream",
     "text": [
      "After input to cuda: 448.949248 MB\n",
      "\bAfter single dvec to cuda: 422.836736 MB\n",
      "\bAfter single dvec to cuda: 433.118208 MB\n",
      "\bAfter single dvec to cuda: 442.634752 MB\n",
      "\bAfter single dvec to cuda: 452.423168 MB\n",
      "After dvec to cuda: 452.427264 MB\n",
      "After forward to cuda: 4354.244608 MB\n",
      "After input to cuda: 453.380096 MB\n",
      "\bAfter single dvec to cuda: 421.448192 MB\n",
      "\bAfter single dvec to cuda: 431.781376 MB\n",
      "\bAfter single dvec to cuda: 442.113536 MB\n",
      "\bAfter single dvec to cuda: 450.271232 MB\n",
      "After dvec to cuda: 450.275328 MB\n",
      "After forward to cuda: 4350.187008 MB\n"
     ]
    },
    {
     "name": "stderr",
     "output_type": "stream",
     "text": [
      "2021-11-24 17:00:46,516 - INFO - Wrote summary at step 39\n"
     ]
    },
    {
     "name": "stdout",
     "output_type": "stream",
     "text": [
      "After input to cuda: 449.322496 MB\n",
      "\bAfter single dvec to cuda: 423.106048 MB\n",
      "\bAfter single dvec to cuda: 426.917376 MB\n",
      "\bAfter single dvec to cuda: 436.704768 MB\n",
      "\bAfter single dvec to cuda: 446.224384 MB\n",
      "After dvec to cuda: 446.22848 MB\n",
      "After forward to cuda: 4345.775616 MB\n",
      "After input to cuda: 446.27968 MB\n",
      "\bAfter single dvec to cuda: 420.000768 MB\n",
      "\bAfter single dvec to cuda: 429.791232 MB\n",
      "\bAfter single dvec to cuda: 438.496768 MB\n",
      "\bAfter single dvec to cuda: 447.740416 MB\n",
      "After dvec to cuda: 447.744512 MB\n",
      "After forward to cuda: 4348.45184 MB\n"
     ]
    },
    {
     "name": "stderr",
     "output_type": "stream",
     "text": [
      "2021-11-24 17:00:47,218 - INFO - Wrote summary at step 40\n"
     ]
    },
    {
     "name": "stdout",
     "output_type": "stream",
     "text": [
      "After input to cuda: 448.353792 MB\n",
      "\bAfter single dvec to cuda: 423.449088 MB\n",
      "\bAfter single dvec to cuda: 432.966144 MB\n",
      "\bAfter single dvec to cuda: 441.943552 MB\n",
      "\bAfter single dvec to cuda: 451.461632 MB\n",
      "After dvec to cuda: 451.465728 MB\n",
      "After forward to cuda: 4350.952448 MB\n",
      "After input to cuda: 451.40224 MB\n",
      "\bAfter single dvec to cuda: 423.756288 MB\n",
      "\bAfter single dvec to cuda: 434.363904 MB\n",
      "\bAfter single dvec to cuda: 443.339264 MB\n",
      "\bAfter single dvec to cuda: 452.586496 MB\n",
      "After dvec to cuda: 452.590592 MB\n",
      "After forward to cuda: 4352.690688 MB\n"
     ]
    },
    {
     "name": "stderr",
     "output_type": "stream",
     "text": [
      "2021-11-24 17:00:47,925 - INFO - Wrote summary at step 41\n"
     ]
    },
    {
     "name": "stdout",
     "output_type": "stream",
     "text": [
      "After input to cuda: 453.16608 MB\n",
      "\bAfter single dvec to cuda: 424.27648 MB\n",
      "\bAfter single dvec to cuda: 432.16384 MB\n",
      "\bAfter single dvec to cuda: 437.066752 MB\n",
      "\bAfter single dvec to cuda: 440.339456 MB\n",
      "After dvec to cuda: 440.343552 MB\n",
      "After forward to cuda: 4339.86816 MB\n",
      "After input to cuda: 439.491584 MB\n",
      "\bAfter single dvec to cuda: 421.088768 MB\n",
      "\bAfter single dvec to cuda: 428.056064 MB\n",
      "\bAfter single dvec to cuda: 437.2992 MB\n",
      "\bAfter single dvec to cuda: 447.088128 MB\n",
      "After dvec to cuda: 447.092224 MB\n",
      "After forward to cuda: 4347.55328 MB\n"
     ]
    },
    {
     "name": "stderr",
     "output_type": "stream",
     "text": [
      "2021-11-24 17:00:48,625 - INFO - Wrote summary at step 42\n"
     ]
    },
    {
     "name": "stdout",
     "output_type": "stream",
     "text": [
      "After input to cuda: 446.8864 MB\n",
      "\bAfter single dvec to cuda: 423.298048 MB\n",
      "\bAfter single dvec to cuda: 430.912 MB\n",
      "\bAfter single dvec to cuda: 439.887872 MB\n",
      "\bAfter single dvec to cuda: 447.503872 MB\n",
      "After dvec to cuda: 447.507968 MB\n",
      "After forward to cuda: 4347.032576 MB\n",
      "After input to cuda: 447.39328 MB\n",
      "\bAfter single dvec to cuda: 427.825664 MB\n",
      "\bAfter single dvec to cuda: 434.532864 MB\n",
      "\bAfter single dvec to cuda: 444.813824 MB\n",
      "\bAfter single dvec to cuda: 454.332928 MB\n",
      "After dvec to cuda: 454.337024 MB\n",
      "After forward to cuda: 4354.435072 MB\n"
     ]
    },
    {
     "name": "stderr",
     "output_type": "stream",
     "text": [
      "2021-11-24 17:00:49,350 - INFO - Wrote summary at step 43\n"
     ]
    },
    {
     "name": "stdout",
     "output_type": "stream",
     "text": [
      "After input to cuda: 454.337024 MB\n",
      "\bAfter single dvec to cuda: 423.10912 MB\n",
      "\bAfter single dvec to cuda: 433.17248 MB\n",
      "\bAfter single dvec to cuda: 442.961408 MB\n",
      "\bAfter single dvec to cuda: 452.210688 MB\n",
      "After dvec to cuda: 452.214784 MB\n",
      "After forward to cuda: 4352.656896 MB\n",
      "After input to cuda: 452.811776 MB\n",
      "\bAfter single dvec to cuda: 423.781888 MB\n",
      "\bAfter single dvec to cuda: 433.027584 MB\n",
      "\bAfter single dvec to cuda: 440.375296 MB\n",
      "\bAfter single dvec to cuda: 449.893888 MB\n",
      "After dvec to cuda: 449.897984 MB\n",
      "After forward to cuda: 4348.987392 MB\n"
     ]
    },
    {
     "name": "stderr",
     "output_type": "stream",
     "text": [
      "2021-11-24 17:00:50,053 - INFO - Wrote summary at step 44\n"
     ]
    },
    {
     "name": "stdout",
     "output_type": "stream",
     "text": [
      "After input to cuda: 449.300992 MB\n",
      "\bAfter single dvec to cuda: 423.187456 MB\n",
      "\bAfter single dvec to cuda: 433.904128 MB\n",
      "\bAfter single dvec to cuda: 443.69664 MB\n",
      "\bAfter single dvec to cuda: 453.214208 MB\n",
      "After dvec to cuda: 453.218304 MB\n",
      "After forward to cuda: 4352.742912 MB\n",
      "After input to cuda: 453.218304 MB\n",
      "\bAfter single dvec to cuda: 423.186432 MB\n",
      "\bAfter single dvec to cuda: 432.162816 MB\n",
      "\bAfter single dvec to cuda: 441.678336 MB\n",
      "\bAfter single dvec to cuda: 450.65472 MB\n",
      "After dvec to cuda: 450.658816 MB\n",
      "After forward to cuda: 4351.405568 MB\n"
     ]
    },
    {
     "name": "stderr",
     "output_type": "stream",
     "text": [
      "2021-11-24 17:00:50,755 - INFO - Wrote summary at step 45\n"
     ]
    },
    {
     "name": "stdout",
     "output_type": "stream",
     "text": [
      "After input to cuda: 451.575296 MB\n",
      "\bAfter single dvec to cuda: 424.046592 MB\n",
      "\bAfter single dvec to cuda: 428.948992 MB\n",
      "\bAfter single dvec to cuda: 439.008768 MB\n",
      "\bAfter single dvec to cuda: 444.72576 MB\n",
      "After dvec to cuda: 444.729856 MB\n",
      "After forward to cuda: 4343.944192 MB\n",
      "After input to cuda: 443.813376 MB\n",
      "\bAfter single dvec to cuda: 423.212032 MB\n",
      "\bAfter single dvec to cuda: 428.658176 MB\n",
      "\bAfter single dvec to cuda: 430.574592 MB\n",
      "\bAfter single dvec to cuda: 439.549952 MB\n",
      "After dvec to cuda: 439.554048 MB\n",
      "After forward to cuda: 4339.628544 MB\n"
     ]
    },
    {
     "name": "stderr",
     "output_type": "stream",
     "text": [
      "2021-11-24 17:00:51,453 - INFO - Wrote summary at step 46\n"
     ]
    },
    {
     "name": "stdout",
     "output_type": "stream",
     "text": [
      "After input to cuda: 439.554048 MB\n",
      "\bAfter single dvec to cuda: 416.325632 MB\n",
      "\bAfter single dvec to cuda: 422.041088 MB\n",
      "\bAfter single dvec to cuda: 432.35072 MB\n",
      "\bAfter single dvec to cuda: 441.322496 MB\n",
      "After dvec to cuda: 441.326592 MB\n",
      "After forward to cuda: 4340.8512 MB\n",
      "After input to cuda: 441.355264 MB\n",
      "\bAfter single dvec to cuda: 418.34752 MB\n",
      "\bAfter single dvec to cuda: 425.422848 MB\n",
      "\bAfter single dvec to cuda: 435.357696 MB\n",
      "\bAfter single dvec to cuda: 444.32896 MB\n",
      "After dvec to cuda: 444.333056 MB\n",
      "After forward to cuda: 4343.857664 MB\n"
     ]
    },
    {
     "name": "stderr",
     "output_type": "stream",
     "text": [
      "2021-11-24 17:00:52,155 - INFO - Wrote summary at step 47\n"
     ]
    },
    {
     "name": "stdout",
     "output_type": "stream",
     "text": [
      "After input to cuda: 445.065728 MB\n",
      "\bAfter single dvec to cuda: 422.611456 MB\n",
      "\bAfter single dvec to cuda: 432.943616 MB\n",
      "\bAfter single dvec to cuda: 442.46272 MB\n",
      "\bAfter single dvec to cuda: 443.833856 MB\n",
      "After dvec to cuda: 443.837952 MB\n",
      "After forward to cuda: 4344.320512 MB\n",
      "After input to cuda: 444.795904 MB\n",
      "\bAfter single dvec to cuda: 419.769856 MB\n",
      "\bAfter single dvec to cuda: 430.1056 MB\n",
      "\bAfter single dvec to cuda: 440.436736 MB\n",
      "\bAfter single dvec to cuda: 450.767872 MB\n",
      "After dvec to cuda: 450.771968 MB\n",
      "After forward to cuda: 4349.659136 MB\n"
     ]
    },
    {
     "name": "stderr",
     "output_type": "stream",
     "text": [
      "2021-11-24 17:00:52,858 - INFO - Wrote summary at step 48\n"
     ]
    },
    {
     "name": "stdout",
     "output_type": "stream",
     "text": [
      "After input to cuda: 449.373184 MB\n",
      "\bAfter single dvec to cuda: 423.502848 MB\n",
      "\bAfter single dvec to cuda: 427.859968 MB\n",
      "\bAfter single dvec to cuda: 438.461952 MB\n",
      "\bAfter single dvec to cuda: 448.25088 MB\n",
      "After dvec to cuda: 448.254976 MB\n",
      "After forward to cuda: 4347.868672 MB\n",
      "After input to cuda: 447.934464 MB\n",
      "\bAfter single dvec to cuda: 422.664704 MB\n",
      "\bAfter single dvec to cuda: 424.142848 MB\n",
      "\bAfter single dvec to cuda: 427.956736 MB\n",
      "\bAfter single dvec to cuda: 438.560256 MB\n",
      "After dvec to cuda: 438.564352 MB\n",
      "After forward to cuda: 4338.08896 MB\n"
     ]
    },
    {
     "name": "stderr",
     "output_type": "stream",
     "text": [
      "2021-11-24 17:00:53,560 - INFO - Wrote summary at step 49\n"
     ]
    },
    {
     "name": "stdout",
     "output_type": "stream",
     "text": [
      "After input to cuda: 438.487552 MB\n",
      "\bAfter single dvec to cuda: 415.990784 MB\n",
      "\bAfter single dvec to cuda: 425.751552 MB\n",
      "\bAfter single dvec to cuda: 432.877056 MB\n",
      "\bAfter single dvec to cuda: 442.12224 MB\n",
      "After dvec to cuda: 442.126336 MB\n",
      "After forward to cuda: 4341.650944 MB\n",
      "After input to cuda: 442.126336 MB\n",
      "\bAfter single dvec to cuda: 416.014336 MB\n",
      "\bAfter single dvec to cuda: 426.61632 MB\n",
      "\bAfter single dvec to cuda: 435.976192 MB\n",
      "\bAfter single dvec to cuda: 444.410368 MB\n",
      "After dvec to cuda: 444.414464 MB\n",
      "After forward to cuda: 4345.455616 MB\n"
     ]
    },
    {
     "name": "stderr",
     "output_type": "stream",
     "text": [
      "2021-11-24 17:00:54,260 - INFO - Wrote summary at step 50\n"
     ]
    },
    {
     "name": "stdout",
     "output_type": "stream",
     "text": [
      "After input to cuda: 444.414464 MB\n",
      "\bAfter single dvec to cuda: 420.415488 MB\n",
      "\bAfter single dvec to cuda: 427.7632 MB\n",
      "\bAfter single dvec to cuda: 436.737024 MB\n",
      "\bAfter single dvec to cuda: 445.981184 MB\n",
      "After dvec to cuda: 445.98528 MB\n",
      "After forward to cuda: 4346.596352 MB\n",
      "After input to cuda: 446.498304 MB\n",
      "\bAfter single dvec to cuda: 420.359168 MB\n",
      "\bAfter single dvec to cuda: 431.50592 MB\n",
      "\bAfter single dvec to cuda: 441.811456 MB\n",
      "\bAfter single dvec to cuda: 451.689984 MB\n",
      "After dvec to cuda: 451.69408 MB\n",
      "After forward to cuda: 4350.782464 MB\n"
     ]
    },
    {
     "name": "stderr",
     "output_type": "stream",
     "text": [
      "2021-11-24 17:00:54,963 - INFO - Wrote summary at step 51\n"
     ]
    },
    {
     "name": "stdout",
     "output_type": "stream",
     "text": [
      "After input to cuda: 451.257856 MB\n",
      "\bAfter single dvec to cuda: 423.158784 MB\n",
      "\bAfter single dvec to cuda: 433.492992 MB\n",
      "\bAfter single dvec to cuda: 439.211008 MB\n",
      "\bAfter single dvec to cuda: 443.298304 MB\n",
      "After dvec to cuda: 443.3024 MB\n",
      "After forward to cuda: 4344.061952 MB\n",
      "After input to cuda: 443.3024 MB\n",
      "\bAfter single dvec to cuda: 420.225024 MB\n",
      "\bAfter single dvec to cuda: 430.282752 MB\n",
      "\bAfter single dvec to cuda: 440.134144 MB\n",
      "\bAfter single dvec to cuda: 448.293376 MB\n",
      "After dvec to cuda: 448.297472 MB\n",
      "After forward to cuda: 4348.429312 MB\n"
     ]
    },
    {
     "name": "stderr",
     "output_type": "stream",
     "text": [
      "2021-11-24 17:00:55,665 - INFO - Wrote summary at step 52\n"
     ]
    },
    {
     "name": "stdout",
     "output_type": "stream",
     "text": [
      "After input to cuda: 448.297472 MB\n",
      "\bAfter single dvec to cuda: 423.481344 MB\n",
      "\bAfter single dvec to cuda: 430.189568 MB\n",
      "\bAfter single dvec to cuda: 439.57504 MB\n",
      "\bAfter single dvec to cuda: 449.879552 MB\n",
      "After dvec to cuda: 449.883648 MB\n",
      "After forward to cuda: 4350.958592 MB\n",
      "After input to cuda: 450.40896 MB\n",
      "\bAfter single dvec to cuda: 421.83424 MB\n",
      "\bAfter single dvec to cuda: 431.892992 MB\n",
      "\bAfter single dvec to cuda: 442.2272 MB\n",
      "\bAfter single dvec to cuda: 446.313472 MB\n",
      "After dvec to cuda: 446.317568 MB\n",
      "After forward to cuda: 4345.288192 MB\n"
     ]
    },
    {
     "name": "stderr",
     "output_type": "stream",
     "text": [
      "2021-11-24 17:00:56,367 - INFO - Wrote summary at step 53\n"
     ]
    },
    {
     "name": "stdout",
     "output_type": "stream",
     "text": [
      "After input to cuda: 445.792256 MB\n",
      "\bAfter single dvec to cuda: 421.5808 MB\n",
      "\bAfter single dvec to cuda: 430.557184 MB\n",
      "\bAfter single dvec to cuda: 431.385088 MB\n",
      "\bAfter single dvec to cuda: 439.000064 MB\n",
      "After dvec to cuda: 439.00416 MB\n",
      "After forward to cuda: 4338.528768 MB\n",
      "After input to cuda: 439.00416 MB\n",
      "\bAfter single dvec to cuda: 422.790144 MB\n",
      "\bAfter single dvec to cuda: 433.069568 MB\n",
      "\bAfter single dvec to cuda: 440.088576 MB\n",
      "\bAfter single dvec to cuda: 448.794624 MB\n",
      "After dvec to cuda: 448.79872 MB\n",
      "After forward to cuda: 4348.323328 MB\n"
     ]
    },
    {
     "name": "stderr",
     "output_type": "stream",
     "text": [
      "2021-11-24 17:00:57,068 - INFO - Wrote summary at step 54\n"
     ]
    },
    {
     "name": "stdout",
     "output_type": "stream",
     "text": [
      "After input to cuda: 448.79872 MB\n",
      "\bAfter single dvec to cuda: 416.14592 MB\n",
      "\bAfter single dvec to cuda: 426.454528 MB\n",
      "\bAfter single dvec to cuda: 436.87424 MB\n",
      "\bAfter single dvec to cuda: 446.389248 MB\n",
      "After dvec to cuda: 446.393344 MB\n",
      "After forward to cuda: 4346.432 MB\n",
      "After input to cuda: 446.936064 MB\n",
      "\bAfter single dvec to cuda: 423.75424 MB\n",
      "\bAfter single dvec to cuda: 434.085376 MB\n",
      "\bAfter single dvec to cuda: 443.333632 MB\n",
      "\bAfter single dvec to cuda: 453.122048 MB\n",
      "After dvec to cuda: 453.126144 MB\n",
      "After forward to cuda: 4353.23136 MB\n"
     ]
    },
    {
     "name": "stderr",
     "output_type": "stream",
     "text": [
      "2021-11-24 17:00:57,773 - INFO - Wrote summary at step 55\n"
     ]
    },
    {
     "name": "stdout",
     "output_type": "stream",
     "text": [
      "After input to cuda: 453.138432 MB\n",
      "\bAfter single dvec to cuda: 423.658496 MB\n",
      "\bAfter single dvec to cuda: 433.720832 MB\n",
      "\bAfter single dvec to cuda: 442.963456 MB\n",
      "\bAfter single dvec to cuda: 453.02272 MB\n",
      "After dvec to cuda: 453.026816 MB\n",
      "After forward to cuda: 4352.278016 MB\n",
      "After input to cuda: 453.026816 MB\n",
      "\bAfter single dvec to cuda: 423.31648 MB\n",
      "\bAfter single dvec to cuda: 433.573376 MB\n",
      "\bAfter single dvec to cuda: 443.088896 MB\n",
      "\bAfter single dvec to cuda: 448.979968 MB\n",
      "After dvec to cuda: 448.984064 MB\n",
      "After forward to cuda: 4348.9664 MB\n"
     ]
    },
    {
     "name": "stderr",
     "output_type": "stream",
     "text": [
      "2021-11-24 17:00:58,479 - INFO - Wrote summary at step 56\n"
     ]
    },
    {
     "name": "stdout",
     "output_type": "stream",
     "text": [
      "After input to cuda: 448.429056 MB\n",
      "\bAfter single dvec to cuda: 423.209984 MB\n",
      "\bAfter single dvec to cuda: 431.36768 MB\n",
      "\bAfter single dvec to cuda: 440.919552 MB\n",
      "\bAfter single dvec to cuda: 448.533504 MB\n",
      "After dvec to cuda: 448.5376 MB\n",
      "After forward to cuda: 4348.630528 MB\n",
      "After input to cuda: 449.134592 MB\n",
      "\bAfter single dvec to cuda: 421.633024 MB\n",
      "\bAfter single dvec to cuda: 431.420416 MB\n",
      "\bAfter single dvec to cuda: 441.750528 MB\n",
      "\bAfter single dvec to cuda: 445.563904 MB\n",
      "After dvec to cuda: 445.568 MB\n",
      "After forward to cuda: 4345.285632 MB\n"
     ]
    },
    {
     "name": "stderr",
     "output_type": "stream",
     "text": [
      "2021-11-24 17:00:59,184 - INFO - Wrote summary at step 57\n"
     ]
    },
    {
     "name": "stdout",
     "output_type": "stream",
     "text": [
      "After input to cuda: 445.732352 MB\n",
      "\bAfter single dvec to cuda: 424.244736 MB\n",
      "\bAfter single dvec to cuda: 432.6784 MB\n",
      "\bAfter single dvec to cuda: 441.382912 MB\n",
      "\bAfter single dvec to cuda: 451.715072 MB\n",
      "After dvec to cuda: 451.719168 MB\n",
      "After forward to cuda: 4351.050752 MB\n",
      "After input to cuda: 451.016192 MB\n",
      "\bAfter single dvec to cuda: 423.542784 MB\n",
      "\bAfter single dvec to cuda: 427.0848 MB\n",
      "\bAfter single dvec to cuda: 437.3888 MB\n",
      "\bAfter single dvec to cuda: 444.191744 MB\n",
      "After dvec to cuda: 444.19584 MB\n",
      "After forward to cuda: 4343.988736 MB\n"
     ]
    },
    {
     "name": "stderr",
     "output_type": "stream",
     "text": [
      "2021-11-24 17:00:59,888 - INFO - Wrote summary at step 58\n"
     ]
    },
    {
     "name": "stdout",
     "output_type": "stream",
     "text": [
      "After input to cuda: 444.434432 MB\n",
      "\bAfter single dvec to cuda: 423.45472 MB\n",
      "\bAfter single dvec to cuda: 433.787392 MB\n",
      "\bAfter single dvec to cuda: 442.7648 MB\n",
      "\bAfter single dvec to cuda: 452.555776 MB\n",
      "After dvec to cuda: 452.559872 MB\n",
      "After forward to cuda: 4352.35584 MB\n",
      "After input to cuda: 452.262912 MB\n",
      "\bAfter single dvec to cuda: 423.181824 MB\n",
      "\bAfter single dvec to cuda: 432.425472 MB\n",
      "\bAfter single dvec to cuda: 441.128448 MB\n",
      "\bAfter single dvec to cuda: 446.842368 MB\n",
      "After dvec to cuda: 446.846464 MB\n",
      "After forward to cuda: 4346.792448 MB\n"
     ]
    },
    {
     "name": "stderr",
     "output_type": "stream",
     "text": [
      "2021-11-24 17:01:00,592 - INFO - Wrote summary at step 59\n"
     ]
    },
    {
     "name": "stdout",
     "output_type": "stream",
     "text": [
      "After input to cuda: 446.846464 MB\n",
      "\bAfter single dvec to cuda: 423.15776 MB\n",
      "\bAfter single dvec to cuda: 431.862784 MB\n",
      "\bAfter single dvec to cuda: 434.861568 MB\n",
      "\bAfter single dvec to cuda: 442.480128 MB\n",
      "After dvec to cuda: 442.484224 MB\n",
      "After forward to cuda: 4343.089152 MB\n",
      "After input to cuda: 443.593216 MB\n",
      "\bAfter single dvec to cuda: 415.085568 MB\n",
      "\bAfter single dvec to cuda: 423.514624 MB\n",
      "\bAfter single dvec to cuda: 428.6848 MB\n",
      "\bAfter single dvec to cuda: 435.2128 MB\n",
      "After dvec to cuda: 435.216896 MB\n",
      "After forward to cuda: 4335.363072 MB\n"
     ]
    },
    {
     "name": "stderr",
     "output_type": "stream",
     "text": [
      "2021-11-24 17:01:01,290 - INFO - Wrote summary at step 60\n"
     ]
    },
    {
     "name": "stdout",
     "output_type": "stream",
     "text": [
      "After input to cuda: 434.107904 MB\n",
      "\bAfter single dvec to cuda: 419.137024 MB\n",
      "\bAfter single dvec to cuda: 429.743104 MB\n",
      "\bAfter single dvec to cuda: 441.444352 MB\n",
      "\bAfter single dvec to cuda: 447.972864 MB\n",
      "After dvec to cuda: 447.97696 MB\n",
      "After forward to cuda: 4348.018688 MB\n",
      "After input to cuda: 448.522752 MB\n",
      "\bAfter single dvec to cuda: 421.664768 MB\n",
      "\bAfter single dvec to cuda: 431.72352 MB\n",
      "\bAfter single dvec to cuda: 436.622336 MB\n",
      "\bAfter single dvec to cuda: 446.412288 MB\n",
      "After dvec to cuda: 446.416384 MB\n",
      "After forward to cuda: 4346.829824 MB\n"
     ]
    },
    {
     "name": "stderr",
     "output_type": "stream",
     "text": [
      "2021-11-24 17:01:01,995 - INFO - Wrote summary at step 61\n"
     ]
    },
    {
     "name": "stdout",
     "output_type": "stream",
     "text": [
      "After input to cuda: 446.467584 MB\n",
      "\bAfter single dvec to cuda: 422.719488 MB\n",
      "\bAfter single dvec to cuda: 432.781312 MB\n",
      "\bAfter single dvec to cuda: 442.570752 MB\n",
      "\bAfter single dvec to cuda: 445.602304 MB\n",
      "After dvec to cuda: 445.6064 MB\n",
      "After forward to cuda: 4344.534016 MB\n",
      "After input to cuda: 445.009408 MB\n",
      "\bAfter single dvec to cuda: 421.305856 MB\n",
      "\bAfter single dvec to cuda: 431.536128 MB\n",
      "\bAfter single dvec to cuda: 441.6 MB\n",
      "\bAfter single dvec to cuda: 450.57792 MB\n",
      "After dvec to cuda: 450.582016 MB\n",
      "After forward to cuda: 4350.19264 MB\n"
     ]
    },
    {
     "name": "stderr",
     "output_type": "stream",
     "text": [
      "2021-11-24 17:01:02,699 - INFO - Wrote summary at step 62\n"
     ]
    },
    {
     "name": "stdout",
     "output_type": "stream",
     "text": [
      "After input to cuda: 450.696704 MB\n",
      "\bAfter single dvec to cuda: 420.066816 MB\n",
      "\bAfter single dvec to cuda: 430.129152 MB\n",
      "\bAfter single dvec to cuda: 433.048576 MB\n",
      "\bAfter single dvec to cuda: 440.66816 MB\n",
      "After dvec to cuda: 440.672256 MB\n",
      "After forward to cuda: 4340.772352 MB\n",
      "After input to cuda: 441.161728 MB\n",
      "\bAfter single dvec to cuda: 422.457856 MB\n",
      "\bAfter single dvec to cuda: 430.89152 MB\n",
      "\bAfter single dvec to cuda: 437.938688 MB\n",
      "\bAfter single dvec to cuda: 447.459328 MB\n",
      "After dvec to cuda: 447.463424 MB\n",
      "After forward to cuda: 4347.006464 MB\n"
     ]
    },
    {
     "name": "stderr",
     "output_type": "stream",
     "text": [
      "2021-11-24 17:01:03,403 - INFO - Wrote summary at step 63\n"
     ]
    },
    {
     "name": "stdout",
     "output_type": "stream",
     "text": [
      "After input to cuda: 446.913536 MB\n",
      "\bAfter single dvec to cuda: 422.723072 MB\n",
      "\bAfter single dvec to cuda: 431.153152 MB\n",
      "\bAfter single dvec to cuda: 441.21344 MB\n",
      "\bAfter single dvec to cuda: 451.27168 MB\n",
      "After dvec to cuda: 451.275776 MB\n",
      "After forward to cuda: 4352.825856 MB\n",
      "After input to cuda: 451.87584 MB\n",
      "\bAfter single dvec to cuda: 422.775808 MB\n",
      "\bAfter single dvec to cuda: 431.48032 MB\n",
      "\bAfter single dvec to cuda: 440.45568 MB\n",
      "\bAfter single dvec to cuda: 447.49824 MB\n",
      "After dvec to cuda: 447.502336 MB\n",
      "After forward to cuda: 4346.42688 MB\n"
     ]
    },
    {
     "name": "stderr",
     "output_type": "stream",
     "text": [
      "2021-11-24 17:01:04,109 - INFO - Wrote summary at step 64\n"
     ]
    },
    {
     "name": "stdout",
     "output_type": "stream",
     "text": [
      "After input to cuda: 446.848 MB\n",
      "\bAfter single dvec to cuda: 422.393344 MB\n",
      "\bAfter single dvec to cuda: 429.435392 MB\n",
      "\bAfter single dvec to cuda: 440.037376 MB\n",
      "\bAfter single dvec to cuda: 450.37056 MB\n",
      "After dvec to cuda: 450.374656 MB\n",
      "After forward to cuda: 4350.530048 MB\n",
      "After input to cuda: 450.374656 MB\n",
      "\bAfter single dvec to cuda: 416.150016 MB\n",
      "\bAfter single dvec to cuda: 417.249792 MB\n",
      "\bAfter single dvec to cuda: 426.145792 MB\n",
      "\bAfter single dvec to cuda: 435.12064 MB\n",
      "After dvec to cuda: 435.124736 MB\n",
      "After forward to cuda: 4335.597568 MB\n"
     ]
    },
    {
     "name": "stderr",
     "output_type": "stream",
     "text": [
      "2021-11-24 17:01:04,828 - INFO - Wrote summary at step 65\n"
     ]
    },
    {
     "name": "stdout",
     "output_type": "stream",
     "text": [
      "After input to cuda: 435.124736 MB\n",
      "\bAfter single dvec to cuda: 416.692224 MB\n",
      "\bAfter single dvec to cuda: 418.169856 MB\n",
      "\bAfter single dvec to cuda: 428.505088 MB\n",
      "\bAfter single dvec to cuda: 435.032064 MB\n",
      "After dvec to cuda: 435.03616 MB\n",
      "After forward to cuda: 4335.53152 MB\n",
      "After input to cuda: 435.08736 MB\n",
      "\bAfter single dvec to cuda: 423.232512 MB\n",
      "\bAfter single dvec to cuda: 432.74752 MB\n",
      "\bAfter single dvec to cuda: 443.078656 MB\n",
      "\bAfter single dvec to cuda: 450.697728 MB\n",
      "After dvec to cuda: 450.701824 MB\n",
      "After forward to cuda: 4350.80192 MB\n"
     ]
    },
    {
     "name": "stderr",
     "output_type": "stream",
     "text": [
      "2021-11-24 17:01:05,531 - INFO - Wrote summary at step 66\n"
     ]
    },
    {
     "name": "stdout",
     "output_type": "stream",
     "text": [
      "After input to cuda: 451.229184 MB\n",
      "\bAfter single dvec to cuda: 423.684096 MB\n",
      "\bAfter single dvec to cuda: 431.57248 MB\n",
      "\bAfter single dvec to cuda: 437.558784 MB\n",
      "\bAfter single dvec to cuda: 439.469056 MB\n",
      "After dvec to cuda: 439.473152 MB\n",
      "After forward to cuda: 4340.068864 MB\n",
      "After input to cuda: 439.515136 MB\n",
      "\bAfter single dvec to cuda: 417.585664 MB\n",
      "\bAfter single dvec to cuda: 425.746944 MB\n",
      "\bAfter single dvec to cuda: 435.807744 MB\n",
      "\bAfter single dvec to cuda: 445.328896 MB\n",
      "After dvec to cuda: 445.332992 MB\n",
      "After forward to cuda: 4345.762816 MB\n"
     ]
    },
    {
     "name": "stderr",
     "output_type": "stream",
     "text": [
      "2021-11-24 17:01:06,234 - INFO - Wrote summary at step 67\n"
     ]
    },
    {
     "name": "stdout",
     "output_type": "stream",
     "text": [
      "After input to cuda: 445.43232 MB\n",
      "\bAfter single dvec to cuda: 422.299136 MB\n",
      "\bAfter single dvec to cuda: 432.086528 MB\n",
      "\bAfter single dvec to cuda: 436.44672 MB\n",
      "\bAfter single dvec to cuda: 445.964288 MB\n",
      "After dvec to cuda: 445.968384 MB\n",
      "After forward to cuda: 4345.17248 MB\n",
      "After input to cuda: 445.248512 MB\n",
      "\bAfter single dvec to cuda: 421.85472 MB\n",
      "\bAfter single dvec to cuda: 431.373312 MB\n",
      "\bAfter single dvec to cuda: 441.766912 MB\n",
      "\bAfter single dvec to cuda: 444.495872 MB\n",
      "After dvec to cuda: 444.499968 MB\n",
      "After forward to cuda: 4346.29888 MB\n"
     ]
    },
    {
     "name": "stderr",
     "output_type": "stream",
     "text": [
      "2021-11-24 17:01:06,936 - INFO - Wrote summary at step 68\n"
     ]
    },
    {
     "name": "stdout",
     "output_type": "stream",
     "text": [
      "After input to cuda: 444.82048 MB\n",
      "\bAfter single dvec to cuda: 423.479808 MB\n",
      "\bAfter single dvec to cuda: 434.354688 MB\n",
      "\bAfter single dvec to cuda: 438.165504 MB\n",
      "\bAfter single dvec to cuda: 448.4992 MB\n",
      "After dvec to cuda: 448.503296 MB\n",
      "After forward to cuda: 4347.72992 MB\n",
      "After input to cuda: 448.157184 MB\n",
      "\bAfter single dvec to cuda: 418.387456 MB\n",
      "\bAfter single dvec to cuda: 428.671488 MB\n",
      "\bAfter single dvec to cuda: 439.002624 MB\n",
      "\bAfter single dvec to cuda: 440.482304 MB\n",
      "After dvec to cuda: 440.4864 MB\n",
      "After forward to cuda: 4340.059136 MB\n"
     ]
    },
    {
     "name": "stderr",
     "output_type": "stream",
     "text": [
      "2021-11-24 17:01:07,640 - INFO - Wrote summary at step 69\n"
     ]
    },
    {
     "name": "stdout",
     "output_type": "stream",
     "text": [
      "After input to cuda: 440.512 MB\n",
      "\bAfter single dvec to cuda: 418.59328 MB\n",
      "\bAfter single dvec to cuda: 429.472256 MB\n",
      "\bAfter single dvec to cuda: 439.803904 MB\n",
      "\bAfter single dvec to cuda: 450.680832 MB\n",
      "After dvec to cuda: 450.684928 MB\n",
      "After forward to cuda: 4350.868992 MB\n",
      "After input to cuda: 451.344384 MB\n",
      "\bAfter single dvec to cuda: 423.762944 MB\n",
      "\bAfter single dvec to cuda: 433.552896 MB\n",
      "\bAfter single dvec to cuda: 444.431872 MB\n",
      "\bAfter single dvec to cuda: 453.676032 MB\n",
      "After dvec to cuda: 453.680128 MB\n",
      "After forward to cuda: 4353.778176 MB\n"
     ]
    },
    {
     "name": "stderr",
     "output_type": "stream",
     "text": [
      "2021-11-24 17:01:08,344 - INFO - Wrote summary at step 70\n"
     ]
    },
    {
     "name": "stdout",
     "output_type": "stream",
     "text": [
      "After input to cuda: 453.680128 MB\n",
      "\bAfter single dvec to cuda: 423.47264 MB\n",
      "\bAfter single dvec to cuda: 432.992768 MB\n",
      "\bAfter single dvec to cuda: 440.607232 MB\n",
      "\bAfter single dvec to cuda: 451.214848 MB\n",
      "After dvec to cuda: 451.218944 MB\n",
      "After forward to cuda: 4350.084096 MB\n",
      "After input to cuda: 450.559488 MB\n",
      "\bAfter single dvec to cuda: 423.210496 MB\n",
      "\bAfter single dvec to cuda: 427.022848 MB\n",
      "\bAfter single dvec to cuda: 435.726336 MB\n",
      "\bAfter single dvec to cuda: 443.3408 MB\n",
      "After dvec to cuda: 443.344896 MB\n",
      "After forward to cuda: 4342.892032 MB\n"
     ]
    },
    {
     "name": "stderr",
     "output_type": "stream",
     "text": [
      "2021-11-24 17:01:09,050 - INFO - Wrote summary at step 71\n"
     ]
    },
    {
     "name": "stdout",
     "output_type": "stream",
     "text": [
      "After input to cuda: 443.396096 MB\n",
      "\bAfter single dvec to cuda: 421.63456 MB\n",
      "\bAfter single dvec to cuda: 430.337536 MB\n",
      "\bAfter single dvec to cuda: 439.581184 MB\n",
      "\bAfter single dvec to cuda: 441.05728 MB\n",
      "After dvec to cuda: 441.061376 MB\n",
      "After forward to cuda: 4342.408704 MB\n",
      "After input to cuda: 441.409536 MB\n",
      "\bAfter single dvec to cuda: 418.179584 MB\n",
      "\bAfter single dvec to cuda: 423.353344 MB\n",
      "\bAfter single dvec to cuda: 433.688064 MB\n",
      "\bAfter single dvec to cuda: 442.93632 MB\n",
      "After dvec to cuda: 442.940416 MB\n",
      "After forward to cuda: 4342.199296 MB\n"
     ]
    },
    {
     "name": "stderr",
     "output_type": "stream",
     "text": [
      "2021-11-24 17:01:09,753 - INFO - Wrote summary at step 72\n"
     ]
    },
    {
     "name": "stdout",
     "output_type": "stream",
     "text": [
      "After input to cuda: 443.63264 MB\n",
      "\bAfter single dvec to cuda: 424.221696 MB\n",
      "\bAfter single dvec to cuda: 431.566336 MB\n",
      "\bAfter single dvec to cuda: 441.355776 MB\n",
      "\bAfter single dvec to cuda: 450.876416 MB\n",
      "After dvec to cuda: 450.880512 MB\n",
      "After forward to cuda: 4352.428544 MB\n",
      "After input to cuda: 451.227648 MB\n",
      "\bAfter single dvec to cuda: 424.599552 MB\n",
      "\bAfter single dvec to cuda: 428.142592 MB\n",
      "\bAfter single dvec to cuda: 438.204416 MB\n",
      "\bAfter single dvec to cuda: 448.534528 MB\n",
      "After dvec to cuda: 448.538624 MB\n",
      "After forward to cuda: 4347.820544 MB\n"
     ]
    },
    {
     "name": "stderr",
     "output_type": "stream",
     "text": [
      "2021-11-24 17:01:10,459 - INFO - Wrote summary at step 73\n"
     ]
    },
    {
     "name": "stdout",
     "output_type": "stream",
     "text": [
      "After input to cuda: 447.696896 MB\n",
      "\bAfter single dvec to cuda: 422.449152 MB\n",
      "\bAfter single dvec to cuda: 432.755712 MB\n",
      "\bAfter single dvec to cuda: 441.492992 MB\n",
      "\bAfter single dvec to cuda: 450.195456 MB\n",
      "After dvec to cuda: 450.199552 MB\n",
      "After forward to cuda: 4349.707264 MB\n",
      "After input to cuda: 449.60256 MB\n",
      "\bAfter single dvec to cuda: 419.557888 MB\n",
      "\bAfter single dvec to cuda: 429.682688 MB\n",
      "\bAfter single dvec to cuda: 433.496576 MB\n",
      "\bAfter single dvec to cuda: 443.831808 MB\n",
      "After dvec to cuda: 443.835904 MB\n",
      "After forward to cuda: 4343.38304 MB\n"
     ]
    },
    {
     "name": "stderr",
     "output_type": "stream",
     "text": [
      "2021-11-24 17:01:11,162 - INFO - Wrote summary at step 74\n"
     ]
    },
    {
     "name": "stdout",
     "output_type": "stream",
     "text": [
      "After input to cuda: 443.887104 MB\n",
      "\bAfter single dvec to cuda: 421.63456 MB\n",
      "\bAfter single dvec to cuda: 430.339072 MB\n",
      "\bAfter single dvec to cuda: 438.633984 MB\n",
      "\bAfter single dvec to cuda: 447.60576 MB\n",
      "After dvec to cuda: 447.609856 MB\n",
      "After forward to cuda: 4348.03712 MB\n",
      "After input to cuda: 447.558656 MB\n",
      "\bAfter single dvec to cuda: 423.1808 MB\n",
      "\bAfter single dvec to cuda: 433.068032 MB\n",
      "\bAfter single dvec to cuda: 438.509568 MB\n",
      "\bAfter single dvec to cuda: 448.297984 MB\n",
      "After dvec to cuda: 448.30208 MB\n",
      "After forward to cuda: 4348.938752 MB\n"
     ]
    },
    {
     "name": "stderr",
     "output_type": "stream",
     "text": [
      "2021-11-24 17:01:11,866 - INFO - Wrote summary at step 75\n"
     ]
    },
    {
     "name": "stdout",
     "output_type": "stream",
     "text": [
      "After input to cuda: 449.063424 MB\n",
      "\bAfter single dvec to cuda: 420.603392 MB\n",
      "\bAfter single dvec to cuda: 429.966336 MB\n",
      "\bAfter single dvec to cuda: 439.678464 MB\n",
      "\bAfter single dvec to cuda: 449.957888 MB\n",
      "After dvec to cuda: 449.961984 MB\n",
      "After forward to cuda: 4348.725248 MB\n",
      "After input to cuda: 449.20064 MB\n",
      "\bAfter single dvec to cuda: 418.320384 MB\n",
      "\bAfter single dvec to cuda: 428.108288 MB\n",
      "\bAfter single dvec to cuda: 437.471744 MB\n",
      "\bAfter single dvec to cuda: 447.727616 MB\n",
      "After dvec to cuda: 447.731712 MB\n",
      "After forward to cuda: 4348.304384 MB\n"
     ]
    },
    {
     "name": "stderr",
     "output_type": "stream",
     "text": [
      "2021-11-24 17:01:12,569 - INFO - Wrote summary at step 76\n"
     ]
    },
    {
     "name": "stdout",
     "output_type": "stream",
     "text": [
      "After input to cuda: 448.493056 MB\n",
      "\bAfter single dvec to cuda: 423.973888 MB\n",
      "\bAfter single dvec to cuda: 433.306624 MB\n",
      "\bAfter single dvec to cuda: 443.094016 MB\n",
      "\bAfter single dvec to cuda: 450.436608 MB\n",
      "After dvec to cuda: 450.440704 MB\n",
      "After forward to cuda: 4349.777408 MB\n",
      "After input to cuda: 449.67936 MB\n",
      "\bAfter single dvec to cuda: 423.183872 MB\n",
      "\bAfter single dvec to cuda: 430.53056 MB\n",
      "\bAfter single dvec to cuda: 440.265216 MB\n",
      "\bAfter single dvec to cuda: 447.340544 MB\n",
      "After dvec to cuda: 447.34464 MB\n",
      "After forward to cuda: 4346.869248 MB\n"
     ]
    },
    {
     "name": "stderr",
     "output_type": "stream",
     "text": [
      "2021-11-24 17:01:13,277 - INFO - Wrote summary at step 77\n"
     ]
    },
    {
     "name": "stdout",
     "output_type": "stream",
     "text": [
      "After input to cuda: 447.34464 MB\n",
      "\bAfter single dvec to cuda: 423.750656 MB\n",
      "\bAfter single dvec to cuda: 434.055168 MB\n",
      "\bAfter single dvec to cuda: 437.051904 MB\n",
      "\bAfter single dvec to cuda: 445.267456 MB\n",
      "After dvec to cuda: 445.271552 MB\n",
      "After forward to cuda: 4345.87136 MB\n",
      "After input to cuda: 445.873664 MB\n",
      "\bAfter single dvec to cuda: 421.908992 MB\n",
      "\bAfter single dvec to cuda: 426.268672 MB\n",
      "\bAfter single dvec to cuda: 434.159104 MB\n",
      "\bAfter single dvec to cuda: 444.491264 MB\n",
      "After dvec to cuda: 444.49536 MB\n",
      "After forward to cuda: 4345.002496 MB\n"
     ]
    },
    {
     "name": "stderr",
     "output_type": "stream",
     "text": [
      "2021-11-24 17:01:13,995 - INFO - Wrote summary at step 78\n"
     ]
    },
    {
     "name": "stdout",
     "output_type": "stream",
     "text": [
      "After input to cuda: 445.50656 MB\n",
      "\bAfter single dvec to cuda: 424.824832 MB\n",
      "\bAfter single dvec to cuda: 435.155968 MB\n",
      "\bAfter single dvec to cuda: 443.3152 MB\n",
      "\bAfter single dvec to cuda: 448.21504 MB\n",
      "After dvec to cuda: 448.219136 MB\n",
      "After forward to cuda: 4348.296192 MB\n",
      "After input to cuda: 446.605824 MB\n",
      "\bAfter single dvec to cuda: 420.49536 MB\n",
      "\bAfter single dvec to cuda: 430.831104 MB\n",
      "\bAfter single dvec to cuda: 441.161728 MB\n",
      "\bAfter single dvec to cuda: 443.83488 MB\n",
      "After dvec to cuda: 443.838976 MB\n",
      "After forward to cuda: 4343.645184 MB\n"
     ]
    },
    {
     "name": "stderr",
     "output_type": "stream",
     "text": [
      "2021-11-24 17:01:14,718 - INFO - Wrote summary at step 79\n"
     ]
    },
    {
     "name": "stdout",
     "output_type": "stream",
     "text": [
      "After input to cuda: 443.838976 MB\n",
      "\bAfter single dvec to cuda: 421.30688 MB\n",
      "\bAfter single dvec to cuda: 430.55616 MB\n",
      "\bAfter single dvec to cuda: 435.728896 MB\n",
      "\bAfter single dvec to cuda: 443.649024 MB\n",
      "After dvec to cuda: 443.65312 MB\n",
      "After forward to cuda: 4344.06656 MB\n",
      "After input to cuda: 443.973632 MB\n",
      "\bAfter single dvec to cuda: 415.650816 MB\n",
      "\bAfter single dvec to cuda: 425.984 MB\n",
      "\bAfter single dvec to cuda: 433.055232 MB\n",
      "\bAfter single dvec to cuda: 441.757696 MB\n",
      "After dvec to cuda: 441.761792 MB\n",
      "After forward to cuda: 4341.106176 MB\n"
     ]
    },
    {
     "name": "stderr",
     "output_type": "stream",
     "text": [
      "2021-11-24 17:01:15,434 - INFO - Wrote summary at step 80\n"
     ]
    },
    {
     "name": "stdout",
     "output_type": "stream",
     "text": [
      "After input to cuda: 441.53344 MB\n",
      "\bAfter single dvec to cuda: 418.416128 MB\n",
      "\bAfter single dvec to cuda: 428.70016 MB\n",
      "\bAfter single dvec to cuda: 438.76096 MB\n",
      "\bAfter single dvec to cuda: 444.745728 MB\n",
      "After dvec to cuda: 444.749824 MB\n",
      "After forward to cuda: 4345.183744 MB\n",
      "After input to cuda: 445.659136 MB\n",
      "\bAfter single dvec to cuda: 417.4208 MB\n",
      "\bAfter single dvec to cuda: 419.8784 MB\n",
      "\bAfter single dvec to cuda: 429.942272 MB\n",
      "\bAfter single dvec to cuda: 442.136064 MB\n",
      "After dvec to cuda: 442.14016 MB\n",
      "After forward to cuda: 4341.671936 MB\n"
     ]
    },
    {
     "name": "stderr",
     "output_type": "stream",
     "text": [
      "2021-11-24 17:01:16,153 - INFO - Wrote summary at step 81\n"
     ]
    },
    {
     "name": "stdout",
     "output_type": "stream",
     "text": [
      "After input to cuda: 442.176 MB\n",
      "\bAfter single dvec to cuda: 424.518656 MB\n",
      "\bAfter single dvec to cuda: 432.949248 MB\n",
      "\bAfter single dvec to cuda: 441.212928 MB\n",
      "\bAfter single dvec to cuda: 447.176192 MB\n",
      "After dvec to cuda: 447.180288 MB\n",
      "After forward to cuda: 4347.398144 MB\n",
      "After input to cuda: 446.257664 MB\n",
      "\bAfter single dvec to cuda: 421.420544 MB\n",
      "\bAfter single dvec to cuda: 431.755264 MB\n",
      "\bAfter single dvec to cuda: 435.838464 MB\n",
      "\bAfter single dvec to cuda: 445.35808 MB\n",
      "After dvec to cuda: 445.362176 MB\n",
      "After forward to cuda: 4345.460224 MB\n"
     ]
    },
    {
     "name": "stderr",
     "output_type": "stream",
     "text": [
      "2021-11-24 17:01:16,878 - INFO - Wrote summary at step 82\n"
     ]
    },
    {
     "name": "stdout",
     "output_type": "stream",
     "text": [
      "After input to cuda: 445.247488 MB\n",
      "\bAfter single dvec to cuda: 423.132672 MB\n",
      "\bAfter single dvec to cuda: 431.838208 MB\n",
      "\bAfter single dvec to cuda: 442.712064 MB\n",
      "\bAfter single dvec to cuda: 448.971264 MB\n",
      "After dvec to cuda: 448.97536 MB\n",
      "After forward to cuda: 4349.3888 MB\n",
      "After input to cuda: 449.295872 MB\n",
      "\bAfter single dvec to cuda: 414.836736 MB\n",
      "\bAfter single dvec to cuda: 425.115648 MB\n",
      "\bAfter single dvec to cuda: 434.363904 MB\n",
      "\bAfter single dvec to cuda: 444.965888 MB\n",
      "After dvec to cuda: 444.969984 MB\n",
      "After forward to cuda: 4344.17408 MB\n"
     ]
    },
    {
     "name": "stderr",
     "output_type": "stream",
     "text": [
      "2021-11-24 17:01:17,604 - INFO - Wrote summary at step 83\n"
     ]
    },
    {
     "name": "stdout",
     "output_type": "stream",
     "text": [
      "After input to cuda: 444.649472 MB\n",
      "\bAfter single dvec to cuda: 420.768256 MB\n",
      "\bAfter single dvec to cuda: 422.248448 MB\n",
      "\bAfter single dvec to cuda: 431.76448 MB\n",
      "\bAfter single dvec to cuda: 439.9232 MB\n",
      "After dvec to cuda: 439.927296 MB\n",
      "After forward to cuda: 4340.81536 MB\n",
      "After input to cuda: 439.927296 MB\n",
      "\bAfter single dvec to cuda: 423.104 MB\n",
      "\bAfter single dvec to cuda: 429.761024 MB\n",
      "\bAfter single dvec to cuda: 439.552 MB\n",
      "\bAfter single dvec to cuda: 448.800256 MB\n",
      "After dvec to cuda: 448.804352 MB\n",
      "After forward to cuda: 4348.9024 MB\n"
     ]
    },
    {
     "name": "stderr",
     "output_type": "stream",
     "text": [
      "2021-11-24 17:01:18,319 - INFO - Wrote summary at step 84\n"
     ]
    },
    {
     "name": "stdout",
     "output_type": "stream",
     "text": [
      "After input to cuda: 448.804352 MB\n",
      "\bAfter single dvec to cuda: 415.331328 MB\n",
      "\bAfter single dvec to cuda: 417.515008 MB\n",
      "\bAfter single dvec to cuda: 421.998592 MB\n",
      "\bAfter single dvec to cuda: 427.173376 MB\n",
      "After dvec to cuda: 427.177472 MB\n",
      "After forward to cuda: 4328.413184 MB\n",
      "After input to cuda: 427.100672 MB\n",
      "\bAfter single dvec to cuda: 423.105536 MB\n",
      "\bAfter single dvec to cuda: 430.995456 MB\n",
      "\bAfter single dvec to cuda: 440.782336 MB\n",
      "\bAfter single dvec to cuda: 450.569216 MB\n",
      "After dvec to cuda: 450.573312 MB\n",
      "After forward to cuda: 4351.32928 MB\n"
     ]
    },
    {
     "name": "stderr",
     "output_type": "stream",
     "text": [
      "2021-11-24 17:01:19,046 - INFO - Wrote summary at step 85\n"
     ]
    },
    {
     "name": "stdout",
     "output_type": "stream",
     "text": [
      "After input to cuda: 451.562496 MB\n",
      "\bAfter single dvec to cuda: 422.491648 MB\n",
      "\bAfter single dvec to cuda: 430.108672 MB\n",
      "\bAfter single dvec to cuda: 440.715776 MB\n",
      "\bAfter single dvec to cuda: 450.774528 MB\n",
      "After dvec to cuda: 450.778624 MB\n",
      "After forward to cuda: 4350.811136 MB\n",
      "After input to cuda: 450.463232 MB\n",
      "\bAfter single dvec to cuda: 423.75424 MB\n",
      "\bAfter single dvec to cuda: 432.728064 MB\n",
      "\bAfter single dvec to cuda: 440.347648 MB\n",
      "\bAfter single dvec to cuda: 448.508416 MB\n",
      "After dvec to cuda: 448.512512 MB\n",
      "After forward to cuda: 4348.798976 MB\n"
     ]
    },
    {
     "name": "stderr",
     "output_type": "stream",
     "text": [
      "2021-11-24 17:01:19,773 - INFO - Wrote summary at step 86\n"
     ]
    },
    {
     "name": "stdout",
     "output_type": "stream",
     "text": [
      "After input to cuda: 447.91552 MB\n",
      "\bAfter single dvec to cuda: 423.159296 MB\n",
      "\bAfter single dvec to cuda: 433.219584 MB\n",
      "\bAfter single dvec to cuda: 438.884864 MB\n",
      "\bAfter single dvec to cuda: 447.589376 MB\n",
      "After dvec to cuda: 447.593472 MB\n",
      "After forward to cuda: 4347.8656 MB\n",
      "After input to cuda: 447.593472 MB\n",
      "\bAfter single dvec to cuda: 423.483904 MB\n",
      "\bAfter single dvec to cuda: 435.134976 MB\n",
      "\bAfter single dvec to cuda: 445.415424 MB\n",
      "\bAfter single dvec to cuda: 454.659584 MB\n",
      "After dvec to cuda: 454.66368 MB\n",
      "After forward to cuda: 4354.475008 MB\n"
     ]
    },
    {
     "name": "stderr",
     "output_type": "stream",
     "text": [
      "2021-11-24 17:01:20,479 - INFO - Wrote summary at step 87\n"
     ]
    },
    {
     "name": "stdout",
     "output_type": "stream",
     "text": [
      "After input to cuda: 454.66368 MB\n",
      "\bAfter single dvec to cuda: 422.764032 MB\n",
      "\bAfter single dvec to cuda: 433.046528 MB\n",
      "\bAfter single dvec to cuda: 442.56256 MB\n",
      "\bAfter single dvec to cuda: 451.536384 MB\n",
      "After dvec to cuda: 451.54048 MB\n",
      "After forward to cuda: 4351.598592 MB\n",
      "After input to cuda: 452.073984 MB\n",
      "\bAfter single dvec to cuda: 423.665664 MB\n",
      "\bAfter single dvec to cuda: 432.613888 MB\n",
      "\bAfter single dvec to cuda: 441.861632 MB\n",
      "\bAfter single dvec to cuda: 451.379712 MB\n",
      "After dvec to cuda: 451.383808 MB\n",
      "After forward to cuda: 4350.695424 MB\n"
     ]
    },
    {
     "name": "stderr",
     "output_type": "stream",
     "text": [
      "2021-11-24 17:01:21,186 - INFO - Wrote summary at step 88\n"
     ]
    },
    {
     "name": "stdout",
     "output_type": "stream",
     "text": [
      "After input to cuda: 451.170816 MB\n",
      "\bAfter single dvec to cuda: 417.28256 MB\n",
      "\bAfter single dvec to cuda: 420.174336 MB\n",
      "\bAfter single dvec to cuda: 430.480384 MB\n",
      "\bAfter single dvec to cuda: 440.81152 MB\n",
      "After dvec to cuda: 440.815616 MB\n",
      "After forward to cuda: 4342.219776 MB\n",
      "After input to cuda: 440.495104 MB\n",
      "\bAfter single dvec to cuda: 415.87456 MB\n",
      "\bAfter single dvec to cuda: 424.037376 MB\n",
      "\bAfter single dvec to cuda: 432.470528 MB\n",
      "\bAfter single dvec to cuda: 440.63232 MB\n",
      "After dvec to cuda: 440.636416 MB\n",
      "After forward to cuda: 4340.768256 MB\n"
     ]
    },
    {
     "name": "stderr",
     "output_type": "stream",
     "text": [
      "2021-11-24 17:01:21,888 - INFO - Wrote summary at step 89\n"
     ]
    },
    {
     "name": "stdout",
     "output_type": "stream",
     "text": [
      "After input to cuda: 440.636416 MB\n",
      "\bAfter single dvec to cuda: 423.18592 MB\n",
      "\bAfter single dvec to cuda: 431.88736 MB\n",
      "\bAfter single dvec to cuda: 442.488832 MB\n",
      "\bAfter single dvec to cuda: 443.969536 MB\n",
      "After dvec to cuda: 443.973632 MB\n",
      "After forward to cuda: 4343.813632 MB\n",
      "After input to cuda: 444.289024 MB\n",
      "\bAfter single dvec to cuda: 420.535296 MB\n",
      "\bAfter single dvec to cuda: 429.241344 MB\n",
      "\bAfter single dvec to cuda: 439.844352 MB\n",
      "\bAfter single dvec to cuda: 449.089024 MB\n",
      "After dvec to cuda: 449.09312 MB\n",
      "After forward to cuda: 4348.875776 MB\n"
     ]
    },
    {
     "name": "stderr",
     "output_type": "stream",
     "text": [
      "2021-11-24 17:01:22,591 - INFO - Wrote summary at step 90\n"
     ]
    },
    {
     "name": "stdout",
     "output_type": "stream",
     "text": [
      "After input to cuda: 448.856064 MB\n",
      "\bAfter single dvec to cuda: 423.239168 MB\n",
      "\bAfter single dvec to cuda: 433.297408 MB\n",
      "\bAfter single dvec to cuda: 442.812928 MB\n",
      "\bAfter single dvec to cuda: 444.724224 MB\n",
      "After dvec to cuda: 444.72832 MB\n",
      "After forward to cuda: 4344.252928 MB\n",
      "After input to cuda: 444.72832 MB\n",
      "\bAfter single dvec to cuda: 423.187456 MB\n",
      "\bAfter single dvec to cuda: 433.246208 MB\n",
      "\bAfter single dvec to cuda: 437.602304 MB\n",
      "\bAfter single dvec to cuda: 447.936512 MB\n",
      "After dvec to cuda: 447.940608 MB\n",
      "After forward to cuda: 4347.465216 MB\n"
     ]
    },
    {
     "name": "stderr",
     "output_type": "stream",
     "text": [
      "2021-11-24 17:01:23,308 - INFO - Wrote summary at step 91\n"
     ]
    },
    {
     "name": "stdout",
     "output_type": "stream",
     "text": [
      "After input to cuda: 448.177664 MB\n",
      "\bAfter single dvec to cuda: 422.167552 MB\n",
      "\bAfter single dvec to cuda: 432.50176 MB\n",
      "\bAfter single dvec to cuda: 442.83648 MB\n",
      "\bAfter single dvec to cuda: 451.539968 MB\n",
      "After dvec to cuda: 451.544064 MB\n",
      "After forward to cuda: 4351.642112 MB\n",
      "After input to cuda: 451.798528 MB\n",
      "\bAfter single dvec to cuda: 423.704576 MB\n",
      "\bAfter single dvec to cuda: 433.762816 MB\n",
      "\bAfter single dvec to cuda: 443.553792 MB\n",
      "\bAfter single dvec to cuda: 451.710976 MB\n",
      "After dvec to cuda: 451.715072 MB\n",
      "After forward to cuda: 4351.560192 MB\n"
     ]
    },
    {
     "name": "stderr",
     "output_type": "stream",
     "text": [
      "2021-11-24 17:01:24,013 - INFO - Wrote summary at step 92\n"
     ]
    },
    {
     "name": "stdout",
     "output_type": "stream",
     "text": [
      "After input to cuda: 451.465728 MB\n",
      "\bAfter single dvec to cuda: 421.901312 MB\n",
      "\bAfter single dvec to cuda: 432.503296 MB\n",
      "\bAfter single dvec to cuda: 440.660992 MB\n",
      "\bAfter single dvec to cuda: 444.74624 MB\n",
      "After dvec to cuda: 444.750336 MB\n",
      "After forward to cuda: 4344.274944 MB\n",
      "After input to cuda: 444.750336 MB\n",
      "\bAfter single dvec to cuda: 423.45216 MB\n",
      "\bAfter single dvec to cuda: 433.51296 MB\n",
      "\bAfter single dvec to cuda: 443.577344 MB\n",
      "\bAfter single dvec to cuda: 453.366784 MB\n",
      "After dvec to cuda: 453.37088 MB\n",
      "After forward to cuda: 4353.182208 MB\n"
     ]
    },
    {
     "name": "stderr",
     "output_type": "stream",
     "text": [
      "2021-11-24 17:01:24,733 - INFO - Wrote summary at step 93\n"
     ]
    },
    {
     "name": "stdout",
     "output_type": "stream",
     "text": [
      "After input to cuda: 453.050368 MB\n",
      "\bAfter single dvec to cuda: 421.8496 MB\n",
      "\bAfter single dvec to cuda: 431.368192 MB\n",
      "\bAfter single dvec to cuda: 438.385664 MB\n",
      "\bAfter single dvec to cuda: 448.717824 MB\n",
      "After dvec to cuda: 448.72192 MB\n",
      "After forward to cuda: 4348.528128 MB\n",
      "After input to cuda: 448.72192 MB\n",
      "\bAfter single dvec to cuda: 416.375296 MB\n",
      "\bAfter single dvec to cuda: 421.82144 MB\n",
      "\bAfter single dvec to cuda: 426.724864 MB\n",
      "\bAfter single dvec to cuda: 436.514304 MB\n",
      "After dvec to cuda: 436.5184 MB\n",
      "After forward to cuda: 4336.991232 MB\n"
     ]
    },
    {
     "name": "stderr",
     "output_type": "stream",
     "text": [
      "2021-11-24 17:01:25,435 - INFO - Wrote summary at step 94\n"
     ]
    },
    {
     "name": "stdout",
     "output_type": "stream",
     "text": [
      "After input to cuda: 436.5184 MB\n",
      "\bAfter single dvec to cuda: 423.48288 MB\n",
      "\bAfter single dvec to cuda: 424.961536 MB\n",
      "\bAfter single dvec to cuda: 433.255936 MB\n",
      "\bAfter single dvec to cuda: 443.590144 MB\n",
      "After dvec to cuda: 443.59424 MB\n",
      "After forward to cuda: 4343.43424 MB\n",
      "After input to cuda: 443.909632 MB\n",
      "\bAfter single dvec to cuda: 423.448064 MB\n",
      "\bAfter single dvec to cuda: 433.505792 MB\n",
      "\bAfter single dvec to cuda: 443.295232 MB\n",
      "\bAfter single dvec to cuda: 452.813312 MB\n",
      "After dvec to cuda: 452.817408 MB\n",
      "After forward to cuda: 4353.395712 MB\n"
     ]
    },
    {
     "name": "stderr",
     "output_type": "stream",
     "text": [
      "2021-11-24 17:01:26,139 - INFO - Wrote summary at step 95\n"
     ]
    },
    {
     "name": "stdout",
     "output_type": "stream",
     "text": [
      "After input to cuda: 453.302784 MB\n",
      "\bAfter single dvec to cuda: 421.56544 MB\n",
      "\bAfter single dvec to cuda: 432.440832 MB\n",
      "\bAfter single dvec to cuda: 442.671616 MB\n",
      "\bAfter single dvec to cuda: 447.845888 MB\n",
      "After dvec to cuda: 447.849984 MB\n",
      "After forward to cuda: 4347.284992 MB\n",
      "After input to cuda: 447.760384 MB\n",
      "\bAfter single dvec to cuda: 423.921664 MB\n",
      "\bAfter single dvec to cuda: 431.808 MB\n",
      "\bAfter single dvec to cuda: 441.05728 MB\n",
      "\bAfter single dvec to cuda: 444.540416 MB\n",
      "After dvec to cuda: 444.544512 MB\n",
      "After forward to cuda: 4343.931392 MB\n"
     ]
    },
    {
     "name": "stderr",
     "output_type": "stream",
     "text": [
      "2021-11-24 17:01:26,844 - INFO - Wrote summary at step 96\n"
     ]
    },
    {
     "name": "stdout",
     "output_type": "stream",
     "text": [
      "After input to cuda: 444.589568 MB\n",
      "\bAfter single dvec to cuda: 420.652544 MB\n",
      "\bAfter single dvec to cuda: 430.932992 MB\n",
      "\bAfter single dvec to cuda: 433.386496 MB\n",
      "\bAfter single dvec to cuda: 443.175424 MB\n",
      "After dvec to cuda: 443.17952 MB\n",
      "After forward to cuda: 4343.154688 MB\n",
      "After input to cuda: 443.17952 MB\n",
      "\bAfter single dvec to cuda: 423.942656 MB\n",
      "\bAfter single dvec to cuda: 432.914944 MB\n",
      "\bAfter single dvec to cuda: 441.61792 MB\n",
      "\bAfter single dvec to cuda: 446.790144 MB\n",
      "After dvec to cuda: 446.79424 MB\n",
      "After forward to cuda: 4347.28192 MB\n"
     ]
    },
    {
     "name": "stderr",
     "output_type": "stream",
     "text": [
      "2021-11-24 17:01:27,570 - INFO - Wrote summary at step 97\n"
     ]
    },
    {
     "name": "stdout",
     "output_type": "stream",
     "text": [
      "After input to cuda: 447.001088 MB\n",
      "\bAfter single dvec to cuda: 424.095232 MB\n",
      "\bAfter single dvec to cuda: 429.266432 MB\n",
      "\bAfter single dvec to cuda: 439.872 MB\n",
      "\bAfter single dvec to cuda: 450.206208 MB\n",
      "After dvec to cuda: 450.210304 MB\n",
      "After forward to cuda: 4350.101504 MB\n",
      "After input to cuda: 450.605568 MB\n",
      "\bAfter single dvec to cuda: 424.544256 MB\n",
      "\bAfter single dvec to cuda: 428.35968 MB\n",
      "\bAfter single dvec to cuda: 438.967296 MB\n",
      "\bAfter single dvec to cuda: 448.211968 MB\n",
      "After dvec to cuda: 448.216064 MB\n",
      "After forward to cuda: 4346.822144 MB\n"
     ]
    },
    {
     "name": "stderr",
     "output_type": "stream",
     "text": [
      "2021-11-24 17:01:28,286 - INFO - Wrote summary at step 98\n"
     ]
    },
    {
     "name": "stdout",
     "output_type": "stream",
     "text": [
      "After input to cuda: 446.857728 MB\n",
      "\bAfter single dvec to cuda: 419.867648 MB\n",
      "\bAfter single dvec to cuda: 429.753856 MB\n",
      "\bAfter single dvec to cuda: 437.642752 MB\n",
      "\bAfter single dvec to cuda: 446.619648 MB\n",
      "After dvec to cuda: 446.623744 MB\n",
      "After forward to cuda: 4346.148352 MB\n",
      "After input to cuda: 446.623744 MB\n",
      "\bAfter single dvec to cuda: 414.355968 MB\n",
      "\bAfter single dvec to cuda: 424.52992 MB\n",
      "\bAfter single dvec to cuda: 434.417664 MB\n",
      "\bAfter single dvec to cuda: 435.784192 MB\n",
      "After dvec to cuda: 435.788288 MB\n",
      "After forward to cuda: 4335.972352 MB\n"
     ]
    },
    {
     "name": "stderr",
     "output_type": "stream",
     "text": [
      "2021-11-24 17:01:29,030 - INFO - Wrote summary at step 99\n"
     ]
    },
    {
     "name": "stdout",
     "output_type": "stream",
     "text": [
      "After input to cuda: 436.447744 MB\n",
      "\bAfter single dvec to cuda: 424.141824 MB\n",
      "\bAfter single dvec to cuda: 434.203136 MB\n",
      "\bAfter single dvec to cuda: 443.990016 MB\n",
      "\bAfter single dvec to cuda: 454.86336 MB\n",
      "After dvec to cuda: 454.867456 MB\n",
      "After forward to cuda: 4353.732608 MB\n",
      "After input to cuda: 454.208 MB\n",
      "\bAfter single dvec to cuda: 420.762112 MB\n",
      "\bAfter single dvec to cuda: 428.647424 MB\n",
      "\bAfter single dvec to cuda: 437.620224 MB\n",
      "\bAfter single dvec to cuda: 447.407616 MB\n",
      "After dvec to cuda: 447.411712 MB\n",
      "After forward to cuda: 4347.870208 MB\n"
     ]
    },
    {
     "name": "stderr",
     "output_type": "stream",
     "text": [
      "2021-11-24 17:01:29,736 - INFO - Wrote summary at step 100\n"
     ]
    },
    {
     "name": "stdout",
     "output_type": "stream",
     "text": [
      "After input to cuda: 447.77216 MB\n",
      "\bAfter single dvec to cuda: 423.12448 MB\n",
      "\bAfter single dvec to cuda: 433.457664 MB\n",
      "\bAfter single dvec to cuda: 443.520512 MB\n",
      "\bAfter single dvec to cuda: 451.137024 MB\n",
      "After dvec to cuda: 451.14112 MB\n",
      "After forward to cuda: 4350.665728 MB\n",
      "After input to cuda: 450.780672 MB\n",
      "\bAfter single dvec to cuda: 422.733824 MB\n",
      "\bAfter single dvec to cuda: 433.015808 MB\n",
      "\bAfter single dvec to cuda: 441.347584 MB\n",
      "\bAfter single dvec to cuda: 452.109824 MB\n",
      "After dvec to cuda: 452.11392 MB\n",
      "After forward to cuda: 4352.206848 MB\n"
     ]
    },
    {
     "name": "stderr",
     "output_type": "stream",
     "text": [
      "2021-11-24 17:01:30,458 - INFO - Wrote summary at step 101\n"
     ]
    },
    {
     "name": "stdout",
     "output_type": "stream",
     "text": [
      "After input to cuda: 452.11392 MB\n",
      "\bAfter single dvec to cuda: 423.6672 MB\n",
      "\bAfter single dvec to cuda: 429.65248 MB\n",
      "\bAfter single dvec to cuda: 439.931392 MB\n",
      "\bAfter single dvec to cuda: 448.63744 MB\n",
      "After dvec to cuda: 448.641536 MB\n",
      "After forward to cuda: 4349.543424 MB\n",
      "After input to cuda: 449.040896 MB\n",
      "\bAfter single dvec to cuda: 422.250496 MB\n",
      "\bAfter single dvec to cuda: 430.681088 MB\n",
      "\bAfter single dvec to cuda: 439.65696 MB\n",
      "\bAfter single dvec to cuda: 445.365248 MB\n",
      "After dvec to cuda: 445.369344 MB\n",
      "After forward to cuda: 4345.068032 MB\n"
     ]
    },
    {
     "name": "stderr",
     "output_type": "stream",
     "text": [
      "2021-11-24 17:01:31,164 - INFO - Wrote summary at step 102\n"
     ]
    },
    {
     "name": "stdout",
     "output_type": "stream",
     "text": [
      "After input to cuda: 444.969984 MB\n",
      "\bAfter single dvec to cuda: 415.873536 MB\n",
      "\bAfter single dvec to cuda: 426.153472 MB\n",
      "\bAfter single dvec to cuda: 434.557952 MB\n",
      "\bAfter single dvec to cuda: 445.436416 MB\n",
      "After dvec to cuda: 445.440512 MB\n",
      "After forward to cuda: 4345.724928 MB\n",
      "After input to cuda: 446.228992 MB\n",
      "\bAfter single dvec to cuda: 423.998464 MB\n",
      "\bAfter single dvec to cuda: 433.789952 MB\n",
      "\bAfter single dvec to cuda: 442.490368 MB\n",
      "\bAfter single dvec to cuda: 452.823552 MB\n",
      "After dvec to cuda: 452.827648 MB\n",
      "After forward to cuda: 4352.99328 MB\n"
     ]
    },
    {
     "name": "stderr",
     "output_type": "stream",
     "text": [
      "2021-11-24 17:01:31,884 - INFO - Wrote summary at step 103\n"
     ]
    },
    {
     "name": "stdout",
     "output_type": "stream",
     "text": [
      "After input to cuda: 452.708864 MB\n",
      "\bAfter single dvec to cuda: 424.147968 MB\n",
      "\bAfter single dvec to cuda: 432.580096 MB\n",
      "\bAfter single dvec to cuda: 440.444928 MB\n",
      "\bAfter single dvec to cuda: 449.145856 MB\n",
      "After dvec to cuda: 449.149952 MB\n",
      "After forward to cuda: 4348.897792 MB\n",
      "After input to cuda: 449.086464 MB\n",
      "\bAfter single dvec to cuda: 420.827136 MB\n",
      "\bAfter single dvec to cuda: 430.68928 MB\n",
      "\bAfter single dvec to cuda: 436.132352 MB\n",
      "\bAfter single dvec to cuda: 447.387648 MB\n",
      "After dvec to cuda: 447.391744 MB\n",
      "After forward to cuda: 4346.916352 MB\n"
     ]
    },
    {
     "name": "stderr",
     "output_type": "stream",
     "text": [
      "2021-11-24 17:01:32,589 - INFO - Wrote summary at step 104\n"
     ]
    },
    {
     "name": "stdout",
     "output_type": "stream",
     "text": [
      "After input to cuda: 446.785536 MB\n",
      "\bAfter single dvec to cuda: 423.186432 MB\n",
      "\bAfter single dvec to cuda: 434.607616 MB\n",
      "\bAfter single dvec to cuda: 444.666368 MB\n",
      "\bAfter single dvec to cuda: 453.638144 MB\n",
      "After dvec to cuda: 453.64224 MB\n",
      "After forward to cuda: 4354.70592 MB\n",
      "After input to cuda: 454.488064 MB\n",
      "\bAfter single dvec to cuda: 422.427136 MB\n",
      "\bAfter single dvec to cuda: 430.041088 MB\n",
      "\bAfter single dvec to cuda: 437.11488 MB\n",
      "\bAfter single dvec to cuda: 439.572992 MB\n",
      "After dvec to cuda: 439.577088 MB\n",
      "After forward to cuda: 4338.824192 MB\n"
     ]
    },
    {
     "name": "stderr",
     "output_type": "stream",
     "text": [
      "2021-11-24 17:01:33,324 - INFO - Wrote summary at step 105\n"
     ]
    },
    {
     "name": "stdout",
     "output_type": "stream",
     "text": [
      "After input to cuda: 439.328256 MB\n",
      "\bAfter single dvec to cuda: 424.078336 MB\n",
      "\bAfter single dvec to cuda: 426.804224 MB\n",
      "\bAfter single dvec to cuda: 437.13792 MB\n",
      "\bAfter single dvec to cuda: 446.9248 MB\n",
      "After dvec to cuda: 446.928896 MB\n",
      "After forward to cuda: 4346.953216 MB\n",
      "After input to cuda: 446.331904 MB\n",
      "\bAfter single dvec to cuda: 423.183872 MB\n",
      "\bAfter single dvec to cuda: 432.949248 MB\n",
      "\bAfter single dvec to cuda: 443.009536 MB\n",
      "\bAfter single dvec to cuda: 452.802048 MB\n",
      "After dvec to cuda: 452.806144 MB\n",
      "After forward to cuda: 4353.16736 MB\n"
     ]
    },
    {
     "name": "stderr",
     "output_type": "stream",
     "text": [
      "2021-11-24 17:01:34,030 - INFO - Wrote summary at step 106\n"
     ]
    },
    {
     "name": "stdout",
     "output_type": "stream",
     "text": [
      "After input to cuda: 453.126656 MB\n",
      "\bAfter single dvec to cuda: 423.450112 MB\n",
      "\bAfter single dvec to cuda: 431.61088 MB\n",
      "\bAfter single dvec to cuda: 441.671168 MB\n",
      "\bAfter single dvec to cuda: 450.105344 MB\n",
      "After dvec to cuda: 450.10944 MB\n",
      "After forward to cuda: 4350.202368 MB\n",
      "After input to cuda: 450.961408 MB\n",
      "\bAfter single dvec to cuda: 424.358912 MB\n",
      "\bAfter single dvec to cuda: 432.631808 MB\n",
      "\bAfter single dvec to cuda: 433.45664 MB\n",
      "\bAfter single dvec to cuda: 442.7008 MB\n",
      "After dvec to cuda: 442.704896 MB\n",
      "After forward to cuda: 4342.477312 MB\n"
     ]
    },
    {
     "name": "stderr",
     "output_type": "stream",
     "text": [
      "2021-11-24 17:01:34,732 - INFO - Wrote summary at step 107\n"
     ]
    },
    {
     "name": "stdout",
     "output_type": "stream",
     "text": [
      "After input to cuda: 442.129408 MB\n",
      "\bAfter single dvec to cuda: 423.730176 MB\n",
      "\bAfter single dvec to cuda: 431.891968 MB\n",
      "\bAfter single dvec to cuda: 441.954816 MB\n",
      "\bAfter single dvec to cuda: 449.025024 MB\n",
      "After dvec to cuda: 449.02912 MB\n",
      "After forward to cuda: 4349.344256 MB\n",
      "After input to cuda: 448.432128 MB\n",
      "\bAfter single dvec to cuda: 417.505792 MB\n",
      "\bAfter single dvec to cuda: 426.479616 MB\n",
      "\bAfter single dvec to cuda: 431.648768 MB\n",
      "\bAfter single dvec to cuda: 442.25536 MB\n",
      "After dvec to cuda: 442.259456 MB\n",
      "After forward to cuda: 4342.732288 MB\n"
     ]
    },
    {
     "name": "stderr",
     "output_type": "stream",
     "text": [
      "2021-11-24 17:01:35,438 - INFO - Wrote summary at step 108\n"
     ]
    },
    {
     "name": "stdout",
     "output_type": "stream",
     "text": [
      "After input to cuda: 443.0208 MB\n",
      "\bAfter single dvec to cuda: 422.34112 MB\n",
      "\bAfter single dvec to cuda: 429.04832 MB\n",
      "\bAfter single dvec to cuda: 437.209088 MB\n",
      "\bAfter single dvec to cuda: 446.455296 MB\n",
      "After dvec to cuda: 446.459392 MB\n",
      "After forward to cuda: 4346.941952 MB\n",
      "After input to cuda: 447.417344 MB\n",
      "\bAfter single dvec to cuda: 422.75328 MB\n",
      "\bAfter single dvec to cuda: 428.471296 MB\n",
      "\bAfter single dvec to cuda: 437.9904 MB\n",
      "\bAfter single dvec to cuda: 448.598016 MB\n",
      "After dvec to cuda: 448.602112 MB\n",
      "After forward to cuda: 4347.48928 MB\n"
     ]
    },
    {
     "name": "stderr",
     "output_type": "stream",
     "text": [
      "2021-11-24 17:01:36,143 - INFO - Wrote summary at step 109\n"
     ]
    },
    {
     "name": "stdout",
     "output_type": "stream",
     "text": [
      "After input to cuda: 447.203328 MB\n",
      "\bAfter single dvec to cuda: 420.817408 MB\n",
      "\bAfter single dvec to cuda: 430.338048 MB\n",
      "\bAfter single dvec to cuda: 439.584768 MB\n",
      "\bAfter single dvec to cuda: 449.099776 MB\n",
      "After dvec to cuda: 449.103872 MB\n",
      "After forward to cuda: 4348.62848 MB\n",
      "After input to cuda: 449.103872 MB\n",
      "\bAfter single dvec to cuda: 423.481856 MB\n",
      "\bAfter single dvec to cuda: 434.357248 MB\n",
      "\bAfter single dvec to cuda: 443.063296 MB\n",
      "\bAfter single dvec to cuda: 452.307968 MB\n",
      "After dvec to cuda: 452.312064 MB\n",
      "After forward to cuda: 4351.524352 MB\n"
     ]
    },
    {
     "name": "stderr",
     "output_type": "stream",
     "text": [
      "2021-11-24 17:01:36,849 - INFO - Wrote summary at step 110\n"
     ]
    },
    {
     "name": "stdout",
     "output_type": "stream",
     "text": [
      "After input to cuda: 451.999744 MB\n",
      "\bAfter single dvec to cuda: 413.983744 MB\n",
      "\bAfter single dvec to cuda: 421.029376 MB\n",
      "\bAfter single dvec to cuda: 428.916224 MB\n",
      "\bAfter single dvec to cuda: 437.07648 MB\n",
      "After dvec to cuda: 437.080576 MB\n",
      "After forward to cuda: 4337.183232 MB\n",
      "After input to cuda: 437.374976 MB\n",
      "\bAfter single dvec to cuda: 421.885952 MB\n",
      "\bAfter single dvec to cuda: 425.701888 MB\n",
      "\bAfter single dvec to cuda: 435.493888 MB\n",
      "\bAfter single dvec to cuda: 445.285888 MB\n",
      "After dvec to cuda: 445.289984 MB\n",
      "After forward to cuda: 4344.54272 MB\n"
     ]
    },
    {
     "name": "stderr",
     "output_type": "stream",
     "text": [
      "2021-11-24 17:01:37,552 - INFO - Wrote summary at step 111\n"
     ]
    },
    {
     "name": "stdout",
     "output_type": "stream",
     "text": [
      "After input to cuda: 445.038592 MB\n",
      "\bAfter single dvec to cuda: 423.236096 MB\n",
      "\bAfter single dvec to cuda: 432.997888 MB\n",
      "\bAfter single dvec to cuda: 439.990784 MB\n",
      "\bAfter single dvec to cuda: 447.604736 MB\n",
      "After dvec to cuda: 447.608832 MB\n",
      "After forward to cuda: 4347.65056 MB\n",
      "After input to cuda: 447.557632 MB\n",
      "\bAfter single dvec to cuda: 422.560768 MB\n",
      "\bAfter single dvec to cuda: 432.679424 MB\n",
      "\bAfter single dvec to cuda: 442.961408 MB\n",
      "\bAfter single dvec to cuda: 448.13056 MB\n",
      "After dvec to cuda: 448.134656 MB\n",
      "After forward to cuda: 4349.74464 MB\n"
     ]
    },
    {
     "name": "stderr",
     "output_type": "stream",
     "text": [
      "2021-11-24 17:01:38,256 - INFO - Wrote summary at step 112\n"
     ]
    },
    {
     "name": "stdout",
     "output_type": "stream",
     "text": [
      "After input to cuda: 448.134656 MB\n",
      "\bAfter single dvec to cuda: 422.560256 MB\n",
      "\bAfter single dvec to cuda: 432.759808 MB\n",
      "\bAfter single dvec to cuda: 434.238464 MB\n",
      "\bAfter single dvec to cuda: 444.572672 MB\n",
      "After dvec to cuda: 444.576768 MB\n",
      "After forward to cuda: 4345.933312 MB\n",
      "After input to cuda: 445.17376 MB\n",
      "\bAfter single dvec to cuda: 423.806464 MB\n",
      "\bAfter single dvec to cuda: 433.547264 MB\n",
      "\bAfter single dvec to cuda: 442.51904 MB\n",
      "\bAfter single dvec to cuda: 448.776192 MB\n",
      "After dvec to cuda: 448.780288 MB\n",
      "After forward to cuda: 4347.707904 MB\n"
     ]
    },
    {
     "name": "stderr",
     "output_type": "stream",
     "text": [
      "2021-11-24 17:01:38,963 - INFO - Wrote summary at step 113\n"
     ]
    },
    {
     "name": "stdout",
     "output_type": "stream",
     "text": [
      "After input to cuda: 448.183296 MB\n",
      "\bAfter single dvec to cuda: 421.305856 MB\n",
      "\bAfter single dvec to cuda: 431.50592 MB\n",
      "\bAfter single dvec to cuda: 441.785856 MB\n",
      "\bAfter single dvec to cuda: 450.48832 MB\n",
      "After dvec to cuda: 450.492416 MB\n",
      "After forward to cuda: 4350.585344 MB\n",
      "After input to cuda: 450.492416 MB\n",
      "\bAfter single dvec to cuda: 422.813696 MB\n",
      "\bAfter single dvec to cuda: 425.54112 MB\n",
      "\bAfter single dvec to cuda: 433.947136 MB\n",
      "\bAfter single dvec to cuda: 444.199936 MB\n",
      "After dvec to cuda: 444.204032 MB\n",
      "After forward to cuda: 4344.734208 MB\n"
     ]
    },
    {
     "name": "stderr",
     "output_type": "stream",
     "text": [
      "2021-11-24 17:01:39,668 - INFO - Wrote summary at step 114\n"
     ]
    },
    {
     "name": "stdout",
     "output_type": "stream",
     "text": [
      "After input to cuda: 445.238272 MB\n",
      "\bAfter single dvec to cuda: 424.193024 MB\n",
      "\bAfter single dvec to cuda: 432.352256 MB\n",
      "\bAfter single dvec to cuda: 435.620864 MB\n",
      "\bAfter single dvec to cuda: 446.223872 MB\n",
      "After dvec to cuda: 446.227968 MB\n",
      "After forward to cuda: 4346.743296 MB\n",
      "After input to cuda: 445.193728 MB\n",
      "\bAfter single dvec to cuda: 423.212544 MB\n",
      "\bAfter single dvec to cuda: 433.546752 MB\n",
      "\bAfter single dvec to cuda: 444.15232 MB\n",
      "\bAfter single dvec to cuda: 449.05472 MB\n",
      "After dvec to cuda: 449.058816 MB\n",
      "After forward to cuda: 4349.151744 MB\n"
     ]
    },
    {
     "name": "stderr",
     "output_type": "stream",
     "text": [
      "2021-11-24 17:01:40,372 - INFO - Wrote summary at step 115\n"
     ]
    },
    {
     "name": "stdout",
     "output_type": "stream",
     "text": [
      "After input to cuda: 449.058816 MB\n",
      "\bAfter single dvec to cuda: 419.953664 MB\n",
      "\bAfter single dvec to cuda: 427.840512 MB\n",
      "\bAfter single dvec to cuda: 438.175744 MB\n",
      "\bAfter single dvec to cuda: 448.751104 MB\n",
      "After dvec to cuda: 448.7552 MB\n",
      "After forward to cuda: 4348.279808 MB\n",
      "After input to cuda: 449.516544 MB\n",
      "\bAfter single dvec to cuda: 418.810368 MB\n",
      "\bAfter single dvec to cuda: 424.526848 MB\n",
      "\bAfter single dvec to cuda: 433.50016 MB\n",
      "\bAfter single dvec to cuda: 444.08064 MB\n",
      "After dvec to cuda: 444.084736 MB\n",
      "After forward to cuda: 4344.96512 MB\n"
     ]
    },
    {
     "name": "stderr",
     "output_type": "stream",
     "text": [
      "2021-11-24 17:01:41,076 - INFO - Wrote summary at step 116\n"
     ]
    },
    {
     "name": "stdout",
     "output_type": "stream",
     "text": [
      "After input to cuda: 443.323392 MB\n",
      "\bAfter single dvec to cuda: 422.25664 MB\n",
      "\bAfter single dvec to cuda: 432.589824 MB\n",
      "\bAfter single dvec to cuda: 438.030336 MB\n",
      "\bAfter single dvec to cuda: 447.002112 MB\n",
      "After dvec to cuda: 447.006208 MB\n",
      "After forward to cuda: 4348.527104 MB\n",
      "After input to cuda: 447.767552 MB\n",
      "\bAfter single dvec to cuda: 423.945216 MB\n",
      "\bAfter single dvec to cuda: 434.879488 MB\n",
      "\bAfter single dvec to cuda: 445.21472 MB\n",
      "\bAfter single dvec to cuda: 454.162432 MB\n",
      "After dvec to cuda: 454.166528 MB\n",
      "After forward to cuda: 4353.503232 MB\n"
     ]
    },
    {
     "name": "stderr",
     "output_type": "stream",
     "text": [
      "2021-11-24 17:01:41,781 - INFO - Wrote summary at step 117\n"
     ]
    },
    {
     "name": "stdout",
     "output_type": "stream",
     "text": [
      "After input to cuda: 453.405184 MB\n",
      "\bAfter single dvec to cuda: 423.155712 MB\n",
      "\bAfter single dvec to cuda: 433.384448 MB\n",
      "\bAfter single dvec to cuda: 440.428544 MB\n",
      "\bAfter single dvec to cuda: 450.217472 MB\n",
      "After dvec to cuda: 450.221568 MB\n",
      "After forward to cuda: 4349.746176 MB\n",
      "After input to cuda: 450.221568 MB\n",
      "\bAfter single dvec to cuda: 421.311488 MB\n",
      "\bAfter single dvec to cuda: 431.589888 MB\n",
      "\bAfter single dvec to cuda: 438.637056 MB\n",
      "\bAfter single dvec to cuda: 447.61344 MB\n",
      "After dvec to cuda: 447.617536 MB\n",
      "After forward to cuda: 4347.142144 MB\n"
     ]
    },
    {
     "name": "stderr",
     "output_type": "stream",
     "text": [
      "2021-11-24 17:01:42,488 - INFO - Wrote summary at step 118\n"
     ]
    },
    {
     "name": "stdout",
     "output_type": "stream",
     "text": [
      "After input to cuda: 447.617536 MB\n",
      "\bAfter single dvec to cuda: 423.132672 MB\n",
      "\bAfter single dvec to cuda: 430.749696 MB\n",
      "\bAfter single dvec to cuda: 439.45472 MB\n",
      "\bAfter single dvec to cuda: 447.617536 MB\n",
      "After dvec to cuda: 447.621632 MB\n",
      "After forward to cuda: 4347.753472 MB\n",
      "After input to cuda: 447.621632 MB\n",
      "\bAfter single dvec to cuda: 423.48288 MB\n",
      "\bAfter single dvec to cuda: 433.791488 MB\n",
      "\bAfter single dvec to cuda: 442.491904 MB\n",
      "\bAfter single dvec to cuda: 449.564672 MB\n",
      "After dvec to cuda: 449.568768 MB\n",
      "After forward to cuda: 4350.628352 MB\n"
     ]
    },
    {
     "name": "stderr",
     "output_type": "stream",
     "text": [
      "2021-11-24 17:01:43,193 - INFO - Wrote summary at step 119\n"
     ]
    },
    {
     "name": "stdout",
     "output_type": "stream",
     "text": [
      "After input to cuda: 450.496512 MB\n",
      "\bAfter single dvec to cuda: 424.087552 MB\n",
      "\bAfter single dvec to cuda: 429.53216 MB\n",
      "\bAfter single dvec to cuda: 438.78144 MB\n",
      "\bAfter single dvec to cuda: 443.14112 MB\n",
      "After dvec to cuda: 443.145216 MB\n",
      "After forward to cuda: 4343.263744 MB\n",
      "After input to cuda: 442.217472 MB\n",
      "\bAfter single dvec to cuda: 423.209472 MB\n",
      "\bAfter single dvec to cuda: 433.540096 MB\n",
      "\bAfter single dvec to cuda: 435.7248 MB\n",
      "\bAfter single dvec to cuda: 443.886592 MB\n",
      "After dvec to cuda: 443.890688 MB\n",
      "After forward to cuda: 4344.876032 MB\n"
     ]
    },
    {
     "name": "stderr",
     "output_type": "stream",
     "text": [
      "2021-11-24 17:01:43,896 - INFO - Wrote summary at step 120\n"
     ]
    },
    {
     "name": "stdout",
     "output_type": "stream",
     "text": [
      "After input to cuda: 445.093888 MB\n",
      "\bAfter single dvec to cuda: 424.387584 MB\n",
      "\bAfter single dvec to cuda: 433.631744 MB\n",
      "\bAfter single dvec to cuda: 442.82368 MB\n",
      "\bAfter single dvec to cuda: 452.61568 MB\n",
      "After dvec to cuda: 452.619776 MB\n",
      "After forward to cuda: 4352.144384 MB\n",
      "After input to cuda: 452.013568 MB\n",
      "\bAfter single dvec to cuda: 423.706624 MB\n",
      "\bAfter single dvec to cuda: 432.954368 MB\n",
      "\bAfter single dvec to cuda: 442.744832 MB\n",
      "\bAfter single dvec to cuda: 452.533248 MB\n",
      "After dvec to cuda: 452.537344 MB\n",
      "After forward to cuda: 4351.550976 MB\n"
     ]
    },
    {
     "name": "stderr",
     "output_type": "stream",
     "text": [
      "2021-11-24 17:01:44,603 - INFO - Wrote summary at step 121\n"
     ]
    },
    {
     "name": "stdout",
     "output_type": "stream",
     "text": [
      "After input to cuda: 452.05504 MB\n",
      "\bAfter single dvec to cuda: 420.06528 MB\n",
      "\bAfter single dvec to cuda: 430.397952 MB\n",
      "\bAfter single dvec to cuda: 435.572736 MB\n",
      "\bAfter single dvec to cuda: 445.359616 MB\n",
      "After dvec to cuda: 445.363712 MB\n",
      "After forward to cuda: 4344.91392 MB\n",
      "After input to cuda: 445.303296 MB\n",
      "\bAfter single dvec to cuda: 422.867456 MB\n",
      "\bAfter single dvec to cuda: 427.498496 MB\n",
      "\bAfter single dvec to cuda: 435.116544 MB\n",
      "\bAfter single dvec to cuda: 443.818496 MB\n",
      "After dvec to cuda: 443.822592 MB\n",
      "After forward to cuda: 4343.868416 MB\n"
     ]
    },
    {
     "name": "stderr",
     "output_type": "stream",
     "text": [
      "2021-11-24 17:01:45,331 - INFO - Wrote summary at step 122\n"
     ]
    },
    {
     "name": "stdout",
     "output_type": "stream",
     "text": [
      "After input to cuda: 443.76832 MB\n",
      "\bAfter single dvec to cuda: 416.688128 MB\n",
      "\bAfter single dvec to cuda: 426.573312 MB\n",
      "\bAfter single dvec to cuda: 437.174784 MB\n",
      "\bAfter single dvec to cuda: 446.152704 MB\n",
      "After dvec to cuda: 446.1568 MB\n",
      "After forward to cuda: 4345.703936 MB\n",
      "After input to cuda: 446.1312 MB\n",
      "\bAfter single dvec to cuda: 423.455744 MB\n",
      "\bAfter single dvec to cuda: 427.244032 MB\n",
      "\bAfter single dvec to cuda: 439.045632 MB\n",
      "\bAfter single dvec to cuda: 446.393344 MB\n",
      "After dvec to cuda: 446.39744 MB\n",
      "After forward to cuda: 4346.74944 MB\n"
     ]
    },
    {
     "name": "stderr",
     "output_type": "stream",
     "text": [
      "2021-11-24 17:01:46,036 - INFO - Wrote summary at step 123\n"
     ]
    },
    {
     "name": "stdout",
     "output_type": "stream",
     "text": [
      "After input to cuda: 446.47424 MB\n",
      "\bAfter single dvec to cuda: 423.207936 MB\n",
      "\bAfter single dvec to cuda: 432.723968 MB\n",
      "\bAfter single dvec to cuda: 441.15456 MB\n",
      "\bAfter single dvec to cuda: 449.855488 MB\n",
      "After dvec to cuda: 449.859584 MB\n",
      "After forward to cuda: 4350.3616 MB\n",
      "After input to cuda: 449.808384 MB\n",
      "\bAfter single dvec to cuda: 423.186944 MB\n",
      "\bAfter single dvec to cuda: 433.250816 MB\n",
      "\bAfter single dvec to cuda: 443.582464 MB\n",
      "\bAfter single dvec to cuda: 447.396864 MB\n",
      "After dvec to cuda: 447.40096 MB\n",
      "After forward to cuda: 4346.948096 MB\n"
     ]
    },
    {
     "name": "stderr",
     "output_type": "stream",
     "text": [
      "2021-11-24 17:01:46,739 - INFO - Wrote summary at step 124\n"
     ]
    },
    {
     "name": "stdout",
     "output_type": "stream",
     "text": [
      "After input to cuda: 447.45216 MB\n",
      "\bAfter single dvec to cuda: 419.458048 MB\n",
      "\bAfter single dvec to cuda: 429.24544 MB\n",
      "\bAfter single dvec to cuda: 438.216704 MB\n",
      "\bAfter single dvec to cuda: 444.476416 MB\n",
      "After dvec to cuda: 444.480512 MB\n",
      "After forward to cuda: 4345.073152 MB\n",
      "After input to cuda: 444.975104 MB\n",
      "\bAfter single dvec to cuda: 423.209984 MB\n",
      "\bAfter single dvec to cuda: 426.480128 MB\n",
      "\bAfter single dvec to cuda: 436.810752 MB\n",
      "\bAfter single dvec to cuda: 446.329856 MB\n",
      "After dvec to cuda: 446.333952 MB\n",
      "After forward to cuda: 4346.491392 MB\n"
     ]
    },
    {
     "name": "stderr",
     "output_type": "stream",
     "text": [
      "2021-11-24 17:01:47,442 - INFO - Wrote summary at step 125\n"
     ]
    },
    {
     "name": "stdout",
     "output_type": "stream",
     "text": [
      "After input to cuda: 445.78816 MB\n",
      "\bAfter single dvec to cuda: 417.77664 MB\n",
      "\bAfter single dvec to cuda: 422.403584 MB\n",
      "\bAfter single dvec to cuda: 432.737792 MB\n",
      "\bAfter single dvec to cuda: 438.722048 MB\n",
      "After dvec to cuda: 438.726144 MB\n",
      "After forward to cuda: 4339.198976 MB\n",
      "After input to cuda: 438.726144 MB\n",
      "\bAfter single dvec to cuda: 421.122048 MB\n",
      "\bAfter single dvec to cuda: 431.427072 MB\n",
      "\bAfter single dvec to cuda: 438.774272 MB\n",
      "\bAfter single dvec to cuda: 449.105408 MB\n",
      "After dvec to cuda: 449.109504 MB\n",
      "After forward to cuda: 4349.551616 MB\n"
     ]
    },
    {
     "name": "stderr",
     "output_type": "stream",
     "text": [
      "2021-11-24 17:01:48,147 - INFO - Wrote summary at step 126\n"
     ]
    },
    {
     "name": "stdout",
     "output_type": "stream",
     "text": [
      "After input to cuda: 449.706496 MB\n",
      "\bAfter single dvec to cuda: 423.706624 MB\n",
      "\bAfter single dvec to cuda: 425.348608 MB\n",
      "\bAfter single dvec to cuda: 432.694784 MB\n",
      "\bAfter single dvec to cuda: 442.486272 MB\n",
      "After dvec to cuda: 442.490368 MB\n",
      "After forward to cuda: 4341.738496 MB\n",
      "After input to cuda: 442.213888 MB\n",
      "\bAfter single dvec to cuda: 421.899264 MB\n",
      "\bAfter single dvec to cuda: 429.784576 MB\n",
      "\bAfter single dvec to cuda: 439.304704 MB\n",
      "\bAfter single dvec to cuda: 449.6384 MB\n",
      "After dvec to cuda: 449.642496 MB\n",
      "After forward to cuda: 4350.455808 MB\n"
     ]
    },
    {
     "name": "stderr",
     "output_type": "stream",
     "text": [
      "2021-11-24 17:01:48,853 - INFO - Wrote summary at step 127\n"
     ]
    },
    {
     "name": "stdout",
     "output_type": "stream",
     "text": [
      "After input to cuda: 449.321984 MB\n",
      "\bAfter single dvec to cuda: 423.107584 MB\n",
      "\bAfter single dvec to cuda: 431.538176 MB\n",
      "\bAfter single dvec to cuda: 437.932544 MB\n",
      "\bAfter single dvec to cuda: 447.451648 MB\n",
      "After dvec to cuda: 447.455744 MB\n",
      "After forward to cuda: 4347.553792 MB\n",
      "After input to cuda: 447.455744 MB\n",
      "\bAfter single dvec to cuda: 421.229568 MB\n",
      "\bAfter single dvec to cuda: 429.118976 MB\n",
      "\bAfter single dvec to cuda: 439.346176 MB\n",
      "\bAfter single dvec to cuda: 446.68928 MB\n",
      "After dvec to cuda: 446.693376 MB\n",
      "After forward to cuda: 4346.217984 MB\n"
     ]
    },
    {
     "name": "stderr",
     "output_type": "stream",
     "text": [
      "2021-11-24 17:01:49,559 - INFO - Wrote summary at step 128\n"
     ]
    },
    {
     "name": "stdout",
     "output_type": "stream",
     "text": [
      "After input to cuda: 446.693376 MB\n",
      "\bAfter single dvec to cuda: 422.81216 MB\n",
      "\bAfter single dvec to cuda: 424.292864 MB\n",
      "\bAfter single dvec to cuda: 434.573312 MB\n",
      "\bAfter single dvec to cuda: 442.817536 MB\n",
      "After dvec to cuda: 442.821632 MB\n",
      "After forward to cuda: 4343.862784 MB\n",
      "After input to cuda: 442.821632 MB\n",
      "\bAfter single dvec to cuda: 420.220928 MB\n",
      "\bAfter single dvec to cuda: 430.8224 MB\n",
      "\bAfter single dvec to cuda: 440.612864 MB\n",
      "\bAfter single dvec to cuda: 450.674688 MB\n",
      "After dvec to cuda: 450.678784 MB\n",
      "After forward to cuda: 4350.203392 MB\n"
     ]
    },
    {
     "name": "stderr",
     "output_type": "stream",
     "text": [
      "2021-11-24 17:01:50,263 - INFO - Wrote summary at step 129\n"
     ]
    },
    {
     "name": "stdout",
     "output_type": "stream",
     "text": [
      "After input to cuda: 450.678784 MB\n",
      "\bAfter single dvec to cuda: 421.307904 MB\n",
      "\bAfter single dvec to cuda: 430.828032 MB\n",
      "\bAfter single dvec to cuda: 440.072192 MB\n",
      "\bAfter single dvec to cuda: 447.962112 MB\n",
      "After dvec to cuda: 447.966208 MB\n",
      "After forward to cuda: 4349.832192 MB\n",
      "After input to cuda: 448.5632 MB\n",
      "\bAfter single dvec to cuda: 423.7824 MB\n",
      "\bAfter single dvec to cuda: 431.672832 MB\n",
      "\bAfter single dvec to cuda: 440.916992 MB\n",
      "\bAfter single dvec to cuda: 449.890816 MB\n",
      "After dvec to cuda: 449.894912 MB\n",
      "After forward to cuda: 4349.128192 MB\n"
     ]
    },
    {
     "name": "stderr",
     "output_type": "stream",
     "text": [
      "2021-11-24 17:01:50,968 - INFO - Wrote summary at step 130\n"
     ]
    },
    {
     "name": "stdout",
     "output_type": "stream",
     "text": [
      "After input to cuda: 449.29792 MB\n",
      "\bAfter single dvec to cuda: 419.606528 MB\n",
      "\bAfter single dvec to cuda: 427.2256 MB\n",
      "\bAfter single dvec to cuda: 431.04256 MB\n",
      "\bAfter single dvec to cuda: 440.562176 MB\n",
      "After dvec to cuda: 440.566272 MB\n",
      "After forward to cuda: 4340.113408 MB\n",
      "After input to cuda: 440.617472 MB\n",
      "\bAfter single dvec to cuda: 423.258624 MB\n",
      "\bAfter single dvec to cuda: 433.04704 MB\n",
      "\bAfter single dvec to cuda: 442.018816 MB\n",
      "\bAfter single dvec to cuda: 452.081664 MB\n",
      "After dvec to cuda: 452.08576 MB\n",
      "After forward to cuda: 4352.493056 MB\n"
     ]
    },
    {
     "name": "stderr",
     "output_type": "stream",
     "text": [
      "2021-11-24 17:01:51,675 - INFO - Wrote summary at step 131\n"
     ]
    },
    {
     "name": "stdout",
     "output_type": "stream",
     "text": [
      "After input to cuda: 452.03456 MB\n",
      "\bAfter single dvec to cuda: 423.181312 MB\n",
      "\bAfter single dvec to cuda: 431.883264 MB\n",
      "\bAfter single dvec to cuda: 441.400832 MB\n",
      "\bAfter single dvec to cuda: 442.883072 MB\n",
      "After dvec to cuda: 442.887168 MB\n",
      "After forward to cuda: 4342.693376 MB\n",
      "After input to cuda: 443.19744 MB\n",
      "\bAfter single dvec to cuda: 424.066048 MB\n",
      "\bAfter single dvec to cuda: 432.766976 MB\n",
      "\bAfter single dvec to cuda: 442.558464 MB\n",
      "\bAfter single dvec to cuda: 450.85696 MB\n",
      "After dvec to cuda: 450.861056 MB\n",
      "After forward to cuda: 4351.358464 MB\n"
     ]
    },
    {
     "name": "stderr",
     "output_type": "stream",
     "text": [
      "2021-11-24 17:01:52,382 - INFO - Wrote summary at step 132\n"
     ]
    },
    {
     "name": "stdout",
     "output_type": "stream",
     "text": [
      "After input to cuda: 451.552256 MB\n",
      "\bAfter single dvec to cuda: 424.21248 MB\n",
      "\bAfter single dvec to cuda: 434.548224 MB\n",
      "\bAfter single dvec to cuda: 443.25376 MB\n",
      "\bAfter single dvec to cuda: 453.041152 MB\n",
      "After dvec to cuda: 453.045248 MB\n",
      "After forward to cuda: 4351.683072 MB\n",
      "After input to cuda: 452.158464 MB\n",
      "\bAfter single dvec to cuda: 421.423616 MB\n",
      "\bAfter single dvec to cuda: 432.028672 MB\n",
      "\bAfter single dvec to cuda: 442.310144 MB\n",
      "\bAfter single dvec to cuda: 451.28192 MB\n",
      "After dvec to cuda: 451.286016 MB\n",
      "After forward to cuda: 4350.810624 MB\n"
     ]
    },
    {
     "name": "stderr",
     "output_type": "stream",
     "text": [
      "2021-11-24 17:01:53,089 - INFO - Wrote summary at step 133\n"
     ]
    },
    {
     "name": "stdout",
     "output_type": "stream",
     "text": [
      "After input to cuda: 451.171328 MB\n",
      "\bAfter single dvec to cuda: 423.131136 MB\n",
      "\bAfter single dvec to cuda: 432.91904 MB\n",
      "\bAfter single dvec to cuda: 439.992832 MB\n",
      "\bAfter single dvec to cuda: 446.933504 MB\n",
      "After dvec to cuda: 446.9376 MB\n",
      "After forward to cuda: 4348.763648 MB\n",
      "After input to cuda: 446.9376 MB\n",
      "\bAfter single dvec to cuda: 423.109632 MB\n",
      "\bAfter single dvec to cuda: 430.15424 MB\n",
      "\bAfter single dvec to cuda: 440.214016 MB\n",
      "\bAfter single dvec to cuda: 444.030464 MB\n",
      "After dvec to cuda: 444.03456 MB\n",
      "After forward to cuda: 4343.840768 MB\n"
     ]
    },
    {
     "name": "stderr",
     "output_type": "stream",
     "text": [
      "2021-11-24 17:01:53,807 - INFO - Wrote summary at step 134\n"
     ]
    },
    {
     "name": "stdout",
     "output_type": "stream",
     "text": [
      "After input to cuda: 444.03456 MB\n",
      "\bAfter single dvec to cuda: 418.592768 MB\n",
      "\bAfter single dvec to cuda: 429.740032 MB\n",
      "\bAfter single dvec to cuda: 438.71232 MB\n",
      "\bAfter single dvec to cuda: 447.9616 MB\n",
      "After dvec to cuda: 447.965696 MB\n",
      "After forward to cuda: 4347.771904 MB\n",
      "After input to cuda: 447.965696 MB\n",
      "\bAfter single dvec to cuda: 423.105536 MB\n",
      "\bAfter single dvec to cuda: 431.810048 MB\n",
      "\bAfter single dvec to cuda: 435.354112 MB\n",
      "\bAfter single dvec to cuda: 444.59776 MB\n",
      "After dvec to cuda: 444.601856 MB\n",
      "After forward to cuda: 4344.136704 MB\n"
     ]
    },
    {
     "name": "stderr",
     "output_type": "stream",
     "text": [
      "2021-11-24 17:01:54,530 - INFO - Wrote summary at step 135\n"
     ]
    },
    {
     "name": "stdout",
     "output_type": "stream",
     "text": [
      "After input to cuda: 444.612096 MB\n",
      "\bAfter single dvec to cuda: 421.133824 MB\n",
      "\bAfter single dvec to cuda: 431.467008 MB\n",
      "\bAfter single dvec to cuda: 440.713216 MB\n",
      "\bAfter single dvec to cuda: 449.690112 MB\n",
      "After dvec to cuda: 449.694208 MB\n",
      "After forward to cuda: 4349.776896 MB\n",
      "After input to cuda: 450.28096 MB\n",
      "\bAfter single dvec to cuda: 424.351232 MB\n",
      "\bAfter single dvec to cuda: 427.079168 MB\n",
      "\bAfter single dvec to cuda: 437.307904 MB\n",
      "\bAfter single dvec to cuda: 445.741056 MB\n",
      "After dvec to cuda: 445.745152 MB\n",
      "After forward to cuda: 4345.39264 MB\n"
     ]
    },
    {
     "name": "stderr",
     "output_type": "stream",
     "text": [
      "2021-11-24 17:01:55,236 - INFO - Wrote summary at step 136\n"
     ]
    },
    {
     "name": "stdout",
     "output_type": "stream",
     "text": [
      "After input to cuda: 445.868032 MB\n",
      "\bAfter single dvec to cuda: 417.414144 MB\n",
      "\bAfter single dvec to cuda: 427.724288 MB\n",
      "\bAfter single dvec to cuda: 433.442304 MB\n",
      "\bAfter single dvec to cuda: 442.418688 MB\n",
      "After dvec to cuda: 442.422784 MB\n",
      "After forward to cuda: 4341.96992 MB\n",
      "After input to cuda: 441.754112 MB\n",
      "\bAfter single dvec to cuda: 423.232512 MB\n",
      "\bAfter single dvec to cuda: 431.938048 MB\n",
      "\bAfter single dvec to cuda: 435.701248 MB\n",
      "\bAfter single dvec to cuda: 444.677632 MB\n",
      "After dvec to cuda: 444.681728 MB\n",
      "After forward to cuda: 4344.521728 MB\n"
     ]
    },
    {
     "name": "stderr",
     "output_type": "stream",
     "text": [
      "2021-11-24 17:01:55,942 - INFO - Wrote summary at step 137\n"
     ]
    },
    {
     "name": "stdout",
     "output_type": "stream",
     "text": [
      "After input to cuda: 444.99712 MB\n",
      "\bAfter single dvec to cuda: 423.49824 MB\n",
      "\bAfter single dvec to cuda: 432.47616 MB\n",
      "\bAfter single dvec to cuda: 442.53952 MB\n",
      "\bAfter single dvec to cuda: 452.332032 MB\n",
      "After dvec to cuda: 452.336128 MB\n",
      "After forward to cuda: 4352.177152 MB\n",
      "After input to cuda: 452.566528 MB\n",
      "\bAfter single dvec to cuda: 423.756288 MB\n",
      "\bAfter single dvec to cuda: 433.54368 MB\n",
      "\bAfter single dvec to cuda: 440.89088 MB\n",
      "\bAfter single dvec to cuda: 445.250048 MB\n",
      "After dvec to cuda: 445.254144 MB\n",
      "After forward to cuda: 4345.24928 MB\n"
     ]
    },
    {
     "name": "stderr",
     "output_type": "stream",
     "text": [
      "2021-11-24 17:01:56,647 - INFO - Wrote summary at step 138\n"
     ]
    },
    {
     "name": "stdout",
     "output_type": "stream",
     "text": [
      "After input to cuda: 445.673472 MB\n",
      "\bAfter single dvec to cuda: 423.65696 MB\n",
      "\bAfter single dvec to cuda: 433.544192 MB\n",
      "\bAfter single dvec to cuda: 438.445056 MB\n",
      "\bAfter single dvec to cuda: 447.422464 MB\n",
      "After dvec to cuda: 447.42656 MB\n",
      "After forward to cuda: 4345.934848 MB\n",
      "After input to cuda: 446.41024 MB\n",
      "\bAfter single dvec to cuda: 421.038592 MB\n",
      "\bAfter single dvec to cuda: 431.209984 MB\n",
      "\bAfter single dvec to cuda: 441.540096 MB\n",
      "\bAfter single dvec to cuda: 451.331072 MB\n",
      "After dvec to cuda: 451.335168 MB\n",
      "After forward to cuda: 4351.428096 MB\n"
     ]
    },
    {
     "name": "stderr",
     "output_type": "stream",
     "text": [
      "2021-11-24 17:01:57,351 - INFO - Wrote summary at step 139\n"
     ]
    },
    {
     "name": "stdout",
     "output_type": "stream",
     "text": [
      "After input to cuda: 451.93216 MB\n",
      "\bAfter single dvec to cuda: 421.633024 MB\n",
      "\bAfter single dvec to cuda: 431.968256 MB\n",
      "\bAfter single dvec to cuda: 440.944128 MB\n",
      "\bAfter single dvec to cuda: 451.003904 MB\n",
      "After dvec to cuda: 451.008 MB\n",
      "After forward to cuda: 4351.1296 MB\n",
      "After input to cuda: 451.604992 MB\n",
      "\bAfter single dvec to cuda: 424.376832 MB\n",
      "\bAfter single dvec to cuda: 432.533504 MB\n",
      "\bAfter single dvec to cuda: 443.30752 MB\n",
      "\bAfter single dvec to cuda: 447.93856 MB\n",
      "After dvec to cuda: 447.942656 MB\n",
      "After forward to cuda: 4347.146752 MB\n"
     ]
    },
    {
     "name": "stderr",
     "output_type": "stream",
     "text": [
      "2021-11-24 17:01:58,057 - INFO - Wrote summary at step 140\n"
     ]
    },
    {
     "name": "stdout",
     "output_type": "stream",
     "text": [
      "After input to cuda: 447.622144 MB\n",
      "\bAfter single dvec to cuda: 424.625664 MB\n",
      "\bAfter single dvec to cuda: 433.601536 MB\n",
      "\bAfter single dvec to cuda: 442.845696 MB\n",
      "\bAfter single dvec to cuda: 452.365312 MB\n",
      "After dvec to cuda: 452.369408 MB\n",
      "After forward to cuda: 4352.833024 MB\n",
      "After input to cuda: 451.856384 MB\n",
      "\bAfter single dvec to cuda: 423.519744 MB\n",
      "\bAfter single dvec to cuda: 432.763392 MB\n",
      "\bAfter single dvec to cuda: 442.281472 MB\n",
      "\bAfter single dvec to cuda: 451.52768 MB\n",
      "After dvec to cuda: 451.531776 MB\n",
      "After forward to cuda: 4351.376896 MB\n"
     ]
    },
    {
     "name": "stderr",
     "output_type": "stream",
     "text": [
      "2021-11-24 17:01:58,765 - INFO - Wrote summary at step 141\n"
     ]
    },
    {
     "name": "stdout",
     "output_type": "stream",
     "text": [
      "After input to cuda: 451.852288 MB\n",
      "\bAfter single dvec to cuda: 423.837696 MB\n",
      "\bAfter single dvec to cuda: 432.27136 MB\n",
      "\bAfter single dvec to cuda: 440.700416 MB\n",
      "\bAfter single dvec to cuda: 451.032064 MB\n",
      "After dvec to cuda: 451.03616 MB\n",
      "After forward to cuda: 4350.560768 MB\n",
      "After input to cuda: 450.675712 MB\n",
      "\bAfter single dvec to cuda: 423.425536 MB\n",
      "\bAfter single dvec to cuda: 432.398848 MB\n",
      "\bAfter single dvec to cuda: 439.44448 MB\n",
      "\bAfter single dvec to cuda: 447.060992 MB\n",
      "After dvec to cuda: 447.065088 MB\n",
      "After forward to cuda: 4346.269184 MB\n"
     ]
    },
    {
     "name": "stderr",
     "output_type": "stream",
     "text": [
      "2021-11-24 17:01:59,470 - INFO - Wrote summary at step 142\n"
     ]
    },
    {
     "name": "stdout",
     "output_type": "stream",
     "text": [
      "After input to cuda: 446.744576 MB\n",
      "\bAfter single dvec to cuda: 421.848576 MB\n",
      "\bAfter single dvec to cuda: 430.009856 MB\n",
      "\bAfter single dvec to cuda: 438.44352 MB\n",
      "\bAfter single dvec to cuda: 441.99424 MB\n",
      "After dvec to cuda: 441.998336 MB\n",
      "After forward to cuda: 4341.522944 MB\n",
      "After input to cuda: 441.998336 MB\n",
      "\bAfter single dvec to cuda: 423.160832 MB\n",
      "\bAfter single dvec to cuda: 432.68096 MB\n",
      "\bAfter single dvec to cuda: 441.925632 MB\n",
      "\bAfter single dvec to cuda: 443.817472 MB\n",
      "After dvec to cuda: 443.821568 MB\n",
      "After forward to cuda: 4343.95136 MB\n"
     ]
    },
    {
     "name": "stderr",
     "output_type": "stream",
     "text": [
      "2021-11-24 17:02:00,190 - INFO - Wrote summary at step 143\n"
     ]
    },
    {
     "name": "stdout",
     "output_type": "stream",
     "text": [
      "After input to cuda: 444.426752 MB\n",
      "\bAfter single dvec to cuda: 423.762944 MB\n",
      "\bAfter single dvec to cuda: 434.368 MB\n",
      "\bAfter single dvec to cuda: 443.074048 MB\n",
      "\bAfter single dvec to cuda: 452.318208 MB\n",
      "After dvec to cuda: 452.322304 MB\n",
      "After forward to cuda: 4351.241728 MB\n",
      "After input to cuda: 451.71712 MB\n",
      "\bAfter single dvec to cuda: 414.79424 MB\n",
      "\bAfter single dvec to cuda: 424.6528 MB\n",
      "\bAfter single dvec to cuda: 426.838528 MB\n",
      "\bAfter single dvec to cuda: 432.55296 MB\n",
      "After dvec to cuda: 432.557056 MB\n",
      "After forward to cuda: 4333.602816 MB\n"
     ]
    },
    {
     "name": "stderr",
     "output_type": "stream",
     "text": [
      "2021-11-24 17:02:00,892 - INFO - Wrote summary at step 144\n"
     ]
    },
    {
     "name": "stdout",
     "output_type": "stream",
     "text": [
      "After input to cuda: 432.557056 MB\n",
      "\bAfter single dvec to cuda: 422.667264 MB\n",
      "\bAfter single dvec to cuda: 429.632 MB\n",
      "\bAfter single dvec to cuda: 438.877696 MB\n",
      "\bAfter single dvec to cuda: 446.224896 MB\n",
      "After dvec to cuda: 446.228992 MB\n",
      "After forward to cuda: 4346.56256 MB\n",
      "After input to cuda: 446.628352 MB\n",
      "\bAfter single dvec to cuda: 423.580672 MB\n",
      "\bAfter single dvec to cuda: 429.023744 MB\n",
      "\bAfter single dvec to cuda: 439.35488 MB\n",
      "\bAfter single dvec to cuda: 448.869888 MB\n",
      "After dvec to cuda: 448.873984 MB\n",
      "After forward to cuda: 4348.575744 MB\n"
     ]
    },
    {
     "name": "stderr",
     "output_type": "stream",
     "text": [
      "2021-11-24 17:02:01,596 - INFO - Wrote summary at step 145\n"
     ]
    },
    {
     "name": "stdout",
     "output_type": "stream",
     "text": [
      "After input to cuda: 448.873984 MB\n",
      "\bAfter single dvec to cuda: 416.82176 MB\n",
      "\bAfter single dvec to cuda: 424.43776 MB\n",
      "\bAfter single dvec to cuda: 431.781888 MB\n",
      "\bAfter single dvec to cuda: 441.027072 MB\n",
      "After dvec to cuda: 441.031168 MB\n",
      "After forward to cuda: 4340.824064 MB\n",
      "After input to cuda: 440.928768 MB\n",
      "\bAfter single dvec to cuda: 418.891776 MB\n",
      "\bAfter single dvec to cuda: 429.144576 MB\n",
      "\bAfter single dvec to cuda: 438.937088 MB\n",
      "\bAfter single dvec to cuda: 446.011392 MB\n",
      "After dvec to cuda: 446.015488 MB\n",
      "After forward to cuda: 4346.221056 MB\n"
     ]
    },
    {
     "name": "stderr",
     "output_type": "stream",
     "text": [
      "2021-11-24 17:02:02,300 - INFO - Wrote summary at step 146\n"
     ]
    },
    {
     "name": "stdout",
     "output_type": "stream",
     "text": [
      "After input to cuda: 445.718528 MB\n",
      "\bAfter single dvec to cuda: 423.13216 MB\n",
      "\bAfter single dvec to cuda: 431.344128 MB\n",
      "\bAfter single dvec to cuda: 438.02368 MB\n",
      "\bAfter single dvec to cuda: 445.64224 MB\n",
      "After dvec to cuda: 445.646336 MB\n",
      "After forward to cuda: 4345.744384 MB\n",
      "After input to cuda: 445.646336 MB\n",
      "\bAfter single dvec to cuda: 423.156224 MB\n",
      "\bAfter single dvec to cuda: 433.757696 MB\n",
      "\bAfter single dvec to cuda: 441.37472 MB\n",
      "\bAfter single dvec to cuda: 450.620928 MB\n",
      "After dvec to cuda: 450.625024 MB\n",
      "After forward to cuda: 4351.056384 MB\n"
     ]
    },
    {
     "name": "stderr",
     "output_type": "stream",
     "text": [
      "2021-11-24 17:02:03,009 - INFO - Wrote summary at step 147\n"
     ]
    },
    {
     "name": "stdout",
     "output_type": "stream",
     "text": [
      "After input to cuda: 450.761216 MB\n",
      "\bAfter single dvec to cuda: 418.185728 MB\n",
      "\bAfter single dvec to cuda: 425.777664 MB\n",
      "\bAfter single dvec to cuda: 436.110848 MB\n",
      "\bAfter single dvec to cuda: 445.993984 MB\n",
      "After dvec to cuda: 445.99808 MB\n",
      "After forward to cuda: 4345.522688 MB\n",
      "After input to cuda: 445.861888 MB\n",
      "\bAfter single dvec to cuda: 422.736896 MB\n",
      "\bAfter single dvec to cuda: 432.96768 MB\n",
      "\bAfter single dvec to cuda: 442.755072 MB\n",
      "\bAfter single dvec to cuda: 452.543488 MB\n",
      "After dvec to cuda: 452.547584 MB\n",
      "After forward to cuda: 4352.679424 MB\n"
     ]
    },
    {
     "name": "stderr",
     "output_type": "stream",
     "text": [
      "2021-11-24 17:02:03,713 - INFO - Wrote summary at step 148\n"
     ]
    },
    {
     "name": "stdout",
     "output_type": "stream",
     "text": [
      "After input to cuda: 452.547584 MB\n",
      "\bAfter single dvec to cuda: 420.76672 MB\n",
      "\bAfter single dvec to cuda: 426.484736 MB\n",
      "\bAfter single dvec to cuda: 436.542976 MB\n",
      "\bAfter single dvec to cuda: 445.787136 MB\n",
      "After dvec to cuda: 445.791232 MB\n",
      "After forward to cuda: 4346.69312 MB\n",
      "After input to cuda: 446.190592 MB\n",
      "\bAfter single dvec to cuda: 423.609856 MB\n",
      "\bAfter single dvec to cuda: 433.399296 MB\n",
      "\bAfter single dvec to cuda: 440.471552 MB\n",
      "\bAfter single dvec to cuda: 450.259968 MB\n",
      "After dvec to cuda: 450.264064 MB\n",
      "After forward to cuda: 4349.389312 MB\n"
     ]
    },
    {
     "name": "stderr",
     "output_type": "stream",
     "text": [
      "2021-11-24 17:02:04,419 - INFO - Wrote summary at step 149\n"
     ]
    },
    {
     "name": "stdout",
     "output_type": "stream",
     "text": [
      "After input to cuda: 450.264064 MB\n",
      "\bAfter single dvec to cuda: 423.55456 MB\n",
      "\bAfter single dvec to cuda: 434.160128 MB\n",
      "\bAfter single dvec to cuda: 443.949056 MB\n",
      "\bAfter single dvec to cuda: 452.653056 MB\n",
      "After dvec to cuda: 452.657152 MB\n",
      "After forward to cuda: 4353.228288 MB\n",
      "After input to cuda: 452.257792 MB\n",
      "\bAfter single dvec to cuda: 416.6912 MB\n",
      "\bAfter single dvec to cuda: 426.97216 MB\n",
      "\bAfter single dvec to cuda: 435.623936 MB\n",
      "\bAfter single dvec to cuda: 445.955584 MB\n",
      "After dvec to cuda: 445.95968 MB\n",
      "After forward to cuda: 4346.025472 MB\n"
     ]
    },
    {
     "name": "stderr",
     "output_type": "stream",
     "text": [
      "2021-11-24 17:02:05,125 - INFO - Wrote summary at step 150\n"
     ]
    },
    {
     "name": "stdout",
     "output_type": "stream",
     "text": [
      "After input to cuda: 445.88288 MB\n",
      "\bAfter single dvec to cuda: 423.105024 MB\n",
      "\bAfter single dvec to cuda: 433.164288 MB\n",
      "\bAfter single dvec to cuda: 443.766784 MB\n",
      "\bAfter single dvec to cuda: 454.102528 MB\n",
      "After dvec to cuda: 454.106624 MB\n",
      "After forward to cuda: 4354.851328 MB\n",
      "After input to cuda: 454.75328 MB\n",
      "\bAfter single dvec to cuda: 421.8752 MB\n",
      "\bAfter single dvec to cuda: 430.037504 MB\n",
      "\bAfter single dvec to cuda: 440.370688 MB\n",
      "\bAfter single dvec to cuda: 448.346112 MB\n",
      "After dvec to cuda: 448.350208 MB\n",
      "After forward to cuda: 4347.87328 MB\n"
     ]
    },
    {
     "name": "stderr",
     "output_type": "stream",
     "text": [
      "2021-11-24 17:02:05,832 - INFO - Wrote summary at step 151\n"
     ]
    },
    {
     "name": "stdout",
     "output_type": "stream",
     "text": [
      "After input to cuda: 447.780352 MB\n",
      "\bAfter single dvec to cuda: 423.207936 MB\n",
      "\bAfter single dvec to cuda: 430.821888 MB\n",
      "\bAfter single dvec to cuda: 439.522304 MB\n",
      "\bAfter single dvec to cuda: 449.042944 MB\n",
      "After dvec to cuda: 449.04704 MB\n",
      "After forward to cuda: 4349.586432 MB\n",
      "After input to cuda: 448.97024 MB\n",
      "\bAfter single dvec to cuda: 423.081984 MB\n",
      "\bAfter single dvec to cuda: 432.523776 MB\n",
      "\bAfter single dvec to cuda: 435.8144 MB\n",
      "\bAfter single dvec to cuda: 439.085568 MB\n",
      "After dvec to cuda: 439.089664 MB\n",
      "After forward to cuda: 4338.900992 MB\n"
     ]
    },
    {
     "name": "stderr",
     "output_type": "stream",
     "text": [
      "2021-11-24 17:02:06,535 - INFO - Wrote summary at step 152\n"
     ]
    },
    {
     "name": "stdout",
     "output_type": "stream",
     "text": [
      "After input to cuda: 439.089664 MB\n",
      "\bAfter single dvec to cuda: 423.131136 MB\n",
      "\bAfter single dvec to cuda: 432.647168 MB\n",
      "\bAfter single dvec to cuda: 442.505216 MB\n",
      "\bAfter single dvec to cuda: 445.773312 MB\n",
      "After dvec to cuda: 445.777408 MB\n",
      "After forward to cuda: 4345.9072 MB\n",
      "After input to cuda: 446.382592 MB\n",
      "\bAfter single dvec to cuda: 418.033664 MB\n",
      "\bAfter single dvec to cuda: 422.931968 MB\n",
      "\bAfter single dvec to cuda: 433.238528 MB\n",
      "\bAfter single dvec to cuda: 443.026432 MB\n",
      "After dvec to cuda: 443.030528 MB\n",
      "After forward to cuda: 4342.031872 MB\n"
     ]
    },
    {
     "name": "stderr",
     "output_type": "stream",
     "text": [
      "2021-11-24 17:02:07,238 - INFO - Wrote summary at step 153\n"
     ]
    },
    {
     "name": "stdout",
     "output_type": "stream",
     "text": [
      "After input to cuda: 442.502144 MB\n",
      "\bAfter single dvec to cuda: 423.187456 MB\n",
      "\bAfter single dvec to cuda: 429.171712 MB\n",
      "\bAfter single dvec to cuda: 440.04864 MB\n",
      "\bAfter single dvec to cuda: 449.02144 MB\n",
      "After dvec to cuda: 449.025536 MB\n",
      "After forward to cuda: 4349.68832 MB\n",
      "After input to cuda: 449.025536 MB\n",
      "\bAfter single dvec to cuda: 423.103488 MB\n",
      "\bAfter single dvec to cuda: 432.00256 MB\n",
      "\bAfter single dvec to cuda: 442.33728 MB\n",
      "\bAfter single dvec to cuda: 450.228224 MB\n",
      "After dvec to cuda: 450.23232 MB\n",
      "After forward to cuda: 4349.756928 MB\n"
     ]
    },
    {
     "name": "stderr",
     "output_type": "stream",
     "text": [
      "2021-11-24 17:02:07,955 - INFO - Wrote summary at step 154\n"
     ]
    },
    {
     "name": "stdout",
     "output_type": "stream",
     "text": [
      "After input to cuda: 450.23232 MB\n",
      "\bAfter single dvec to cuda: 419.841536 MB\n",
      "\bAfter single dvec to cuda: 422.949888 MB\n",
      "\bAfter single dvec to cuda: 424.050688 MB\n",
      "\bAfter single dvec to cuda: 427.049472 MB\n",
      "After dvec to cuda: 427.053568 MB\n",
      "After forward to cuda: 4327.5264 MB\n",
      "After input to cuda: 427.053568 MB\n",
      "\bAfter single dvec to cuda: 423.10912 MB\n",
      "\bAfter single dvec to cuda: 433.984 MB\n",
      "\bAfter single dvec to cuda: 444.314624 MB\n",
      "\bAfter single dvec to cuda: 453.56288 MB\n",
      "After dvec to cuda: 453.566976 MB\n",
      "After forward to cuda: 4353.378304 MB\n"
     ]
    },
    {
     "name": "stderr",
     "output_type": "stream",
     "text": [
      "2021-11-24 17:02:08,686 - INFO - Wrote summary at step 155\n"
     ]
    },
    {
     "name": "stdout",
     "output_type": "stream",
     "text": [
      "After input to cuda: 453.566976 MB\n",
      "\bAfter single dvec to cuda: 421.305344 MB\n",
      "\bAfter single dvec to cuda: 431.366656 MB\n",
      "\bAfter single dvec to cuda: 440.610304 MB\n",
      "\bAfter single dvec to cuda: 447.577088 MB\n",
      "After dvec to cuda: 447.581184 MB\n",
      "After forward to cuda: 4348.374528 MB\n",
      "After input to cuda: 447.901696 MB\n",
      "\bAfter single dvec to cuda: 424.690688 MB\n",
      "\bAfter single dvec to cuda: 433.934848 MB\n",
      "\bAfter single dvec to cuda: 444.67456 MB\n",
      "\bAfter single dvec to cuda: 452.831232 MB\n",
      "After dvec to cuda: 452.835328 MB\n",
      "After forward to cuda: 4353.555968 MB\n"
     ]
    },
    {
     "name": "stderr",
     "output_type": "stream",
     "text": [
      "2021-11-24 17:02:09,409 - INFO - Wrote summary at step 156\n"
     ]
    },
    {
     "name": "stdout",
     "output_type": "stream",
     "text": [
      "After input to cuda: 453.035008 MB\n",
      "\bAfter single dvec to cuda: 424.137216 MB\n",
      "\bAfter single dvec to cuda: 434.469376 MB\n",
      "\bAfter single dvec to cuda: 437.73696 MB\n",
      "\bAfter single dvec to cuda: 447.799296 MB\n",
      "After dvec to cuda: 447.803392 MB\n",
      "After forward to cuda: 4347.05152 MB\n",
      "After input to cuda: 448.164352 MB\n",
      "\bAfter single dvec to cuda: 423.744512 MB\n",
      "\bAfter single dvec to cuda: 434.00192 MB\n",
      "\bAfter single dvec to cuda: 444.064768 MB\n",
      "\bAfter single dvec to cuda: 451.057152 MB\n",
      "After dvec to cuda: 451.061248 MB\n",
      "After forward to cuda: 4350.633984 MB\n"
     ]
    },
    {
     "name": "stderr",
     "output_type": "stream",
     "text": [
      "2021-11-24 17:02:10,134 - INFO - Wrote summary at step 157\n"
     ]
    },
    {
     "name": "stdout",
     "output_type": "stream",
     "text": [
      "After input to cuda: 450.180096 MB\n",
      "\bAfter single dvec to cuda: 422.8608 MB\n",
      "\bAfter single dvec to cuda: 426.6752 MB\n",
      "\bAfter single dvec to cuda: 436.959232 MB\n",
      "\bAfter single dvec to cuda: 438.8736 MB\n",
      "After dvec to cuda: 438.877696 MB\n",
      "After forward to cuda: 4338.689024 MB\n",
      "After input to cuda: 438.877696 MB\n",
      "\bAfter single dvec to cuda: 423.155712 MB\n",
      "\bAfter single dvec to cuda: 432.402432 MB\n",
      "\bAfter single dvec to cuda: 439.748608 MB\n",
      "\bAfter single dvec to cuda: 448.995328 MB\n",
      "After dvec to cuda: 448.999424 MB\n",
      "After forward to cuda: 4349.530624 MB\n"
     ]
    },
    {
     "name": "stderr",
     "output_type": "stream",
     "text": [
      "2021-11-24 17:02:10,851 - INFO - Wrote summary at step 158\n"
     ]
    },
    {
     "name": "stdout",
     "output_type": "stream",
     "text": [
      "After input to cuda: 449.596416 MB\n",
      "\bAfter single dvec to cuda: 416.046592 MB\n",
      "\bAfter single dvec to cuda: 424.208384 MB\n",
      "\bAfter single dvec to cuda: 432.9088 MB\n",
      "\bAfter single dvec to cuda: 442.7008 MB\n",
      "After dvec to cuda: 442.704896 MB\n",
      "After forward to cuda: 4342.303744 MB\n",
      "After input to cuda: 442.428416 MB\n",
      "\bAfter single dvec to cuda: 423.532032 MB\n",
      "\bAfter single dvec to cuda: 425.170432 MB\n",
      "\bAfter single dvec to cuda: 434.146816 MB\n",
      "\bAfter single dvec to cuda: 442.576384 MB\n",
      "After dvec to cuda: 442.58048 MB\n",
      "After forward to cuda: 4341.784576 MB\n"
     ]
    },
    {
     "name": "stderr",
     "output_type": "stream",
     "text": [
      "2021-11-24 17:02:11,579 - INFO - Wrote summary at step 159\n"
     ]
    },
    {
     "name": "stdout",
     "output_type": "stream",
     "text": [
      "After input to cuda: 442.259968 MB\n",
      "\bAfter single dvec to cuda: 418.31936 MB\n",
      "\bAfter single dvec to cuda: 422.18496 MB\n",
      "\bAfter single dvec to cuda: 431.432704 MB\n",
      "\bAfter single dvec to cuda: 439.59296 MB\n",
      "After dvec to cuda: 439.597056 MB\n",
      "After forward to cuda: 4340.16256 MB\n",
      "After input to cuda: 439.597056 MB\n",
      "\bAfter single dvec to cuda: 419.679232 MB\n",
      "\bAfter single dvec to cuda: 429.471232 MB\n",
      "\bAfter single dvec to cuda: 431.115264 MB\n",
      "\bAfter single dvec to cuda: 440.636416 MB\n",
      "After dvec to cuda: 440.640512 MB\n",
      "After forward to cuda: 4340.73344 MB\n"
     ]
    },
    {
     "name": "stderr",
     "output_type": "stream",
     "text": [
      "2021-11-24 17:02:12,284 - INFO - Wrote summary at step 160\n"
     ]
    },
    {
     "name": "stdout",
     "output_type": "stream",
     "text": [
      "After input to cuda: 440.640512 MB\n",
      "\bAfter single dvec to cuda: 421.853696 MB\n",
      "\bAfter single dvec to cuda: 431.645184 MB\n",
      "\bAfter single dvec to cuda: 442.246144 MB\n",
      "\bAfter single dvec to cuda: 452.035072 MB\n",
      "After dvec to cuda: 452.039168 MB\n",
      "After forward to cuda: 4352.452608 MB\n",
      "After input to cuda: 452.35968 MB\n",
      "\bAfter single dvec to cuda: 423.50592 MB\n",
      "\bAfter single dvec to cuda: 433.564672 MB\n",
      "\bAfter single dvec to cuda: 441.994752 MB\n",
      "\bAfter single dvec to cuda: 451.782144 MB\n",
      "After dvec to cuda: 451.78624 MB\n",
      "After forward to cuda: 4351.879168 MB\n"
     ]
    },
    {
     "name": "stderr",
     "output_type": "stream",
     "text": [
      "2021-11-24 17:02:12,991 - INFO - Wrote summary at step 161\n"
     ]
    },
    {
     "name": "stdout",
     "output_type": "stream",
     "text": [
      "After input to cuda: 452.392448 MB\n",
      "\bAfter single dvec to cuda: 424.034304 MB\n",
      "\bAfter single dvec to cuda: 433.009152 MB\n",
      "\bAfter single dvec to cuda: 441.437184 MB\n",
      "\bAfter single dvec to cuda: 451.44576 MB\n",
      "After dvec to cuda: 451.449856 MB\n",
      "After forward to cuda: 4351.964672 MB\n",
      "After input to cuda: 451.129344 MB\n",
      "\bAfter single dvec to cuda: 420.52608 MB\n",
      "\bAfter single dvec to cuda: 430.857728 MB\n",
      "\bAfter single dvec to cuda: 440.377344 MB\n",
      "\bAfter single dvec to cuda: 447.05792 MB\n",
      "After dvec to cuda: 447.062016 MB\n",
      "After forward to cuda: 4346.586624 MB\n"
     ]
    },
    {
     "name": "stderr",
     "output_type": "stream",
     "text": [
      "2021-11-24 17:02:13,695 - INFO - Wrote summary at step 162\n"
     ]
    },
    {
     "name": "stdout",
     "output_type": "stream",
     "text": [
      "After input to cuda: 446.455808 MB\n",
      "\bAfter single dvec to cuda: 422.290944 MB\n",
      "\bAfter single dvec to cuda: 430.452224 MB\n",
      "\bAfter single dvec to cuda: 433.453056 MB\n",
      "\bAfter single dvec to cuda: 443.708928 MB\n",
      "After dvec to cuda: 443.713024 MB\n",
      "After forward to cuda: 4344.317952 MB\n",
      "After input to cuda: 444.033536 MB\n",
      "\bAfter single dvec to cuda: 422.691328 MB\n",
      "\bAfter single dvec to cuda: 431.123968 MB\n",
      "\bAfter single dvec to cuda: 441.43104 MB\n",
      "\bAfter single dvec to cuda: 451.7632 MB\n",
      "After dvec to cuda: 451.767296 MB\n",
      "After forward to cuda: 4351.291904 MB\n"
     ]
    },
    {
     "name": "stderr",
     "output_type": "stream",
     "text": [
      "2021-11-24 17:02:14,401 - INFO - Wrote summary at step 163\n"
     ]
    },
    {
     "name": "stdout",
     "output_type": "stream",
     "text": [
      "After input to cuda: 451.767296 MB\n",
      "\bAfter single dvec to cuda: 423.502848 MB\n",
      "\bAfter single dvec to cuda: 433.562112 MB\n",
      "\bAfter single dvec to cuda: 443.620864 MB\n",
      "\bAfter single dvec to cuda: 453.14048 MB\n",
      "After dvec to cuda: 453.144576 MB\n",
      "After forward to cuda: 4353.167872 MB\n",
      "After input to cuda: 452.824064 MB\n",
      "\bAfter single dvec to cuda: 423.481856 MB\n",
      "\bAfter single dvec to cuda: 427.295744 MB\n",
      "\bAfter single dvec to cuda: 429.211136 MB\n",
      "\bAfter single dvec to cuda: 439.438848 MB\n",
      "After dvec to cuda: 439.442944 MB\n",
      "After forward to cuda: 4340.244992 MB\n"
     ]
    },
    {
     "name": "stderr",
     "output_type": "stream",
     "text": [
      "2021-11-24 17:02:15,106 - INFO - Wrote summary at step 164\n"
     ]
    },
    {
     "name": "stdout",
     "output_type": "stream",
     "text": [
      "After input to cuda: 439.442944 MB\n",
      "\bAfter single dvec to cuda: 421.851136 MB\n",
      "\bAfter single dvec to cuda: 431.369216 MB\n",
      "\bAfter single dvec to cuda: 439.799296 MB\n",
      "\bAfter single dvec to cuda: 450.12992 MB\n",
      "After dvec to cuda: 450.134016 MB\n",
      "After forward to cuda: 4351.42144 MB\n",
      "After input to cuda: 450.731008 MB\n",
      "\bAfter single dvec to cuda: 422.178304 MB\n",
      "\bAfter single dvec to cuda: 424.091648 MB\n",
      "\bAfter single dvec to cuda: 429.537792 MB\n",
      "\bAfter single dvec to cuda: 438.783488 MB\n",
      "After dvec to cuda: 438.787584 MB\n",
      "After forward to cuda: 4337.7152 MB\n"
     ]
    },
    {
     "name": "stderr",
     "output_type": "stream",
     "text": [
      "2021-11-24 17:02:15,811 - INFO - Wrote summary at step 165\n"
     ]
    },
    {
     "name": "stdout",
     "output_type": "stream",
     "text": [
      "After input to cuda: 438.190592 MB\n",
      "\bAfter single dvec to cuda: 423.211008 MB\n",
      "\bAfter single dvec to cuda: 431.452672 MB\n",
      "\bAfter single dvec to cuda: 440.973312 MB\n",
      "\bAfter single dvec to cuda: 449.678336 MB\n",
      "After dvec to cuda: 449.682432 MB\n",
      "After forward to cuda: 4349.812224 MB\n",
      "After input to cuda: 450.287616 MB\n",
      "\bAfter single dvec to cuda: 420.475392 MB\n",
      "\bAfter single dvec to cuda: 430.757376 MB\n",
      "\bAfter single dvec to cuda: 440.816128 MB\n",
      "\bAfter single dvec to cuda: 449.249792 MB\n",
      "After dvec to cuda: 449.253888 MB\n",
      "After forward to cuda: 4349.310464 MB\n"
     ]
    },
    {
     "name": "stderr",
     "output_type": "stream",
     "text": [
      "2021-11-24 17:02:16,517 - INFO - Wrote summary at step 166\n"
     ]
    },
    {
     "name": "stdout",
     "output_type": "stream",
     "text": [
      "After input to cuda: 448.648704 MB\n",
      "\bAfter single dvec to cuda: 421.851648 MB\n",
      "\bAfter single dvec to cuda: 426.4832 MB\n",
      "\bAfter single dvec to cuda: 437.088256 MB\n",
      "\bAfter single dvec to cuda: 448.762368 MB\n",
      "After dvec to cuda: 448.766464 MB\n",
      "After forward to cuda: 4348.572672 MB\n",
      "After input to cuda: 448.766464 MB\n",
      "\bAfter single dvec to cuda: 423.108608 MB\n",
      "\bAfter single dvec to cuda: 433.7152 MB\n",
      "\bAfter single dvec to cuda: 443.507712 MB\n",
      "\bAfter single dvec to cuda: 452.756992 MB\n",
      "After dvec to cuda: 452.761088 MB\n",
      "After forward to cuda: 4353.499136 MB\n"
     ]
    },
    {
     "name": "stderr",
     "output_type": "stream",
     "text": [
      "2021-11-24 17:02:17,225 - INFO - Wrote summary at step 167\n"
     ]
    },
    {
     "name": "stdout",
     "output_type": "stream",
     "text": [
      "After input to cuda: 453.687808 MB\n",
      "\bAfter single dvec to cuda: 421.421056 MB\n",
      "\bAfter single dvec to cuda: 425.780736 MB\n",
      "\bAfter single dvec to cuda: 436.086784 MB\n",
      "\bAfter single dvec to cuda: 438.42048 MB\n",
      "After dvec to cuda: 438.424576 MB\n",
      "After forward to cuda: 4337.137152 MB\n",
      "After input to cuda: 437.497856 MB\n",
      "\bAfter single dvec to cuda: 421.8496 MB\n",
      "\bAfter single dvec to cuda: 424.849408 MB\n",
      "\bAfter single dvec to cuda: 434.369536 MB\n",
      "\bAfter single dvec to cuda: 443.885056 MB\n",
      "After dvec to cuda: 443.889152 MB\n",
      "After forward to cuda: 4344.107008 MB\n"
     ]
    },
    {
     "name": "stderr",
     "output_type": "stream",
     "text": [
      "2021-11-24 17:02:17,930 - INFO - Wrote summary at step 168\n"
     ]
    },
    {
     "name": "stdout",
     "output_type": "stream",
     "text": [
      "After input to cuda: 443.889152 MB\n",
      "\bAfter single dvec to cuda: 423.75424 MB\n",
      "\bAfter single dvec to cuda: 432.182272 MB\n",
      "\bAfter single dvec to cuda: 441.703424 MB\n",
      "\bAfter single dvec to cuda: 451.767296 MB\n",
      "After dvec to cuda: 451.771392 MB\n",
      "After forward to cuda: 4351.611392 MB\n",
      "After input to cuda: 452.086784 MB\n",
      "\bAfter single dvec to cuda: 423.526912 MB\n",
      "\bAfter single dvec to cuda: 430.519808 MB\n",
      "\bAfter single dvec to cuda: 440.577536 MB\n",
      "\bAfter single dvec to cuda: 450.097664 MB\n",
      "After dvec to cuda: 450.10176 MB\n",
      "After forward to cuda: 4350.07232 MB\n"
     ]
    },
    {
     "name": "stderr",
     "output_type": "stream",
     "text": [
      "2021-11-24 17:02:18,635 - INFO - Wrote summary at step 169\n"
     ]
    },
    {
     "name": "stdout",
     "output_type": "stream",
     "text": [
      "After input to cuda: 450.547712 MB\n",
      "\bAfter single dvec to cuda: 423.86688 MB\n",
      "\bAfter single dvec to cuda: 433.93024 MB\n",
      "\bAfter single dvec to cuda: 443.80416 MB\n",
      "\bAfter single dvec to cuda: 450.821632 MB\n",
      "After dvec to cuda: 450.825728 MB\n",
      "After forward to cuda: 4349.588992 MB\n",
      "After input to cuda: 450.064384 MB\n",
      "\bAfter single dvec to cuda: 419.871232 MB\n",
      "\bAfter single dvec to cuda: 430.102016 MB\n",
      "\bAfter single dvec to cuda: 439.617024 MB\n",
      "\bAfter single dvec to cuda: 450.221568 MB\n",
      "After dvec to cuda: 450.225664 MB\n",
      "After forward to cuda: 4350.036992 MB\n"
     ]
    },
    {
     "name": "stderr",
     "output_type": "stream",
     "text": [
      "2021-11-24 17:02:19,342 - INFO - Wrote summary at step 170\n"
     ]
    },
    {
     "name": "stdout",
     "output_type": "stream",
     "text": [
      "After input to cuda: 450.148864 MB\n",
      "\bAfter single dvec to cuda: 420.414976 MB\n",
      "\bAfter single dvec to cuda: 429.66272 MB\n",
      "\bAfter single dvec to cuda: 438.636544 MB\n",
      "\bAfter single dvec to cuda: 445.631488 MB\n",
      "After dvec to cuda: 445.635584 MB\n",
      "After forward to cuda: 4346.5984 MB\n",
      "After input to cuda: 446.116864 MB\n",
      "\bAfter single dvec to cuda: 420.250624 MB\n",
      "\bAfter single dvec to cuda: 421.728768 MB\n",
      "\bAfter single dvec to cuda: 428.533248 MB\n",
      "\bAfter single dvec to cuda: 437.510656 MB\n",
      "After dvec to cuda: 437.514752 MB\n",
      "After forward to cuda: 4338.408448 MB\n"
     ]
    },
    {
     "name": "stderr",
     "output_type": "stream",
     "text": [
      "2021-11-24 17:02:20,069 - INFO - Wrote summary at step 171\n"
     ]
    },
    {
     "name": "stdout",
     "output_type": "stream",
     "text": [
      "After input to cuda: 437.410304 MB\n",
      "\bAfter single dvec to cuda: 422.693376 MB\n",
      "\bAfter single dvec to cuda: 433.571328 MB\n",
      "\bAfter single dvec to cuda: 443.35872 MB\n",
      "\bAfter single dvec to cuda: 450.973696 MB\n",
      "After dvec to cuda: 450.977792 MB\n",
      "After forward to cuda: 4350.520832 MB\n",
      "After input to cuda: 451.274752 MB\n",
      "\bAfter single dvec to cuda: 423.706112 MB\n",
      "\bAfter single dvec to cuda: 432.6784 MB\n",
      "\bAfter single dvec to cuda: 442.468352 MB\n",
      "\bAfter single dvec to cuda: 452.258304 MB\n",
      "After dvec to cuda: 452.2624 MB\n",
      "After forward to cuda: 4352.546816 MB\n"
     ]
    },
    {
     "name": "stderr",
     "output_type": "stream",
     "text": [
      "2021-11-24 17:02:20,776 - INFO - Wrote summary at step 172\n"
     ]
    },
    {
     "name": "stdout",
     "output_type": "stream",
     "text": [
      "After input to cuda: 451.665408 MB\n",
      "\bAfter single dvec to cuda: 422.615552 MB\n",
      "\bAfter single dvec to cuda: 431.316992 MB\n",
      "\bAfter single dvec to cuda: 440.022016 MB\n",
      "\bAfter single dvec to cuda: 448.997376 MB\n",
      "After dvec to cuda: 449.001472 MB\n",
      "After forward to cuda: 4350.034944 MB\n",
      "After input to cuda: 449.001472 MB\n",
      "\bAfter single dvec to cuda: 420.494336 MB\n",
      "\bAfter single dvec to cuda: 428.922368 MB\n",
      "\bAfter single dvec to cuda: 436.541952 MB\n",
      "\bAfter single dvec to cuda: 446.876672 MB\n",
      "After dvec to cuda: 446.880768 MB\n",
      "After forward to cuda: 4346.405376 MB\n"
     ]
    },
    {
     "name": "stderr",
     "output_type": "stream",
     "text": [
      "2021-11-24 17:02:21,487 - INFO - Wrote summary at step 173\n"
     ]
    },
    {
     "name": "stdout",
     "output_type": "stream",
     "text": [
      "After input to cuda: 446.880768 MB\n",
      "\bAfter single dvec to cuda: 417.503744 MB\n",
      "\bAfter single dvec to cuda: 427.813888 MB\n",
      "\bAfter single dvec to cuda: 437.604864 MB\n",
      "\bAfter single dvec to cuda: 445.491712 MB\n",
      "After dvec to cuda: 445.495808 MB\n",
      "After forward to cuda: 4346.080256 MB\n",
      "After input to cuda: 446.09792 MB\n",
      "\bAfter single dvec to cuda: 423.267328 MB\n",
      "\bAfter single dvec to cuda: 427.894784 MB\n",
      "\bAfter single dvec to cuda: 436.87168 MB\n",
      "\bAfter single dvec to cuda: 444.75904 MB\n",
      "After dvec to cuda: 444.763136 MB\n",
      "After forward to cuda: 4345.3952 MB\n"
     ]
    },
    {
     "name": "stderr",
     "output_type": "stream",
     "text": [
      "2021-11-24 17:02:22,191 - INFO - Wrote summary at step 174\n"
     ]
    },
    {
     "name": "stdout",
     "output_type": "stream",
     "text": [
      "After input to cuda: 444.922368 MB\n",
      "\bAfter single dvec to cuda: 416.367104 MB\n",
      "\bAfter single dvec to cuda: 427.513344 MB\n",
      "\bAfter single dvec to cuda: 431.793152 MB\n",
      "\bAfter single dvec to cuda: 441.585664 MB\n",
      "After dvec to cuda: 441.58976 MB\n",
      "After forward to cuda: 4341.316096 MB\n",
      "After input to cuda: 441.482752 MB\n",
      "\bAfter single dvec to cuda: 424.134144 MB\n",
      "\bAfter single dvec to cuda: 434.194944 MB\n",
      "\bAfter single dvec to cuda: 443.16672 MB\n",
      "\bAfter single dvec to cuda: 453.500416 MB\n",
      "After dvec to cuda: 453.504512 MB\n",
      "After forward to cuda: 4353.948672 MB\n"
     ]
    },
    {
     "name": "stderr",
     "output_type": "stream",
     "text": [
      "2021-11-24 17:02:22,896 - INFO - Wrote summary at step 175\n"
     ]
    },
    {
     "name": "stdout",
     "output_type": "stream",
     "text": [
      "After input to cuda: 453.7984 MB\n",
      "\bAfter single dvec to cuda: 424.057856 MB\n",
      "\bAfter single dvec to cuda: 433.847296 MB\n",
      "\bAfter single dvec to cuda: 443.26144 MB\n",
      "\bAfter single dvec to cuda: 450.609152 MB\n",
      "After dvec to cuda: 450.613248 MB\n",
      "After forward to cuda: 4350.137856 MB\n",
      "After input to cuda: 450.613248 MB\n",
      "\bAfter single dvec to cuda: 420.89984 MB\n",
      "\bAfter single dvec to cuda: 424.7168 MB\n",
      "\bAfter single dvec to cuda: 435.322368 MB\n",
      "\bAfter single dvec to cuda: 442.66496 MB\n",
      "After dvec to cuda: 442.669056 MB\n",
      "After forward to cuda: 4342.843904 MB\n"
     ]
    },
    {
     "name": "stderr",
     "output_type": "stream",
     "text": [
      "2021-11-24 17:02:23,600 - INFO - Wrote summary at step 176\n"
     ]
    },
    {
     "name": "stdout",
     "output_type": "stream",
     "text": [
      "After input to cuda: 441.772032 MB\n",
      "\bAfter single dvec to cuda: 421.361152 MB\n",
      "\bAfter single dvec to cuda: 430.605824 MB\n",
      "\bAfter single dvec to cuda: 441.212928 MB\n",
      "\bAfter single dvec to cuda: 450.732032 MB\n",
      "After dvec to cuda: 450.736128 MB\n",
      "After forward to cuda: 4351.888384 MB\n",
      "After input to cuda: 451.6864 MB\n",
      "\bAfter single dvec to cuda: 420.410368 MB\n",
      "\bAfter single dvec to cuda: 424.170496 MB\n",
      "\bAfter single dvec to cuda: 433.414656 MB\n",
      "\bAfter single dvec to cuda: 439.943168 MB\n",
      "After dvec to cuda: 439.947264 MB\n",
      "After forward to cuda: 4339.2128 MB\n"
     ]
    },
    {
     "name": "stderr",
     "output_type": "stream",
     "text": [
      "2021-11-24 17:02:24,305 - INFO - Wrote summary at step 177\n"
     ]
    },
    {
     "name": "stdout",
     "output_type": "stream",
     "text": [
      "After input to cuda: 439.542784 MB\n",
      "\bAfter single dvec to cuda: 421.904384 MB\n",
      "\bAfter single dvec to cuda: 430.336512 MB\n",
      "\bAfter single dvec to cuda: 438.767104 MB\n",
      "\bAfter single dvec to cuda: 446.653952 MB\n",
      "After dvec to cuda: 446.658048 MB\n",
      "After forward to cuda: 4345.957376 MB\n",
      "After input to cuda: 446.381568 MB\n",
      "\bAfter single dvec to cuda: 421.35552 MB\n",
      "\bAfter single dvec to cuda: 429.515776 MB\n",
      "\bAfter single dvec to cuda: 438.217216 MB\n",
      "\bAfter single dvec to cuda: 448.2816 MB\n",
      "After dvec to cuda: 448.285696 MB\n",
      "After forward to cuda: 4348.199424 MB\n"
     ]
    },
    {
     "name": "stderr",
     "output_type": "stream",
     "text": [
      "2021-11-24 17:02:25,012 - INFO - Wrote summary at step 178\n"
     ]
    },
    {
     "name": "stdout",
     "output_type": "stream",
     "text": [
      "After input to cuda: 448.096256 MB\n",
      "\bAfter single dvec to cuda: 423.341568 MB\n",
      "\bAfter single dvec to cuda: 424.442368 MB\n",
      "\bAfter single dvec to cuda: 433.691136 MB\n",
      "\bAfter single dvec to cuda: 444.024832 MB\n",
      "After dvec to cuda: 444.028928 MB\n",
      "After forward to cuda: 4344.68608 MB\n",
      "After input to cuda: 444.279808 MB\n",
      "\bAfter single dvec to cuda: 417.076224 MB\n",
      "\bAfter single dvec to cuda: 425.509376 MB\n",
      "\bAfter single dvec to cuda: 433.668608 MB\n",
      "\bAfter single dvec to cuda: 443.727872 MB\n",
      "After dvec to cuda: 443.731968 MB\n",
      "After forward to cuda: 4343.279104 MB\n"
     ]
    },
    {
     "name": "stderr",
     "output_type": "stream",
     "text": [
      "2021-11-24 17:02:25,716 - INFO - Wrote summary at step 179\n"
     ]
    },
    {
     "name": "stdout",
     "output_type": "stream",
     "text": [
      "After input to cuda: 443.324416 MB\n",
      "\bAfter single dvec to cuda: 423.160832 MB\n",
      "\bAfter single dvec to cuda: 430.236672 MB\n",
      "\bAfter single dvec to cuda: 437.580288 MB\n",
      "\bAfter single dvec to cuda: 446.552064 MB\n",
      "After dvec to cuda: 446.55616 MB\n",
      "After forward to cuda: 4347.079168 MB\n",
      "After input to cuda: 447.583232 MB\n",
      "\bAfter single dvec to cuda: 417.421824 MB\n",
      "\bAfter single dvec to cuda: 420.15232 MB\n",
      "\bAfter single dvec to cuda: 429.400064 MB\n",
      "\bAfter single dvec to cuda: 439.187456 MB\n",
      "After dvec to cuda: 439.191552 MB\n",
      "After forward to cuda: 4339.194368 MB\n"
     ]
    },
    {
     "name": "stderr",
     "output_type": "stream",
     "text": [
      "2021-11-24 17:02:26,434 - INFO - Wrote summary at step 180\n"
     ]
    },
    {
     "name": "stdout",
     "output_type": "stream",
     "text": [
      "After input to cuda: 438.787072 MB\n",
      "\bAfter single dvec to cuda: 423.803904 MB\n",
      "\bAfter single dvec to cuda: 435.245568 MB\n",
      "\bAfter single dvec to cuda: 442.315776 MB\n",
      "\bAfter single dvec to cuda: 450.2016 MB\n",
      "After dvec to cuda: 450.205696 MB\n",
      "After forward to cuda: 4349.184512 MB\n",
      "After input to cuda: 449.608704 MB\n",
      "\bAfter single dvec to cuda: 413.977088 MB\n",
      "\bAfter single dvec to cuda: 424.257024 MB\n",
      "\bAfter single dvec to cuda: 431.602176 MB\n",
      "\bAfter single dvec to cuda: 441.662464 MB\n",
      "After dvec to cuda: 441.66656 MB\n",
      "After forward to cuda: 4342.948352 MB\n"
     ]
    },
    {
     "name": "stderr",
     "output_type": "stream",
     "text": [
      "2021-11-24 17:02:27,138 - INFO - Wrote summary at step 181\n"
     ]
    },
    {
     "name": "stdout",
     "output_type": "stream",
     "text": [
      "After input to cuda: 443.131904 MB\n",
      "\bAfter single dvec to cuda: 421.145088 MB\n",
      "\bAfter single dvec to cuda: 430.390784 MB\n",
      "\bAfter single dvec to cuda: 440.450048 MB\n",
      "\bAfter single dvec to cuda: 444.2624 MB\n",
      "After dvec to cuda: 444.266496 MB\n",
      "After forward to cuda: 4344.062464 MB\n",
      "After input to cuda: 443.398144 MB\n",
      "\bAfter single dvec to cuda: 420.156416 MB\n",
      "\bAfter single dvec to cuda: 430.460416 MB\n",
      "\bAfter single dvec to cuda: 437.262848 MB\n",
      "\bAfter single dvec to cuda: 446.777856 MB\n",
      "After dvec to cuda: 446.781952 MB\n",
      "After forward to cuda: 4346.470912 MB\n"
     ]
    },
    {
     "name": "stderr",
     "output_type": "stream",
     "text": [
      "2021-11-24 17:02:27,873 - INFO - Wrote summary at step 182\n"
     ]
    },
    {
     "name": "stdout",
     "output_type": "stream",
     "text": [
      "After input to cuda: 446.946304 MB\n",
      "\bAfter single dvec to cuda: 420.714496 MB\n",
      "\bAfter single dvec to cuda: 430.507008 MB\n",
      "\bAfter single dvec to cuda: 440.567296 MB\n",
      "\bAfter single dvec to cuda: 450.354688 MB\n",
      "After dvec to cuda: 450.358784 MB\n",
      "After forward to cuda: 4349.885952 MB\n",
      "After input to cuda: 450.390016 MB\n",
      "\bAfter single dvec to cuda: 423.184384 MB\n",
      "\bAfter single dvec to cuda: 433.440768 MB\n",
      "\bAfter single dvec to cuda: 442.141184 MB\n",
      "\bAfter single dvec to cuda: 451.932672 MB\n",
      "After dvec to cuda: 451.936768 MB\n",
      "After forward to cuda: 4351.300608 MB\n"
     ]
    },
    {
     "name": "stderr",
     "output_type": "stream",
     "text": [
      "2021-11-24 17:02:28,579 - INFO - Wrote summary at step 183\n"
     ]
    },
    {
     "name": "stdout",
     "output_type": "stream",
     "text": [
      "After input to cuda: 451.280384 MB\n",
      "\bAfter single dvec to cuda: 420.006912 MB\n",
      "\bAfter single dvec to cuda: 424.090112 MB\n",
      "\bAfter single dvec to cuda: 432.793088 MB\n",
      "\bAfter single dvec to cuda: 441.764352 MB\n",
      "After dvec to cuda: 441.768448 MB\n",
      "After forward to cuda: 4342.528 MB\n",
      "After input to cuda: 441.632256 MB\n",
      "\bAfter single dvec to cuda: 423.156224 MB\n",
      "\bAfter single dvec to cuda: 426.696704 MB\n",
      "\bAfter single dvec to cuda: 435.93984 MB\n",
      "\bAfter single dvec to cuda: 445.458432 MB\n",
      "After dvec to cuda: 445.462528 MB\n",
      "After forward to cuda: 4345.255424 MB\n"
     ]
    },
    {
     "name": "stderr",
     "output_type": "stream",
     "text": [
      "2021-11-24 17:02:29,283 - INFO - Wrote summary at step 184\n"
     ]
    },
    {
     "name": "stdout",
     "output_type": "stream",
     "text": [
      "After input to cuda: 445.759488 MB\n",
      "\bAfter single dvec to cuda: 421.877248 MB\n",
      "\bAfter single dvec to cuda: 430.850048 MB\n",
      "\bAfter single dvec to cuda: 441.181696 MB\n",
      "\bAfter single dvec to cuda: 451.241472 MB\n",
      "After dvec to cuda: 451.245568 MB\n",
      "After forward to cuda: 4351.80288 MB\n",
      "After input to cuda: 451.264 MB\n",
      "\bAfter single dvec to cuda: 423.501312 MB\n",
      "\bAfter single dvec to cuda: 433.563648 MB\n",
      "\bAfter single dvec to cuda: 443.627008 MB\n",
      "\bAfter single dvec to cuda: 452.329984 MB\n",
      "After dvec to cuda: 452.33408 MB\n",
      "After forward to cuda: 4352.831488 MB\n"
     ]
    },
    {
     "name": "stderr",
     "output_type": "stream",
     "text": [
      "2021-11-24 17:02:29,992 - INFO - Wrote summary at step 185\n"
     ]
    },
    {
     "name": "stdout",
     "output_type": "stream",
     "text": [
      "After input to cuda: 453.02016 MB\n",
      "\bAfter single dvec to cuda: 424.21248 MB\n",
      "\bAfter single dvec to cuda: 433.732608 MB\n",
      "\bAfter single dvec to cuda: 442.705408 MB\n",
      "\bAfter single dvec to cuda: 450.049536 MB\n",
      "After dvec to cuda: 450.053632 MB\n",
      "After forward to cuda: 4349.182976 MB\n",
      "After input to cuda: 449.658368 MB\n",
      "\bAfter single dvec to cuda: 423.792128 MB\n",
      "\bAfter single dvec to cuda: 433.85088 MB\n",
      "\bAfter single dvec to cuda: 443.096576 MB\n",
      "\bAfter single dvec to cuda: 444.576768 MB\n",
      "After dvec to cuda: 444.580864 MB\n",
      "After forward to cuda: 4344.105472 MB\n"
     ]
    },
    {
     "name": "stderr",
     "output_type": "stream",
     "text": [
      "2021-11-24 17:02:30,698 - INFO - Wrote summary at step 186\n"
     ]
    },
    {
     "name": "stdout",
     "output_type": "stream",
     "text": [
      "After input to cuda: 443.974656 MB\n",
      "\bAfter single dvec to cuda: 421.850624 MB\n",
      "\bAfter single dvec to cuda: 431.368192 MB\n",
      "\bAfter single dvec to cuda: 441.159168 MB\n",
      "\bAfter single dvec to cuda: 451.492352 MB\n",
      "After dvec to cuda: 451.496448 MB\n",
      "After forward to cuda: 4351.589376 MB\n",
      "After input to cuda: 451.554816 MB\n",
      "\bAfter single dvec to cuda: 420.8256 MB\n",
      "\bAfter single dvec to cuda: 424.36864 MB\n",
      "\bAfter single dvec to cuda: 434.429952 MB\n",
      "\bAfter single dvec to cuda: 444.490752 MB\n",
      "After dvec to cuda: 444.494848 MB\n",
      "After forward to cuda: 4344.231424 MB\n"
     ]
    },
    {
     "name": "stderr",
     "output_type": "stream",
     "text": [
      "2021-11-24 17:02:31,402 - INFO - Wrote summary at step 187\n"
     ]
    },
    {
     "name": "stdout",
     "output_type": "stream",
     "text": [
      "After input to cuda: 444.494848 MB\n",
      "\bAfter single dvec to cuda: 423.241728 MB\n",
      "\bAfter single dvec to cuda: 424.339968 MB\n",
      "\bAfter single dvec to cuda: 432.770048 MB\n",
      "\bAfter single dvec to cuda: 442.019328 MB\n",
      "After dvec to cuda: 442.023424 MB\n",
      "After forward to cuda: 4342.853632 MB\n",
      "After input to cuda: 442.562048 MB\n",
      "\bAfter single dvec to cuda: 420.00384 MB\n",
      "\bAfter single dvec to cuda: 428.16256 MB\n",
      "\bAfter single dvec to cuda: 437.94944 MB\n",
      "\bAfter single dvec to cuda: 448.556032 MB\n",
      "After dvec to cuda: 448.560128 MB\n",
      "After forward to cuda: 4348.473344 MB\n"
     ]
    },
    {
     "name": "stderr",
     "output_type": "stream",
     "text": [
      "2021-11-24 17:02:32,106 - INFO - Wrote summary at step 188\n"
     ]
    },
    {
     "name": "stdout",
     "output_type": "stream",
     "text": [
      "After input to cuda: 448.920064 MB\n",
      "\bAfter single dvec to cuda: 422.806528 MB\n",
      "\bAfter single dvec to cuda: 432.049664 MB\n",
      "\bAfter single dvec to cuda: 441.836544 MB\n",
      "\bAfter single dvec to cuda: 451.354624 MB\n",
      "After dvec to cuda: 451.35872 MB\n",
      "After forward to cuda: 4351.145984 MB\n",
      "After input to cuda: 451.319296 MB\n",
      "\bAfter single dvec to cuda: 417.33376 MB\n",
      "\bAfter single dvec to cuda: 426.850816 MB\n",
      "\bAfter single dvec to cuda: 436.913664 MB\n",
      "\bAfter single dvec to cuda: 447.515648 MB\n",
      "After dvec to cuda: 447.519744 MB\n",
      "After forward to cuda: 4346.72384 MB\n"
     ]
    },
    {
     "name": "stderr",
     "output_type": "stream",
     "text": [
      "2021-11-24 17:02:32,856 - INFO - Wrote summary at step 189\n"
     ]
    },
    {
     "name": "stdout",
     "output_type": "stream",
     "text": [
      "After input to cuda: 447.199232 MB\n",
      "\bAfter single dvec to cuda: 422.857728 MB\n",
      "\bAfter single dvec to cuda: 433.137152 MB\n",
      "\bAfter single dvec to cuda: 439.397376 MB\n",
      "\bAfter single dvec to cuda: 449.998848 MB\n",
      "After dvec to cuda: 450.002944 MB\n",
      "After forward to cuda: 4351.532032 MB\n",
      "After input to cuda: 449.405952 MB\n",
      "\bAfter single dvec to cuda: 423.185408 MB\n",
      "\bAfter single dvec to cuda: 433.787904 MB\n",
      "\bAfter single dvec to cuda: 435.701248 MB\n",
      "\bAfter single dvec to cuda: 445.761536 MB\n",
      "After dvec to cuda: 445.765632 MB\n",
      "After forward to cuda: 4345.29024 MB\n"
     ]
    },
    {
     "name": "stderr",
     "output_type": "stream",
     "text": [
      "2021-11-24 17:02:33,560 - INFO - Wrote summary at step 190\n"
     ]
    },
    {
     "name": "stdout",
     "output_type": "stream",
     "text": [
      "After input to cuda: 445.765632 MB\n",
      "\bAfter single dvec to cuda: 423.131648 MB\n",
      "\bAfter single dvec to cuda: 432.923648 MB\n",
      "\bAfter single dvec to cuda: 442.439168 MB\n",
      "\bAfter single dvec to cuda: 451.687424 MB\n",
      "After dvec to cuda: 451.69152 MB\n",
      "After forward to cuda: 4352.264192 MB\n",
      "After input to cuda: 451.69152 MB\n",
      "\bAfter single dvec to cuda: 421.309952 MB\n",
      "\bAfter single dvec to cuda: 430.01088 MB\n",
      "\bAfter single dvec to cuda: 438.988288 MB\n",
      "\bAfter single dvec to cuda: 448.779776 MB\n",
      "After dvec to cuda: 448.783872 MB\n",
      "After forward to cuda: 4348.8768 MB\n"
     ]
    },
    {
     "name": "stderr",
     "output_type": "stream",
     "text": [
      "2021-11-24 17:02:34,268 - INFO - Wrote summary at step 191\n"
     ]
    },
    {
     "name": "stdout",
     "output_type": "stream",
     "text": [
      "After input to cuda: 448.783872 MB\n",
      "\bAfter single dvec to cuda: 414.792192 MB\n",
      "\bAfter single dvec to cuda: 423.765504 MB\n",
      "\bAfter single dvec to cuda: 427.577344 MB\n",
      "\bAfter single dvec to cuda: 437.635584 MB\n",
      "After dvec to cuda: 437.63968 MB\n",
      "After forward to cuda: 4338.921472 MB\n",
      "After input to cuda: 438.03904 MB\n",
      "\bAfter single dvec to cuda: 419.807232 MB\n",
      "\bAfter single dvec to cuda: 429.595648 MB\n",
      "\bAfter single dvec to cuda: 438.839808 MB\n",
      "\bAfter single dvec to cuda: 446.999552 MB\n",
      "After dvec to cuda: 447.003648 MB\n",
      "After forward to cuda: 4348.470784 MB\n"
     ]
    },
    {
     "name": "stderr",
     "output_type": "stream",
     "text": [
      "2021-11-24 17:02:34,973 - INFO - Wrote summary at step 192\n"
     ]
    },
    {
     "name": "stdout",
     "output_type": "stream",
     "text": [
      "After input to cuda: 447.15008 MB\n",
      "\bAfter single dvec to cuda: 415.067136 MB\n",
      "\bAfter single dvec to cuda: 424.588288 MB\n",
      "\bAfter single dvec to cuda: 427.746816 MB\n",
      "\bAfter single dvec to cuda: 438.351872 MB\n",
      "After dvec to cuda: 438.355968 MB\n",
      "After forward to cuda: 4337.960448 MB\n",
      "After input to cuda: 437.91872 MB\n",
      "\bAfter single dvec to cuda: 417.617408 MB\n",
      "\bAfter single dvec to cuda: 425.862656 MB\n",
      "\bAfter single dvec to cuda: 435.380224 MB\n",
      "\bAfter single dvec to cuda: 437.758464 MB\n",
      "After dvec to cuda: 437.76256 MB\n",
      "After forward to cuda: 4337.7664 MB\n"
     ]
    },
    {
     "name": "stderr",
     "output_type": "stream",
     "text": [
      "2021-11-24 17:02:35,700 - INFO - Wrote summary at step 193\n"
     ]
    },
    {
     "name": "stdout",
     "output_type": "stream",
     "text": [
      "After input to cuda: 437.696 MB\n",
      "\bAfter single dvec to cuda: 423.225344 MB\n",
      "\bAfter single dvec to cuda: 433.82784 MB\n",
      "\bAfter single dvec to cuda: 443.241472 MB\n",
      "\bAfter single dvec to cuda: 453.031424 MB\n",
      "After dvec to cuda: 453.03552 MB\n",
      "After forward to cuda: 4352.560128 MB\n",
      "After input to cuda: 453.03552 MB\n",
      "\bAfter single dvec to cuda: 423.20128 MB\n",
      "\bAfter single dvec to cuda: 432.989696 MB\n",
      "\bAfter single dvec to cuda: 443.320832 MB\n",
      "\bAfter single dvec to cuda: 447.160832 MB\n",
      "After dvec to cuda: 447.164928 MB\n",
      "After forward to cuda: 4347.610624 MB\n"
     ]
    },
    {
     "name": "stderr",
     "output_type": "stream",
     "text": [
      "2021-11-24 17:02:36,407 - INFO - Wrote summary at step 194\n"
     ]
    },
    {
     "name": "stdout",
     "output_type": "stream",
     "text": [
      "After input to cuda: 447.122944 MB\n",
      "\bAfter single dvec to cuda: 423.184384 MB\n",
      "\bAfter single dvec to cuda: 433.488384 MB\n",
      "\bAfter single dvec to cuda: 444.091904 MB\n",
      "\bAfter single dvec to cuda: 453.883904 MB\n",
      "After dvec to cuda: 453.888 MB\n",
      "After forward to cuda: 4354.30144 MB\n",
      "After input to cuda: 454.208512 MB\n",
      "\bAfter single dvec to cuda: 423.50592 MB\n",
      "\bAfter single dvec to cuda: 431.939072 MB\n",
      "\bAfter single dvec to cuda: 441.455616 MB\n",
      "\bAfter single dvec to cuda: 448.531456 MB\n",
      "After dvec to cuda: 448.535552 MB\n",
      "After forward to cuda: 4348.857344 MB\n"
     ]
    },
    {
     "name": "stderr",
     "output_type": "stream",
     "text": [
      "2021-11-24 17:02:37,149 - INFO - Wrote summary at step 195\n"
     ]
    },
    {
     "name": "stdout",
     "output_type": "stream",
     "text": [
      "After input to cuda: 448.21504 MB\n",
      "\bAfter single dvec to cuda: 423.15776 MB\n",
      "\bAfter single dvec to cuda: 432.13056 MB\n",
      "\bAfter single dvec to cuda: 440.422912 MB\n",
      "\bAfter single dvec to cuda: 450.758656 MB\n",
      "After dvec to cuda: 450.762752 MB\n",
      "After forward to cuda: 4350.28736 MB\n",
      "After input to cuda: 450.762752 MB\n",
      "\bAfter single dvec to cuda: 421.311488 MB\n",
      "\bAfter single dvec to cuda: 430.28736 MB\n",
      "\bAfter single dvec to cuda: 438.72 MB\n",
      "\bAfter single dvec to cuda: 447.692288 MB\n",
      "After dvec to cuda: 447.696384 MB\n",
      "After forward to cuda: 4348.125184 MB\n"
     ]
    },
    {
     "name": "stderr",
     "output_type": "stream",
     "text": [
      "2021-11-24 17:02:37,855 - INFO - Wrote summary at step 196\n"
     ]
    },
    {
     "name": "stdout",
     "output_type": "stream",
     "text": [
      "After input to cuda: 448.697856 MB\n",
      "\bAfter single dvec to cuda: 424.160256 MB\n",
      "\bAfter single dvec to cuda: 432.863744 MB\n",
      "\bAfter single dvec to cuda: 443.464704 MB\n",
      "\bAfter single dvec to cuda: 453.796352 MB\n",
      "After dvec to cuda: 453.800448 MB\n",
      "After forward to cuda: 4352.920576 MB\n",
      "After input to cuda: 452.823552 MB\n",
      "\bAfter single dvec to cuda: 423.159808 MB\n",
      "\bAfter single dvec to cuda: 431.591936 MB\n",
      "\bAfter single dvec to cuda: 441.650688 MB\n",
      "\bAfter single dvec to cuda: 451.167232 MB\n",
      "After dvec to cuda: 451.171328 MB\n",
      "After forward to cuda: 4351.264256 MB\n"
     ]
    },
    {
     "name": "stderr",
     "output_type": "stream",
     "text": [
      "2021-11-24 17:02:38,580 - INFO - Wrote summary at step 197\n"
     ]
    },
    {
     "name": "stdout",
     "output_type": "stream",
     "text": [
      "After input to cuda: 451.462144 MB\n",
      "\bAfter single dvec to cuda: 421.625856 MB\n",
      "\bAfter single dvec to cuda: 431.144448 MB\n",
      "\bAfter single dvec to cuda: 440.38912 MB\n",
      "\bAfter single dvec to cuda: 444.203008 MB\n",
      "After dvec to cuda: 444.207104 MB\n",
      "After forward to cuda: 4344.119808 MB\n",
      "After input to cuda: 443.942912 MB\n",
      "\bAfter single dvec to cuda: 423.21152 MB\n",
      "\bAfter single dvec to cuda: 433.273344 MB\n",
      "\bAfter single dvec to cuda: 443.609088 MB\n",
      "\bAfter single dvec to cuda: 453.672448 MB\n",
      "After dvec to cuda: 453.676544 MB\n",
      "After forward to cuda: 4353.718272 MB\n"
     ]
    },
    {
     "name": "stderr",
     "output_type": "stream",
     "text": [
      "2021-11-24 17:02:39,288 - INFO - Wrote summary at step 198\n"
     ]
    },
    {
     "name": "stdout",
     "output_type": "stream",
     "text": [
      "After input to cuda: 453.929472 MB\n",
      "\bAfter single dvec to cuda: 423.413248 MB\n",
      "\bAfter single dvec to cuda: 430.48704 MB\n",
      "\bAfter single dvec to cuda: 437.50656 MB\n",
      "\bAfter single dvec to cuda: 446.482944 MB\n",
      "After dvec to cuda: 446.48704 MB\n",
      "After forward to cuda: 4346.011648 MB\n",
      "After input to cuda: 446.182912 MB\n",
      "\bAfter single dvec to cuda: 421.771776 MB\n",
      "\bAfter single dvec to cuda: 432.028672 MB\n",
      "\bAfter single dvec to cuda: 437.47328 MB\n",
      "\bAfter single dvec to cuda: 447.805952 MB\n",
      "After dvec to cuda: 447.810048 MB\n",
      "After forward to cuda: 4347.829248 MB\n"
     ]
    },
    {
     "name": "stderr",
     "output_type": "stream",
     "text": [
      "2021-11-24 17:02:39,993 - INFO - Wrote summary at step 199\n"
     ]
    },
    {
     "name": "stdout",
     "output_type": "stream",
     "text": [
      "After input to cuda: 447.810048 MB\n",
      "\bAfter single dvec to cuda: 423.753216 MB\n",
      "\bAfter single dvec to cuda: 431.371264 MB\n",
      "\bAfter single dvec to cuda: 442.749952 MB\n",
      "\bAfter single dvec to cuda: 453.080576 MB\n",
      "After dvec to cuda: 453.084672 MB\n",
      "After forward to cuda: 4352.954368 MB\n",
      "After input to cuda: 453.14816 MB\n",
      "\bAfter single dvec to cuda: 420.5568 MB\n",
      "\bAfter single dvec to cuda: 431.162368 MB\n",
      "\bAfter single dvec to cuda: 433.814528 MB\n",
      "\bAfter single dvec to cuda: 443.136512 MB\n",
      "After dvec to cuda: 443.140608 MB\n",
      "After forward to cuda: 4343.831552 MB\n"
     ]
    },
    {
     "name": "stderr",
     "output_type": "stream",
     "text": [
      "2021-11-24 17:02:40,699 - INFO - Wrote summary at step 200\n"
     ]
    },
    {
     "name": "stdout",
     "output_type": "stream",
     "text": [
      "After input to cuda: 443.140608 MB\n",
      "\bAfter single dvec to cuda: 418.653696 MB\n",
      "\bAfter single dvec to cuda: 423.55712 MB\n",
      "\bAfter single dvec to cuda: 433.497088 MB\n",
      "\bAfter single dvec to cuda: 443.749376 MB\n",
      "After dvec to cuda: 443.753472 MB\n",
      "After forward to cuda: 4344.388096 MB\n",
      "After input to cuda: 443.880448 MB\n",
      "\bAfter single dvec to cuda: 415.79264 MB\n",
      "\bAfter single dvec to cuda: 423.407616 MB\n",
      "\bAfter single dvec to cuda: 432.38144 MB\n",
      "\bAfter single dvec to cuda: 439.425536 MB\n",
      "After dvec to cuda: 439.429632 MB\n",
      "After forward to cuda: 4338.95424 MB\n"
     ]
    },
    {
     "name": "stderr",
     "output_type": "stream",
     "text": [
      "2021-11-24 17:02:41,404 - INFO - Wrote summary at step 201\n"
     ]
    },
    {
     "name": "stdout",
     "output_type": "stream",
     "text": [
      "After input to cuda: 439.239168 MB\n",
      "\bAfter single dvec to cuda: 417.971712 MB\n",
      "\bAfter single dvec to cuda: 424.96512 MB\n",
      "\bAfter single dvec to cuda: 431.766016 MB\n",
      "\bAfter single dvec to cuda: 442.369536 MB\n",
      "After dvec to cuda: 442.373632 MB\n",
      "After forward to cuda: 4342.534144 MB\n",
      "After input to cuda: 442.373632 MB\n",
      "\bAfter single dvec to cuda: 416.421376 MB\n",
      "\bAfter single dvec to cuda: 426.702336 MB\n",
      "\bAfter single dvec to cuda: 437.032448 MB\n",
      "\bAfter single dvec to cuda: 445.268992 MB\n",
      "After dvec to cuda: 445.273088 MB\n",
      "After forward to cuda: 4345.475584 MB\n"
     ]
    },
    {
     "name": "stderr",
     "output_type": "stream",
     "text": [
      "2021-11-24 17:02:42,110 - INFO - Wrote summary at step 202\n"
     ]
    },
    {
     "name": "stdout",
     "output_type": "stream",
     "text": [
      "After input to cuda: 445.196288 MB\n",
      "\bAfter single dvec to cuda: 421.505536 MB\n",
      "\bAfter single dvec to cuda: 429.771264 MB\n",
      "\bAfter single dvec to cuda: 438.7456 MB\n",
      "\bAfter single dvec to cuda: 446.905856 MB\n",
      "After dvec to cuda: 446.909952 MB\n",
      "After forward to cuda: 4347.48928 MB\n",
      "After input to cuda: 447.583744 MB\n",
      "\bAfter single dvec to cuda: 423.780352 MB\n",
      "\bAfter single dvec to cuda: 432.376832 MB\n",
      "\bAfter single dvec to cuda: 441.082368 MB\n",
      "\bAfter single dvec to cuda: 450.597888 MB\n",
      "After dvec to cuda: 450.601984 MB\n",
      "After forward to cuda: 4350.126592 MB\n"
     ]
    },
    {
     "name": "stderr",
     "output_type": "stream",
     "text": [
      "2021-11-24 17:02:42,817 - INFO - Wrote summary at step 203\n"
     ]
    },
    {
     "name": "stdout",
     "output_type": "stream",
     "text": [
      "After input to cuda: 450.525184 MB\n",
      "\bAfter single dvec to cuda: 423.629312 MB\n",
      "\bAfter single dvec to cuda: 425.105408 MB\n",
      "\bAfter single dvec to cuda: 433.781248 MB\n",
      "\bAfter single dvec to cuda: 443.025408 MB\n",
      "After dvec to cuda: 443.029504 MB\n",
      "After forward to cuda: 4342.005248 MB\n",
      "After input to cuda: 442.509312 MB\n",
      "\bAfter single dvec to cuda: 417.968128 MB\n",
      "\bAfter single dvec to cuda: 426.672128 MB\n",
      "\bAfter single dvec to cuda: 437.006336 MB\n",
      "\bAfter single dvec to cuda: 444.048896 MB\n",
      "After dvec to cuda: 444.052992 MB\n",
      "After forward to cuda: 4344.328192 MB\n"
     ]
    },
    {
     "name": "stderr",
     "output_type": "stream",
     "text": [
      "2021-11-24 17:02:43,542 - INFO - Wrote summary at step 204\n"
     ]
    },
    {
     "name": "stdout",
     "output_type": "stream",
     "text": [
      "After input to cuda: 444.052992 MB\n",
      "\bAfter single dvec to cuda: 423.157248 MB\n",
      "\bAfter single dvec to cuda: 433.487872 MB\n",
      "\bAfter single dvec to cuda: 445.40672 MB\n",
      "\bAfter single dvec to cuda: 455.1936 MB\n",
      "After dvec to cuda: 455.197696 MB\n",
      "After forward to cuda: 4355.765248 MB\n",
      "After input to cuda: 455.197696 MB\n",
      "\bAfter single dvec to cuda: 421.582336 MB\n",
      "\bAfter single dvec to cuda: 429.828096 MB\n",
      "\bAfter single dvec to cuda: 438.801408 MB\n",
      "\bAfter single dvec to cuda: 447.773696 MB\n",
      "After dvec to cuda: 447.777792 MB\n",
      "After forward to cuda: 4348.404224 MB\n"
     ]
    },
    {
     "name": "stderr",
     "output_type": "stream",
     "text": [
      "2021-11-24 17:02:44,263 - INFO - Wrote summary at step 205\n"
     ]
    },
    {
     "name": "stdout",
     "output_type": "stream",
     "text": [
      "After input to cuda: 448.311296 MB\n",
      "\bAfter single dvec to cuda: 421.028352 MB\n",
      "\bAfter single dvec to cuda: 425.657856 MB\n",
      "\bAfter single dvec to cuda: 436.2624 MB\n",
      "\bAfter single dvec to cuda: 444.226048 MB\n",
      "After dvec to cuda: 444.230144 MB\n",
      "After forward to cuda: 4343.789568 MB\n",
      "After input to cuda: 444.230144 MB\n",
      "\bAfter single dvec to cuda: 416.13568 MB\n",
      "\bAfter single dvec to cuda: 418.590208 MB\n",
      "\bAfter single dvec to cuda: 428.817408 MB\n",
      "\bAfter single dvec to cuda: 438.880256 MB\n",
      "After dvec to cuda: 438.884352 MB\n",
      "After forward to cuda: 4339.733504 MB\n"
     ]
    },
    {
     "name": "stderr",
     "output_type": "stream",
     "text": [
      "2021-11-24 17:02:44,991 - INFO - Wrote summary at step 206\n"
     ]
    },
    {
     "name": "stdout",
     "output_type": "stream",
     "text": [
      "After input to cuda: 438.350848 MB\n",
      "\bAfter single dvec to cuda: 423.106048 MB\n",
      "\bAfter single dvec to cuda: 432.07936 MB\n",
      "\bAfter single dvec to cuda: 441.866752 MB\n",
      "\bAfter single dvec to cuda: 453.01248 MB\n",
      "After dvec to cuda: 453.016576 MB\n",
      "After forward to cuda: 4352.822784 MB\n",
      "After input to cuda: 453.377024 MB\n",
      "\bAfter single dvec to cuda: 423.491584 MB\n",
      "\bAfter single dvec to cuda: 434.093568 MB\n",
      "\bAfter single dvec to cuda: 444.156928 MB\n",
      "\bAfter single dvec to cuda: 450.83392 MB\n",
      "After dvec to cuda: 450.838016 MB\n",
      "After forward to cuda: 4351.422464 MB\n"
     ]
    },
    {
     "name": "stderr",
     "output_type": "stream",
     "text": [
      "2021-11-24 17:02:45,698 - INFO - Wrote summary at step 207\n"
     ]
    },
    {
     "name": "stdout",
     "output_type": "stream",
     "text": [
      "After input to cuda: 451.07968 MB\n",
      "\bAfter single dvec to cuda: 421.90848 MB\n",
      "\bAfter single dvec to cuda: 431.42912 MB\n",
      "\bAfter single dvec to cuda: 439.591936 MB\n",
      "\bAfter single dvec to cuda: 449.380864 MB\n",
      "After dvec to cuda: 449.38496 MB\n",
      "After forward to cuda: 4348.307456 MB\n",
      "After input to cuda: 449.332736 MB\n",
      "\bAfter single dvec to cuda: 420.773376 MB\n",
      "\bAfter single dvec to cuda: 421.873152 MB\n",
      "\bAfter single dvec to cuda: 430.5792 MB\n",
      "\bAfter single dvec to cuda: 439.285248 MB\n",
      "After dvec to cuda: 439.289344 MB\n",
      "After forward to cuda: 4340.083712 MB\n"
     ]
    },
    {
     "name": "stderr",
     "output_type": "stream",
     "text": [
      "2021-11-24 17:02:46,417 - INFO - Wrote summary at step 208\n"
     ]
    },
    {
     "name": "stdout",
     "output_type": "stream",
     "text": [
      "After input to cuda: 439.059968 MB\n",
      "\bAfter single dvec to cuda: 419.996672 MB\n",
      "\bAfter single dvec to cuda: 428.158976 MB\n",
      "\bAfter single dvec to cuda: 435.5072 MB\n",
      "\bAfter single dvec to cuda: 445.02784 MB\n",
      "After dvec to cuda: 445.031936 MB\n",
      "After forward to cuda: 4345.424896 MB\n",
      "After input to cuda: 445.628928 MB\n",
      "\bAfter single dvec to cuda: 422.223872 MB\n",
      "\bAfter single dvec to cuda: 431.744512 MB\n",
      "\bAfter single dvec to cuda: 441.536512 MB\n",
      "\bAfter single dvec to cuda: 449.96864 MB\n",
      "After dvec to cuda: 449.972736 MB\n",
      "After forward to cuda: 4349.176832 MB\n"
     ]
    },
    {
     "name": "stderr",
     "output_type": "stream",
     "text": [
      "2021-11-24 17:02:47,143 - INFO - Wrote summary at step 209\n"
     ]
    },
    {
     "name": "stdout",
     "output_type": "stream",
     "text": [
      "After input to cuda: 449.652224 MB\n",
      "\bAfter single dvec to cuda: 423.809536 MB\n",
      "\bAfter single dvec to cuda: 432.238592 MB\n",
      "\bAfter single dvec to cuda: 438.655488 MB\n",
      "\bAfter single dvec to cuda: 448.990208 MB\n",
      "After dvec to cuda: 448.994304 MB\n",
      "After forward to cuda: 4347.92192 MB\n",
      "After input to cuda: 448.397312 MB\n",
      "\bAfter single dvec to cuda: 420.49536 MB\n",
      "\bAfter single dvec to cuda: 430.559744 MB\n",
      "\bAfter single dvec to cuda: 440.89344 MB\n",
      "\bAfter single dvec to cuda: 449.324032 MB\n",
      "After dvec to cuda: 449.328128 MB\n",
      "After forward to cuda: 4349.134336 MB\n"
     ]
    },
    {
     "name": "stderr",
     "output_type": "stream",
     "text": [
      "2021-11-24 17:02:47,848 - INFO - Wrote summary at step 210\n"
     ]
    },
    {
     "name": "stdout",
     "output_type": "stream",
     "text": [
      "After input to cuda: 449.328128 MB\n",
      "\bAfter single dvec to cuda: 421.577728 MB\n",
      "\bAfter single dvec to cuda: 431.367168 MB\n",
      "\bAfter single dvec to cuda: 440.882176 MB\n",
      "\bAfter single dvec to cuda: 444.719104 MB\n",
      "After dvec to cuda: 444.7232 MB\n",
      "After forward to cuda: 4344.56832 MB\n",
      "After input to cuda: 445.043712 MB\n",
      "\bAfter single dvec to cuda: 417.552384 MB\n",
      "\bAfter single dvec to cuda: 428.157952 MB\n",
      "\bAfter single dvec to cuda: 437.4016 MB\n",
      "\bAfter single dvec to cuda: 446.1056 MB\n",
      "After dvec to cuda: 446.109696 MB\n",
      "After forward to cuda: 4346.291712 MB\n"
     ]
    },
    {
     "name": "stderr",
     "output_type": "stream",
     "text": [
      "2021-11-24 17:02:48,553 - INFO - Wrote summary at step 211\n"
     ]
    },
    {
     "name": "stdout",
     "output_type": "stream",
     "text": [
      "After input to cuda: 445.789184 MB\n",
      "\bAfter single dvec to cuda: 421.530624 MB\n",
      "\bAfter single dvec to cuda: 429.963776 MB\n",
      "\bAfter single dvec to cuda: 440.566784 MB\n",
      "\bAfter single dvec to cuda: 451.711488 MB\n",
      "After dvec to cuda: 451.715584 MB\n",
      "After forward to cuda: 4352.0128 MB\n",
      "After input to cuda: 451.638784 MB\n",
      "\bAfter single dvec to cuda: 421.449728 MB\n",
      "\bAfter single dvec to cuda: 431.7568 MB\n",
      "\bAfter single dvec to cuda: 442.361856 MB\n",
      "\bAfter single dvec to cuda: 449.409536 MB\n",
      "After dvec to cuda: 449.413632 MB\n",
      "After forward to cuda: 4349.982208 MB\n"
     ]
    },
    {
     "name": "stderr",
     "output_type": "stream",
     "text": [
      "2021-11-24 17:02:49,262 - INFO - Wrote summary at step 212\n"
     ]
    },
    {
     "name": "stdout",
     "output_type": "stream",
     "text": [
      "After input to cuda: 449.490432 MB\n",
      "\bAfter single dvec to cuda: 423.131648 MB\n",
      "\bAfter single dvec to cuda: 433.467392 MB\n",
      "\bAfter single dvec to cuda: 436.96896 MB\n",
      "\bAfter single dvec to cuda: 445.131776 MB\n",
      "After dvec to cuda: 445.135872 MB\n",
      "After forward to cuda: 4345.238016 MB\n",
      "After input to cuda: 445.74208 MB\n",
      "\bAfter single dvec to cuda: 422.183936 MB\n",
      "\bAfter single dvec to cuda: 431.702016 MB\n",
      "\bAfter single dvec to cuda: 442.035712 MB\n",
      "\bAfter single dvec to cuda: 450.95936 MB\n",
      "After dvec to cuda: 450.963456 MB\n",
      "After forward to cuda: 4351.056384 MB\n"
     ]
    },
    {
     "name": "stderr",
     "output_type": "stream",
     "text": [
      "2021-11-24 17:02:49,966 - INFO - Wrote summary at step 213\n"
     ]
    },
    {
     "name": "stdout",
     "output_type": "stream",
     "text": [
      "After input to cuda: 450.95424 MB\n",
      "\bAfter single dvec to cuda: 422.450688 MB\n",
      "\bAfter single dvec to cuda: 431.968768 MB\n",
      "\bAfter single dvec to cuda: 440.672256 MB\n",
      "\bAfter single dvec to cuda: 442.857984 MB\n",
      "After dvec to cuda: 442.86208 MB\n",
      "After forward to cuda: 4341.848064 MB\n",
      "After input to cuda: 442.294784 MB\n",
      "\bAfter single dvec to cuda: 417.80992 MB\n",
      "\bAfter single dvec to cuda: 427.326976 MB\n",
      "\bAfter single dvec to cuda: 431.13984 MB\n",
      "\bAfter single dvec to cuda: 441.551872 MB\n",
      "After dvec to cuda: 441.555968 MB\n",
      "After forward to cuda: 4341.999104 MB\n"
     ]
    },
    {
     "name": "stderr",
     "output_type": "stream",
     "text": [
      "2021-11-24 17:02:50,670 - INFO - Wrote summary at step 214\n"
     ]
    },
    {
     "name": "stdout",
     "output_type": "stream",
     "text": [
      "After input to cuda: 441.479168 MB\n",
      "\bAfter single dvec to cuda: 423.059456 MB\n",
      "\bAfter single dvec to cuda: 432.578048 MB\n",
      "\bAfter single dvec to cuda: 442.96448 MB\n",
      "\bAfter single dvec to cuda: 453.295104 MB\n",
      "After dvec to cuda: 453.2992 MB\n",
      "After forward to cuda: 4354.230272 MB\n",
      "After input to cuda: 453.896192 MB\n",
      "\bAfter single dvec to cuda: 423.76192 MB\n",
      "\bAfter single dvec to cuda: 434.367488 MB\n",
      "\bAfter single dvec to cuda: 443.694592 MB\n",
      "\bAfter single dvec to cuda: 452.939776 MB\n",
      "After dvec to cuda: 452.943872 MB\n",
      "After forward to cuda: 4353.09056 MB\n"
     ]
    },
    {
     "name": "stderr",
     "output_type": "stream",
     "text": [
      "2021-11-24 17:02:51,377 - INFO - Wrote summary at step 215\n"
     ]
    },
    {
     "name": "stdout",
     "output_type": "stream",
     "text": [
      "After input to cuda: 452.42368 MB\n",
      "\bAfter single dvec to cuda: 423.187968 MB\n",
      "\bAfter single dvec to cuda: 430.805504 MB\n",
      "\bAfter single dvec to cuda: 441.408512 MB\n",
      "\bAfter single dvec to cuda: 449.56672 MB\n",
      "After dvec to cuda: 449.570816 MB\n",
      "After forward to cuda: 4349.095424 MB\n",
      "After input to cuda: 449.54112 MB\n",
      "\bAfter single dvec to cuda: 421.306368 MB\n",
      "\bAfter single dvec to cuda: 430.281728 MB\n",
      "\bAfter single dvec to cuda: 435.45088 MB\n",
      "\bAfter single dvec to cuda: 440.621568 MB\n",
      "After dvec to cuda: 440.625664 MB\n",
      "After forward to cuda: 4340.36736 MB\n"
     ]
    },
    {
     "name": "stderr",
     "output_type": "stream",
     "text": [
      "2021-11-24 17:02:52,083 - INFO - Wrote summary at step 216\n"
     ]
    },
    {
     "name": "stdout",
     "output_type": "stream",
     "text": [
      "After input to cuda: 440.625664 MB\n",
      "\bAfter single dvec to cuda: 416.692224 MB\n",
      "\bAfter single dvec to cuda: 425.39776 MB\n",
      "\bAfter single dvec to cuda: 428.940288 MB\n",
      "\bAfter single dvec to cuda: 432.18176 MB\n",
      "After dvec to cuda: 432.185856 MB\n",
      "After forward to cuda: 4332.030976 MB\n",
      "After input to cuda: 432.506368 MB\n",
      "\bAfter single dvec to cuda: 424.07424 MB\n",
      "\bAfter single dvec to cuda: 432.231936 MB\n",
      "\bAfter single dvec to cuda: 440.390656 MB\n",
      "\bAfter single dvec to cuda: 450.7264 MB\n",
      "After dvec to cuda: 450.730496 MB\n",
      "After forward to cuda: 4350.62784 MB\n"
     ]
    },
    {
     "name": "stderr",
     "output_type": "stream",
     "text": [
      "2021-11-24 17:02:52,789 - INFO - Wrote summary at step 217\n"
     ]
    },
    {
     "name": "stdout",
     "output_type": "stream",
     "text": [
      "After input to cuda: 450.524672 MB\n",
      "\bAfter single dvec to cuda: 423.29856 MB\n",
      "\bAfter single dvec to cuda: 433.631232 MB\n",
      "\bAfter single dvec to cuda: 443.693568 MB\n",
      "\bAfter single dvec to cuda: 450.764288 MB\n",
      "After dvec to cuda: 450.768384 MB\n",
      "After forward to cuda: 4350.292992 MB\n",
      "After input to cuda: 450.653696 MB\n",
      "\bAfter single dvec to cuda: 421.582848 MB\n",
      "\bAfter single dvec to cuda: 431.37024 MB\n",
      "\bAfter single dvec to cuda: 436.540416 MB\n",
      "\bAfter single dvec to cuda: 444.157952 MB\n",
      "After dvec to cuda: 444.162048 MB\n",
      "After forward to cuda: 4344.500736 MB\n"
     ]
    },
    {
     "name": "stderr",
     "output_type": "stream",
     "text": [
      "2021-11-24 17:02:53,494 - INFO - Wrote summary at step 218\n"
     ]
    },
    {
     "name": "stdout",
     "output_type": "stream",
     "text": [
      "After input to cuda: 444.76416 MB\n",
      "\bAfter single dvec to cuda: 423.215616 MB\n",
      "\bAfter single dvec to cuda: 431.919616 MB\n",
      "\bAfter single dvec to cuda: 439.535616 MB\n",
      "\bAfter single dvec to cuda: 449.815552 MB\n",
      "After dvec to cuda: 449.819648 MB\n",
      "After forward to cuda: 4349.503488 MB\n",
      "After input to cuda: 449.97888 MB\n",
      "\bAfter single dvec to cuda: 423.428608 MB\n",
      "\bAfter single dvec to cuda: 431.587328 MB\n",
      "\bAfter single dvec to cuda: 441.892352 MB\n",
      "\bAfter single dvec to cuda: 452.227072 MB\n",
      "After dvec to cuda: 452.231168 MB\n",
      "After forward to cuda: 4351.567872 MB\n"
     ]
    },
    {
     "name": "stderr",
     "output_type": "stream",
     "text": [
      "2021-11-24 17:02:54,201 - INFO - Wrote summary at step 219\n"
     ]
    },
    {
     "name": "stdout",
     "output_type": "stream",
     "text": [
      "After input to cuda: 451.469824 MB\n",
      "\bAfter single dvec to cuda: 422.616064 MB\n",
      "\bAfter single dvec to cuda: 431.321088 MB\n",
      "\bAfter single dvec to cuda: 441.604096 MB\n",
      "\bAfter single dvec to cuda: 443.51488 MB\n",
      "After dvec to cuda: 443.518976 MB\n",
      "After forward to cuda: 4343.483904 MB\n",
      "After input to cuda: 443.442176 MB\n",
      "\bAfter single dvec to cuda: 423.403008 MB\n",
      "\bAfter single dvec to cuda: 434.277376 MB\n",
      "\bAfter single dvec to cuda: 444.067328 MB\n",
      "\bAfter single dvec to cuda: 447.333888 MB\n",
      "After dvec to cuda: 447.337984 MB\n",
      "After forward to cuda: 4347.183104 MB\n"
     ]
    },
    {
     "name": "stderr",
     "output_type": "stream",
     "text": [
      "2021-11-24 17:02:54,907 - INFO - Wrote summary at step 220\n"
     ]
    },
    {
     "name": "stdout",
     "output_type": "stream",
     "text": [
      "After input to cuda: 447.658496 MB\n",
      "\bAfter single dvec to cuda: 423.727104 MB\n",
      "\bAfter single dvec to cuda: 434.060288 MB\n",
      "\bAfter single dvec to cuda: 443.825152 MB\n",
      "\bAfter single dvec to cuda: 453.342208 MB\n",
      "After dvec to cuda: 453.346304 MB\n",
      "After forward to cuda: 4352.598528 MB\n",
      "After input to cuda: 453.102592 MB\n",
      "\bAfter single dvec to cuda: 424.022528 MB\n",
      "\bAfter single dvec to cuda: 434.331136 MB\n",
      "\bAfter single dvec to cuda: 445.485568 MB\n",
      "\bAfter single dvec to cuda: 449.024512 MB\n",
      "After dvec to cuda: 449.028608 MB\n",
      "After forward to cuda: 4349.089792 MB\n"
     ]
    },
    {
     "name": "stderr",
     "output_type": "stream",
     "text": [
      "2021-11-24 17:02:55,614 - INFO - Wrote summary at step 221\n"
     ]
    },
    {
     "name": "stdout",
     "output_type": "stream",
     "text": [
      "After input to cuda: 449.560064 MB\n",
      "\bAfter single dvec to cuda: 421.568512 MB\n",
      "\bAfter single dvec to cuda: 429.182464 MB\n",
      "\bAfter single dvec to cuda: 439.785472 MB\n",
      "\bAfter single dvec to cuda: 449.033728 MB\n",
      "After dvec to cuda: 449.037824 MB\n",
      "After forward to cuda: 4349.088256 MB\n",
      "After input to cuda: 448.506368 MB\n",
      "\bAfter single dvec to cuda: 423.209472 MB\n",
      "\bAfter single dvec to cuda: 434.083328 MB\n",
      "\bAfter single dvec to cuda: 443.993088 MB\n",
      "\bAfter single dvec to cuda: 453.782016 MB\n",
      "After dvec to cuda: 453.786112 MB\n",
      "After forward to cuda: 4353.87904 MB\n"
     ]
    },
    {
     "name": "stderr",
     "output_type": "stream",
     "text": [
      "2021-11-24 17:02:56,322 - INFO - Wrote summary at step 222\n"
     ]
    },
    {
     "name": "stdout",
     "output_type": "stream",
     "text": [
      "After input to cuda: 453.786112 MB\n",
      "\bAfter single dvec to cuda: 420.496896 MB\n",
      "\bAfter single dvec to cuda: 430.749184 MB\n",
      "\bAfter single dvec to cuda: 440.808448 MB\n",
      "\bAfter single dvec to cuda: 448.694784 MB\n",
      "After dvec to cuda: 448.69888 MB\n",
      "After forward to cuda: 4348.223488 MB\n",
      "After input to cuda: 448.69888 MB\n",
      "\bAfter single dvec to cuda: 421.850112 MB\n",
      "\bAfter single dvec to cuda: 431.094272 MB\n",
      "\bAfter single dvec to cuda: 441.69728 MB\n",
      "\bAfter single dvec to cuda: 450.403328 MB\n",
      "After dvec to cuda: 450.407424 MB\n",
      "After forward to cuda: 4350.9376 MB\n"
     ]
    },
    {
     "name": "stderr",
     "output_type": "stream",
     "text": [
      "2021-11-24 17:02:57,030 - INFO - Wrote summary at step 223\n"
     ]
    },
    {
     "name": "stdout",
     "output_type": "stream",
     "text": [
      "After input to cuda: 450.407424 MB\n",
      "\bAfter single dvec to cuda: 421.5808 MB\n",
      "\bAfter single dvec to cuda: 431.10144 MB\n",
      "\bAfter single dvec to cuda: 439.535616 MB\n",
      "\bAfter single dvec to cuda: 449.32608 MB\n",
      "After dvec to cuda: 449.330176 MB\n",
      "After forward to cuda: 4350.68672 MB\n",
      "After input to cuda: 449.927168 MB\n",
      "\bAfter single dvec to cuda: 424.350208 MB\n",
      "\bAfter single dvec to cuda: 433.463296 MB\n",
      "\bAfter single dvec to cuda: 441.893888 MB\n",
      "\bAfter single dvec to cuda: 452.225536 MB\n",
      "After dvec to cuda: 452.229632 MB\n",
      "After forward to cuda: 4351.157248 MB\n"
     ]
    },
    {
     "name": "stderr",
     "output_type": "stream",
     "text": [
      "2021-11-24 17:02:57,737 - INFO - Wrote summary at step 224\n"
     ]
    },
    {
     "name": "stdout",
     "output_type": "stream",
     "text": [
      "After input to cuda: 451.63264 MB\n",
      "\bAfter single dvec to cuda: 421.036032 MB\n",
      "\bAfter single dvec to cuda: 430.823936 MB\n",
      "\bAfter single dvec to cuda: 439.528448 MB\n",
      "\bAfter single dvec to cuda: 446.326784 MB\n",
      "After dvec to cuda: 446.33088 MB\n",
      "After forward to cuda: 4346.423808 MB\n",
      "After input to cuda: 446.33088 MB\n",
      "\bAfter single dvec to cuda: 423.130112 MB\n",
      "\bAfter single dvec to cuda: 432.10752 MB\n",
      "\bAfter single dvec to cuda: 440.538112 MB\n",
      "\bAfter single dvec to cuda: 450.058752 MB\n",
      "After dvec to cuda: 450.062848 MB\n",
      "After forward to cuda: 4350.194688 MB\n"
     ]
    },
    {
     "name": "stderr",
     "output_type": "stream",
     "text": [
      "2021-11-24 17:02:58,460 - INFO - Wrote summary at step 225\n"
     ]
    },
    {
     "name": "stdout",
     "output_type": "stream",
     "text": [
      "After input to cuda: 449.986048 MB\n",
      "\bAfter single dvec to cuda: 422.321152 MB\n",
      "\bAfter single dvec to cuda: 430.479872 MB\n",
      "\bAfter single dvec to cuda: 437.556224 MB\n",
      "\bAfter single dvec to cuda: 443.98336 MB\n",
      "After dvec to cuda: 443.987456 MB\n",
      "After forward to cuda: 4345.328128 MB\n",
      "After input to cuda: 444.661248 MB\n",
      "\bAfter single dvec to cuda: 420.815872 MB\n",
      "\bAfter single dvec to cuda: 430.878208 MB\n",
      "\bAfter single dvec to cuda: 440.804352 MB\n",
      "\bAfter single dvec to cuda: 451.951104 MB\n",
      "After dvec to cuda: 451.9552 MB\n",
      "After forward to cuda: 4351.348224 MB\n"
     ]
    },
    {
     "name": "stderr",
     "output_type": "stream",
     "text": [
      "2021-11-24 17:02:59,178 - INFO - Wrote summary at step 226\n"
     ]
    },
    {
     "name": "stdout",
     "output_type": "stream",
     "text": [
      "After input to cuda: 451.823616 MB\n",
      "\bAfter single dvec to cuda: 423.647232 MB\n",
      "\bAfter single dvec to cuda: 430.990848 MB\n",
      "\bAfter single dvec to cuda: 439.69536 MB\n",
      "\bAfter single dvec to cuda: 450.570752 MB\n",
      "After dvec to cuda: 450.574848 MB\n",
      "After forward to cuda: 4349.925888 MB\n",
      "After input to cuda: 450.10944 MB\n",
      "\bAfter single dvec to cuda: 415.525376 MB\n",
      "\bAfter single dvec to cuda: 421.239296 MB\n",
      "\bAfter single dvec to cuda: 431.52128 MB\n",
      "\bAfter single dvec to cuda: 440.225792 MB\n",
      "After dvec to cuda: 440.229888 MB\n",
      "After forward to cuda: 4339.754496 MB\n"
     ]
    },
    {
     "name": "stderr",
     "output_type": "stream",
     "text": [
      "2021-11-24 17:02:59,883 - INFO - Wrote summary at step 227\n"
     ]
    },
    {
     "name": "stdout",
     "output_type": "stream",
     "text": [
      "After input to cuda: 440.229888 MB\n",
      "\bAfter single dvec to cuda: 418.323968 MB\n",
      "\bAfter single dvec to cuda: 428.60544 MB\n",
      "\bAfter single dvec to cuda: 437.852672 MB\n",
      "\bAfter single dvec to cuda: 447.369728 MB\n",
      "After dvec to cuda: 447.373824 MB\n",
      "After forward to cuda: 4348.983808 MB\n",
      "After input to cuda: 447.373824 MB\n",
      "\bAfter single dvec to cuda: 423.13216 MB\n",
      "\bAfter single dvec to cuda: 431.561216 MB\n",
      "\bAfter single dvec to cuda: 434.829824 MB\n",
      "\bAfter single dvec to cuda: 443.531776 MB\n",
      "After dvec to cuda: 443.535872 MB\n",
      "After forward to cuda: 4344.838144 MB\n"
     ]
    },
    {
     "name": "stderr",
     "output_type": "stream",
     "text": [
      "2021-11-24 17:03:00,609 - INFO - Wrote summary at step 228\n"
     ]
    },
    {
     "name": "stdout",
     "output_type": "stream",
     "text": [
      "After input to cuda: 444.061184 MB\n",
      "\bAfter single dvec to cuda: 423.733248 MB\n",
      "\bAfter single dvec to cuda: 432.161792 MB\n",
      "\bAfter single dvec to cuda: 441.678848 MB\n",
      "\bAfter single dvec to cuda: 450.381312 MB\n",
      "After dvec to cuda: 450.385408 MB\n",
      "After forward to cuda: 4349.356032 MB\n",
      "After input to cuda: 449.860096 MB\n",
      "\bAfter single dvec to cuda: 423.1296 MB\n",
      "\bAfter single dvec to cuda: 428.576256 MB\n",
      "\bAfter single dvec to cuda: 438.364672 MB\n",
      "\bAfter single dvec to cuda: 448.42752 MB\n",
      "After dvec to cuda: 448.431616 MB\n",
      "After forward to cuda: 4348.701696 MB\n"
     ]
    },
    {
     "name": "stderr",
     "output_type": "stream",
     "text": [
      "2021-11-24 17:03:01,314 - INFO - Wrote summary at step 229\n"
     ]
    },
    {
     "name": "stdout",
     "output_type": "stream",
     "text": [
      "After input to cuda: 448.431616 MB\n",
      "\bAfter single dvec to cuda: 423.183872 MB\n",
      "\bAfter single dvec to cuda: 432.699392 MB\n",
      "\bAfter single dvec to cuda: 439.771648 MB\n",
      "\bAfter single dvec to cuda: 449.833984 MB\n",
      "After dvec to cuda: 449.83808 MB\n",
      "After forward to cuda: 4350.428672 MB\n",
      "After input to cuda: 450.158592 MB\n",
      "\bAfter single dvec to cuda: 419.725824 MB\n",
      "\bAfter single dvec to cuda: 428.160512 MB\n",
      "\bAfter single dvec to cuda: 430.343168 MB\n",
      "\bAfter single dvec to cuda: 440.406016 MB\n",
      "After dvec to cuda: 440.410112 MB\n",
      "After forward to cuda: 4341.130752 MB\n"
     ]
    },
    {
     "name": "stderr",
     "output_type": "stream",
     "text": [
      "2021-11-24 17:03:02,018 - INFO - Wrote summary at step 230\n"
     ]
    },
    {
     "name": "stdout",
     "output_type": "stream",
     "text": [
      "After input to cuda: 440.0896 MB\n",
      "\bAfter single dvec to cuda: 421.1456 MB\n",
      "\bAfter single dvec to cuda: 429.848576 MB\n",
      "\bAfter single dvec to cuda: 439.09632 MB\n",
      "\bAfter single dvec to cuda: 448.071168 MB\n",
      "After dvec to cuda: 448.075264 MB\n",
      "After forward to cuda: 4349.436928 MB\n",
      "After input to cuda: 448.395776 MB\n",
      "\bAfter single dvec to cuda: 414.026752 MB\n",
      "\bAfter single dvec to cuda: 424.901632 MB\n",
      "\bAfter single dvec to cuda: 435.237376 MB\n",
      "\bAfter single dvec to cuda: 444.29824 MB\n",
      "After dvec to cuda: 444.302336 MB\n",
      "After forward to cuda: 4344.775168 MB\n"
     ]
    },
    {
     "name": "stderr",
     "output_type": "stream",
     "text": [
      "2021-11-24 17:03:02,722 - INFO - Wrote summary at step 231\n"
     ]
    },
    {
     "name": "stdout",
     "output_type": "stream",
     "text": [
      "After input to cuda: 444.302336 MB\n",
      "\bAfter single dvec to cuda: 421.494272 MB\n",
      "\bAfter single dvec to cuda: 431.722496 MB\n",
      "\bAfter single dvec to cuda: 439.880704 MB\n",
      "\bAfter single dvec to cuda: 449.127936 MB\n",
      "After dvec to cuda: 449.132032 MB\n",
      "After forward to cuda: 4349.852672 MB\n",
      "After input to cuda: 449.331712 MB\n",
      "\bAfter single dvec to cuda: 415.036928 MB\n",
      "\bAfter single dvec to cuda: 420.48 MB\n",
      "\bAfter single dvec to cuda: 430.811136 MB\n",
      "\bAfter single dvec to cuda: 439.784448 MB\n",
      "After dvec to cuda: 439.788544 MB\n",
      "After forward to cuda: 4339.9936 MB\n"
     ]
    },
    {
     "name": "stderr",
     "output_type": "stream",
     "text": [
      "2021-11-24 17:03:03,430 - INFO - Wrote summary at step 232\n"
     ]
    },
    {
     "name": "stdout",
     "output_type": "stream",
     "text": [
      "After input to cuda: 439.191552 MB\n",
      "\bAfter single dvec to cuda: 421.08928 MB\n",
      "\bAfter single dvec to cuda: 431.3984 MB\n",
      "\bAfter single dvec to cuda: 441.45664 MB\n",
      "\bAfter single dvec to cuda: 447.446528 MB\n",
      "After dvec to cuda: 447.450624 MB\n",
      "After forward to cuda: 4348.658688 MB\n",
      "After input to cuda: 447.527424 MB\n",
      "\bAfter single dvec to cuda: 421.119488 MB\n",
      "\bAfter single dvec to cuda: 429.007872 MB\n",
      "\bAfter single dvec to cuda: 439.34208 MB\n",
      "\bAfter single dvec to cuda: 448.859136 MB\n",
      "After dvec to cuda: 448.863232 MB\n",
      "After forward to cuda: 4349.336064 MB\n"
     ]
    },
    {
     "name": "stderr",
     "output_type": "stream",
     "text": [
      "2021-11-24 17:03:04,136 - INFO - Wrote summary at step 233\n"
     ]
    },
    {
     "name": "stdout",
     "output_type": "stream",
     "text": [
      "After input to cuda: 448.863232 MB\n",
      "\bAfter single dvec to cuda: 423.207936 MB\n",
      "\bAfter single dvec to cuda: 433.812992 MB\n",
      "\bAfter single dvec to cuda: 443.87328 MB\n",
      "\bAfter single dvec to cuda: 447.960576 MB\n",
      "After dvec to cuda: 447.964672 MB\n",
      "After forward to cuda: 4348.0576 MB\n",
      "After input to cuda: 448.484864 MB\n",
      "\bAfter single dvec to cuda: 422.432768 MB\n",
      "\bAfter single dvec to cuda: 432.766976 MB\n",
      "\bAfter single dvec to cuda: 442.77504 MB\n",
      "\bAfter single dvec to cuda: 446.860288 MB\n",
      "After dvec to cuda: 446.864384 MB\n",
      "After forward to cuda: 4345.8688 MB\n"
     ]
    },
    {
     "name": "stderr",
     "output_type": "stream",
     "text": [
      "2021-11-24 17:03:04,839 - INFO - Wrote summary at step 234\n"
     ]
    },
    {
     "name": "stdout",
     "output_type": "stream",
     "text": [
      "After input to cuda: 446.267392 MB\n",
      "\bAfter single dvec to cuda: 421.838848 MB\n",
      "\bAfter single dvec to cuda: 430.0544 MB\n",
      "\bAfter single dvec to cuda: 437.04576 MB\n",
      "\bAfter single dvec to cuda: 447.082496 MB\n",
      "After dvec to cuda: 447.086592 MB\n",
      "After forward to cuda: 4346.659328 MB\n",
      "After input to cuda: 447.163392 MB\n",
      "\bAfter single dvec to cuda: 422.94016 MB\n",
      "\bAfter single dvec to cuda: 433.247232 MB\n",
      "\bAfter single dvec to cuda: 443.850752 MB\n",
      "\bAfter single dvec to cuda: 448.750592 MB\n",
      "After dvec to cuda: 448.754688 MB\n",
      "After forward to cuda: 4349.011968 MB\n"
     ]
    },
    {
     "name": "stderr",
     "output_type": "stream",
     "text": [
      "2021-11-24 17:03:05,545 - INFO - Wrote summary at step 235\n"
     ]
    },
    {
     "name": "stdout",
     "output_type": "stream",
     "text": [
      "After input to cuda: 448.754688 MB\n",
      "\bAfter single dvec to cuda: 422.860288 MB\n",
      "\bAfter single dvec to cuda: 433.164288 MB\n",
      "\bAfter single dvec to cuda: 441.864704 MB\n",
      "\bAfter single dvec to cuda: 451.925504 MB\n",
      "After dvec to cuda: 451.9296 MB\n",
      "After forward to cuda: 4351.77472 MB\n",
      "After input to cuda: 452.250112 MB\n",
      "\bAfter single dvec to cuda: 423.502336 MB\n",
      "\bAfter single dvec to cuda: 425.416704 MB\n",
      "\bAfter single dvec to cuda: 432.492032 MB\n",
      "\bAfter single dvec to cuda: 441.197568 MB\n",
      "After dvec to cuda: 441.201664 MB\n",
      "After forward to cuda: 4341.353984 MB\n"
     ]
    },
    {
     "name": "stderr",
     "output_type": "stream",
     "text": [
      "2021-11-24 17:03:06,252 - INFO - Wrote summary at step 236\n"
     ]
    },
    {
     "name": "stdout",
     "output_type": "stream",
     "text": [
      "After input to cuda: 440.881152 MB\n",
      "\bAfter single dvec to cuda: 421.582848 MB\n",
      "\bAfter single dvec to cuda: 431.374336 MB\n",
      "\bAfter single dvec to cuda: 441.4336 MB\n",
      "\bAfter single dvec to cuda: 451.222016 MB\n",
      "After dvec to cuda: 451.226112 MB\n",
      "After forward to cuda: 4351.277056 MB\n",
      "After input to cuda: 451.752448 MB\n",
      "\bAfter single dvec to cuda: 423.73888 MB\n",
      "\bAfter single dvec to cuda: 426.191872 MB\n",
      "\bAfter single dvec to cuda: 434.354176 MB\n",
      "\bAfter single dvec to cuda: 444.957696 MB\n",
      "After dvec to cuda: 444.961792 MB\n",
      "After forward to cuda: 4344.908288 MB\n"
     ]
    },
    {
     "name": "stderr",
     "output_type": "stream",
     "text": [
      "2021-11-24 17:03:06,959 - INFO - Wrote summary at step 237\n"
     ]
    },
    {
     "name": "stdout",
     "output_type": "stream",
     "text": [
      "After input to cuda: 444.435456 MB\n",
      "\bAfter single dvec to cuda: 416.66304 MB\n",
      "\bAfter single dvec to cuda: 427.264512 MB\n",
      "\bAfter single dvec to cuda: 437.522944 MB\n",
      "\bAfter single dvec to cuda: 439.413248 MB\n",
      "After dvec to cuda: 439.417344 MB\n",
      "After forward to cuda: 4338.941952 MB\n",
      "After input to cuda: 439.417344 MB\n",
      "\bAfter single dvec to cuda: 421.852672 MB\n",
      "\bAfter single dvec to cuda: 432.18688 MB\n",
      "\bAfter single dvec to cuda: 440.077312 MB\n",
      "\bAfter single dvec to cuda: 448.234496 MB\n",
      "After dvec to cuda: 448.238592 MB\n",
      "After forward to cuda: 4349.188608 MB\n"
     ]
    },
    {
     "name": "stderr",
     "output_type": "stream",
     "text": [
      "2021-11-24 17:03:07,683 - INFO - Wrote summary at step 238\n"
     ]
    },
    {
     "name": "stdout",
     "output_type": "stream",
     "text": [
      "After input to cuda: 449.09056 MB\n",
      "\bAfter single dvec to cuda: 424.033792 MB\n",
      "\bAfter single dvec to cuda: 433.005568 MB\n",
      "\bAfter single dvec to cuda: 442.792448 MB\n",
      "\bAfter single dvec to cuda: 451.987456 MB\n",
      "After dvec to cuda: 451.991552 MB\n",
      "After forward to cuda: 4351.51616 MB\n",
      "After input to cuda: 451.991552 MB\n",
      "\bAfter single dvec to cuda: 420.06784 MB\n",
      "\bAfter single dvec to cuda: 430.403072 MB\n",
      "\bAfter single dvec to cuda: 441.005568 MB\n",
      "\bAfter single dvec to cuda: 450.797056 MB\n",
      "After dvec to cuda: 450.801152 MB\n",
      "After forward to cuda: 4350.89408 MB\n"
     ]
    },
    {
     "name": "stderr",
     "output_type": "stream",
     "text": [
      "2021-11-24 17:03:08,392 - INFO - Wrote summary at step 239\n"
     ]
    },
    {
     "name": "stdout",
     "output_type": "stream",
     "text": [
      "After input to cuda: 450.546176 MB\n",
      "\bAfter single dvec to cuda: 424.35072 MB\n",
      "\bAfter single dvec to cuda: 435.224576 MB\n",
      "\bAfter single dvec to cuda: 445.530112 MB\n",
      "\bAfter single dvec to cuda: 454.775808 MB\n",
      "After dvec to cuda: 454.779904 MB\n",
      "After forward to cuda: 4353.736192 MB\n",
      "After input to cuda: 454.182912 MB\n",
      "\bAfter single dvec to cuda: 423.212544 MB\n",
      "\bAfter single dvec to cuda: 427.025408 MB\n",
      "\bAfter single dvec to cuda: 437.085184 MB\n",
      "\bAfter single dvec to cuda: 447.14752 MB\n",
      "After dvec to cuda: 447.151616 MB\n",
      "After forward to cuda: 4347.813376 MB\n"
     ]
    },
    {
     "name": "stderr",
     "output_type": "stream",
     "text": [
      "2021-11-24 17:03:09,098 - INFO - Wrote summary at step 240\n"
     ]
    },
    {
     "name": "stdout",
     "output_type": "stream",
     "text": [
      "After input to cuda: 447.151616 MB\n",
      "\bAfter single dvec to cuda: 423.186944 MB\n",
      "\bAfter single dvec to cuda: 433.250304 MB\n",
      "\bAfter single dvec to cuda: 444.127744 MB\n",
      "\bAfter single dvec to cuda: 453.648384 MB\n",
      "After dvec to cuda: 453.65248 MB\n",
      "After forward to cuda: 4354.0608 MB\n",
      "After input to cuda: 453.967872 MB\n",
      "\bAfter single dvec to cuda: 423.446528 MB\n",
      "\bAfter single dvec to cuda: 433.234944 MB\n",
      "\bAfter single dvec to cuda: 436.345344 MB\n",
      "\bAfter single dvec to cuda: 448.8064 MB\n",
      "After dvec to cuda: 448.810496 MB\n",
      "After forward to cuda: 4348.335104 MB\n"
     ]
    },
    {
     "name": "stderr",
     "output_type": "stream",
     "text": [
      "2021-11-24 17:03:09,804 - INFO - Wrote summary at step 241\n"
     ]
    },
    {
     "name": "stdout",
     "output_type": "stream",
     "text": [
      "After input to cuda: 449.57184 MB\n",
      "\bAfter single dvec to cuda: 415.59552 MB\n",
      "\bAfter single dvec to cuda: 424.57088 MB\n",
      "\bAfter single dvec to cuda: 432.732672 MB\n",
      "\bAfter single dvec to cuda: 442.252288 MB\n",
      "After dvec to cuda: 442.256384 MB\n",
      "After forward to cuda: 4342.428672 MB\n",
      "After input to cuda: 441.940992 MB\n",
      "\bAfter single dvec to cuda: 423.972864 MB\n",
      "\bAfter single dvec to cuda: 427.241472 MB\n",
      "\bAfter single dvec to cuda: 435.947008 MB\n",
      "\bAfter single dvec to cuda: 445.192704 MB\n",
      "After dvec to cuda: 445.1968 MB\n",
      "After forward to cuda: 4345.690624 MB\n"
     ]
    },
    {
     "name": "stderr",
     "output_type": "stream",
     "text": [
      "2021-11-24 17:03:10,523 - INFO - Wrote summary at step 242\n"
     ]
    },
    {
     "name": "stdout",
     "output_type": "stream",
     "text": [
      "After input to cuda: 445.037568 MB\n",
      "\bAfter single dvec to cuda: 423.707648 MB\n",
      "\bAfter single dvec to cuda: 433.224192 MB\n",
      "\bAfter single dvec to cuda: 442.471424 MB\n",
      "\bAfter single dvec to cuda: 451.718656 MB\n",
      "After dvec to cuda: 451.722752 MB\n",
      "After forward to cuda: 4350.977024 MB\n",
      "After input to cuda: 451.481088 MB\n",
      "\bAfter single dvec to cuda: 421.9392 MB\n",
      "\bAfter single dvec to cuda: 432.0 MB\n",
      "\bAfter single dvec to cuda: 442.603008 MB\n",
      "\bAfter single dvec to cuda: 446.887936 MB\n",
      "After dvec to cuda: 446.892032 MB\n",
      "After forward to cuda: 4347.046912 MB\n"
     ]
    },
    {
     "name": "stderr",
     "output_type": "stream",
     "text": [
      "2021-11-24 17:03:11,230 - INFO - Wrote summary at step 243\n"
     ]
    },
    {
     "name": "stdout",
     "output_type": "stream",
     "text": [
      "After input to cuda: 446.531584 MB\n",
      "\bAfter single dvec to cuda: 420.767232 MB\n",
      "\bAfter single dvec to cuda: 429.200384 MB\n",
      "\bAfter single dvec to cuda: 430.029312 MB\n",
      "\bAfter single dvec to cuda: 437.376 MB\n",
      "After dvec to cuda: 437.380096 MB\n",
      "After forward to cuda: 4338.865664 MB\n",
      "After input to cuda: 437.380096 MB\n",
      "\bAfter single dvec to cuda: 418.59328 MB\n",
      "\bAfter single dvec to cuda: 429.47072 MB\n",
      "\bAfter single dvec to cuda: 434.64448 MB\n",
      "\bAfter single dvec to cuda: 444.435968 MB\n",
      "After dvec to cuda: 444.440064 MB\n",
      "After forward to cuda: 4345.262592 MB\n"
     ]
    },
    {
     "name": "stderr",
     "output_type": "stream",
     "text": [
      "2021-11-24 17:03:11,934 - INFO - Wrote summary at step 244\n"
     ]
    },
    {
     "name": "stdout",
     "output_type": "stream",
     "text": [
      "After input to cuda: 444.839424 MB\n",
      "\bAfter single dvec to cuda: 421.707264 MB\n",
      "\bAfter single dvec to cuda: 428.753408 MB\n",
      "\bAfter single dvec to cuda: 436.916224 MB\n",
      "\bAfter single dvec to cuda: 447.248896 MB\n",
      "After dvec to cuda: 447.252992 MB\n",
      "After forward to cuda: 4346.37824 MB\n",
      "After input to cuda: 446.853632 MB\n",
      "\bAfter single dvec to cuda: 423.181312 MB\n",
      "\bAfter single dvec to cuda: 433.459712 MB\n",
      "\bAfter single dvec to cuda: 443.521536 MB\n",
      "\bAfter single dvec to cuda: 452.767744 MB\n",
      "After dvec to cuda: 452.77184 MB\n",
      "After forward to cuda: 4352.89856 MB\n"
     ]
    },
    {
     "name": "stderr",
     "output_type": "stream",
     "text": [
      "2021-11-24 17:03:12,642 - INFO - Wrote summary at step 245\n"
     ]
    },
    {
     "name": "stdout",
     "output_type": "stream",
     "text": [
      "After input to cuda: 453.373952 MB\n",
      "\bAfter single dvec to cuda: 424.080384 MB\n",
      "\bAfter single dvec to cuda: 428.978176 MB\n",
      "\bAfter single dvec to cuda: 439.236096 MB\n",
      "\bAfter single dvec to cuda: 450.907136 MB\n",
      "After dvec to cuda: 450.911232 MB\n",
      "After forward to cuda: 4349.833728 MB\n",
      "After input to cuda: 450.624512 MB\n",
      "\bAfter single dvec to cuda: 421.623296 MB\n",
      "\bAfter single dvec to cuda: 429.781504 MB\n",
      "\bAfter single dvec to cuda: 439.56992 MB\n",
      "\bAfter single dvec to cuda: 449.900544 MB\n",
      "After dvec to cuda: 449.90464 MB\n",
      "After forward to cuda: 4349.429248 MB\n"
     ]
    },
    {
     "name": "stderr",
     "output_type": "stream",
     "text": [
      "2021-11-24 17:03:13,347 - INFO - Wrote summary at step 246\n"
     ]
    },
    {
     "name": "stdout",
     "output_type": "stream",
     "text": [
      "After input to cuda: 449.647616 MB\n",
      "\bAfter single dvec to cuda: 423.214592 MB\n",
      "\bAfter single dvec to cuda: 432.186368 MB\n",
      "\bAfter single dvec to cuda: 441.977856 MB\n",
      "\bAfter single dvec to cuda: 452.039168 MB\n",
      "After dvec to cuda: 452.043264 MB\n",
      "After forward to cuda: 4352.461824 MB\n",
      "After input to cuda: 451.984896 MB\n",
      "\bAfter single dvec to cuda: 415.061504 MB\n",
      "\bAfter single dvec to cuda: 425.394688 MB\n",
      "\bAfter single dvec to cuda: 431.111168 MB\n",
      "\bAfter single dvec to cuda: 434.650112 MB\n",
      "After dvec to cuda: 434.654208 MB\n",
      "After forward to cuda: 4335.12704 MB\n"
     ]
    },
    {
     "name": "stderr",
     "output_type": "stream",
     "text": [
      "2021-11-24 17:03:14,052 - INFO - Wrote summary at step 247\n"
     ]
    },
    {
     "name": "stdout",
     "output_type": "stream",
     "text": [
      "After input to cuda: 434.654208 MB\n",
      "\bAfter single dvec to cuda: 416.963584 MB\n",
      "\bAfter single dvec to cuda: 427.569152 MB\n",
      "\bAfter single dvec to cuda: 437.873152 MB\n",
      "\bAfter single dvec to cuda: 446.847488 MB\n",
      "After dvec to cuda: 446.851584 MB\n",
      "After forward to cuda: 4346.944512 MB\n",
      "After input to cuda: 447.774208 MB\n",
      "\bAfter single dvec to cuda: 424.078336 MB\n",
      "\bAfter single dvec to cuda: 434.40896 MB\n",
      "\bAfter single dvec to cuda: 438.76864 MB\n",
      "\bAfter single dvec to cuda: 450.684928 MB\n",
      "After dvec to cuda: 450.689024 MB\n",
      "After forward to cuda: 4351.578624 MB\n"
     ]
    },
    {
     "name": "stderr",
     "output_type": "stream",
     "text": [
      "2021-11-24 17:03:14,758 - INFO - Wrote summary at step 248\n"
     ]
    },
    {
     "name": "stdout",
     "output_type": "stream",
     "text": [
      "After input to cuda: 450.368512 MB\n",
      "\bAfter single dvec to cuda: 423.811584 MB\n",
      "\bAfter single dvec to cuda: 435.230208 MB\n",
      "\bAfter single dvec to cuda: 442.847232 MB\n",
      "\bAfter single dvec to cuda: 449.377792 MB\n",
      "After dvec to cuda: 449.381888 MB\n",
      "After forward to cuda: 4349.36064 MB\n",
      "After input to cuda: 449.179136 MB\n",
      "\bAfter single dvec to cuda: 423.532544 MB\n",
      "\bAfter single dvec to cuda: 433.86368 MB\n",
      "\bAfter single dvec to cuda: 437.64992 MB\n",
      "\bAfter single dvec to cuda: 447.437312 MB\n",
      "After dvec to cuda: 447.441408 MB\n",
      "After forward to cuda: 4346.566656 MB\n"
     ]
    },
    {
     "name": "stderr",
     "output_type": "stream",
     "text": [
      "2021-11-24 17:03:15,464 - INFO - Wrote summary at step 249\n"
     ]
    },
    {
     "name": "stdout",
     "output_type": "stream",
     "text": [
      "After input to cuda: 447.042048 MB\n",
      "\bAfter single dvec to cuda: 421.58336 MB\n",
      "\bAfter single dvec to cuda: 430.830592 MB\n",
      "\bAfter single dvec to cuda: 435.188224 MB\n",
      "\bAfter single dvec to cuda: 444.980736 MB\n",
      "After dvec to cuda: 444.984832 MB\n",
      "After forward to cuda: 4346.278912 MB\n",
      "After input to cuda: 446.180864 MB\n",
      "\bAfter single dvec to cuda: 418.431488 MB\n",
      "\bAfter single dvec to cuda: 426.321408 MB\n",
      "\bAfter single dvec to cuda: 436.385792 MB\n",
      "\bAfter single dvec to cuda: 445.282816 MB\n",
      "After dvec to cuda: 445.286912 MB\n",
      "After forward to cuda: 4343.730176 MB\n"
     ]
    },
    {
     "name": "stderr",
     "output_type": "stream",
     "text": [
      "2021-11-24 17:03:16,168 - INFO - Wrote summary at step 250\n"
     ]
    },
    {
     "name": "stdout",
     "output_type": "stream",
     "text": [
      "After input to cuda: 444.205568 MB\n",
      "\bAfter single dvec to cuda: 421.421056 MB\n",
      "\bAfter single dvec to cuda: 430.936064 MB\n",
      "\bAfter single dvec to cuda: 435.835904 MB\n",
      "\bAfter single dvec to cuda: 445.082624 MB\n",
      "After dvec to cuda: 445.08672 MB\n",
      "After forward to cuda: 4344.982016 MB\n",
      "After input to cuda: 444.972032 MB\n",
      "\bAfter single dvec to cuda: 423.186432 MB\n",
      "\bAfter single dvec to cuda: 425.914368 MB\n",
      "\bAfter single dvec to cuda: 435.1616 MB\n",
      "\bAfter single dvec to cuda: 442.207232 MB\n",
      "After dvec to cuda: 442.211328 MB\n",
      "After forward to cuda: 4342.422016 MB\n"
     ]
    },
    {
     "name": "stderr",
     "output_type": "stream",
     "text": [
      "2021-11-24 17:03:16,887 - INFO - Wrote summary at step 251\n"
     ]
    },
    {
     "name": "stdout",
     "output_type": "stream",
     "text": [
      "After input to cuda: 442.211328 MB\n",
      "\bAfter single dvec to cuda: 422.046208 MB\n",
      "\bAfter single dvec to cuda: 424.228864 MB\n",
      "\bAfter single dvec to cuda: 432.933376 MB\n",
      "\bAfter single dvec to cuda: 441.906176 MB\n",
      "After dvec to cuda: 441.910272 MB\n",
      "After forward to cuda: 4341.43488 MB\n",
      "After input to cuda: 441.910272 MB\n",
      "\bAfter single dvec to cuda: 419.894784 MB\n",
      "\bAfter single dvec to cuda: 430.12608 MB\n",
      "\bAfter single dvec to cuda: 438.825984 MB\n",
      "\bAfter single dvec to cuda: 449.160704 MB\n",
      "After dvec to cuda: 449.1648 MB\n",
      "After forward to cuda: 4349.099008 MB\n"
     ]
    },
    {
     "name": "stderr",
     "output_type": "stream",
     "text": [
      "2021-11-24 17:03:17,591 - INFO - Wrote summary at step 252\n"
     ]
    },
    {
     "name": "stdout",
     "output_type": "stream",
     "text": [
      "After input to cuda: 449.1648 MB\n",
      "\bAfter single dvec to cuda: 423.133184 MB\n",
      "\bAfter single dvec to cuda: 433.440256 MB\n",
      "\bAfter single dvec to cuda: 442.417664 MB\n",
      "\bAfter single dvec to cuda: 445.635584 MB\n",
      "After dvec to cuda: 445.63968 MB\n",
      "After forward to cuda: 4345.164288 MB\n",
      "After input to cuda: 445.56288 MB\n",
      "\bAfter single dvec to cuda: 421.502976 MB\n",
      "\bAfter single dvec to cuda: 430.479872 MB\n",
      "\bAfter single dvec to cuda: 433.722368 MB\n",
      "\bAfter single dvec to cuda: 440.690176 MB\n",
      "After dvec to cuda: 440.694272 MB\n",
      "After forward to cuda: 4341.215232 MB\n"
     ]
    },
    {
     "name": "stderr",
     "output_type": "stream",
     "text": [
      "2021-11-24 17:03:18,297 - INFO - Wrote summary at step 253\n"
     ]
    },
    {
     "name": "stdout",
     "output_type": "stream",
     "text": [
      "After input to cuda: 440.771072 MB\n",
      "\bAfter single dvec to cuda: 421.5808 MB\n",
      "\bAfter single dvec to cuda: 430.283776 MB\n",
      "\bAfter single dvec to cuda: 438.716416 MB\n",
      "\bAfter single dvec to cuda: 447.9616 MB\n",
      "After dvec to cuda: 447.965696 MB\n",
      "After forward to cuda: 4348.097536 MB\n",
      "After input to cuda: 447.965696 MB\n",
      "\bAfter single dvec to cuda: 421.851136 MB\n",
      "\bAfter single dvec to cuda: 431.094272 MB\n",
      "\bAfter single dvec to cuda: 440.610304 MB\n",
      "\bAfter single dvec to cuda: 444.163584 MB\n",
      "After dvec to cuda: 444.16768 MB\n",
      "After forward to cuda: 4344.576 MB\n"
     ]
    },
    {
     "name": "stderr",
     "output_type": "stream",
     "text": [
      "2021-11-24 17:03:19,002 - INFO - Wrote summary at step 254\n"
     ]
    },
    {
     "name": "stdout",
     "output_type": "stream",
     "text": [
      "After input to cuda: 444.764672 MB\n",
      "\bAfter single dvec to cuda: 423.7824 MB\n",
      "\bAfter single dvec to cuda: 432.214016 MB\n",
      "\bAfter single dvec to cuda: 441.460224 MB\n",
      "\bAfter single dvec to cuda: 450.977792 MB\n",
      "After dvec to cuda: 450.981888 MB\n",
      "After forward to cuda: 4349.909504 MB\n",
      "After input to cuda: 450.384896 MB\n",
      "\bAfter single dvec to cuda: 423.755776 MB\n",
      "\bAfter single dvec to cuda: 430.493696 MB\n",
      "\bAfter single dvec to cuda: 440.720384 MB\n",
      "\bAfter single dvec to cuda: 444.56192 MB\n",
      "After dvec to cuda: 444.566016 MB\n",
      "After forward to cuda: 4345.038848 MB\n"
     ]
    },
    {
     "name": "stderr",
     "output_type": "stream",
     "text": [
      "2021-11-24 17:03:19,723 - INFO - Wrote summary at step 255\n"
     ]
    },
    {
     "name": "stdout",
     "output_type": "stream",
     "text": [
      "After input to cuda: 444.489216 MB\n",
      "\bAfter single dvec to cuda: 423.05792 MB\n",
      "\bAfter single dvec to cuda: 426.898432 MB\n",
      "\bAfter single dvec to cuda: 437.504 MB\n",
      "\bAfter single dvec to cuda: 448.107008 MB\n",
      "After dvec to cuda: 448.111104 MB\n",
      "After forward to cuda: 4348.854784 MB\n",
      "After input to cuda: 448.111104 MB\n",
      "\bAfter single dvec to cuda: 423.028224 MB\n",
      "\bAfter single dvec to cuda: 433.361408 MB\n",
      "\bAfter single dvec to cuda: 443.149824 MB\n",
      "\bAfter single dvec to cuda: 449.40544 MB\n",
      "After dvec to cuda: 449.409536 MB\n",
      "After forward to cuda: 4350.345728 MB\n"
     ]
    },
    {
     "name": "stderr",
     "output_type": "stream",
     "text": [
      "2021-11-24 17:03:20,429 - INFO - Wrote summary at step 256\n"
     ]
    },
    {
     "name": "stdout",
     "output_type": "stream",
     "text": [
      "After input to cuda: 449.486336 MB\n",
      "\bAfter single dvec to cuda: 421.57824 MB\n",
      "\bAfter single dvec to cuda: 425.935872 MB\n",
      "\bAfter single dvec to cuda: 433.821184 MB\n",
      "\bAfter single dvec to cuda: 442.522624 MB\n",
      "After dvec to cuda: 442.52672 MB\n",
      "After forward to cuda: 4343.347712 MB\n",
      "After input to cuda: 442.52672 MB\n",
      "\bAfter single dvec to cuda: 420.76672 MB\n",
      "\bAfter single dvec to cuda: 430.559232 MB\n",
      "\bAfter single dvec to cuda: 438.991872 MB\n",
      "\bAfter single dvec to cuda: 449.32352 MB\n",
      "After dvec to cuda: 449.327616 MB\n",
      "After forward to cuda: 4351.184896 MB\n"
     ]
    },
    {
     "name": "stderr",
     "output_type": "stream",
     "text": [
      "2021-11-24 17:03:21,167 - INFO - Wrote summary at step 257\n"
     ]
    },
    {
     "name": "stdout",
     "output_type": "stream",
     "text": [
      "After input to cuda: 450.663936 MB\n",
      "\bAfter single dvec to cuda: 424.46848 MB\n",
      "\bAfter single dvec to cuda: 434.527744 MB\n",
      "\bAfter single dvec to cuda: 443.230208 MB\n",
      "\bAfter single dvec to cuda: 446.774272 MB\n",
      "After dvec to cuda: 446.778368 MB\n",
      "After forward to cuda: 4346.676224 MB\n",
      "After input to cuda: 446.203392 MB\n",
      "\bAfter single dvec to cuda: 423.969792 MB\n",
      "\bAfter single dvec to cuda: 430.990336 MB\n",
      "\bAfter single dvec to cuda: 440.511488 MB\n",
      "\bAfter single dvec to cuda: 449.758208 MB\n",
      "After dvec to cuda: 449.762304 MB\n",
      "After forward to cuda: 4348.525568 MB\n"
     ]
    },
    {
     "name": "stderr",
     "output_type": "stream",
     "text": [
      "2021-11-24 17:03:21,887 - INFO - Wrote summary at step 258\n"
     ]
    },
    {
     "name": "stdout",
     "output_type": "stream",
     "text": [
      "After input to cuda: 449.00096 MB\n",
      "\bAfter single dvec to cuda: 423.135232 MB\n",
      "\bAfter single dvec to cuda: 433.19808 MB\n",
      "\bAfter single dvec to cuda: 434.674176 MB\n",
      "\bAfter single dvec to cuda: 441.641472 MB\n",
      "After dvec to cuda: 441.645568 MB\n",
      "After forward to cuda: 4342.40512 MB\n",
      "After input to cuda: 441.645568 MB\n",
      "\bAfter single dvec to cuda: 423.479808 MB\n",
      "\bAfter single dvec to cuda: 428.377088 MB\n",
      "\bAfter single dvec to cuda: 436.668416 MB\n",
      "\bAfter single dvec to cuda: 444.287488 MB\n",
      "After dvec to cuda: 444.291584 MB\n",
      "After forward to cuda: 4345.40032 MB\n"
     ]
    },
    {
     "name": "stderr",
     "output_type": "stream",
     "text": [
      "2021-11-24 17:03:22,593 - INFO - Wrote summary at step 259\n"
     ]
    },
    {
     "name": "stdout",
     "output_type": "stream",
     "text": [
      "After input to cuda: 444.291584 MB\n",
      "\bAfter single dvec to cuda: 423.21152 MB\n",
      "\bAfter single dvec to cuda: 430.25664 MB\n",
      "\bAfter single dvec to cuda: 435.15648 MB\n",
      "\bAfter single dvec to cuda: 443.585536 MB\n",
      "After dvec to cuda: 443.589632 MB\n",
      "After forward to cuda: 4344.790016 MB\n",
      "After input to cuda: 443.512832 MB\n",
      "\bAfter single dvec to cuda: 419.87328 MB\n",
      "\bAfter single dvec to cuda: 428.578816 MB\n",
      "\bAfter single dvec to cuda: 438.094336 MB\n",
      "\bAfter single dvec to cuda: 448.699904 MB\n",
      "After dvec to cuda: 448.704 MB\n",
      "After forward to cuda: 4348.336128 MB\n"
     ]
    },
    {
     "name": "stderr",
     "output_type": "stream",
     "text": [
      "2021-11-24 17:03:23,299 - INFO - Wrote summary at step 260\n"
     ]
    },
    {
     "name": "stdout",
     "output_type": "stream",
     "text": [
      "After input to cuda: 448.704 MB\n",
      "\bAfter single dvec to cuda: 420.688896 MB\n",
      "\bAfter single dvec to cuda: 428.578304 MB\n",
      "\bAfter single dvec to cuda: 436.195328 MB\n",
      "\bAfter single dvec to cuda: 446.7968 MB\n",
      "After dvec to cuda: 446.800896 MB\n",
      "After forward to cuda: 4347.966464 MB\n",
      "After input to cuda: 446.800896 MB\n",
      "\bAfter single dvec to cuda: 423.404544 MB\n",
      "\bAfter single dvec to cuda: 433.682944 MB\n",
      "\bAfter single dvec to cuda: 442.115072 MB\n",
      "\bAfter single dvec to cuda: 452.173824 MB\n",
      "After dvec to cuda: 452.17792 MB\n",
      "After forward to cuda: 4354.750976 MB\n"
     ]
    },
    {
     "name": "stderr",
     "output_type": "stream",
     "text": [
      "2021-11-24 17:03:24,006 - INFO - Wrote summary at step 261\n"
     ]
    },
    {
     "name": "stdout",
     "output_type": "stream",
     "text": [
      "After input to cuda: 452.851712 MB\n",
      "\bAfter single dvec to cuda: 423.726592 MB\n",
      "\bAfter single dvec to cuda: 434.3296 MB\n",
      "\bAfter single dvec to cuda: 444.934656 MB\n",
      "\bAfter single dvec to cuda: 451.464704 MB\n",
      "After dvec to cuda: 451.4688 MB\n",
      "After forward to cuda: 4350.993408 MB\n",
      "After input to cuda: 451.392 MB\n",
      "\bAfter single dvec to cuda: 421.82912 MB\n",
      "\bAfter single dvec to cuda: 431.345152 MB\n",
      "\bAfter single dvec to cuda: 441.785344 MB\n",
      "\bAfter single dvec to cuda: 451.572224 MB\n",
      "After dvec to cuda: 451.57632 MB\n",
      "After forward to cuda: 4350.552064 MB\n"
     ]
    },
    {
     "name": "stderr",
     "output_type": "stream",
     "text": [
      "2021-11-24 17:03:24,713 - INFO - Wrote summary at step 262\n"
     ]
    },
    {
     "name": "stdout",
     "output_type": "stream",
     "text": [
      "After input to cuda: 451.056128 MB\n",
      "\bAfter single dvec to cuda: 414.521344 MB\n",
      "\bAfter single dvec to cuda: 425.399808 MB\n",
      "\bAfter single dvec to cuda: 427.854848 MB\n",
      "\bAfter single dvec to cuda: 436.554752 MB\n",
      "After dvec to cuda: 436.558848 MB\n",
      "After forward to cuda: 4336.083456 MB\n",
      "After input to cuda: 436.558848 MB\n",
      "\bAfter single dvec to cuda: 415.878144 MB\n",
      "\bAfter single dvec to cuda: 426.210304 MB\n",
      "\bAfter single dvec to cuda: 434.368 MB\n",
      "\bAfter single dvec to cuda: 442.801152 MB\n",
      "After dvec to cuda: 442.805248 MB\n",
      "After forward to cuda: 4342.739456 MB\n"
     ]
    },
    {
     "name": "stderr",
     "output_type": "stream",
     "text": [
      "2021-11-24 17:03:25,433 - INFO - Wrote summary at step 263\n"
     ]
    },
    {
     "name": "stdout",
     "output_type": "stream",
     "text": [
      "After input to cuda: 442.805248 MB\n",
      "\bAfter single dvec to cuda: 423.186944 MB\n",
      "\bAfter single dvec to cuda: 428.35968 MB\n",
      "\bAfter single dvec to cuda: 437.878784 MB\n",
      "\bAfter single dvec to cuda: 446.311936 MB\n",
      "After dvec to cuda: 446.316032 MB\n",
      "After forward to cuda: 4346.442752 MB\n",
      "After input to cuda: 446.918144 MB\n",
      "\bAfter single dvec to cuda: 423.70816 MB\n",
      "\bAfter single dvec to cuda: 434.041344 MB\n",
      "\bAfter single dvec to cuda: 441.92768 MB\n",
      "\bAfter single dvec to cuda: 445.03296 MB\n",
      "After dvec to cuda: 445.037056 MB\n",
      "After forward to cuda: 4344.782848 MB\n"
     ]
    },
    {
     "name": "stderr",
     "output_type": "stream",
     "text": [
      "2021-11-24 17:03:26,140 - INFO - Wrote summary at step 264\n"
     ]
    },
    {
     "name": "stdout",
     "output_type": "stream",
     "text": [
      "After input to cuda: 445.037056 MB\n",
      "\bAfter single dvec to cuda: 423.814656 MB\n",
      "\bAfter single dvec to cuda: 433.061888 MB\n",
      "\bAfter single dvec to cuda: 443.122176 MB\n",
      "\bAfter single dvec to cuda: 447.209984 MB\n",
      "After dvec to cuda: 447.21408 MB\n",
      "After forward to cuda: 4346.738688 MB\n",
      "After input to cuda: 446.92736 MB\n",
      "\bAfter single dvec to cuda: 414.670336 MB\n",
      "\bAfter single dvec to cuda: 422.28736 MB\n",
      "\bAfter single dvec to cuda: 432.617472 MB\n",
      "\bAfter single dvec to cuda: 441.046528 MB\n",
      "After dvec to cuda: 441.050624 MB\n",
      "After forward to cuda: 4340.907008 MB\n"
     ]
    },
    {
     "name": "stderr",
     "output_type": "stream",
     "text": [
      "2021-11-24 17:03:26,846 - INFO - Wrote summary at step 265\n"
     ]
    },
    {
     "name": "stdout",
     "output_type": "stream",
     "text": [
      "After input to cuda: 441.09568 MB\n",
      "\bAfter single dvec to cuda: 421.39904 MB\n",
      "\bAfter single dvec to cuda: 431.190016 MB\n",
      "\bAfter single dvec to cuda: 440.4352 MB\n",
      "\bAfter single dvec to cuda: 448.054784 MB\n",
      "After dvec to cuda: 448.05888 MB\n",
      "After forward to cuda: 4348.19072 MB\n",
      "After input to cuda: 447.698432 MB\n",
      "\bAfter single dvec to cuda: 416.417792 MB\n",
      "\bAfter single dvec to cuda: 418.331136 MB\n",
      "\bAfter single dvec to cuda: 427.0336 MB\n",
      "\bAfter single dvec to cuda: 429.758464 MB\n",
      "After dvec to cuda: 429.76256 MB\n",
      "After forward to cuda: 4329.860608 MB\n"
     ]
    },
    {
     "name": "stderr",
     "output_type": "stream",
     "text": [
      "2021-11-24 17:03:27,548 - INFO - Wrote summary at step 266\n"
     ]
    },
    {
     "name": "stdout",
     "output_type": "stream",
     "text": [
      "After input to cuda: 429.76256 MB\n",
      "\bAfter single dvec to cuda: 423.133696 MB\n",
      "\bAfter single dvec to cuda: 426.405376 MB\n",
      "\bAfter single dvec to cuda: 434.024448 MB\n",
      "\bAfter single dvec to cuda: 443.539456 MB\n",
      "After dvec to cuda: 443.543552 MB\n",
      "After forward to cuda: 4343.295488 MB\n",
      "After input to cuda: 443.543552 MB\n",
      "\bAfter single dvec to cuda: 421.310464 MB\n",
      "\bAfter single dvec to cuda: 425.124352 MB\n",
      "\bAfter single dvec to cuda: 428.312064 MB\n",
      "\bAfter single dvec to cuda: 429.410816 MB\n",
      "After dvec to cuda: 429.414912 MB\n",
      "After forward to cuda: 4329.260032 MB\n"
     ]
    },
    {
     "name": "stderr",
     "output_type": "stream",
     "text": [
      "2021-11-24 17:03:28,248 - INFO - Wrote summary at step 267\n"
     ]
    },
    {
     "name": "stdout",
     "output_type": "stream",
     "text": [
      "After input to cuda: 429.735424 MB\n",
      "\bAfter single dvec to cuda: 420.814848 MB\n",
      "\bAfter single dvec to cuda: 431.688704 MB\n",
      "\bAfter single dvec to cuda: 440.12288 MB\n",
      "\bAfter single dvec to cuda: 443.933696 MB\n",
      "After dvec to cuda: 443.937792 MB\n",
      "After forward to cuda: 4343.164416 MB\n",
      "After input to cuda: 443.59168 MB\n",
      "\bAfter single dvec to cuda: 416.667136 MB\n",
      "\bAfter single dvec to cuda: 423.741952 MB\n",
      "\bAfter single dvec to cuda: 428.371456 MB\n",
      "\bAfter single dvec to cuda: 434.057728 MB\n",
      "After dvec to cuda: 434.061824 MB\n",
      "After forward to cuda: 4333.955072 MB\n"
     ]
    },
    {
     "name": "stderr",
     "output_type": "stream",
     "text": [
      "2021-11-24 17:03:28,950 - INFO - Wrote summary at step 268\n"
     ]
    },
    {
     "name": "stdout",
     "output_type": "stream",
     "text": [
      "After input to cuda: 434.459136 MB\n",
      "\bAfter single dvec to cuda: 421.680128 MB\n",
      "\bAfter single dvec to cuda: 423.56992 MB\n",
      "\bAfter single dvec to cuda: 428.471296 MB\n",
      "\bAfter single dvec to cuda: 437.991424 MB\n",
      "After dvec to cuda: 437.99552 MB\n",
      "After forward to cuda: 4337.90208 MB\n",
      "After input to cuda: 438.2208 MB\n",
      "\bAfter single dvec to cuda: 421.635584 MB\n",
      "\bAfter single dvec to cuda: 431.428096 MB\n",
      "\bAfter single dvec to cuda: 441.220096 MB\n",
      "\bAfter single dvec to cuda: 451.552768 MB\n",
      "After dvec to cuda: 451.556864 MB\n",
      "After forward to cuda: 4350.82752 MB\n"
     ]
    },
    {
     "name": "stderr",
     "output_type": "stream",
     "text": [
      "2021-11-24 17:03:29,656 - INFO - Wrote summary at step 269\n"
     ]
    },
    {
     "name": "stdout",
     "output_type": "stream",
     "text": [
      "After input to cuda: 451.917824 MB\n",
      "\bAfter single dvec to cuda: 422.810624 MB\n",
      "\bAfter single dvec to cuda: 430.154752 MB\n",
      "\bAfter single dvec to cuda: 439.94368 MB\n",
      "\bAfter single dvec to cuda: 450.817024 MB\n",
      "After dvec to cuda: 450.82112 MB\n",
      "After forward to cuda: 4350.914048 MB\n",
      "After input to cuda: 450.46016 MB\n",
      "\bAfter single dvec to cuda: 417.014272 MB\n",
      "\bAfter single dvec to cuda: 423.73632 MB\n",
      "\bAfter single dvec to cuda: 432.44032 MB\n",
      "\bAfter single dvec to cuda: 439.514624 MB\n",
      "After dvec to cuda: 439.51872 MB\n",
      "After forward to cuda: 4338.620416 MB\n"
     ]
    },
    {
     "name": "stderr",
     "output_type": "stream",
     "text": [
      "2021-11-24 17:03:30,362 - INFO - Wrote summary at step 270\n"
     ]
    },
    {
     "name": "stdout",
     "output_type": "stream",
     "text": [
      "After input to cuda: 438.921728 MB\n",
      "\bAfter single dvec to cuda: 423.156736 MB\n",
      "\bAfter single dvec to cuda: 432.132608 MB\n",
      "\bAfter single dvec to cuda: 441.923584 MB\n",
      "\bAfter single dvec to cuda: 444.109824 MB\n",
      "After dvec to cuda: 444.11392 MB\n",
      "After forward to cuda: 4344.566272 MB\n",
      "After input to cuda: 444.993536 MB\n",
      "\bAfter single dvec to cuda: 422.683136 MB\n",
      "\bAfter single dvec to cuda: 432.99328 MB\n",
      "\bAfter single dvec to cuda: 441.153536 MB\n",
      "\bAfter single dvec to cuda: 451.217408 MB\n",
      "After dvec to cuda: 451.221504 MB\n",
      "After forward to cuda: 4350.693376 MB\n"
     ]
    },
    {
     "name": "stderr",
     "output_type": "stream",
     "text": [
      "2021-11-24 17:03:31,087 - INFO - Wrote summary at step 271\n"
     ]
    },
    {
     "name": "stdout",
     "output_type": "stream",
     "text": [
      "After input to cuda: 450.341888 MB\n",
      "\bAfter single dvec to cuda: 423.20896 MB\n",
      "\bAfter single dvec to cuda: 433.268736 MB\n",
      "\bAfter single dvec to cuda: 442.518016 MB\n",
      "\bAfter single dvec to cuda: 451.491328 MB\n",
      "After dvec to cuda: 451.495424 MB\n",
      "After forward to cuda: 4352.45056 MB\n",
      "After input to cuda: 451.495424 MB\n",
      "\bAfter single dvec to cuda: 421.039616 MB\n",
      "\bAfter single dvec to cuda: 428.924928 MB\n",
      "\bAfter single dvec to cuda: 438.985728 MB\n",
      "\bAfter single dvec to cuda: 449.316352 MB\n",
      "After dvec to cuda: 449.320448 MB\n",
      "After forward to cuda: 4349.120512 MB\n"
     ]
    },
    {
     "name": "stderr",
     "output_type": "stream",
     "text": [
      "2021-11-24 17:03:31,793 - INFO - Wrote summary at step 272\n"
     ]
    },
    {
     "name": "stdout",
     "output_type": "stream",
     "text": [
      "After input to cuda: 449.91744 MB\n",
      "\bAfter single dvec to cuda: 423.780864 MB\n",
      "\bAfter single dvec to cuda: 425.261568 MB\n",
      "\bAfter single dvec to cuda: 433.967104 MB\n",
      "\bAfter single dvec to cuda: 439.13728 MB\n",
      "After dvec to cuda: 439.141376 MB\n",
      "After forward to cuda: 4338.665984 MB\n",
      "After input to cuda: 439.141376 MB\n",
      "\bAfter single dvec to cuda: 415.115776 MB\n",
      "\bAfter single dvec to cuda: 425.447424 MB\n",
      "\bAfter single dvec to cuda: 436.050944 MB\n",
      "\bAfter single dvec to cuda: 445.023232 MB\n",
      "After dvec to cuda: 445.027328 MB\n",
      "After forward to cuda: 4344.961536 MB\n"
     ]
    },
    {
     "name": "stderr",
     "output_type": "stream",
     "text": [
      "2021-11-24 17:03:32,498 - INFO - Wrote summary at step 273\n"
     ]
    },
    {
     "name": "stdout",
     "output_type": "stream",
     "text": [
      "After input to cuda: 444.430336 MB\n",
      "\bAfter single dvec to cuda: 423.207936 MB\n",
      "\bAfter single dvec to cuda: 433.266176 MB\n",
      "\bAfter single dvec to cuda: 442.514432 MB\n",
      "\bAfter single dvec to cuda: 451.759616 MB\n",
      "After dvec to cuda: 451.763712 MB\n",
      "After forward to cuda: 4352.77824 MB\n",
      "After input to cuda: 452.966912 MB\n",
      "\bAfter single dvec to cuda: 422.785536 MB\n",
      "\bAfter single dvec to cuda: 433.120768 MB\n",
      "\bAfter single dvec to cuda: 442.366464 MB\n",
      "\bAfter single dvec to cuda: 446.723584 MB\n",
      "After dvec to cuda: 446.72768 MB\n",
      "After forward to cuda: 4346.172416 MB\n"
     ]
    },
    {
     "name": "stderr",
     "output_type": "stream",
     "text": [
      "2021-11-24 17:03:33,229 - INFO - Wrote summary at step 274\n"
     ]
    },
    {
     "name": "stdout",
     "output_type": "stream",
     "text": [
      "After input to cuda: 445.52448 MB\n",
      "\bAfter single dvec to cuda: 423.133184 MB\n",
      "\bAfter single dvec to cuda: 433.196032 MB\n",
      "\bAfter single dvec to cuda: 442.985472 MB\n",
      "\bAfter single dvec to cuda: 453.59104 MB\n",
      "After dvec to cuda: 453.595136 MB\n",
      "After forward to cuda: 4353.688064 MB\n",
      "After input to cuda: 453.595136 MB\n",
      "\bAfter single dvec to cuda: 420.38528 MB\n",
      "\bAfter single dvec to cuda: 427.426304 MB\n",
      "\bAfter single dvec to cuda: 436.12672 MB\n",
      "\bAfter single dvec to cuda: 445.104128 MB\n",
      "After dvec to cuda: 445.108224 MB\n",
      "After forward to cuda: 4344.632832 MB\n"
     ]
    },
    {
     "name": "stderr",
     "output_type": "stream",
     "text": [
      "2021-11-24 17:03:33,937 - INFO - Wrote summary at step 275\n"
     ]
    },
    {
     "name": "stdout",
     "output_type": "stream",
     "text": [
      "After input to cuda: 445.108224 MB\n",
      "\bAfter single dvec to cuda: 413.977088 MB\n",
      "\bAfter single dvec to cuda: 422.949888 MB\n",
      "\bAfter single dvec to cuda: 431.649792 MB\n",
      "\bAfter single dvec to cuda: 441.165312 MB\n",
      "After dvec to cuda: 441.169408 MB\n",
      "After forward to cuda: 4340.975616 MB\n",
      "After input to cuda: 442.021376 MB\n",
      "\bAfter single dvec to cuda: 422.023168 MB\n",
      "\bAfter single dvec to cuda: 430.99648 MB\n",
      "\bAfter single dvec to cuda: 441.32864 MB\n",
      "\bAfter single dvec to cuda: 449.485312 MB\n",
      "After dvec to cuda: 449.489408 MB\n",
      "After forward to cuda: 4349.300736 MB\n"
     ]
    },
    {
     "name": "stderr",
     "output_type": "stream",
     "text": [
      "2021-11-24 17:03:34,644 - INFO - Wrote summary at step 276\n"
     ]
    },
    {
     "name": "stdout",
     "output_type": "stream",
     "text": [
      "After input to cuda: 449.234432 MB\n",
      "\bAfter single dvec to cuda: 420.547072 MB\n",
      "\bAfter single dvec to cuda: 426.259968 MB\n",
      "\bAfter single dvec to cuda: 435.780096 MB\n",
      "\bAfter single dvec to cuda: 444.481024 MB\n",
      "After dvec to cuda: 444.48512 MB\n",
      "After forward to cuda: 4345.158144 MB\n",
      "After input to cuda: 444.48512 MB\n",
      "\bAfter single dvec to cuda: 423.807488 MB\n",
      "\bAfter single dvec to cuda: 425.721856 MB\n",
      "\bAfter single dvec to cuda: 435.784704 MB\n",
      "\bAfter single dvec to cuda: 437.427712 MB\n",
      "After dvec to cuda: 437.431808 MB\n",
      "After forward to cuda: 4336.956416 MB\n"
     ]
    },
    {
     "name": "stderr",
     "output_type": "stream",
     "text": [
      "2021-11-24 17:03:35,349 - INFO - Wrote summary at step 277\n"
     ]
    },
    {
     "name": "stdout",
     "output_type": "stream",
     "text": [
      "After input to cuda: 436.834816 MB\n",
      "\bAfter single dvec to cuda: 423.208448 MB\n",
      "\bAfter single dvec to cuda: 431.642112 MB\n",
      "\bAfter single dvec to cuda: 441.430016 MB\n",
      "\bAfter single dvec to cuda: 446.058496 MB\n",
      "After dvec to cuda: 446.062592 MB\n",
      "After forward to cuda: 4345.5872 MB\n",
      "After input to cuda: 446.062592 MB\n",
      "\bAfter single dvec to cuda: 418.050048 MB\n",
      "\bAfter single dvec to cuda: 424.037376 MB\n",
      "\bAfter single dvec to cuda: 427.036672 MB\n",
      "\bAfter single dvec to cuda: 436.284928 MB\n",
      "After dvec to cuda: 436.289024 MB\n",
      "After forward to cuda: 4336.630784 MB\n"
     ]
    },
    {
     "name": "stderr",
     "output_type": "stream",
     "text": [
      "2021-11-24 17:03:36,052 - INFO - Wrote summary at step 278\n"
     ]
    },
    {
     "name": "stdout",
     "output_type": "stream",
     "text": [
      "After input to cuda: 437.058048 MB\n",
      "\bAfter single dvec to cuda: 422.350848 MB\n",
      "\bAfter single dvec to cuda: 432.1408 MB\n",
      "\bAfter single dvec to cuda: 442.74176 MB\n",
      "\bAfter single dvec to cuda: 451.442688 MB\n",
      "After dvec to cuda: 451.446784 MB\n",
      "After forward to cuda: 4351.432192 MB\n",
      "After input to cuda: 451.88096 MB\n",
      "\bAfter single dvec to cuda: 424.335872 MB\n",
      "\bAfter single dvec to cuda: 425.974272 MB\n",
      "\bAfter single dvec to cuda: 436.032512 MB\n",
      "\bAfter single dvec to cuda: 444.73344 MB\n",
      "After dvec to cuda: 444.737536 MB\n",
      "After forward to cuda: 4343.665152 MB\n"
     ]
    },
    {
     "name": "stderr",
     "output_type": "stream",
     "text": [
      "2021-11-24 17:03:36,791 - INFO - Wrote summary at step 279\n"
     ]
    },
    {
     "name": "stdout",
     "output_type": "stream",
     "text": [
      "After input to cuda: 444.131328 MB\n",
      "\bAfter single dvec to cuda: 423.700992 MB\n",
      "\bAfter single dvec to cuda: 433.219584 MB\n",
      "\bAfter single dvec to cuda: 441.64864 MB\n",
      "\bAfter single dvec to cuda: 449.536512 MB\n",
      "After dvec to cuda: 449.540608 MB\n",
      "After forward to cuda: 4349.065216 MB\n",
      "After input to cuda: 448.943616 MB\n",
      "\bAfter single dvec to cuda: 423.103488 MB\n",
      "\bAfter single dvec to cuda: 431.805952 MB\n",
      "\bAfter single dvec to cuda: 441.0496 MB\n",
      "\bAfter single dvec to cuda: 450.294272 MB\n",
      "After dvec to cuda: 450.298368 MB\n",
      "After forward to cuda: 4350.430208 MB\n"
     ]
    },
    {
     "name": "stderr",
     "output_type": "stream",
     "text": [
      "2021-11-24 17:03:37,520 - INFO - Wrote summary at step 280\n"
     ]
    },
    {
     "name": "stdout",
     "output_type": "stream",
     "text": [
      "After input to cuda: 450.298368 MB\n",
      "\bAfter single dvec to cuda: 423.209984 MB\n",
      "\bAfter single dvec to cuda: 432.729088 MB\n",
      "\bAfter single dvec to cuda: 437.740032 MB\n",
      "\bAfter single dvec to cuda: 447.530496 MB\n",
      "After dvec to cuda: 447.534592 MB\n",
      "After forward to cuda: 4347.942912 MB\n",
      "After input to cuda: 448.131584 MB\n",
      "\bAfter single dvec to cuda: 424.078336 MB\n",
      "\bAfter single dvec to cuda: 434.40896 MB\n",
      "\bAfter single dvec to cuda: 444.469248 MB\n",
      "\bAfter single dvec to cuda: 453.886976 MB\n",
      "After dvec to cuda: 453.891072 MB\n",
      "After forward to cuda: 4353.1392 MB\n"
     ]
    },
    {
     "name": "stderr",
     "output_type": "stream",
     "text": [
      "2021-11-24 17:03:38,226 - INFO - Wrote summary at step 281\n"
     ]
    },
    {
     "name": "stdout",
     "output_type": "stream",
     "text": [
      "After input to cuda: 454.211584 MB\n",
      "\bAfter single dvec to cuda: 424.077312 MB\n",
      "\bAfter single dvec to cuda: 433.32608 MB\n",
      "\bAfter single dvec to cuda: 442.840576 MB\n",
      "\bAfter single dvec to cuda: 450.999296 MB\n",
      "After dvec to cuda: 451.003392 MB\n",
      "After forward to cuda: 4350.539264 MB\n",
      "After input to cuda: 450.446336 MB\n",
      "\bAfter single dvec to cuda: 423.516672 MB\n",
      "\bAfter single dvec to cuda: 432.220672 MB\n",
      "\bAfter single dvec to cuda: 442.822144 MB\n",
      "\bAfter single dvec to cuda: 453.153792 MB\n",
      "After dvec to cuda: 453.157888 MB\n",
      "After forward to cuda: 4353.289728 MB\n"
     ]
    },
    {
     "name": "stderr",
     "output_type": "stream",
     "text": [
      "2021-11-24 17:03:38,934 - INFO - Wrote summary at step 282\n"
     ]
    },
    {
     "name": "stdout",
     "output_type": "stream",
     "text": [
      "After input to cuda: 452.79744 MB\n",
      "\bAfter single dvec to cuda: 423.106048 MB\n",
      "\bAfter single dvec to cuda: 432.078336 MB\n",
      "\bAfter single dvec to cuda: 442.683392 MB\n",
      "\bAfter single dvec to cuda: 452.744192 MB\n",
      "After dvec to cuda: 452.748288 MB\n",
      "After forward to cuda: 4352.626176 MB\n",
      "After input to cuda: 453.13024 MB\n",
      "\bAfter single dvec to cuda: 423.515648 MB\n",
      "\bAfter single dvec to cuda: 428.9152 MB\n",
      "\bAfter single dvec to cuda: 437.891584 MB\n",
      "\bAfter single dvec to cuda: 448.415744 MB\n",
      "After dvec to cuda: 448.41984 MB\n",
      "After forward to cuda: 4348.517888 MB\n"
     ]
    },
    {
     "name": "stderr",
     "output_type": "stream",
     "text": [
      "2021-11-24 17:03:39,662 - INFO - Wrote summary at step 283\n"
     ]
    },
    {
     "name": "stdout",
     "output_type": "stream",
     "text": [
      "After input to cuda: 448.41984 MB\n",
      "\bAfter single dvec to cuda: 423.566336 MB\n",
      "\bAfter single dvec to cuda: 433.354752 MB\n",
      "\bAfter single dvec to cuda: 437.169152 MB\n",
      "\bAfter single dvec to cuda: 446.85312 MB\n",
      "After dvec to cuda: 446.857216 MB\n",
      "After forward to cuda: 4347.330048 MB\n",
      "After input to cuda: 446.857216 MB\n",
      "\bAfter single dvec to cuda: 423.56736 MB\n",
      "\bAfter single dvec to cuda: 433.081856 MB\n",
      "\bAfter single dvec to cuda: 437.98016 MB\n",
      "\bAfter single dvec to cuda: 448.310784 MB\n",
      "After dvec to cuda: 448.31488 MB\n",
      "After forward to cuda: 4349.530112 MB\n"
     ]
    },
    {
     "name": "stderr",
     "output_type": "stream",
     "text": [
      "2021-11-24 17:03:40,366 - INFO - Wrote summary at step 284\n"
     ]
    },
    {
     "name": "stdout",
     "output_type": "stream",
     "text": [
      "After input to cuda: 449.652224 MB\n",
      "\bAfter single dvec to cuda: 421.615616 MB\n",
      "\bAfter single dvec to cuda: 431.841792 MB\n",
      "\bAfter single dvec to cuda: 440.8192 MB\n",
      "\bAfter single dvec to cuda: 448.70912 MB\n",
      "After dvec to cuda: 448.713216 MB\n",
      "After forward to cuda: 4347.600384 MB\n",
      "After input to cuda: 447.314432 MB\n",
      "\bAfter single dvec to cuda: 423.430144 MB\n",
      "\bAfter single dvec to cuda: 431.860736 MB\n",
      "\bAfter single dvec to cuda: 441.380864 MB\n",
      "\bAfter single dvec to cuda: 446.826496 MB\n",
      "After dvec to cuda: 446.830592 MB\n",
      "After forward to cuda: 4347.286528 MB\n"
     ]
    },
    {
     "name": "stderr",
     "output_type": "stream",
     "text": [
      "2021-11-24 17:03:41,086 - INFO - Wrote summary at step 285\n"
     ]
    },
    {
     "name": "stdout",
     "output_type": "stream",
     "text": [
      "After input to cuda: 446.51008 MB\n",
      "\bAfter single dvec to cuda: 423.207936 MB\n",
      "\bAfter single dvec to cuda: 428.921344 MB\n",
      "\bAfter single dvec to cuda: 439.256576 MB\n",
      "\bAfter single dvec to cuda: 448.69888 MB\n",
      "After dvec to cuda: 448.702976 MB\n",
      "After forward to cuda: 4348.98944 MB\n",
      "After input to cuda: 448.702976 MB\n",
      "\bAfter single dvec to cuda: 414.787072 MB\n",
      "\bAfter single dvec to cuda: 425.041408 MB\n",
      "\bAfter single dvec to cuda: 433.471488 MB\n",
      "\bAfter single dvec to cuda: 443.80416 MB\n",
      "After dvec to cuda: 443.808256 MB\n",
      "After forward to cuda: 4343.66464 MB\n"
     ]
    },
    {
     "name": "stderr",
     "output_type": "stream",
     "text": [
      "2021-11-24 17:03:41,792 - INFO - Wrote summary at step 286\n"
     ]
    },
    {
     "name": "stdout",
     "output_type": "stream",
     "text": [
      "After input to cuda: 444.168704 MB\n",
      "\bAfter single dvec to cuda: 416.779776 MB\n",
      "\bAfter single dvec to cuda: 427.109888 MB\n",
      "\bAfter single dvec to cuda: 433.09568 MB\n",
      "\bAfter single dvec to cuda: 442.342912 MB\n",
      "After dvec to cuda: 442.347008 MB\n",
      "After forward to cuda: 4342.439936 MB\n",
      "After input to cuda: 442.583552 MB\n",
      "\bAfter single dvec to cuda: 422.180352 MB\n",
      "\bAfter single dvec to cuda: 432.781824 MB\n",
      "\bAfter single dvec to cuda: 443.115008 MB\n",
      "\bAfter single dvec to cuda: 453.989376 MB\n",
      "After dvec to cuda: 453.993472 MB\n",
      "After forward to cuda: 4354.495488 MB\n"
     ]
    },
    {
     "name": "stderr",
     "output_type": "stream",
     "text": [
      "2021-11-24 17:03:42,512 - INFO - Wrote summary at step 287\n"
     ]
    },
    {
     "name": "stdout",
     "output_type": "stream",
     "text": [
      "After input to cuda: 453.711872 MB\n",
      "\bAfter single dvec to cuda: 423.499776 MB\n",
      "\bAfter single dvec to cuda: 430.842368 MB\n",
      "\bAfter single dvec to cuda: 435.198976 MB\n",
      "\bAfter single dvec to cuda: 439.010304 MB\n",
      "After dvec to cuda: 439.0144 MB\n",
      "After forward to cuda: 4338.694144 MB\n",
      "After input to cuda: 438.699008 MB\n",
      "\bAfter single dvec to cuda: 421.03808 MB\n",
      "\bAfter single dvec to cuda: 431.100928 MB\n",
      "\bAfter single dvec to cuda: 440.347648 MB\n",
      "\bAfter single dvec to cuda: 448.779264 MB\n",
      "After dvec to cuda: 448.78336 MB\n",
      "After forward to cuda: 4348.9152 MB\n"
     ]
    },
    {
     "name": "stderr",
     "output_type": "stream",
     "text": [
      "2021-11-24 17:03:43,219 - INFO - Wrote summary at step 288\n"
     ]
    },
    {
     "name": "stdout",
     "output_type": "stream",
     "text": [
      "After input to cuda: 448.78336 MB\n",
      "\bAfter single dvec to cuda: 423.484416 MB\n",
      "\bAfter single dvec to cuda: 428.112384 MB\n",
      "\bAfter single dvec to cuda: 437.088768 MB\n",
      "\bAfter single dvec to cuda: 445.79072 MB\n",
      "After dvec to cuda: 445.794816 MB\n",
      "After forward to cuda: 4345.601024 MB\n",
      "After input to cuda: 445.794816 MB\n",
      "\bAfter single dvec to cuda: 419.582464 MB\n",
      "\bAfter single dvec to cuda: 428.555776 MB\n",
      "\bAfter single dvec to cuda: 438.618112 MB\n",
      "\bAfter single dvec to cuda: 448.951296 MB\n",
      "After dvec to cuda: 448.955392 MB\n",
      "After forward to cuda: 4349.04832 MB\n"
     ]
    },
    {
     "name": "stderr",
     "output_type": "stream",
     "text": [
      "2021-11-24 17:03:43,940 - INFO - Wrote summary at step 289\n"
     ]
    },
    {
     "name": "stdout",
     "output_type": "stream",
     "text": [
      "After input to cuda: 449.552384 MB\n",
      "\bAfter single dvec to cuda: 423.757824 MB\n",
      "\bAfter single dvec to cuda: 432.188416 MB\n",
      "\bAfter single dvec to cuda: 440.077824 MB\n",
      "\bAfter single dvec to cuda: 443.077632 MB\n",
      "After dvec to cuda: 443.081728 MB\n",
      "After forward to cuda: 4342.493696 MB\n",
      "After input to cuda: 442.559488 MB\n",
      "\bAfter single dvec to cuda: 421.383168 MB\n",
      "\bAfter single dvec to cuda: 431.444992 MB\n",
      "\bAfter single dvec to cuda: 439.873536 MB\n",
      "\bAfter single dvec to cuda: 449.9328 MB\n",
      "After dvec to cuda: 449.936896 MB\n",
      "After forward to cuda: 4349.461504 MB\n"
     ]
    },
    {
     "name": "stderr",
     "output_type": "stream",
     "text": [
      "2021-11-24 17:03:44,645 - INFO - Wrote summary at step 290\n"
     ]
    },
    {
     "name": "stdout",
     "output_type": "stream",
     "text": [
      "After input to cuda: 449.862144 MB\n",
      "\bAfter single dvec to cuda: 421.034496 MB\n",
      "\bAfter single dvec to cuda: 432.050176 MB\n",
      "\bAfter single dvec to cuda: 442.651648 MB\n",
      "\bAfter single dvec to cuda: 448.369664 MB\n",
      "After dvec to cuda: 448.37376 MB\n",
      "After forward to cuda: 4347.898368 MB\n",
      "After input to cuda: 448.37376 MB\n",
      "\bAfter single dvec to cuda: 423.106048 MB\n",
      "\bAfter single dvec to cuda: 432.077312 MB\n",
      "\bAfter single dvec to cuda: 437.519872 MB\n",
      "\bAfter single dvec to cuda: 447.310336 MB\n",
      "After dvec to cuda: 447.314432 MB\n",
      "After forward to cuda: 4347.41248 MB\n"
     ]
    },
    {
     "name": "stderr",
     "output_type": "stream",
     "text": [
      "2021-11-24 17:03:45,374 - INFO - Wrote summary at step 291\n"
     ]
    },
    {
     "name": "stdout",
     "output_type": "stream",
     "text": [
      "After input to cuda: 447.911424 MB\n",
      "\bAfter single dvec to cuda: 423.701504 MB\n",
      "\bAfter single dvec to cuda: 434.037248 MB\n",
      "\bAfter single dvec to cuda: 441.107456 MB\n",
      "\bAfter single dvec to cuda: 450.897408 MB\n",
      "After dvec to cuda: 450.901504 MB\n",
      "After forward to cuda: 4350.705152 MB\n",
      "After input to cuda: 450.304512 MB\n",
      "\bAfter single dvec to cuda: 421.305856 MB\n",
      "\bAfter single dvec to cuda: 431.093248 MB\n",
      "\bAfter single dvec to cuda: 440.8832 MB\n",
      "\bAfter single dvec to cuda: 444.698624 MB\n",
      "After dvec to cuda: 444.70272 MB\n",
      "After forward to cuda: 4344.227328 MB\n"
     ]
    },
    {
     "name": "stderr",
     "output_type": "stream",
     "text": [
      "2021-11-24 17:03:46,080 - INFO - Wrote summary at step 292\n"
     ]
    },
    {
     "name": "stdout",
     "output_type": "stream",
     "text": [
      "After input to cuda: 444.70272 MB\n",
      "\bAfter single dvec to cuda: 421.58336 MB\n",
      "\bAfter single dvec to cuda: 430.830592 MB\n",
      "\bAfter single dvec to cuda: 434.916352 MB\n",
      "\bAfter single dvec to cuda: 444.432384 MB\n",
      "After dvec to cuda: 444.43648 MB\n",
      "After forward to cuda: 4344.973824 MB\n",
      "After input to cuda: 444.43648 MB\n",
      "\bAfter single dvec to cuda: 422.318592 MB\n",
      "\bAfter single dvec to cuda: 432.649728 MB\n",
      "\bAfter single dvec to cuda: 442.7136 MB\n",
      "\bAfter single dvec to cuda: 444.35712 MB\n",
      "After dvec to cuda: 444.361216 MB\n",
      "After forward to cuda: 4343.927808 MB\n"
     ]
    },
    {
     "name": "stderr",
     "output_type": "stream",
     "text": [
      "2021-11-24 17:03:46,805 - INFO - Wrote summary at step 293\n"
     ]
    },
    {
     "name": "stdout",
     "output_type": "stream",
     "text": [
      "After input to cuda: 444.4032 MB\n",
      "\bAfter single dvec to cuda: 419.91168 MB\n",
      "\bAfter single dvec to cuda: 429.809664 MB\n",
      "\bAfter single dvec to cuda: 435.523072 MB\n",
      "\bAfter single dvec to cuda: 445.803008 MB\n",
      "After dvec to cuda: 445.807104 MB\n",
      "After forward to cuda: 4346.298368 MB\n",
      "After input to cuda: 446.802432 MB\n",
      "\bAfter single dvec to cuda: 423.788032 MB\n",
      "\bAfter single dvec to cuda: 432.489984 MB\n",
      "\bAfter single dvec to cuda: 441.739264 MB\n",
      "\bAfter single dvec to cuda: 451.799552 MB\n",
      "After dvec to cuda: 451.803648 MB\n",
      "After forward to cuda: 4351.935488 MB\n"
     ]
    },
    {
     "name": "stderr",
     "output_type": "stream",
     "text": [
      "2021-11-24 17:03:47,513 - INFO - Wrote summary at step 294\n"
     ]
    },
    {
     "name": "stdout",
     "output_type": "stream",
     "text": [
      "After input to cuda: 450.766336 MB\n",
      "\bAfter single dvec to cuda: 421.306368 MB\n",
      "\bAfter single dvec to cuda: 428.921344 MB\n",
      "\bAfter single dvec to cuda: 433.549312 MB\n",
      "\bAfter single dvec to cuda: 438.993408 MB\n",
      "After dvec to cuda: 438.997504 MB\n",
      "After forward to cuda: 4339.090432 MB\n",
      "After input to cuda: 438.997504 MB\n",
      "\bAfter single dvec to cuda: 419.949568 MB\n",
      "\bAfter single dvec to cuda: 428.379136 MB\n",
      "\bAfter single dvec to cuda: 438.165504 MB\n",
      "\bAfter single dvec to cuda: 447.137792 MB\n",
      "After dvec to cuda: 447.141888 MB\n",
      "After forward to cuda: 4347.961856 MB\n"
     ]
    },
    {
     "name": "stderr",
     "output_type": "stream",
     "text": [
      "2021-11-24 17:03:48,217 - INFO - Wrote summary at step 295\n"
     ]
    },
    {
     "name": "stdout",
     "output_type": "stream",
     "text": [
      "After input to cuda: 447.716352 MB\n",
      "\bAfter single dvec to cuda: 423.238144 MB\n",
      "\bAfter single dvec to cuda: 426.7776 MB\n",
      "\bAfter single dvec to cuda: 436.5696 MB\n",
      "\bAfter single dvec to cuda: 442.015744 MB\n",
      "After dvec to cuda: 442.01984 MB\n",
      "After forward to cuda: 4341.236224 MB\n",
      "After input to cuda: 441.686016 MB\n",
      "\bAfter single dvec to cuda: 422.831616 MB\n",
      "\bAfter single dvec to cuda: 430.44608 MB\n",
      "\bAfter single dvec to cuda: 437.438464 MB\n",
      "\bAfter single dvec to cuda: 446.682112 MB\n",
      "After dvec to cuda: 446.686208 MB\n",
      "After forward to cuda: 4345.970176 MB\n"
     ]
    },
    {
     "name": "stderr",
     "output_type": "stream",
     "text": [
      "2021-11-24 17:03:48,921 - INFO - Wrote summary at step 296\n"
     ]
    },
    {
     "name": "stdout",
     "output_type": "stream",
     "text": [
      "After input to cuda: 447.486976 MB\n",
      "\bAfter single dvec to cuda: 415.560704 MB\n",
      "\bAfter single dvec to cuda: 417.202176 MB\n",
      "\bAfter single dvec to cuda: 424.004608 MB\n",
      "\bAfter single dvec to cuda: 431.620608 MB\n",
      "After dvec to cuda: 431.624704 MB\n",
      "After forward to cuda: 4332.880384 MB\n",
      "After input to cuda: 430.883328 MB\n",
      "\bAfter single dvec to cuda: 422.14912 MB\n",
      "\bAfter single dvec to cuda: 432.484864 MB\n",
      "\bAfter single dvec to cuda: 442.546688 MB\n",
      "\bAfter single dvec to cuda: 452.877312 MB\n",
      "After dvec to cuda: 452.881408 MB\n",
      "After forward to cuda: 4353.739264 MB\n"
     ]
    },
    {
     "name": "stderr",
     "output_type": "stream",
     "text": [
      "2021-11-24 17:03:49,627 - INFO - Wrote summary at step 297\n"
     ]
    },
    {
     "name": "stdout",
     "output_type": "stream",
     "text": [
      "After input to cuda: 452.901888 MB\n",
      "\bAfter single dvec to cuda: 421.89824 MB\n",
      "\bAfter single dvec to cuda: 423.539712 MB\n",
      "\bAfter single dvec to cuda: 433.602048 MB\n",
      "\bAfter single dvec to cuda: 437.686784 MB\n",
      "After dvec to cuda: 437.69088 MB\n",
      "After forward to cuda: 4337.226752 MB\n",
      "After input to cuda: 437.370368 MB\n",
      "\bAfter single dvec to cuda: 422.397952 MB\n",
      "\bAfter single dvec to cuda: 432.45824 MB\n",
      "\bAfter single dvec to cuda: 443.059712 MB\n",
      "\bAfter single dvec to cuda: 451.354112 MB\n",
      "After dvec to cuda: 451.358208 MB\n",
      "After forward to cuda: 4352.115712 MB\n"
     ]
    },
    {
     "name": "stderr",
     "output_type": "stream",
     "text": [
      "2021-11-24 17:03:50,332 - INFO - Wrote summary at step 298\n"
     ]
    },
    {
     "name": "stdout",
     "output_type": "stream",
     "text": [
      "After input to cuda: 451.358208 MB\n",
      "\bAfter single dvec to cuda: 423.209984 MB\n",
      "\bAfter single dvec to cuda: 426.156032 MB\n",
      "\bAfter single dvec to cuda: 434.860544 MB\n",
      "\bAfter single dvec to cuda: 444.376064 MB\n",
      "After dvec to cuda: 444.38016 MB\n",
      "After forward to cuda: 4343.904768 MB\n",
      "After input to cuda: 444.38016 MB\n",
      "\bAfter single dvec to cuda: 419.86816 MB\n",
      "\bAfter single dvec to cuda: 430.198784 MB\n",
      "\bAfter single dvec to cuda: 439.442944 MB\n",
      "\bAfter single dvec to cuda: 450.047488 MB\n",
      "After dvec to cuda: 450.051584 MB\n",
      "After forward to cuda: 4349.896704 MB\n"
     ]
    },
    {
     "name": "stderr",
     "output_type": "stream",
     "text": [
      "2021-11-24 17:03:51,040 - INFO - Wrote summary at step 299\n"
     ]
    },
    {
     "name": "stdout",
     "output_type": "stream",
     "text": [
      "After input to cuda: 450.372096 MB\n",
      "\bAfter single dvec to cuda: 423.425536 MB\n",
      "\bAfter single dvec to cuda: 433.980928 MB\n",
      "\bAfter single dvec to cuda: 436.982784 MB\n",
      "\bAfter single dvec to cuda: 441.069568 MB\n",
      "After dvec to cuda: 441.073664 MB\n",
      "After forward to cuda: 4341.641216 MB\n",
      "After input to cuda: 440.753152 MB\n",
      "\bAfter single dvec to cuda: 421.5808 MB\n",
      "\bAfter single dvec to cuda: 429.817856 MB\n",
      "\bAfter single dvec to cuda: 440.345088 MB\n",
      "\bAfter single dvec to cuda: 449.046016 MB\n",
      "After dvec to cuda: 449.050112 MB\n",
      "After forward to cuda: 4348.57472 MB\n"
     ]
    },
    {
     "name": "stderr",
     "output_type": "stream",
     "text": [
      "2021-11-24 17:03:51,744 - INFO - Wrote summary at step 300\n"
     ]
    },
    {
     "name": "stdout",
     "output_type": "stream",
     "text": [
      "After input to cuda: 449.050112 MB\n",
      "\bAfter single dvec to cuda: 421.308928 MB\n",
      "\bAfter single dvec to cuda: 431.911424 MB\n",
      "\bAfter single dvec to cuda: 435.04384 MB\n",
      "\bAfter single dvec to cuda: 444.563968 MB\n",
      "After dvec to cuda: 444.568064 MB\n",
      "After forward to cuda: 4344.660992 MB\n",
      "After input to cuda: 445.088256 MB\n",
      "\bAfter single dvec to cuda: 421.865984 MB\n",
      "\bAfter single dvec to cuda: 432.200192 MB\n",
      "\bAfter single dvec to cuda: 442.750976 MB\n",
      "\bAfter single dvec to cuda: 445.995008 MB\n",
      "After dvec to cuda: 445.999104 MB\n",
      "After forward to cuda: 4344.955392 MB\n"
     ]
    },
    {
     "name": "stderr",
     "output_type": "stream",
     "text": [
      "2021-11-24 17:03:52,449 - INFO - Wrote summary at step 301\n"
     ]
    },
    {
     "name": "stdout",
     "output_type": "stream",
     "text": [
      "After input to cuda: 445.717504 MB\n",
      "\bAfter single dvec to cuda: 421.609984 MB\n",
      "\bAfter single dvec to cuda: 430.043136 MB\n",
      "\bAfter single dvec to cuda: 440.59648 MB\n",
      "\bAfter single dvec to cuda: 451.2 MB\n",
      "After dvec to cuda: 451.204096 MB\n",
      "After forward to cuda: 4350.776832 MB\n",
      "After input to cuda: 450.965504 MB\n",
      "\bAfter single dvec to cuda: 421.578752 MB\n",
      "\bAfter single dvec to cuda: 432.078848 MB\n",
      "\bAfter single dvec to cuda: 442.413056 MB\n",
      "\bAfter single dvec to cuda: 451.931648 MB\n",
      "After dvec to cuda: 451.935744 MB\n",
      "After forward to cuda: 4351.67232 MB\n"
     ]
    },
    {
     "name": "stderr",
     "output_type": "stream",
     "text": [
      "2021-11-24 17:03:53,157 - INFO - Wrote summary at step 302\n"
     ]
    },
    {
     "name": "stdout",
     "output_type": "stream",
     "text": [
      "After input to cuda: 451.935744 MB\n",
      "\bAfter single dvec to cuda: 423.207936 MB\n",
      "\bAfter single dvec to cuda: 430.27968 MB\n",
      "\bAfter single dvec to cuda: 439.528448 MB\n",
      "\bAfter single dvec to cuda: 443.079168 MB\n",
      "After dvec to cuda: 443.083264 MB\n",
      "After forward to cuda: 4342.607872 MB\n",
      "After input to cuda: 443.083264 MB\n",
      "\bAfter single dvec to cuda: 423.109632 MB\n",
      "\bAfter single dvec to cuda: 433.170944 MB\n",
      "\bAfter single dvec to cuda: 440.788992 MB\n",
      "\bAfter single dvec to cuda: 451.1232 MB\n",
      "After dvec to cuda: 451.127296 MB\n",
      "After forward to cuda: 4351.658496 MB\n"
     ]
    },
    {
     "name": "stderr",
     "output_type": "stream",
     "text": [
      "2021-11-24 17:03:53,864 - INFO - Wrote summary at step 303\n"
     ]
    },
    {
     "name": "stdout",
     "output_type": "stream",
     "text": [
      "After input to cuda: 451.724288 MB\n",
      "\bAfter single dvec to cuda: 422.174208 MB\n",
      "\bAfter single dvec to cuda: 432.77568 MB\n",
      "\bAfter single dvec to cuda: 440.937472 MB\n",
      "\bAfter single dvec to cuda: 448.55552 MB\n",
      "After dvec to cuda: 448.559616 MB\n",
      "After forward to cuda: 4347.62752 MB\n",
      "After input to cuda: 448.131584 MB\n",
      "\bAfter single dvec to cuda: 423.352832 MB\n",
      "\bAfter single dvec to cuda: 433.414656 MB\n",
      "\bAfter single dvec to cuda: 441.30304 MB\n",
      "\bAfter single dvec to cuda: 450.279936 MB\n",
      "After dvec to cuda: 450.284032 MB\n",
      "After forward to cuda: 4349.988864 MB\n"
     ]
    },
    {
     "name": "stderr",
     "output_type": "stream",
     "text": [
      "2021-11-24 17:03:54,569 - INFO - Wrote summary at step 304\n"
     ]
    },
    {
     "name": "stdout",
     "output_type": "stream",
     "text": [
      "After input to cuda: 451.032576 MB\n",
      "\bAfter single dvec to cuda: 417.610752 MB\n",
      "\bAfter single dvec to cuda: 426.856448 MB\n",
      "\bAfter single dvec to cuda: 435.28704 MB\n",
      "\bAfter single dvec to cuda: 445.074944 MB\n",
      "After dvec to cuda: 445.07904 MB\n",
      "After forward to cuda: 4344.283136 MB\n",
      "After input to cuda: 444.758528 MB\n",
      "\bAfter single dvec to cuda: 423.673344 MB\n",
      "\bAfter single dvec to cuda: 433.465344 MB\n",
      "\bAfter single dvec to cuda: 435.379712 MB\n",
      "\bAfter single dvec to cuda: 444.080128 MB\n",
      "After dvec to cuda: 444.084224 MB\n",
      "After forward to cuda: 4344.771584 MB\n"
     ]
    },
    {
     "name": "stderr",
     "output_type": "stream",
     "text": [
      "2021-11-24 17:03:55,274 - INFO - Wrote summary at step 305\n"
     ]
    },
    {
     "name": "stdout",
     "output_type": "stream",
     "text": [
      "After input to cuda: 443.807744 MB\n",
      "\bAfter single dvec to cuda: 423.395328 MB\n",
      "\bAfter single dvec to cuda: 433.081856 MB\n",
      "\bAfter single dvec to cuda: 440.97024 MB\n",
      "\bAfter single dvec to cuda: 449.40288 MB\n",
      "After dvec to cuda: 449.406976 MB\n",
      "After forward to cuda: 4348.931584 MB\n",
      "After input to cuda: 449.406976 MB\n",
      "\bAfter single dvec to cuda: 416.200192 MB\n",
      "\bAfter single dvec to cuda: 425.885184 MB\n",
      "\bAfter single dvec to cuda: 437.463552 MB\n",
      "\bAfter single dvec to cuda: 445.082624 MB\n",
      "After dvec to cuda: 445.08672 MB\n",
      "After forward to cuda: 4345.050624 MB\n"
     ]
    },
    {
     "name": "stderr",
     "output_type": "stream",
     "text": [
      "2021-11-24 17:03:55,981 - INFO - Wrote summary at step 306\n"
     ]
    },
    {
     "name": "stdout",
     "output_type": "stream",
     "text": [
      "After input to cuda: 444.766208 MB\n",
      "\bAfter single dvec to cuda: 420.76416 MB\n",
      "\bAfter single dvec to cuda: 430.884352 MB\n",
      "\bAfter single dvec to cuda: 432.77056 MB\n",
      "\bAfter single dvec to cuda: 436.31616 MB\n",
      "After dvec to cuda: 436.320256 MB\n",
      "After forward to cuda: 4336.495616 MB\n",
      "After input to cuda: 436.889088 MB\n",
      "\bAfter single dvec to cuda: 423.234048 MB\n",
      "\bAfter single dvec to cuda: 427.320832 MB\n",
      "\bAfter single dvec to cuda: 436.022272 MB\n",
      "\bAfter single dvec to cuda: 445.813248 MB\n",
      "After dvec to cuda: 445.817344 MB\n",
      "After forward to cuda: 4344.78848 MB\n"
     ]
    },
    {
     "name": "stderr",
     "output_type": "stream",
     "text": [
      "2021-11-24 17:03:56,686 - INFO - Wrote summary at step 307\n"
     ]
    },
    {
     "name": "stdout",
     "output_type": "stream",
     "text": [
      "After input to cuda: 445.248512 MB\n",
      "\bAfter single dvec to cuda: 423.181312 MB\n",
      "\bAfter single dvec to cuda: 433.240064 MB\n",
      "\bAfter single dvec to cuda: 443.304448 MB\n",
      "\bAfter single dvec to cuda: 451.19488 MB\n",
      "After dvec to cuda: 451.198976 MB\n",
      "After forward to cuda: 4352.016896 MB\n",
      "After input to cuda: 451.198976 MB\n",
      "\bAfter single dvec to cuda: 423.209472 MB\n",
      "\bAfter single dvec to cuda: 433.811968 MB\n",
      "\bAfter single dvec to cuda: 443.874304 MB\n",
      "\bAfter single dvec to cuda: 449.04704 MB\n",
      "After dvec to cuda: 449.051136 MB\n",
      "After forward to cuda: 4349.84192 MB\n"
     ]
    },
    {
     "name": "stderr",
     "output_type": "stream",
     "text": [
      "2021-11-24 17:03:57,414 - INFO - Wrote summary at step 308\n"
     ]
    },
    {
     "name": "stdout",
     "output_type": "stream",
     "text": [
      "After input to cuda: 449.051136 MB\n",
      "\bAfter single dvec to cuda: 423.158272 MB\n",
      "\bAfter single dvec to cuda: 428.604928 MB\n",
      "\bAfter single dvec to cuda: 435.949568 MB\n",
      "\bAfter single dvec to cuda: 441.667584 MB\n",
      "After dvec to cuda: 441.67168 MB\n",
      "After forward to cuda: 4341.477888 MB\n",
      "After input to cuda: 441.67168 MB\n",
      "\bAfter single dvec to cuda: 423.480832 MB\n",
      "\bAfter single dvec to cuda: 433.790464 MB\n",
      "\bAfter single dvec to cuda: 442.08896 MB\n",
      "\bAfter single dvec to cuda: 451.337216 MB\n",
      "After dvec to cuda: 451.341312 MB\n",
      "After forward to cuda: 4351.749632 MB\n"
     ]
    },
    {
     "name": "stderr",
     "output_type": "stream",
     "text": [
      "2021-11-24 17:03:58,122 - INFO - Wrote summary at step 309\n"
     ]
    },
    {
     "name": "stdout",
     "output_type": "stream",
     "text": [
      "After input to cuda: 451.943424 MB\n",
      "\bAfter single dvec to cuda: 422.456832 MB\n",
      "\bAfter single dvec to cuda: 423.82848 MB\n",
      "\bAfter single dvec to cuda: 433.892352 MB\n",
      "\bAfter single dvec to cuda: 439.337472 MB\n",
      "After dvec to cuda: 439.341568 MB\n",
      "After forward to cuda: 4338.264064 MB\n",
      "After input to cuda: 438.739456 MB\n",
      "\bAfter single dvec to cuda: 421.117952 MB\n",
      "\bAfter single dvec to cuda: 431.397888 MB\n",
      "\bAfter single dvec to cuda: 438.199808 MB\n",
      "\bAfter single dvec to cuda: 447.446528 MB\n",
      "After dvec to cuda: 447.450624 MB\n",
      "After forward to cuda: 4347.953152 MB\n"
     ]
    },
    {
     "name": "stderr",
     "output_type": "stream",
     "text": [
      "2021-11-24 17:03:58,827 - INFO - Wrote summary at step 310\n"
     ]
    },
    {
     "name": "stdout",
     "output_type": "stream",
     "text": [
      "After input to cuda: 447.450624 MB\n",
      "\bAfter single dvec to cuda: 423.16032 MB\n",
      "\bAfter single dvec to cuda: 432.403968 MB\n",
      "\bAfter single dvec to cuda: 440.695808 MB\n",
      "\bAfter single dvec to cuda: 449.399808 MB\n",
      "After dvec to cuda: 449.403904 MB\n",
      "After forward to cuda: 4349.569536 MB\n",
      "After input to cuda: 449.758208 MB\n",
      "\bAfter single dvec to cuda: 423.538688 MB\n",
      "\bAfter single dvec to cuda: 425.453568 MB\n",
      "\bAfter single dvec to cuda: 432.500736 MB\n",
      "\bAfter single dvec to cuda: 442.017792 MB\n",
      "After dvec to cuda: 442.021888 MB\n",
      "After forward to cuda: 4341.512704 MB\n"
     ]
    },
    {
     "name": "stderr",
     "output_type": "stream",
     "text": [
      "2021-11-24 17:03:59,532 - INFO - Wrote summary at step 311\n"
     ]
    },
    {
     "name": "stdout",
     "output_type": "stream",
     "text": [
      "After input to cuda: 441.988096 MB\n",
      "\bAfter single dvec to cuda: 423.804928 MB\n",
      "\bAfter single dvec to cuda: 435.449856 MB\n",
      "\bAfter single dvec to cuda: 440.08192 MB\n",
      "\bAfter single dvec to cuda: 449.597952 MB\n",
      "After dvec to cuda: 449.602048 MB\n",
      "After forward to cuda: 4349.442048 MB\n",
      "After input to cuda: 449.281536 MB\n",
      "\bAfter single dvec to cuda: 422.396416 MB\n",
      "\bAfter single dvec to cuda: 432.731136 MB\n",
      "\bAfter single dvec to cuda: 442.790912 MB\n",
      "\bAfter single dvec to cuda: 451.492352 MB\n",
      "After dvec to cuda: 451.496448 MB\n",
      "After forward to cuda: 4351.352832 MB\n"
     ]
    },
    {
     "name": "stderr",
     "output_type": "stream",
     "text": [
      "2021-11-24 17:04:00,240 - INFO - Wrote summary at step 312\n"
     ]
    },
    {
     "name": "stdout",
     "output_type": "stream",
     "text": [
      "After input to cuda: 451.81184 MB\n",
      "\bAfter single dvec to cuda: 423.526912 MB\n",
      "\bAfter single dvec to cuda: 428.156928 MB\n",
      "\bAfter single dvec to cuda: 432.513024 MB\n",
      "\bAfter single dvec to cuda: 442.03264 MB\n",
      "After dvec to cuda: 442.036736 MB\n",
      "After forward to cuda: 4342.464 MB\n",
      "After input to cuda: 441.721344 MB\n",
      "\bAfter single dvec to cuda: 421.850624 MB\n",
      "\bAfter single dvec to cuda: 431.09632 MB\n",
      "\bAfter single dvec to cuda: 440.343552 MB\n",
      "\bAfter single dvec to cuda: 449.3184 MB\n",
      "After dvec to cuda: 449.322496 MB\n",
      "After forward to cuda: 4350.031872 MB\n"
     ]
    },
    {
     "name": "stderr",
     "output_type": "stream",
     "text": [
      "2021-11-24 17:04:00,947 - INFO - Wrote summary at step 313\n"
     ]
    },
    {
     "name": "stdout",
     "output_type": "stream",
     "text": [
      "After input to cuda: 449.928704 MB\n",
      "\bAfter single dvec to cuda: 423.78752 MB\n",
      "\bAfter single dvec to cuda: 428.875776 MB\n",
      "\bAfter single dvec to cuda: 435.60448 MB\n",
      "\bAfter single dvec to cuda: 445.124608 MB\n",
      "After dvec to cuda: 445.128704 MB\n",
      "After forward to cuda: 4345.226752 MB\n",
      "After input to cuda: 444.522496 MB\n",
      "\bAfter single dvec to cuda: 423.183872 MB\n",
      "\bAfter single dvec to cuda: 431.346688 MB\n",
      "\bAfter single dvec to cuda: 441.678336 MB\n",
      "\bAfter single dvec to cuda: 451.19488 MB\n",
      "After dvec to cuda: 451.198976 MB\n",
      "After forward to cuda: 4350.862848 MB\n"
     ]
    },
    {
     "name": "stderr",
     "output_type": "stream",
     "text": [
      "2021-11-24 17:04:01,671 - INFO - Wrote summary at step 314\n"
     ]
    },
    {
     "name": "stdout",
     "output_type": "stream",
     "text": [
      "After input to cuda: 451.335168 MB\n",
      "\bAfter single dvec to cuda: 423.618048 MB\n",
      "\bAfter single dvec to cuda: 433.950208 MB\n",
      "\bAfter single dvec to cuda: 443.094528 MB\n",
      "\bAfter single dvec to cuda: 453.4272 MB\n",
      "After dvec to cuda: 453.431296 MB\n",
      "After forward to cuda: 4353.106432 MB\n",
      "After input to cuda: 453.431296 MB\n",
      "\bAfter single dvec to cuda: 421.987328 MB\n",
      "\bAfter single dvec to cuda: 432.319488 MB\n",
      "\bAfter single dvec to cuda: 442.381312 MB\n",
      "\bAfter single dvec to cuda: 452.711424 MB\n",
      "After dvec to cuda: 452.71552 MB\n",
      "After forward to cuda: 4352.813568 MB\n"
     ]
    },
    {
     "name": "stderr",
     "output_type": "stream",
     "text": [
      "2021-11-24 17:04:02,379 - INFO - Wrote summary at step 315\n"
     ]
    },
    {
     "name": "stdout",
     "output_type": "stream",
     "text": [
      "After input to cuda: 453.53728 MB\n",
      "\bAfter single dvec to cuda: 421.452288 MB\n",
      "\bAfter single dvec to cuda: 431.513088 MB\n",
      "\bAfter single dvec to cuda: 441.843712 MB\n",
      "\bAfter single dvec to cuda: 450.547712 MB\n",
      "After dvec to cuda: 450.551808 MB\n",
      "After forward to cuda: 4351.345152 MB\n",
      "After input to cuda: 449.914368 MB\n",
      "\bAfter single dvec to cuda: 420.19328 MB\n",
      "\bAfter single dvec to cuda: 430.44608 MB\n",
      "\bAfter single dvec to cuda: 439.965696 MB\n",
      "\bAfter single dvec to cuda: 445.955072 MB\n",
      "After dvec to cuda: 445.959168 MB\n",
      "After forward to cuda: 4345.163264 MB\n"
     ]
    },
    {
     "name": "stderr",
     "output_type": "stream",
     "text": [
      "2021-11-24 17:04:03,087 - INFO - Wrote summary at step 316\n"
     ]
    },
    {
     "name": "stdout",
     "output_type": "stream",
     "text": [
      "After input to cuda: 445.638656 MB\n",
      "\bAfter single dvec to cuda: 423.484416 MB\n",
      "\bAfter single dvec to cuda: 433.763328 MB\n",
      "\bAfter single dvec to cuda: 441.380864 MB\n",
      "\bAfter single dvec to cuda: 450.89792 MB\n",
      "After dvec to cuda: 450.902016 MB\n",
      "After forward to cuda: 4351.869952 MB\n",
      "After input to cuda: 451.49184 MB\n",
      "\bAfter single dvec to cuda: 417.007616 MB\n",
      "\bAfter single dvec to cuda: 423.53664 MB\n",
      "\bAfter single dvec to cuda: 434.415104 MB\n",
      "\bAfter single dvec to cuda: 443.661312 MB\n",
      "After dvec to cuda: 443.665408 MB\n",
      "After forward to cuda: 4343.458304 MB\n"
     ]
    },
    {
     "name": "stderr",
     "output_type": "stream",
     "text": [
      "2021-11-24 17:04:03,792 - INFO - Wrote summary at step 317\n"
     ]
    },
    {
     "name": "stdout",
     "output_type": "stream",
     "text": [
      "After input to cuda: 443.771904 MB\n",
      "\bAfter single dvec to cuda: 422.275072 MB\n",
      "\bAfter single dvec to cuda: 432.067072 MB\n",
      "\bAfter single dvec to cuda: 442.130944 MB\n",
      "\bAfter single dvec to cuda: 451.375104 MB\n",
      "After dvec to cuda: 451.3792 MB\n",
      "After forward to cuda: 4350.79424 MB\n",
      "After input to cuda: 450.68288 MB\n",
      "\bAfter single dvec to cuda: 423.75424 MB\n",
      "\bAfter single dvec to cuda: 434.360832 MB\n",
      "\bAfter single dvec to cuda: 444.669952 MB\n",
      "\bAfter single dvec to cuda: 456.319488 MB\n",
      "After dvec to cuda: 456.323584 MB\n",
      "After forward to cuda: 4357.481472 MB\n"
     ]
    },
    {
     "name": "stderr",
     "output_type": "stream",
     "text": [
      "2021-11-24 17:04:04,501 - INFO - Wrote summary at step 318\n"
     ]
    },
    {
     "name": "stdout",
     "output_type": "stream",
     "text": [
      "After input to cuda: 457.967104 MB\n",
      "\bAfter single dvec to cuda: 424.82432 MB\n",
      "\bAfter single dvec to cuda: 433.527296 MB\n",
      "\bAfter single dvec to cuda: 442.22976 MB\n",
      "\bAfter single dvec to cuda: 451.74528 MB\n",
      "After dvec to cuda: 451.749376 MB\n",
      "After forward to cuda: 4349.659136 MB\n",
      "After input to cuda: 450.105856 MB\n",
      "\bAfter single dvec to cuda: 415.876096 MB\n",
      "\bAfter single dvec to cuda: 426.13248 MB\n",
      "\bAfter single dvec to cuda: 436.192768 MB\n",
      "\bAfter single dvec to cuda: 446.250496 MB\n",
      "After dvec to cuda: 446.254592 MB\n",
      "After forward to cuda: 4346.85952 MB\n"
     ]
    },
    {
     "name": "stderr",
     "output_type": "stream",
     "text": [
      "2021-11-24 17:04:05,209 - INFO - Wrote summary at step 319\n"
     ]
    },
    {
     "name": "stdout",
     "output_type": "stream",
     "text": [
      "After input to cuda: 447.363584 MB\n",
      "\bAfter single dvec to cuda: 425.131008 MB\n",
      "\bAfter single dvec to cuda: 435.0336 MB\n",
      "\bAfter single dvec to cuda: 445.041152 MB\n",
      "\bAfter single dvec to cuda: 455.267328 MB\n",
      "After dvec to cuda: 455.271424 MB\n",
      "After forward to cuda: 4354.664448 MB\n",
      "After input to cuda: 454.162432 MB\n",
      "\bAfter single dvec to cuda: 422.939136 MB\n",
      "\bAfter single dvec to cuda: 432.78592 MB\n",
      "\bAfter single dvec to cuda: 443.936256 MB\n",
      "\bAfter single dvec to cuda: 447.480832 MB\n",
      "After dvec to cuda: 447.484928 MB\n",
      "After forward to cuda: 4347.582976 MB\n"
     ]
    },
    {
     "name": "stderr",
     "output_type": "stream",
     "text": [
      "2021-11-24 17:04:05,917 - INFO - Wrote summary at step 320\n"
     ]
    },
    {
     "name": "stdout",
     "output_type": "stream",
     "text": [
      "After input to cuda: 447.418368 MB\n",
      "\bAfter single dvec to cuda: 422.71232 MB\n",
      "\bAfter single dvec to cuda: 433.046528 MB\n",
      "\bAfter single dvec to cuda: 443.380224 MB\n",
      "\bAfter single dvec to cuda: 453.713408 MB\n",
      "After dvec to cuda: 453.717504 MB\n",
      "After forward to cuda: 4353.595392 MB\n",
      "After input to cuda: 454.381056 MB\n",
      "\bAfter single dvec to cuda: 424.077312 MB\n",
      "\bAfter single dvec to cuda: 431.696384 MB\n",
      "\bAfter single dvec to cuda: 440.397312 MB\n",
      "\bAfter single dvec to cuda: 450.185728 MB\n",
      "After dvec to cuda: 450.189824 MB\n",
      "After forward to cuda: 4349.714432 MB\n"
     ]
    },
    {
     "name": "stderr",
     "output_type": "stream",
     "text": [
      "2021-11-24 17:04:06,644 - INFO - Wrote summary at step 321\n"
     ]
    },
    {
     "name": "stdout",
     "output_type": "stream",
     "text": [
      "After input to cuda: 450.189824 MB\n",
      "\bAfter single dvec to cuda: 423.783936 MB\n",
      "\bAfter single dvec to cuda: 433.843712 MB\n",
      "\bAfter single dvec to cuda: 437.115392 MB\n",
      "\bAfter single dvec to cuda: 444.186112 MB\n",
      "After dvec to cuda: 444.190208 MB\n",
      "After forward to cuda: 4344.124416 MB\n",
      "After input to cuda: 443.621888 MB\n",
      "\bAfter single dvec to cuda: 414.546432 MB\n",
      "\bAfter single dvec to cuda: 424.80384 MB\n",
      "\bAfter single dvec to cuda: 432.694272 MB\n",
      "\bAfter single dvec to cuda: 441.12896 MB\n",
      "After dvec to cuda: 441.133056 MB\n",
      "After forward to cuda: 4342.57664 MB\n"
     ]
    },
    {
     "name": "stderr",
     "output_type": "stream",
     "text": [
      "2021-11-24 17:04:07,348 - INFO - Wrote summary at step 322\n"
     ]
    },
    {
     "name": "stdout",
     "output_type": "stream",
     "text": [
      "After input to cuda: 442.4448 MB\n",
      "\bAfter single dvec to cuda: 425.453056 MB\n",
      "\bAfter single dvec to cuda: 428.724736 MB\n",
      "\bAfter single dvec to cuda: 431.179776 MB\n",
      "\bAfter single dvec to cuda: 437.43744 MB\n",
      "After dvec to cuda: 437.441536 MB\n",
      "After forward to cuda: 4337.12896 MB\n",
      "After input to cuda: 436.841472 MB\n",
      "\bAfter single dvec to cuda: 423.9232 MB\n",
      "\bAfter single dvec to cuda: 433.44384 MB\n",
      "\bAfter single dvec to cuda: 443.505664 MB\n",
      "\bAfter single dvec to cuda: 453.292032 MB\n",
      "After dvec to cuda: 453.296128 MB\n",
      "After forward to cuda: 4353.535488 MB\n"
     ]
    },
    {
     "name": "stderr",
     "output_type": "stream",
     "text": [
      "2021-11-24 17:04:08,053 - INFO - Wrote summary at step 323\n"
     ]
    },
    {
     "name": "stdout",
     "output_type": "stream",
     "text": [
      "After input to cuda: 452.555776 MB\n",
      "\bAfter single dvec to cuda: 416.960512 MB\n",
      "\bAfter single dvec to cuda: 427.835392 MB\n",
      "\bAfter single dvec to cuda: 431.378432 MB\n",
      "\bAfter single dvec to cuda: 438.994432 MB\n",
      "After dvec to cuda: 438.998528 MB\n",
      "After forward to cuda: 4339.510272 MB\n",
      "After input to cuda: 439.604736 MB\n",
      "\bAfter single dvec to cuda: 422.457344 MB\n",
      "\bAfter single dvec to cuda: 431.704576 MB\n",
      "\bAfter single dvec to cuda: 441.49248 MB\n",
      "\bAfter single dvec to cuda: 452.094464 MB\n",
      "After dvec to cuda: 452.09856 MB\n",
      "After forward to cuda: 4351.623168 MB\n"
     ]
    },
    {
     "name": "stderr",
     "output_type": "stream",
     "text": [
      "2021-11-24 17:04:08,757 - INFO - Wrote summary at step 324\n"
     ]
    },
    {
     "name": "stdout",
     "output_type": "stream",
     "text": [
      "After input to cuda: 451.492352 MB\n",
      "\bAfter single dvec to cuda: 423.10912 MB\n",
      "\bAfter single dvec to cuda: 430.156288 MB\n",
      "\bAfter single dvec to cuda: 435.329024 MB\n",
      "\bAfter single dvec to cuda: 445.121536 MB\n",
      "After dvec to cuda: 445.125632 MB\n",
      "After forward to cuda: 4344.904192 MB\n",
      "After input to cuda: 445.125632 MB\n",
      "\bAfter single dvec to cuda: 423.21152 MB\n",
      "\bAfter single dvec to cuda: 432.999936 MB\n",
      "\bAfter single dvec to cuda: 441.97632 MB\n",
      "\bAfter single dvec to cuda: 451.765248 MB\n",
      "After dvec to cuda: 451.769344 MB\n",
      "After forward to cuda: 4352.989184 MB\n"
     ]
    },
    {
     "name": "stderr",
     "output_type": "stream",
     "text": [
      "2021-11-24 17:04:09,466 - INFO - Wrote summary at step 325\n"
     ]
    },
    {
     "name": "stdout",
     "output_type": "stream",
     "text": [
      "After input to cuda: 453.493248 MB\n",
      "\bAfter single dvec to cuda: 421.133312 MB\n",
      "\bAfter single dvec to cuda: 424.241152 MB\n",
      "\bAfter single dvec to cuda: 428.027392 MB\n",
      "\bAfter single dvec to cuda: 433.473024 MB\n",
      "After dvec to cuda: 433.47712 MB\n",
      "After forward to cuda: 4331.638272 MB\n",
      "After input to cuda: 432.355328 MB\n",
      "\bAfter single dvec to cuda: 423.70816 MB\n",
      "\bAfter single dvec to cuda: 429.96736 MB\n",
      "\bAfter single dvec to cuda: 439.759872 MB\n",
      "\bAfter single dvec to cuda: 449.54624 MB\n",
      "After dvec to cuda: 449.550336 MB\n",
      "After forward to cuda: 4349.074944 MB\n"
     ]
    },
    {
     "name": "stderr",
     "output_type": "stream",
     "text": [
      "2021-11-24 17:04:10,171 - INFO - Wrote summary at step 326\n"
     ]
    },
    {
     "name": "stdout",
     "output_type": "stream",
     "text": [
      "After input to cuda: 449.263616 MB\n",
      "\bAfter single dvec to cuda: 415.104 MB\n",
      "\bAfter single dvec to cuda: 416.74752 MB\n",
      "\bAfter single dvec to cuda: 422.460928 MB\n",
      "\bAfter single dvec to cuda: 433.062912 MB\n",
      "After dvec to cuda: 433.067008 MB\n",
      "After forward to cuda: 4333.185024 MB\n",
      "After input to cuda: 433.048576 MB\n",
      "\bAfter single dvec to cuda: 423.481344 MB\n",
      "\bAfter single dvec to cuda: 433.542144 MB\n",
      "\bAfter single dvec to cuda: 442.243072 MB\n",
      "\bAfter single dvec to cuda: 452.576256 MB\n",
      "After dvec to cuda: 452.580352 MB\n",
      "After forward to cuda: 4353.570304 MB\n"
     ]
    },
    {
     "name": "stderr",
     "output_type": "stream",
     "text": [
      "2021-11-24 17:04:10,877 - INFO - Wrote summary at step 327\n"
     ]
    },
    {
     "name": "stdout",
     "output_type": "stream",
     "text": [
      "After input to cuda: 453.472256 MB\n",
      "\bAfter single dvec to cuda: 421.412352 MB\n",
      "\bAfter single dvec to cuda: 431.74656 MB\n",
      "\bAfter single dvec to cuda: 433.65888 MB\n",
      "\bAfter single dvec to cuda: 443.723264 MB\n",
      "After dvec to cuda: 443.72736 MB\n",
      "After forward to cuda: 4342.936576 MB\n",
      "After input to cuda: 442.538496 MB\n",
      "\bAfter single dvec to cuda: 421.915648 MB\n",
      "\bAfter single dvec to cuda: 431.97696 MB\n",
      "\bAfter single dvec to cuda: 434.160128 MB\n",
      "\bAfter single dvec to cuda: 436.614656 MB\n",
      "After dvec to cuda: 436.618752 MB\n",
      "After forward to cuda: 4337.215488 MB\n"
     ]
    },
    {
     "name": "stderr",
     "output_type": "stream",
     "text": [
      "2021-11-24 17:04:11,579 - INFO - Wrote summary at step 328\n"
     ]
    },
    {
     "name": "stdout",
     "output_type": "stream",
     "text": [
      "After input to cuda: 437.283328 MB\n",
      "\bAfter single dvec to cuda: 423.478272 MB\n",
      "\bAfter single dvec to cuda: 432.565248 MB\n",
      "\bAfter single dvec to cuda: 434.046976 MB\n",
      "\bAfter single dvec to cuda: 441.661952 MB\n",
      "After dvec to cuda: 441.666048 MB\n",
      "After forward to cuda: 4340.52608 MB\n",
      "After input to cuda: 441.001472 MB\n",
      "\bAfter single dvec to cuda: 421.30944 MB\n",
      "\bAfter single dvec to cuda: 430.555136 MB\n",
      "\bAfter single dvec to cuda: 440.617984 MB\n",
      "\bAfter single dvec to cuda: 449.58976 MB\n",
      "After dvec to cuda: 449.593856 MB\n",
      "After forward to cuda: 4350.570496 MB\n"
     ]
    },
    {
     "name": "stderr",
     "output_type": "stream",
     "text": [
      "2021-11-24 17:04:12,287 - INFO - Wrote summary at step 329\n"
     ]
    },
    {
     "name": "stdout",
     "output_type": "stream",
     "text": [
      "After input to cuda: 450.467328 MB\n",
      "\bAfter single dvec to cuda: 415.22944 MB\n",
      "\bAfter single dvec to cuda: 420.946432 MB\n",
      "\bAfter single dvec to cuda: 431.254528 MB\n",
      "\bAfter single dvec to cuda: 432.350208 MB\n",
      "After dvec to cuda: 432.354304 MB\n",
      "After forward to cuda: 4331.878912 MB\n",
      "After input to cuda: 431.480832 MB\n",
      "\bAfter single dvec to cuda: 423.186432 MB\n",
      "\bAfter single dvec to cuda: 432.707584 MB\n",
      "\bAfter single dvec to cuda: 440.597504 MB\n",
      "\bAfter single dvec to cuda: 450.118144 MB\n",
      "After dvec to cuda: 450.12224 MB\n",
      "After forward to cuda: 4351.166976 MB\n"
     ]
    },
    {
     "name": "stderr",
     "output_type": "stream",
     "text": [
      "2021-11-24 17:04:12,992 - INFO - Wrote summary at step 330\n"
     ]
    },
    {
     "name": "stdout",
     "output_type": "stream",
     "text": [
      "After input to cuda: 450.12224 MB\n",
      "\bAfter single dvec to cuda: 420.767232 MB\n",
      "\bAfter single dvec to cuda: 431.022592 MB\n",
      "\bAfter single dvec to cuda: 439.99744 MB\n",
      "\bAfter single dvec to cuda: 449.240576 MB\n",
      "After dvec to cuda: 449.244672 MB\n",
      "After forward to cuda: 4350.194688 MB\n",
      "After input to cuda: 450.698752 MB\n",
      "\bAfter single dvec to cuda: 424.662016 MB\n",
      "\bAfter single dvec to cuda: 435.538432 MB\n",
      "\bAfter single dvec to cuda: 445.597184 MB\n",
      "\bAfter single dvec to cuda: 454.300672 MB\n",
      "After dvec to cuda: 454.304768 MB\n",
      "After forward to cuda: 4354.049536 MB\n"
     ]
    },
    {
     "name": "stderr",
     "output_type": "stream",
     "text": [
      "2021-11-24 17:04:13,699 - INFO - Wrote summary at step 331\n"
     ]
    },
    {
     "name": "stdout",
     "output_type": "stream",
     "text": [
      "After input to cuda: 453.80864 MB\n",
      "\bAfter single dvec to cuda: 423.842304 MB\n",
      "\bAfter single dvec to cuda: 431.457792 MB\n",
      "\bAfter single dvec to cuda: 441.793024 MB\n",
      "\bAfter single dvec to cuda: 451.854336 MB\n",
      "After dvec to cuda: 451.858432 MB\n",
      "After forward to cuda: 4351.95136 MB\n",
      "After input to cuda: 451.497472 MB\n",
      "\bAfter single dvec to cuda: 423.781888 MB\n",
      "\bAfter single dvec to cuda: 433.569792 MB\n",
      "\bAfter single dvec to cuda: 435.991552 MB\n",
      "\bAfter single dvec to cuda: 438.178816 MB\n",
      "After dvec to cuda: 438.182912 MB\n",
      "After forward to cuda: 4338.102272 MB\n"
     ]
    },
    {
     "name": "stderr",
     "output_type": "stream",
     "text": [
      "2021-11-24 17:04:14,403 - INFO - Wrote summary at step 332\n"
     ]
    },
    {
     "name": "stdout",
     "output_type": "stream",
     "text": [
      "After input to cuda: 437.58592 MB\n",
      "\bAfter single dvec to cuda: 423.185408 MB\n",
      "\bAfter single dvec to cuda: 432.434176 MB\n",
      "\bAfter single dvec to cuda: 441.952256 MB\n",
      "\bAfter single dvec to cuda: 450.167296 MB\n",
      "After dvec to cuda: 450.171392 MB\n",
      "After forward to cuda: 4350.027776 MB\n",
      "After input to cuda: 450.53184 MB\n",
      "\bAfter single dvec to cuda: 421.473792 MB\n",
      "\bAfter single dvec to cuda: 428.544 MB\n",
      "\bAfter single dvec to cuda: 432.631296 MB\n",
      "\bAfter single dvec to cuda: 442.692096 MB\n",
      "After dvec to cuda: 442.696192 MB\n",
      "After forward to cuda: 4342.848512 MB\n"
     ]
    },
    {
     "name": "stderr",
     "output_type": "stream",
     "text": [
      "2021-11-24 17:04:15,110 - INFO - Wrote summary at step 333\n"
     ]
    },
    {
     "name": "stdout",
     "output_type": "stream",
     "text": [
      "After input to cuda: 442.992128 MB\n",
      "\bAfter single dvec to cuda: 423.570432 MB\n",
      "\bAfter single dvec to cuda: 424.39936 MB\n",
      "\bAfter single dvec to cuda: 434.73152 MB\n",
      "\bAfter single dvec to cuda: 443.980288 MB\n",
      "After dvec to cuda: 443.984384 MB\n",
      "After forward to cuda: 4343.26016 MB\n",
      "After input to cuda: 443.709952 MB\n",
      "\bAfter single dvec to cuda: 422.32576 MB\n",
      "\bAfter single dvec to cuda: 433.199104 MB\n",
      "\bAfter single dvec to cuda: 441.899008 MB\n",
      "\bAfter single dvec to cuda: 451.760128 MB\n",
      "After dvec to cuda: 451.764224 MB\n",
      "After forward to cuda: 4351.288832 MB\n"
     ]
    },
    {
     "name": "stderr",
     "output_type": "stream",
     "text": [
      "2021-11-24 17:04:15,818 - INFO - Wrote summary at step 334\n"
     ]
    },
    {
     "name": "stdout",
     "output_type": "stream",
     "text": [
      "After input to cuda: 451.764224 MB\n",
      "\bAfter single dvec to cuda: 423.320064 MB\n",
      "\bAfter single dvec to cuda: 433.652224 MB\n",
      "\bAfter single dvec to cuda: 443.71456 MB\n",
      "\bAfter single dvec to cuda: 453.773824 MB\n",
      "After dvec to cuda: 453.77792 MB\n",
      "After forward to cuda: 4353.302528 MB\n",
      "After input to cuda: 453.395968 MB\n",
      "\bAfter single dvec to cuda: 421.036544 MB\n",
      "\bAfter single dvec to cuda: 428.00128 MB\n",
      "\bAfter single dvec to cuda: 437.518848 MB\n",
      "\bAfter single dvec to cuda: 445.13536 MB\n",
      "After dvec to cuda: 445.139456 MB\n",
      "After forward to cuda: 4347.63776 MB\n"
     ]
    },
    {
     "name": "stderr",
     "output_type": "stream",
     "text": [
      "2021-11-24 17:04:16,523 - INFO - Wrote summary at step 335\n"
     ]
    },
    {
     "name": "stdout",
     "output_type": "stream",
     "text": [
      "After input to cuda: 445.793792 MB\n",
      "\bAfter single dvec to cuda: 422.505472 MB\n",
      "\bAfter single dvec to cuda: 429.473792 MB\n",
      "\bAfter single dvec to cuda: 439.53664 MB\n",
      "\bAfter single dvec to cuda: 447.151616 MB\n",
      "After dvec to cuda: 447.155712 MB\n",
      "After forward to cuda: 4346.112 MB\n",
      "After input to cuda: 446.616064 MB\n",
      "\bAfter single dvec to cuda: 417.623552 MB\n",
      "\bAfter single dvec to cuda: 428.224512 MB\n",
      "\bAfter single dvec to cuda: 436.515328 MB\n",
      "\bAfter single dvec to cuda: 443.318272 MB\n",
      "After dvec to cuda: 443.322368 MB\n",
      "After forward to cuda: 4343.48288 MB\n"
     ]
    },
    {
     "name": "stderr",
     "output_type": "stream",
     "text": [
      "2021-11-24 17:04:17,228 - INFO - Wrote summary at step 336\n"
     ]
    },
    {
     "name": "stdout",
     "output_type": "stream",
     "text": [
      "After input to cuda: 443.20768 MB\n",
      "\bAfter single dvec to cuda: 421.578752 MB\n",
      "\bAfter single dvec to cuda: 430.007296 MB\n",
      "\bAfter single dvec to cuda: 438.984192 MB\n",
      "\bAfter single dvec to cuda: 449.043456 MB\n",
      "After dvec to cuda: 449.047552 MB\n",
      "After forward to cuda: 4349.455872 MB\n",
      "After input to cuda: 449.644544 MB\n",
      "\bAfter single dvec to cuda: 424.349696 MB\n",
      "\bAfter single dvec to cuda: 434.68544 MB\n",
      "\bAfter single dvec to cuda: 445.018112 MB\n",
      "\bAfter single dvec to cuda: 450.187264 MB\n",
      "After dvec to cuda: 450.19136 MB\n",
      "After forward to cuda: 4349.118976 MB\n"
     ]
    },
    {
     "name": "stderr",
     "output_type": "stream",
     "text": [
      "2021-11-24 17:04:17,937 - INFO - Wrote summary at step 337\n"
     ]
    },
    {
     "name": "stdout",
     "output_type": "stream",
     "text": [
      "After input to cuda: 450.19136 MB\n",
      "\bAfter single dvec to cuda: 422.174208 MB\n",
      "\bAfter single dvec to cuda: 432.505856 MB\n",
      "\bAfter single dvec to cuda: 441.20576 MB\n",
      "\bAfter single dvec to cuda: 451.264 MB\n",
      "After dvec to cuda: 451.268096 MB\n",
      "After forward to cuda: 4350.87872 MB\n",
      "After input to cuda: 450.785792 MB\n",
      "\bAfter single dvec to cuda: 421.965824 MB\n",
      "\bAfter single dvec to cuda: 431.757824 MB\n",
      "\bAfter single dvec to cuda: 441.00608 MB\n",
      "\bAfter single dvec to cuda: 450.771456 MB\n",
      "After dvec to cuda: 450.775552 MB\n",
      "After forward to cuda: 4350.512128 MB\n"
     ]
    },
    {
     "name": "stderr",
     "output_type": "stream",
     "text": [
      "2021-11-24 17:04:18,644 - INFO - Wrote summary at step 338\n"
     ]
    },
    {
     "name": "stdout",
     "output_type": "stream",
     "text": [
      "After input to cuda: 450.775552 MB\n",
      "\bAfter single dvec to cuda: 423.220736 MB\n",
      "\bAfter single dvec to cuda: 428.119552 MB\n",
      "\bAfter single dvec to cuda: 432.475136 MB\n",
      "\bAfter single dvec to cuda: 439.821824 MB\n",
      "After dvec to cuda: 439.82592 MB\n",
      "After forward to cuda: 4339.625984 MB\n",
      "After input to cuda: 439.711232 MB\n",
      "\bAfter single dvec to cuda: 423.185408 MB\n",
      "\bAfter single dvec to cuda: 433.521152 MB\n",
      "\bAfter single dvec to cuda: 445.438464 MB\n",
      "\bAfter single dvec to cuda: 454.139904 MB\n",
      "After dvec to cuda: 454.144 MB\n",
      "After forward to cuda: 4354.27584 MB\n"
     ]
    },
    {
     "name": "stderr",
     "output_type": "stream",
     "text": [
      "2021-11-24 17:04:19,349 - INFO - Wrote summary at step 339\n"
     ]
    },
    {
     "name": "stdout",
     "output_type": "stream",
     "text": [
      "After input to cuda: 454.144 MB\n",
      "\bAfter single dvec to cuda: 417.234944 MB\n",
      "\bAfter single dvec to cuda: 427.569664 MB\n",
      "\bAfter single dvec to cuda: 436.818944 MB\n",
      "\bAfter single dvec to cuda: 446.339584 MB\n",
      "After dvec to cuda: 446.34368 MB\n",
      "After forward to cuda: 4346.515456 MB\n",
      "After input to cuda: 446.704128 MB\n",
      "\bAfter single dvec to cuda: 422.211072 MB\n",
      "\bAfter single dvec to cuda: 432.272384 MB\n",
      "\bAfter single dvec to cuda: 440.974848 MB\n",
      "\bAfter single dvec to cuda: 448.018944 MB\n",
      "After dvec to cuda: 448.02304 MB\n",
      "After forward to cuda: 4347.86816 MB\n"
     ]
    },
    {
     "name": "stderr",
     "output_type": "stream",
     "text": [
      "2021-11-24 17:04:20,056 - INFO - Wrote summary at step 340\n"
     ]
    },
    {
     "name": "stdout",
     "output_type": "stream",
     "text": [
      "After input to cuda: 448.343552 MB\n",
      "\bAfter single dvec to cuda: 421.44512 MB\n",
      "\bAfter single dvec to cuda: 431.507456 MB\n",
      "\bAfter single dvec to cuda: 441.841664 MB\n",
      "\bAfter single dvec to cuda: 450.541568 MB\n",
      "After dvec to cuda: 450.545664 MB\n",
      "After forward to cuda: 4350.070272 MB\n",
      "After input to cuda: 450.545664 MB\n",
      "\bAfter single dvec to cuda: 423.86176 MB\n",
      "\bAfter single dvec to cuda: 433.106432 MB\n",
      "\bAfter single dvec to cuda: 440.724992 MB\n",
      "\bAfter single dvec to cuda: 451.795968 MB\n",
      "After dvec to cuda: 451.800064 MB\n",
      "After forward to cuda: 4352.56064 MB\n"
     ]
    },
    {
     "name": "stderr",
     "output_type": "stream",
     "text": [
      "2021-11-24 17:04:20,764 - INFO - Wrote summary at step 341\n"
     ]
    },
    {
     "name": "stdout",
     "output_type": "stream",
     "text": [
      "After input to cuda: 451.479552 MB\n",
      "\bAfter single dvec to cuda: 421.938688 MB\n",
      "\bAfter single dvec to cuda: 431.457792 MB\n",
      "\bAfter single dvec to cuda: 436.360704 MB\n",
      "\bAfter single dvec to cuda: 446.691328 MB\n",
      "After dvec to cuda: 446.695424 MB\n",
      "After forward to cuda: 4346.220032 MB\n",
      "After input to cuda: 446.334976 MB\n",
      "\bAfter single dvec to cuda: 422.452224 MB\n",
      "\bAfter single dvec to cuda: 430.0672 MB\n",
      "\bAfter single dvec to cuda: 440.399872 MB\n",
      "\bAfter single dvec to cuda: 449.373184 MB\n",
      "After dvec to cuda: 449.37728 MB\n",
      "After forward to cuda: 4349.470208 MB\n"
     ]
    },
    {
     "name": "stderr",
     "output_type": "stream",
     "text": [
      "2021-11-24 17:04:21,470 - INFO - Wrote summary at step 342\n"
     ]
    },
    {
     "name": "stdout",
     "output_type": "stream",
     "text": [
      "After input to cuda: 449.37728 MB\n",
      "\bAfter single dvec to cuda: 419.852288 MB\n",
      "\bAfter single dvec to cuda: 429.788672 MB\n",
      "\bAfter single dvec to cuda: 438.222336 MB\n",
      "\bAfter single dvec to cuda: 445.8368 MB\n",
      "After dvec to cuda: 445.840896 MB\n",
      "After forward to cuda: 4345.933824 MB\n",
      "After input to cuda: 446.437888 MB\n",
      "\bAfter single dvec to cuda: 423.727616 MB\n",
      "\bAfter single dvec to cuda: 433.248256 MB\n",
      "\bAfter single dvec to cuda: 442.853888 MB\n",
      "\bAfter single dvec to cuda: 445.851136 MB\n",
      "After dvec to cuda: 445.855232 MB\n",
      "After forward to cuda: 4344.81152 MB\n"
     ]
    },
    {
     "name": "stderr",
     "output_type": "stream",
     "text": [
      "2021-11-24 17:04:22,176 - INFO - Wrote summary at step 343\n"
     ]
    },
    {
     "name": "stdout",
     "output_type": "stream",
     "text": [
      "After input to cuda: 445.25824 MB\n",
      "\bAfter single dvec to cuda: 423.132672 MB\n",
      "\bAfter single dvec to cuda: 432.920064 MB\n",
      "\bAfter single dvec to cuda: 443.252224 MB\n",
      "\bAfter single dvec to cuda: 453.315584 MB\n",
      "After dvec to cuda: 453.31968 MB\n",
      "After forward to cuda: 4352.844288 MB\n",
      "After input to cuda: 453.31968 MB\n",
      "\bAfter single dvec to cuda: 418.59072 MB\n",
      "\bAfter single dvec to cuda: 427.567104 MB\n",
      "\bAfter single dvec to cuda: 429.482496 MB\n",
      "\bAfter single dvec to cuda: 439.003136 MB\n",
      "After dvec to cuda: 439.007232 MB\n",
      "After forward to cuda: 4338.94144 MB\n"
     ]
    },
    {
     "name": "stderr",
     "output_type": "stream",
     "text": [
      "2021-11-24 17:04:22,882 - INFO - Wrote summary at step 344\n"
     ]
    },
    {
     "name": "stdout",
     "output_type": "stream",
     "text": [
      "After input to cuda: 439.007232 MB\n",
      "\bAfter single dvec to cuda: 421.855232 MB\n",
      "\bAfter single dvec to cuda: 430.017536 MB\n",
      "\bAfter single dvec to cuda: 438.721536 MB\n",
      "\bAfter single dvec to cuda: 445.45536 MB\n",
      "After dvec to cuda: 445.459456 MB\n",
      "After forward to cuda: 4344.984064 MB\n",
      "After input to cuda: 445.459456 MB\n",
      "\bAfter single dvec to cuda: 423.181824 MB\n",
      "\bAfter single dvec to cuda: 427.160576 MB\n",
      "\bAfter single dvec to cuda: 436.680704 MB\n",
      "\bAfter single dvec to cuda: 438.866432 MB\n",
      "After dvec to cuda: 438.870528 MB\n",
      "After forward to cuda: 4339.353088 MB\n"
     ]
    },
    {
     "name": "stderr",
     "output_type": "stream",
     "text": [
      "2021-11-24 17:04:23,605 - INFO - Wrote summary at step 345\n"
     ]
    },
    {
     "name": "stdout",
     "output_type": "stream",
     "text": [
      "After input to cuda: 439.82848 MB\n",
      "\bAfter single dvec to cuda: 424.065024 MB\n",
      "\bAfter single dvec to cuda: 434.128384 MB\n",
      "\bAfter single dvec to cuda: 443.16672 MB\n",
      "\bAfter single dvec to cuda: 445.079552 MB\n",
      "After dvec to cuda: 445.083648 MB\n",
      "After forward to cuda: 4344.218624 MB\n",
      "After input to cuda: 444.645888 MB\n",
      "\bAfter single dvec to cuda: 423.707136 MB\n",
      "\bAfter single dvec to cuda: 425.622528 MB\n",
      "\bAfter single dvec to cuda: 432.279552 MB\n",
      "\bAfter single dvec to cuda: 442.6112 MB\n",
      "After dvec to cuda: 442.615296 MB\n",
      "After forward to cuda: 4341.571584 MB\n"
     ]
    },
    {
     "name": "stderr",
     "output_type": "stream",
     "text": [
      "2021-11-24 17:04:24,307 - INFO - Wrote summary at step 346\n"
     ]
    },
    {
     "name": "stdout",
     "output_type": "stream",
     "text": [
      "After input to cuda: 442.018304 MB\n",
      "\bAfter single dvec to cuda: 423.107584 MB\n",
      "\bAfter single dvec to cuda: 431.809024 MB\n",
      "\bAfter single dvec to cuda: 439.699968 MB\n",
      "\bAfter single dvec to cuda: 449.490944 MB\n",
      "After dvec to cuda: 449.49504 MB\n",
      "After forward to cuda: 4349.675008 MB\n",
      "After input to cuda: 449.57184 MB\n",
      "\bAfter single dvec to cuda: 423.181824 MB\n",
      "\bAfter single dvec to cuda: 433.786368 MB\n",
      "\bAfter single dvec to cuda: 442.489344 MB\n",
      "\bAfter single dvec to cuda: 445.759488 MB\n",
      "After dvec to cuda: 445.763584 MB\n",
      "After forward to cuda: 4346.171904 MB\n"
     ]
    },
    {
     "name": "stderr",
     "output_type": "stream",
     "text": [
      "2021-11-24 17:04:25,013 - INFO - Wrote summary at step 347\n"
     ]
    },
    {
     "name": "stdout",
     "output_type": "stream",
     "text": [
      "After input to cuda: 446.360576 MB\n",
      "\bAfter single dvec to cuda: 423.783936 MB\n",
      "\bAfter single dvec to cuda: 432.485888 MB\n",
      "\bAfter single dvec to cuda: 439.558656 MB\n",
      "\bAfter single dvec to cuda: 441.46944 MB\n",
      "After dvec to cuda: 441.473536 MB\n",
      "After forward to cuda: 4340.401152 MB\n",
      "After input to cuda: 440.876544 MB\n",
      "\bAfter single dvec to cuda: 423.209984 MB\n",
      "\bAfter single dvec to cuda: 432.728576 MB\n",
      "\bAfter single dvec to cuda: 439.802368 MB\n",
      "\bAfter single dvec to cuda: 448.235008 MB\n",
      "After dvec to cuda: 448.239104 MB\n",
      "After forward to cuda: 4348.652544 MB\n"
     ]
    },
    {
     "name": "stderr",
     "output_type": "stream",
     "text": [
      "2021-11-24 17:04:25,720 - INFO - Wrote summary at step 348\n"
     ]
    },
    {
     "name": "stdout",
     "output_type": "stream",
     "text": [
      "After input to cuda: 448.559616 MB\n",
      "\bAfter single dvec to cuda: 424.07424 MB\n",
      "\bAfter single dvec to cuda: 432.269312 MB\n",
      "\bAfter single dvec to cuda: 442.577408 MB\n",
      "\bAfter single dvec to cuda: 450.737664 MB\n",
      "After dvec to cuda: 450.74176 MB\n",
      "After forward to cuda: 4350.266368 MB\n",
      "After input to cuda: 450.74176 MB\n",
      "\bAfter single dvec to cuda: 423.527936 MB\n",
      "\bAfter single dvec to cuda: 431.80032 MB\n",
      "\bAfter single dvec to cuda: 442.134016 MB\n",
      "\bAfter single dvec to cuda: 445.674496 MB\n",
      "After dvec to cuda: 445.678592 MB\n",
      "After forward to cuda: 4345.150976 MB\n"
     ]
    },
    {
     "name": "stderr",
     "output_type": "stream",
     "text": [
      "2021-11-24 17:04:26,426 - INFO - Wrote summary at step 349\n"
     ]
    },
    {
     "name": "stdout",
     "output_type": "stream",
     "text": [
      "After input to cuda: 445.35808 MB\n",
      "\bAfter single dvec to cuda: 420.493824 MB\n",
      "\bAfter single dvec to cuda: 428.924928 MB\n",
      "\bAfter single dvec to cuda: 431.600128 MB\n",
      "\bAfter single dvec to cuda: 440.306176 MB\n",
      "After dvec to cuda: 440.310272 MB\n",
      "After forward to cuda: 4339.83488 MB\n",
      "After input to cuda: 440.310272 MB\n",
      "\bAfter single dvec to cuda: 421.172224 MB\n",
      "\bAfter single dvec to cuda: 429.876224 MB\n",
      "\bAfter single dvec to cuda: 439.394816 MB\n",
      "\bAfter single dvec to cuda: 449.724416 MB\n",
      "After dvec to cuda: 449.728512 MB\n",
      "After forward to cuda: 4349.53984 MB\n"
     ]
    },
    {
     "name": "stderr",
     "output_type": "stream",
     "text": [
      "2021-11-24 17:04:27,131 - INFO - Wrote summary at step 350\n"
     ]
    },
    {
     "name": "stdout",
     "output_type": "stream",
     "text": [
      "After input to cuda: 449.728512 MB\n",
      "\bAfter single dvec to cuda: 416.714752 MB\n",
      "\bAfter single dvec to cuda: 425.416704 MB\n",
      "\bAfter single dvec to cuda: 434.392064 MB\n",
      "\bAfter single dvec to cuda: 442.55232 MB\n",
      "After dvec to cuda: 442.556416 MB\n",
      "After forward to cuda: 4342.081024 MB\n",
      "After input to cuda: 442.556416 MB\n",
      "\bAfter single dvec to cuda: 423.131648 MB\n",
      "\bAfter single dvec to cuda: 429.93152 MB\n",
      "\bAfter single dvec to cuda: 439.719936 MB\n",
      "\bAfter single dvec to cuda: 449.083392 MB\n",
      "After dvec to cuda: 449.087488 MB\n",
      "After forward to cuda: 4349.500928 MB\n"
     ]
    },
    {
     "name": "stderr",
     "output_type": "stream",
     "text": [
      "2021-11-24 17:04:27,837 - INFO - Wrote summary at step 351\n"
     ]
    },
    {
     "name": "stdout",
     "output_type": "stream",
     "text": [
      "After input to cuda: 449.408 MB\n",
      "\bAfter single dvec to cuda: 423.424 MB\n",
      "\bAfter single dvec to cuda: 434.028032 MB\n",
      "\bAfter single dvec to cuda: 444.36224 MB\n",
      "\bAfter single dvec to cuda: 451.383808 MB\n",
      "After dvec to cuda: 451.387904 MB\n",
      "After forward to cuda: 4351.958528 MB\n",
      "After input to cuda: 451.067392 MB\n",
      "\bAfter single dvec to cuda: 423.105536 MB\n",
      "\bAfter single dvec to cuda: 430.995456 MB\n",
      "\bAfter single dvec to cuda: 440.786944 MB\n",
      "\bAfter single dvec to cuda: 448.402944 MB\n",
      "After dvec to cuda: 448.40704 MB\n",
      "After forward to cuda: 4347.931648 MB\n"
     ]
    },
    {
     "name": "stderr",
     "output_type": "stream",
     "text": [
      "2021-11-24 17:04:28,545 - INFO - Wrote summary at step 352\n"
     ]
    },
    {
     "name": "stdout",
     "output_type": "stream",
     "text": [
      "After input to cuda: 448.40704 MB\n",
      "\bAfter single dvec to cuda: 423.183872 MB\n",
      "\bAfter single dvec to cuda: 432.97536 MB\n",
      "\bAfter single dvec to cuda: 442.764288 MB\n",
      "\bAfter single dvec to cuda: 449.185792 MB\n",
      "After dvec to cuda: 449.189888 MB\n",
      "After forward to cuda: 4349.779456 MB\n",
      "After input to cuda: 449.792 MB\n",
      "\bAfter single dvec to cuda: 423.188992 MB\n",
      "\bAfter single dvec to cuda: 427.00544 MB\n",
      "\bAfter single dvec to cuda: 437.879296 MB\n",
      "\bAfter single dvec to cuda: 446.038016 MB\n",
      "After dvec to cuda: 446.042112 MB\n",
      "After forward to cuda: 4344.964608 MB\n"
     ]
    },
    {
     "name": "stderr",
     "output_type": "stream",
     "text": [
      "2021-11-24 17:04:29,250 - INFO - Wrote summary at step 353\n"
     ]
    },
    {
     "name": "stdout",
     "output_type": "stream",
     "text": [
      "After input to cuda: 445.3632 MB\n",
      "\bAfter single dvec to cuda: 422.539264 MB\n",
      "\bAfter single dvec to cuda: 432.795136 MB\n",
      "\bAfter single dvec to cuda: 440.95232 MB\n",
      "\bAfter single dvec to cuda: 447.027712 MB\n",
      "After dvec to cuda: 447.031808 MB\n",
      "After forward to cuda: 4347.211776 MB\n",
      "After input to cuda: 447.031808 MB\n",
      "\bAfter single dvec to cuda: 421.015552 MB\n",
      "\bAfter single dvec to cuda: 428.905984 MB\n",
      "\bAfter single dvec to cuda: 435.064832 MB\n",
      "\bAfter single dvec to cuda: 445.665792 MB\n",
      "After dvec to cuda: 445.669888 MB\n",
      "After forward to cuda: 4345.849856 MB\n"
     ]
    },
    {
     "name": "stderr",
     "output_type": "stream",
     "text": [
      "2021-11-24 17:04:29,976 - INFO - Wrote summary at step 354\n"
     ]
    },
    {
     "name": "stdout",
     "output_type": "stream",
     "text": [
      "After input to cuda: 445.669888 MB\n",
      "\bAfter single dvec to cuda: 421.230592 MB\n",
      "\bAfter single dvec to cuda: 429.496832 MB\n",
      "\bAfter single dvec to cuda: 432.787968 MB\n",
      "\bAfter single dvec to cuda: 441.759744 MB\n",
      "After dvec to cuda: 441.76384 MB\n",
      "After forward to cuda: 4342.521344 MB\n",
      "After input to cuda: 441.76384 MB\n",
      "\bAfter single dvec to cuda: 423.10656 MB\n",
      "\bAfter single dvec to cuda: 433.169408 MB\n",
      "\bAfter single dvec to cuda: 442.235392 MB\n",
      "\bAfter single dvec to cuda: 452.027904 MB\n",
      "After dvec to cuda: 452.032 MB\n",
      "After forward to cuda: 4351.604736 MB\n"
     ]
    },
    {
     "name": "stderr",
     "output_type": "stream",
     "text": [
      "2021-11-24 17:04:30,705 - INFO - Wrote summary at step 355\n"
     ]
    },
    {
     "name": "stdout",
     "output_type": "stream",
     "text": [
      "After input to cuda: 452.1088 MB\n",
      "\bAfter single dvec to cuda: 423.109632 MB\n",
      "\bAfter single dvec to cuda: 432.899072 MB\n",
      "\bAfter single dvec to cuda: 440.515072 MB\n",
      "\bAfter single dvec to cuda: 450.573312 MB\n",
      "After dvec to cuda: 450.577408 MB\n",
      "After forward to cuda: 4350.388736 MB\n",
      "After input to cuda: 450.859008 MB\n",
      "\bAfter single dvec to cuda: 423.442944 MB\n",
      "\bAfter single dvec to cuda: 434.050048 MB\n",
      "\bAfter single dvec to cuda: 440.310272 MB\n",
      "\bAfter single dvec to cuda: 447.924224 MB\n",
      "After dvec to cuda: 447.92832 MB\n",
      "After forward to cuda: 4347.739648 MB\n"
     ]
    },
    {
     "name": "stderr",
     "output_type": "stream",
     "text": [
      "2021-11-24 17:04:31,412 - INFO - Wrote summary at step 356\n"
     ]
    },
    {
     "name": "stdout",
     "output_type": "stream",
     "text": [
      "After input to cuda: 447.64672 MB\n",
      "\bAfter single dvec to cuda: 421.853696 MB\n",
      "\bAfter single dvec to cuda: 425.61536 MB\n",
      "\bAfter single dvec to cuda: 436.222464 MB\n",
      "\bAfter single dvec to cuda: 439.493632 MB\n",
      "After dvec to cuda: 439.497728 MB\n",
      "After forward to cuda: 4339.022336 MB\n",
      "After input to cuda: 439.420928 MB\n",
      "\bAfter single dvec to cuda: 423.108608 MB\n",
      "\bAfter single dvec to cuda: 432.356352 MB\n",
      "\bAfter single dvec to cuda: 440.514048 MB\n",
      "\bAfter single dvec to cuda: 450.300416 MB\n",
      "After dvec to cuda: 450.304512 MB\n",
      "After forward to cuda: 4349.877248 MB\n"
     ]
    },
    {
     "name": "stderr",
     "output_type": "stream",
     "text": [
      "2021-11-24 17:04:32,117 - INFO - Wrote summary at step 357\n"
     ]
    },
    {
     "name": "stdout",
     "output_type": "stream",
     "text": [
      "After input to cuda: 450.381312 MB\n",
      "\bAfter single dvec to cuda: 423.104512 MB\n",
      "\bAfter single dvec to cuda: 433.166848 MB\n",
      "\bAfter single dvec to cuda: 442.683904 MB\n",
      "\bAfter single dvec to cuda: 452.315136 MB\n",
      "After dvec to cuda: 452.319232 MB\n",
      "After forward to cuda: 4352.13056 MB\n",
      "After input to cuda: 452.319232 MB\n",
      "\bAfter single dvec to cuda: 423.209472 MB\n",
      "\bAfter single dvec to cuda: 433.120768 MB\n",
      "\bAfter single dvec to cuda: 441.826816 MB\n",
      "\bAfter single dvec to cuda: 452.225536 MB\n",
      "After dvec to cuda: 452.229632 MB\n",
      "After forward to cuda: 4352.32256 MB\n"
     ]
    },
    {
     "name": "stderr",
     "output_type": "stream",
     "text": [
      "2021-11-24 17:04:32,826 - INFO - Wrote summary at step 358\n"
     ]
    },
    {
     "name": "stdout",
     "output_type": "stream",
     "text": [
      "After input to cuda: 452.229632 MB\n",
      "\bAfter single dvec to cuda: 423.479808 MB\n",
      "\bAfter single dvec to cuda: 428.924928 MB\n",
      "\bAfter single dvec to cuda: 438.713344 MB\n",
      "\bAfter single dvec to cuda: 449.044992 MB\n",
      "After dvec to cuda: 449.049088 MB\n",
      "After forward to cuda: 4350.524928 MB\n",
      "After input to cuda: 449.86112 MB\n",
      "\bAfter single dvec to cuda: 424.022016 MB\n",
      "\bAfter single dvec to cuda: 434.352128 MB\n",
      "\bAfter single dvec to cuda: 444.41088 MB\n",
      "\bAfter single dvec to cuda: 454.74304 MB\n",
      "After dvec to cuda: 454.747136 MB\n",
      "After forward to cuda: 4353.8304 MB\n"
     ]
    },
    {
     "name": "stderr",
     "output_type": "stream",
     "text": [
      "2021-11-24 17:04:33,534 - INFO - Wrote summary at step 359\n"
     ]
    },
    {
     "name": "stdout",
     "output_type": "stream",
     "text": [
      "After input to cuda: 453.935104 MB\n",
      "\bAfter single dvec to cuda: 421.853696 MB\n",
      "\bAfter single dvec to cuda: 431.646208 MB\n",
      "\bAfter single dvec to cuda: 441.709056 MB\n",
      "\bAfter single dvec to cuda: 452.040192 MB\n",
      "After dvec to cuda: 452.044288 MB\n",
      "After forward to cuda: 4352.155648 MB\n",
      "After input to cuda: 452.56448 MB\n",
      "\bAfter single dvec to cuda: 423.68 MB\n",
      "\bAfter single dvec to cuda: 431.841792 MB\n",
      "\bAfter single dvec to cuda: 438.913024 MB\n",
      "\bAfter single dvec to cuda: 442.20928 MB\n",
      "After dvec to cuda: 442.213376 MB\n",
      "After forward to cuda: 4341.169664 MB\n"
     ]
    },
    {
     "name": "stderr",
     "output_type": "stream",
     "text": [
      "2021-11-24 17:04:34,241 - INFO - Wrote summary at step 360\n"
     ]
    },
    {
     "name": "stdout",
     "output_type": "stream",
     "text": [
      "After input to cuda: 441.616384 MB\n",
      "\bAfter single dvec to cuda: 421.774336 MB\n",
      "\bAfter single dvec to cuda: 428.303872 MB\n",
      "\bAfter single dvec to cuda: 437.006336 MB\n",
      "\bAfter single dvec to cuda: 447.400448 MB\n",
      "After dvec to cuda: 447.404544 MB\n",
      "After forward to cuda: 4346.97728 MB\n",
      "After input to cuda: 447.481344 MB\n",
      "\bAfter single dvec to cuda: 419.613696 MB\n",
      "\bAfter single dvec to cuda: 429.868032 MB\n",
      "\bAfter single dvec to cuda: 436.9152 MB\n",
      "\bAfter single dvec to cuda: 446.436352 MB\n",
      "After dvec to cuda: 446.440448 MB\n",
      "After forward to cuda: 4346.692608 MB\n"
     ]
    },
    {
     "name": "stderr",
     "output_type": "stream",
     "text": [
      "2021-11-24 17:04:34,948 - INFO - Wrote summary at step 361\n"
     ]
    },
    {
     "name": "stdout",
     "output_type": "stream",
     "text": [
      "After input to cuda: 446.440448 MB\n",
      "\bAfter single dvec to cuda: 423.18592 MB\n",
      "\bAfter single dvec to cuda: 429.586944 MB\n",
      "\bAfter single dvec to cuda: 440.732672 MB\n",
      "\bAfter single dvec to cuda: 450.249216 MB\n",
      "After dvec to cuda: 450.253312 MB\n",
      "After forward to cuda: 4350.077952 MB\n",
      "After input to cuda: 450.253312 MB\n",
      "\bAfter single dvec to cuda: 422.344192 MB\n",
      "\bAfter single dvec to cuda: 432.649728 MB\n",
      "\bAfter single dvec to cuda: 439.077888 MB\n",
      "\bAfter single dvec to cuda: 448.935424 MB\n",
      "After dvec to cuda: 448.93952 MB\n",
      "After forward to cuda: 4348.464128 MB\n"
     ]
    },
    {
     "name": "stderr",
     "output_type": "stream",
     "text": [
      "2021-11-24 17:04:35,654 - INFO - Wrote summary at step 362\n"
     ]
    },
    {
     "name": "stdout",
     "output_type": "stream",
     "text": [
      "After input to cuda: 448.86272 MB\n",
      "\bAfter single dvec to cuda: 422.242304 MB\n",
      "\bAfter single dvec to cuda: 432.551936 MB\n",
      "\bAfter single dvec to cuda: 442.88512 MB\n",
      "\bAfter single dvec to cuda: 447.78752 MB\n",
      "After dvec to cuda: 447.791616 MB\n",
      "After forward to cuda: 4348.322304 MB\n",
      "After input to cuda: 448.749568 MB\n",
      "\bAfter single dvec to cuda: 417.759232 MB\n",
      "\bAfter single dvec to cuda: 425.374208 MB\n",
      "\bAfter single dvec to cuda: 434.351104 MB\n",
      "\bAfter single dvec to cuda: 444.411392 MB\n",
      "After dvec to cuda: 444.415488 MB\n",
      "After forward to cuda: 4344.036864 MB\n"
     ]
    },
    {
     "name": "stderr",
     "output_type": "stream",
     "text": [
      "2021-11-24 17:04:36,359 - INFO - Wrote summary at step 363\n"
     ]
    },
    {
     "name": "stdout",
     "output_type": "stream",
     "text": [
      "After input to cuda: 444.131328 MB\n",
      "\bAfter single dvec to cuda: 421.906944 MB\n",
      "\bAfter single dvec to cuda: 432.511488 MB\n",
      "\bAfter single dvec to cuda: 442.301952 MB\n",
      "\bAfter single dvec to cuda: 444.19072 MB\n",
      "After dvec to cuda: 444.194816 MB\n",
      "After forward to cuda: 4344.399872 MB\n",
      "After input to cuda: 443.918336 MB\n",
      "\bAfter single dvec to cuda: 423.801344 MB\n",
      "\bAfter single dvec to cuda: 434.402816 MB\n",
      "\bAfter single dvec to cuda: 445.27616 MB\n",
      "\bAfter single dvec to cuda: 455.610368 MB\n",
      "After dvec to cuda: 455.614464 MB\n",
      "After forward to cuda: 4355.139072 MB\n"
     ]
    },
    {
     "name": "stderr",
     "output_type": "stream",
     "text": [
      "2021-11-24 17:04:37,068 - INFO - Wrote summary at step 364\n"
     ]
    },
    {
     "name": "stdout",
     "output_type": "stream",
     "text": [
      "After input to cuda: 455.614464 MB\n",
      "\bAfter single dvec to cuda: 421.360128 MB\n",
      "\bAfter single dvec to cuda: 428.353536 MB\n",
      "\bAfter single dvec to cuda: 432.985088 MB\n",
      "\bAfter single dvec to cuda: 442.233344 MB\n",
      "After dvec to cuda: 442.23744 MB\n",
      "After forward to cuda: 4341.441536 MB\n",
      "After input to cuda: 441.916928 MB\n",
      "\bAfter single dvec to cuda: 422.095872 MB\n",
      "\bAfter single dvec to cuda: 432.974336 MB\n",
      "\bAfter single dvec to cuda: 441.402368 MB\n",
      "\bAfter single dvec to cuda: 446.028288 MB\n",
      "After dvec to cuda: 446.032384 MB\n",
      "After forward to cuda: 4346.88512 MB\n"
     ]
    },
    {
     "name": "stderr",
     "output_type": "stream",
     "text": [
      "2021-11-24 17:04:37,772 - INFO - Wrote summary at step 365\n"
     ]
    },
    {
     "name": "stdout",
     "output_type": "stream",
     "text": [
      "After input to cuda: 447.068672 MB\n",
      "\bAfter single dvec to cuda: 422.885376 MB\n",
      "\bAfter single dvec to cuda: 432.674816 MB\n",
      "\bAfter single dvec to cuda: 442.737152 MB\n",
      "\bAfter single dvec to cuda: 449.728512 MB\n",
      "After dvec to cuda: 449.732608 MB\n",
      "After forward to cuda: 4348.220928 MB\n",
      "After input to cuda: 448.69632 MB\n",
      "\bAfter single dvec to cuda: 414.787584 MB\n",
      "\bAfter single dvec to cuda: 425.040896 MB\n",
      "\bAfter single dvec to cuda: 434.830848 MB\n",
      "\bAfter single dvec to cuda: 439.305216 MB\n",
      "After dvec to cuda: 439.309312 MB\n",
      "After forward to cuda: 4338.83392 MB\n"
     ]
    },
    {
     "name": "stderr",
     "output_type": "stream",
     "text": [
      "2021-11-24 17:04:38,477 - INFO - Wrote summary at step 366\n"
     ]
    },
    {
     "name": "stdout",
     "output_type": "stream",
     "text": [
      "After input to cuda: 439.309312 MB\n",
      "\bAfter single dvec to cuda: 423.750656 MB\n",
      "\bAfter single dvec to cuda: 434.084864 MB\n",
      "\bAfter single dvec to cuda: 443.871744 MB\n",
      "\bAfter single dvec to cuda: 454.207488 MB\n",
      "After dvec to cuda: 454.211584 MB\n",
      "After forward to cuda: 4354.343424 MB\n",
      "After input to cuda: 454.134784 MB\n",
      "\bAfter single dvec to cuda: 423.133184 MB\n",
      "\bAfter single dvec to cuda: 432.649216 MB\n",
      "\bAfter single dvec to cuda: 435.864576 MB\n",
      "\bAfter single dvec to cuda: 445.927936 MB\n",
      "After dvec to cuda: 445.932032 MB\n",
      "After forward to cuda: 4346.063872 MB\n"
     ]
    },
    {
     "name": "stderr",
     "output_type": "stream",
     "text": [
      "2021-11-24 17:04:39,186 - INFO - Wrote summary at step 367\n"
     ]
    },
    {
     "name": "stdout",
     "output_type": "stream",
     "text": [
      "After input to cuda: 445.932032 MB\n",
      "\bAfter single dvec to cuda: 422.838272 MB\n",
      "\bAfter single dvec to cuda: 433.146368 MB\n",
      "\bAfter single dvec to cuda: 440.491008 MB\n",
      "\bAfter single dvec to cuda: 450.279936 MB\n",
      "After dvec to cuda: 450.284032 MB\n",
      "After forward to cuda: 4349.856768 MB\n",
      "After input to cuda: 450.284032 MB\n",
      "\bAfter single dvec to cuda: 421.50656 MB\n",
      "\bAfter single dvec to cuda: 431.759872 MB\n",
      "\bAfter single dvec to cuda: 435.843584 MB\n",
      "\bAfter single dvec to cuda: 445.359616 MB\n",
      "After dvec to cuda: 445.363712 MB\n",
      "After forward to cuda: 4345.53856 MB\n"
     ]
    },
    {
     "name": "stderr",
     "output_type": "stream",
     "text": [
      "2021-11-24 17:04:39,892 - INFO - Wrote summary at step 368\n"
     ]
    },
    {
     "name": "stdout",
     "output_type": "stream",
     "text": [
      "After input to cuda: 446.042624 MB\n",
      "\bAfter single dvec to cuda: 423.763456 MB\n",
      "\bAfter single dvec to cuda: 434.368512 MB\n",
      "\bAfter single dvec to cuda: 443.833344 MB\n",
      "\bAfter single dvec to cuda: 448.734208 MB\n",
      "After dvec to cuda: 448.738304 MB\n",
      "After forward to cuda: 4347.6608 MB\n",
      "After input to cuda: 448.059392 MB\n",
      "\bAfter single dvec to cuda: 416.01792 MB\n",
      "\bAfter single dvec to cuda: 426.322432 MB\n",
      "\bAfter single dvec to cuda: 434.482688 MB\n",
      "\bAfter single dvec to cuda: 442.641408 MB\n",
      "After dvec to cuda: 442.645504 MB\n",
      "After forward to cuda: 4342.772224 MB\n"
     ]
    },
    {
     "name": "stderr",
     "output_type": "stream",
     "text": [
      "2021-11-24 17:04:40,600 - INFO - Wrote summary at step 369\n"
     ]
    },
    {
     "name": "stdout",
     "output_type": "stream",
     "text": [
      "After input to cuda: 443.247616 MB\n",
      "\bAfter single dvec to cuda: 421.83424 MB\n",
      "\bAfter single dvec to cuda: 431.89504 MB\n",
      "\bAfter single dvec to cuda: 441.411072 MB\n",
      "\bAfter single dvec to cuda: 451.198976 MB\n",
      "After dvec to cuda: 451.203072 MB\n",
      "After forward to cuda: 4351.1168 MB\n",
      "After input to cuda: 451.615744 MB\n",
      "\bAfter single dvec to cuda: 424.097792 MB\n",
      "\bAfter single dvec to cuda: 431.091712 MB\n",
      "\bAfter single dvec to cuda: 439.793664 MB\n",
      "\bAfter single dvec to cuda: 448.49664 MB\n",
      "After dvec to cuda: 448.500736 MB\n",
      "After forward to cuda: 4347.08736 MB\n"
     ]
    },
    {
     "name": "stderr",
     "output_type": "stream",
     "text": [
      "2021-11-24 17:04:41,307 - INFO - Wrote summary at step 370\n"
     ]
    },
    {
     "name": "stdout",
     "output_type": "stream",
     "text": [
      "After input to cuda: 447.562752 MB\n",
      "\bAfter single dvec to cuda: 419.89376 MB\n",
      "\bAfter single dvec to cuda: 428.114944 MB\n",
      "\bAfter single dvec to cuda: 433.757184 MB\n",
      "\bAfter single dvec to cuda: 444.013056 MB\n",
      "After dvec to cuda: 444.017152 MB\n",
      "After forward to cuda: 4344.111616 MB\n",
      "After input to cuda: 444.017152 MB\n",
      "\bAfter single dvec to cuda: 416.043008 MB\n",
      "\bAfter single dvec to cuda: 426.346496 MB\n",
      "\bAfter single dvec to cuda: 435.843584 MB\n",
      "\bAfter single dvec to cuda: 445.903872 MB\n",
      "After dvec to cuda: 445.907968 MB\n",
      "After forward to cuda: 4345.432576 MB\n"
     ]
    },
    {
     "name": "stderr",
     "output_type": "stream",
     "text": [
      "2021-11-24 17:04:42,014 - INFO - Wrote summary at step 371\n"
     ]
    },
    {
     "name": "stdout",
     "output_type": "stream",
     "text": [
      "After input to cuda: 445.831168 MB\n",
      "\bAfter single dvec to cuda: 416.096768 MB\n",
      "\bAfter single dvec to cuda: 423.44192 MB\n",
      "\bAfter single dvec to cuda: 433.72032 MB\n",
      "\bAfter single dvec to cuda: 442.692608 MB\n",
      "After dvec to cuda: 442.696704 MB\n",
      "After forward to cuda: 4342.221312 MB\n",
      "After input to cuda: 443.006976 MB\n",
      "\bAfter single dvec to cuda: 423.713792 MB\n",
      "\bAfter single dvec to cuda: 433.995264 MB\n",
      "\bAfter single dvec to cuda: 439.435776 MB\n",
      "\bAfter single dvec to cuda: 442.623488 MB\n",
      "After dvec to cuda: 442.627584 MB\n",
      "After forward to cuda: 4342.152192 MB\n"
     ]
    },
    {
     "name": "stderr",
     "output_type": "stream",
     "text": [
      "2021-11-24 17:04:42,736 - INFO - Wrote summary at step 372\n"
     ]
    },
    {
     "name": "stdout",
     "output_type": "stream",
     "text": [
      "After input to cuda: 442.627584 MB\n",
      "\bAfter single dvec to cuda: 423.341568 MB\n",
      "\bAfter single dvec to cuda: 431.55968 MB\n",
      "\bAfter single dvec to cuda: 441.347584 MB\n",
      "\bAfter single dvec to cuda: 451.137536 MB\n",
      "After dvec to cuda: 451.141632 MB\n",
      "After forward to cuda: 4351.31648 MB\n",
      "After input to cuda: 451.510272 MB\n",
      "\bAfter single dvec to cuda: 417.023488 MB\n",
      "\bAfter single dvec to cuda: 420.155392 MB\n",
      "\bAfter single dvec to cuda: 430.435328 MB\n",
      "\bAfter single dvec to cuda: 439.678976 MB\n",
      "After dvec to cuda: 439.683072 MB\n",
      "After forward to cuda: 4338.615808 MB\n"
     ]
    },
    {
     "name": "stderr",
     "output_type": "stream",
     "text": [
      "2021-11-24 17:04:43,442 - INFO - Wrote summary at step 373\n"
     ]
    },
    {
     "name": "stdout",
     "output_type": "stream",
     "text": [
      "After input to cuda: 439.693312 MB\n",
      "\bAfter single dvec to cuda: 420.559872 MB\n",
      "\bAfter single dvec to cuda: 429.536768 MB\n",
      "\bAfter single dvec to cuda: 440.13824 MB\n",
      "\bAfter single dvec to cuda: 443.678208 MB\n",
      "After dvec to cuda: 443.682304 MB\n",
      "After forward to cuda: 4343.222272 MB\n",
      "After input to cuda: 443.124224 MB\n",
      "\bAfter single dvec to cuda: 420.817408 MB\n",
      "\bAfter single dvec to cuda: 421.914624 MB\n",
      "\bAfter single dvec to cuda: 430.619648 MB\n",
      "\bAfter single dvec to cuda: 433.62048 MB\n",
      "After dvec to cuda: 433.624576 MB\n",
      "After forward to cuda: 4335.46752 MB\n"
     ]
    },
    {
     "name": "stderr",
     "output_type": "stream",
     "text": [
      "2021-11-24 17:04:44,144 - INFO - Wrote summary at step 374\n"
     ]
    },
    {
     "name": "stdout",
     "output_type": "stream",
     "text": [
      "After input to cuda: 434.358784 MB\n",
      "\bAfter single dvec to cuda: 420.196864 MB\n",
      "\bAfter single dvec to cuda: 426.99776 MB\n",
      "\bAfter single dvec to cuda: 437.331456 MB\n",
      "\bAfter single dvec to cuda: 446.580736 MB\n",
      "After dvec to cuda: 446.584832 MB\n",
      "After forward to cuda: 4347.835392 MB\n",
      "After input to cuda: 446.741504 MB\n",
      "\bAfter single dvec to cuda: 424.15616 MB\n",
      "\bAfter single dvec to cuda: 433.399808 MB\n",
      "\bAfter single dvec to cuda: 442.914304 MB\n",
      "\bAfter single dvec to cuda: 449.96096 MB\n",
      "After dvec to cuda: 449.965056 MB\n",
      "After forward to cuda: 4349.42208 MB\n"
     ]
    },
    {
     "name": "stderr",
     "output_type": "stream",
     "text": [
      "2021-11-24 17:04:44,851 - INFO - Wrote summary at step 375\n"
     ]
    },
    {
     "name": "stdout",
     "output_type": "stream",
     "text": [
      "After input to cuda: 449.380352 MB\n",
      "\bAfter single dvec to cuda: 414.875648 MB\n",
      "\bAfter single dvec to cuda: 421.949952 MB\n",
      "\bAfter single dvec to cuda: 432.2816 MB\n",
      "\bAfter single dvec to cuda: 442.611712 MB\n",
      "After dvec to cuda: 442.615808 MB\n",
      "After forward to cuda: 4343.042048 MB\n",
      "After input to cuda: 442.309632 MB\n",
      "\bAfter single dvec to cuda: 422.452736 MB\n",
      "\bAfter single dvec to cuda: 432.245248 MB\n",
      "\bAfter single dvec to cuda: 442.306048 MB\n",
      "\bAfter single dvec to cuda: 452.635648 MB\n",
      "After dvec to cuda: 452.639744 MB\n",
      "After forward to cuda: 4353.356288 MB\n"
     ]
    },
    {
     "name": "stderr",
     "output_type": "stream",
     "text": [
      "2021-11-24 17:04:45,578 - INFO - Wrote summary at step 376\n"
     ]
    },
    {
     "name": "stdout",
     "output_type": "stream",
     "text": [
      "After input to cuda: 453.76512 MB\n",
      "\bAfter single dvec to cuda: 423.57248 MB\n",
      "\bAfter single dvec to cuda: 433.089536 MB\n",
      "\bAfter single dvec to cuda: 440.16384 MB\n",
      "\bAfter single dvec to cuda: 445.332992 MB\n",
      "After dvec to cuda: 445.337088 MB\n",
      "After forward to cuda: 4344.125952 MB\n",
      "After input to cuda: 444.541952 MB\n",
      "\bAfter single dvec to cuda: 423.545856 MB\n",
      "\bAfter single dvec to cuda: 431.7056 MB\n",
      "\bAfter single dvec to cuda: 441.769472 MB\n",
      "\bAfter single dvec to cuda: 450.016256 MB\n",
      "After dvec to cuda: 450.020352 MB\n",
      "After forward to cuda: 4349.54496 MB\n"
     ]
    },
    {
     "name": "stderr",
     "output_type": "stream",
     "text": [
      "2021-11-24 17:04:46,284 - INFO - Wrote summary at step 377\n"
     ]
    },
    {
     "name": "stdout",
     "output_type": "stream",
     "text": [
      "After input to cuda: 449.905664 MB\n",
      "\bAfter single dvec to cuda: 421.580288 MB\n",
      "\bAfter single dvec to cuda: 432.185856 MB\n",
      "\bAfter single dvec to cuda: 442.438656 MB\n",
      "\bAfter single dvec to cuda: 452.770304 MB\n",
      "After dvec to cuda: 452.7744 MB\n",
      "After forward to cuda: 4352.029184 MB\n",
      "After input to cuda: 452.504576 MB\n",
      "\bAfter single dvec to cuda: 422.816256 MB\n",
      "\bAfter single dvec to cuda: 430.43584 MB\n",
      "\bAfter single dvec to cuda: 437.236224 MB\n",
      "\bAfter single dvec to cuda: 445.121536 MB\n",
      "After dvec to cuda: 445.125632 MB\n",
      "After forward to cuda: 4345.6256 MB\n"
     ]
    },
    {
     "name": "stderr",
     "output_type": "stream",
     "text": [
      "2021-11-24 17:04:46,992 - INFO - Wrote summary at step 378\n"
     ]
    },
    {
     "name": "stdout",
     "output_type": "stream",
     "text": [
      "After input to cuda: 445.125632 MB\n",
      "\bAfter single dvec to cuda: 423.105536 MB\n",
      "\bAfter single dvec to cuda: 433.167872 MB\n",
      "\bAfter single dvec to cuda: 442.68288 MB\n",
      "\bAfter single dvec to cuda: 445.68064 MB\n",
      "After dvec to cuda: 445.684736 MB\n",
      "After forward to cuda: 4345.969152 MB\n",
      "After input to cuda: 445.684736 MB\n",
      "\bAfter single dvec to cuda: 423.18592 MB\n",
      "\bAfter single dvec to cuda: 434.202112 MB\n",
      "\bAfter single dvec to cuda: 443.447808 MB\n",
      "\bAfter single dvec to cuda: 450.791936 MB\n",
      "After dvec to cuda: 450.796032 MB\n",
      "After forward to cuda: 4350.482432 MB\n"
     ]
    },
    {
     "name": "stderr",
     "output_type": "stream",
     "text": [
      "2021-11-24 17:04:47,699 - INFO - Wrote summary at step 379\n"
     ]
    },
    {
     "name": "stdout",
     "output_type": "stream",
     "text": [
      "After input to cuda: 450.986496 MB\n",
      "\bAfter single dvec to cuda: 422.04416 MB\n",
      "\bAfter single dvec to cuda: 432.376832 MB\n",
      "\bAfter single dvec to cuda: 438.606336 MB\n",
      "\bAfter single dvec to cuda: 448.668672 MB\n",
      "After dvec to cuda: 448.672768 MB\n",
      "After forward to cuda: 4348.327424 MB\n",
      "After input to cuda: 448.482304 MB\n",
      "\bAfter single dvec to cuda: 421.582336 MB\n",
      "\bAfter single dvec to cuda: 431.916544 MB\n",
      "\bAfter single dvec to cuda: 442.248192 MB\n",
      "\bAfter single dvec to cuda: 444.975616 MB\n",
      "After dvec to cuda: 444.979712 MB\n",
      "After forward to cuda: 4345.509888 MB\n"
     ]
    },
    {
     "name": "stderr",
     "output_type": "stream",
     "text": [
      "2021-11-24 17:04:48,405 - INFO - Wrote summary at step 380\n"
     ]
    },
    {
     "name": "stdout",
     "output_type": "stream",
     "text": [
      "After input to cuda: 446.013952 MB\n",
      "\bAfter single dvec to cuda: 424.190976 MB\n",
      "\bAfter single dvec to cuda: 433.982464 MB\n",
      "\bAfter single dvec to cuda: 435.462144 MB\n",
      "\bAfter single dvec to cuda: 440.902656 MB\n",
      "After dvec to cuda: 440.906752 MB\n",
      "After forward to cuda: 4340.43136 MB\n",
      "After input to cuda: 439.872512 MB\n",
      "\bAfter single dvec to cuda: 418.322944 MB\n",
      "\bAfter single dvec to cuda: 428.576256 MB\n",
      "\bAfter single dvec to cuda: 438.90944 MB\n",
      "\bAfter single dvec to cuda: 449.2416 MB\n",
      "After dvec to cuda: 449.245696 MB\n",
      "After forward to cuda: 4349.338624 MB\n"
     ]
    },
    {
     "name": "stderr",
     "output_type": "stream",
     "text": [
      "2021-11-24 17:04:49,110 - INFO - Wrote summary at step 381\n"
     ]
    },
    {
     "name": "stdout",
     "output_type": "stream",
     "text": [
      "After input to cuda: 449.245696 MB\n",
      "\bAfter single dvec to cuda: 421.036032 MB\n",
      "\bAfter single dvec to cuda: 431.098368 MB\n",
      "\bAfter single dvec to cuda: 441.160704 MB\n",
      "\bAfter single dvec to cuda: 447.84128 MB\n",
      "After dvec to cuda: 447.845376 MB\n",
      "After forward to cuda: 4347.938304 MB\n",
      "After input to cuda: 448.442368 MB\n",
      "\bAfter single dvec to cuda: 422.447616 MB\n",
      "\bAfter single dvec to cuda: 430.877184 MB\n",
      "\bAfter single dvec to cuda: 439.850496 MB\n",
      "\bAfter single dvec to cuda: 450.182656 MB\n",
      "After dvec to cuda: 450.186752 MB\n",
      "After forward to cuda: 4349.55264 MB\n"
     ]
    },
    {
     "name": "stderr",
     "output_type": "stream",
     "text": [
      "2021-11-24 17:04:49,819 - INFO - Wrote summary at step 382\n"
     ]
    },
    {
     "name": "stdout",
     "output_type": "stream",
     "text": [
      "After input to cuda: 449.58976 MB\n",
      "\bAfter single dvec to cuda: 423.186944 MB\n",
      "\bAfter single dvec to cuda: 433.794048 MB\n",
      "\bAfter single dvec to cuda: 437.335552 MB\n",
      "\bAfter single dvec to cuda: 446.580224 MB\n",
      "After dvec to cuda: 446.58432 MB\n",
      "After forward to cuda: 4346.377216 MB\n",
      "After input to cuda: 446.88128 MB\n",
      "\bAfter single dvec to cuda: 423.481344 MB\n",
      "\bAfter single dvec to cuda: 430.01088 MB\n",
      "\bAfter single dvec to cuda: 439.2576 MB\n",
      "\bAfter single dvec to cuda: 447.691776 MB\n",
      "After dvec to cuda: 447.695872 MB\n",
      "After forward to cuda: 4348.927488 MB\n"
     ]
    },
    {
     "name": "stderr",
     "output_type": "stream",
     "text": [
      "2021-11-24 17:04:50,524 - INFO - Wrote summary at step 383\n"
     ]
    },
    {
     "name": "stdout",
     "output_type": "stream",
     "text": [
      "After input to cuda: 447.798272 MB\n",
      "\bAfter single dvec to cuda: 421.982208 MB\n",
      "\bAfter single dvec to cuda: 432.313344 MB\n",
      "\bAfter single dvec to cuda: 441.829376 MB\n",
      "\bAfter single dvec to cuda: 451.078656 MB\n",
      "After dvec to cuda: 451.082752 MB\n",
      "After forward to cuda: 4351.458304 MB\n",
      "After input to cuda: 451.933696 MB\n",
      "\bAfter single dvec to cuda: 423.102464 MB\n",
      "\bAfter single dvec to cuda: 424.740864 MB\n",
      "\bAfter single dvec to cuda: 435.341824 MB\n",
      "\bAfter single dvec to cuda: 442.9568 MB\n",
      "After dvec to cuda: 442.960896 MB\n",
      "After forward to cuda: 4341.2352 MB\n"
     ]
    },
    {
     "name": "stderr",
     "output_type": "stream",
     "text": [
      "2021-11-24 17:04:51,259 - INFO - Wrote summary at step 384\n"
     ]
    },
    {
     "name": "stdout",
     "output_type": "stream",
     "text": [
      "After input to cuda: 442.109952 MB\n",
      "\bAfter single dvec to cuda: 420.894208 MB\n",
      "\bAfter single dvec to cuda: 431.63136 MB\n",
      "\bAfter single dvec to cuda: 433.113088 MB\n",
      "\bAfter single dvec to cuda: 443.171328 MB\n",
      "After dvec to cuda: 443.175424 MB\n",
      "After forward to cuda: 4343.904256 MB\n",
      "After input to cuda: 442.776064 MB\n",
      "\bAfter single dvec to cuda: 422.836736 MB\n",
      "\bAfter single dvec to cuda: 428.671488 MB\n",
      "\bAfter single dvec to cuda: 433.843712 MB\n",
      "\bAfter single dvec to cuda: 442.273792 MB\n",
      "After dvec to cuda: 442.277888 MB\n",
      "After forward to cuda: 4342.53824 MB\n"
     ]
    },
    {
     "name": "stderr",
     "output_type": "stream",
     "text": [
      "2021-11-24 17:04:51,964 - INFO - Wrote summary at step 385\n"
     ]
    },
    {
     "name": "stdout",
     "output_type": "stream",
     "text": [
      "After input to cuda: 442.277888 MB\n",
      "\bAfter single dvec to cuda: 423.480832 MB\n",
      "\bAfter single dvec to cuda: 432.54528 MB\n",
      "\bAfter single dvec to cuda: 442.580992 MB\n",
      "\bAfter single dvec to cuda: 452.834816 MB\n",
      "After dvec to cuda: 452.838912 MB\n",
      "After forward to cuda: 4352.36352 MB\n",
      "After input to cuda: 452.838912 MB\n",
      "\bAfter single dvec to cuda: 420.22144 MB\n",
      "\bAfter single dvec to cuda: 430.232576 MB\n",
      "\bAfter single dvec to cuda: 440.567296 MB\n",
      "\bAfter single dvec to cuda: 447.909888 MB\n",
      "After dvec to cuda: 447.913984 MB\n",
      "After forward to cuda: 4347.753984 MB\n"
     ]
    },
    {
     "name": "stderr",
     "output_type": "stream",
     "text": [
      "2021-11-24 17:04:52,719 - INFO - Wrote summary at step 386\n"
     ]
    },
    {
     "name": "stdout",
     "output_type": "stream",
     "text": [
      "After input to cuda: 448.229376 MB\n",
      "\bAfter single dvec to cuda: 414.674432 MB\n",
      "\bAfter single dvec to cuda: 419.571712 MB\n",
      "\bAfter single dvec to cuda: 424.474112 MB\n",
      "\bAfter single dvec to cuda: 435.346944 MB\n",
      "After dvec to cuda: 435.35104 MB\n",
      "After forward to cuda: 4334.979072 MB\n",
      "After input to cuda: 435.454464 MB\n",
      "\bAfter single dvec to cuda: 421.183488 MB\n",
      "\bAfter single dvec to cuda: 429.617152 MB\n",
      "\bAfter single dvec to cuda: 438.589952 MB\n",
      "\bAfter single dvec to cuda: 447.836672 MB\n",
      "After dvec to cuda: 447.840768 MB\n",
      "After forward to cuda: 4347.953152 MB\n"
     ]
    },
    {
     "name": "stderr",
     "output_type": "stream",
     "text": [
      "2021-11-24 17:04:53,425 - INFO - Wrote summary at step 387\n"
     ]
    },
    {
     "name": "stdout",
     "output_type": "stream",
     "text": [
      "After input to cuda: 448.018944 MB\n",
      "\bAfter single dvec to cuda: 423.730176 MB\n",
      "\bAfter single dvec to cuda: 434.064384 MB\n",
      "\bAfter single dvec to cuda: 444.937728 MB\n",
      "\bAfter single dvec to cuda: 455.273472 MB\n",
      "After dvec to cuda: 455.277568 MB\n",
      "After forward to cuda: 4354.630656 MB\n",
      "After input to cuda: 455.001088 MB\n",
      "\bAfter single dvec to cuda: 420.273152 MB\n",
      "\bAfter single dvec to cuda: 430.336512 MB\n",
      "\bAfter single dvec to cuda: 434.693632 MB\n",
      "\bAfter single dvec to cuda: 442.851328 MB\n",
      "After dvec to cuda: 442.855424 MB\n",
      "After forward to cuda: 4342.405632 MB\n"
     ]
    },
    {
     "name": "stderr",
     "output_type": "stream",
     "text": [
      "2021-11-24 17:04:54,166 - INFO - Wrote summary at step 388\n"
     ]
    },
    {
     "name": "stdout",
     "output_type": "stream",
     "text": [
      "After input to cuda: 442.909696 MB\n",
      "\bAfter single dvec to cuda: 415.706624 MB\n",
      "\bAfter single dvec to cuda: 424.955904 MB\n",
      "\bAfter single dvec to cuda: 433.252352 MB\n",
      "\bAfter single dvec to cuda: 440.868864 MB\n",
      "After dvec to cuda: 440.87296 MB\n",
      "After forward to cuda: 4340.077056 MB\n",
      "After input to cuda: 440.818688 MB\n",
      "\bAfter single dvec to cuda: 423.532032 MB\n",
      "\bAfter single dvec to cuda: 431.422464 MB\n",
      "\bAfter single dvec to cuda: 439.854592 MB\n",
      "\bAfter single dvec to cuda: 449.372672 MB\n",
      "After dvec to cuda: 449.376768 MB\n",
      "After forward to cuda: 4349.793792 MB\n"
     ]
    },
    {
     "name": "stderr",
     "output_type": "stream",
     "text": [
      "2021-11-24 17:04:54,889 - INFO - Wrote summary at step 389\n"
     ]
    },
    {
     "name": "stdout",
     "output_type": "stream",
     "text": [
      "After input to cuda: 449.832448 MB\n",
      "\bAfter single dvec to cuda: 423.95904 MB\n",
      "\bAfter single dvec to cuda: 433.20576 MB\n",
      "\bAfter single dvec to cuda: 443.267072 MB\n",
      "\bAfter single dvec to cuda: 451.971584 MB\n",
      "After dvec to cuda: 451.97568 MB\n",
      "After forward to cuda: 4351.674368 MB\n",
      "After input to cuda: 451.199488 MB\n",
      "\bAfter single dvec to cuda: 423.206912 MB\n",
      "\bAfter single dvec to cuda: 433.542144 MB\n",
      "\bAfter single dvec to cuda: 442.243584 MB\n",
      "\bAfter single dvec to cuda: 444.125696 MB\n",
      "After dvec to cuda: 444.129792 MB\n",
      "After forward to cuda: 4344.347648 MB\n"
     ]
    },
    {
     "name": "stderr",
     "output_type": "stream",
     "text": [
      "2021-11-24 17:04:55,638 - INFO - Wrote summary at step 390\n"
     ]
    },
    {
     "name": "stdout",
     "output_type": "stream",
     "text": [
      "After input to cuda: 444.24448 MB\n",
      "\bAfter single dvec to cuda: 421.96736 MB\n",
      "\bAfter single dvec to cuda: 432.574464 MB\n",
      "\bAfter single dvec to cuda: 442.364928 MB\n",
      "\bAfter single dvec to cuda: 443.733504 MB\n",
      "After dvec to cuda: 443.7376 MB\n",
      "After forward to cuda: 4343.262208 MB\n",
      "After input to cuda: 443.622912 MB\n",
      "\bAfter single dvec to cuda: 423.158272 MB\n",
      "\bAfter single dvec to cuda: 434.033664 MB\n",
      "\bAfter single dvec to cuda: 443.008 MB\n",
      "\bAfter single dvec to cuda: 451.708928 MB\n",
      "After dvec to cuda: 451.713024 MB\n",
      "After forward to cuda: 4351.839744 MB\n"
     ]
    },
    {
     "name": "stderr",
     "output_type": "stream",
     "text": [
      "2021-11-24 17:04:56,345 - INFO - Wrote summary at step 391\n"
     ]
    },
    {
     "name": "stdout",
     "output_type": "stream",
     "text": [
      "After input to cuda: 452.315136 MB\n",
      "\bAfter single dvec to cuda: 423.387648 MB\n",
      "\bAfter single dvec to cuda: 427.198976 MB\n",
      "\bAfter single dvec to cuda: 435.084288 MB\n",
      "\bAfter single dvec to cuda: 444.772352 MB\n",
      "After dvec to cuda: 444.776448 MB\n",
      "After forward to cuda: 4344.73216 MB\n",
      "After input to cuda: 444.93056 MB\n",
      "\bAfter single dvec to cuda: 422.336512 MB\n",
      "\bAfter single dvec to cuda: 431.31392 MB\n",
      "\bAfter single dvec to cuda: 441.645568 MB\n",
      "\bAfter single dvec to cuda: 451.70688 MB\n",
      "After dvec to cuda: 451.710976 MB\n",
      "After forward to cuda: 4351.235584 MB\n"
     ]
    },
    {
     "name": "stderr",
     "output_type": "stream",
     "text": [
      "2021-11-24 17:04:57,051 - INFO - Wrote summary at step 392\n"
     ]
    },
    {
     "name": "stdout",
     "output_type": "stream",
     "text": [
      "After input to cuda: 451.710976 MB\n",
      "\bAfter single dvec to cuda: 419.075584 MB\n",
      "\bAfter single dvec to cuda: 429.303808 MB\n",
      "\bAfter single dvec to cuda: 432.576 MB\n",
      "\bAfter single dvec to cuda: 442.367488 MB\n",
      "After dvec to cuda: 442.371584 MB\n",
      "After forward to cuda: 4343.604224 MB\n",
      "After input to cuda: 442.15808 MB\n",
      "\bAfter single dvec to cuda: 423.282688 MB\n",
      "\bAfter single dvec to cuda: 430.900224 MB\n",
      "\bAfter single dvec to cuda: 439.6032 MB\n",
      "\bAfter single dvec to cuda: 450.20416 MB\n",
      "After dvec to cuda: 450.208256 MB\n",
      "After forward to cuda: 4350.524928 MB\n"
     ]
    },
    {
     "name": "stderr",
     "output_type": "stream",
     "text": [
      "2021-11-24 17:04:57,776 - INFO - Wrote summary at step 393\n"
     ]
    },
    {
     "name": "stdout",
     "output_type": "stream",
     "text": [
      "After input to cuda: 449.665536 MB\n",
      "\bAfter single dvec to cuda: 423.211008 MB\n",
      "\bAfter single dvec to cuda: 432.188416 MB\n",
      "\bAfter single dvec to cuda: 441.434112 MB\n",
      "\bAfter single dvec to cuda: 451.492864 MB\n",
      "After dvec to cuda: 451.49696 MB\n",
      "After forward to cuda: 4351.999488 MB\n",
      "After input to cuda: 451.49696 MB\n",
      "\bAfter single dvec to cuda: 423.105536 MB\n",
      "\bAfter single dvec to cuda: 432.621568 MB\n",
      "\bAfter single dvec to cuda: 442.140672 MB\n",
      "\bAfter single dvec to cuda: 451.385856 MB\n",
      "After dvec to cuda: 451.389952 MB\n",
      "After forward to cuda: 4352.247808 MB\n"
     ]
    },
    {
     "name": "stderr",
     "output_type": "stream",
     "text": [
      "2021-11-24 17:04:58,484 - INFO - Wrote summary at step 394\n"
     ]
    },
    {
     "name": "stdout",
     "output_type": "stream",
     "text": [
      "After input to cuda: 452.391424 MB\n",
      "\bAfter single dvec to cuda: 422.041088 MB\n",
      "\bAfter single dvec to cuda: 431.014912 MB\n",
      "\bAfter single dvec to cuda: 441.077248 MB\n",
      "\bAfter single dvec to cuda: 450.322432 MB\n",
      "After dvec to cuda: 450.326528 MB\n",
      "After forward to cuda: 4348.93568 MB\n",
      "After input to cuda: 449.439744 MB\n",
      "\bAfter single dvec to cuda: 423.595008 MB\n",
      "\bAfter single dvec to cuda: 432.02304 MB\n",
      "\bAfter single dvec to cuda: 436.921344 MB\n",
      "\bAfter single dvec to cuda: 446.13888 MB\n",
      "After dvec to cuda: 446.142976 MB\n",
      "After forward to cuda: 4345.717248 MB\n"
     ]
    },
    {
     "name": "stderr",
     "output_type": "stream",
     "text": [
      "2021-11-24 17:04:59,191 - INFO - Wrote summary at step 395\n"
     ]
    },
    {
     "name": "stdout",
     "output_type": "stream",
     "text": [
      "After input to cuda: 446.028288 MB\n",
      "\bAfter single dvec to cuda: 415.604736 MB\n",
      "\bAfter single dvec to cuda: 424.851968 MB\n",
      "\bAfter single dvec to cuda: 434.737664 MB\n",
      "\bAfter single dvec to cuda: 445.044224 MB\n",
      "After dvec to cuda: 445.04832 MB\n",
      "After forward to cuda: 4346.52672 MB\n",
      "After input to cuda: 446.08256 MB\n",
      "\bAfter single dvec to cuda: 416.910336 MB\n",
      "\bAfter single dvec to cuda: 422.897664 MB\n",
      "\bAfter single dvec to cuda: 433.150464 MB\n",
      "\bAfter single dvec to cuda: 442.128384 MB\n",
      "After dvec to cuda: 442.13248 MB\n",
      "After forward to cuda: 4343.279616 MB\n"
     ]
    },
    {
     "name": "stderr",
     "output_type": "stream",
     "text": [
      "2021-11-24 17:04:59,898 - INFO - Wrote summary at step 396\n"
     ]
    },
    {
     "name": "stdout",
     "output_type": "stream",
     "text": [
      "After input to cuda: 441.791488 MB\n",
      "\bAfter single dvec to cuda: 423.798272 MB\n",
      "\bAfter single dvec to cuda: 430.743552 MB\n",
      "\bAfter single dvec to cuda: 438.362624 MB\n",
      "\bAfter single dvec to cuda: 447.606784 MB\n",
      "After dvec to cuda: 447.61088 MB\n",
      "After forward to cuda: 4347.135488 MB\n",
      "After input to cuda: 446.917632 MB\n",
      "\bAfter single dvec to cuda: 417.779712 MB\n",
      "\bAfter single dvec to cuda: 426.971648 MB\n",
      "\bAfter single dvec to cuda: 435.943936 MB\n",
      "\bAfter single dvec to cuda: 444.918784 MB\n",
      "After dvec to cuda: 444.92288 MB\n",
      "After forward to cuda: 4345.020928 MB\n"
     ]
    },
    {
     "name": "stderr",
     "output_type": "stream",
     "text": [
      "2021-11-24 17:05:00,642 - INFO - Wrote summary at step 397\n"
     ]
    },
    {
     "name": "stdout",
     "output_type": "stream",
     "text": [
      "After input to cuda: 444.92288 MB\n",
      "\bAfter single dvec to cuda: 416.716288 MB\n",
      "\bAfter single dvec to cuda: 427.021312 MB\n",
      "\bAfter single dvec to cuda: 436.955648 MB\n",
      "\bAfter single dvec to cuda: 446.199808 MB\n",
      "After dvec to cuda: 446.203904 MB\n",
      "After forward to cuda: 4346.676736 MB\n",
      "After input to cuda: 446.203904 MB\n",
      "\bAfter single dvec to cuda: 416.715264 MB\n",
      "\bAfter single dvec to cuda: 427.049984 MB\n",
      "\bAfter single dvec to cuda: 430.58944 MB\n",
      "\bAfter single dvec to cuda: 440.501248 MB\n",
      "After dvec to cuda: 440.505344 MB\n",
      "After forward to cuda: 4340.978176 MB\n"
     ]
    },
    {
     "name": "stderr",
     "output_type": "stream",
     "text": [
      "2021-11-24 17:05:01,346 - INFO - Wrote summary at step 398\n"
     ]
    },
    {
     "name": "stdout",
     "output_type": "stream",
     "text": [
      "After input to cuda: 440.505344 MB\n",
      "\bAfter single dvec to cuda: 423.478784 MB\n",
      "\bAfter single dvec to cuda: 433.786368 MB\n",
      "\bAfter single dvec to cuda: 440.590336 MB\n",
      "\bAfter single dvec to cuda: 450.652672 MB\n",
      "After dvec to cuda: 450.656768 MB\n",
      "After forward to cuda: 4352.549888 MB\n",
      "After input to cuda: 451.056128 MB\n",
      "\bAfter single dvec to cuda: 416.278016 MB\n",
      "\bAfter single dvec to cuda: 426.584064 MB\n",
      "\bAfter single dvec to cuda: 433.657344 MB\n",
      "\bAfter single dvec to cuda: 437.472768 MB\n",
      "After dvec to cuda: 437.476864 MB\n",
      "After forward to cuda: 4336.62464 MB\n"
     ]
    },
    {
     "name": "stderr",
     "output_type": "stream",
     "text": [
      "2021-11-24 17:05:02,068 - INFO - Wrote summary at step 399\n"
     ]
    },
    {
     "name": "stdout",
     "output_type": "stream",
     "text": [
      "After input to cuda: 437.128704 MB\n",
      "\bAfter single dvec to cuda: 419.72736 MB\n",
      "\bAfter single dvec to cuda: 428.4288 MB\n",
      "\bAfter single dvec to cuda: 437.402112 MB\n",
      "\bAfter single dvec to cuda: 444.206592 MB\n",
      "After dvec to cuda: 444.210688 MB\n",
      "After forward to cuda: 4344.552448 MB\n",
      "After input to cuda: 444.75648 MB\n",
      "\bAfter single dvec to cuda: 424.080384 MB\n",
      "\bAfter single dvec to cuda: 434.334208 MB\n",
      "\bAfter single dvec to cuda: 444.12416 MB\n",
      "\bAfter single dvec to cuda: 445.2224 MB\n",
      "After dvec to cuda: 445.226496 MB\n",
      "After forward to cuda: 4345.121792 MB\n"
     ]
    },
    {
     "name": "stderr",
     "output_type": "stream",
     "text": [
      "2021-11-24 17:05:02,773 - INFO - Wrote summary at step 400\n"
     ]
    },
    {
     "name": "stdout",
     "output_type": "stream",
     "text": [
      "After input to cuda: 445.226496 MB\n",
      "\bAfter single dvec to cuda: 417.287168 MB\n",
      "\bAfter single dvec to cuda: 427.514368 MB\n",
      "\bAfter single dvec to cuda: 433.50016 MB\n",
      "\bAfter single dvec to cuda: 443.291648 MB\n",
      "After dvec to cuda: 443.295744 MB\n",
      "After forward to cuda: 4342.68416 MB\n",
      "After input to cuda: 442.698752 MB\n",
      "\bAfter single dvec to cuda: 421.310976 MB\n",
      "\bAfter single dvec to cuda: 430.285824 MB\n",
      "\bAfter single dvec to cuda: 439.53408 MB\n",
      "\bAfter single dvec to cuda: 446.577664 MB\n",
      "After dvec to cuda: 446.58176 MB\n",
      "After forward to cuda: 4346.929664 MB\n"
     ]
    },
    {
     "name": "stderr",
     "output_type": "stream",
     "text": [
      "2021-11-24 17:05:03,479 - INFO - Wrote summary at step 401\n"
     ]
    },
    {
     "name": "stdout",
     "output_type": "stream",
     "text": [
      "After input to cuda: 447.433728 MB\n",
      "\bAfter single dvec to cuda: 421.071872 MB\n",
      "\bAfter single dvec to cuda: 431.672832 MB\n",
      "\bAfter single dvec to cuda: 442.819072 MB\n",
      "\bAfter single dvec to cuda: 450.97984 MB\n",
      "After dvec to cuda: 450.983936 MB\n",
      "After forward to cuda: 4351.894016 MB\n",
      "After input to cuda: 451.546112 MB\n",
      "\bAfter single dvec to cuda: 424.892928 MB\n",
      "\bAfter single dvec to cuda: 429.79328 MB\n",
      "\bAfter single dvec to cuda: 438.770176 MB\n",
      "\bAfter single dvec to cuda: 447.4752 MB\n",
      "After dvec to cuda: 447.479296 MB\n",
      "After forward to cuda: 4346.401792 MB\n"
     ]
    },
    {
     "name": "stderr",
     "output_type": "stream",
     "text": [
      "2021-11-24 17:05:04,184 - INFO - Wrote summary at step 402\n"
     ]
    },
    {
     "name": "stdout",
     "output_type": "stream",
     "text": [
      "After input to cuda: 446.065152 MB\n",
      "\bAfter single dvec to cuda: 423.135744 MB\n",
      "\bAfter single dvec to cuda: 430.752768 MB\n",
      "\bAfter single dvec to cuda: 441.088 MB\n",
      "\bAfter single dvec to cuda: 449.792512 MB\n",
      "After dvec to cuda: 449.796608 MB\n",
      "After forward to cuda: 4350.029824 MB\n",
      "After input to cuda: 450.533888 MB\n",
      "\bAfter single dvec to cuda: 415.5264 MB\n",
      "\bAfter single dvec to cuda: 423.95904 MB\n",
      "\bAfter single dvec to cuda: 433.478656 MB\n",
      "\bAfter single dvec to cuda: 442.942464 MB\n",
      "After dvec to cuda: 442.94656 MB\n",
      "After forward to cuda: 4341.848576 MB\n"
     ]
    },
    {
     "name": "stderr",
     "output_type": "stream",
     "text": [
      "2021-11-24 17:05:04,891 - INFO - Wrote summary at step 403\n"
     ]
    },
    {
     "name": "stdout",
     "output_type": "stream",
     "text": [
      "After input to cuda: 442.323968 MB\n",
      "\bAfter single dvec to cuda: 417.8944 MB\n",
      "\bAfter single dvec to cuda: 428.198912 MB\n",
      "\bAfter single dvec to cuda: 439.072256 MB\n",
      "\bAfter single dvec to cuda: 448.864256 MB\n",
      "After dvec to cuda: 448.868352 MB\n",
      "After forward to cuda: 4349.023232 MB\n",
      "After input to cuda: 448.753664 MB\n",
      "\bAfter single dvec to cuda: 420.493824 MB\n",
      "\bAfter single dvec to cuda: 430.662144 MB\n",
      "\bAfter single dvec to cuda: 434.47552 MB\n",
      "\bAfter single dvec to cuda: 444.703232 MB\n",
      "After dvec to cuda: 444.707328 MB\n",
      "After forward to cuda: 4345.46688 MB\n"
     ]
    },
    {
     "name": "stderr",
     "output_type": "stream",
     "text": [
      "2021-11-24 17:05:05,598 - INFO - Wrote summary at step 404\n"
     ]
    },
    {
     "name": "stdout",
     "output_type": "stream",
     "text": [
      "After input to cuda: 444.707328 MB\n",
      "\bAfter single dvec to cuda: 422.791168 MB\n",
      "\bAfter single dvec to cuda: 429.969408 MB\n",
      "\bAfter single dvec to cuda: 433.806848 MB\n",
      "\bAfter single dvec to cuda: 444.13952 MB\n",
      "After dvec to cuda: 444.143616 MB\n",
      "After forward to cuda: 4343.668224 MB\n",
      "After input to cuda: 444.143616 MB\n",
      "\bAfter single dvec to cuda: 423.209984 MB\n",
      "\bAfter single dvec to cuda: 432.456704 MB\n",
      "\bAfter single dvec to cuda: 441.972736 MB\n",
      "\bAfter single dvec to cuda: 447.684608 MB\n",
      "After dvec to cuda: 447.688704 MB\n",
      "After forward to cuda: 4348.906496 MB\n"
     ]
    },
    {
     "name": "stderr",
     "output_type": "stream",
     "text": [
      "2021-11-24 17:05:06,305 - INFO - Wrote summary at step 405\n"
     ]
    },
    {
     "name": "stdout",
     "output_type": "stream",
     "text": [
      "After input to cuda: 448.285696 MB\n",
      "\bAfter single dvec to cuda: 423.704064 MB\n",
      "\bAfter single dvec to cuda: 427.51744 MB\n",
      "\bAfter single dvec to cuda: 437.037568 MB\n",
      "\bAfter single dvec to cuda: 446.82496 MB\n",
      "After dvec to cuda: 446.829056 MB\n",
      "After forward to cuda: 4346.353664 MB\n",
      "After input to cuda: 446.829056 MB\n",
      "\bAfter single dvec to cuda: 423.779328 MB\n",
      "\bAfter single dvec to cuda: 433.025024 MB\n",
      "\bAfter single dvec to cuda: 440.370176 MB\n",
      "\bAfter single dvec to cuda: 449.88928 MB\n",
      "After dvec to cuda: 449.893376 MB\n",
      "After forward to cuda: 4348.820992 MB\n"
     ]
    },
    {
     "name": "stderr",
     "output_type": "stream",
     "text": [
      "2021-11-24 17:05:07,011 - INFO - Wrote summary at step 406\n"
     ]
    },
    {
     "name": "stdout",
     "output_type": "stream",
     "text": [
      "After input to cuda: 450.092032 MB\n",
      "\bAfter single dvec to cuda: 422.375936 MB\n",
      "\bAfter single dvec to cuda: 427.82208 MB\n",
      "\bAfter single dvec to cuda: 438.42816 MB\n",
      "\bAfter single dvec to cuda: 446.588928 MB\n",
      "After dvec to cuda: 446.593024 MB\n",
      "After forward to cuda: 4346.401792 MB\n",
      "After input to cuda: 445.797376 MB\n",
      "\bAfter single dvec to cuda: 423.160832 MB\n",
      "\bAfter single dvec to cuda: 433.767936 MB\n",
      "\bAfter single dvec to cuda: 441.928192 MB\n",
      "\bAfter single dvec to cuda: 450.905088 MB\n",
      "After dvec to cuda: 450.909184 MB\n",
      "After forward to cuda: 4350.715392 MB\n"
     ]
    },
    {
     "name": "stderr",
     "output_type": "stream",
     "text": [
      "2021-11-24 17:05:07,719 - INFO - Wrote summary at step 407\n"
     ]
    },
    {
     "name": "stdout",
     "output_type": "stream",
     "text": [
      "After input to cuda: 451.269632 MB\n",
      "\bAfter single dvec to cuda: 423.568896 MB\n",
      "\bAfter single dvec to cuda: 430.302208 MB\n",
      "\bAfter single dvec to cuda: 439.279616 MB\n",
      "\bAfter single dvec to cuda: 446.270976 MB\n",
      "After dvec to cuda: 446.275072 MB\n",
      "After forward to cuda: 4346.105344 MB\n",
      "After input to cuda: 445.914624 MB\n",
      "\bAfter single dvec to cuda: 423.18592 MB\n",
      "\bAfter single dvec to cuda: 430.531072 MB\n",
      "\bAfter single dvec to cuda: 438.418432 MB\n",
      "\bAfter single dvec to cuda: 446.305792 MB\n",
      "After dvec to cuda: 446.309888 MB\n",
      "After forward to cuda: 4347.102208 MB\n"
     ]
    },
    {
     "name": "stderr",
     "output_type": "stream",
     "text": [
      "2021-11-24 17:05:08,424 - INFO - Wrote summary at step 408\n"
     ]
    },
    {
     "name": "stdout",
     "output_type": "stream",
     "text": [
      "After input to cuda: 446.970368 MB\n",
      "\bAfter single dvec to cuda: 420.558848 MB\n",
      "\bAfter single dvec to cuda: 423.561216 MB\n",
      "\bAfter single dvec to cuda: 433.818112 MB\n",
      "\bAfter single dvec to cuda: 443.608064 MB\n",
      "After dvec to cuda: 443.61216 MB\n",
      "After forward to cuda: 4342.885888 MB\n",
      "After input to cuda: 442.95168 MB\n",
      "\bAfter single dvec to cuda: 423.755264 MB\n",
      "\bAfter single dvec to cuda: 431.6416 MB\n",
      "\bAfter single dvec to cuda: 433.737216 MB\n",
      "\bAfter single dvec to cuda: 441.081344 MB\n",
      "After dvec to cuda: 441.08544 MB\n",
      "After forward to cuda: 4342.040576 MB\n"
     ]
    },
    {
     "name": "stderr",
     "output_type": "stream",
     "text": [
      "2021-11-24 17:05:09,145 - INFO - Wrote summary at step 409\n"
     ]
    },
    {
     "name": "stdout",
     "output_type": "stream",
     "text": [
      "After input to cuda: 441.937408 MB\n",
      "\bAfter single dvec to cuda: 422.162944 MB\n",
      "\bAfter single dvec to cuda: 432.225792 MB\n",
      "\bAfter single dvec to cuda: 441.20064 MB\n",
      "\bAfter single dvec to cuda: 450.715648 MB\n",
      "After dvec to cuda: 450.719744 MB\n",
      "After forward to cuda: 4350.851584 MB\n",
      "After input to cuda: 449.867776 MB\n",
      "\bAfter single dvec to cuda: 422.836224 MB\n",
      "\bAfter single dvec to cuda: 430.449664 MB\n",
      "\bAfter single dvec to cuda: 439.968256 MB\n",
      "\bAfter single dvec to cuda: 450.841088 MB\n",
      "After dvec to cuda: 450.845184 MB\n",
      "After forward to cuda: 4350.369792 MB\n"
     ]
    },
    {
     "name": "stderr",
     "output_type": "stream",
     "text": [
      "2021-11-24 17:05:09,852 - INFO - Wrote summary at step 410\n"
     ]
    },
    {
     "name": "stdout",
     "output_type": "stream",
     "text": [
      "After input to cuda: 450.768384 MB\n",
      "\bAfter single dvec to cuda: 420.689408 MB\n",
      "\bAfter single dvec to cuda: 427.764224 MB\n",
      "\bAfter single dvec to cuda: 434.733568 MB\n",
      "\bAfter single dvec to cuda: 442.351616 MB\n",
      "After dvec to cuda: 442.355712 MB\n",
      "After forward to cuda: 4341.98784 MB\n",
      "After input to cuda: 442.486784 MB\n",
      "\bAfter single dvec to cuda: 423.261696 MB\n",
      "\bAfter single dvec to cuda: 431.96672 MB\n",
      "\bAfter single dvec to cuda: 441.485312 MB\n",
      "\bAfter single dvec to cuda: 445.072384 MB\n",
      "After dvec to cuda: 445.07648 MB\n",
      "After forward to cuda: 4345.915904 MB\n"
     ]
    },
    {
     "name": "stderr",
     "output_type": "stream",
     "text": [
      "2021-11-24 17:05:10,572 - INFO - Wrote summary at step 411\n"
     ]
    },
    {
     "name": "stdout",
     "output_type": "stream",
     "text": [
      "After input to cuda: 445.874176 MB\n",
      "\bAfter single dvec to cuda: 424.333312 MB\n",
      "\bAfter single dvec to cuda: 432.495104 MB\n",
      "\bAfter single dvec to cuda: 442.011648 MB\n",
      "\bAfter single dvec to cuda: 443.487744 MB\n",
      "After dvec to cuda: 443.49184 MB\n",
      "After forward to cuda: 4343.13728 MB\n",
      "After input to cuda: 442.639872 MB\n",
      "\bAfter single dvec to cuda: 413.978112 MB\n",
      "\bAfter single dvec to cuda: 424.262144 MB\n",
      "\bAfter single dvec to cuda: 435.408896 MB\n",
      "\bAfter single dvec to cuda: 441.936896 MB\n",
      "After dvec to cuda: 441.940992 MB\n",
      "After forward to cuda: 4342.847488 MB\n"
     ]
    },
    {
     "name": "stderr",
     "output_type": "stream",
     "text": [
      "2021-11-24 17:05:11,277 - INFO - Wrote summary at step 412\n"
     ]
    },
    {
     "name": "stdout",
     "output_type": "stream",
     "text": [
      "After input to cuda: 441.940992 MB\n",
      "\bAfter single dvec to cuda: 421.142016 MB\n",
      "\bAfter single dvec to cuda: 423.328256 MB\n",
      "\bAfter single dvec to cuda: 431.216128 MB\n",
      "\bAfter single dvec to cuda: 437.20192 MB\n",
      "After dvec to cuda: 437.206016 MB\n",
      "After forward to cuda: 4336.730624 MB\n",
      "After input to cuda: 437.206016 MB\n",
      "\bAfter single dvec to cuda: 421.170688 MB\n",
      "\bAfter single dvec to cuda: 431.47776 MB\n",
      "\bAfter single dvec to cuda: 441.811456 MB\n",
      "\bAfter single dvec to cuda: 450.51136 MB\n",
      "After dvec to cuda: 450.515456 MB\n",
      "After forward to cuda: 4350.040064 MB\n"
     ]
    },
    {
     "name": "stderr",
     "output_type": "stream",
     "text": [
      "2021-11-24 17:05:12,005 - INFO - Wrote summary at step 413\n"
     ]
    },
    {
     "name": "stdout",
     "output_type": "stream",
     "text": [
      "After input to cuda: 450.515456 MB\n",
      "\bAfter single dvec to cuda: 423.156224 MB\n",
      "\bAfter single dvec to cuda: 432.946176 MB\n",
      "\bAfter single dvec to cuda: 436.705792 MB\n",
      "\bAfter single dvec to cuda: 446.766592 MB\n",
      "After dvec to cuda: 446.770688 MB\n",
      "After forward to cuda: 4346.704896 MB\n",
      "After input to cuda: 446.770688 MB\n",
      "\bAfter single dvec to cuda: 415.529472 MB\n",
      "\bAfter single dvec to cuda: 424.2304 MB\n",
      "\bAfter single dvec to cuda: 432.931328 MB\n",
      "\bAfter single dvec to cuda: 442.448384 MB\n",
      "After dvec to cuda: 442.45248 MB\n",
      "After forward to cuda: 4343.07584 MB\n"
     ]
    },
    {
     "name": "stderr",
     "output_type": "stream",
     "text": [
      "2021-11-24 17:05:12,733 - INFO - Wrote summary at step 414\n"
     ]
    },
    {
     "name": "stdout",
     "output_type": "stream",
     "text": [
      "After input to cuda: 442.45248 MB\n",
      "\bAfter single dvec to cuda: 421.307904 MB\n",
      "\bAfter single dvec to cuda: 423.2192 MB\n",
      "\bAfter single dvec to cuda: 433.006592 MB\n",
      "\bAfter single dvec to cuda: 442.793472 MB\n",
      "After dvec to cuda: 442.797568 MB\n",
      "After forward to cuda: 4342.929408 MB\n",
      "After input to cuda: 442.720768 MB\n",
      "\bAfter single dvec to cuda: 420.959744 MB\n",
      "\bAfter single dvec to cuda: 431.189504 MB\n",
      "\bAfter single dvec to cuda: 441.250816 MB\n",
      "\bAfter single dvec to cuda: 451.31264 MB\n",
      "After dvec to cuda: 451.316736 MB\n",
      "After forward to cuda: 4351.634432 MB\n"
     ]
    },
    {
     "name": "stderr",
     "output_type": "stream",
     "text": [
      "2021-11-24 17:05:13,465 - INFO - Wrote summary at step 415\n"
     ]
    },
    {
     "name": "stdout",
     "output_type": "stream",
     "text": [
      "After input to cuda: 451.393536 MB\n",
      "\bAfter single dvec to cuda: 423.103488 MB\n",
      "\bAfter single dvec to cuda: 430.99136 MB\n",
      "\bAfter single dvec to cuda: 439.506432 MB\n",
      "\bAfter single dvec to cuda: 448.480768 MB\n",
      "After dvec to cuda: 448.484864 MB\n",
      "After forward to cuda: 4348.582912 MB\n",
      "After input to cuda: 449.442816 MB\n",
      "\bAfter single dvec to cuda: 424.064512 MB\n",
      "\bAfter single dvec to cuda: 434.126336 MB\n",
      "\bAfter single dvec to cuda: 437.940736 MB\n",
      "\bAfter single dvec to cuda: 443.38432 MB\n",
      "After dvec to cuda: 443.388416 MB\n",
      "After forward to cuda: 4343.235584 MB\n"
     ]
    },
    {
     "name": "stderr",
     "output_type": "stream",
     "text": [
      "2021-11-24 17:05:14,193 - INFO - Wrote summary at step 416\n"
     ]
    },
    {
     "name": "stdout",
     "output_type": "stream",
     "text": [
      "After input to cuda: 442.781696 MB\n",
      "\bAfter single dvec to cuda: 423.558144 MB\n",
      "\bAfter single dvec to cuda: 431.448576 MB\n",
      "\bAfter single dvec to cuda: 433.87904 MB\n",
      "\bAfter single dvec to cuda: 442.312192 MB\n",
      "After dvec to cuda: 442.316288 MB\n",
      "After forward to cuda: 4342.467584 MB\n",
      "After input to cuda: 441.965056 MB\n",
      "\bAfter single dvec to cuda: 423.134208 MB\n",
      "\bAfter single dvec to cuda: 431.83616 MB\n",
      "\bAfter single dvec to cuda: 440.538624 MB\n",
      "\bAfter single dvec to cuda: 448.967168 MB\n",
      "After dvec to cuda: 448.971264 MB\n",
      "After forward to cuda: 4349.126144 MB\n"
     ]
    },
    {
     "name": "stderr",
     "output_type": "stream",
     "text": [
      "2021-11-24 17:05:14,913 - INFO - Wrote summary at step 417\n"
     ]
    },
    {
     "name": "stdout",
     "output_type": "stream",
     "text": [
      "After input to cuda: 448.971264 MB\n",
      "\bAfter single dvec to cuda: 421.852672 MB\n",
      "\bAfter single dvec to cuda: 430.258688 MB\n",
      "\bAfter single dvec to cuda: 440.321024 MB\n",
      "\bAfter single dvec to cuda: 449.565696 MB\n",
      "After dvec to cuda: 449.569792 MB\n",
      "After forward to cuda: 4349.414912 MB\n",
      "After input to cuda: 449.890304 MB\n",
      "\bAfter single dvec to cuda: 422.171648 MB\n",
      "\bAfter single dvec to cuda: 432.503808 MB\n",
      "\bAfter single dvec to cuda: 440.934912 MB\n",
      "\bAfter single dvec to cuda: 451.268608 MB\n",
      "After dvec to cuda: 451.272704 MB\n",
      "After forward to cuda: 4351.129088 MB\n"
     ]
    },
    {
     "name": "stderr",
     "output_type": "stream",
     "text": [
      "2021-11-24 17:05:15,619 - INFO - Wrote summary at step 418\n"
     ]
    },
    {
     "name": "stdout",
     "output_type": "stream",
     "text": [
      "After input to cuda: 451.633152 MB\n",
      "\bAfter single dvec to cuda: 424.163328 MB\n",
      "\bAfter single dvec to cuda: 432.866304 MB\n",
      "\bAfter single dvec to cuda: 434.343424 MB\n",
      "\bAfter single dvec to cuda: 444.132864 MB\n",
      "After dvec to cuda: 444.13696 MB\n",
      "After forward to cuda: 4343.370752 MB\n",
      "After input to cuda: 443.485696 MB\n",
      "\bAfter single dvec to cuda: 423.138816 MB\n",
      "\bAfter single dvec to cuda: 431.028736 MB\n",
      "\bAfter single dvec to cuda: 441.363968 MB\n",
      "\bAfter single dvec to cuda: 452.237312 MB\n",
      "After dvec to cuda: 452.241408 MB\n",
      "After forward to cuda: 4351.770112 MB\n"
     ]
    },
    {
     "name": "stderr",
     "output_type": "stream",
     "text": [
      "2021-11-24 17:05:16,326 - INFO - Wrote summary at step 419\n"
     ]
    },
    {
     "name": "stdout",
     "output_type": "stream",
     "text": [
      "After input to cuda: 452.2752 MB\n",
      "\bAfter single dvec to cuda: 422.05184 MB\n",
      "\bAfter single dvec to cuda: 429.067776 MB\n",
      "\bAfter single dvec to cuda: 439.397888 MB\n",
      "\bAfter single dvec to cuda: 450.193408 MB\n",
      "After dvec to cuda: 450.197504 MB\n",
      "After forward to cuda: 4350.636544 MB\n",
      "After input to cuda: 450.085888 MB\n",
      "\bAfter single dvec to cuda: 421.891072 MB\n",
      "\bAfter single dvec to cuda: 430.59712 MB\n",
      "\bAfter single dvec to cuda: 438.483968 MB\n",
      "\bAfter single dvec to cuda: 448.004608 MB\n",
      "After dvec to cuda: 448.008704 MB\n",
      "After forward to cuda: 4348.529664 MB\n"
     ]
    },
    {
     "name": "stderr",
     "output_type": "stream",
     "text": [
      "2021-11-24 17:05:17,033 - INFO - Wrote summary at step 420\n"
     ]
    },
    {
     "name": "stdout",
     "output_type": "stream",
     "text": [
      "After input to cuda: 448.818688 MB\n",
      "\bAfter single dvec to cuda: 421.529088 MB\n",
      "\bAfter single dvec to cuda: 423.010304 MB\n",
      "\bAfter single dvec to cuda: 425.739776 MB\n",
      "\bAfter single dvec to cuda: 435.993088 MB\n",
      "After dvec to cuda: 435.997184 MB\n",
      "After forward to cuda: 4337.509376 MB\n",
      "After input to cuda: 435.83744 MB\n",
      "\bAfter single dvec to cuda: 423.731712 MB\n",
      "\bAfter single dvec to cuda: 430.532096 MB\n",
      "\bAfter single dvec to cuda: 440.595968 MB\n",
      "\bAfter single dvec to cuda: 449.30048 MB\n",
      "After dvec to cuda: 449.304576 MB\n",
      "After forward to cuda: 4348.227072 MB\n"
     ]
    },
    {
     "name": "stderr",
     "output_type": "stream",
     "text": [
      "2021-11-24 17:05:17,737 - INFO - Wrote summary at step 421\n"
     ]
    },
    {
     "name": "stdout",
     "output_type": "stream",
     "text": [
      "After input to cuda: 448.702464 MB\n",
      "\bAfter single dvec to cuda: 422.786048 MB\n",
      "\bAfter single dvec to cuda: 430.948352 MB\n",
      "\bAfter single dvec to cuda: 440.197632 MB\n",
      "\bAfter single dvec to cuda: 450.259456 MB\n",
      "After dvec to cuda: 450.263552 MB\n",
      "After forward to cuda: 4350.390272 MB\n",
      "After input to cuda: 450.865664 MB\n",
      "\bAfter single dvec to cuda: 423.366656 MB\n",
      "\bAfter single dvec to cuda: 433.618944 MB\n",
      "\bAfter single dvec to cuda: 444.220416 MB\n",
      "\bAfter single dvec to cuda: 449.123328 MB\n",
      "After dvec to cuda: 449.127424 MB\n",
      "After forward to cuda: 4349.759488 MB\n"
     ]
    },
    {
     "name": "stderr",
     "output_type": "stream",
     "text": [
      "2021-11-24 17:05:18,449 - INFO - Wrote summary at step 422\n"
     ]
    },
    {
     "name": "stdout",
     "output_type": "stream",
     "text": [
      "After input to cuda: 449.286656 MB\n",
      "\bAfter single dvec to cuda: 423.894528 MB\n",
      "\bAfter single dvec to cuda: 425.372672 MB\n",
      "\bAfter single dvec to cuda: 434.074112 MB\n",
      "\bAfter single dvec to cuda: 443.31776 MB\n",
      "After dvec to cuda: 443.321856 MB\n",
      "After forward to cuda: 4343.606784 MB\n",
      "After input to cuda: 442.560512 MB\n",
      "\bAfter single dvec to cuda: 423.131136 MB\n",
      "\bAfter single dvec to cuda: 431.561728 MB\n",
      "\bAfter single dvec to cuda: 438.63808 MB\n",
      "\bAfter single dvec to cuda: 448.700416 MB\n",
      "After dvec to cuda: 448.704512 MB\n",
      "After forward to cuda: 4348.836352 MB\n"
     ]
    },
    {
     "name": "stderr",
     "output_type": "stream",
     "text": [
      "2021-11-24 17:05:19,155 - INFO - Wrote summary at step 423\n"
     ]
    },
    {
     "name": "stdout",
     "output_type": "stream",
     "text": [
      "After input to cuda: 448.627712 MB\n",
      "\bAfter single dvec to cuda: 422.862336 MB\n",
      "\bAfter single dvec to cuda: 430.478336 MB\n",
      "\bAfter single dvec to cuda: 433.77152 MB\n",
      "\bAfter single dvec to cuda: 444.647936 MB\n",
      "After dvec to cuda: 444.652032 MB\n",
      "After forward to cuda: 4344.778752 MB\n",
      "After input to cuda: 445.254144 MB\n",
      "\bAfter single dvec to cuda: 423.707648 MB\n",
      "\bAfter single dvec to cuda: 434.56 MB\n",
      "\bAfter single dvec to cuda: 444.498944 MB\n",
      "\bAfter single dvec to cuda: 454.559232 MB\n",
      "After dvec to cuda: 454.563328 MB\n",
      "After forward to cuda: 4353.533952 MB\n"
     ]
    },
    {
     "name": "stderr",
     "output_type": "stream",
     "text": [
      "2021-11-24 17:05:19,861 - INFO - Wrote summary at step 424\n"
     ]
    },
    {
     "name": "stdout",
     "output_type": "stream",
     "text": [
      "After input to cuda: 454.038016 MB\n",
      "\bAfter single dvec to cuda: 420.765696 MB\n",
      "\bAfter single dvec to cuda: 426.207744 MB\n",
      "\bAfter single dvec to cuda: 436.543488 MB\n",
      "\bAfter single dvec to cuda: 444.43392 MB\n",
      "After dvec to cuda: 444.438016 MB\n",
      "After forward to cuda: 4343.962624 MB\n",
      "After input to cuda: 444.438016 MB\n",
      "\bAfter single dvec to cuda: 423.107072 MB\n",
      "\bAfter single dvec to cuda: 432.6272 MB\n",
      "\bAfter single dvec to cuda: 438.43072 MB\n",
      "\bAfter single dvec to cuda: 447.405056 MB\n",
      "After dvec to cuda: 447.409152 MB\n",
      "After forward to cuda: 4347.2256 MB\n"
     ]
    },
    {
     "name": "stderr",
     "output_type": "stream",
     "text": [
      "2021-11-24 17:05:20,567 - INFO - Wrote summary at step 425\n"
     ]
    },
    {
     "name": "stdout",
     "output_type": "stream",
     "text": [
      "After input to cuda: 447.409152 MB\n",
      "\bAfter single dvec to cuda: 423.16032 MB\n",
      "\bAfter single dvec to cuda: 430.05184 MB\n",
      "\bAfter single dvec to cuda: 439.30112 MB\n",
      "\bAfter single dvec to cuda: 440.940032 MB\n",
      "After dvec to cuda: 440.944128 MB\n",
      "After forward to cuda: 4340.468736 MB\n",
      "After input to cuda: 440.944128 MB\n",
      "\bAfter single dvec to cuda: 421.849088 MB\n",
      "\bAfter single dvec to cuda: 427.565056 MB\n",
      "\bAfter single dvec to cuda: 437.0816 MB\n",
      "\bAfter single dvec to cuda: 446.598656 MB\n",
      "After dvec to cuda: 446.602752 MB\n",
      "After forward to cuda: 4347.460608 MB\n"
     ]
    },
    {
     "name": "stderr",
     "output_type": "stream",
     "text": [
      "2021-11-24 17:05:21,277 - INFO - Wrote summary at step 426\n"
     ]
    },
    {
     "name": "stdout",
     "output_type": "stream",
     "text": [
      "After input to cuda: 446.923264 MB\n",
      "\bAfter single dvec to cuda: 423.504896 MB\n",
      "\bAfter single dvec to cuda: 433.567232 MB\n",
      "\bAfter single dvec to cuda: 443.902976 MB\n",
      "\bAfter single dvec to cuda: 453.778432 MB\n",
      "After dvec to cuda: 453.782528 MB\n",
      "After forward to cuda: 4353.307136 MB\n",
      "After input to cuda: 453.782528 MB\n",
      "\bAfter single dvec to cuda: 422.170112 MB\n",
      "\bAfter single dvec to cuda: 429.241344 MB\n",
      "\bAfter single dvec to cuda: 434.85952 MB\n",
      "\bAfter single dvec to cuda: 444.918784 MB\n",
      "After dvec to cuda: 444.92288 MB\n",
      "After forward to cuda: 4344.126976 MB\n"
     ]
    },
    {
     "name": "stderr",
     "output_type": "stream",
     "text": [
      "2021-11-24 17:05:21,982 - INFO - Wrote summary at step 427\n"
     ]
    },
    {
     "name": "stdout",
     "output_type": "stream",
     "text": [
      "After input to cuda: 444.546048 MB\n",
      "\bAfter single dvec to cuda: 423.153664 MB\n",
      "\bAfter single dvec to cuda: 432.124928 MB\n",
      "\bAfter single dvec to cuda: 441.913344 MB\n",
      "\bAfter single dvec to cuda: 452.0576 MB\n",
      "After dvec to cuda: 452.061696 MB\n",
      "After forward to cuda: 4351.954944 MB\n",
      "After input to cuda: 452.438528 MB\n",
      "\bAfter single dvec to cuda: 423.481344 MB\n",
      "\bAfter single dvec to cuda: 434.0864 MB\n",
      "\bAfter single dvec to cuda: 443.877376 MB\n",
      "\bAfter single dvec to cuda: 453.9392 MB\n",
      "After dvec to cuda: 453.943296 MB\n",
      "After forward to cuda: 4353.715712 MB\n"
     ]
    },
    {
     "name": "stderr",
     "output_type": "stream",
     "text": [
      "2021-11-24 17:05:22,692 - INFO - Wrote summary at step 428\n"
     ]
    },
    {
     "name": "stdout",
     "output_type": "stream",
     "text": [
      "After input to cuda: 453.622784 MB\n",
      "\bAfter single dvec to cuda: 421.581312 MB\n",
      "\bAfter single dvec to cuda: 431.914496 MB\n",
      "\bAfter single dvec to cuda: 441.48992 MB\n",
      "\bAfter single dvec to cuda: 452.091904 MB\n",
      "After dvec to cuda: 452.096 MB\n",
      "After forward to cuda: 4352.188928 MB\n",
      "After input to cuda: 452.096 MB\n",
      "\bAfter single dvec to cuda: 423.16032 MB\n",
      "\bAfter single dvec to cuda: 430.181376 MB\n",
      "\bAfter single dvec to cuda: 440.244736 MB\n",
      "\bAfter single dvec to cuda: 448.40448 MB\n",
      "After dvec to cuda: 448.408576 MB\n",
      "After forward to cuda: 4348.390912 MB\n"
     ]
    },
    {
     "name": "stderr",
     "output_type": "stream",
     "text": [
      "2021-11-24 17:05:23,399 - INFO - Wrote summary at step 429\n"
     ]
    },
    {
     "name": "stdout",
     "output_type": "stream",
     "text": [
      "After input to cuda: 448.408576 MB\n",
      "\bAfter single dvec to cuda: 419.611136 MB\n",
      "\bAfter single dvec to cuda: 426.685952 MB\n",
      "\bAfter single dvec to cuda: 435.66336 MB\n",
      "\bAfter single dvec to cuda: 445.178368 MB\n",
      "After dvec to cuda: 445.182464 MB\n",
      "After forward to cuda: 4345.680896 MB\n",
      "After input to cuda: 445.159936 MB\n",
      "\bAfter single dvec to cuda: 421.285376 MB\n",
      "\bAfter single dvec to cuda: 428.627456 MB\n",
      "\bAfter single dvec to cuda: 438.690304 MB\n",
      "\bAfter single dvec to cuda: 447.396352 MB\n",
      "After dvec to cuda: 447.400448 MB\n",
      "After forward to cuda: 4348.266496 MB\n"
     ]
    },
    {
     "name": "stderr",
     "output_type": "stream",
     "text": [
      "2021-11-24 17:05:24,104 - INFO - Wrote summary at step 430\n"
     ]
    },
    {
     "name": "stdout",
     "output_type": "stream",
     "text": [
      "After input to cuda: 447.783424 MB\n",
      "\bAfter single dvec to cuda: 423.567872 MB\n",
      "\bAfter single dvec to cuda: 433.358336 MB\n",
      "\bAfter single dvec to cuda: 442.875904 MB\n",
      "\bAfter single dvec to cuda: 451.748864 MB\n",
      "After dvec to cuda: 451.75296 MB\n",
      "After forward to cuda: 4351.48544 MB\n",
      "After input to cuda: 451.392512 MB\n",
      "\bAfter single dvec to cuda: 423.107584 MB\n",
      "\bAfter single dvec to cuda: 433.71264 MB\n",
      "\bAfter single dvec to cuda: 443.500544 MB\n",
      "\bAfter single dvec to cuda: 450.235904 MB\n",
      "After dvec to cuda: 450.24 MB\n",
      "After forward to cuda: 4350.332928 MB\n"
     ]
    },
    {
     "name": "stderr",
     "output_type": "stream",
     "text": [
      "2021-11-24 17:05:24,811 - INFO - Wrote summary at step 431\n"
     ]
    },
    {
     "name": "stdout",
     "output_type": "stream",
     "text": [
      "After input to cuda: 450.24 MB\n",
      "\bAfter single dvec to cuda: 422.56384 MB\n",
      "\bAfter single dvec to cuda: 432.793088 MB\n",
      "\bAfter single dvec to cuda: 440.137216 MB\n",
      "\bAfter single dvec to cuda: 449.926656 MB\n",
      "After dvec to cuda: 449.930752 MB\n",
      "After forward to cuda: 4349.775872 MB\n",
      "After input to cuda: 450.251264 MB\n",
      "\bAfter single dvec to cuda: 423.802368 MB\n",
      "\bAfter single dvec to cuda: 430.875648 MB\n",
      "\bAfter single dvec to cuda: 441.478656 MB\n",
      "\bAfter single dvec to cuda: 450.454528 MB\n",
      "After dvec to cuda: 450.458624 MB\n",
      "After forward to cuda: 4349.983232 MB\n"
     ]
    },
    {
     "name": "stderr",
     "output_type": "stream",
     "text": [
      "2021-11-24 17:05:25,519 - INFO - Wrote summary at step 432\n"
     ]
    },
    {
     "name": "stdout",
     "output_type": "stream",
     "text": [
      "After input to cuda: 450.458624 MB\n",
      "\bAfter single dvec to cuda: 421.898752 MB\n",
      "\bAfter single dvec to cuda: 431.144448 MB\n",
      "\bAfter single dvec to cuda: 441.476608 MB\n",
      "\bAfter single dvec to cuda: 451.129344 MB\n",
      "After dvec to cuda: 451.13344 MB\n",
      "After forward to cuda: 4351.935488 MB\n",
      "After input to cuda: 450.812928 MB\n",
      "\bAfter single dvec to cuda: 423.159808 MB\n",
      "\bAfter single dvec to cuda: 431.864832 MB\n",
      "\bAfter single dvec to cuda: 440.836096 MB\n",
      "\bAfter single dvec to cuda: 451.168768 MB\n",
      "After dvec to cuda: 451.172864 MB\n",
      "After forward to cuda: 4350.697472 MB\n"
     ]
    },
    {
     "name": "stderr",
     "output_type": "stream",
     "text": [
      "2021-11-24 17:05:26,227 - INFO - Wrote summary at step 433\n"
     ]
    },
    {
     "name": "stdout",
     "output_type": "stream",
     "text": [
      "After input to cuda: 451.172864 MB\n",
      "\bAfter single dvec to cuda: 420.764672 MB\n",
      "\bAfter single dvec to cuda: 429.466624 MB\n",
      "\bAfter single dvec to cuda: 430.94528 MB\n",
      "\bAfter single dvec to cuda: 439.107072 MB\n",
      "After dvec to cuda: 439.111168 MB\n",
      "After forward to cuda: 4338.951168 MB\n",
      "After input to cuda: 439.42656 MB\n",
      "\bAfter single dvec to cuda: 423.524352 MB\n",
      "\bAfter single dvec to cuda: 429.837824 MB\n",
      "\bAfter single dvec to cuda: 440.438784 MB\n",
      "\bAfter single dvec to cuda: 451.042816 MB\n",
      "After dvec to cuda: 451.046912 MB\n",
      "After forward to cuda: 4350.57152 MB\n"
     ]
    },
    {
     "name": "stderr",
     "output_type": "stream",
     "text": [
      "2021-11-24 17:05:26,933 - INFO - Wrote summary at step 434\n"
     ]
    },
    {
     "name": "stdout",
     "output_type": "stream",
     "text": [
      "After input to cuda: 451.046912 MB\n",
      "\bAfter single dvec to cuda: 417.823744 MB\n",
      "\bAfter single dvec to cuda: 428.156928 MB\n",
      "\bAfter single dvec to cuda: 436.680192 MB\n",
      "\bAfter single dvec to cuda: 444.568064 MB\n",
      "After dvec to cuda: 444.57216 MB\n",
      "After forward to cuda: 4343.781376 MB\n",
      "After input to cuda: 444.256768 MB\n",
      "\bAfter single dvec to cuda: 419.844608 MB\n",
      "\bAfter single dvec to cuda: 430.12864 MB\n",
      "\bAfter single dvec to cuda: 438.34624 MB\n",
      "\bAfter single dvec to cuda: 444.332032 MB\n",
      "After dvec to cuda: 444.336128 MB\n",
      "After forward to cuda: 4344.430592 MB\n"
     ]
    },
    {
     "name": "stderr",
     "output_type": "stream",
     "text": [
      "2021-11-24 17:05:27,640 - INFO - Wrote summary at step 435\n"
     ]
    },
    {
     "name": "stdout",
     "output_type": "stream",
     "text": [
      "After input to cuda: 444.3648 MB\n",
      "\bAfter single dvec to cuda: 423.185408 MB\n",
      "\bAfter single dvec to cuda: 432.163328 MB\n",
      "\bAfter single dvec to cuda: 440.864256 MB\n",
      "\bAfter single dvec to cuda: 448.207872 MB\n",
      "After dvec to cuda: 448.211968 MB\n",
      "After forward to cuda: 4348.743168 MB\n",
      "After input to cuda: 448.780288 MB\n",
      "\bAfter single dvec to cuda: 419.73248 MB\n",
      "\bAfter single dvec to cuda: 429.250048 MB\n",
      "\bAfter single dvec to cuda: 439.038976 MB\n",
      "\bAfter single dvec to cuda: 443.39712 MB\n",
      "After dvec to cuda: 443.401216 MB\n",
      "After forward to cuda: 4343.442944 MB\n"
     ]
    },
    {
     "name": "stderr",
     "output_type": "stream",
     "text": [
      "2021-11-24 17:05:28,344 - INFO - Wrote summary at step 436\n"
     ]
    },
    {
     "name": "stdout",
     "output_type": "stream",
     "text": [
      "After input to cuda: 443.401216 MB\n",
      "\bAfter single dvec to cuda: 423.806976 MB\n",
      "\bAfter single dvec to cuda: 430.610944 MB\n",
      "\bAfter single dvec to cuda: 439.854592 MB\n",
      "\bAfter single dvec to cuda: 449.372672 MB\n",
      "After dvec to cuda: 449.376768 MB\n",
      "After forward to cuda: 4348.304384 MB\n",
      "After input to cuda: 448.779776 MB\n",
      "\bAfter single dvec to cuda: 421.580288 MB\n",
      "\bAfter single dvec to cuda: 430.555136 MB\n",
      "\bAfter single dvec to cuda: 435.72736 MB\n",
      "\bAfter single dvec to cuda: 443.889152 MB\n",
      "After dvec to cuda: 443.893248 MB\n",
      "After forward to cuda: 4343.991296 MB\n"
     ]
    },
    {
     "name": "stderr",
     "output_type": "stream",
     "text": [
      "2021-11-24 17:05:29,049 - INFO - Wrote summary at step 437\n"
     ]
    },
    {
     "name": "stdout",
     "output_type": "stream",
     "text": [
      "After input to cuda: 443.893248 MB\n",
      "\bAfter single dvec to cuda: 423.131648 MB\n",
      "\bAfter single dvec to cuda: 434.008064 MB\n",
      "\bAfter single dvec to cuda: 435.487232 MB\n",
      "\bAfter single dvec to cuda: 443.646464 MB\n",
      "After dvec to cuda: 443.65056 MB\n",
      "After forward to cuda: 4343.743488 MB\n",
      "After input to cuda: 443.65056 MB\n",
      "\bAfter single dvec to cuda: 423.482368 MB\n",
      "\bAfter single dvec to cuda: 432.18432 MB\n",
      "\bAfter single dvec to cuda: 440.80384 MB\n",
      "\bAfter single dvec to cuda: 450.049536 MB\n",
      "After dvec to cuda: 450.053632 MB\n",
      "After forward to cuda: 4351.1424 MB\n"
     ]
    },
    {
     "name": "stderr",
     "output_type": "stream",
     "text": [
      "2021-11-24 17:05:29,755 - INFO - Wrote summary at step 438\n"
     ]
    },
    {
     "name": "stdout",
     "output_type": "stream",
     "text": [
      "After input to cuda: 450.053632 MB\n",
      "\bAfter single dvec to cuda: 417.925632 MB\n",
      "\bAfter single dvec to cuda: 428.17792 MB\n",
      "\bAfter single dvec to cuda: 433.07776 MB\n",
      "\bAfter single dvec to cuda: 435.232256 MB\n",
      "After dvec to cuda: 435.236352 MB\n",
      "After forward to cuda: 4334.925312 MB\n",
      "After input to cuda: 435.236352 MB\n",
      "\bAfter single dvec to cuda: 423.160832 MB\n",
      "\bAfter single dvec to cuda: 431.590912 MB\n",
      "\bAfter single dvec to cuda: 441.380864 MB\n",
      "\bAfter single dvec to cuda: 451.169792 MB\n",
      "After dvec to cuda: 451.173888 MB\n",
      "After forward to cuda: 4350.980096 MB\n"
     ]
    },
    {
     "name": "stderr",
     "output_type": "stream",
     "text": [
      "2021-11-24 17:05:30,462 - INFO - Wrote summary at step 439\n"
     ]
    },
    {
     "name": "stdout",
     "output_type": "stream",
     "text": [
      "After input to cuda: 452.025856 MB\n",
      "\bAfter single dvec to cuda: 422.703104 MB\n",
      "\bAfter single dvec to cuda: 433.309184 MB\n",
      "\bAfter single dvec to cuda: 443.0976 MB\n",
      "\bAfter single dvec to cuda: 452.071424 MB\n",
      "After dvec to cuda: 452.07552 MB\n",
      "After forward to cuda: 4351.886848 MB\n",
      "After input to cuda: 451.820544 MB\n",
      "\bAfter single dvec to cuda: 422.177792 MB\n",
      "\bAfter single dvec to cuda: 429.794816 MB\n",
      "\bAfter single dvec to cuda: 440.67072 MB\n",
      "\bAfter single dvec to cuda: 448.827392 MB\n",
      "After dvec to cuda: 448.831488 MB\n",
      "After forward to cuda: 4348.442112 MB\n"
     ]
    },
    {
     "name": "stderr",
     "output_type": "stream",
     "text": [
      "2021-11-24 17:05:31,169 - INFO - Wrote summary at step 440\n"
     ]
    },
    {
     "name": "stdout",
     "output_type": "stream",
     "text": [
      "After input to cuda: 448.349184 MB\n",
      "\bAfter single dvec to cuda: 423.324672 MB\n",
      "\bAfter single dvec to cuda: 433.659904 MB\n",
      "\bAfter single dvec to cuda: 443.180032 MB\n",
      "\bAfter single dvec to cuda: 451.338752 MB\n",
      "After dvec to cuda: 451.342848 MB\n",
      "After forward to cuda: 4352.344576 MB\n",
      "After input to cuda: 451.62752 MB\n",
      "\bAfter single dvec to cuda: 423.530496 MB\n",
      "\bAfter single dvec to cuda: 433.758208 MB\n",
      "\bAfter single dvec to cuda: 441.104896 MB\n",
      "\bAfter single dvec to cuda: 444.10368 MB\n",
      "After dvec to cuda: 444.107776 MB\n",
      "After forward to cuda: 4343.992832 MB\n"
     ]
    },
    {
     "name": "stderr",
     "output_type": "stream",
     "text": [
      "2021-11-24 17:05:31,875 - INFO - Wrote summary at step 441\n"
     ]
    },
    {
     "name": "stdout",
     "output_type": "stream",
     "text": [
      "After input to cuda: 444.107776 MB\n",
      "\bAfter single dvec to cuda: 423.506432 MB\n",
      "\bAfter single dvec to cuda: 430.550528 MB\n",
      "\bAfter single dvec to cuda: 438.980608 MB\n",
      "\bAfter single dvec to cuda: 447.956992 MB\n",
      "After dvec to cuda: 447.961088 MB\n",
      "After forward to cuda: 4347.485696 MB\n",
      "After input to cuda: 447.561728 MB\n",
      "\bAfter single dvec to cuda: 421.850624 MB\n",
      "\bAfter single dvec to cuda: 428.818432 MB\n",
      "\bAfter single dvec to cuda: 438.882816 MB\n",
      "\bAfter single dvec to cuda: 446.496256 MB\n",
      "After dvec to cuda: 446.500352 MB\n",
      "After forward to cuda: 4346.860544 MB\n"
     ]
    },
    {
     "name": "stderr",
     "output_type": "stream",
     "text": [
      "2021-11-24 17:05:32,582 - INFO - Wrote summary at step 442\n"
     ]
    },
    {
     "name": "stdout",
     "output_type": "stream",
     "text": [
      "After input to cuda: 447.346176 MB\n",
      "\bAfter single dvec to cuda: 424.326144 MB\n",
      "\bAfter single dvec to cuda: 426.5088 MB\n",
      "\bAfter single dvec to cuda: 434.754048 MB\n",
      "\bAfter single dvec to cuda: 444.811776 MB\n",
      "After dvec to cuda: 444.815872 MB\n",
      "After forward to cuda: 4344.091648 MB\n",
      "After input to cuda: 444.56704 MB\n",
      "\bAfter single dvec to cuda: 421.905408 MB\n",
      "\bAfter single dvec to cuda: 429.794816 MB\n",
      "\bAfter single dvec to cuda: 438.767104 MB\n",
      "\bAfter single dvec to cuda: 441.87648 MB\n",
      "After dvec to cuda: 441.880576 MB\n",
      "After forward to cuda: 4341.78816 MB\n"
     ]
    },
    {
     "name": "stderr",
     "output_type": "stream",
     "text": [
      "2021-11-24 17:05:33,286 - INFO - Wrote summary at step 443\n"
     ]
    },
    {
     "name": "stdout",
     "output_type": "stream",
     "text": [
      "After input to cuda: 441.604096 MB\n",
      "\bAfter single dvec to cuda: 423.427072 MB\n",
      "\bAfter single dvec to cuda: 432.942592 MB\n",
      "\bAfter single dvec to cuda: 442.461696 MB\n",
      "\bAfter single dvec to cuda: 452.248576 MB\n",
      "After dvec to cuda: 452.252672 MB\n",
      "After forward to cuda: 4353.0624 MB\n",
      "After input to cuda: 453.156864 MB\n",
      "\bAfter single dvec to cuda: 420.901376 MB\n",
      "\bAfter single dvec to cuda: 428.249088 MB\n",
      "\bAfter single dvec to cuda: 438.311936 MB\n",
      "\bAfter single dvec to cuda: 447.284736 MB\n",
      "After dvec to cuda: 447.288832 MB\n",
      "After forward to cuda: 4346.487808 MB\n"
     ]
    },
    {
     "name": "stderr",
     "output_type": "stream",
     "text": [
      "2021-11-24 17:05:34,018 - INFO - Wrote summary at step 444\n"
     ]
    },
    {
     "name": "stdout",
     "output_type": "stream",
     "text": [
      "After input to cuda: 446.36416 MB\n",
      "\bAfter single dvec to cuda: 414.275584 MB\n",
      "\bAfter single dvec to cuda: 417.544704 MB\n",
      "\bAfter single dvec to cuda: 421.360128 MB\n",
      "\bAfter single dvec to cuda: 430.879232 MB\n",
      "After dvec to cuda: 430.883328 MB\n",
      "After forward to cuda: 4330.679296 MB\n",
      "After input to cuda: 430.583296 MB\n",
      "\bAfter single dvec to cuda: 423.208448 MB\n",
      "\bAfter single dvec to cuda: 433.2672 MB\n",
      "\bAfter single dvec to cuda: 443.326976 MB\n",
      "\bAfter single dvec to cuda: 445.569024 MB\n",
      "After dvec to cuda: 445.57312 MB\n",
      "After forward to cuda: 4345.379328 MB\n"
     ]
    },
    {
     "name": "stderr",
     "output_type": "stream",
     "text": [
      "2021-11-24 17:05:34,721 - INFO - Wrote summary at step 445\n"
     ]
    },
    {
     "name": "stdout",
     "output_type": "stream",
     "text": [
      "After input to cuda: 445.57312 MB\n",
      "\bAfter single dvec to cuda: 420.492288 MB\n",
      "\bAfter single dvec to cuda: 430.007808 MB\n",
      "\bAfter single dvec to cuda: 434.366464 MB\n",
      "\bAfter single dvec to cuda: 444.155904 MB\n",
      "After dvec to cuda: 444.16 MB\n",
      "After forward to cuda: 4344.252928 MB\n",
      "After input to cuda: 444.16 MB\n",
      "\bAfter single dvec to cuda: 418.32192 MB\n",
      "\bAfter single dvec to cuda: 428.599808 MB\n",
      "\bAfter single dvec to cuda: 438.390272 MB\n",
      "\bAfter single dvec to cuda: 441.840128 MB\n",
      "After dvec to cuda: 441.844224 MB\n",
      "After forward to cuda: 4341.368832 MB\n"
     ]
    },
    {
     "name": "stderr",
     "output_type": "stream",
     "text": [
      "2021-11-24 17:05:35,426 - INFO - Wrote summary at step 446\n"
     ]
    },
    {
     "name": "stdout",
     "output_type": "stream",
     "text": [
      "After input to cuda: 441.844224 MB\n",
      "\bAfter single dvec to cuda: 423.107072 MB\n",
      "\bAfter single dvec to cuda: 432.897536 MB\n",
      "\bAfter single dvec to cuda: 436.34432 MB\n",
      "\bAfter single dvec to cuda: 444.773888 MB\n",
      "After dvec to cuda: 444.777984 MB\n",
      "After forward to cuda: 4345.728 MB\n",
      "After input to cuda: 446.232064 MB\n",
      "\bAfter single dvec to cuda: 421.67552 MB\n",
      "\bAfter single dvec to cuda: 424.835584 MB\n",
      "\bAfter single dvec to cuda: 435.063296 MB\n",
      "\bAfter single dvec to cuda: 445.123584 MB\n",
      "After dvec to cuda: 445.12768 MB\n",
      "After forward to cuda: 4344.646656 MB\n"
     ]
    },
    {
     "name": "stderr",
     "output_type": "stream",
     "text": [
      "2021-11-24 17:05:36,130 - INFO - Wrote summary at step 447\n"
     ]
    },
    {
     "name": "stdout",
     "output_type": "stream",
     "text": [
      "After input to cuda: 444.275712 MB\n",
      "\bAfter single dvec to cuda: 414.57664 MB\n",
      "\bAfter single dvec to cuda: 424.834048 MB\n",
      "\bAfter single dvec to cuda: 434.081792 MB\n",
      "\bAfter single dvec to cuda: 443.871232 MB\n",
      "After dvec to cuda: 443.875328 MB\n",
      "After forward to cuda: 4343.485952 MB\n",
      "After input to cuda: 443.387904 MB\n",
      "\bAfter single dvec to cuda: 423.223808 MB\n",
      "\bAfter single dvec to cuda: 431.926784 MB\n",
      "\bAfter single dvec to cuda: 435.738624 MB\n",
      "\bAfter single dvec to cuda: 445.996544 MB\n",
      "After dvec to cuda: 446.00064 MB\n",
      "After forward to cuda: 4345.868288 MB\n"
     ]
    },
    {
     "name": "stderr",
     "output_type": "stream",
     "text": [
      "2021-11-24 17:05:36,834 - INFO - Wrote summary at step 448\n"
     ]
    },
    {
     "name": "stdout",
     "output_type": "stream",
     "text": [
      "After input to cuda: 445.937152 MB\n",
      "\bAfter single dvec to cuda: 423.264256 MB\n",
      "\bAfter single dvec to cuda: 433.87136 MB\n",
      "\bAfter single dvec to cuda: 442.577408 MB\n",
      "\bAfter single dvec to cuda: 449.649664 MB\n",
      "After dvec to cuda: 449.65376 MB\n",
      "After forward to cuda: 4349.695488 MB\n",
      "After input to cuda: 449.917952 MB\n",
      "\bAfter single dvec to cuda: 423.499264 MB\n",
      "\bAfter single dvec to cuda: 433.019904 MB\n",
      "\bAfter single dvec to cuda: 442.810368 MB\n",
      "\bAfter single dvec to cuda: 444.44928 MB\n",
      "After dvec to cuda: 444.453376 MB\n",
      "After forward to cuda: 4344.551424 MB\n"
     ]
    },
    {
     "name": "stderr",
     "output_type": "stream",
     "text": [
      "2021-11-24 17:05:37,542 - INFO - Wrote summary at step 449\n"
     ]
    },
    {
     "name": "stdout",
     "output_type": "stream",
     "text": [
      "After input to cuda: 444.894208 MB\n",
      "\bAfter single dvec to cuda: 420.62592 MB\n",
      "\bAfter single dvec to cuda: 430.95808 MB\n",
      "\bAfter single dvec to cuda: 432.436736 MB\n",
      "\bAfter single dvec to cuda: 441.686016 MB\n",
      "After dvec to cuda: 441.690112 MB\n",
      "After forward to cuda: 4341.21472 MB\n",
      "After input to cuda: 441.690112 MB\n",
      "\bAfter single dvec to cuda: 423.940096 MB\n",
      "\bAfter single dvec to cuda: 431.282688 MB\n",
      "\bAfter single dvec to cuda: 442.156032 MB\n",
      "\bAfter single dvec to cuda: 453.56032 MB\n",
      "After dvec to cuda: 453.564416 MB\n",
      "After forward to cuda: 4353.662464 MB\n"
     ]
    },
    {
     "name": "stderr",
     "output_type": "stream",
     "text": [
      "2021-11-24 17:05:38,251 - INFO - Wrote summary at step 450\n"
     ]
    },
    {
     "name": "stdout",
     "output_type": "stream",
     "text": [
      "After input to cuda: 452.808192 MB\n",
      "\bAfter single dvec to cuda: 420.496384 MB\n",
      "\bAfter single dvec to cuda: 429.74208 MB\n",
      "\bAfter single dvec to cuda: 435.454464 MB\n",
      "\bAfter single dvec to cuda: 444.70016 MB\n",
      "After dvec to cuda: 444.704256 MB\n",
      "After forward to cuda: 4345.201664 MB\n",
      "After input to cuda: 445.103616 MB\n",
      "\bAfter single dvec to cuda: 420.622336 MB\n",
      "\bAfter single dvec to cuda: 429.59872 MB\n",
      "\bAfter single dvec to cuda: 436.9408 MB\n",
      "\bAfter single dvec to cuda: 446.729728 MB\n",
      "After dvec to cuda: 446.733824 MB\n",
      "After forward to cuda: 4346.461184 MB\n"
     ]
    },
    {
     "name": "stderr",
     "output_type": "stream",
     "text": [
      "2021-11-24 17:05:38,957 - INFO - Wrote summary at step 451\n"
     ]
    },
    {
     "name": "stdout",
     "output_type": "stream",
     "text": [
      "After input to cuda: 446.931456 MB\n",
      "\bAfter single dvec to cuda: 423.75424 MB\n",
      "\bAfter single dvec to cuda: 427.83744 MB\n",
      "\bAfter single dvec to cuda: 429.313536 MB\n",
      "\bAfter single dvec to cuda: 440.187392 MB\n",
      "After dvec to cuda: 440.191488 MB\n",
      "After forward to cuda: 4339.119104 MB\n",
      "After input to cuda: 439.594496 MB\n",
      "\bAfter single dvec to cuda: 421.142016 MB\n",
      "\bAfter single dvec to cuda: 431.472128 MB\n",
      "\bAfter single dvec to cuda: 435.33824 MB\n",
      "\bAfter single dvec to cuda: 444.3136 MB\n",
      "After dvec to cuda: 444.317696 MB\n",
      "After forward to cuda: 4343.842304 MB\n"
     ]
    },
    {
     "name": "stderr",
     "output_type": "stream",
     "text": [
      "2021-11-24 17:05:39,661 - INFO - Wrote summary at step 452\n"
     ]
    },
    {
     "name": "stdout",
     "output_type": "stream",
     "text": [
      "After input to cuda: 444.317696 MB\n",
      "\bAfter single dvec to cuda: 422.787072 MB\n",
      "\bAfter single dvec to cuda: 433.040384 MB\n",
      "\bAfter single dvec to cuda: 443.374592 MB\n",
      "\bAfter single dvec to cuda: 452.621312 MB\n",
      "After dvec to cuda: 452.625408 MB\n",
      "After forward to cuda: 4352.718336 MB\n",
      "After input to cuda: 452.625408 MB\n",
      "\bAfter single dvec to cuda: 423.1552 MB\n",
      "\bAfter single dvec to cuda: 433.4848 MB\n",
      "\bAfter single dvec to cuda: 438.38464 MB\n",
      "\bAfter single dvec to cuda: 448.446976 MB\n",
      "After dvec to cuda: 448.451072 MB\n",
      "After forward to cuda: 4349.85984 MB\n"
     ]
    },
    {
     "name": "stderr",
     "output_type": "stream",
     "text": [
      "2021-11-24 17:05:40,370 - INFO - Wrote summary at step 453\n"
     ]
    },
    {
     "name": "stdout",
     "output_type": "stream",
     "text": [
      "After input to cuda: 449.357312 MB\n",
      "\bAfter single dvec to cuda: 422.212096 MB\n",
      "\bAfter single dvec to cuda: 431.729152 MB\n",
      "\bAfter single dvec to cuda: 439.890432 MB\n",
      "\bAfter single dvec to cuda: 446.642688 MB\n",
      "After dvec to cuda: 446.646784 MB\n",
      "After forward to cuda: 4345.669632 MB\n",
      "After input to cuda: 446.145024 MB\n",
      "\bAfter single dvec to cuda: 424.700928 MB\n",
      "\bAfter single dvec to cuda: 433.67424 MB\n",
      "\bAfter single dvec to cuda: 437.214208 MB\n",
      "\bAfter single dvec to cuda: 441.025536 MB\n",
      "After dvec to cuda: 441.029632 MB\n",
      "After forward to cuda: 4340.418048 MB\n"
     ]
    },
    {
     "name": "stderr",
     "output_type": "stream",
     "text": [
      "2021-11-24 17:05:41,074 - INFO - Wrote summary at step 454\n"
     ]
    },
    {
     "name": "stdout",
     "output_type": "stream",
     "text": [
      "After input to cuda: 440.922112 MB\n",
      "\bAfter single dvec to cuda: 421.331968 MB\n",
      "\bAfter single dvec to cuda: 430.30784 MB\n",
      "\bAfter single dvec to cuda: 439.284224 MB\n",
      "\bAfter single dvec to cuda: 446.898688 MB\n",
      "After dvec to cuda: 446.902784 MB\n",
      "After forward to cuda: 4348.004352 MB\n",
      "After input to cuda: 447.005184 MB\n",
      "\bAfter single dvec to cuda: 416.548864 MB\n",
      "\bAfter single dvec to cuda: 425.525248 MB\n",
      "\bAfter single dvec to cuda: 434.49856 MB\n",
      "\bAfter single dvec to cuda: 441.844736 MB\n",
      "After dvec to cuda: 441.848832 MB\n",
      "After forward to cuda: 4341.54752 MB\n"
     ]
    },
    {
     "name": "stderr",
     "output_type": "stream",
     "text": [
      "2021-11-24 17:05:41,779 - INFO - Wrote summary at step 455\n"
     ]
    },
    {
     "name": "stdout",
     "output_type": "stream",
     "text": [
      "After input to cuda: 441.449472 MB\n",
      "\bAfter single dvec to cuda: 421.850112 MB\n",
      "\bAfter single dvec to cuda: 430.007808 MB\n",
      "\bAfter single dvec to cuda: 438.117376 MB\n",
      "\bAfter single dvec to cuda: 448.718336 MB\n",
      "After dvec to cuda: 448.722432 MB\n",
      "After forward to cuda: 4348.265472 MB\n",
      "After input to cuda: 448.722432 MB\n",
      "\bAfter single dvec to cuda: 420.764672 MB\n",
      "\bAfter single dvec to cuda: 430.5536 MB\n",
      "\bAfter single dvec to cuda: 439.796736 MB\n",
      "\bAfter single dvec to cuda: 447.686656 MB\n",
      "After dvec to cuda: 447.690752 MB\n",
      "After forward to cuda: 4349.218816 MB\n"
     ]
    },
    {
     "name": "stderr",
     "output_type": "stream",
     "text": [
      "2021-11-24 17:05:42,485 - INFO - Wrote summary at step 456\n"
     ]
    },
    {
     "name": "stdout",
     "output_type": "stream",
     "text": [
      "After input to cuda: 448.090112 MB\n",
      "\bAfter single dvec to cuda: 420.294144 MB\n",
      "\bAfter single dvec to cuda: 425.739264 MB\n",
      "\bAfter single dvec to cuda: 435.526656 MB\n",
      "\bAfter single dvec to cuda: 445.046272 MB\n",
      "After dvec to cuda: 445.050368 MB\n",
      "After forward to cuda: 4344.175616 MB\n",
      "After input to cuda: 444.651008 MB\n",
      "\bAfter single dvec to cuda: 422.34624 MB\n",
      "\bAfter single dvec to cuda: 431.594496 MB\n",
      "\bAfter single dvec to cuda: 441.3824 MB\n",
      "\bAfter single dvec to cuda: 448.375808 MB\n",
      "After dvec to cuda: 448.379904 MB\n",
      "After forward to cuda: 4348.791296 MB\n"
     ]
    },
    {
     "name": "stderr",
     "output_type": "stream",
     "text": [
      "2021-11-24 17:05:43,192 - INFO - Wrote summary at step 457\n"
     ]
    },
    {
     "name": "stdout",
     "output_type": "stream",
     "text": [
      "After input to cuda: 448.494592 MB\n",
      "\bAfter single dvec to cuda: 423.301632 MB\n",
      "\bAfter single dvec to cuda: 430.647296 MB\n",
      "\bAfter single dvec to cuda: 436.088832 MB\n",
      "\bAfter single dvec to cuda: 445.878784 MB\n",
      "After dvec to cuda: 445.88288 MB\n",
      "After forward to cuda: 4345.407488 MB\n",
      "After input to cuda: 446.529536 MB\n",
      "\bAfter single dvec to cuda: 423.895552 MB\n",
      "\bAfter single dvec to cuda: 431.243264 MB\n",
      "\bAfter single dvec to cuda: 441.033216 MB\n",
      "\bAfter single dvec to cuda: 450.824704 MB\n",
      "After dvec to cuda: 450.8288 MB\n",
      "After forward to cuda: 4350.95552 MB\n"
     ]
    },
    {
     "name": "stderr",
     "output_type": "stream",
     "text": [
      "2021-11-24 17:05:43,898 - INFO - Wrote summary at step 458\n"
     ]
    },
    {
     "name": "stdout",
     "output_type": "stream",
     "text": [
      "After input to cuda: 450.669568 MB\n",
      "\bAfter single dvec to cuda: 423.362048 MB\n",
      "\bAfter single dvec to cuda: 430.979584 MB\n",
      "\bAfter single dvec to cuda: 441.315328 MB\n",
      "\bAfter single dvec to cuda: 451.648512 MB\n",
      "After dvec to cuda: 451.652608 MB\n",
      "After forward to cuda: 4350.905856 MB\n",
      "After input to cuda: 452.008448 MB\n",
      "\bAfter single dvec to cuda: 424.067584 MB\n",
      "\bAfter single dvec to cuda: 434.34752 MB\n",
      "\bAfter single dvec to cuda: 443.593216 MB\n",
      "\bAfter single dvec to cuda: 451.755008 MB\n",
      "After dvec to cuda: 451.759104 MB\n",
      "After forward to cuda: 4351.604224 MB\n"
     ]
    },
    {
     "name": "stderr",
     "output_type": "stream",
     "text": [
      "2021-11-24 17:05:44,604 - INFO - Wrote summary at step 459\n"
     ]
    },
    {
     "name": "stdout",
     "output_type": "stream",
     "text": [
      "After input to cuda: 451.121664 MB\n",
      "\bAfter single dvec to cuda: 421.901312 MB\n",
      "\bAfter single dvec to cuda: 431.963136 MB\n",
      "\bAfter single dvec to cuda: 436.317184 MB\n",
      "\bAfter single dvec to cuda: 446.106624 MB\n",
      "After dvec to cuda: 446.11072 MB\n",
      "After forward to cuda: 4345.635328 MB\n",
      "After input to cuda: 446.11072 MB\n",
      "\bAfter single dvec to cuda: 423.504384 MB\n",
      "\bAfter single dvec to cuda: 432.749056 MB\n",
      "\bAfter single dvec to cuda: 441.9968 MB\n",
      "\bAfter single dvec to cuda: 451.783168 MB\n",
      "After dvec to cuda: 451.787264 MB\n",
      "After forward to cuda: 4351.632384 MB\n"
     ]
    },
    {
     "name": "stderr",
     "output_type": "stream",
     "text": [
      "2021-11-24 17:05:45,312 - INFO - Wrote summary at step 460\n"
     ]
    },
    {
     "name": "stdout",
     "output_type": "stream",
     "text": [
      "After input to cuda: 451.58144 MB\n",
      "\bAfter single dvec to cuda: 415.717888 MB\n",
      "\bAfter single dvec to cuda: 426.027008 MB\n",
      "\bAfter single dvec to cuda: 435.543552 MB\n",
      "\bAfter single dvec to cuda: 445.330432 MB\n",
      "After dvec to cuda: 445.334528 MB\n",
      "After forward to cuda: 4345.577984 MB\n",
      "After input to cuda: 445.14304 MB\n",
      "\bAfter single dvec to cuda: 420.690432 MB\n",
      "\bAfter single dvec to cuda: 430.974464 MB\n",
      "\bAfter single dvec to cuda: 441.310208 MB\n",
      "\bAfter single dvec to cuda: 450.830848 MB\n",
      "After dvec to cuda: 450.834944 MB\n",
      "After forward to cuda: 4351.55968 MB\n"
     ]
    },
    {
     "name": "stderr",
     "output_type": "stream",
     "text": [
      "2021-11-24 17:05:46,019 - INFO - Wrote summary at step 461\n"
     ]
    },
    {
     "name": "stdout",
     "output_type": "stream",
     "text": [
      "After input to cuda: 451.508736 MB\n",
      "\bAfter single dvec to cuda: 418.10176 MB\n",
      "\bAfter single dvec to cuda: 426.807296 MB\n",
      "\bAfter single dvec to cuda: 437.413376 MB\n",
      "\bAfter single dvec to cuda: 440.579584 MB\n",
      "After dvec to cuda: 440.58368 MB\n",
      "After forward to cuda: 4339.511296 MB\n",
      "After input to cuda: 439.986688 MB\n",
      "\bAfter single dvec to cuda: 417.23648 MB\n",
      "\bAfter single dvec to cuda: 420.507136 MB\n",
      "\bAfter single dvec to cuda: 429.480448 MB\n",
      "\bAfter single dvec to cuda: 437.9136 MB\n",
      "After dvec to cuda: 437.917696 MB\n",
      "After forward to cuda: 4339.5328 MB\n"
     ]
    },
    {
     "name": "stderr",
     "output_type": "stream",
     "text": [
      "2021-11-24 17:05:46,723 - INFO - Wrote summary at step 462\n"
     ]
    },
    {
     "name": "stdout",
     "output_type": "stream",
     "text": [
      "After input to cuda: 437.917696 MB\n",
      "\bAfter single dvec to cuda: 421.577728 MB\n",
      "\bAfter single dvec to cuda: 430.554112 MB\n",
      "\bAfter single dvec to cuda: 432.192512 MB\n",
      "\bAfter single dvec to cuda: 441.168384 MB\n",
      "After dvec to cuda: 441.17248 MB\n",
      "After forward to cuda: 4341.30432 MB\n",
      "After input to cuda: 441.17248 MB\n",
      "\bAfter single dvec to cuda: 423.210496 MB\n",
      "\bAfter single dvec to cuda: 432.459264 MB\n",
      "\bAfter single dvec to cuda: 442.247168 MB\n",
      "\bAfter single dvec to cuda: 450.94912 MB\n",
      "After dvec to cuda: 450.953216 MB\n",
      "After forward to cuda: 4350.477824 MB\n"
     ]
    },
    {
     "name": "stderr",
     "output_type": "stream",
     "text": [
      "2021-11-24 17:05:47,429 - INFO - Wrote summary at step 463\n"
     ]
    },
    {
     "name": "stdout",
     "output_type": "stream",
     "text": [
      "After input to cuda: 450.953216 MB\n",
      "\bAfter single dvec to cuda: 423.483392 MB\n",
      "\bAfter single dvec to cuda: 430.55616 MB\n",
      "\bAfter single dvec to cuda: 437.627392 MB\n",
      "\bAfter single dvec to cuda: 444.307968 MB\n",
      "After dvec to cuda: 444.312064 MB\n",
      "After forward to cuda: 4344.464384 MB\n",
      "After input to cuda: 444.891648 MB\n",
      "\bAfter single dvec to cuda: 416.589824 MB\n",
      "\bAfter single dvec to cuda: 426.376704 MB\n",
      "\bAfter single dvec to cuda: 436.439552 MB\n",
      "\bAfter single dvec to cuda: 444.868096 MB\n",
      "After dvec to cuda: 444.872192 MB\n",
      "After forward to cuda: 4344.45312 MB\n"
     ]
    },
    {
     "name": "stderr",
     "output_type": "stream",
     "text": [
      "2021-11-24 17:05:48,135 - INFO - Wrote summary at step 464\n"
     ]
    },
    {
     "name": "stdout",
     "output_type": "stream",
     "text": [
      "After input to cuda: 444.89472 MB\n",
      "\bAfter single dvec to cuda: 419.739648 MB\n",
      "\bAfter single dvec to cuda: 428.44416 MB\n",
      "\bAfter single dvec to cuda: 436.601344 MB\n",
      "\bAfter single dvec to cuda: 446.393344 MB\n",
      "After dvec to cuda: 446.39744 MB\n",
      "After forward to cuda: 4345.922048 MB\n",
      "After input to cuda: 446.11072 MB\n",
      "\bAfter single dvec to cuda: 417.552896 MB\n",
      "\bAfter single dvec to cuda: 420.2496 MB\n",
      "\bAfter single dvec to cuda: 430.506496 MB\n",
      "\bAfter single dvec to cuda: 438.799872 MB\n",
      "After dvec to cuda: 438.803968 MB\n",
      "After forward to cuda: 4338.738176 MB\n"
     ]
    },
    {
     "name": "stderr",
     "output_type": "stream",
     "text": [
      "2021-11-24 17:05:48,841 - INFO - Wrote summary at step 465\n"
     ]
    },
    {
     "name": "stdout",
     "output_type": "stream",
     "text": [
      "After input to cuda: 438.488576 MB\n",
      "\bAfter single dvec to cuda: 423.206912 MB\n",
      "\bAfter single dvec to cuda: 431.908352 MB\n",
      "\bAfter single dvec to cuda: 435.179008 MB\n",
      "\bAfter single dvec to cuda: 444.153344 MB\n",
      "After dvec to cuda: 444.15744 MB\n",
      "After forward to cuda: 4345.390592 MB\n",
      "After input to cuda: 445.09952 MB\n",
      "\bAfter single dvec to cuda: 420.890624 MB\n",
      "\bAfter single dvec to cuda: 432.355328 MB\n",
      "\bAfter single dvec to cuda: 441.3312 MB\n",
      "\bAfter single dvec to cuda: 444.524544 MB\n",
      "After dvec to cuda: 444.52864 MB\n",
      "After forward to cuda: 4343.679488 MB\n"
     ]
    },
    {
     "name": "stderr",
     "output_type": "stream",
     "text": [
      "2021-11-24 17:05:49,544 - INFO - Wrote summary at step 466\n"
     ]
    },
    {
     "name": "stdout",
     "output_type": "stream",
     "text": [
      "After input to cuda: 443.640832 MB\n",
      "\bAfter single dvec to cuda: 423.53408 MB\n",
      "\bAfter single dvec to cuda: 433.864192 MB\n",
      "\bAfter single dvec to cuda: 444.469248 MB\n",
      "\bAfter single dvec to cuda: 453.440512 MB\n",
      "After dvec to cuda: 453.444608 MB\n",
      "After forward to cuda: 4353.726976 MB\n",
      "After input to cuda: 453.772288 MB\n",
      "\bAfter single dvec to cuda: 423.51616 MB\n",
      "\bAfter single dvec to cuda: 432.219648 MB\n",
      "\bAfter single dvec to cuda: 436.034048 MB\n",
      "\bAfter single dvec to cuda: 446.83264 MB\n",
      "After dvec to cuda: 446.836736 MB\n",
      "After forward to cuda: 4347.350528 MB\n"
     ]
    },
    {
     "name": "stderr",
     "output_type": "stream",
     "text": [
      "2021-11-24 17:05:50,251 - INFO - Wrote summary at step 467\n"
     ]
    },
    {
     "name": "stdout",
     "output_type": "stream",
     "text": [
      "After input to cuda: 446.505984 MB\n",
      "\bAfter single dvec to cuda: 423.232512 MB\n",
      "\bAfter single dvec to cuda: 425.148928 MB\n",
      "\bAfter single dvec to cuda: 435.750912 MB\n",
      "\bAfter single dvec to cuda: 440.654336 MB\n",
      "After dvec to cuda: 440.658432 MB\n",
      "After forward to cuda: 4341.12512 MB\n",
      "After input to cuda: 440.607232 MB\n",
      "\bAfter single dvec to cuda: 423.130624 MB\n",
      "\bAfter single dvec to cuda: 427.48672 MB\n",
      "\bAfter single dvec to cuda: 435.920896 MB\n",
      "\bAfter single dvec to cuda: 443.262976 MB\n",
      "After dvec to cuda: 443.267072 MB\n",
      "After forward to cuda: 4343.07328 MB\n"
     ]
    },
    {
     "name": "stderr",
     "output_type": "stream",
     "text": [
      "2021-11-24 17:05:50,974 - INFO - Wrote summary at step 468\n"
     ]
    },
    {
     "name": "stdout",
     "output_type": "stream",
     "text": [
      "After input to cuda: 443.267072 MB\n",
      "\bAfter single dvec to cuda: 423.752192 MB\n",
      "\bAfter single dvec to cuda: 434.056192 MB\n",
      "\bAfter single dvec to cuda: 443.994112 MB\n",
      "\bAfter single dvec to cuda: 454.59712 MB\n",
      "After dvec to cuda: 454.601216 MB\n",
      "After forward to cuda: 4355.439104 MB\n",
      "After input to cuda: 455.198208 MB\n",
      "\bAfter single dvec to cuda: 421.669376 MB\n",
      "\bAfter single dvec to cuda: 432.001024 MB\n",
      "\bAfter single dvec to cuda: 439.071744 MB\n",
      "\bAfter single dvec to cuda: 448.86016 MB\n",
      "After dvec to cuda: 448.864256 MB\n",
      "After forward to cuda: 4348.308992 MB\n"
     ]
    },
    {
     "name": "stderr",
     "output_type": "stream",
     "text": [
      "2021-11-24 17:05:51,683 - INFO - Wrote summary at step 469\n"
     ]
    },
    {
     "name": "stdout",
     "output_type": "stream",
     "text": [
      "After input to cuda: 448.267264 MB\n",
      "\bAfter single dvec to cuda: 422.565888 MB\n",
      "\bAfter single dvec to cuda: 432.87552 MB\n",
      "\bAfter single dvec to cuda: 439.9232 MB\n",
      "\bAfter single dvec to cuda: 450.524672 MB\n",
      "After dvec to cuda: 450.528768 MB\n",
      "After forward to cuda: 4351.565312 MB\n",
      "After input to cuda: 450.528768 MB\n",
      "\bAfter single dvec to cuda: 423.482368 MB\n",
      "\bAfter single dvec to cuda: 433.818112 MB\n",
      "\bAfter single dvec to cuda: 437.635072 MB\n",
      "\bAfter single dvec to cuda: 445.248512 MB\n",
      "After dvec to cuda: 445.252608 MB\n",
      "After forward to cuda: 4345.656832 MB\n"
     ]
    },
    {
     "name": "stderr",
     "output_type": "stream",
     "text": [
      "2021-11-24 17:05:52,415 - INFO - Wrote summary at step 470\n"
     ]
    },
    {
     "name": "stdout",
     "output_type": "stream",
     "text": [
      "After input to cuda: 445.303808 MB\n",
      "\bAfter single dvec to cuda: 416.741376 MB\n",
      "\bAfter single dvec to cuda: 427.347968 MB\n",
      "\bAfter single dvec to cuda: 437.631488 MB\n",
      "\bAfter single dvec to cuda: 444.978688 MB\n",
      "After dvec to cuda: 444.982784 MB\n",
      "After forward to cuda: 4344.822784 MB\n",
      "After input to cuda: 445.298176 MB\n",
      "\bAfter single dvec to cuda: 421.949952 MB\n",
      "\bAfter single dvec to cuda: 430.379008 MB\n",
      "\bAfter single dvec to cuda: 434.092032 MB\n",
      "\bAfter single dvec to cuda: 443.336192 MB\n",
      "After dvec to cuda: 443.340288 MB\n",
      "After forward to cuda: 4342.549504 MB\n"
     ]
    },
    {
     "name": "stderr",
     "output_type": "stream",
     "text": [
      "2021-11-24 17:05:53,138 - INFO - Wrote summary at step 471\n"
     ]
    },
    {
     "name": "stdout",
     "output_type": "stream",
     "text": [
      "After input to cuda: 443.024896 MB\n",
      "\bAfter single dvec to cuda: 423.181312 MB\n",
      "\bAfter single dvec to cuda: 432.969728 MB\n",
      "\bAfter single dvec to cuda: 443.29984 MB\n",
      "\bAfter single dvec to cuda: 453.090816 MB\n",
      "After dvec to cuda: 453.094912 MB\n",
      "After forward to cuda: 4353.457152 MB\n",
      "After input to cuda: 453.364224 MB\n",
      "\bAfter single dvec to cuda: 416.961024 MB\n",
      "\bAfter single dvec to cuda: 427.268608 MB\n",
      "\bAfter single dvec to cuda: 437.060608 MB\n",
      "\bAfter single dvec to cuda: 443.050496 MB\n",
      "After dvec to cuda: 443.054592 MB\n",
      "After forward to cuda: 4342.398976 MB\n"
     ]
    },
    {
     "name": "stderr",
     "output_type": "stream",
     "text": [
      "2021-11-24 17:05:53,843 - INFO - Wrote summary at step 472\n"
     ]
    },
    {
     "name": "stdout",
     "output_type": "stream",
     "text": [
      "After input to cuda: 442.82624 MB\n",
      "\bAfter single dvec to cuda: 423.225856 MB\n",
      "\bAfter single dvec to cuda: 432.471552 MB\n",
      "\bAfter single dvec to cuda: 441.444352 MB\n",
      "\bAfter single dvec to cuda: 450.69056 MB\n",
      "After dvec to cuda: 450.694656 MB\n",
      "After forward to cuda: 4351.49056 MB\n",
      "After input to cuda: 451.313152 MB\n",
      "\bAfter single dvec to cuda: 424.464384 MB\n",
      "\bAfter single dvec to cuda: 433.440768 MB\n",
      "\bAfter single dvec to cuda: 443.501568 MB\n",
      "\bAfter single dvec to cuda: 452.474368 MB\n",
      "After dvec to cuda: 452.478464 MB\n",
      "After forward to cuda: 4352.457728 MB\n"
     ]
    },
    {
     "name": "stderr",
     "output_type": "stream",
     "text": [
      "2021-11-24 17:05:54,575 - INFO - Wrote summary at step 473\n"
     ]
    },
    {
     "name": "stdout",
     "output_type": "stream",
     "text": [
      "After input to cuda: 452.961792 MB\n",
      "\bAfter single dvec to cuda: 424.402432 MB\n",
      "\bAfter single dvec to cuda: 430.115328 MB\n",
      "\bAfter single dvec to cuda: 440.174592 MB\n",
      "\bAfter single dvec to cuda: 450.23232 MB\n",
      "After dvec to cuda: 450.236416 MB\n",
      "After forward to cuda: 4349.850112 MB\n",
      "After input to cuda: 449.042432 MB\n",
      "\bAfter single dvec to cuda: 424.022016 MB\n",
      "\bAfter single dvec to cuda: 434.057728 MB\n",
      "\bAfter single dvec to cuda: 444.312064 MB\n",
      "\bAfter single dvec to cuda: 454.91712 MB\n",
      "After dvec to cuda: 454.921216 MB\n",
      "After forward to cuda: 4354.445824 MB\n"
     ]
    },
    {
     "name": "stderr",
     "output_type": "stream",
     "text": [
      "2021-11-24 17:05:55,282 - INFO - Wrote summary at step 474\n"
     ]
    },
    {
     "name": "stdout",
     "output_type": "stream",
     "text": [
      "After input to cuda: 454.921216 MB\n",
      "\bAfter single dvec to cuda: 422.93504 MB\n",
      "\bAfter single dvec to cuda: 430.005248 MB\n",
      "\bAfter single dvec to cuda: 439.792128 MB\n",
      "\bAfter single dvec to cuda: 448.765952 MB\n",
      "After dvec to cuda: 448.770048 MB\n",
      "After forward to cuda: 4349.488128 MB\n",
      "After input to cuda: 449.421312 MB\n",
      "\bAfter single dvec to cuda: 416.526336 MB\n",
      "\bAfter single dvec to cuda: 426.5856 MB\n",
      "\bAfter single dvec to cuda: 436.376064 MB\n",
      "\bAfter single dvec to cuda: 444.266496 MB\n",
      "After dvec to cuda: 444.270592 MB\n",
      "After forward to cuda: 4343.961088 MB\n"
     ]
    },
    {
     "name": "stderr",
     "output_type": "stream",
     "text": [
      "2021-11-24 17:05:55,988 - INFO - Wrote summary at step 475\n"
     ]
    },
    {
     "name": "stdout",
     "output_type": "stream",
     "text": [
      "After input to cuda: 443.619328 MB\n",
      "\bAfter single dvec to cuda: 421.116928 MB\n",
      "\bAfter single dvec to cuda: 431.424512 MB\n",
      "\bAfter single dvec to cuda: 441.758208 MB\n",
      "\bAfter single dvec to cuda: 451.5456 MB\n",
      "After dvec to cuda: 451.549696 MB\n",
      "After forward to cuda: 4351.963136 MB\n",
      "After input to cuda: 451.870208 MB\n",
      "\bAfter single dvec to cuda: 423.504384 MB\n",
      "\bAfter single dvec to cuda: 427.319296 MB\n",
      "\bAfter single dvec to cuda: 429.505024 MB\n",
      "\bAfter single dvec to cuda: 435.6224 MB\n",
      "After dvec to cuda: 435.626496 MB\n",
      "After forward to cuda: 4334.830592 MB\n"
     ]
    },
    {
     "name": "stderr",
     "output_type": "stream",
     "text": [
      "2021-11-24 17:05:56,709 - INFO - Wrote summary at step 476\n"
     ]
    },
    {
     "name": "stdout",
     "output_type": "stream",
     "text": [
      "After input to cuda: 435.305984 MB\n",
      "\bAfter single dvec to cuda: 423.129088 MB\n",
      "\bAfter single dvec to cuda: 435.903488 MB\n",
      "\bAfter single dvec to cuda: 444.337664 MB\n",
      "\bAfter single dvec to cuda: 449.783296 MB\n",
      "After dvec to cuda: 449.787392 MB\n",
      "After forward to cuda: 4350.200832 MB\n",
      "After input to cuda: 450.384384 MB\n",
      "\bAfter single dvec to cuda: 424.0768 MB\n",
      "\bAfter single dvec to cuda: 434.332672 MB\n",
      "\bAfter single dvec to cuda: 441.408 MB\n",
      "\bAfter single dvec to cuda: 451.47136 MB\n",
      "After dvec to cuda: 451.475456 MB\n",
      "After forward to cuda: 4350.723584 MB\n"
     ]
    },
    {
     "name": "stderr",
     "output_type": "stream",
     "text": [
      "2021-11-24 17:05:57,418 - INFO - Wrote summary at step 477\n"
     ]
    },
    {
     "name": "stdout",
     "output_type": "stream",
     "text": [
      "After input to cuda: 451.198976 MB\n",
      "\bAfter single dvec to cuda: 418.642432 MB\n",
      "\bAfter single dvec to cuda: 421.642752 MB\n",
      "\bAfter single dvec to cuda: 430.34624 MB\n",
      "\bAfter single dvec to cuda: 438.77888 MB\n",
      "After dvec to cuda: 438.782976 MB\n",
      "After forward to cuda: 4339.255808 MB\n",
      "After input to cuda: 438.782976 MB\n",
      "\bAfter single dvec to cuda: 423.427072 MB\n",
      "\bAfter single dvec to cuda: 432.129536 MB\n",
      "\bAfter single dvec to cuda: 441.10592 MB\n",
      "\bAfter single dvec to cuda: 450.62144 MB\n",
      "After dvec to cuda: 450.625536 MB\n",
      "After forward to cuda: 4351.0144 MB\n"
     ]
    },
    {
     "name": "stderr",
     "output_type": "stream",
     "text": [
      "2021-11-24 17:05:58,134 - INFO - Wrote summary at step 478\n"
     ]
    },
    {
     "name": "stdout",
     "output_type": "stream",
     "text": [
      "After input to cuda: 450.911232 MB\n",
      "\bAfter single dvec to cuda: 423.738368 MB\n",
      "\bAfter single dvec to cuda: 433.257472 MB\n",
      "\bAfter single dvec to cuda: 443.32032 MB\n",
      "\bAfter single dvec to cuda: 450.314752 MB\n",
      "After dvec to cuda: 450.318848 MB\n",
      "After forward to cuda: 4350.685696 MB\n",
      "After input to cuda: 449.71264 MB\n",
      "\bAfter single dvec to cuda: 417.937408 MB\n",
      "\bAfter single dvec to cuda: 426.912768 MB\n",
      "\bAfter single dvec to cuda: 435.613184 MB\n",
      "\bAfter single dvec to cuda: 445.676544 MB\n",
      "After dvec to cuda: 445.68064 MB\n",
      "After forward to cuda: 4346.144256 MB\n"
     ]
    },
    {
     "name": "stderr",
     "output_type": "stream",
     "text": [
      "2021-11-24 17:05:58,862 - INFO - Wrote summary at step 479\n"
     ]
    },
    {
     "name": "stdout",
     "output_type": "stream",
     "text": [
      "After input to cuda: 445.68064 MB\n",
      "\bAfter single dvec to cuda: 423.182848 MB\n",
      "\bAfter single dvec to cuda: 432.426496 MB\n",
      "\bAfter single dvec to cuda: 442.761728 MB\n",
      "\bAfter single dvec to cuda: 452.008448 MB\n",
      "After dvec to cuda: 452.012544 MB\n",
      "After forward to cuda: 4351.852544 MB\n",
      "After input to cuda: 452.327936 MB\n",
      "\bAfter single dvec to cuda: 421.621248 MB\n",
      "\bAfter single dvec to cuda: 432.223232 MB\n",
      "\bAfter single dvec to cuda: 440.383488 MB\n",
      "\bAfter single dvec to cuda: 447.426048 MB\n",
      "After dvec to cuda: 447.430144 MB\n",
      "After forward to cuda: 4347.73248 MB\n"
     ]
    },
    {
     "name": "stderr",
     "output_type": "stream",
     "text": [
      "2021-11-24 17:05:59,571 - INFO - Wrote summary at step 480\n"
     ]
    },
    {
     "name": "stdout",
     "output_type": "stream",
     "text": [
      "After input to cuda: 448.236544 MB\n",
      "\bAfter single dvec to cuda: 424.256512 MB\n",
      "\bAfter single dvec to cuda: 433.776128 MB\n",
      "\bAfter single dvec to cuda: 444.381696 MB\n",
      "\bAfter single dvec to cuda: 454.171648 MB\n",
      "After dvec to cuda: 454.175744 MB\n",
      "After forward to cuda: 4353.512448 MB\n",
      "After input to cuda: 453.053952 MB\n",
      "\bAfter single dvec to cuda: 422.315008 MB\n",
      "\bAfter single dvec to cuda: 432.570368 MB\n",
      "\bAfter single dvec to cuda: 436.38528 MB\n",
      "\bAfter single dvec to cuda: 445.091328 MB\n",
      "After dvec to cuda: 445.095424 MB\n",
      "After forward to cuda: 4344.623104 MB\n"
     ]
    },
    {
     "name": "stderr",
     "output_type": "stream",
     "text": [
      "2021-11-24 17:06:00,302 - INFO - Wrote summary at step 481\n"
     ]
    },
    {
     "name": "stdout",
     "output_type": "stream",
     "text": [
      "After input to cuda: 445.069824 MB\n",
      "\bAfter single dvec to cuda: 422.291968 MB\n",
      "\bAfter single dvec to cuda: 429.636608 MB\n",
      "\bAfter single dvec to cuda: 439.966208 MB\n",
      "\bAfter single dvec to cuda: 448.669184 MB\n",
      "After dvec to cuda: 448.67328 MB\n",
      "After forward to cuda: 4349.6704 MB\n",
      "After input to cuda: 449.295872 MB\n",
      "\bAfter single dvec to cuda: 423.80544 MB\n",
      "\bAfter single dvec to cuda: 433.691136 MB\n",
      "\bAfter single dvec to cuda: 443.481088 MB\n",
      "\bAfter single dvec to cuda: 452.998144 MB\n",
      "After dvec to cuda: 453.00224 MB\n",
      "After forward to cuda: 4351.981056 MB\n"
     ]
    },
    {
     "name": "stderr",
     "output_type": "stream",
     "text": [
      "2021-11-24 17:06:01,010 - INFO - Wrote summary at step 482\n"
     ]
    },
    {
     "name": "stdout",
     "output_type": "stream",
     "text": [
      "After input to cuda: 452.405248 MB\n",
      "\bAfter single dvec to cuda: 423.207936 MB\n",
      "\bAfter single dvec to cuda: 433.147904 MB\n",
      "\bAfter single dvec to cuda: 443.210752 MB\n",
      "\bAfter single dvec to cuda: 453.811712 MB\n",
      "After dvec to cuda: 453.815808 MB\n",
      "After forward to cuda: 4354.254336 MB\n",
      "After input to cuda: 453.815808 MB\n",
      "\bAfter single dvec to cuda: 421.850112 MB\n",
      "\bAfter single dvec to cuda: 431.91296 MB\n",
      "\bAfter single dvec to cuda: 439.527936 MB\n",
      "\bAfter single dvec to cuda: 448.902656 MB\n",
      "After dvec to cuda: 448.906752 MB\n",
      "After forward to cuda: 4348.43136 MB\n"
     ]
    },
    {
     "name": "stderr",
     "output_type": "stream",
     "text": [
      "2021-11-24 17:06:01,737 - INFO - Wrote summary at step 483\n"
     ]
    },
    {
     "name": "stdout",
     "output_type": "stream",
     "text": [
      "After input to cuda: 448.906752 MB\n",
      "\bAfter single dvec to cuda: 423.15776 MB\n",
      "\bAfter single dvec to cuda: 433.49248 MB\n",
      "\bAfter single dvec to cuda: 442.468352 MB\n",
      "\bAfter single dvec to cuda: 445.739008 MB\n",
      "After dvec to cuda: 445.743104 MB\n",
      "After forward to cuda: 4346.102272 MB\n",
      "After input to cuda: 446.606336 MB\n",
      "\bAfter single dvec to cuda: 423.890944 MB\n",
      "\bAfter single dvec to cuda: 430.9632 MB\n",
      "\bAfter single dvec to cuda: 441.242624 MB\n",
      "\bAfter single dvec to cuda: 451.032576 MB\n",
      "After dvec to cuda: 451.036672 MB\n",
      "After forward to cuda: 4349.959168 MB\n"
     ]
    },
    {
     "name": "stderr",
     "output_type": "stream",
     "text": [
      "2021-11-24 17:06:02,465 - INFO - Wrote summary at step 484\n"
     ]
    },
    {
     "name": "stdout",
     "output_type": "stream",
     "text": [
      "After input to cuda: 450.202112 MB\n",
      "\bAfter single dvec to cuda: 422.62016 MB\n",
      "\bAfter single dvec to cuda: 432.94976 MB\n",
      "\bAfter single dvec to cuda: 442.466816 MB\n",
      "\bAfter single dvec to cuda: 443.567104 MB\n",
      "After dvec to cuda: 443.5712 MB\n",
      "After forward to cuda: 4343.625216 MB\n",
      "After input to cuda: 443.584512 MB\n",
      "\bAfter single dvec to cuda: 422.436864 MB\n",
      "\bAfter single dvec to cuda: 429.456384 MB\n",
      "\bAfter single dvec to cuda: 436.255232 MB\n",
      "\bAfter single dvec to cuda: 446.862336 MB\n",
      "After dvec to cuda: 446.866432 MB\n",
      "After forward to cuda: 4346.620416 MB\n"
     ]
    },
    {
     "name": "stderr",
     "output_type": "stream",
     "text": [
      "2021-11-24 17:06:03,191 - INFO - Wrote summary at step 485\n"
     ]
    },
    {
     "name": "stdout",
     "output_type": "stream",
     "text": [
      "After input to cuda: 447.12448 MB\n",
      "\bAfter single dvec to cuda: 416.71936 MB\n",
      "\bAfter single dvec to cuda: 423.415808 MB\n",
      "\bAfter single dvec to cuda: 432.930304 MB\n",
      "\bAfter single dvec to cuda: 442.17344 MB\n",
      "After dvec to cuda: 442.177536 MB\n",
      "After forward to cuda: 4342.03392 MB\n",
      "After input to cuda: 441.887744 MB\n",
      "\bAfter single dvec to cuda: 417.790976 MB\n",
      "\bAfter single dvec to cuda: 428.021248 MB\n",
      "\bAfter single dvec to cuda: 438.08512 MB\n",
      "\bAfter single dvec to cuda: 448.14848 MB\n",
      "After dvec to cuda: 448.152576 MB\n",
      "After forward to cuda: 4347.948544 MB\n"
     ]
    },
    {
     "name": "stderr",
     "output_type": "stream",
     "text": [
      "2021-11-24 17:06:03,897 - INFO - Wrote summary at step 486\n"
     ]
    },
    {
     "name": "stdout",
     "output_type": "stream",
     "text": [
      "After input to cuda: 448.142336 MB\n",
      "\bAfter single dvec to cuda: 421.58336 MB\n",
      "\bAfter single dvec to cuda: 428.926976 MB\n",
      "\bAfter single dvec to cuda: 438.989824 MB\n",
      "\bAfter single dvec to cuda: 448.777728 MB\n",
      "After dvec to cuda: 448.781824 MB\n",
      "After forward to cuda: 4348.913664 MB\n",
      "After input to cuda: 448.781824 MB\n",
      "\bAfter single dvec to cuda: 423.481856 MB\n",
      "\bAfter single dvec to cuda: 434.084352 MB\n",
      "\bAfter single dvec to cuda: 442.787328 MB\n",
      "\bAfter single dvec to cuda: 446.599168 MB\n",
      "After dvec to cuda: 446.603264 MB\n",
      "After forward to cuda: 4346.127872 MB\n"
     ]
    },
    {
     "name": "stderr",
     "output_type": "stream",
     "text": [
      "2021-11-24 17:06:04,628 - INFO - Wrote summary at step 487\n"
     ]
    },
    {
     "name": "stdout",
     "output_type": "stream",
     "text": [
      "After input to cuda: 446.603264 MB\n",
      "\bAfter single dvec to cuda: 423.158784 MB\n",
      "\bAfter single dvec to cuda: 431.591424 MB\n",
      "\bAfter single dvec to cuda: 440.020992 MB\n",
      "\bAfter single dvec to cuda: 450.08384 MB\n",
      "After dvec to cuda: 450.087936 MB\n",
      "After forward to cuda: 4350.585344 MB\n",
      "After input to cuda: 450.492416 MB\n",
      "\bAfter single dvec to cuda: 417.369088 MB\n",
      "\bAfter single dvec to cuda: 427.297792 MB\n",
      "\bAfter single dvec to cuda: 437.629952 MB\n",
      "\bAfter single dvec to cuda: 447.693824 MB\n",
      "After dvec to cuda: 447.69792 MB\n",
      "After forward to cuda: 4346.818048 MB\n"
     ]
    },
    {
     "name": "stderr",
     "output_type": "stream",
     "text": [
      "2021-11-24 17:06:05,355 - INFO - Wrote summary at step 488\n"
     ]
    },
    {
     "name": "stdout",
     "output_type": "stream",
     "text": [
      "After input to cuda: 447.245312 MB\n",
      "\bAfter single dvec to cuda: 422.728192 MB\n",
      "\bAfter single dvec to cuda: 432.714752 MB\n",
      "\bAfter single dvec to cuda: 437.34528 MB\n",
      "\bAfter single dvec to cuda: 447.650816 MB\n",
      "After dvec to cuda: 447.654912 MB\n",
      "After forward to cuda: 4347.227648 MB\n",
      "After input to cuda: 447.70304 MB\n",
      "\bAfter single dvec to cuda: 423.48032 MB\n",
      "\bAfter single dvec to cuda: 431.9104 MB\n",
      "\bAfter single dvec to cuda: 441.917952 MB\n",
      "\bAfter single dvec to cuda: 448.623104 MB\n",
      "After dvec to cuda: 448.6272 MB\n",
      "After forward to cuda: 4348.151808 MB\n"
     ]
    },
    {
     "name": "stderr",
     "output_type": "stream",
     "text": [
      "2021-11-24 17:06:06,077 - INFO - Wrote summary at step 489\n"
     ]
    },
    {
     "name": "stdout",
     "output_type": "stream",
     "text": [
      "After input to cuda: 448.6272 MB\n",
      "\bAfter single dvec to cuda: 420.222976 MB\n",
      "\bAfter single dvec to cuda: 430.283264 MB\n",
      "\bAfter single dvec to cuda: 440.182784 MB\n",
      "\bAfter single dvec to cuda: 449.159168 MB\n",
      "After dvec to cuda: 449.163264 MB\n",
      "After forward to cuda: 4348.974592 MB\n",
      "After input to cuda: 449.163264 MB\n",
      "\bAfter single dvec to cuda: 423.48288 MB\n",
      "\bAfter single dvec to cuda: 433.354752 MB\n",
      "\bAfter single dvec to cuda: 443.685888 MB\n",
      "\bAfter single dvec to cuda: 447.772672 MB\n",
      "After dvec to cuda: 447.776768 MB\n",
      "After forward to cuda: 4348.258304 MB\n"
     ]
    },
    {
     "name": "stderr",
     "output_type": "stream",
     "text": [
      "2021-11-24 17:06:06,783 - INFO - Wrote summary at step 490\n"
     ]
    },
    {
     "name": "stdout",
     "output_type": "stream",
     "text": [
      "After input to cuda: 447.776768 MB\n",
      "\bAfter single dvec to cuda: 423.156224 MB\n",
      "\bAfter single dvec to cuda: 433.686016 MB\n",
      "\bAfter single dvec to cuda: 444.021248 MB\n",
      "\bAfter single dvec to cuda: 453.626368 MB\n",
      "After dvec to cuda: 453.630464 MB\n",
      "After forward to cuda: 4353.475584 MB\n",
      "After input to cuda: 453.874176 MB\n",
      "\bAfter single dvec to cuda: 423.402496 MB\n",
      "\bAfter single dvec to cuda: 432.647168 MB\n",
      "\bAfter single dvec to cuda: 442.475008 MB\n",
      "\bAfter single dvec to cuda: 451.181056 MB\n",
      "After dvec to cuda: 451.185152 MB\n",
      "After forward to cuda: 4351.044608 MB\n"
     ]
    },
    {
     "name": "stderr",
     "output_type": "stream",
     "text": [
      "2021-11-24 17:06:07,491 - INFO - Wrote summary at step 491\n"
     ]
    },
    {
     "name": "stdout",
     "output_type": "stream",
     "text": [
      "After input to cuda: 450.86464 MB\n",
      "\bAfter single dvec to cuda: 423.945728 MB\n",
      "\bAfter single dvec to cuda: 431.873024 MB\n",
      "\bAfter single dvec to cuda: 440.475648 MB\n",
      "\bAfter single dvec to cuda: 447.494656 MB\n",
      "After dvec to cuda: 447.498752 MB\n",
      "After forward to cuda: 4347.641344 MB\n",
      "After input to cuda: 447.498752 MB\n",
      "\bAfter single dvec to cuda: 423.405568 MB\n",
      "\bAfter single dvec to cuda: 434.009088 MB\n",
      "\bAfter single dvec to cuda: 437.221888 MB\n",
      "\bAfter single dvec to cuda: 445.74464 MB\n",
      "After dvec to cuda: 445.748736 MB\n",
      "After forward to cuda: 4345.593856 MB\n"
     ]
    },
    {
     "name": "stderr",
     "output_type": "stream",
     "text": [
      "2021-11-24 17:06:08,198 - INFO - Wrote summary at step 492\n"
     ]
    },
    {
     "name": "stdout",
     "output_type": "stream",
     "text": [
      "After input to cuda: 446.069248 MB\n",
      "\bAfter single dvec to cuda: 422.908928 MB\n",
      "\bAfter single dvec to cuda: 433.243136 MB\n",
      "\bAfter single dvec to cuda: 443.034624 MB\n",
      "\bAfter single dvec to cuda: 452.346368 MB\n",
      "After dvec to cuda: 452.350464 MB\n",
      "After forward to cuda: 4352.267264 MB\n",
      "After input to cuda: 452.029952 MB\n",
      "\bAfter single dvec to cuda: 423.03232 MB\n",
      "\bAfter single dvec to cuda: 431.189504 MB\n",
      "\bAfter single dvec to cuda: 438.263808 MB\n",
      "\bAfter single dvec to cuda: 446.966272 MB\n",
      "After dvec to cuda: 446.970368 MB\n",
      "After forward to cuda: 4347.203584 MB\n"
     ]
    },
    {
     "name": "stderr",
     "output_type": "stream",
     "text": [
      "2021-11-24 17:06:08,905 - INFO - Wrote summary at step 493\n"
     ]
    },
    {
     "name": "stdout",
     "output_type": "stream",
     "text": [
      "After input to cuda: 447.630848 MB\n",
      "\bAfter single dvec to cuda: 422.437376 MB\n",
      "\bAfter single dvec to cuda: 431.682048 MB\n",
      "\bAfter single dvec to cuda: 441.201664 MB\n",
      "\bAfter single dvec to cuda: 450.448384 MB\n",
      "After dvec to cuda: 450.45248 MB\n",
      "After forward to cuda: 4349.680128 MB\n",
      "After input to cuda: 450.107392 MB\n",
      "\bAfter single dvec to cuda: 423.425024 MB\n",
      "\bAfter single dvec to cuda: 432.129536 MB\n",
      "\bAfter single dvec to cuda: 439.74656 MB\n",
      "\bAfter single dvec to cuda: 450.077184 MB\n",
      "After dvec to cuda: 450.08128 MB\n",
      "After forward to cuda: 4349.945856 MB\n"
     ]
    },
    {
     "name": "stderr",
     "output_type": "stream",
     "text": [
      "2021-11-24 17:06:09,612 - INFO - Wrote summary at step 494\n"
     ]
    },
    {
     "name": "stdout",
     "output_type": "stream",
     "text": [
      "After input to cuda: 449.765888 MB\n",
      "\bAfter single dvec to cuda: 423.0528 MB\n",
      "\bAfter single dvec to cuda: 431.755264 MB\n",
      "\bAfter single dvec to cuda: 441.542144 MB\n",
      "\bAfter single dvec to cuda: 451.872256 MB\n",
      "After dvec to cuda: 451.876352 MB\n",
      "After forward to cuda: 4351.425536 MB\n",
      "After input to cuda: 451.876352 MB\n",
      "\bAfter single dvec to cuda: 421.23008 MB\n",
      "\bAfter single dvec to cuda: 430.4768 MB\n",
      "\bAfter single dvec to cuda: 439.724032 MB\n",
      "\bAfter single dvec to cuda: 443.999744 MB\n",
      "After dvec to cuda: 444.00384 MB\n",
      "After forward to cuda: 4344.121344 MB\n"
     ]
    },
    {
     "name": "stderr",
     "output_type": "stream",
     "text": [
      "2021-11-24 17:06:10,322 - INFO - Wrote summary at step 495\n"
     ]
    },
    {
     "name": "stdout",
     "output_type": "stream",
     "text": [
      "After input to cuda: 444.08064 MB\n",
      "\bAfter single dvec to cuda: 416.420352 MB\n",
      "\bAfter single dvec to cuda: 420.232192 MB\n",
      "\bAfter single dvec to cuda: 427.30496 MB\n",
      "\bAfter single dvec to cuda: 438.177792 MB\n",
      "After dvec to cuda: 438.181888 MB\n",
      "After forward to cuda: 4337.655296 MB\n",
      "After input to cuda: 438.15936 MB\n",
      "\bAfter single dvec to cuda: 413.952512 MB\n",
      "\bAfter single dvec to cuda: 422.113792 MB\n",
      "\bAfter single dvec to cuda: 431.090176 MB\n",
      "\bAfter single dvec to cuda: 434.305024 MB\n",
      "After dvec to cuda: 434.30912 MB\n",
      "After forward to cuda: 4334.444032 MB\n"
     ]
    },
    {
     "name": "stderr",
     "output_type": "stream",
     "text": [
      "2021-11-24 17:06:11,023 - INFO - Wrote summary at step 496\n"
     ]
    },
    {
     "name": "stdout",
     "output_type": "stream",
     "text": [
      "After input to cuda: 434.254848 MB\n",
      "\bAfter single dvec to cuda: 421.774336 MB\n",
      "\bAfter single dvec to cuda: 422.603776 MB\n",
      "\bAfter single dvec to cuda: 424.242176 MB\n",
      "\bAfter single dvec to cuda: 433.21856 MB\n",
      "After dvec to cuda: 433.222656 MB\n",
      "After forward to cuda: 4333.315584 MB\n",
      "After input to cuda: 433.74592 MB\n",
      "\bAfter single dvec to cuda: 423.576064 MB\n",
      "\bAfter single dvec to cuda: 432.54784 MB\n",
      "\bAfter single dvec to cuda: 442.607104 MB\n",
      "\bAfter single dvec to cuda: 452.66688 MB\n",
      "After dvec to cuda: 452.670976 MB\n",
      "After forward to cuda: 4352.564224 MB\n"
     ]
    },
    {
     "name": "stderr",
     "output_type": "stream",
     "text": [
      "2021-11-24 17:06:11,728 - INFO - Wrote summary at step 497\n"
     ]
    },
    {
     "name": "stdout",
     "output_type": "stream",
     "text": [
      "After input to cuda: 452.545024 MB\n",
      "\bAfter single dvec to cuda: 423.476224 MB\n",
      "\bAfter single dvec to cuda: 432.177152 MB\n",
      "\bAfter single dvec to cuda: 442.545152 MB\n",
      "\bAfter single dvec to cuda: 450.704896 MB\n",
      "After dvec to cuda: 450.708992 MB\n",
      "After forward to cuda: 4350.2336 MB\n",
      "After input to cuda: 450.708992 MB\n",
      "\bAfter single dvec to cuda: 421.470208 MB\n",
      "\bAfter single dvec to cuda: 431.800832 MB\n",
      "\bAfter single dvec to cuda: 441.04448 MB\n",
      "\bAfter single dvec to cuda: 451.648 MB\n",
      "After dvec to cuda: 451.652096 MB\n",
      "After forward to cuda: 4351.424512 MB\n"
     ]
    },
    {
     "name": "stderr",
     "output_type": "stream",
     "text": [
      "2021-11-24 17:06:12,435 - INFO - Wrote summary at step 498\n"
     ]
    },
    {
     "name": "stdout",
     "output_type": "stream",
     "text": [
      "After input to cuda: 451.851776 MB\n",
      "\bAfter single dvec to cuda: 423.999488 MB\n",
      "\bAfter single dvec to cuda: 432.495616 MB\n",
      "\bAfter single dvec to cuda: 442.7776 MB\n",
      "\bAfter single dvec to cuda: 452.02432 MB\n",
      "After dvec to cuda: 452.028416 MB\n",
      "After forward to cuda: 4351.032832 MB\n",
      "After input to cuda: 451.508224 MB\n",
      "\bAfter single dvec to cuda: 421.851648 MB\n",
      "\bAfter single dvec to cuda: 430.283264 MB\n",
      "\bAfter single dvec to cuda: 439.800832 MB\n",
      "\bAfter single dvec to cuda: 449.434624 MB\n",
      "After dvec to cuda: 449.43872 MB\n",
      "After forward to cuda: 4350.357504 MB\n"
     ]
    },
    {
     "name": "stderr",
     "output_type": "stream",
     "text": [
      "2021-11-24 17:06:13,145 - INFO - Wrote summary at step 499\n"
     ]
    },
    {
     "name": "stdout",
     "output_type": "stream",
     "text": [
      "After input to cuda: 449.43872 MB\n",
      "\bAfter single dvec to cuda: 423.159808 MB\n",
      "\bAfter single dvec to cuda: 432.679424 MB\n",
      "\bAfter single dvec to cuda: 442.471424 MB\n",
      "\bAfter single dvec to cuda: 452.534784 MB\n",
      "After dvec to cuda: 452.53888 MB\n",
      "After forward to cuda: 4352.77824 MB\n",
      "After input to cuda: 452.46208 MB\n",
      "\bAfter single dvec to cuda: 422.32064 MB\n",
      "\bAfter single dvec to cuda: 429.937152 MB\n",
      "\bAfter single dvec to cuda: 438.640128 MB\n",
      "\bAfter single dvec to cuda: 447.616 MB\n",
      "After dvec to cuda: 447.620096 MB\n",
      "After forward to cuda: 4347.229696 MB\n"
     ]
    },
    {
     "name": "stderr",
     "output_type": "stream",
     "text": [
      "2021-11-24 17:06:13,875 - INFO - Wrote summary at step 500\n"
     ]
    },
    {
     "name": "stdout",
     "output_type": "stream",
     "text": [
      "After input to cuda: 447.620096 MB\n",
      "\bAfter single dvec to cuda: 417.69984 MB\n",
      "\bAfter single dvec to cuda: 428.034048 MB\n",
      "\bAfter single dvec to cuda: 436.192256 MB\n",
      "\bAfter single dvec to cuda: 447.131136 MB\n",
      "After dvec to cuda: 447.135232 MB\n",
      "After forward to cuda: 4347.469312 MB\n",
      "After input to cuda: 447.973376 MB\n",
      "\bAfter single dvec to cuda: 423.891968 MB\n",
      "\bAfter single dvec to cuda: 433.408512 MB\n",
      "\bAfter single dvec to cuda: 440.376832 MB\n",
      "\bAfter single dvec to cuda: 451.523584 MB\n",
      "After dvec to cuda: 451.52768 MB\n",
      "After forward to cuda: 4351.254016 MB\n"
     ]
    },
    {
     "name": "stderr",
     "output_type": "stream",
     "text": [
      "2021-11-24 17:06:14,583 - INFO - Wrote summary at step 501\n"
     ]
    },
    {
     "name": "stdout",
     "output_type": "stream",
     "text": [
      "After input to cuda: 450.689536 MB\n",
      "\bAfter single dvec to cuda: 421.505024 MB\n",
      "\bAfter single dvec to cuda: 432.550912 MB\n",
      "\bAfter single dvec to cuda: 438.182912 MB\n",
      "\bAfter single dvec to cuda: 443.625984 MB\n",
      "After dvec to cuda: 443.63008 MB\n",
      "After forward to cuda: 4343.96928 MB\n",
      "After input to cuda: 443.70688 MB\n",
      "\bAfter single dvec to cuda: 423.131648 MB\n",
      "\bAfter single dvec to cuda: 431.971328 MB\n",
      "\bAfter single dvec to cuda: 440.402432 MB\n",
      "\bAfter single dvec to cuda: 447.477248 MB\n",
      "After dvec to cuda: 447.481344 MB\n",
      "After forward to cuda: 4347.005952 MB\n"
     ]
    },
    {
     "name": "stderr",
     "output_type": "stream",
     "text": [
      "2021-11-24 17:06:15,292 - INFO - Wrote summary at step 502\n"
     ]
    },
    {
     "name": "stdout",
     "output_type": "stream",
     "text": [
      "After input to cuda: 447.481344 MB\n",
      "\bAfter single dvec to cuda: 419.585024 MB\n",
      "\bAfter single dvec to cuda: 429.892608 MB\n",
      "\bAfter single dvec to cuda: 439.138304 MB\n",
      "\bAfter single dvec to cuda: 447.840256 MB\n",
      "After dvec to cuda: 447.844352 MB\n",
      "After forward to cuda: 4347.9424 MB\n",
      "After input to cuda: 447.844352 MB\n",
      "\bAfter single dvec to cuda: 423.181312 MB\n",
      "\bAfter single dvec to cuda: 431.61344 MB\n",
      "\bAfter single dvec to cuda: 440.859648 MB\n",
      "\bAfter single dvec to cuda: 450.646016 MB\n",
      "After dvec to cuda: 450.650112 MB\n",
      "After forward to cuda: 4351.251456 MB\n"
     ]
    },
    {
     "name": "stderr",
     "output_type": "stream",
     "text": [
      "2021-11-24 17:06:16,001 - INFO - Wrote summary at step 503\n"
     ]
    },
    {
     "name": "stdout",
     "output_type": "stream",
     "text": [
      "After input to cuda: 450.960384 MB\n",
      "\bAfter single dvec to cuda: 422.16448 MB\n",
      "\bAfter single dvec to cuda: 430.326272 MB\n",
      "\bAfter single dvec to cuda: 439.763968 MB\n",
      "\bAfter single dvec to cuda: 450.096128 MB\n",
      "After dvec to cuda: 450.100224 MB\n",
      "After forward to cuda: 4349.921792 MB\n",
      "After input to cuda: 449.789952 MB\n",
      "\bAfter single dvec to cuda: 421.85472 MB\n",
      "\bAfter single dvec to cuda: 432.731136 MB\n",
      "\bAfter single dvec to cuda: 440.892928 MB\n",
      "\bAfter single dvec to cuda: 450.14016 MB\n",
      "After dvec to cuda: 450.144256 MB\n",
      "After forward to cuda: 4350.6304 MB\n"
     ]
    },
    {
     "name": "stderr",
     "output_type": "stream",
     "text": [
      "2021-11-24 17:06:16,707 - INFO - Wrote summary at step 504\n"
     ]
    },
    {
     "name": "stdout",
     "output_type": "stream",
     "text": [
      "After input to cuda: 450.741248 MB\n",
      "\bAfter single dvec to cuda: 423.727104 MB\n",
      "\bAfter single dvec to cuda: 429.441536 MB\n",
      "\bAfter single dvec to cuda: 441.02912 MB\n",
      "\bAfter single dvec to cuda: 450.275328 MB\n",
      "After dvec to cuda: 450.279424 MB\n",
      "After forward to cuda: 4349.804032 MB\n",
      "After input to cuda: 450.279424 MB\n",
      "\bAfter single dvec to cuda: 423.806976 MB\n",
      "\bAfter single dvec to cuda: 433.594368 MB\n",
      "\bAfter single dvec to cuda: 435.508224 MB\n",
      "\bAfter single dvec to cuda: 445.842944 MB\n",
      "After dvec to cuda: 445.84704 MB\n",
      "After forward to cuda: 4345.536 MB\n"
     ]
    },
    {
     "name": "stderr",
     "output_type": "stream",
     "text": [
      "2021-11-24 17:06:17,414 - INFO - Wrote summary at step 505\n"
     ]
    },
    {
     "name": "stdout",
     "output_type": "stream",
     "text": [
      "After input to cuda: 446.011392 MB\n",
      "\bAfter single dvec to cuda: 422.068736 MB\n",
      "\bAfter single dvec to cuda: 424.7936 MB\n",
      "\bAfter single dvec to cuda: 430.782464 MB\n",
      "\bAfter single dvec to cuda: 439.7568 MB\n",
      "After dvec to cuda: 439.760896 MB\n",
      "After forward to cuda: 4340.4928 MB\n",
      "After input to cuda: 440.033792 MB\n",
      "\bAfter single dvec to cuda: 421.797376 MB\n",
      "\bAfter single dvec to cuda: 429.41184 MB\n",
      "\bAfter single dvec to cuda: 438.383616 MB\n",
      "\bAfter single dvec to cuda: 447.899136 MB\n",
      "After dvec to cuda: 447.903232 MB\n",
      "After forward to cuda: 4348.228608 MB\n"
     ]
    },
    {
     "name": "stderr",
     "output_type": "stream",
     "text": [
      "2021-11-24 17:06:18,120 - INFO - Wrote summary at step 506\n"
     ]
    },
    {
     "name": "stdout",
     "output_type": "stream",
     "text": [
      "After input to cuda: 447.66976 MB\n",
      "\bAfter single dvec to cuda: 424.013824 MB\n",
      "\bAfter single dvec to cuda: 432.988672 MB\n",
      "\bAfter single dvec to cuda: 442.77504 MB\n",
      "\bAfter single dvec to cuda: 452.56192 MB\n",
      "After dvec to cuda: 452.566016 MB\n",
      "After forward to cuda: 4351.576576 MB\n",
      "After input to cuda: 451.765248 MB\n",
      "\bAfter single dvec to cuda: 421.853184 MB\n",
      "\bAfter single dvec to cuda: 432.03072 MB\n",
      "\bAfter single dvec to cuda: 442.336768 MB\n",
      "\bAfter single dvec to cuda: 452.399104 MB\n",
      "After dvec to cuda: 452.4032 MB\n",
      "After forward to cuda: 4352.496128 MB\n"
     ]
    },
    {
     "name": "stderr",
     "output_type": "stream",
     "text": [
      "2021-11-24 17:06:18,827 - INFO - Wrote summary at step 507\n"
     ]
    },
    {
     "name": "stdout",
     "output_type": "stream",
     "text": [
      "After input to cuda: 452.4032 MB\n",
      "\bAfter single dvec to cuda: 419.94752 MB\n",
      "\bAfter single dvec to cuda: 430.071808 MB\n",
      "\bAfter single dvec to cuda: 440.676864 MB\n",
      "\bAfter single dvec to cuda: 451.55328 MB\n",
      "After dvec to cuda: 451.557376 MB\n",
      "After forward to cuda: 4352.022016 MB\n",
      "After input to cuda: 452.221952 MB\n",
      "\bAfter single dvec to cuda: 424.365568 MB\n",
      "\bAfter single dvec to cuda: 427.367424 MB\n",
      "\bAfter single dvec to cuda: 437.968896 MB\n",
      "\bAfter single dvec to cuda: 443.14112 MB\n",
      "After dvec to cuda: 443.145216 MB\n",
      "After forward to cuda: 4342.157824 MB\n"
     ]
    },
    {
     "name": "stderr",
     "output_type": "stream",
     "text": [
      "2021-11-24 17:06:19,533 - INFO - Wrote summary at step 508\n"
     ]
    },
    {
     "name": "stdout",
     "output_type": "stream",
     "text": [
      "After input to cuda: 442.48064 MB\n",
      "\bAfter single dvec to cuda: 419.95008 MB\n",
      "\bAfter single dvec to cuda: 423.218176 MB\n",
      "\bAfter single dvec to cuda: 433.008128 MB\n",
      "\bAfter single dvec to cuda: 443.3408 MB\n",
      "After dvec to cuda: 443.344896 MB\n",
      "After forward to cuda: 4343.151104 MB\n",
      "After input to cuda: 443.344896 MB\n",
      "\bAfter single dvec to cuda: 421.03808 MB\n",
      "\bAfter single dvec to cuda: 430.553088 MB\n",
      "\bAfter single dvec to cuda: 435.182592 MB\n",
      "\bAfter single dvec to cuda: 444.42624 MB\n",
      "After dvec to cuda: 444.430336 MB\n",
      "After forward to cuda: 4344.523264 MB\n"
     ]
    },
    {
     "name": "stderr",
     "output_type": "stream",
     "text": [
      "2021-11-24 17:06:20,238 - INFO - Wrote summary at step 509\n"
     ]
    },
    {
     "name": "stdout",
     "output_type": "stream",
     "text": [
      "After input to cuda: 444.430336 MB\n",
      "\bAfter single dvec to cuda: 423.185408 MB\n",
      "\bAfter single dvec to cuda: 433.245696 MB\n",
      "\bAfter single dvec to cuda: 443.575808 MB\n",
      "\bAfter single dvec to cuda: 453.63968 MB\n",
      "After dvec to cuda: 453.643776 MB\n",
      "After forward to cuda: 4353.759232 MB\n",
      "After input to cuda: 453.953024 MB\n",
      "\bAfter single dvec to cuda: 423.493632 MB\n",
      "\bAfter single dvec to cuda: 432.19456 MB\n",
      "\bAfter single dvec to cuda: 441.981952 MB\n",
      "\bAfter single dvec to cuda: 450.410496 MB\n",
      "After dvec to cuda: 450.414592 MB\n",
      "After forward to cuda: 4349.911552 MB\n"
     ]
    },
    {
     "name": "stderr",
     "output_type": "stream",
     "text": [
      "2021-11-24 17:06:20,947 - INFO - Wrote summary at step 510\n"
     ]
    },
    {
     "name": "stdout",
     "output_type": "stream",
     "text": [
      "After input to cuda: 450.105344 MB\n",
      "\bAfter single dvec to cuda: 418.59584 MB\n",
      "\bAfter single dvec to cuda: 422.683136 MB\n",
      "\bAfter single dvec to cuda: 432.987648 MB\n",
      "\bAfter single dvec to cuda: 442.92352 MB\n",
      "After dvec to cuda: 442.927616 MB\n",
      "After forward to cuda: 4343.527936 MB\n",
      "After input to cuda: 443.155968 MB\n",
      "\bAfter single dvec to cuda: 421.806592 MB\n",
      "\bAfter single dvec to cuda: 430.094848 MB\n",
      "\bAfter single dvec to cuda: 438.798336 MB\n",
      "\bAfter single dvec to cuda: 446.956032 MB\n",
      "After dvec to cuda: 446.960128 MB\n",
      "After forward to cuda: 4346.484736 MB\n"
     ]
    },
    {
     "name": "stderr",
     "output_type": "stream",
     "text": [
      "2021-11-24 17:06:21,652 - INFO - Wrote summary at step 511\n"
     ]
    },
    {
     "name": "stdout",
     "output_type": "stream",
     "text": [
      "After input to cuda: 446.731776 MB\n",
      "\bAfter single dvec to cuda: 423.1552 MB\n",
      "\bAfter single dvec to cuda: 431.371776 MB\n",
      "\bAfter single dvec to cuda: 438.985216 MB\n",
      "\bAfter single dvec to cuda: 446.872576 MB\n",
      "After dvec to cuda: 446.876672 MB\n",
      "After forward to cuda: 4347.290112 MB\n",
      "After input to cuda: 447.473664 MB\n",
      "\bAfter single dvec to cuda: 423.809536 MB\n",
      "\bAfter single dvec to cuda: 432.510976 MB\n",
      "\bAfter single dvec to cuda: 441.757696 MB\n",
      "\bAfter single dvec to cuda: 452.361728 MB\n",
      "After dvec to cuda: 452.365824 MB\n",
      "After forward to cuda: 4351.81568 MB\n"
     ]
    },
    {
     "name": "stderr",
     "output_type": "stream",
     "text": [
      "2021-11-24 17:06:22,379 - INFO - Wrote summary at step 512\n"
     ]
    },
    {
     "name": "stdout",
     "output_type": "stream",
     "text": [
      "After input to cuda: 452.319744 MB\n",
      "\bAfter single dvec to cuda: 421.047808 MB\n",
      "\bAfter single dvec to cuda: 423.66976 MB\n",
      "\bAfter single dvec to cuda: 430.35392 MB\n",
      "\bAfter single dvec to cuda: 437.699072 MB\n",
      "After dvec to cuda: 437.703168 MB\n",
      "After forward to cuda: 4338.011648 MB\n",
      "After input to cuda: 438.192128 MB\n",
      "\bAfter single dvec to cuda: 424.172032 MB\n",
      "\bAfter single dvec to cuda: 427.713536 MB\n",
      "\bAfter single dvec to cuda: 437.774336 MB\n",
      "\bAfter single dvec to cuda: 447.289344 MB\n",
      "After dvec to cuda: 447.29344 MB\n",
      "After forward to cuda: 4346.461184 MB\n"
     ]
    },
    {
     "name": "stderr",
     "output_type": "stream",
     "text": [
      "2021-11-24 17:06:23,085 - INFO - Wrote summary at step 513\n"
     ]
    },
    {
     "name": "stdout",
     "output_type": "stream",
     "text": [
      "After input to cuda: 446.550528 MB\n",
      "\bAfter single dvec to cuda: 423.453184 MB\n",
      "\bAfter single dvec to cuda: 433.244672 MB\n",
      "\bAfter single dvec to cuda: 442.708992 MB\n",
      "\bAfter single dvec to cuda: 452.229632 MB\n",
      "After dvec to cuda: 452.233728 MB\n",
      "After forward to cuda: 4352.350208 MB\n",
      "After input to cuda: 452.25728 MB\n",
      "\bAfter single dvec to cuda: 423.454208 MB\n",
      "\bAfter single dvec to cuda: 432.429568 MB\n",
      "\bAfter single dvec to cuda: 440.59136 MB\n",
      "\bAfter single dvec to cuda: 450.65472 MB\n",
      "After dvec to cuda: 450.658816 MB\n",
      "After forward to cuda: 4351.717888 MB\n"
     ]
    },
    {
     "name": "stderr",
     "output_type": "stream",
     "text": [
      "2021-11-24 17:06:23,793 - INFO - Wrote summary at step 514\n"
     ]
    },
    {
     "name": "stdout",
     "output_type": "stream",
     "text": [
      "After input to cuda: 450.338304 MB\n",
      "\bAfter single dvec to cuda: 422.862336 MB\n",
      "\bAfter single dvec to cuda: 426.949632 MB\n",
      "\bAfter single dvec to cuda: 437.206528 MB\n",
      "\bAfter single dvec to cuda: 445.369344 MB\n",
      "After dvec to cuda: 445.37344 MB\n",
      "After forward to cuda: 4344.898048 MB\n",
      "After input to cuda: 445.37344 MB\n",
      "\bAfter single dvec to cuda: 419.949568 MB\n",
      "\bAfter single dvec to cuda: 423.763968 MB\n",
      "\bAfter single dvec to cuda: 433.82528 MB\n",
      "\bAfter single dvec to cuda: 444.132864 MB\n",
      "After dvec to cuda: 444.13696 MB\n",
      "After forward to cuda: 4344.609792 MB\n"
     ]
    },
    {
     "name": "stderr",
     "output_type": "stream",
     "text": [
      "2021-11-24 17:06:24,511 - INFO - Wrote summary at step 515\n"
     ]
    },
    {
     "name": "stdout",
     "output_type": "stream",
     "text": [
      "After input to cuda: 444.898304 MB\n",
      "\bAfter single dvec to cuda: 423.574528 MB\n",
      "\bAfter single dvec to cuda: 430.593024 MB\n",
      "\bAfter single dvec to cuda: 440.873984 MB\n",
      "\bAfter single dvec to cuda: 450.932736 MB\n",
      "After dvec to cuda: 450.936832 MB\n",
      "After forward to cuda: 4350.46144 MB\n",
      "After input to cuda: 450.175488 MB\n",
      "\bAfter single dvec to cuda: 417.233408 MB\n",
      "\bAfter single dvec to cuda: 424.85248 MB\n",
      "\bAfter single dvec to cuda: 433.826304 MB\n",
      "\bAfter single dvec to cuda: 441.985024 MB\n",
      "After dvec to cuda: 441.98912 MB\n",
      "After forward to cuda: 4341.642752 MB\n"
     ]
    },
    {
     "name": "stderr",
     "output_type": "stream",
     "text": [
      "2021-11-24 17:06:25,231 - INFO - Wrote summary at step 516\n"
     ]
    },
    {
     "name": "stdout",
     "output_type": "stream",
     "text": [
      "After input to cuda: 442.412032 MB\n",
      "\bAfter single dvec to cuda: 421.188096 MB\n",
      "\bAfter single dvec to cuda: 429.89056 MB\n",
      "\bAfter single dvec to cuda: 439.411712 MB\n",
      "\bAfter single dvec to cuda: 448.38656 MB\n",
      "After dvec to cuda: 448.390656 MB\n",
      "After forward to cuda: 4348.900864 MB\n",
      "After input to cuda: 448.564736 MB\n",
      "\bAfter single dvec to cuda: 422.174208 MB\n",
      "\bAfter single dvec to cuda: 431.148544 MB\n",
      "\bAfter single dvec to cuda: 437.68064 MB\n",
      "\bAfter single dvec to cuda: 448.55808 MB\n",
      "After dvec to cuda: 448.562176 MB\n",
      "After forward to cuda: 4348.086784 MB\n"
     ]
    },
    {
     "name": "stderr",
     "output_type": "stream",
     "text": [
      "2021-11-24 17:06:25,939 - INFO - Wrote summary at step 517\n"
     ]
    },
    {
     "name": "stdout",
     "output_type": "stream",
     "text": [
      "After input to cuda: 448.562176 MB\n",
      "\bAfter single dvec to cuda: 420.185088 MB\n",
      "\bAfter single dvec to cuda: 430.788608 MB\n",
      "\bAfter single dvec to cuda: 441.096192 MB\n",
      "\bAfter single dvec to cuda: 443.281408 MB\n",
      "After dvec to cuda: 443.285504 MB\n",
      "After forward to cuda: 4342.21312 MB\n",
      "After input to cuda: 442.688512 MB\n",
      "\bAfter single dvec to cuda: 421.849088 MB\n",
      "\bAfter single dvec to cuda: 431.9104 MB\n",
      "\bAfter single dvec to cuda: 440.883712 MB\n",
      "\bAfter single dvec to cuda: 449.85856 MB\n",
      "After dvec to cuda: 449.862656 MB\n",
      "After forward to cuda: 4350.080512 MB\n"
     ]
    },
    {
     "name": "stderr",
     "output_type": "stream",
     "text": [
      "2021-11-24 17:06:26,645 - INFO - Wrote summary at step 518\n"
     ]
    },
    {
     "name": "stdout",
     "output_type": "stream",
     "text": [
      "After input to cuda: 449.977344 MB\n",
      "\bAfter single dvec to cuda: 421.697536 MB\n",
      "\bAfter single dvec to cuda: 430.129152 MB\n",
      "\bAfter single dvec to cuda: 437.472256 MB\n",
      "\bAfter single dvec to cuda: 446.986752 MB\n",
      "After dvec to cuda: 446.990848 MB\n",
      "After forward to cuda: 4347.3024 MB\n",
      "After input to cuda: 446.87616 MB\n",
      "\bAfter single dvec to cuda: 421.5808 MB\n",
      "\bAfter single dvec to cuda: 428.550656 MB\n",
      "\bAfter single dvec to cuda: 434.80832 MB\n",
      "\bAfter single dvec to cuda: 445.115392 MB\n",
      "After dvec to cuda: 445.119488 MB\n",
      "After forward to cuda: 4344.784384 MB\n"
     ]
    },
    {
     "name": "stderr",
     "output_type": "stream",
     "text": [
      "2021-11-24 17:06:27,350 - INFO - Wrote summary at step 519\n"
     ]
    },
    {
     "name": "stdout",
     "output_type": "stream",
     "text": [
      "After input to cuda: 445.119488 MB\n",
      "\bAfter single dvec to cuda: 419.953664 MB\n",
      "\bAfter single dvec to cuda: 426.310144 MB\n",
      "\bAfter single dvec to cuda: 434.743808 MB\n",
      "\bAfter single dvec to cuda: 445.000704 MB\n",
      "After dvec to cuda: 445.0048 MB\n",
      "After forward to cuda: 4345.097728 MB\n",
      "After input to cuda: 445.601792 MB\n",
      "\bAfter single dvec to cuda: 423.732224 MB\n",
      "\bAfter single dvec to cuda: 433.252864 MB\n",
      "\bAfter single dvec to cuda: 442.502144 MB\n",
      "\bAfter single dvec to cuda: 452.293632 MB\n",
      "After dvec to cuda: 452.297728 MB\n",
      "After forward to cuda: 4352.352256 MB\n"
     ]
    },
    {
     "name": "stderr",
     "output_type": "stream",
     "text": [
      "2021-11-24 17:06:28,058 - INFO - Wrote summary at step 520\n"
     ]
    },
    {
     "name": "stdout",
     "output_type": "stream",
     "text": [
      "After input to cuda: 452.061184 MB\n",
      "\bAfter single dvec to cuda: 421.124608 MB\n",
      "\bAfter single dvec to cuda: 431.456768 MB\n",
      "\bAfter single dvec to cuda: 435.543552 MB\n",
      "\bAfter single dvec to cuda: 445.874176 MB\n",
      "After dvec to cuda: 445.878272 MB\n",
      "After forward to cuda: 4346.278912 MB\n",
      "After input to cuda: 445.517824 MB\n",
      "\bAfter single dvec to cuda: 421.307904 MB\n",
      "\bAfter single dvec to cuda: 431.563264 MB\n",
      "\bAfter single dvec to cuda: 441.821184 MB\n",
      "\bAfter single dvec to cuda: 448.523776 MB\n",
      "After dvec to cuda: 448.527872 MB\n",
      "After forward to cuda: 4349.569024 MB\n"
     ]
    },
    {
     "name": "stderr",
     "output_type": "stream",
     "text": [
      "2021-11-24 17:06:28,766 - INFO - Wrote summary at step 521\n"
     ]
    },
    {
     "name": "stdout",
     "output_type": "stream",
     "text": [
      "After input to cuda: 448.451072 MB\n",
      "\bAfter single dvec to cuda: 421.234688 MB\n",
      "\bAfter single dvec to cuda: 429.937664 MB\n",
      "\bAfter single dvec to cuda: 435.378176 MB\n",
      "\bAfter single dvec to cuda: 445.686784 MB\n",
      "After dvec to cuda: 445.69088 MB\n",
      "After forward to cuda: 4347.169792 MB\n",
      "After input to cuda: 446.725632 MB\n",
      "\bAfter single dvec to cuda: 423.486464 MB\n",
      "\bAfter single dvec to cuda: 433.741824 MB\n",
      "\bAfter single dvec to cuda: 443.974144 MB\n",
      "\bAfter single dvec to cuda: 453.766656 MB\n",
      "After dvec to cuda: 453.770752 MB\n",
      "After forward to cuda: 4353.677312 MB\n"
     ]
    },
    {
     "name": "stderr",
     "output_type": "stream",
     "text": [
      "2021-11-24 17:06:29,473 - INFO - Wrote summary at step 522\n"
     ]
    },
    {
     "name": "stdout",
     "output_type": "stream",
     "text": [
      "After input to cuda: 452.8128 MB\n",
      "\bAfter single dvec to cuda: 420.493312 MB\n",
      "\bAfter single dvec to cuda: 430.257152 MB\n",
      "\bAfter single dvec to cuda: 438.147072 MB\n",
      "\bAfter single dvec to cuda: 446.035968 MB\n",
      "After dvec to cuda: 446.040064 MB\n",
      "After forward to cuda: 4345.885184 MB\n",
      "After input to cuda: 446.360576 MB\n",
      "\bAfter single dvec to cuda: 423.425024 MB\n",
      "\bAfter single dvec to cuda: 433.216 MB\n",
      "\bAfter single dvec to cuda: 440.23296 MB\n",
      "\bAfter single dvec to cuda: 450.020352 MB\n",
      "After dvec to cuda: 450.024448 MB\n",
      "After forward to cuda: 4349.988864 MB\n"
     ]
    },
    {
     "name": "stderr",
     "output_type": "stream",
     "text": [
      "2021-11-24 17:06:30,180 - INFO - Wrote summary at step 523\n"
     ]
    },
    {
     "name": "stdout",
     "output_type": "stream",
     "text": [
      "After input to cuda: 449.703936 MB\n",
      "\bAfter single dvec to cuda: 422.669312 MB\n",
      "\bAfter single dvec to cuda: 425.570816 MB\n",
      "\bAfter single dvec to cuda: 428.301312 MB\n",
      "\bAfter single dvec to cuda: 438.554624 MB\n",
      "After dvec to cuda: 438.55872 MB\n",
      "After forward to cuda: 4339.088896 MB\n",
      "After input to cuda: 439.59296 MB\n",
      "\bAfter single dvec to cuda: 424.167936 MB\n",
      "\bAfter single dvec to cuda: 429.065728 MB\n",
      "\bAfter single dvec to cuda: 434.239488 MB\n",
      "\bAfter single dvec to cuda: 436.969984 MB\n",
      "After dvec to cuda: 436.97408 MB\n",
      "After forward to cuda: 4336.975872 MB\n"
     ]
    },
    {
     "name": "stderr",
     "output_type": "stream",
     "text": [
      "2021-11-24 17:06:30,883 - INFO - Wrote summary at step 524\n"
     ]
    },
    {
     "name": "stdout",
     "output_type": "stream",
     "text": [
      "After input to cuda: 436.445696 MB\n",
      "\bAfter single dvec to cuda: 423.662592 MB\n",
      "\bAfter single dvec to cuda: 433.449984 MB\n",
      "\bAfter single dvec to cuda: 442.970112 MB\n",
      "\bAfter single dvec to cuda: 450.856448 MB\n",
      "After dvec to cuda: 450.860544 MB\n",
      "After forward to cuda: 4350.671872 MB\n",
      "After input to cuda: 450.354688 MB\n",
      "\bAfter single dvec to cuda: 423.185408 MB\n",
      "\bAfter single dvec to cuda: 430.232576 MB\n",
      "\bAfter single dvec to cuda: 438.664192 MB\n",
      "\bAfter single dvec to cuda: 448.722432 MB\n",
      "After dvec to cuda: 448.726528 MB\n",
      "After forward to cuda: 4348.532736 MB\n"
     ]
    },
    {
     "name": "stderr",
     "output_type": "stream",
     "text": [
      "2021-11-24 17:06:31,591 - INFO - Wrote summary at step 525\n"
     ]
    },
    {
     "name": "stdout",
     "output_type": "stream",
     "text": [
      "After input to cuda: 449.332736 MB\n",
      "\bAfter single dvec to cuda: 420.13696 MB\n",
      "\bAfter single dvec to cuda: 424.086528 MB\n",
      "\bAfter single dvec to cuda: 434.390016 MB\n",
      "\bAfter single dvec to cuda: 444.996608 MB\n",
      "After dvec to cuda: 445.000704 MB\n",
      "After forward to cuda: 4345.098752 MB\n",
      "After input to cuda: 444.991488 MB\n",
      "\bAfter single dvec to cuda: 422.179328 MB\n",
      "\bAfter single dvec to cuda: 423.27808 MB\n",
      "\bAfter single dvec to cuda: 433.855488 MB\n",
      "\bAfter single dvec to cuda: 443.642368 MB\n",
      "After dvec to cuda: 443.646464 MB\n",
      "After forward to cuda: 4343.880192 MB\n"
     ]
    },
    {
     "name": "stderr",
     "output_type": "stream",
     "text": [
      "2021-11-24 17:06:32,294 - INFO - Wrote summary at step 526\n"
     ]
    },
    {
     "name": "stdout",
     "output_type": "stream",
     "text": [
      "After input to cuda: 443.369984 MB\n",
      "\bAfter single dvec to cuda: 423.481856 MB\n",
      "\bAfter single dvec to cuda: 431.370752 MB\n",
      "\bAfter single dvec to cuda: 440.346112 MB\n",
      "\bAfter single dvec to cuda: 446.874624 MB\n",
      "After dvec to cuda: 446.87872 MB\n",
      "After forward to cuda: 4347.060736 MB\n",
      "After input to cuda: 446.558208 MB\n",
      "\bAfter single dvec to cuda: 421.16864 MB\n",
      "\bAfter single dvec to cuda: 431.39584 MB\n",
      "\bAfter single dvec to cuda: 438.411776 MB\n",
      "\bAfter single dvec to cuda: 448.474624 MB\n",
      "After dvec to cuda: 448.47872 MB\n",
      "After forward to cuda: 4348.003328 MB\n"
     ]
    },
    {
     "name": "stderr",
     "output_type": "stream",
     "text": [
      "2021-11-24 17:06:33,001 - INFO - Wrote summary at step 527\n"
     ]
    },
    {
     "name": "stdout",
     "output_type": "stream",
     "text": [
      "After input to cuda: 448.47872 MB\n",
      "\bAfter single dvec to cuda: 421.579264 MB\n",
      "\bAfter single dvec to cuda: 429.843456 MB\n",
      "\bAfter single dvec to cuda: 440.177152 MB\n",
      "\bAfter single dvec to cuda: 445.623808 MB\n",
      "After dvec to cuda: 445.627904 MB\n",
      "After forward to cuda: 4345.439232 MB\n",
      "After input to cuda: 445.627904 MB\n",
      "\bAfter single dvec to cuda: 423.160832 MB\n",
      "\bAfter single dvec to cuda: 433.49504 MB\n",
      "\bAfter single dvec to cuda: 443.55328 MB\n",
      "\bAfter single dvec to cuda: 453.888512 MB\n",
      "After dvec to cuda: 453.892608 MB\n",
      "After forward to cuda: 4353.990656 MB\n"
     ]
    },
    {
     "name": "stderr",
     "output_type": "stream",
     "text": [
      "2021-11-24 17:06:33,709 - INFO - Wrote summary at step 528\n"
     ]
    },
    {
     "name": "stdout",
     "output_type": "stream",
     "text": [
      "After input to cuda: 453.892608 MB\n",
      "\bAfter single dvec to cuda: 422.504448 MB\n",
      "\bAfter single dvec to cuda: 432.784896 MB\n",
      "\bAfter single dvec to cuda: 435.513856 MB\n",
      "\bAfter single dvec to cuda: 446.1184 MB\n",
      "After dvec to cuda: 446.122496 MB\n",
      "After forward to cuda: 4346.652672 MB\n",
      "After input to cuda: 446.787072 MB\n",
      "\bAfter single dvec to cuda: 423.195648 MB\n",
      "\bAfter single dvec to cuda: 433.129984 MB\n",
      "\bAfter single dvec to cuda: 443.433984 MB\n",
      "\bAfter single dvec to cuda: 453.76512 MB\n",
      "After dvec to cuda: 453.769216 MB\n",
      "After forward to cuda: 4353.293824 MB\n"
     ]
    },
    {
     "name": "stderr",
     "output_type": "stream",
     "text": [
      "2021-11-24 17:06:34,417 - INFO - Wrote summary at step 529\n"
     ]
    },
    {
     "name": "stdout",
     "output_type": "stream",
     "text": [
      "After input to cuda: 453.10464 MB\n",
      "\bAfter single dvec to cuda: 422.786048 MB\n",
      "\bAfter single dvec to cuda: 434.231296 MB\n",
      "\bAfter single dvec to cuda: 444.56704 MB\n",
      "\bAfter single dvec to cuda: 454.900224 MB\n",
      "After dvec to cuda: 454.90432 MB\n",
      "After forward to cuda: 4354.997248 MB\n",
      "After input to cuda: 454.90432 MB\n",
      "\bAfter single dvec to cuda: 423.103488 MB\n",
      "\bAfter single dvec to cuda: 431.535104 MB\n",
      "\bAfter single dvec to cuda: 440.238592 MB\n",
      "\bAfter single dvec to cuda: 449.483264 MB\n",
      "After dvec to cuda: 449.48736 MB\n",
      "After forward to cuda: 4349.984768 MB\n"
     ]
    },
    {
     "name": "stderr",
     "output_type": "stream",
     "text": [
      "2021-11-24 17:06:35,124 - INFO - Wrote summary at step 530\n"
     ]
    },
    {
     "name": "stdout",
     "output_type": "stream",
     "text": [
      "After input to cuda: 449.88672 MB\n",
      "\bAfter single dvec to cuda: 421.710848 MB\n",
      "\bAfter single dvec to cuda: 430.411264 MB\n",
      "\bAfter single dvec to cuda: 434.2272 MB\n",
      "\bAfter single dvec to cuda: 444.291072 MB\n",
      "After dvec to cuda: 444.295168 MB\n",
      "After forward to cuda: 4343.819776 MB\n",
      "After input to cuda: 444.295168 MB\n",
      "\bAfter single dvec to cuda: 423.50336 MB\n",
      "\bAfter single dvec to cuda: 432.752128 MB\n",
      "\bAfter single dvec to cuda: 441.18272 MB\n",
      "\bAfter single dvec to cuda: 450.9696 MB\n",
      "After dvec to cuda: 450.973696 MB\n",
      "After forward to cuda: 4350.802432 MB\n"
     ]
    },
    {
     "name": "stderr",
     "output_type": "stream",
     "text": [
      "2021-11-24 17:06:35,832 - INFO - Wrote summary at step 531\n"
     ]
    },
    {
     "name": "stdout",
     "output_type": "stream",
     "text": [
      "After input to cuda: 450.574336 MB\n",
      "\bAfter single dvec to cuda: 423.182848 MB\n",
      "\bAfter single dvec to cuda: 426.233856 MB\n",
      "\bAfter single dvec to cuda: 429.369856 MB\n",
      "\bAfter single dvec to cuda: 438.887424 MB\n",
      "After dvec to cuda: 438.89152 MB\n",
      "After forward to cuda: 4339.364352 MB\n",
      "After input to cuda: 438.89152 MB\n",
      "\bAfter single dvec to cuda: 423.1296 MB\n",
      "\bAfter single dvec to cuda: 433.460224 MB\n",
      "\bAfter single dvec to cuda: 436.594688 MB\n",
      "\bAfter single dvec to cuda: 445.566464 MB\n",
      "After dvec to cuda: 445.57056 MB\n",
      "After forward to cuda: 4346.952704 MB\n"
     ]
    },
    {
     "name": "stderr",
     "output_type": "stream",
     "text": [
      "2021-11-24 17:06:36,535 - INFO - Wrote summary at step 532\n"
     ]
    },
    {
     "name": "stdout",
     "output_type": "stream",
     "text": [
      "After input to cuda: 445.891072 MB\n",
      "\bAfter single dvec to cuda: 421.08416 MB\n",
      "\bAfter single dvec to cuda: 430.601216 MB\n",
      "\bAfter single dvec to cuda: 438.2208 MB\n",
      "\bAfter single dvec to cuda: 442.085376 MB\n",
      "After dvec to cuda: 442.089472 MB\n",
      "After forward to cuda: 4341.293568 MB\n",
      "After input to cuda: 441.76896 MB\n",
      "\bAfter single dvec to cuda: 417.232896 MB\n",
      "\bAfter single dvec to cuda: 423.218176 MB\n",
      "\bAfter single dvec to cuda: 433.549824 MB\n",
      "\bAfter single dvec to cuda: 437.390336 MB\n",
      "After dvec to cuda: 437.394432 MB\n",
      "After forward to cuda: 4336.91904 MB\n"
     ]
    },
    {
     "name": "stderr",
     "output_type": "stream",
     "text": [
      "2021-11-24 17:06:37,240 - INFO - Wrote summary at step 533\n"
     ]
    },
    {
     "name": "stdout",
     "output_type": "stream",
     "text": [
      "After input to cuda: 437.394432 MB\n",
      "\bAfter single dvec to cuda: 423.157248 MB\n",
      "\bAfter single dvec to cuda: 432.948224 MB\n",
      "\bAfter single dvec to cuda: 443.011072 MB\n",
      "\bAfter single dvec to cuda: 449.812992 MB\n",
      "After dvec to cuda: 449.817088 MB\n",
      "After forward to cuda: 4349.910016 MB\n",
      "After input to cuda: 449.817088 MB\n",
      "\bAfter single dvec to cuda: 423.181824 MB\n",
      "\bAfter single dvec to cuda: 431.072768 MB\n",
      "\bAfter single dvec to cuda: 433.257472 MB\n",
      "\bAfter single dvec to cuda: 443.588608 MB\n",
      "After dvec to cuda: 443.592704 MB\n",
      "After forward to cuda: 4344.26112 MB\n"
     ]
    },
    {
     "name": "stderr",
     "output_type": "stream",
     "text": [
      "2021-11-24 17:06:37,945 - INFO - Wrote summary at step 534\n"
     ]
    },
    {
     "name": "stdout",
     "output_type": "stream",
     "text": [
      "After input to cuda: 443.913216 MB\n",
      "\bAfter single dvec to cuda: 423.42656 MB\n",
      "\bAfter single dvec to cuda: 432.127488 MB\n",
      "\bAfter single dvec to cuda: 439.471104 MB\n",
      "\bAfter single dvec to cuda: 449.258496 MB\n",
      "After dvec to cuda: 449.262592 MB\n",
      "After forward to cuda: 4349.444608 MB\n",
      "After input to cuda: 448.94208 MB\n",
      "\bAfter single dvec to cuda: 423.480832 MB\n",
      "\bAfter single dvec to cuda: 433.22112 MB\n",
      "\bAfter single dvec to cuda: 443.47648 MB\n",
      "\bAfter single dvec to cuda: 450.443264 MB\n",
      "After dvec to cuda: 450.44736 MB\n",
      "After forward to cuda: 4350.29248 MB\n"
     ]
    },
    {
     "name": "stderr",
     "output_type": "stream",
     "text": [
      "2021-11-24 17:06:38,654 - INFO - Wrote summary at step 535\n"
     ]
    },
    {
     "name": "stdout",
     "output_type": "stream",
     "text": [
      "After input to cuda: 450.767872 MB\n",
      "\bAfter single dvec to cuda: 417.558016 MB\n",
      "\bAfter single dvec to cuda: 424.633856 MB\n",
      "\bAfter single dvec to cuda: 433.335808 MB\n",
      "\bAfter single dvec to cuda: 443.670528 MB\n",
      "After dvec to cuda: 443.674624 MB\n",
      "After forward to cuda: 4342.87872 MB\n",
      "After input to cuda: 443.354112 MB\n",
      "\bAfter single dvec to cuda: 423.481856 MB\n",
      "\bAfter single dvec to cuda: 434.085888 MB\n",
      "\bAfter single dvec to cuda: 441.704448 MB\n",
      "\bAfter single dvec to cuda: 451.49184 MB\n",
      "After dvec to cuda: 451.495936 MB\n",
      "After forward to cuda: 4352.194048 MB\n"
     ]
    },
    {
     "name": "stderr",
     "output_type": "stream",
     "text": [
      "2021-11-24 17:06:39,360 - INFO - Wrote summary at step 536\n"
     ]
    },
    {
     "name": "stdout",
     "output_type": "stream",
     "text": [
      "After input to cuda: 452.621312 MB\n",
      "\bAfter single dvec to cuda: 424.311808 MB\n",
      "\bAfter single dvec to cuda: 432.199168 MB\n",
      "\bAfter single dvec to cuda: 441.442304 MB\n",
      "\bAfter single dvec to cuda: 451.502592 MB\n",
      "After dvec to cuda: 451.506688 MB\n",
      "After forward to cuda: 4350.612992 MB\n",
      "After input to cuda: 450.696704 MB\n",
      "\bAfter single dvec to cuda: 420.158464 MB\n",
      "\bAfter single dvec to cuda: 428.85888 MB\n",
      "\bAfter single dvec to cuda: 439.465984 MB\n",
      "\bAfter single dvec to cuda: 448.715264 MB\n",
      "After dvec to cuda: 448.71936 MB\n",
      "After forward to cuda: 4349.005312 MB\n"
     ]
    },
    {
     "name": "stderr",
     "output_type": "stream",
     "text": [
      "2021-11-24 17:06:40,068 - INFO - Wrote summary at step 537\n"
     ]
    },
    {
     "name": "stdout",
     "output_type": "stream",
     "text": [
      "After input to cuda: 449.165312 MB\n",
      "\bAfter single dvec to cuda: 423.921664 MB\n",
      "\bAfter single dvec to cuda: 434.2528 MB\n",
      "\bAfter single dvec to cuda: 439.424512 MB\n",
      "\bAfter single dvec to cuda: 445.683712 MB\n",
      "After dvec to cuda: 445.687808 MB\n",
      "After forward to cuda: 4345.561088 MB\n",
      "After input to cuda: 444.926464 MB\n",
      "\bAfter single dvec to cuda: 423.107584 MB\n",
      "\bAfter single dvec to cuda: 430.098432 MB\n",
      "\bAfter single dvec to cuda: 440.161792 MB\n",
      "\bAfter single dvec to cuda: 448.049664 MB\n",
      "After dvec to cuda: 448.05376 MB\n",
      "After forward to cuda: 4349.574656 MB\n"
     ]
    },
    {
     "name": "stderr",
     "output_type": "stream",
     "text": [
      "2021-11-24 17:06:40,775 - INFO - Wrote summary at step 538\n"
     ]
    },
    {
     "name": "stdout",
     "output_type": "stream",
     "text": [
      "After input to cuda: 448.815104 MB\n",
      "\bAfter single dvec to cuda: 420.631552 MB\n",
      "\bAfter single dvec to cuda: 425.262592 MB\n",
      "\bAfter single dvec to cuda: 430.923776 MB\n",
      "\bAfter single dvec to cuda: 441.2544 MB\n",
      "After dvec to cuda: 441.258496 MB\n",
      "After forward to cuda: 4341.933056 MB\n",
      "After input to cuda: 440.497152 MB\n",
      "\bAfter single dvec to cuda: 421.040128 MB\n",
      "\bAfter single dvec to cuda: 430.284288 MB\n",
      "\bAfter single dvec to cuda: 440.9472 MB\n",
      "\bAfter single dvec to cuda: 450.737664 MB\n",
      "After dvec to cuda: 450.74176 MB\n",
      "After forward to cuda: 4350.266368 MB\n"
     ]
    },
    {
     "name": "stderr",
     "output_type": "stream",
     "text": [
      "2021-11-24 17:06:41,481 - INFO - Wrote summary at step 539\n"
     ]
    },
    {
     "name": "stdout",
     "output_type": "stream",
     "text": [
      "After input to cuda: 450.74176 MB\n",
      "\bAfter single dvec to cuda: 423.209472 MB\n",
      "\bAfter single dvec to cuda: 424.308224 MB\n",
      "\bAfter single dvec to cuda: 434.0992 MB\n",
      "\bAfter single dvec to cuda: 443.343872 MB\n",
      "After dvec to cuda: 443.347968 MB\n",
      "After forward to cuda: 4343.474688 MB\n",
      "After input to cuda: 443.94496 MB\n",
      "\bAfter single dvec to cuda: 421.90592 MB\n",
      "\bAfter single dvec to cuda: 431.151616 MB\n",
      "\bAfter single dvec to cuda: 440.395776 MB\n",
      "\bAfter single dvec to cuda: 450.999296 MB\n",
      "After dvec to cuda: 451.003392 MB\n",
      "After forward to cuda: 4350.528 MB\n"
     ]
    },
    {
     "name": "stderr",
     "output_type": "stream",
     "text": [
      "2021-11-24 17:06:42,187 - INFO - Wrote summary at step 540\n"
     ]
    },
    {
     "name": "stdout",
     "output_type": "stream",
     "text": [
      "After input to cuda: 450.926592 MB\n",
      "\bAfter single dvec to cuda: 417.75616 MB\n",
      "\bAfter single dvec to cuda: 421.051392 MB\n",
      "\bAfter single dvec to cuda: 423.50592 MB\n",
      "\bAfter single dvec to cuda: 432.479744 MB\n",
      "After dvec to cuda: 432.48384 MB\n",
      "After forward to cuda: 4332.7104 MB\n",
      "After input to cuda: 431.886848 MB\n",
      "\bAfter single dvec to cuda: 423.028224 MB\n",
      "\bAfter single dvec to cuda: 430.915072 MB\n",
      "\bAfter single dvec to cuda: 439.889408 MB\n",
      "\bAfter single dvec to cuda: 450.220032 MB\n",
      "After dvec to cuda: 450.224128 MB\n",
      "After forward to cuda: 4350.413824 MB\n"
     ]
    },
    {
     "name": "stderr",
     "output_type": "stream",
     "text": [
      "2021-11-24 17:06:42,891 - INFO - Wrote summary at step 541\n"
     ]
    },
    {
     "name": "stdout",
     "output_type": "stream",
     "text": [
      "After input to cuda: 450.82112 MB\n",
      "\bAfter single dvec to cuda: 423.727616 MB\n",
      "\bAfter single dvec to cuda: 434.601472 MB\n",
      "\bAfter single dvec to cuda: 443.687936 MB\n",
      "\bAfter single dvec to cuda: 452.931584 MB\n",
      "After dvec to cuda: 452.93568 MB\n",
      "After forward to cuda: 4351.911424 MB\n",
      "After input to cuda: 452.415488 MB\n",
      "\bAfter single dvec to cuda: 423.158784 MB\n",
      "\bAfter single dvec to cuda: 427.24352 MB\n",
      "\bAfter single dvec to cuda: 437.577216 MB\n",
      "\bAfter single dvec to cuda: 443.836416 MB\n",
      "After dvec to cuda: 443.840512 MB\n",
      "After forward to cuda: 4343.619072 MB\n"
     ]
    },
    {
     "name": "stderr",
     "output_type": "stream",
     "text": [
      "2021-11-24 17:06:43,598 - INFO - Wrote summary at step 542\n"
     ]
    },
    {
     "name": "stdout",
     "output_type": "stream",
     "text": [
      "After input to cuda: 443.763712 MB\n",
      "\bAfter single dvec to cuda: 419.0592 MB\n",
      "\bAfter single dvec to cuda: 424.500736 MB\n",
      "\bAfter single dvec to cuda: 434.832896 MB\n",
      "\bAfter single dvec to cuda: 443.53792 MB\n",
      "After dvec to cuda: 443.542016 MB\n",
      "After forward to cuda: 4343.964672 MB\n",
      "After input to cuda: 444.391936 MB\n",
      "\bAfter single dvec to cuda: 423.905792 MB\n",
      "\bAfter single dvec to cuda: 434.24 MB\n",
      "\bAfter single dvec to cuda: 442.940416 MB\n",
      "\bAfter single dvec to cuda: 446.234112 MB\n",
      "After dvec to cuda: 446.238208 MB\n",
      "After forward to cuda: 4345.601024 MB\n"
     ]
    },
    {
     "name": "stderr",
     "output_type": "stream",
     "text": [
      "2021-11-24 17:06:44,304 - INFO - Wrote summary at step 543\n"
     ]
    },
    {
     "name": "stdout",
     "output_type": "stream",
     "text": [
      "After input to cuda: 446.105088 MB\n",
      "\bAfter single dvec to cuda: 414.99904 MB\n",
      "\bAfter single dvec to cuda: 425.306624 MB\n",
      "\bAfter single dvec to cuda: 428.442624 MB\n",
      "\bAfter single dvec to cuda: 437.1456 MB\n",
      "After dvec to cuda: 437.149696 MB\n",
      "After forward to cuda: 4336.12032 MB\n",
      "After input to cuda: 437.111808 MB\n",
      "\bAfter single dvec to cuda: 423.417856 MB\n",
      "\bAfter single dvec to cuda: 433.67168 MB\n",
      "\bAfter single dvec to cuda: 443.190272 MB\n",
      "\bAfter single dvec to cuda: 453.795328 MB\n",
      "After dvec to cuda: 453.799424 MB\n",
      "After forward to cuda: 4353.324032 MB\n"
     ]
    },
    {
     "name": "stderr",
     "output_type": "stream",
     "text": [
      "2021-11-24 17:06:45,010 - INFO - Wrote summary at step 544\n"
     ]
    },
    {
     "name": "stdout",
     "output_type": "stream",
     "text": [
      "After input to cuda: 453.197312 MB\n",
      "\bAfter single dvec to cuda: 421.036032 MB\n",
      "\bAfter single dvec to cuda: 431.09632 MB\n",
      "\bAfter single dvec to cuda: 440.073728 MB\n",
      "\bAfter single dvec to cuda: 450.678272 MB\n",
      "After dvec to cuda: 450.682368 MB\n",
      "After forward to cuda: 4351.179776 MB\n",
      "After input to cuda: 451.081728 MB\n",
      "\bAfter single dvec to cuda: 423.558144 MB\n",
      "\bAfter single dvec to cuda: 433.88928 MB\n",
      "\bAfter single dvec to cuda: 443.949568 MB\n",
      "\bAfter single dvec to cuda: 454.555648 MB\n",
      "After dvec to cuda: 454.559744 MB\n",
      "After forward to cuda: 4355.321344 MB\n"
     ]
    },
    {
     "name": "stderr",
     "output_type": "stream",
     "text": [
      "2021-11-24 17:06:45,719 - INFO - Wrote summary at step 545\n"
     ]
    },
    {
     "name": "stdout",
     "output_type": "stream",
     "text": [
      "After input to cuda: 454.160384 MB\n",
      "\bAfter single dvec to cuda: 421.581824 MB\n",
      "\bAfter single dvec to cuda: 431.369728 MB\n",
      "\bAfter single dvec to cuda: 442.51904 MB\n",
      "\bAfter single dvec to cuda: 451.495936 MB\n",
      "After dvec to cuda: 451.500032 MB\n",
      "After forward to cuda: 4351.02464 MB\n",
      "After input to cuda: 451.500032 MB\n",
      "\bAfter single dvec to cuda: 423.10912 MB\n",
      "\bAfter single dvec to cuda: 432.89856 MB\n",
      "\bAfter single dvec to cuda: 438.071808 MB\n",
      "\bAfter single dvec to cuda: 445.426176 MB\n",
      "After dvec to cuda: 445.430272 MB\n",
      "After forward to cuda: 4345.5232 MB\n"
     ]
    },
    {
     "name": "stderr",
     "output_type": "stream",
     "text": [
      "2021-11-24 17:06:46,426 - INFO - Wrote summary at step 546\n"
     ]
    },
    {
     "name": "stdout",
     "output_type": "stream",
     "text": [
      "After input to cuda: 445.745664 MB\n",
      "\bAfter single dvec to cuda: 416.461824 MB\n",
      "\bAfter single dvec to cuda: 425.436672 MB\n",
      "\bAfter single dvec to cuda: 434.95424 MB\n",
      "\bAfter single dvec to cuda: 443.387392 MB\n",
      "After dvec to cuda: 443.391488 MB\n",
      "After forward to cuda: 4343.56992 MB\n",
      "After input to cuda: 443.618816 MB\n",
      "\bAfter single dvec to cuda: 421.30944 MB\n",
      "\bAfter single dvec to cuda: 430.01344 MB\n",
      "\bAfter single dvec to cuda: 440.073728 MB\n",
      "\bAfter single dvec to cuda: 449.862144 MB\n",
      "After dvec to cuda: 449.86624 MB\n",
      "After forward to cuda: 4350.582272 MB\n"
     ]
    },
    {
     "name": "stderr",
     "output_type": "stream",
     "text": [
      "2021-11-24 17:06:47,132 - INFO - Wrote summary at step 547\n"
     ]
    },
    {
     "name": "stdout",
     "output_type": "stream",
     "text": [
      "After input to cuda: 450.088448 MB\n",
      "\bAfter single dvec to cuda: 423.870976 MB\n",
      "\bAfter single dvec to cuda: 432.57344 MB\n",
      "\bAfter single dvec to cuda: 440.732672 MB\n",
      "\bAfter single dvec to cuda: 449.70496 MB\n",
      "After dvec to cuda: 449.709056 MB\n",
      "After forward to cuda: 4349.431296 MB\n",
      "After input to cuda: 449.54624 MB\n",
      "\bAfter single dvec to cuda: 419.264512 MB\n",
      "\bAfter single dvec to cuda: 429.492736 MB\n",
      "\bAfter single dvec to cuda: 433.847296 MB\n",
      "\bAfter single dvec to cuda: 441.465344 MB\n",
      "After dvec to cuda: 441.46944 MB\n",
      "After forward to cuda: 4340.410368 MB\n"
     ]
    },
    {
     "name": "stderr",
     "output_type": "stream",
     "text": [
      "2021-11-24 17:06:47,844 - INFO - Wrote summary at step 548\n"
     ]
    },
    {
     "name": "stdout",
     "output_type": "stream",
     "text": [
      "After input to cuda: 440.867328 MB\n",
      "\bAfter single dvec to cuda: 415.604736 MB\n",
      "\bAfter single dvec to cuda: 419.904512 MB\n",
      "\bAfter single dvec to cuda: 430.510592 MB\n",
      "\bAfter single dvec to cuda: 432.393728 MB\n",
      "After dvec to cuda: 432.397824 MB\n",
      "After forward to cuda: 4332.558336 MB\n",
      "After input to cuda: 432.321024 MB\n",
      "\bAfter single dvec to cuda: 423.084032 MB\n",
      "\bAfter single dvec to cuda: 431.789056 MB\n",
      "\bAfter single dvec to cuda: 441.0368 MB\n",
      "\bAfter single dvec to cuda: 451.094528 MB\n",
      "After dvec to cuda: 451.098624 MB\n",
      "After forward to cuda: 4352.284672 MB\n"
     ]
    },
    {
     "name": "stderr",
     "output_type": "stream",
     "text": [
      "2021-11-24 17:06:48,551 - INFO - Wrote summary at step 549\n"
     ]
    },
    {
     "name": "stdout",
     "output_type": "stream",
     "text": [
      "After input to cuda: 451.803136 MB\n",
      "\bAfter single dvec to cuda: 418.848768 MB\n",
      "\bAfter single dvec to cuda: 421.031936 MB\n",
      "\bAfter single dvec to cuda: 431.285248 MB\n",
      "\bAfter single dvec to cuda: 436.731392 MB\n",
      "After dvec to cuda: 436.735488 MB\n",
      "After forward to cuda: 4336.546304 MB\n",
      "After input to cuda: 436.428288 MB\n",
      "\bAfter single dvec to cuda: 418.909696 MB\n",
      "\bAfter single dvec to cuda: 428.96896 MB\n",
      "\bAfter single dvec to cuda: 438.760448 MB\n",
      "\bAfter single dvec to cuda: 447.732224 MB\n",
      "After dvec to cuda: 447.73632 MB\n",
      "After forward to cuda: 4346.940416 MB\n"
     ]
    },
    {
     "name": "stderr",
     "output_type": "stream",
     "text": [
      "2021-11-24 17:06:49,254 - INFO - Wrote summary at step 550\n"
     ]
    },
    {
     "name": "stdout",
     "output_type": "stream",
     "text": [
      "After input to cuda: 447.415808 MB\n",
      "\bAfter single dvec to cuda: 421.039104 MB\n",
      "\bAfter single dvec to cuda: 430.558208 MB\n",
      "\bAfter single dvec to cuda: 440.35072 MB\n",
      "\bAfter single dvec to cuda: 450.409984 MB\n",
      "After dvec to cuda: 450.41408 MB\n",
      "After forward to cuda: 4350.675968 MB\n",
      "After input to cuda: 450.41408 MB\n",
      "\bAfter single dvec to cuda: 422.834176 MB\n",
      "\bAfter single dvec to cuda: 424.47616 MB\n",
      "\bAfter single dvec to cuda: 431.519744 MB\n",
      "\bAfter single dvec to cuda: 440.219648 MB\n",
      "After dvec to cuda: 440.223744 MB\n",
      "After forward to cuda: 4339.748352 MB\n"
     ]
    },
    {
     "name": "stderr",
     "output_type": "stream",
     "text": [
      "2021-11-24 17:06:49,980 - INFO - Wrote summary at step 551\n"
     ]
    },
    {
     "name": "stdout",
     "output_type": "stream",
     "text": [
      "After input to cuda: 440.223744 MB\n",
      "\bAfter single dvec to cuda: 415.605248 MB\n",
      "\bAfter single dvec to cuda: 424.310272 MB\n",
      "\bAfter single dvec to cuda: 434.641408 MB\n",
      "\bAfter single dvec to cuda: 441.66144 MB\n",
      "After dvec to cuda: 441.665536 MB\n",
      "After forward to cuda: 4341.190144 MB\n",
      "After input to cuda: 441.665536 MB\n",
      "\bAfter single dvec to cuda: 423.484416 MB\n",
      "\bAfter single dvec to cuda: 435.15904 MB\n",
      "\bAfter single dvec to cuda: 441.816064 MB\n",
      "\bAfter single dvec to cuda: 448.810496 MB\n",
      "After dvec to cuda: 448.814592 MB\n",
      "After forward to cuda: 4348.998656 MB\n"
     ]
    },
    {
     "name": "stderr",
     "output_type": "stream",
     "text": [
      "2021-11-24 17:06:50,685 - INFO - Wrote summary at step 552\n"
     ]
    },
    {
     "name": "stdout",
     "output_type": "stream",
     "text": [
      "After input to cuda: 449.474048 MB\n",
      "\bAfter single dvec to cuda: 423.056896 MB\n",
      "\bAfter single dvec to cuda: 426.214912 MB\n",
      "\bAfter single dvec to cuda: 437.090816 MB\n",
      "\bAfter single dvec to cuda: 447.561728 MB\n",
      "After dvec to cuda: 447.565824 MB\n",
      "After forward to cuda: 4347.175936 MB\n",
      "After input to cuda: 447.651328 MB\n",
      "\bAfter single dvec to cuda: 420.967424 MB\n",
      "\bAfter single dvec to cuda: 431.875584 MB\n",
      "\bAfter single dvec to cuda: 440.576512 MB\n",
      "\bAfter single dvec to cuda: 449.28 MB\n",
      "After dvec to cuda: 449.284096 MB\n",
      "After forward to cuda: 4348.694528 MB\n"
     ]
    },
    {
     "name": "stderr",
     "output_type": "stream",
     "text": [
      "2021-11-24 17:06:51,390 - INFO - Wrote summary at step 553\n"
     ]
    },
    {
     "name": "stdout",
     "output_type": "stream",
     "text": [
      "After input to cuda: 448.539136 MB\n",
      "\bAfter single dvec to cuda: 423.133184 MB\n",
      "\bAfter single dvec to cuda: 432.919552 MB\n",
      "\bAfter single dvec to cuda: 441.897472 MB\n",
      "\bAfter single dvec to cuda: 452.232704 MB\n",
      "After dvec to cuda: 452.2368 MB\n",
      "After forward to cuda: 4352.048128 MB\n",
      "After input to cuda: 452.2368 MB\n",
      "\bAfter single dvec to cuda: 423.21152 MB\n",
      "\bAfter single dvec to cuda: 431.37024 MB\n",
      "\bAfter single dvec to cuda: 440.616448 MB\n",
      "\bAfter single dvec to cuda: 446.330368 MB\n",
      "After dvec to cuda: 446.334464 MB\n",
      "After forward to cuda: 4346.145792 MB\n"
     ]
    },
    {
     "name": "stderr",
     "output_type": "stream",
     "text": [
      "2021-11-24 17:06:52,098 - INFO - Wrote summary at step 554\n"
     ]
    },
    {
     "name": "stdout",
     "output_type": "stream",
     "text": [
      "After input to cuda: 446.334464 MB\n",
      "\bAfter single dvec to cuda: 413.97248 MB\n",
      "\bAfter single dvec to cuda: 423.220224 MB\n",
      "\bAfter single dvec to cuda: 430.5664 MB\n",
      "\bAfter single dvec to cuda: 439.001088 MB\n",
      "After dvec to cuda: 439.005184 MB\n",
      "After forward to cuda: 4339.85792 MB\n",
      "After input to cuda: 439.325696 MB\n",
      "\bAfter single dvec to cuda: 423.481344 MB\n",
      "\bAfter single dvec to cuda: 431.913472 MB\n",
      "\bAfter single dvec to cuda: 439.803392 MB\n",
      "\bAfter single dvec to cuda: 449.861632 MB\n",
      "After dvec to cuda: 449.865728 MB\n",
      "After forward to cuda: 4350.084608 MB\n"
     ]
    },
    {
     "name": "stderr",
     "output_type": "stream",
     "text": [
      "2021-11-24 17:06:52,805 - INFO - Wrote summary at step 555\n"
     ]
    },
    {
     "name": "stdout",
     "output_type": "stream",
     "text": [
      "After input to cuda: 449.545216 MB\n",
      "\bAfter single dvec to cuda: 422.937088 MB\n",
      "\bAfter single dvec to cuda: 433.191424 MB\n",
      "\bAfter single dvec to cuda: 439.073792 MB\n",
      "\bAfter single dvec to cuda: 449.137152 MB\n",
      "After dvec to cuda: 449.141248 MB\n",
      "After forward to cuda: 4348.665856 MB\n",
      "After input to cuda: 449.064448 MB\n",
      "\bAfter single dvec to cuda: 418.684416 MB\n",
      "\bAfter single dvec to cuda: 425.757696 MB\n",
      "\bAfter single dvec to cuda: 426.313728 MB\n",
      "\bAfter single dvec to cuda: 434.47552 MB\n",
      "After dvec to cuda: 434.479616 MB\n",
      "After forward to cuda: 4334.052352 MB\n"
     ]
    },
    {
     "name": "stderr",
     "output_type": "stream",
     "text": [
      "2021-11-24 17:06:53,510 - INFO - Wrote summary at step 556\n"
     ]
    },
    {
     "name": "stdout",
     "output_type": "stream",
     "text": [
      "After input to cuda: 434.556416 MB\n",
      "\bAfter single dvec to cuda: 422.739968 MB\n",
      "\bAfter single dvec to cuda: 430.357504 MB\n",
      "\bAfter single dvec to cuda: 439.878656 MB\n",
      "\bAfter single dvec to cuda: 443.665408 MB\n",
      "After dvec to cuda: 443.669504 MB\n",
      "After forward to cuda: 4343.194112 MB\n",
      "After input to cuda: 443.669504 MB\n",
      "\bAfter single dvec to cuda: 417.945088 MB\n",
      "\bAfter single dvec to cuda: 428.822528 MB\n",
      "\bAfter single dvec to cuda: 439.130624 MB\n",
      "\bAfter single dvec to cuda: 444.032512 MB\n",
      "After dvec to cuda: 444.036608 MB\n",
      "After forward to cuda: 4344.539136 MB\n"
     ]
    },
    {
     "name": "stderr",
     "output_type": "stream",
     "text": [
      "2021-11-24 17:06:54,214 - INFO - Wrote summary at step 557\n"
     ]
    },
    {
     "name": "stdout",
     "output_type": "stream",
     "text": [
      "After input to cuda: 444.036608 MB\n",
      "\bAfter single dvec to cuda: 423.10912 MB\n",
      "\bAfter single dvec to cuda: 430.99648 MB\n",
      "\bAfter single dvec to cuda: 439.699968 MB\n",
      "\bAfter single dvec to cuda: 447.86176 MB\n",
      "After dvec to cuda: 447.865856 MB\n",
      "After forward to cuda: 4348.295168 MB\n",
      "After input to cuda: 447.865856 MB\n",
      "\bAfter single dvec to cuda: 423.211008 MB\n",
      "\bAfter single dvec to cuda: 428.655616 MB\n",
      "\bAfter single dvec to cuda: 438.593536 MB\n",
      "\bAfter single dvec to cuda: 448.114176 MB\n",
      "After dvec to cuda: 448.118272 MB\n",
      "After forward to cuda: 4349.413376 MB\n"
     ]
    },
    {
     "name": "stderr",
     "output_type": "stream",
     "text": [
      "2021-11-24 17:06:54,961 - INFO - Wrote summary at step 558\n"
     ]
    },
    {
     "name": "stdout",
     "output_type": "stream",
     "text": [
      "After input to cuda: 448.118272 MB\n",
      "\bAfter single dvec to cuda: 422.39744 MB\n",
      "\bAfter single dvec to cuda: 432.308736 MB\n",
      "\bAfter single dvec to cuda: 436.939776 MB\n",
      "\bAfter single dvec to cuda: 447.220736 MB\n",
      "After dvec to cuda: 447.224832 MB\n",
      "After forward to cuda: 4347.697664 MB\n",
      "After input to cuda: 447.224832 MB\n",
      "\bAfter single dvec to cuda: 423.184384 MB\n",
      "\bAfter single dvec to cuda: 424.6656 MB\n",
      "\bAfter single dvec to cuda: 435.109376 MB\n",
      "\bAfter single dvec to cuda: 442.998784 MB\n",
      "After dvec to cuda: 443.00288 MB\n",
      "After forward to cuda: 4344.044032 MB\n"
     ]
    },
    {
     "name": "stderr",
     "output_type": "stream",
     "text": [
      "2021-11-24 17:06:55,685 - INFO - Wrote summary at step 559\n"
     ]
    },
    {
     "name": "stdout",
     "output_type": "stream",
     "text": [
      "After input to cuda: 443.599872 MB\n",
      "\bAfter single dvec to cuda: 424.081408 MB\n",
      "\bAfter single dvec to cuda: 425.72288 MB\n",
      "\bAfter single dvec to cuda: 434.428928 MB\n",
      "\bAfter single dvec to cuda: 443.67616 MB\n",
      "After dvec to cuda: 443.680256 MB\n",
      "After forward to cuda: 4343.38048 MB\n",
      "After input to cuda: 443.083264 MB\n",
      "\bAfter single dvec to cuda: 423.15776 MB\n",
      "\bAfter single dvec to cuda: 433.490944 MB\n",
      "\bAfter single dvec to cuda: 439.203328 MB\n",
      "\bAfter single dvec to cuda: 443.831808 MB\n",
      "After dvec to cuda: 443.835904 MB\n",
      "After forward to cuda: 4344.249344 MB\n"
     ]
    },
    {
     "name": "stderr",
     "output_type": "stream",
     "text": [
      "2021-11-24 17:06:56,407 - INFO - Wrote summary at step 560\n"
     ]
    },
    {
     "name": "stdout",
     "output_type": "stream",
     "text": [
      "After input to cuda: 444.156416 MB\n",
      "\bAfter single dvec to cuda: 422.171648 MB\n",
      "\bAfter single dvec to cuda: 430.329856 MB\n",
      "\bAfter single dvec to cuda: 439.301632 MB\n",
      "\bAfter single dvec to cuda: 448.002048 MB\n",
      "After dvec to cuda: 448.006144 MB\n",
      "After forward to cuda: 4349.065216 MB\n",
      "After input to cuda: 447.685632 MB\n",
      "\bAfter single dvec to cuda: 416.418304 MB\n",
      "\bAfter single dvec to cuda: 426.650112 MB\n",
      "\bAfter single dvec to cuda: 435.329536 MB\n",
      "\bAfter single dvec to cuda: 444.031488 MB\n",
      "After dvec to cuda: 444.035584 MB\n",
      "After forward to cuda: 4343.82848 MB\n"
     ]
    },
    {
     "name": "stderr",
     "output_type": "stream",
     "text": [
      "2021-11-24 17:06:57,113 - INFO - Wrote summary at step 561\n"
     ]
    },
    {
     "name": "stdout",
     "output_type": "stream",
     "text": [
      "After input to cuda: 444.035584 MB\n",
      "\bAfter single dvec to cuda: 414.515712 MB\n",
      "\bAfter single dvec to cuda: 424.7936 MB\n",
      "\bAfter single dvec to cuda: 434.582528 MB\n",
      "\bAfter single dvec to cuda: 437.037568 MB\n",
      "After dvec to cuda: 437.041664 MB\n",
      "After forward to cuda: 4337.88672 MB\n",
      "After input to cuda: 437.61152 MB\n",
      "\bAfter single dvec to cuda: 422.809088 MB\n",
      "\bAfter single dvec to cuda: 432.596992 MB\n",
      "\bAfter single dvec to cuda: 438.315008 MB\n",
      "\bAfter single dvec to cuda: 442.942464 MB\n",
      "After dvec to cuda: 442.94656 MB\n",
      "After forward to cuda: 4341.901312 MB\n"
     ]
    },
    {
     "name": "stderr",
     "output_type": "stream",
     "text": [
      "2021-11-24 17:06:57,818 - INFO - Wrote summary at step 562\n"
     ]
    },
    {
     "name": "stdout",
     "output_type": "stream",
     "text": [
      "After input to cuda: 442.376704 MB\n",
      "\bAfter single dvec to cuda: 421.168128 MB\n",
      "\bAfter single dvec to cuda: 428.511744 MB\n",
      "\bAfter single dvec to cuda: 436.401664 MB\n",
      "\bAfter single dvec to cuda: 438.286336 MB\n",
      "After dvec to cuda: 438.290432 MB\n",
      "After forward to cuda: 4337.81504 MB\n",
      "After input to cuda: 438.290432 MB\n",
      "\bAfter single dvec to cuda: 422.188544 MB\n",
      "\bAfter single dvec to cuda: 431.898624 MB\n",
      "\bAfter single dvec to cuda: 441.690112 MB\n",
      "\bAfter single dvec to cuda: 450.936832 MB\n",
      "After dvec to cuda: 450.940928 MB\n",
      "After forward to cuda: 4352.571904 MB\n"
     ]
    },
    {
     "name": "stderr",
     "output_type": "stream",
     "text": [
      "2021-11-24 17:06:58,525 - INFO - Wrote summary at step 563\n"
     ]
    },
    {
     "name": "stdout",
     "output_type": "stream",
     "text": [
      "After input to cuda: 451.53792 MB\n",
      "\bAfter single dvec to cuda: 420.005888 MB\n",
      "\bAfter single dvec to cuda: 429.768704 MB\n",
      "\bAfter single dvec to cuda: 436.571648 MB\n",
      "\bAfter single dvec to cuda: 446.36416 MB\n",
      "After dvec to cuda: 446.368256 MB\n",
      "After forward to cuda: 4345.567232 MB\n",
      "After input to cuda: 445.771264 MB\n",
      "\bAfter single dvec to cuda: 423.182336 MB\n",
      "\bAfter single dvec to cuda: 432.489472 MB\n",
      "\bAfter single dvec to cuda: 442.227712 MB\n",
      "\bAfter single dvec to cuda: 451.9168 MB\n",
      "After dvec to cuda: 451.920896 MB\n",
      "After forward to cuda: 4351.445504 MB\n"
     ]
    },
    {
     "name": "stderr",
     "output_type": "stream",
     "text": [
      "2021-11-24 17:06:59,232 - INFO - Wrote summary at step 564\n"
     ]
    },
    {
     "name": "stdout",
     "output_type": "stream",
     "text": [
      "After input to cuda: 451.844096 MB\n",
      "\bAfter single dvec to cuda: 422.108672 MB\n",
      "\bAfter single dvec to cuda: 431.845376 MB\n",
      "\bAfter single dvec to cuda: 436.745216 MB\n",
      "\bAfter single dvec to cuda: 441.1008 MB\n",
      "After dvec to cuda: 441.104896 MB\n",
      "After forward to cuda: 4340.845568 MB\n",
      "After input to cuda: 441.349632 MB\n",
      "\bAfter single dvec to cuda: 423.379968 MB\n",
      "\bAfter single dvec to cuda: 431.540224 MB\n",
      "\bAfter single dvec to cuda: 433.181184 MB\n",
      "\bAfter single dvec to cuda: 441.611264 MB\n",
      "After dvec to cuda: 441.61536 MB\n",
      "After forward to cuda: 4341.540352 MB\n"
     ]
    },
    {
     "name": "stderr",
     "output_type": "stream",
     "text": [
      "2021-11-24 17:06:59,963 - INFO - Wrote summary at step 565\n"
     ]
    },
    {
     "name": "stdout",
     "output_type": "stream",
     "text": [
      "After input to cuda: 442.044416 MB\n",
      "\bAfter single dvec to cuda: 421.364224 MB\n",
      "\bAfter single dvec to cuda: 430.607872 MB\n",
      "\bAfter single dvec to cuda: 439.58528 MB\n",
      "\bAfter single dvec to cuda: 449.37728 MB\n",
      "After dvec to cuda: 449.381376 MB\n",
      "After forward to cuda: 4349.16096 MB\n",
      "After input to cuda: 449.334272 MB\n",
      "\bAfter single dvec to cuda: 421.857792 MB\n",
      "\bAfter single dvec to cuda: 430.83008 MB\n",
      "\bAfter single dvec to cuda: 441.163264 MB\n",
      "\bAfter single dvec to cuda: 450.679808 MB\n",
      "After dvec to cuda: 450.683904 MB\n",
      "After forward to cuda: 4351.232512 MB\n"
     ]
    },
    {
     "name": "stderr",
     "output_type": "stream",
     "text": [
      "2021-11-24 17:07:00,669 - INFO - Wrote summary at step 566\n"
     ]
    },
    {
     "name": "stdout",
     "output_type": "stream",
     "text": [
      "After input to cuda: 450.454528 MB\n",
      "\bAfter single dvec to cuda: 423.801856 MB\n",
      "\bAfter single dvec to cuda: 434.111488 MB\n",
      "\bAfter single dvec to cuda: 437.89824 MB\n",
      "\bAfter single dvec to cuda: 446.603264 MB\n",
      "After dvec to cuda: 446.60736 MB\n",
      "After forward to cuda: 4345.811456 MB\n",
      "After input to cuda: 446.286848 MB\n",
      "\bAfter single dvec to cuda: 416.66304 MB\n",
      "\bAfter single dvec to cuda: 426.91584 MB\n",
      "\bAfter single dvec to cuda: 437.51936 MB\n",
      "\bAfter single dvec to cuda: 443.506176 MB\n",
      "After dvec to cuda: 443.510272 MB\n",
      "After forward to cuda: 4343.355392 MB\n"
     ]
    },
    {
     "name": "stderr",
     "output_type": "stream",
     "text": [
      "2021-11-24 17:07:01,374 - INFO - Wrote summary at step 567\n"
     ]
    },
    {
     "name": "stdout",
     "output_type": "stream",
     "text": [
      "After input to cuda: 443.830784 MB\n",
      "\bAfter single dvec to cuda: 420.542976 MB\n",
      "\bAfter single dvec to cuda: 431.419392 MB\n",
      "\bAfter single dvec to cuda: 442.846208 MB\n",
      "\bAfter single dvec to cuda: 450.732544 MB\n",
      "After dvec to cuda: 450.73664 MB\n",
      "After forward to cuda: 4350.509056 MB\n",
      "After input to cuda: 450.416128 MB\n",
      "\bAfter single dvec to cuda: 423.135232 MB\n",
      "\bAfter single dvec to cuda: 430.211584 MB\n",
      "\bAfter single dvec to cuda: 435.92704 MB\n",
      "\bAfter single dvec to cuda: 445.476864 MB\n",
      "After dvec to cuda: 445.48096 MB\n",
      "After forward to cuda: 4345.8944 MB\n"
     ]
    },
    {
     "name": "stderr",
     "output_type": "stream",
     "text": [
      "2021-11-24 17:07:02,082 - INFO - Wrote summary at step 568\n"
     ]
    },
    {
     "name": "stdout",
     "output_type": "stream",
     "text": [
      "After input to cuda: 445.801472 MB\n",
      "\bAfter single dvec to cuda: 423.45216 MB\n",
      "\bAfter single dvec to cuda: 433.510912 MB\n",
      "\bAfter single dvec to cuda: 443.028992 MB\n",
      "\bAfter single dvec to cuda: 452.000768 MB\n",
      "After dvec to cuda: 452.004864 MB\n",
      "After forward to cuda: 4351.77728 MB\n",
      "After input to cuda: 451.684352 MB\n",
      "\bAfter single dvec to cuda: 420.220416 MB\n",
      "\bAfter single dvec to cuda: 425.66656 MB\n",
      "\bAfter single dvec to cuda: 434.640384 MB\n",
      "\bAfter single dvec to cuda: 435.738624 MB\n",
      "After dvec to cuda: 435.74272 MB\n",
      "After forward to cuda: 4335.267328 MB\n"
     ]
    },
    {
     "name": "stderr",
     "output_type": "stream",
     "text": [
      "2021-11-24 17:07:02,787 - INFO - Wrote summary at step 569\n"
     ]
    },
    {
     "name": "stdout",
     "output_type": "stream",
     "text": [
      "After input to cuda: 435.74272 MB\n",
      "\bAfter single dvec to cuda: 423.213056 MB\n",
      "\bAfter single dvec to cuda: 431.373824 MB\n",
      "\bAfter single dvec to cuda: 438.991872 MB\n",
      "\bAfter single dvec to cuda: 441.990656 MB\n",
      "After dvec to cuda: 441.994752 MB\n",
      "After forward to cuda: 4342.121472 MB\n",
      "After input to cuda: 442.596864 MB\n",
      "\bAfter single dvec to cuda: 422.454272 MB\n",
      "\bAfter single dvec to cuda: 433.328128 MB\n",
      "\bAfter single dvec to cuda: 436.600832 MB\n",
      "\bAfter single dvec to cuda: 442.314752 MB\n",
      "After dvec to cuda: 442.318848 MB\n",
      "After forward to cuda: 4341.241344 MB\n"
     ]
    },
    {
     "name": "stderr",
     "output_type": "stream",
     "text": [
      "2021-11-24 17:07:03,491 - INFO - Wrote summary at step 570\n"
     ]
    },
    {
     "name": "stdout",
     "output_type": "stream",
     "text": [
      "After input to cuda: 442.032128 MB\n",
      "\bAfter single dvec to cuda: 421.621248 MB\n",
      "\bAfter single dvec to cuda: 431.682048 MB\n",
      "\bAfter single dvec to cuda: 439.84384 MB\n",
      "\bAfter single dvec to cuda: 441.73312 MB\n",
      "After dvec to cuda: 441.737216 MB\n",
      "After forward to cuda: 4342.08512 MB\n",
      "After input to cuda: 442.273792 MB\n",
      "\bAfter single dvec to cuda: 419.445248 MB\n",
      "\bAfter single dvec to cuda: 429.70112 MB\n",
      "\bAfter single dvec to cuda: 435.959296 MB\n",
      "\bAfter single dvec to cuda: 445.207552 MB\n",
      "After dvec to cuda: 445.211648 MB\n",
      "After forward to cuda: 4345.056768 MB\n"
     ]
    },
    {
     "name": "stderr",
     "output_type": "stream",
     "text": [
      "2021-11-24 17:07:04,197 - INFO - Wrote summary at step 571\n"
     ]
    },
    {
     "name": "stdout",
     "output_type": "stream",
     "text": [
      "After input to cuda: 444.680192 MB\n",
      "\bAfter single dvec to cuda: 423.533056 MB\n",
      "\bAfter single dvec to cuda: 430.880256 MB\n",
      "\bAfter single dvec to cuda: 441.214464 MB\n",
      "\bAfter single dvec to cuda: 450.188288 MB\n",
      "After dvec to cuda: 450.192384 MB\n",
      "After forward to cuda: 4350.003712 MB\n",
      "After input to cuda: 449.871872 MB\n",
      "\bAfter single dvec to cuda: 415.879168 MB\n",
      "\bAfter single dvec to cuda: 417.793536 MB\n",
      "\bAfter single dvec to cuda: 428.103168 MB\n",
      "\bAfter single dvec to cuda: 438.706688 MB\n",
      "After dvec to cuda: 438.710784 MB\n",
      "After forward to cuda: 4338.235392 MB\n"
     ]
    },
    {
     "name": "stderr",
     "output_type": "stream",
     "text": [
      "2021-11-24 17:07:04,904 - INFO - Wrote summary at step 572\n"
     ]
    },
    {
     "name": "stdout",
     "output_type": "stream",
     "text": [
      "After input to cuda: 438.710784 MB\n",
      "\bAfter single dvec to cuda: 423.156224 MB\n",
      "\bAfter single dvec to cuda: 433.217024 MB\n",
      "\bAfter single dvec to cuda: 442.73408 MB\n",
      "\bAfter single dvec to cuda: 452.79488 MB\n",
      "After dvec to cuda: 452.798976 MB\n",
      "After forward to cuda: 4353.207296 MB\n",
      "After input to cuda: 453.114368 MB\n",
      "\bAfter single dvec to cuda: 423.419392 MB\n",
      "\bAfter single dvec to cuda: 431.036928 MB\n",
      "\bAfter single dvec to cuda: 435.66592 MB\n",
      "\bAfter single dvec to cuda: 444.09856 MB\n",
      "After dvec to cuda: 444.102656 MB\n",
      "After forward to cuda: 4344.073216 MB\n"
     ]
    },
    {
     "name": "stderr",
     "output_type": "stream",
     "text": [
      "2021-11-24 17:07:05,626 - INFO - Wrote summary at step 573\n"
     ]
    },
    {
     "name": "stdout",
     "output_type": "stream",
     "text": [
      "After input to cuda: 444.548608 MB\n",
      "\bAfter single dvec to cuda: 416.672768 MB\n",
      "\bAfter single dvec to cuda: 424.831488 MB\n",
      "\bAfter single dvec to cuda: 435.16416 MB\n",
      "\bAfter single dvec to cuda: 446.309376 MB\n",
      "After dvec to cuda: 446.313472 MB\n",
      "After forward to cuda: 4346.039808 MB\n",
      "After input to cuda: 445.552128 MB\n",
      "\bAfter single dvec to cuda: 420.76416 MB\n",
      "\bAfter single dvec to cuda: 429.192704 MB\n",
      "\bAfter single dvec to cuda: 436.235776 MB\n",
      "\bAfter single dvec to cuda: 445.755904 MB\n",
      "After dvec to cuda: 445.76 MB\n",
      "After forward to cuda: 4345.284608 MB\n"
     ]
    },
    {
     "name": "stderr",
     "output_type": "stream",
     "text": [
      "2021-11-24 17:07:06,330 - INFO - Wrote summary at step 574\n"
     ]
    },
    {
     "name": "stdout",
     "output_type": "stream",
     "text": [
      "After input to cuda: 445.76 MB\n",
      "\bAfter single dvec to cuda: 423.108096 MB\n",
      "\bAfter single dvec to cuda: 432.085504 MB\n",
      "\bAfter single dvec to cuda: 441.061376 MB\n",
      "\bAfter single dvec to cuda: 444.601344 MB\n",
      "After dvec to cuda: 444.60544 MB\n",
      "After forward to cuda: 4344.421888 MB\n",
      "After input to cuda: 444.60544 MB\n",
      "\bAfter single dvec to cuda: 421.799936 MB\n",
      "\bAfter single dvec to cuda: 423.710208 MB\n",
      "\bAfter single dvec to cuda: 431.057408 MB\n",
      "\bAfter single dvec to cuda: 440.300544 MB\n",
      "After dvec to cuda: 440.30464 MB\n",
      "After forward to cuda: 4339.829248 MB\n"
     ]
    },
    {
     "name": "stderr",
     "output_type": "stream",
     "text": [
      "2021-11-24 17:07:07,034 - INFO - Wrote summary at step 575\n"
     ]
    },
    {
     "name": "stdout",
     "output_type": "stream",
     "text": [
      "After input to cuda: 440.22784 MB\n",
      "\bAfter single dvec to cuda: 423.055872 MB\n",
      "\bAfter single dvec to cuda: 433.390592 MB\n",
      "\bAfter single dvec to cuda: 442.36544 MB\n",
      "\bAfter single dvec to cuda: 450.2528 MB\n",
      "After dvec to cuda: 450.256896 MB\n",
      "After forward to cuda: 4351.607808 MB\n",
      "After input to cuda: 451.459072 MB\n",
      "\bAfter single dvec to cuda: 424.235008 MB\n",
      "\bAfter single dvec to cuda: 434.02496 MB\n",
      "\bAfter single dvec to cuda: 443.54048 MB\n",
      "\bAfter single dvec to cuda: 452.7872 MB\n",
      "After dvec to cuda: 452.791296 MB\n",
      "After forward to cuda: 4352.032768 MB\n"
     ]
    },
    {
     "name": "stderr",
     "output_type": "stream",
     "text": [
      "2021-11-24 17:07:07,742 - INFO - Wrote summary at step 576\n"
     ]
    },
    {
     "name": "stdout",
     "output_type": "stream",
     "text": [
      "After input to cuda: 451.66592 MB\n",
      "\bAfter single dvec to cuda: 422.790144 MB\n",
      "\bAfter single dvec to cuda: 427.961856 MB\n",
      "\bAfter single dvec to cuda: 436.664832 MB\n",
      "\bAfter single dvec to cuda: 438.142464 MB\n",
      "After dvec to cuda: 438.14656 MB\n",
      "After forward to cuda: 4337.67936 MB\n",
      "After input to cuda: 438.14656 MB\n",
      "\bAfter single dvec to cuda: 421.310464 MB\n",
      "\bAfter single dvec to cuda: 428.930048 MB\n",
      "\bAfter single dvec to cuda: 439.26016 MB\n",
      "\bAfter single dvec to cuda: 449.595904 MB\n",
      "After dvec to cuda: 449.6 MB\n",
      "After forward to cuda: 4350.887424 MB\n"
     ]
    },
    {
     "name": "stderr",
     "output_type": "stream",
     "text": [
      "2021-11-24 17:07:08,449 - INFO - Wrote summary at step 577\n"
     ]
    },
    {
     "name": "stdout",
     "output_type": "stream",
     "text": [
      "After input to cuda: 450.196992 MB\n",
      "\bAfter single dvec to cuda: 423.781888 MB\n",
      "\bAfter single dvec to cuda: 434.111488 MB\n",
      "\bAfter single dvec to cuda: 444.713472 MB\n",
      "\bAfter single dvec to cuda: 454.500352 MB\n",
      "After dvec to cuda: 454.504448 MB\n",
      "After forward to cuda: 4353.857536 MB\n",
      "After input to cuda: 454.227968 MB\n",
      "\bAfter single dvec to cuda: 423.527936 MB\n",
      "\bAfter single dvec to cuda: 429.789184 MB\n",
      "\bAfter single dvec to cuda: 440.123904 MB\n",
      "\bAfter single dvec to cuda: 449.639424 MB\n",
      "After dvec to cuda: 449.64352 MB\n",
      "After forward to cuda: 4349.825536 MB\n"
     ]
    },
    {
     "name": "stderr",
     "output_type": "stream",
     "text": [
      "2021-11-24 17:07:09,156 - INFO - Wrote summary at step 578\n"
     ]
    },
    {
     "name": "stdout",
     "output_type": "stream",
     "text": [
      "After input to cuda: 449.323008 MB\n",
      "\bAfter single dvec to cuda: 423.752192 MB\n",
      "\bAfter single dvec to cuda: 431.640064 MB\n",
      "\bAfter single dvec to cuda: 441.869824 MB\n",
      "\bAfter single dvec to cuda: 446.224896 MB\n",
      "After dvec to cuda: 446.228992 MB\n",
      "After forward to cuda: 4345.7536 MB\n",
      "After input to cuda: 446.228992 MB\n",
      "\bAfter single dvec to cuda: 423.109632 MB\n",
      "\bAfter single dvec to cuda: 433.7152 MB\n",
      "\bAfter single dvec to cuda: 443.50464 MB\n",
      "\bAfter single dvec to cuda: 453.021696 MB\n",
      "After dvec to cuda: 453.025792 MB\n",
      "After forward to cuda: 4353.632768 MB\n"
     ]
    },
    {
     "name": "stderr",
     "output_type": "stream",
     "text": [
      "2021-11-24 17:07:09,863 - INFO - Wrote summary at step 579\n"
     ]
    },
    {
     "name": "stdout",
     "output_type": "stream",
     "text": [
      "After input to cuda: 453.81632 MB\n",
      "\bAfter single dvec to cuda: 422.64064 MB\n",
      "\bAfter single dvec to cuda: 430.803456 MB\n",
      "\bAfter single dvec to cuda: 440.323072 MB\n",
      "\bAfter single dvec to cuda: 442.509824 MB\n",
      "After dvec to cuda: 442.51392 MB\n",
      "After forward to cuda: 4341.53216 MB\n",
      "After input to cuda: 441.765376 MB\n",
      "\bAfter single dvec to cuda: 421.89312 MB\n",
      "\bAfter single dvec to cuda: 425.657856 MB\n",
      "\bAfter single dvec to cuda: 433.547776 MB\n",
      "\bAfter single dvec to cuda: 442.52416 MB\n",
      "After dvec to cuda: 442.528256 MB\n",
      "After forward to cuda: 4342.809088 MB\n"
     ]
    },
    {
     "name": "stderr",
     "output_type": "stream",
     "text": [
      "2021-11-24 17:07:10,569 - INFO - Wrote summary at step 580\n"
     ]
    },
    {
     "name": "stdout",
     "output_type": "stream",
     "text": [
      "After input to cuda: 442.806784 MB\n",
      "\bAfter single dvec to cuda: 423.507456 MB\n",
      "\bAfter single dvec to cuda: 431.938048 MB\n",
      "\bAfter single dvec to cuda: 439.28064 MB\n",
      "\bAfter single dvec to cuda: 448.798208 MB\n",
      "After dvec to cuda: 448.802304 MB\n",
      "After forward to cuda: 4348.98432 MB\n",
      "After input to cuda: 448.481792 MB\n",
      "\bAfter single dvec to cuda: 423.184896 MB\n",
      "\bAfter single dvec to cuda: 432.674816 MB\n",
      "\bAfter single dvec to cuda: 435.9808 MB\n",
      "\bAfter single dvec to cuda: 443.32544 MB\n",
      "After dvec to cuda: 443.329536 MB\n",
      "After forward to cuda: 4342.854144 MB\n"
     ]
    },
    {
     "name": "stderr",
     "output_type": "stream",
     "text": [
      "2021-11-24 17:07:11,275 - INFO - Wrote summary at step 581\n"
     ]
    },
    {
     "name": "stdout",
     "output_type": "stream",
     "text": [
      "After input to cuda: 443.329536 MB\n",
      "\bAfter single dvec to cuda: 415.875584 MB\n",
      "\bAfter single dvec to cuda: 426.20928 MB\n",
      "\bAfter single dvec to cuda: 433.554432 MB\n",
      "\bAfter single dvec to cuda: 443.06944 MB\n",
      "After dvec to cuda: 443.073536 MB\n",
      "After forward to cuda: 4343.357952 MB\n",
      "After input to cuda: 443.862016 MB\n",
      "\bAfter single dvec to cuda: 422.099968 MB\n",
      "\bAfter single dvec to cuda: 432.377856 MB\n",
      "\bAfter single dvec to cuda: 439.725056 MB\n",
      "\bAfter single dvec to cuda: 446.032384 MB\n",
      "After dvec to cuda: 446.03648 MB\n",
      "After forward to cuda: 4345.561088 MB\n"
     ]
    },
    {
     "name": "stderr",
     "output_type": "stream",
     "text": [
      "2021-11-24 17:07:11,981 - INFO - Wrote summary at step 582\n"
     ]
    },
    {
     "name": "stdout",
     "output_type": "stream",
     "text": [
      "After input to cuda: 445.248 MB\n",
      "\bAfter single dvec to cuda: 423.18592 MB\n",
      "\bAfter single dvec to cuda: 433.123328 MB\n",
      "\bAfter single dvec to cuda: 442.0992 MB\n",
      "\bAfter single dvec to cuda: 452.704768 MB\n",
      "After dvec to cuda: 452.708864 MB\n",
      "After forward to cuda: 4354.152448 MB\n",
      "After input to cuda: 454.656512 MB\n",
      "\bAfter single dvec to cuda: 418.096128 MB\n",
      "\bAfter single dvec to cuda: 427.070976 MB\n",
      "\bAfter single dvec to cuda: 431.973888 MB\n",
      "\bAfter single dvec to cuda: 441.56672 MB\n",
      "After dvec to cuda: 441.570816 MB\n",
      "After forward to cuda: 4339.68128 MB\n"
     ]
    },
    {
     "name": "stderr",
     "output_type": "stream",
     "text": [
      "2021-11-24 17:07:12,688 - INFO - Wrote summary at step 583\n"
     ]
    },
    {
     "name": "stdout",
     "output_type": "stream",
     "text": [
      "After input to cuda: 440.156672 MB\n",
      "\bAfter single dvec to cuda: 423.716864 MB\n",
      "\bAfter single dvec to cuda: 424.813568 MB\n",
      "\bAfter single dvec to cuda: 431.782912 MB\n",
      "\bAfter single dvec to cuda: 440.217088 MB\n",
      "After dvec to cuda: 440.221184 MB\n",
      "After forward to cuda: 4340.299264 MB\n",
      "After input to cuda: 439.68768 MB\n",
      "\bAfter single dvec to cuda: 415.924736 MB\n",
      "\bAfter single dvec to cuda: 426.232832 MB\n",
      "\bAfter single dvec to cuda: 427.708928 MB\n",
      "\bAfter single dvec to cuda: 436.685824 MB\n",
      "After dvec to cuda: 436.68992 MB\n",
      "After forward to cuda: 4336.782848 MB\n"
     ]
    },
    {
     "name": "stderr",
     "output_type": "stream",
     "text": [
      "2021-11-24 17:07:13,393 - INFO - Wrote summary at step 584\n"
     ]
    },
    {
     "name": "stdout",
     "output_type": "stream",
     "text": [
      "After input to cuda: 437.286912 MB\n",
      "\bAfter single dvec to cuda: 423.780352 MB\n",
      "\bAfter single dvec to cuda: 425.967104 MB\n",
      "\bAfter single dvec to cuda: 427.88096 MB\n",
      "\bAfter single dvec to cuda: 431.152128 MB\n",
      "After dvec to cuda: 431.156224 MB\n",
      "After forward to cuda: 4331.903488 MB\n",
      "After input to cuda: 430.963712 MB\n",
      "\bAfter single dvec to cuda: 423.613952 MB\n",
      "\bAfter single dvec to cuda: 432.044544 MB\n",
      "\bAfter single dvec to cuda: 440.20736 MB\n",
      "\bAfter single dvec to cuda: 450.542592 MB\n",
      "After dvec to cuda: 450.546688 MB\n",
      "After forward to cuda: 4350.581248 MB\n"
     ]
    },
    {
     "name": "stderr",
     "output_type": "stream",
     "text": [
      "2021-11-24 17:07:14,097 - INFO - Wrote summary at step 585\n"
     ]
    },
    {
     "name": "stdout",
     "output_type": "stream",
     "text": [
      "After input to cuda: 450.675712 MB\n",
      "\bAfter single dvec to cuda: 421.844992 MB\n",
      "\bAfter single dvec to cuda: 433.262592 MB\n",
      "\bAfter single dvec to cuda: 443.320832 MB\n",
      "\bAfter single dvec to cuda: 453.924864 MB\n",
      "After dvec to cuda: 453.92896 MB\n",
      "After forward to cuda: 4353.627648 MB\n",
      "After input to cuda: 453.395456 MB\n",
      "\bAfter single dvec to cuda: 417.778688 MB\n",
      "\bAfter single dvec to cuda: 427.838464 MB\n",
      "\bAfter single dvec to cuda: 430.391808 MB\n",
      "\bAfter single dvec to cuda: 440.45568 MB\n",
      "After dvec to cuda: 440.459776 MB\n",
      "After forward to cuda: 4340.980736 MB\n"
     ]
    },
    {
     "name": "stderr",
     "output_type": "stream",
     "text": [
      "2021-11-24 17:07:14,804 - INFO - Wrote summary at step 586\n"
     ]
    },
    {
     "name": "stdout",
     "output_type": "stream",
     "text": [
      "After input to cuda: 440.459776 MB\n",
      "\bAfter single dvec to cuda: 422.939648 MB\n",
      "\bAfter single dvec to cuda: 427.81696 MB\n",
      "\bAfter single dvec to cuda: 434.833408 MB\n",
      "\bAfter single dvec to cuda: 444.896256 MB\n",
      "After dvec to cuda: 444.900352 MB\n",
      "After forward to cuda: 4345.562112 MB\n",
      "After input to cuda: 444.900352 MB\n",
      "\bAfter single dvec to cuda: 422.667264 MB\n",
      "\bAfter single dvec to cuda: 431.64416 MB\n",
      "\bAfter single dvec to cuda: 436.443136 MB\n",
      "\bAfter single dvec to cuda: 446.77376 MB\n",
      "After dvec to cuda: 446.777856 MB\n",
      "After forward to cuda: 4346.949632 MB\n"
     ]
    },
    {
     "name": "stderr",
     "output_type": "stream",
     "text": [
      "2021-11-24 17:07:15,512 - INFO - Wrote summary at step 587\n"
     ]
    },
    {
     "name": "stdout",
     "output_type": "stream",
     "text": [
      "After input to cuda: 447.453696 MB\n",
      "\bAfter single dvec to cuda: 424.432128 MB\n",
      "\bAfter single dvec to cuda: 433.40544 MB\n",
      "\bAfter single dvec to cuda: 442.651136 MB\n",
      "\bAfter single dvec to cuda: 453.254144 MB\n",
      "After dvec to cuda: 453.25824 MB\n",
      "After forward to cuda: 4353.182208 MB\n",
      "After input to cuda: 452.718592 MB\n",
      "\bAfter single dvec to cuda: 418.4576 MB\n",
      "\bAfter single dvec to cuda: 427.163136 MB\n",
      "\bAfter single dvec to cuda: 433.96352 MB\n",
      "\bAfter single dvec to cuda: 436.42112 MB\n",
      "After dvec to cuda: 436.425216 MB\n",
      "After forward to cuda: 4335.949824 MB\n"
     ]
    },
    {
     "name": "stderr",
     "output_type": "stream",
     "text": [
      "2021-11-24 17:07:16,217 - INFO - Wrote summary at step 588\n"
     ]
    },
    {
     "name": "stdout",
     "output_type": "stream",
     "text": [
      "After input to cuda: 436.289024 MB\n",
      "\bAfter single dvec to cuda: 423.211008 MB\n",
      "\bAfter single dvec to cuda: 433.272832 MB\n",
      "\bAfter single dvec to cuda: 443.337216 MB\n",
      "\bAfter single dvec to cuda: 452.858368 MB\n",
      "After dvec to cuda: 452.862464 MB\n",
      "After forward to cuda: 4352.994304 MB\n",
      "After input to cuda: 452.862464 MB\n",
      "\bAfter single dvec to cuda: 421.165056 MB\n",
      "\bAfter single dvec to cuda: 431.39328 MB\n",
      "\bAfter single dvec to cuda: 440.912896 MB\n",
      "\bAfter single dvec to cuda: 451.245056 MB\n",
      "After dvec to cuda: 451.249152 MB\n",
      "After forward to cuda: 4351.657472 MB\n"
     ]
    },
    {
     "name": "stderr",
     "output_type": "stream",
     "text": [
      "2021-11-24 17:07:16,947 - INFO - Wrote summary at step 589\n"
     ]
    },
    {
     "name": "stdout",
     "output_type": "stream",
     "text": [
      "After input to cuda: 451.851264 MB\n",
      "\bAfter single dvec to cuda: 423.786496 MB\n",
      "\bAfter single dvec to cuda: 430.518784 MB\n",
      "\bAfter single dvec to cuda: 440.57856 MB\n",
      "\bAfter single dvec to cuda: 450.367488 MB\n",
      "After dvec to cuda: 450.371584 MB\n",
      "After forward to cuda: 4350.055424 MB\n",
      "After input to cuda: 450.530816 MB\n",
      "\bAfter single dvec to cuda: 423.867392 MB\n",
      "\bAfter single dvec to cuda: 425.509888 MB\n",
      "\bAfter single dvec to cuda: 434.754048 MB\n",
      "\bAfter single dvec to cuda: 443.726848 MB\n",
      "After dvec to cuda: 443.730944 MB\n",
      "After forward to cuda: 4343.317504 MB\n"
     ]
    },
    {
     "name": "stderr",
     "output_type": "stream",
     "text": [
      "2021-11-24 17:07:17,684 - INFO - Wrote summary at step 590\n"
     ]
    },
    {
     "name": "stdout",
     "output_type": "stream",
     "text": [
      "After input to cuda: 442.9696 MB\n",
      "\bAfter single dvec to cuda: 423.10912 MB\n",
      "\bAfter single dvec to cuda: 431.000064 MB\n",
      "\bAfter single dvec to cuda: 440.787456 MB\n",
      "\bAfter single dvec to cuda: 446.505472 MB\n",
      "After dvec to cuda: 446.509568 MB\n",
      "After forward to cuda: 4347.308544 MB\n",
      "After input to cuda: 446.509568 MB\n",
      "\bAfter single dvec to cuda: 423.157248 MB\n",
      "\bAfter single dvec to cuda: 432.400896 MB\n",
      "\bAfter single dvec to cuda: 442.734592 MB\n",
      "\bAfter single dvec to cuda: 452.525056 MB\n",
      "After dvec to cuda: 452.529152 MB\n",
      "After forward to cuda: 4352.05376 MB\n"
     ]
    },
    {
     "name": "stderr",
     "output_type": "stream",
     "text": [
      "2021-11-24 17:09:15,963 - INFO - Wrote summary at step 757\n"
     ]
    },
    {
     "name": "stdout",
     "output_type": "stream",
     "text": [
      "After input to cuda: 452.546048 MB\n",
      "\bAfter single dvec to cuda: 421.27104 MB\n",
      "\bAfter single dvec to cuda: 431.063552 MB\n",
      "\bAfter single dvec to cuda: 436.775936 MB\n",
      "\bAfter single dvec to cuda: 439.673856 MB\n",
      "After dvec to cuda: 439.677952 MB\n",
      "After forward to cuda: 4338.871808 MB\n",
      "After input to cuda: 438.99392 MB\n",
      "\bAfter single dvec to cuda: 423.573504 MB\n",
      "\bAfter single dvec to cuda: 433.091072 MB\n",
      "\bAfter single dvec to cuda: 442.337792 MB\n",
      "\bAfter single dvec to cuda: 451.853312 MB\n",
      "After dvec to cuda: 451.857408 MB\n",
      "After forward to cuda: 4351.7824 MB\n"
     ]
    },
    {
     "name": "stderr",
     "output_type": "stream",
     "text": [
      "2021-11-24 17:09:16,668 - INFO - Wrote summary at step 758\n"
     ]
    },
    {
     "name": "stdout",
     "output_type": "stream",
     "text": [
      "After input to cuda: 451.54816 MB\n",
      "\bAfter single dvec to cuda: 423.755776 MB\n",
      "\bAfter single dvec to cuda: 430.017536 MB\n",
      "\bAfter single dvec to cuda: 431.494656 MB\n",
      "\bAfter single dvec to cuda: 440.469504 MB\n",
      "After dvec to cuda: 440.4736 MB\n",
      "After forward to cuda: 4340.6208 MB\n",
      "After input to cuda: 439.876608 MB\n",
      "\bAfter single dvec to cuda: 423.212544 MB\n",
      "\bAfter single dvec to cuda: 430.011904 MB\n",
      "\bAfter single dvec to cuda: 440.07424 MB\n",
      "\bAfter single dvec to cuda: 442.528256 MB\n",
      "After dvec to cuda: 442.532352 MB\n",
      "After forward to cuda: 4342.05696 MB\n"
     ]
    },
    {
     "name": "stderr",
     "output_type": "stream",
     "text": [
      "2021-11-24 17:09:17,374 - INFO - Wrote summary at step 759\n"
     ]
    },
    {
     "name": "stdout",
     "output_type": "stream",
     "text": [
      "After input to cuda: 442.532352 MB\n",
      "\bAfter single dvec to cuda: 423.157248 MB\n",
      "\bAfter single dvec to cuda: 433.759744 MB\n",
      "\bAfter single dvec to cuda: 443.547648 MB\n",
      "\bAfter single dvec to cuda: 451.981312 MB\n",
      "After dvec to cuda: 451.985408 MB\n",
      "After forward to cuda: 4352.393728 MB\n",
      "After input to cuda: 452.3008 MB\n",
      "\bAfter single dvec to cuda: 422.168064 MB\n",
      "\bAfter single dvec to cuda: 431.413248 MB\n",
      "\bAfter single dvec to cuda: 440.932352 MB\n",
      "\bAfter single dvec to cuda: 450.724352 MB\n",
      "After dvec to cuda: 450.728448 MB\n",
      "After forward to cuda: 4350.26944 MB\n"
     ]
    },
    {
     "name": "stderr",
     "output_type": "stream",
     "text": [
      "2021-11-24 17:09:18,084 - INFO - Wrote summary at step 760\n"
     ]
    },
    {
     "name": "stdout",
     "output_type": "stream",
     "text": [
      "After input to cuda: 450.773504 MB\n",
      "\bAfter single dvec to cuda: 417.868288 MB\n",
      "\bAfter single dvec to cuda: 428.173824 MB\n",
      "\bAfter single dvec to cuda: 437.417984 MB\n",
      "\bAfter single dvec to cuda: 445.307904 MB\n",
      "After dvec to cuda: 445.312 MB\n",
      "After forward to cuda: 4345.844224 MB\n",
      "After input to cuda: 445.50144 MB\n",
      "\bAfter single dvec to cuda: 423.706112 MB\n",
      "\bAfter single dvec to cuda: 432.95488 MB\n",
      "\bAfter single dvec to cuda: 442.47552 MB\n",
      "\bAfter single dvec to cuda: 449.82272 MB\n",
      "After dvec to cuda: 449.826816 MB\n",
      "After forward to cuda: 4349.866496 MB\n"
     ]
    },
    {
     "name": "stderr",
     "output_type": "stream",
     "text": [
      "2021-11-24 17:09:18,799 - INFO - Wrote summary at step 761\n"
     ]
    },
    {
     "name": "stdout",
     "output_type": "stream",
     "text": [
      "After input to cuda: 449.276928 MB\n",
      "\bAfter single dvec to cuda: 421.579264 MB\n",
      "\bAfter single dvec to cuda: 429.196288 MB\n",
      "\bAfter single dvec to cuda: 438.439936 MB\n",
      "\bAfter single dvec to cuda: 447.415296 MB\n",
      "After dvec to cuda: 447.419392 MB\n",
      "After forward to cuda: 4346.944 MB\n",
      "After input to cuda: 447.419392 MB\n",
      "\bAfter single dvec to cuda: 423.105024 MB\n",
      "\bAfter single dvec to cuda: 433.163776 MB\n",
      "\bAfter single dvec to cuda: 443.22816 MB\n",
      "\bAfter single dvec to cuda: 447.58784 MB\n",
      "After dvec to cuda: 447.591936 MB\n",
      "After forward to cuda: 4347.447296 MB\n"
     ]
    },
    {
     "name": "stderr",
     "output_type": "stream",
     "text": [
      "2021-11-24 17:09:19,513 - INFO - Wrote summary at step 762\n"
     ]
    },
    {
     "name": "stdout",
     "output_type": "stream",
     "text": [
      "After input to cuda: 447.591936 MB\n",
      "\bAfter single dvec to cuda: 417.511424 MB\n",
      "\bAfter single dvec to cuda: 426.488832 MB\n",
      "\bAfter single dvec to cuda: 430.029824 MB\n",
      "\bAfter single dvec to cuda: 440.362496 MB\n",
      "After dvec to cuda: 440.366592 MB\n",
      "After forward to cuda: 4340.849664 MB\n",
      "After input to cuda: 440.376832 MB\n",
      "\bAfter single dvec to cuda: 423.141888 MB\n",
      "\bAfter single dvec to cuda: 432.659968 MB\n",
      "\bAfter single dvec to cuda: 440.878592 MB\n",
      "\bAfter single dvec to cuda: 450.398208 MB\n",
      "After dvec to cuda: 450.402304 MB\n",
      "After forward to cuda: 4350.30784 MB\n"
     ]
    },
    {
     "name": "stderr",
     "output_type": "stream",
     "text": [
      "2021-11-24 17:09:20,220 - INFO - Wrote summary at step 763\n"
     ]
    },
    {
     "name": "stdout",
     "output_type": "stream",
     "text": [
      "After input to cuda: 450.707456 MB\n",
      "\bAfter single dvec to cuda: 422.166528 MB\n",
      "\bAfter single dvec to cuda: 429.131264 MB\n",
      "\bAfter single dvec to cuda: 439.191552 MB\n",
      "\bAfter single dvec to cuda: 446.537728 MB\n",
      "After dvec to cuda: 446.541824 MB\n",
      "After forward to cuda: 4346.522624 MB\n",
      "After input to cuda: 446.987776 MB\n",
      "\bAfter single dvec to cuda: 424.245248 MB\n",
      "\bAfter single dvec to cuda: 431.045632 MB\n",
      "\bAfter single dvec to cuda: 439.747072 MB\n",
      "\bAfter single dvec to cuda: 450.079232 MB\n",
      "After dvec to cuda: 450.083328 MB\n",
      "After forward to cuda: 4349.420032 MB\n"
     ]
    },
    {
     "name": "stderr",
     "output_type": "stream",
     "text": [
      "2021-11-24 17:09:20,926 - INFO - Wrote summary at step 764\n"
     ]
    },
    {
     "name": "stdout",
     "output_type": "stream",
     "text": [
      "After input to cuda: 449.321984 MB\n",
      "\bAfter single dvec to cuda: 417.504768 MB\n",
      "\bAfter single dvec to cuda: 426.47808 MB\n",
      "\bAfter single dvec to cuda: 435.451904 MB\n",
      "\bAfter single dvec to cuda: 444.696576 MB\n",
      "After dvec to cuda: 444.700672 MB\n",
      "After forward to cuda: 4344.855552 MB\n",
      "After input to cuda: 444.700672 MB\n",
      "\bAfter single dvec to cuda: 421.85472 MB\n",
      "\bAfter single dvec to cuda: 426.756608 MB\n",
      "\bAfter single dvec to cuda: 435.185664 MB\n",
      "\bAfter single dvec to cuda: 445.491712 MB\n",
      "After dvec to cuda: 445.495808 MB\n",
      "After forward to cuda: 4345.96864 MB\n"
     ]
    },
    {
     "name": "stderr",
     "output_type": "stream",
     "text": [
      "2021-11-24 17:09:21,632 - INFO - Wrote summary at step 765\n"
     ]
    },
    {
     "name": "stdout",
     "output_type": "stream",
     "text": [
      "After input to cuda: 446.257152 MB\n",
      "\bAfter single dvec to cuda: 418.537984 MB\n",
      "\bAfter single dvec to cuda: 428.425728 MB\n",
      "\bAfter single dvec to cuda: 438.656 MB\n",
      "\bAfter single dvec to cuda: 447.903744 MB\n",
      "After dvec to cuda: 447.90784 MB\n",
      "After forward to cuda: 4347.6864 MB\n",
      "After input to cuda: 447.400448 MB\n",
      "\bAfter single dvec to cuda: 423.410688 MB\n",
      "\bAfter single dvec to cuda: 431.299584 MB\n",
      "\bAfter single dvec to cuda: 441.357824 MB\n",
      "\bAfter single dvec to cuda: 451.69152 MB\n",
      "After dvec to cuda: 451.695616 MB\n",
      "After forward to cuda: 4351.563264 MB\n"
     ]
    },
    {
     "name": "stderr",
     "output_type": "stream",
     "text": [
      "2021-11-24 17:09:22,339 - INFO - Wrote summary at step 766\n"
     ]
    },
    {
     "name": "stdout",
     "output_type": "stream",
     "text": [
      "After input to cuda: 451.465216 MB\n",
      "\bAfter single dvec to cuda: 423.158272 MB\n",
      "\bAfter single dvec to cuda: 433.22112 MB\n",
      "\bAfter single dvec to cuda: 435.132416 MB\n",
      "\bAfter single dvec to cuda: 446.00832 MB\n",
      "After dvec to cuda: 446.012416 MB\n",
      "After forward to cuda: 4347.178496 MB\n",
      "After input to cuda: 447.112704 MB\n",
      "\bAfter single dvec to cuda: 424.336384 MB\n",
      "\bAfter single dvec to cuda: 426.792448 MB\n",
      "\bAfter single dvec to cuda: 435.764224 MB\n",
      "\bAfter single dvec to cuda: 446.647296 MB\n",
      "After dvec to cuda: 446.651392 MB\n",
      "After forward to cuda: 4346.176 MB\n"
     ]
    },
    {
     "name": "stderr",
     "output_type": "stream",
     "text": [
      "2021-11-24 17:09:23,046 - INFO - Wrote summary at step 767\n"
     ]
    },
    {
     "name": "stdout",
     "output_type": "stream",
     "text": [
      "After input to cuda: 446.124544 MB\n",
      "\bAfter single dvec to cuda: 423.758336 MB\n",
      "\bAfter single dvec to cuda: 433.548288 MB\n",
      "\bAfter single dvec to cuda: 441.767936 MB\n",
      "\bAfter single dvec to cuda: 450.2016 MB\n",
      "After dvec to cuda: 450.205696 MB\n",
      "After forward to cuda: 4350.27712 MB\n",
      "After input to cuda: 450.781184 MB\n",
      "\bAfter single dvec to cuda: 415.963648 MB\n",
      "\bAfter single dvec to cuda: 418.691584 MB\n",
      "\bAfter single dvec to cuda: 427.395072 MB\n",
      "\bAfter single dvec to cuda: 437.724672 MB\n",
      "After dvec to cuda: 437.728768 MB\n",
      "After forward to cuda: 4337.693184 MB\n"
     ]
    },
    {
     "name": "stderr",
     "output_type": "stream",
     "text": [
      "2021-11-24 17:09:23,750 - INFO - Wrote summary at step 768\n"
     ]
    },
    {
     "name": "stdout",
     "output_type": "stream",
     "text": [
      "After input to cuda: 436.556288 MB\n",
      "\bAfter single dvec to cuda: 421.852672 MB\n",
      "\bAfter single dvec to cuda: 432.18432 MB\n",
      "\bAfter single dvec to cuda: 442.515968 MB\n",
      "\bAfter single dvec to cuda: 452.84864 MB\n",
      "After dvec to cuda: 452.852736 MB\n",
      "After forward to cuda: 4352.984576 MB\n",
      "After input to cuda: 452.852736 MB\n",
      "\bAfter single dvec to cuda: 423.478784 MB\n",
      "\bAfter single dvec to cuda: 429.873664 MB\n",
      "\bAfter single dvec to cuda: 440.206336 MB\n",
      "\bAfter single dvec to cuda: 450.464256 MB\n",
      "After dvec to cuda: 450.468352 MB\n",
      "After forward to cuda: 4349.99296 MB\n"
     ]
    },
    {
     "name": "stderr",
     "output_type": "stream",
     "text": [
      "2021-11-24 17:09:24,458 - INFO - Wrote summary at step 769\n"
     ]
    },
    {
     "name": "stdout",
     "output_type": "stream",
     "text": [
      "After input to cuda: 450.468352 MB\n",
      "\bAfter single dvec to cuda: 415.878656 MB\n",
      "\bAfter single dvec to cuda: 424.312832 MB\n",
      "\bAfter single dvec to cuda: 427.77088 MB\n",
      "\bAfter single dvec to cuda: 438.106112 MB\n",
      "After dvec to cuda: 438.110208 MB\n",
      "After forward to cuda: 4339.15136 MB\n",
      "After input to cuda: 438.7072 MB\n",
      "\bAfter single dvec to cuda: 423.411712 MB\n",
      "\bAfter single dvec to cuda: 433.721344 MB\n",
      "\bAfter single dvec to cuda: 443.239424 MB\n",
      "\bAfter single dvec to cuda: 453.029888 MB\n",
      "After dvec to cuda: 453.033984 MB\n",
      "After forward to cuda: 4351.990272 MB\n"
     ]
    },
    {
     "name": "stderr",
     "output_type": "stream",
     "text": [
      "2021-11-24 17:09:25,165 - INFO - Wrote summary at step 770\n"
     ]
    },
    {
     "name": "stdout",
     "output_type": "stream",
     "text": [
      "After input to cuda: 452.436992 MB\n",
      "\bAfter single dvec to cuda: 419.952128 MB\n",
      "\bAfter single dvec to cuda: 428.924416 MB\n",
      "\bAfter single dvec to cuda: 432.792064 MB\n",
      "\bAfter single dvec to cuda: 443.122688 MB\n",
      "After dvec to cuda: 443.126784 MB\n",
      "After forward to cuda: 4345.3952 MB\n",
      "After input to cuda: 443.893248 MB\n",
      "\bAfter single dvec to cuda: 415.83104 MB\n",
      "\bAfter single dvec to cuda: 426.1632 MB\n",
      "\bAfter single dvec to cuda: 429.435392 MB\n",
      "\bAfter single dvec to cuda: 435.96288 MB\n",
      "After dvec to cuda: 435.966976 MB\n",
      "After forward to cuda: 4335.673344 MB\n"
     ]
    },
    {
     "name": "stderr",
     "output_type": "stream",
     "text": [
      "2021-11-24 17:09:25,870 - INFO - Wrote summary at step 771\n"
     ]
    },
    {
     "name": "stdout",
     "output_type": "stream",
     "text": [
      "After input to cuda: 435.200512 MB\n",
      "\bAfter single dvec to cuda: 423.20896 MB\n",
      "\bAfter single dvec to cuda: 433.271808 MB\n",
      "\bAfter single dvec to cuda: 443.603968 MB\n",
      "\bAfter single dvec to cuda: 453.66272 MB\n",
      "After dvec to cuda: 453.666816 MB\n",
      "After forward to cuda: 4353.759744 MB\n",
      "After input to cuda: 453.666816 MB\n",
      "\bAfter single dvec to cuda: 423.157248 MB\n",
      "\bAfter single dvec to cuda: 433.215488 MB\n",
      "\bAfter single dvec to cuda: 434.859008 MB\n",
      "\bAfter single dvec to cuda: 444.921344 MB\n",
      "After dvec to cuda: 444.92544 MB\n",
      "After forward to cuda: 4345.046016 MB\n"
     ]
    },
    {
     "name": "stderr",
     "output_type": "stream",
     "text": [
      "2021-11-24 17:09:26,579 - INFO - Wrote summary at step 772\n"
     ]
    },
    {
     "name": "stdout",
     "output_type": "stream",
     "text": [
      "After input to cuda: 445.234688 MB\n",
      "\bAfter single dvec to cuda: 423.51616 MB\n",
      "\bAfter single dvec to cuda: 433.576448 MB\n",
      "\bAfter single dvec to cuda: 443.908608 MB\n",
      "\bAfter single dvec to cuda: 446.90944 MB\n",
      "After dvec to cuda: 446.913536 MB\n",
      "After forward to cuda: 4346.128896 MB\n",
      "After input to cuda: 446.604288 MB\n",
      "\bAfter single dvec to cuda: 419.89376 MB\n",
      "\bAfter single dvec to cuda: 425.609216 MB\n",
      "\bAfter single dvec to cuda: 435.543552 MB\n",
      "\bAfter single dvec to cuda: 445.605376 MB\n",
      "After dvec to cuda: 445.609472 MB\n",
      "After forward to cuda: 4345.274368 MB\n"
     ]
    },
    {
     "name": "stderr",
     "output_type": "stream",
     "text": [
      "2021-11-24 17:09:27,284 - INFO - Wrote summary at step 773\n"
     ]
    },
    {
     "name": "stdout",
     "output_type": "stream",
     "text": [
      "After input to cuda: 445.609472 MB\n",
      "\bAfter single dvec to cuda: 422.941184 MB\n",
      "\bAfter single dvec to cuda: 432.004608 MB\n",
      "\bAfter single dvec to cuda: 442.33984 MB\n",
      "\bAfter single dvec to cuda: 452.228096 MB\n",
      "After dvec to cuda: 452.232192 MB\n",
      "After forward to cuda: 4352.32512 MB\n",
      "After input to cuda: 452.752384 MB\n",
      "\bAfter single dvec to cuda: 416.585728 MB\n",
      "\bAfter single dvec to cuda: 425.6512 MB\n",
      "\bAfter single dvec to cuda: 435.608576 MB\n",
      "\bAfter single dvec to cuda: 445.912576 MB\n",
      "After dvec to cuda: 445.916672 MB\n",
      "After forward to cuda: 4344.87296 MB\n"
     ]
    },
    {
     "name": "stderr",
     "output_type": "stream",
     "text": [
      "2021-11-24 17:09:27,991 - INFO - Wrote summary at step 774\n"
     ]
    },
    {
     "name": "stdout",
     "output_type": "stream",
     "text": [
      "After input to cuda: 445.635072 MB\n",
      "\bAfter single dvec to cuda: 423.176704 MB\n",
      "\bAfter single dvec to cuda: 431.06304 MB\n",
      "\bAfter single dvec to cuda: 441.3184 MB\n",
      "\bAfter single dvec to cuda: 451.379712 MB\n",
      "After dvec to cuda: 451.383808 MB\n",
      "After forward to cuda: 4350.956544 MB\n",
      "After input to cuda: 451.145216 MB\n",
      "\bAfter single dvec to cuda: 423.480832 MB\n",
      "\bAfter single dvec to cuda: 433.516544 MB\n",
      "\bAfter single dvec to cuda: 442.605056 MB\n",
      "\bAfter single dvec to cuda: 452.859392 MB\n",
      "After dvec to cuda: 452.863488 MB\n",
      "After forward to cuda: 4352.984064 MB\n"
     ]
    },
    {
     "name": "stderr",
     "output_type": "stream",
     "text": [
      "2021-11-24 17:09:28,698 - INFO - Wrote summary at step 775\n"
     ]
    },
    {
     "name": "stdout",
     "output_type": "stream",
     "text": [
      "After input to cuda: 453.184 MB\n",
      "\bAfter single dvec to cuda: 423.260672 MB\n",
      "\bAfter single dvec to cuda: 430.253056 MB\n",
      "\bAfter single dvec to cuda: 440.58624 MB\n",
      "\bAfter single dvec to cuda: 450.64704 MB\n",
      "After dvec to cuda: 450.651136 MB\n",
      "After forward to cuda: 4350.264832 MB\n",
      "After input to cuda: 450.330624 MB\n",
      "\bAfter single dvec to cuda: 421.037568 MB\n",
      "\bAfter single dvec to cuda: 430.014976 MB\n",
      "\bAfter single dvec to cuda: 439.535104 MB\n",
      "\bAfter single dvec to cuda: 449.86624 MB\n",
      "After dvec to cuda: 449.870336 MB\n",
      "After forward to cuda: 4349.985792 MB\n"
     ]
    },
    {
     "name": "stderr",
     "output_type": "stream",
     "text": [
      "2021-11-24 17:09:29,407 - INFO - Wrote summary at step 776\n"
     ]
    },
    {
     "name": "stdout",
     "output_type": "stream",
     "text": [
      "After input to cuda: 450.190848 MB\n",
      "\bAfter single dvec to cuda: 423.428608 MB\n",
      "\bAfter single dvec to cuda: 431.315456 MB\n",
      "\bAfter single dvec to cuda: 442.464768 MB\n",
      "\bAfter single dvec to cuda: 450.07872 MB\n",
      "After dvec to cuda: 450.082816 MB\n",
      "After forward to cuda: 4349.69344 MB\n",
      "After input to cuda: 450.197504 MB\n",
      "\bAfter single dvec to cuda: 424.187904 MB\n",
      "\bAfter single dvec to cuda: 432.888832 MB\n",
      "\bAfter single dvec to cuda: 435.073024 MB\n",
      "\bAfter single dvec to cuda: 443.130368 MB\n",
      "After dvec to cuda: 443.134464 MB\n",
      "After forward to cuda: 4342.33856 MB\n"
     ]
    },
    {
     "name": "stderr",
     "output_type": "stream",
     "text": [
      "2021-11-24 17:09:30,113 - INFO - Wrote summary at step 777\n"
     ]
    },
    {
     "name": "stdout",
     "output_type": "stream",
     "text": [
      "After input to cuda: 442.813952 MB\n",
      "\bAfter single dvec to cuda: 423.30112 MB\n",
      "\bAfter single dvec to cuda: 427.65568 MB\n",
      "\bAfter single dvec to cuda: 436.902912 MB\n",
      "\bAfter single dvec to cuda: 439.29088 MB\n",
      "After dvec to cuda: 439.294976 MB\n",
      "After forward to cuda: 4338.819584 MB\n",
      "After input to cuda: 439.180288 MB\n",
      "\bAfter single dvec to cuda: 421.579264 MB\n",
      "\bAfter single dvec to cuda: 430.282752 MB\n",
      "\bAfter single dvec to cuda: 438.172672 MB\n",
      "\bAfter single dvec to cuda: 448.231936 MB\n",
      "After dvec to cuda: 448.236032 MB\n",
      "After forward to cuda: 4348.468736 MB\n"
     ]
    },
    {
     "name": "stderr",
     "output_type": "stream",
     "text": [
      "2021-11-24 17:09:30,819 - INFO - Wrote summary at step 778\n"
     ]
    },
    {
     "name": "stdout",
     "output_type": "stream",
     "text": [
      "After input to cuda: 448.236032 MB\n",
      "\bAfter single dvec to cuda: 421.03808 MB\n",
      "\bAfter single dvec to cuda: 431.320064 MB\n",
      "\bAfter single dvec to cuda: 441.651712 MB\n",
      "\bAfter single dvec to cuda: 449.270784 MB\n",
      "After dvec to cuda: 449.27488 MB\n",
      "After forward to cuda: 4349.372928 MB\n",
      "After input to cuda: 449.27488 MB\n",
      "\bAfter single dvec to cuda: 423.18592 MB\n",
      "\bAfter single dvec to cuda: 433.046016 MB\n",
      "\bAfter single dvec to cuda: 442.833408 MB\n",
      "\bAfter single dvec to cuda: 451.80928 MB\n",
      "After dvec to cuda: 451.813376 MB\n",
      "After forward to cuda: 4351.337984 MB\n"
     ]
    },
    {
     "name": "stderr",
     "output_type": "stream",
     "text": [
      "2021-11-24 17:09:31,527 - INFO - Wrote summary at step 779\n"
     ]
    },
    {
     "name": "stdout",
     "output_type": "stream",
     "text": [
      "After input to cuda: 451.813376 MB\n",
      "\bAfter single dvec to cuda: 423.181824 MB\n",
      "\bAfter single dvec to cuda: 431.422976 MB\n",
      "\bAfter single dvec to cuda: 440.943616 MB\n",
      "\bAfter single dvec to cuda: 446.656 MB\n",
      "After dvec to cuda: 446.660096 MB\n",
      "After forward to cuda: 4346.184704 MB\n",
      "After input to cuda: 446.660096 MB\n",
      "\bAfter single dvec to cuda: 423.181312 MB\n",
      "\bAfter single dvec to cuda: 432.971264 MB\n",
      "\bAfter single dvec to cuda: 439.962112 MB\n",
      "\bAfter single dvec to cuda: 445.408256 MB\n",
      "After dvec to cuda: 445.412352 MB\n",
      "After forward to cuda: 4345.74592 MB\n"
     ]
    },
    {
     "name": "stderr",
     "output_type": "stream",
     "text": [
      "2021-11-24 17:09:32,234 - INFO - Wrote summary at step 780\n"
     ]
    },
    {
     "name": "stdout",
     "output_type": "stream",
     "text": [
      "After input to cuda: 445.811712 MB\n",
      "\bAfter single dvec to cuda: 422.960128 MB\n",
      "\bAfter single dvec to cuda: 427.863552 MB\n",
      "\bAfter single dvec to cuda: 436.293632 MB\n",
      "\bAfter single dvec to cuda: 439.291392 MB\n",
      "After dvec to cuda: 439.295488 MB\n",
      "After forward to cuda: 4338.420736 MB\n",
      "After input to cuda: 439.295488 MB\n",
      "\bAfter single dvec to cuda: 421.706752 MB\n",
      "\bAfter single dvec to cuda: 428.725248 MB\n",
      "\bAfter single dvec to cuda: 437.157888 MB\n",
      "\bAfter single dvec to cuda: 446.9504 MB\n",
      "After dvec to cuda: 446.954496 MB\n",
      "After forward to cuda: 4347.3024 MB\n"
     ]
    },
    {
     "name": "stderr",
     "output_type": "stream",
     "text": [
      "2021-11-24 17:09:32,938 - INFO - Wrote summary at step 781\n"
     ]
    },
    {
     "name": "stdout",
     "output_type": "stream",
     "text": [
      "After input to cuda: 447.407104 MB\n",
      "\bAfter single dvec to cuda: 424.012288 MB\n",
      "\bAfter single dvec to cuda: 426.564608 MB\n",
      "\bAfter single dvec to cuda: 429.833216 MB\n",
      "\bAfter single dvec to cuda: 438.534656 MB\n",
      "After dvec to cuda: 438.538752 MB\n",
      "After forward to cuda: 4338.59584 MB\n",
      "After input to cuda: 438.229504 MB\n",
      "\bAfter single dvec to cuda: 423.671808 MB\n",
      "\bAfter single dvec to cuda: 432.101888 MB\n",
      "\bAfter single dvec to cuda: 437.2736 MB\n",
      "\bAfter single dvec to cuda: 442.442752 MB\n",
      "After dvec to cuda: 442.446848 MB\n",
      "After forward to cuda: 4341.997056 MB\n"
     ]
    },
    {
     "name": "stderr",
     "output_type": "stream",
     "text": [
      "2021-11-24 17:09:33,642 - INFO - Wrote summary at step 782\n"
     ]
    },
    {
     "name": "stdout",
     "output_type": "stream",
     "text": [
      "After input to cuda: 441.904128 MB\n",
      "\bAfter single dvec to cuda: 421.57824 MB\n",
      "\bAfter single dvec to cuda: 431.36512 MB\n",
      "\bAfter single dvec to cuda: 440.070144 MB\n",
      "\bAfter single dvec to cuda: 449.047552 MB\n",
      "After dvec to cuda: 449.051648 MB\n",
      "After forward to cuda: 4350.066176 MB\n",
      "After input to cuda: 450.254848 MB\n",
      "\bAfter single dvec to cuda: 424.413696 MB\n",
      "\bAfter single dvec to cuda: 433.11616 MB\n",
      "\bAfter single dvec to cuda: 435.3024 MB\n",
      "\bAfter single dvec to cuda: 444.008448 MB\n",
      "After dvec to cuda: 444.012544 MB\n",
      "After forward to cuda: 4343.365632 MB\n"
     ]
    },
    {
     "name": "stderr",
     "output_type": "stream",
     "text": [
      "2021-11-24 17:09:34,347 - INFO - Wrote summary at step 783\n"
     ]
    },
    {
     "name": "stdout",
     "output_type": "stream",
     "text": [
      "After input to cuda: 443.726848 MB\n",
      "\bAfter single dvec to cuda: 421.142528 MB\n",
      "\bAfter single dvec to cuda: 426.315264 MB\n",
      "\bAfter single dvec to cuda: 436.644864 MB\n",
      "\bAfter single dvec to cuda: 445.076992 MB\n",
      "After dvec to cuda: 445.081088 MB\n",
      "After forward to cuda: 4344.671232 MB\n",
      "After input to cuda: 444.578304 MB\n",
      "\bAfter single dvec to cuda: 423.598592 MB\n",
      "\bAfter single dvec to cuda: 432.029184 MB\n",
      "\bAfter single dvec to cuda: 442.36288 MB\n",
      "\bAfter single dvec to cuda: 449.981952 MB\n",
      "After dvec to cuda: 449.986048 MB\n",
      "After forward to cuda: 4349.73184 MB\n"
     ]
    },
    {
     "name": "stderr",
     "output_type": "stream",
     "text": [
      "2021-11-24 17:09:35,062 - INFO - Wrote summary at step 784\n"
     ]
    },
    {
     "name": "stdout",
     "output_type": "stream",
     "text": [
      "After input to cuda: 449.571328 MB\n",
      "\bAfter single dvec to cuda: 419.894272 MB\n",
      "\bAfter single dvec to cuda: 428.327424 MB\n",
      "\bAfter single dvec to cuda: 436.756992 MB\n",
      "\bAfter single dvec to cuda: 444.646912 MB\n",
      "After dvec to cuda: 444.651008 MB\n",
      "After forward to cuda: 4344.457216 MB\n",
      "After input to cuda: 444.651008 MB\n",
      "\bAfter single dvec to cuda: 417.710592 MB\n",
      "\bAfter single dvec to cuda: 425.057792 MB\n",
      "\bAfter single dvec to cuda: 433.76384 MB\n",
      "\bAfter single dvec to cuda: 442.467328 MB\n",
      "After dvec to cuda: 442.471424 MB\n",
      "After forward to cuda: 4342.564352 MB\n"
     ]
    },
    {
     "name": "stderr",
     "output_type": "stream",
     "text": [
      "2021-11-24 17:09:35,766 - INFO - Wrote summary at step 785\n"
     ]
    },
    {
     "name": "stdout",
     "output_type": "stream",
     "text": [
      "After input to cuda: 443.068416 MB\n",
      "\bAfter single dvec to cuda: 423.807488 MB\n",
      "\bAfter single dvec to cuda: 431.694336 MB\n",
      "\bAfter single dvec to cuda: 440.398336 MB\n",
      "\bAfter single dvec to cuda: 441.494016 MB\n",
      "After dvec to cuda: 441.498112 MB\n",
      "After forward to cuda: 4342.150144 MB\n",
      "After input to cuda: 441.662464 MB\n",
      "\bAfter single dvec to cuda: 422.610944 MB\n",
      "\bAfter single dvec to cuda: 431.31392 MB\n",
      "\bAfter single dvec to cuda: 438.022656 MB\n",
      "\bAfter single dvec to cuda: 447.5392 MB\n",
      "After dvec to cuda: 447.543296 MB\n",
      "After forward to cuda: 4348.849152 MB\n"
     ]
    },
    {
     "name": "stderr",
     "output_type": "stream",
     "text": [
      "2021-11-24 17:09:36,472 - INFO - Wrote summary at step 786\n"
     ]
    },
    {
     "name": "stdout",
     "output_type": "stream",
     "text": [
      "After input to cuda: 447.739904 MB\n",
      "\bAfter single dvec to cuda: 420.486656 MB\n",
      "\bAfter single dvec to cuda: 430.769152 MB\n",
      "\bAfter single dvec to cuda: 436.212224 MB\n",
      "\bAfter single dvec to cuda: 445.731328 MB\n",
      "After dvec to cuda: 445.735424 MB\n",
      "After forward to cuda: 4345.034752 MB\n",
      "After input to cuda: 445.510144 MB\n",
      "\bAfter single dvec to cuda: 421.49632 MB\n",
      "\bAfter single dvec to cuda: 429.38112 MB\n",
      "\bAfter single dvec to cuda: 440.254976 MB\n",
      "\bAfter single dvec to cuda: 447.326208 MB\n",
      "After dvec to cuda: 447.330304 MB\n",
      "After forward to cuda: 4348.547072 MB\n"
     ]
    },
    {
     "name": "stderr",
     "output_type": "stream",
     "text": [
      "2021-11-24 17:09:37,180 - INFO - Wrote summary at step 787\n"
     ]
    },
    {
     "name": "stdout",
     "output_type": "stream",
     "text": [
      "After input to cuda: 447.194624 MB\n",
      "\bAfter single dvec to cuda: 415.657984 MB\n",
      "\bAfter single dvec to cuda: 424.359424 MB\n",
      "\bAfter single dvec to cuda: 432.492032 MB\n",
      "\bAfter single dvec to cuda: 442.82624 MB\n",
      "After dvec to cuda: 442.830336 MB\n",
      "After forward to cuda: 4342.354944 MB\n",
      "After input to cuda: 442.830336 MB\n",
      "\bAfter single dvec to cuda: 417.83296 MB\n",
      "\bAfter single dvec to cuda: 428.087808 MB\n",
      "\bAfter single dvec to cuda: 437.33504 MB\n",
      "\bAfter single dvec to cuda: 439.2448 MB\n",
      "After dvec to cuda: 439.248896 MB\n",
      "After forward to cuda: 4338.595328 MB\n"
     ]
    },
    {
     "name": "stderr",
     "output_type": "stream",
     "text": [
      "2021-11-24 17:09:37,883 - INFO - Wrote summary at step 788\n"
     ]
    },
    {
     "name": "stdout",
     "output_type": "stream",
     "text": [
      "After input to cuda: 439.099392 MB\n",
      "\bAfter single dvec to cuda: 418.22464 MB\n",
      "\bAfter single dvec to cuda: 428.480512 MB\n",
      "\bAfter single dvec to cuda: 436.771328 MB\n",
      "\bAfter single dvec to cuda: 440.585216 MB\n",
      "After dvec to cuda: 440.589312 MB\n",
      "After forward to cuda: 4340.11392 MB\n",
      "After input to cuda: 440.141824 MB\n",
      "\bAfter single dvec to cuda: 423.109632 MB\n",
      "\bAfter single dvec to cuda: 432.00512 MB\n",
      "\bAfter single dvec to cuda: 441.525248 MB\n",
      "\bAfter single dvec to cuda: 448.51712 MB\n",
      "After dvec to cuda: 448.521216 MB\n",
      "After forward to cuda: 4348.045824 MB\n"
     ]
    },
    {
     "name": "stderr",
     "output_type": "stream",
     "text": [
      "2021-11-24 17:09:38,588 - INFO - Wrote summary at step 789\n"
     ]
    },
    {
     "name": "stdout",
     "output_type": "stream",
     "text": [
      "After input to cuda: 448.521216 MB\n",
      "\bAfter single dvec to cuda: 414.352896 MB\n",
      "\bAfter single dvec to cuda: 417.626624 MB\n",
      "\bAfter single dvec to cuda: 428.773888 MB\n",
      "\bAfter single dvec to cuda: 437.751296 MB\n",
      "After dvec to cuda: 437.755392 MB\n",
      "After forward to cuda: 4337.77152 MB\n",
      "After input to cuda: 437.755392 MB\n",
      "\bAfter single dvec to cuda: 423.105536 MB\n",
      "\bAfter single dvec to cuda: 432.625664 MB\n",
      "\bAfter single dvec to cuda: 442.258432 MB\n",
      "\bAfter single dvec to cuda: 449.276416 MB\n",
      "After dvec to cuda: 449.280512 MB\n",
      "After forward to cuda: 4349.942272 MB\n"
     ]
    },
    {
     "name": "stderr",
     "output_type": "stream",
     "text": [
      "2021-11-24 17:09:39,293 - INFO - Wrote summary at step 790\n"
     ]
    },
    {
     "name": "stdout",
     "output_type": "stream",
     "text": [
      "After input to cuda: 449.280512 MB\n",
      "\bAfter single dvec to cuda: 421.8496 MB\n",
      "\bAfter single dvec to cuda: 430.551552 MB\n",
      "\bAfter single dvec to cuda: 435.451392 MB\n",
      "\bAfter single dvec to cuda: 443.739648 MB\n",
      "After dvec to cuda: 443.743744 MB\n",
      "After forward to cuda: 4343.841792 MB\n",
      "After input to cuda: 443.666944 MB\n",
      "\bAfter single dvec to cuda: 423.029248 MB\n",
      "\bAfter single dvec to cuda: 431.655424 MB\n",
      "\bAfter single dvec to cuda: 441.985024 MB\n",
      "\bAfter single dvec to cuda: 452.320768 MB\n",
      "After dvec to cuda: 452.324864 MB\n",
      "After forward to cuda: 4353.273856 MB\n"
     ]
    },
    {
     "name": "stderr",
     "output_type": "stream",
     "text": [
      "2021-11-24 17:09:40,001 - INFO - Wrote summary at step 791\n"
     ]
    },
    {
     "name": "stdout",
     "output_type": "stream",
     "text": [
      "After input to cuda: 453.093888 MB\n",
      "\bAfter single dvec to cuda: 420.913664 MB\n",
      "\bAfter single dvec to cuda: 428.532224 MB\n",
      "\bAfter single dvec to cuda: 438.594048 MB\n",
      "\bAfter single dvec to cuda: 448.655872 MB\n",
      "After dvec to cuda: 448.659968 MB\n",
      "After forward to cuda: 4347.784192 MB\n",
      "After input to cuda: 448.288256 MB\n",
      "\bAfter single dvec to cuda: 420.268544 MB\n",
      "\bAfter single dvec to cuda: 423.515648 MB\n",
      "\bAfter single dvec to cuda: 431.404032 MB\n",
      "\bAfter single dvec to cuda: 439.29088 MB\n",
      "After dvec to cuda: 439.294976 MB\n",
      "After forward to cuda: 4339.246592 MB\n"
     ]
    },
    {
     "name": "stderr",
     "output_type": "stream",
     "text": [
      "2021-11-24 17:09:40,705 - INFO - Wrote summary at step 792\n"
     ]
    },
    {
     "name": "stdout",
     "output_type": "stream",
     "text": [
      "After input to cuda: 438.974464 MB\n",
      "\bAfter single dvec to cuda: 421.310976 MB\n",
      "\bAfter single dvec to cuda: 430.560256 MB\n",
      "\bAfter single dvec to cuda: 440.411648 MB\n",
      "\bAfter single dvec to cuda: 449.658368 MB\n",
      "After dvec to cuda: 449.662464 MB\n",
      "After forward to cuda: 4349.187072 MB\n",
      "After input to cuda: 449.662464 MB\n",
      "\bAfter single dvec to cuda: 421.851136 MB\n",
      "\bAfter single dvec to cuda: 425.120768 MB\n",
      "\bAfter single dvec to cuda: 428.878336 MB\n",
      "\bAfter single dvec to cuda: 430.244352 MB\n",
      "After dvec to cuda: 430.248448 MB\n",
      "After forward to cuda: 4329.773056 MB\n"
     ]
    },
    {
     "name": "stderr",
     "output_type": "stream",
     "text": [
      "2021-11-24 17:09:41,411 - INFO - Wrote summary at step 793\n"
     ]
    },
    {
     "name": "stdout",
     "output_type": "stream",
     "text": [
      "After input to cuda: 430.56384 MB\n",
      "\bAfter single dvec to cuda: 421.622272 MB\n",
      "\bAfter single dvec to cuda: 431.680512 MB\n",
      "\bAfter single dvec to cuda: 441.19808 MB\n",
      "\bAfter single dvec to cuda: 448.815616 MB\n",
      "After dvec to cuda: 448.819712 MB\n",
      "After forward to cuda: 4348.91776 MB\n",
      "After input to cuda: 449.260544 MB\n",
      "\bAfter single dvec to cuda: 423.942144 MB\n",
      "\bAfter single dvec to cuda: 432.102912 MB\n",
      "\bAfter single dvec to cuda: 442.1632 MB\n",
      "\bAfter single dvec to cuda: 451.139584 MB\n",
      "After dvec to cuda: 451.14368 MB\n",
      "After forward to cuda: 4352.098816 MB\n"
     ]
    },
    {
     "name": "stderr",
     "output_type": "stream",
     "text": [
      "2021-11-24 17:09:42,119 - INFO - Wrote summary at step 794\n"
     ]
    },
    {
     "name": "stdout",
     "output_type": "stream",
     "text": [
      "After input to cuda: 451.14368 MB\n",
      "\bAfter single dvec to cuda: 423.942656 MB\n",
      "\bAfter single dvec to cuda: 432.103424 MB\n",
      "\bAfter single dvec to cuda: 441.893888 MB\n",
      "\bAfter single dvec to cuda: 451.680768 MB\n",
      "After dvec to cuda: 451.684864 MB\n",
      "After forward to cuda: 4351.811584 MB\n",
      "After input to cuda: 451.530752 MB\n",
      "\bAfter single dvec to cuda: 416.590336 MB\n",
      "\bAfter single dvec to cuda: 419.591168 MB\n",
      "\bAfter single dvec to cuda: 428.294656 MB\n",
      "\bAfter single dvec to cuda: 437.27104 MB\n",
      "After dvec to cuda: 437.275136 MB\n",
      "After forward to cuda: 4336.67072 MB\n"
     ]
    },
    {
     "name": "stderr",
     "output_type": "stream",
     "text": [
      "2021-11-24 17:09:42,825 - INFO - Wrote summary at step 795\n"
     ]
    },
    {
     "name": "stdout",
     "output_type": "stream",
     "text": [
      "After input to cuda: 437.174784 MB\n",
      "\bAfter single dvec to cuda: 423.66208 MB\n",
      "\bAfter single dvec to cuda: 433.453568 MB\n",
      "\bAfter single dvec to cuda: 442.153984 MB\n",
      "\bAfter single dvec to cuda: 444.066304 MB\n",
      "After dvec to cuda: 444.0704 MB\n",
      "After forward to cuda: 4343.53152 MB\n",
      "After input to cuda: 443.56864 MB\n",
      "\bAfter single dvec to cuda: 421.500928 MB\n",
      "\bAfter single dvec to cuda: 431.729152 MB\n",
      "\bAfter single dvec to cuda: 440.160256 MB\n",
      "\bAfter single dvec to cuda: 450.223104 MB\n",
      "After dvec to cuda: 450.2272 MB\n",
      "After forward to cuda: 4350.525952 MB\n"
     ]
    },
    {
     "name": "stderr",
     "output_type": "stream",
     "text": [
      "2021-11-24 17:09:43,530 - INFO - Wrote summary at step 796\n"
     ]
    },
    {
     "name": "stdout",
     "output_type": "stream",
     "text": [
      "After input to cuda: 451.001344 MB\n",
      "\bAfter single dvec to cuda: 422.352384 MB\n",
      "\bAfter single dvec to cuda: 429.697024 MB\n",
      "\bAfter single dvec to cuda: 436.717568 MB\n",
      "\bAfter single dvec to cuda: 441.888768 MB\n",
      "After dvec to cuda: 441.892864 MB\n",
      "After forward to cuda: 4340.643328 MB\n",
      "After input to cuda: 441.11872 MB\n",
      "\bAfter single dvec to cuda: 423.135232 MB\n",
      "\bAfter single dvec to cuda: 428.578816 MB\n",
      "\bAfter single dvec to cuda: 431.04768 MB\n",
      "\bAfter single dvec to cuda: 441.111552 MB\n",
      "After dvec to cuda: 441.115648 MB\n",
      "After forward to cuda: 4342.73024 MB\n"
     ]
    },
    {
     "name": "stderr",
     "output_type": "stream",
     "text": [
      "2021-11-24 17:09:44,234 - INFO - Wrote summary at step 797\n"
     ]
    },
    {
     "name": "stdout",
     "output_type": "stream",
     "text": [
      "After input to cuda: 442.06848 MB\n",
      "\bAfter single dvec to cuda: 416.272896 MB\n",
      "\bAfter single dvec to cuda: 424.70144 MB\n",
      "\bAfter single dvec to cuda: 433.949184 MB\n",
      "\bAfter single dvec to cuda: 444.012032 MB\n",
      "After dvec to cuda: 444.016128 MB\n",
      "After forward to cuda: 4343.161344 MB\n",
      "After input to cuda: 443.063296 MB\n",
      "\bAfter single dvec to cuda: 422.762496 MB\n",
      "\bAfter single dvec to cuda: 432.798208 MB\n",
      "\bAfter single dvec to cuda: 441.832448 MB\n",
      "\bAfter single dvec to cuda: 449.718784 MB\n",
      "After dvec to cuda: 449.72288 MB\n",
      "After forward to cuda: 4349.815808 MB\n"
     ]
    },
    {
     "name": "stderr",
     "output_type": "stream",
     "text": [
      "2021-11-24 17:09:44,940 - INFO - Wrote summary at step 798\n"
     ]
    },
    {
     "name": "stdout",
     "output_type": "stream",
     "text": [
      "After input to cuda: 449.72288 MB\n",
      "\bAfter single dvec to cuda: 416.741376 MB\n",
      "\bAfter single dvec to cuda: 420.826624 MB\n",
      "\bAfter single dvec to cuda: 429.532672 MB\n",
      "\bAfter single dvec to cuda: 439.863296 MB\n",
      "After dvec to cuda: 439.867392 MB\n",
      "After forward to cuda: 4339.8016 MB\n",
      "After input to cuda: 439.867392 MB\n",
      "\bAfter single dvec to cuda: 416.693248 MB\n",
      "\bAfter single dvec to cuda: 423.497728 MB\n",
      "\bAfter single dvec to cuda: 433.830912 MB\n",
      "\bAfter single dvec to cuda: 445.748224 MB\n",
      "After dvec to cuda: 445.75232 MB\n",
      "After forward to cuda: 4346.712064 MB\n"
     ]
    },
    {
     "name": "stderr",
     "output_type": "stream",
     "text": [
      "2021-11-24 17:09:45,645 - INFO - Wrote summary at step 799\n"
     ]
    },
    {
     "name": "stdout",
     "output_type": "stream",
     "text": [
      "After input to cuda: 445.75232 MB\n",
      "\bAfter single dvec to cuda: 423.16032 MB\n",
      "\bAfter single dvec to cuda: 431.31904 MB\n",
      "\bAfter single dvec to cuda: 440.562176 MB\n",
      "\bAfter single dvec to cuda: 449.80736 MB\n",
      "After dvec to cuda: 449.811456 MB\n",
      "After forward to cuda: 4350.856192 MB\n",
      "After input to cuda: 449.811456 MB\n",
      "\bAfter single dvec to cuda: 422.069248 MB\n",
      "\bAfter single dvec to cuda: 432.297984 MB\n",
      "\bAfter single dvec to cuda: 439.913984 MB\n",
      "\bAfter single dvec to cuda: 448.07168 MB\n",
      "After dvec to cuda: 448.075776 MB\n",
      "After forward to cuda: 4348.173824 MB\n"
     ]
    },
    {
     "name": "stderr",
     "output_type": "stream",
     "text": [
      "2021-11-24 17:09:46,352 - INFO - Wrote summary at step 800\n"
     ]
    },
    {
     "name": "stdout",
     "output_type": "stream",
     "text": [
      "After input to cuda: 448.075776 MB\n",
      "\bAfter single dvec to cuda: 422.099968 MB\n",
      "\bAfter single dvec to cuda: 432.434176 MB\n",
      "\bAfter single dvec to cuda: 441.13408 MB\n",
      "\bAfter single dvec to cuda: 448.64256 MB\n",
      "After dvec to cuda: 448.646656 MB\n",
      "After forward to cuda: 4349.119488 MB\n",
      "After input to cuda: 449.408 MB\n",
      "\bAfter single dvec to cuda: 423.578624 MB\n",
      "\bAfter single dvec to cuda: 433.80992 MB\n",
      "\bAfter single dvec to cuda: 444.412416 MB\n",
      "\bAfter single dvec to cuda: 448.770048 MB\n",
      "After dvec to cuda: 448.774144 MB\n",
      "After forward to cuda: 4348.298752 MB\n"
     ]
    },
    {
     "name": "stderr",
     "output_type": "stream",
     "text": [
      "2021-11-24 17:09:47,058 - INFO - Wrote summary at step 801\n"
     ]
    },
    {
     "name": "stdout",
     "output_type": "stream",
     "text": [
      "After input to cuda: 448.0128 MB\n",
      "\bAfter single dvec to cuda: 419.94752 MB\n",
      "\bAfter single dvec to cuda: 428.647424 MB\n",
      "\bAfter single dvec to cuda: 437.348352 MB\n",
      "\bAfter single dvec to cuda: 447.954432 MB\n",
      "After dvec to cuda: 447.958528 MB\n",
      "After forward to cuda: 4347.913216 MB\n",
      "After input to cuda: 448.41728 MB\n",
      "\bAfter single dvec to cuda: 423.668736 MB\n",
      "\bAfter single dvec to cuda: 427.941376 MB\n",
      "\bAfter single dvec to cuda: 437.456896 MB\n",
      "\bAfter single dvec to cuda: 446.704128 MB\n",
      "After dvec to cuda: 446.708224 MB\n",
      "After forward to cuda: 4346.760192 MB\n"
     ]
    },
    {
     "name": "stderr",
     "output_type": "stream",
     "text": [
      "2021-11-24 17:09:47,766 - INFO - Wrote summary at step 802\n"
     ]
    },
    {
     "name": "stdout",
     "output_type": "stream",
     "text": [
      "After input to cuda: 446.903808 MB\n",
      "\bAfter single dvec to cuda: 423.591936 MB\n",
      "\bAfter single dvec to cuda: 434.198528 MB\n",
      "\bAfter single dvec to cuda: 443.986432 MB\n",
      "\bAfter single dvec to cuda: 452.964352 MB\n",
      "After dvec to cuda: 452.968448 MB\n",
      "After forward to cuda: 4352.213504 MB\n",
      "After input to cuda: 452.634624 MB\n",
      "\bAfter single dvec to cuda: 415.650816 MB\n",
      "\bAfter single dvec to cuda: 425.9584 MB\n",
      "\bAfter single dvec to cuda: 435.478016 MB\n",
      "\bAfter single dvec to cuda: 445.269504 MB\n",
      "After dvec to cuda: 445.2736 MB\n",
      "After forward to cuda: 4344.477696 MB\n"
     ]
    },
    {
     "name": "stderr",
     "output_type": "stream",
     "text": [
      "2021-11-24 17:09:48,473 - INFO - Wrote summary at step 803\n"
     ]
    },
    {
     "name": "stdout",
     "output_type": "stream",
     "text": [
      "After input to cuda: 444.953088 MB\n",
      "\bAfter single dvec to cuda: 422.592512 MB\n",
      "\bAfter single dvec to cuda: 434.0096 MB\n",
      "\bAfter single dvec to cuda: 436.386304 MB\n",
      "\bAfter single dvec to cuda: 438.2976 MB\n",
      "After dvec to cuda: 438.301696 MB\n",
      "After forward to cuda: 4338.758144 MB\n",
      "After input to cuda: 438.301696 MB\n",
      "\bAfter single dvec to cuda: 422.562304 MB\n",
      "\bAfter single dvec to cuda: 432.793088 MB\n",
      "\bAfter single dvec to cuda: 442.58304 MB\n",
      "\bAfter single dvec to cuda: 452.645376 MB\n",
      "After dvec to cuda: 452.649472 MB\n",
      "After forward to cuda: 4354.192896 MB\n"
     ]
    },
    {
     "name": "stderr",
     "output_type": "stream",
     "text": [
      "2021-11-24 17:09:49,178 - INFO - Wrote summary at step 804\n"
     ]
    },
    {
     "name": "stdout",
     "output_type": "stream",
     "text": [
      "After input to cuda: 453.246464 MB\n",
      "\bAfter single dvec to cuda: 417.014272 MB\n",
      "\bAfter single dvec to cuda: 426.755072 MB\n",
      "\bAfter single dvec to cuda: 437.36064 MB\n",
      "\bAfter single dvec to cuda: 446.065152 MB\n",
      "After dvec to cuda: 446.069248 MB\n",
      "After forward to cuda: 4344.996864 MB\n",
      "After input to cuda: 445.472256 MB\n",
      "\bAfter single dvec to cuda: 419.948544 MB\n",
      "\bAfter single dvec to cuda: 429.663232 MB\n",
      "\bAfter single dvec to cuda: 439.970816 MB\n",
      "\bAfter single dvec to cuda: 449.215488 MB\n",
      "After dvec to cuda: 449.219584 MB\n",
      "After forward to cuda: 4348.744192 MB\n"
     ]
    },
    {
     "name": "stderr",
     "output_type": "stream",
     "text": [
      "2021-11-24 17:09:49,900 - INFO - Wrote summary at step 805\n"
     ]
    },
    {
     "name": "stdout",
     "output_type": "stream",
     "text": [
      "After input to cuda: 449.219584 MB\n",
      "\bAfter single dvec to cuda: 416.689664 MB\n",
      "\bAfter single dvec to cuda: 427.293696 MB\n",
      "\bAfter single dvec to cuda: 435.453952 MB\n",
      "\bAfter single dvec to cuda: 446.061056 MB\n",
      "After dvec to cuda: 446.065152 MB\n",
      "After forward to cuda: 4346.246656 MB\n",
      "After input to cuda: 446.585344 MB\n",
      "\bAfter single dvec to cuda: 422.373888 MB\n",
      "\bAfter single dvec to cuda: 432.975872 MB\n",
      "\bAfter single dvec to cuda: 442.222592 MB\n",
      "\bAfter single dvec to cuda: 451.74272 MB\n",
      "After dvec to cuda: 451.746816 MB\n",
      "After forward to cuda: 4351.552 MB\n"
     ]
    },
    {
     "name": "stderr",
     "output_type": "stream",
     "text": [
      "2021-11-24 17:09:50,608 - INFO - Wrote summary at step 806\n"
     ]
    },
    {
     "name": "stdout",
     "output_type": "stream",
     "text": [
      "After input to cuda: 452.027392 MB\n",
      "\bAfter single dvec to cuda: 421.835776 MB\n",
      "\bAfter single dvec to cuda: 432.139776 MB\n",
      "\bAfter single dvec to cuda: 437.58336 MB\n",
      "\bAfter single dvec to cuda: 446.555136 MB\n",
      "After dvec to cuda: 446.559232 MB\n",
      "After forward to cuda: 4346.08384 MB\n",
      "After input to cuda: 446.559232 MB\n",
      "\bAfter single dvec to cuda: 420.751872 MB\n",
      "\bAfter single dvec to cuda: 429.998592 MB\n",
      "\bAfter single dvec to cuda: 440.329728 MB\n",
      "\bAfter single dvec to cuda: 450.1888 MB\n",
      "After dvec to cuda: 450.192896 MB\n",
      "After forward to cuda: 4349.262848 MB\n"
     ]
    },
    {
     "name": "stderr",
     "output_type": "stream",
     "text": [
      "2021-11-24 17:09:51,341 - INFO - Wrote summary at step 807\n"
     ]
    },
    {
     "name": "stdout",
     "output_type": "stream",
     "text": [
      "After input to cuda: 449.4464 MB\n",
      "\bAfter single dvec to cuda: 423.238656 MB\n",
      "\bAfter single dvec to cuda: 424.879104 MB\n",
      "\bAfter single dvec to cuda: 431.951872 MB\n",
      "\bAfter single dvec to cuda: 441.739264 MB\n",
      "After dvec to cuda: 441.74336 MB\n",
      "After forward to cuda: 4342.27456 MB\n",
      "After input to cuda: 442.063872 MB\n",
      "\bAfter single dvec to cuda: 421.682688 MB\n",
      "\bAfter single dvec to cuda: 431.202304 MB\n",
      "\bAfter single dvec to cuda: 441.537536 MB\n",
      "\bAfter single dvec to cuda: 451.324928 MB\n",
      "After dvec to cuda: 451.329024 MB\n",
      "After forward to cuda: 4351.740416 MB\n"
     ]
    },
    {
     "name": "stderr",
     "output_type": "stream",
     "text": [
      "2021-11-24 17:09:52,049 - INFO - Wrote summary at step 808\n"
     ]
    },
    {
     "name": "stdout",
     "output_type": "stream",
     "text": [
      "After input to cuda: 451.608576 MB\n",
      "\bAfter single dvec to cuda: 421.42208 MB\n",
      "\bAfter single dvec to cuda: 431.757824 MB\n",
      "\bAfter single dvec to cuda: 441.275392 MB\n",
      "\bAfter single dvec to cuda: 442.375168 MB\n",
      "After dvec to cuda: 442.379264 MB\n",
      "After forward to cuda: 4342.447616 MB\n",
      "After input to cuda: 442.897408 MB\n",
      "\bAfter single dvec to cuda: 424.382976 MB\n",
      "\bAfter single dvec to cuda: 429.826048 MB\n",
      "\bAfter single dvec to cuda: 439.612416 MB\n",
      "\bAfter single dvec to cuda: 449.94816 MB\n",
      "After dvec to cuda: 449.952256 MB\n",
      "After forward to cuda: 4350.408192 MB\n"
     ]
    },
    {
     "name": "stderr",
     "output_type": "stream",
     "text": [
      "2021-11-24 17:09:52,775 - INFO - Wrote summary at step 809\n"
     ]
    },
    {
     "name": "stdout",
     "output_type": "stream",
     "text": [
      "After input to cuda: 448.779776 MB\n",
      "\bAfter single dvec to cuda: 417.779712 MB\n",
      "\bAfter single dvec to cuda: 428.383232 MB\n",
      "\bAfter single dvec to cuda: 437.085696 MB\n",
      "\bAfter single dvec to cuda: 447.415296 MB\n",
      "After dvec to cuda: 447.419392 MB\n",
      "After forward to cuda: 4347.964416 MB\n",
      "After input to cuda: 447.419392 MB\n",
      "\bAfter single dvec to cuda: 418.323456 MB\n",
      "\bAfter single dvec to cuda: 421.874176 MB\n",
      "\bAfter single dvec to cuda: 432.182784 MB\n",
      "\bAfter single dvec to cuda: 435.723776 MB\n",
      "After dvec to cuda: 435.727872 MB\n",
      "After forward to cuda: 4335.25248 MB\n"
     ]
    },
    {
     "name": "stderr",
     "output_type": "stream",
     "text": [
      "2021-11-24 17:09:53,479 - INFO - Wrote summary at step 810\n"
     ]
    },
    {
     "name": "stdout",
     "output_type": "stream",
     "text": [
      "After input to cuda: 435.679744 MB\n",
      "\bAfter single dvec to cuda: 414.307328 MB\n",
      "\bAfter single dvec to cuda: 423.008256 MB\n",
      "\bAfter single dvec to cuda: 430.625792 MB\n",
      "\bAfter single dvec to cuda: 439.597056 MB\n",
      "After dvec to cuda: 439.601152 MB\n",
      "After forward to cuda: 4340.25472 MB\n",
      "After input to cuda: 439.959552 MB\n",
      "\bAfter single dvec to cuda: 423.793152 MB\n",
      "\bAfter single dvec to cuda: 434.126336 MB\n",
      "\bAfter single dvec to cuda: 441.474048 MB\n",
      "\bAfter single dvec to cuda: 448.544768 MB\n",
      "After dvec to cuda: 448.548864 MB\n",
      "After forward to cuda: 4348.370432 MB\n"
     ]
    },
    {
     "name": "stderr",
     "output_type": "stream",
     "text": [
      "2021-11-24 17:09:54,221 - INFO - Wrote summary at step 811\n"
     ]
    },
    {
     "name": "stdout",
     "output_type": "stream",
     "text": [
      "After input to cuda: 448.238592 MB\n",
      "\bAfter single dvec to cuda: 420.493824 MB\n",
      "\bAfter single dvec to cuda: 430.280704 MB\n",
      "\bAfter single dvec to cuda: 438.98624 MB\n",
      "\bAfter single dvec to cuda: 446.605312 MB\n",
      "After dvec to cuda: 446.609408 MB\n",
      "After forward to cuda: 4347.437056 MB\n",
      "After input to cuda: 446.609408 MB\n",
      "\bAfter single dvec to cuda: 423.156736 MB\n",
      "\bAfter single dvec to cuda: 432.9472 MB\n",
      "\bAfter single dvec to cuda: 442.464256 MB\n",
      "\bAfter single dvec to cuda: 453.065728 MB\n",
      "After dvec to cuda: 453.069824 MB\n",
      "After forward to cuda: 4353.196544 MB\n"
     ]
    },
    {
     "name": "stderr",
     "output_type": "stream",
     "text": [
      "2021-11-24 17:09:54,927 - INFO - Wrote summary at step 812\n"
     ]
    },
    {
     "name": "stdout",
     "output_type": "stream",
     "text": [
      "After input to cuda: 453.671936 MB\n",
      "\bAfter single dvec to cuda: 423.760896 MB\n",
      "\bAfter single dvec to cuda: 433.821184 MB\n",
      "\bAfter single dvec to cuda: 443.065344 MB\n",
      "\bAfter single dvec to cuda: 453.395968 MB\n",
      "After dvec to cuda: 453.400064 MB\n",
      "After forward to cuda: 4352.60928 MB\n",
      "After input to cuda: 453.755904 MB\n",
      "\bAfter single dvec to cuda: 421.448704 MB\n",
      "\bAfter single dvec to cuda: 427.160576 MB\n",
      "\bAfter single dvec to cuda: 437.767168 MB\n",
      "\bAfter single dvec to cuda: 447.995392 MB\n",
      "After dvec to cuda: 447.999488 MB\n",
      "After forward to cuda: 4348.481024 MB\n"
     ]
    },
    {
     "name": "stderr",
     "output_type": "stream",
     "text": [
      "2021-11-24 17:09:55,635 - INFO - Wrote summary at step 813\n"
     ]
    },
    {
     "name": "stdout",
     "output_type": "stream",
     "text": [
      "After input to cuda: 447.998464 MB\n",
      "\bAfter single dvec to cuda: 421.99296 MB\n",
      "\bAfter single dvec to cuda: 432.324608 MB\n",
      "\bAfter single dvec to cuda: 442.38336 MB\n",
      "\bAfter single dvec to cuda: 450.14272 MB\n",
      "After dvec to cuda: 450.146816 MB\n",
      "After forward to cuda: 4349.001216 MB\n",
      "After input to cuda: 449.494016 MB\n",
      "\bAfter single dvec to cuda: 423.461888 MB\n",
      "\bAfter single dvec to cuda: 432.708608 MB\n",
      "\bAfter single dvec to cuda: 442.496 MB\n",
      "\bAfter single dvec to cuda: 451.469824 MB\n",
      "After dvec to cuda: 451.47392 MB\n",
      "After forward to cuda: 4351.330304 MB\n"
     ]
    },
    {
     "name": "stderr",
     "output_type": "stream",
     "text": [
      "2021-11-24 17:09:56,345 - INFO - Wrote summary at step 814\n"
     ]
    },
    {
     "name": "stdout",
     "output_type": "stream",
     "text": [
      "After input to cuda: 451.47392 MB\n",
      "\bAfter single dvec to cuda: 423.486976 MB\n",
      "\bAfter single dvec to cuda: 431.91808 MB\n",
      "\bAfter single dvec to cuda: 441.978368 MB\n",
      "\bAfter single dvec to cuda: 451.222016 MB\n",
      "After dvec to cuda: 451.226112 MB\n",
      "After forward to cuda: 4351.04256 MB\n",
      "After input to cuda: 450.921984 MB\n",
      "\bAfter single dvec to cuda: 414.78656 MB\n",
      "\bAfter single dvec to cuda: 425.092096 MB\n",
      "\bAfter single dvec to cuda: 433.389568 MB\n",
      "\bAfter single dvec to cuda: 443.181056 MB\n",
      "After dvec to cuda: 443.185152 MB\n",
      "After forward to cuda: 4343.552 MB\n"
     ]
    },
    {
     "name": "stderr",
     "output_type": "stream",
     "text": [
      "2021-11-24 17:09:57,052 - INFO - Wrote summary at step 815\n"
     ]
    },
    {
     "name": "stdout",
     "output_type": "stream",
     "text": [
      "After input to cuda: 443.185152 MB\n",
      "\bAfter single dvec to cuda: 422.738432 MB\n",
      "\bAfter single dvec to cuda: 431.064576 MB\n",
      "\bAfter single dvec to cuda: 439.766016 MB\n",
      "\bAfter single dvec to cuda: 448.196608 MB\n",
      "After dvec to cuda: 448.200704 MB\n",
      "After forward to cuda: 4349.241856 MB\n",
      "After input to cuda: 448.962048 MB\n",
      "\bAfter single dvec to cuda: 423.525376 MB\n",
      "\bAfter single dvec to cuda: 430.601728 MB\n",
      "\bAfter single dvec to cuda: 441.206784 MB\n",
      "\bAfter single dvec to cuda: 452.855808 MB\n",
      "After dvec to cuda: 452.859904 MB\n",
      "After forward to cuda: 4353.373184 MB\n"
     ]
    },
    {
     "name": "stderr",
     "output_type": "stream",
     "text": [
      "2021-11-24 17:09:57,758 - INFO - Wrote summary at step 816\n"
     ]
    },
    {
     "name": "stdout",
     "output_type": "stream",
     "text": [
      "After input to cuda: 452.152832 MB\n",
      "\bAfter single dvec to cuda: 421.63712 MB\n",
      "\bAfter single dvec to cuda: 430.070272 MB\n",
      "\bAfter single dvec to cuda: 438.503936 MB\n",
      "\bAfter single dvec to cuda: 444.011008 MB\n",
      "After dvec to cuda: 444.015104 MB\n",
      "After forward to cuda: 4344.108032 MB\n",
      "After input to cuda: 444.557824 MB\n",
      "\bAfter single dvec to cuda: 423.780352 MB\n",
      "\bAfter single dvec to cuda: 433.570816 MB\n",
      "\bAfter single dvec to cuda: 443.632128 MB\n",
      "\bAfter single dvec to cuda: 454.2336 MB\n",
      "After dvec to cuda: 454.237696 MB\n",
      "After forward to cuda: 4353.603584 MB\n"
     ]
    },
    {
     "name": "stderr",
     "output_type": "stream",
     "text": [
      "2021-11-24 17:09:58,482 - INFO - Wrote summary at step 817\n"
     ]
    },
    {
     "name": "stdout",
     "output_type": "stream",
     "text": [
      "After input to cuda: 454.050304 MB\n",
      "\bAfter single dvec to cuda: 423.568896 MB\n",
      "\bAfter single dvec to cuda: 432.269312 MB\n",
      "\bAfter single dvec to cuda: 441.243648 MB\n",
      "\bAfter single dvec to cuda: 451.849728 MB\n",
      "After dvec to cuda: 451.853824 MB\n",
      "After forward to cuda: 4351.537152 MB\n",
      "After input to cuda: 452.041216 MB\n",
      "\bAfter single dvec to cuda: 421.3632 MB\n",
      "\bAfter single dvec to cuda: 431.969792 MB\n",
      "\bAfter single dvec to cuda: 441.758208 MB\n",
      "\bAfter single dvec to cuda: 451.821056 MB\n",
      "After dvec to cuda: 451.825152 MB\n",
      "After forward to cuda: 4350.78144 MB\n"
     ]
    },
    {
     "name": "stderr",
     "output_type": "stream",
     "text": [
      "2021-11-24 17:09:59,205 - INFO - Wrote summary at step 818\n"
     ]
    },
    {
     "name": "stdout",
     "output_type": "stream",
     "text": [
      "After input to cuda: 451.543552 MB\n",
      "\bAfter single dvec to cuda: 423.524352 MB\n",
      "\bAfter single dvec to cuda: 433.58464 MB\n",
      "\bAfter single dvec to cuda: 443.377152 MB\n",
      "\bAfter single dvec to cuda: 450.991616 MB\n",
      "After dvec to cuda: 450.995712 MB\n",
      "After forward to cuda: 4351.09376 MB\n",
      "After input to cuda: 451.436544 MB\n",
      "\bAfter single dvec to cuda: 422.335488 MB\n",
      "\bAfter single dvec to cuda: 424.521728 MB\n",
      "\bAfter single dvec to cuda: 431.867392 MB\n",
      "\bAfter single dvec to cuda: 440.024576 MB\n",
      "After dvec to cuda: 440.028672 MB\n",
      "After forward to cuda: 4339.97824 MB\n"
     ]
    },
    {
     "name": "stderr",
     "output_type": "stream",
     "text": [
      "2021-11-24 17:09:59,910 - INFO - Wrote summary at step 819\n"
     ]
    },
    {
     "name": "stdout",
     "output_type": "stream",
     "text": [
      "After input to cuda: 440.028672 MB\n",
      "\bAfter single dvec to cuda: 421.52448 MB\n",
      "\bAfter single dvec to cuda: 431.314432 MB\n",
      "\bAfter single dvec to cuda: 441.644544 MB\n",
      "\bAfter single dvec to cuda: 452.52096 MB\n",
      "After dvec to cuda: 452.525056 MB\n",
      "After forward to cuda: 4353.294336 MB\n",
      "After input to cuda: 452.726784 MB\n",
      "\bAfter single dvec to cuda: 416.020992 MB\n",
      "\bAfter single dvec to cuda: 424.452096 MB\n",
      "\bAfter single dvec to cuda: 434.510336 MB\n",
      "\bAfter single dvec to cuda: 442.125312 MB\n",
      "After dvec to cuda: 442.129408 MB\n",
      "After forward to cuda: 4341.462528 MB\n"
     ]
    },
    {
     "name": "stderr",
     "output_type": "stream",
     "text": [
      "2021-11-24 17:10:00,638 - INFO - Wrote summary at step 820\n"
     ]
    },
    {
     "name": "stdout",
     "output_type": "stream",
     "text": [
      "After input to cuda: 441.171456 MB\n",
      "\bAfter single dvec to cuda: 421.849088 MB\n",
      "\bAfter single dvec to cuda: 430.549504 MB\n",
      "\bAfter single dvec to cuda: 440.336896 MB\n",
      "\bAfter single dvec to cuda: 448.224768 MB\n",
      "After dvec to cuda: 448.228864 MB\n",
      "After forward to cuda: 4348.707328 MB\n",
      "After input to cuda: 448.228864 MB\n",
      "\bAfter single dvec to cuda: 423.483392 MB\n",
      "\bAfter single dvec to cuda: 425.395712 MB\n",
      "\bAfter single dvec to cuda: 435.305984 MB\n",
      "\bAfter single dvec to cuda: 445.614592 MB\n",
      "After dvec to cuda: 445.618688 MB\n",
      "After forward to cuda: 4345.90464 MB\n"
     ]
    },
    {
     "name": "stderr",
     "output_type": "stream",
     "text": [
      "2021-11-24 17:10:01,345 - INFO - Wrote summary at step 821\n"
     ]
    },
    {
     "name": "stdout",
     "output_type": "stream",
     "text": [
      "After input to cuda: 446.380032 MB\n",
      "\bAfter single dvec to cuda: 423.96928 MB\n",
      "\bAfter single dvec to cuda: 434.30144 MB\n",
      "\bAfter single dvec to cuda: 444.09088 MB\n",
      "\bAfter single dvec to cuda: 454.96576 MB\n",
      "After dvec to cuda: 454.969856 MB\n",
      "After forward to cuda: 4354.494464 MB\n",
      "After input to cuda: 454.969856 MB\n",
      "\bAfter single dvec to cuda: 418.2656 MB\n",
      "\bAfter single dvec to cuda: 428.5184 MB\n",
      "\bAfter single dvec to cuda: 438.035456 MB\n",
      "\bAfter single dvec to cuda: 447.822848 MB\n",
      "After dvec to cuda: 447.826944 MB\n",
      "After forward to cuda: 4348.122624 MB\n"
     ]
    },
    {
     "name": "stderr",
     "output_type": "stream",
     "text": [
      "2021-11-24 17:10:02,073 - INFO - Wrote summary at step 822\n"
     ]
    },
    {
     "name": "stdout",
     "output_type": "stream",
     "text": [
      "After input to cuda: 447.0656 MB\n",
      "\bAfter single dvec to cuda: 423.159296 MB\n",
      "\bAfter single dvec to cuda: 432.948736 MB\n",
      "\bAfter single dvec to cuda: 442.19392 MB\n",
      "\bAfter single dvec to cuda: 449.159168 MB\n",
      "After dvec to cuda: 449.163264 MB\n",
      "After forward to cuda: 4349.566976 MB\n",
      "After input to cuda: 449.451008 MB\n",
      "\bAfter single dvec to cuda: 423.443968 MB\n",
      "\bAfter single dvec to cuda: 431.333376 MB\n",
      "\bAfter single dvec to cuda: 440.578048 MB\n",
      "\bAfter single dvec to cuda: 449.554432 MB\n",
      "After dvec to cuda: 449.558528 MB\n",
      "After forward to cuda: 4348.795392 MB\n"
     ]
    },
    {
     "name": "stderr",
     "output_type": "stream",
     "text": [
      "2021-11-24 17:10:02,818 - INFO - Wrote summary at step 823\n"
     ]
    },
    {
     "name": "stdout",
     "output_type": "stream",
     "text": [
      "After input to cuda: 449.270784 MB\n",
      "\bAfter single dvec to cuda: 423.133696 MB\n",
      "\bAfter single dvec to cuda: 432.926208 MB\n",
      "\bAfter single dvec to cuda: 441.360384 MB\n",
      "\bAfter single dvec to cuda: 451.043328 MB\n",
      "After dvec to cuda: 451.047424 MB\n",
      "After forward to cuda: 4352.088576 MB\n",
      "After input to cuda: 451.644416 MB\n",
      "\bAfter single dvec to cuda: 422.450176 MB\n",
      "\bAfter single dvec to cuda: 432.78592 MB\n",
      "\bAfter single dvec to cuda: 434.969088 MB\n",
      "\bAfter single dvec to cuda: 442.316288 MB\n",
      "After dvec to cuda: 442.320384 MB\n",
      "After forward to cuda: 4341.289984 MB\n"
     ]
    },
    {
     "name": "stderr",
     "output_type": "stream",
     "text": [
      "2021-11-24 17:10:03,522 - INFO - Wrote summary at step 824\n"
     ]
    },
    {
     "name": "stdout",
     "output_type": "stream",
     "text": [
      "After input to cuda: 441.736704 MB\n",
      "\bAfter single dvec to cuda: 423.171584 MB\n",
      "\bAfter single dvec to cuda: 433.503744 MB\n",
      "\bAfter single dvec to cuda: 443.564032 MB\n",
      "\bAfter single dvec to cuda: 452.345856 MB\n",
      "After dvec to cuda: 452.349952 MB\n",
      "After forward to cuda: 4352.429568 MB\n",
      "After input to cuda: 452.349952 MB\n",
      "\bAfter single dvec to cuda: 423.117824 MB\n",
      "\bAfter single dvec to cuda: 428.830208 MB\n",
      "\bAfter single dvec to cuda: 438.891008 MB\n",
      "\bAfter single dvec to cuda: 446.776832 MB\n",
      "After dvec to cuda: 446.780928 MB\n",
      "After forward to cuda: 4346.52672 MB\n"
     ]
    },
    {
     "name": "stderr",
     "output_type": "stream",
     "text": [
      "2021-11-24 17:10:04,242 - INFO - Wrote summary at step 825\n"
     ]
    },
    {
     "name": "stdout",
     "output_type": "stream",
     "text": [
      "After input to cuda: 446.767616 MB\n",
      "\bAfter single dvec to cuda: 423.1296 MB\n",
      "\bAfter single dvec to cuda: 432.91904 MB\n",
      "\bAfter single dvec to cuda: 442.162688 MB\n",
      "\bAfter single dvec to cuda: 451.953152 MB\n",
      "After dvec to cuda: 451.957248 MB\n",
      "After forward to cuda: 4352.089088 MB\n",
      "After input to cuda: 451.957248 MB\n",
      "\bAfter single dvec to cuda: 420.492288 MB\n",
      "\bAfter single dvec to cuda: 425.934336 MB\n",
      "\bAfter single dvec to cuda: 434.09152 MB\n",
      "\bAfter single dvec to cuda: 440.349696 MB\n",
      "After dvec to cuda: 440.353792 MB\n",
      "After forward to cuda: 4340.16 MB\n"
     ]
    },
    {
     "name": "stderr",
     "output_type": "stream",
     "text": [
      "2021-11-24 17:10:04,969 - INFO - Wrote summary at step 826\n"
     ]
    },
    {
     "name": "stdout",
     "output_type": "stream",
     "text": [
      "After input to cuda: 440.353792 MB\n",
      "\bAfter single dvec to cuda: 421.172736 MB\n",
      "\bAfter single dvec to cuda: 431.481344 MB\n",
      "\bAfter single dvec to cuda: 440.728064 MB\n",
      "\bAfter single dvec to cuda: 449.972224 MB\n",
      "After dvec to cuda: 449.97632 MB\n",
      "After forward to cuda: 4350.393856 MB\n",
      "After input to cuda: 450.573312 MB\n",
      "\bAfter single dvec to cuda: 423.783424 MB\n",
      "\bAfter single dvec to cuda: 433.667072 MB\n",
      "\bAfter single dvec to cuda: 435.577856 MB\n",
      "\bAfter single dvec to cuda: 445.63712 MB\n",
      "After dvec to cuda: 445.641216 MB\n",
      "After forward to cuda: 4345.165824 MB\n"
     ]
    },
    {
     "name": "stderr",
     "output_type": "stream",
     "text": [
      "2021-11-24 17:10:05,690 - INFO - Wrote summary at step 827\n"
     ]
    },
    {
     "name": "stdout",
     "output_type": "stream",
     "text": [
      "After input to cuda: 445.641216 MB\n",
      "\bAfter single dvec to cuda: 421.902848 MB\n",
      "\bAfter single dvec to cuda: 424.900608 MB\n",
      "\bAfter single dvec to cuda: 434.147328 MB\n",
      "\bAfter single dvec to cuda: 444.265472 MB\n",
      "After dvec to cuda: 444.269568 MB\n",
      "After forward to cuda: 4343.794176 MB\n",
      "After input to cuda: 443.987968 MB\n",
      "\bAfter single dvec to cuda: 422.16704 MB\n",
      "\bAfter single dvec to cuda: 431.954432 MB\n",
      "\bAfter single dvec to cuda: 439.57248 MB\n",
      "\bAfter single dvec to cuda: 446.587904 MB\n",
      "After dvec to cuda: 446.592 MB\n",
      "After forward to cuda: 4346.877952 MB\n"
     ]
    },
    {
     "name": "stderr",
     "output_type": "stream",
     "text": [
      "2021-11-24 17:10:06,396 - INFO - Wrote summary at step 828\n"
     ]
    },
    {
     "name": "stdout",
     "output_type": "stream",
     "text": [
      "After input to cuda: 447.037952 MB\n",
      "\bAfter single dvec to cuda: 424.242176 MB\n",
      "\bAfter single dvec to cuda: 434.525696 MB\n",
      "\bAfter single dvec to cuda: 443.226624 MB\n",
      "\bAfter single dvec to cuda: 451.661312 MB\n",
      "After dvec to cuda: 451.665408 MB\n",
      "After forward to cuda: 4351.988736 MB\n",
      "After input to cuda: 451.856896 MB\n",
      "\bAfter single dvec to cuda: 424.13824 MB\n",
      "\bAfter single dvec to cuda: 434.195968 MB\n",
      "\bAfter single dvec to cuda: 443.173376 MB\n",
      "\bAfter single dvec to cuda: 453.235712 MB\n",
      "After dvec to cuda: 453.239808 MB\n",
      "After forward to cuda: 4353.104896 MB\n"
     ]
    },
    {
     "name": "stderr",
     "output_type": "stream",
     "text": [
      "2021-11-24 17:10:07,127 - INFO - Wrote summary at step 829\n"
     ]
    },
    {
     "name": "stdout",
     "output_type": "stream",
     "text": [
      "After input to cuda: 453.001728 MB\n",
      "\bAfter single dvec to cuda: 417.678336 MB\n",
      "\bAfter single dvec to cuda: 427.661824 MB\n",
      "\bAfter single dvec to cuda: 435.82208 MB\n",
      "\bAfter single dvec to cuda: 444.25472 MB\n",
      "After dvec to cuda: 444.258816 MB\n",
      "After forward to cuda: 4343.75168 MB\n",
      "After input to cuda: 444.141056 MB\n",
      "\bAfter single dvec to cuda: 421.63456 MB\n",
      "\bAfter single dvec to cuda: 431.944192 MB\n",
      "\bAfter single dvec to cuda: 435.761152 MB\n",
      "\bAfter single dvec to cuda: 446.365184 MB\n",
      "After dvec to cuda: 446.36928 MB\n",
      "After forward to cuda: 4345.736704 MB\n"
     ]
    },
    {
     "name": "stderr",
     "output_type": "stream",
     "text": [
      "2021-11-24 17:10:07,851 - INFO - Wrote summary at step 830\n"
     ]
    },
    {
     "name": "stdout",
     "output_type": "stream",
     "text": [
      "After input to cuda: 445.772288 MB\n",
      "\bAfter single dvec to cuda: 421.854208 MB\n",
      "\bAfter single dvec to cuda: 431.369728 MB\n",
      "\bAfter single dvec to cuda: 441.156608 MB\n",
      "\bAfter single dvec to cuda: 445.242368 MB\n",
      "After dvec to cuda: 445.246464 MB\n",
      "After forward to cuda: 4345.659904 MB\n",
      "After input to cuda: 445.566976 MB\n",
      "\bAfter single dvec to cuda: 417.063936 MB\n",
      "\bAfter single dvec to cuda: 427.367936 MB\n",
      "\bAfter single dvec to cuda: 437.699584 MB\n",
      "\bAfter single dvec to cuda: 440.157184 MB\n",
      "After dvec to cuda: 440.16128 MB\n",
      "After forward to cuda: 4339.774976 MB\n"
     ]
    },
    {
     "name": "stderr",
     "output_type": "stream",
     "text": [
      "2021-11-24 17:10:08,556 - INFO - Wrote summary at step 831\n"
     ]
    },
    {
     "name": "stdout",
     "output_type": "stream",
     "text": [
      "After input to cuda: 439.840768 MB\n",
      "\bAfter single dvec to cuda: 421.579776 MB\n",
      "\bAfter single dvec to cuda: 429.872128 MB\n",
      "\bAfter single dvec to cuda: 440.477184 MB\n",
      "\bAfter single dvec to cuda: 445.650432 MB\n",
      "After dvec to cuda: 445.654528 MB\n",
      "After forward to cuda: 4346.157056 MB\n",
      "After input to cuda: 445.654528 MB\n",
      "\bAfter single dvec to cuda: 423.133696 MB\n",
      "\bAfter single dvec to cuda: 432.11008 MB\n",
      "\bAfter single dvec to cuda: 440.540672 MB\n",
      "\bAfter single dvec to cuda: 450.871296 MB\n",
      "After dvec to cuda: 450.875392 MB\n",
      "After forward to cuda: 4350.701568 MB\n"
     ]
    },
    {
     "name": "stderr",
     "output_type": "stream",
     "text": [
      "2021-11-24 17:10:09,261 - INFO - Wrote summary at step 832\n"
     ]
    },
    {
     "name": "stdout",
     "output_type": "stream",
     "text": [
      "After input to cuda: 450.875392 MB\n",
      "\bAfter single dvec to cuda: 418.320384 MB\n",
      "\bAfter single dvec to cuda: 429.197312 MB\n",
      "\bAfter single dvec to cuda: 437.897216 MB\n",
      "\bAfter single dvec to cuda: 443.341312 MB\n",
      "After dvec to cuda: 443.345408 MB\n",
      "After forward to cuda: 4344.579584 MB\n",
      "After input to cuda: 444.106752 MB\n",
      "\bAfter single dvec to cuda: 424.784384 MB\n",
      "\bAfter single dvec to cuda: 435.091456 MB\n",
      "\bAfter single dvec to cuda: 445.154304 MB\n",
      "\bAfter single dvec to cuda: 454.940672 MB\n",
      "After dvec to cuda: 454.944768 MB\n",
      "After forward to cuda: 4356.492288 MB\n"
     ]
    },
    {
     "name": "stderr",
     "output_type": "stream",
     "text": [
      "2021-11-24 17:10:09,969 - INFO - Wrote summary at step 833\n"
     ]
    },
    {
     "name": "stdout",
     "output_type": "stream",
     "text": [
      "After input to cuda: 455.136256 MB\n",
      "\bAfter single dvec to cuda: 421.17376 MB\n",
      "\bAfter single dvec to cuda: 425.805824 MB\n",
      "\bAfter single dvec to cuda: 435.323392 MB\n",
      "\bAfter single dvec to cuda: 444.569088 MB\n",
      "After dvec to cuda: 444.573184 MB\n",
      "After forward to cuda: 4344.073728 MB\n",
      "After input to cuda: 444.217344 MB\n",
      "\bAfter single dvec to cuda: 423.757312 MB\n",
      "\bAfter single dvec to cuda: 433.006592 MB\n",
      "\bAfter single dvec to cuda: 441.168896 MB\n",
      "\bAfter single dvec to cuda: 449.599488 MB\n",
      "After dvec to cuda: 449.603584 MB\n",
      "After forward to cuda: 4348.5312 MB\n"
     ]
    },
    {
     "name": "stderr",
     "output_type": "stream",
     "text": [
      "2021-11-24 17:10:10,675 - INFO - Wrote summary at step 834\n"
     ]
    },
    {
     "name": "stdout",
     "output_type": "stream",
     "text": [
      "After input to cuda: 449.006592 MB\n",
      "\bAfter single dvec to cuda: 421.849088 MB\n",
      "\bAfter single dvec to cuda: 432.18176 MB\n",
      "\bAfter single dvec to cuda: 441.424896 MB\n",
      "\bAfter single dvec to cuda: 450.939904 MB\n",
      "After dvec to cuda: 450.944 MB\n",
      "After forward to cuda: 4352.236544 MB\n",
      "After input to cuda: 451.540992 MB\n",
      "\bAfter single dvec to cuda: 423.704576 MB\n",
      "\bAfter single dvec to cuda: 425.88672 MB\n",
      "\bAfter single dvec to cuda: 436.222464 MB\n",
      "\bAfter single dvec to cuda: 445.198336 MB\n",
      "After dvec to cuda: 445.202432 MB\n",
      "After forward to cuda: 4344.130048 MB\n"
     ]
    },
    {
     "name": "stderr",
     "output_type": "stream",
     "text": [
      "2021-11-24 17:10:11,382 - INFO - Wrote summary at step 835\n"
     ]
    },
    {
     "name": "stdout",
     "output_type": "stream",
     "text": [
      "After input to cuda: 444.60544 MB\n",
      "\bAfter single dvec to cuda: 419.871232 MB\n",
      "\bAfter single dvec to cuda: 426.941952 MB\n",
      "\bAfter single dvec to cuda: 437.196288 MB\n",
      "\bAfter single dvec to cuda: 445.356032 MB\n",
      "After dvec to cuda: 445.360128 MB\n",
      "After forward to cuda: 4345.379328 MB\n",
      "After input to cuda: 445.360128 MB\n",
      "\bAfter single dvec to cuda: 419.950592 MB\n",
      "\bAfter single dvec to cuda: 429.466112 MB\n",
      "\bAfter single dvec to cuda: 439.254016 MB\n",
      "\bAfter single dvec to cuda: 446.248448 MB\n",
      "After dvec to cuda: 446.252544 MB\n",
      "After forward to cuda: 4346.968576 MB\n"
     ]
    },
    {
     "name": "stderr",
     "output_type": "stream",
     "text": [
      "2021-11-24 17:10:12,088 - INFO - Wrote summary at step 836\n"
     ]
    },
    {
     "name": "stdout",
     "output_type": "stream",
     "text": [
      "After input to cuda: 446.306816 MB\n",
      "\bAfter single dvec to cuda: 421.904384 MB\n",
      "\bAfter single dvec to cuda: 430.880256 MB\n",
      "\bAfter single dvec to cuda: 440.123392 MB\n",
      "\bAfter single dvec to cuda: 446.77632 MB\n",
      "After dvec to cuda: 446.780416 MB\n",
      "After forward to cuda: 4346.907136 MB\n",
      "After input to cuda: 447.328256 MB\n",
      "\bAfter single dvec to cuda: 422.457344 MB\n",
      "\bAfter single dvec to cuda: 431.702016 MB\n",
      "\bAfter single dvec to cuda: 439.589376 MB\n",
      "\bAfter single dvec to cuda: 446.298624 MB\n",
      "After dvec to cuda: 446.30272 MB\n",
      "After forward to cuda: 4345.98656 MB\n"
     ]
    },
    {
     "name": "stderr",
     "output_type": "stream",
     "text": [
      "2021-11-24 17:10:12,796 - INFO - Wrote summary at step 837\n"
     ]
    },
    {
     "name": "stdout",
     "output_type": "stream",
     "text": [
      "After input to cuda: 446.461952 MB\n",
      "\bAfter single dvec to cuda: 422.341632 MB\n",
      "\bAfter single dvec to cuda: 430.228992 MB\n",
      "\bAfter single dvec to cuda: 438.119424 MB\n",
      "\bAfter single dvec to cuda: 447.364096 MB\n",
      "After dvec to cuda: 447.368192 MB\n",
      "After forward to cuda: 4346.704896 MB\n",
      "After input to cuda: 446.606848 MB\n",
      "\bAfter single dvec to cuda: 421.577728 MB\n",
      "\bAfter single dvec to cuda: 431.364608 MB\n",
      "\bAfter single dvec to cuda: 440.610304 MB\n",
      "\bAfter single dvec to cuda: 448.497152 MB\n",
      "After dvec to cuda: 448.501248 MB\n",
      "After forward to cuda: 4348.481536 MB\n"
     ]
    },
    {
     "name": "stderr",
     "output_type": "stream",
     "text": [
      "2021-11-24 17:10:13,501 - INFO - Wrote summary at step 838\n"
     ]
    },
    {
     "name": "stdout",
     "output_type": "stream",
     "text": [
      "After input to cuda: 448.81152 MB\n",
      "\bAfter single dvec to cuda: 421.892096 MB\n",
      "\bAfter single dvec to cuda: 431.954944 MB\n",
      "\bAfter single dvec to cuda: 442.01472 MB\n",
      "\bAfter single dvec to cuda: 452.345856 MB\n",
      "After dvec to cuda: 452.349952 MB\n",
      "After forward to cuda: 4352.137728 MB\n",
      "After input to cuda: 452.997632 MB\n",
      "\bAfter single dvec to cuda: 424.710144 MB\n",
      "\bAfter single dvec to cuda: 435.018752 MB\n",
      "\bAfter single dvec to cuda: 444.875264 MB\n",
      "\bAfter single dvec to cuda: 455.205888 MB\n",
      "After dvec to cuda: 455.209984 MB\n",
      "After forward to cuda: 4354.734592 MB\n"
     ]
    },
    {
     "name": "stderr",
     "output_type": "stream",
     "text": [
      "2021-11-24 17:10:14,210 - INFO - Wrote summary at step 839\n"
     ]
    },
    {
     "name": "stdout",
     "output_type": "stream",
     "text": [
      "After input to cuda: 455.209984 MB\n",
      "\bAfter single dvec to cuda: 419.224576 MB\n",
      "\bAfter single dvec to cuda: 429.528576 MB\n",
      "\bAfter single dvec to cuda: 439.833088 MB\n",
      "\bAfter single dvec to cuda: 447.990272 MB\n",
      "After dvec to cuda: 447.994368 MB\n",
      "After forward to cuda: 4349.176832 MB\n",
      "After input to cuda: 447.167488 MB\n",
      "\bAfter single dvec to cuda: 418.454528 MB\n",
      "\bAfter single dvec to cuda: 428.708352 MB\n",
      "\bAfter single dvec to cuda: 433.065472 MB\n",
      "\bAfter single dvec to cuda: 442.580992 MB\n",
      "After dvec to cuda: 442.585088 MB\n",
      "After forward to cuda: 4342.706176 MB\n"
     ]
    },
    {
     "name": "stderr",
     "output_type": "stream",
     "text": [
      "2021-11-24 17:10:14,917 - INFO - Wrote summary at step 840\n"
     ]
    },
    {
     "name": "stdout",
     "output_type": "stream",
     "text": [
      "After input to cuda: 442.454016 MB\n",
      "\bAfter single dvec to cuda: 423.1552 MB\n",
      "\bAfter single dvec to cuda: 432.403456 MB\n",
      "\bAfter single dvec to cuda: 442.736128 MB\n",
      "\bAfter single dvec to cuda: 447.637504 MB\n",
      "After dvec to cuda: 447.6416 MB\n",
      "After forward to cuda: 4347.739648 MB\n",
      "After input to cuda: 447.6416 MB\n",
      "\bAfter single dvec to cuda: 423.186432 MB\n",
      "\bAfter single dvec to cuda: 432.704 MB\n",
      "\bAfter single dvec to cuda: 439.409152 MB\n",
      "\bAfter single dvec to cuda: 449.742848 MB\n",
      "After dvec to cuda: 449.746944 MB\n",
      "After forward to cuda: 4349.271552 MB\n"
     ]
    },
    {
     "name": "stderr",
     "output_type": "stream",
     "text": [
      "2021-11-24 17:10:15,625 - INFO - Wrote summary at step 841\n"
     ]
    },
    {
     "name": "stdout",
     "output_type": "stream",
     "text": [
      "After input to cuda: 449.746944 MB\n",
      "\bAfter single dvec to cuda: 415.87456 MB\n",
      "\bAfter single dvec to cuda: 426.129408 MB\n",
      "\bAfter single dvec to cuda: 437.549056 MB\n",
      "\bAfter single dvec to cuda: 447.065088 MB\n",
      "After dvec to cuda: 447.069184 MB\n",
      "After forward to cuda: 4348.09088 MB\n",
      "After input to cuda: 447.857664 MB\n",
      "\bAfter single dvec to cuda: 423.944704 MB\n",
      "\bAfter single dvec to cuda: 432.650752 MB\n",
      "\bAfter single dvec to cuda: 442.983936 MB\n",
      "\bAfter single dvec to cuda: 452.50304 MB\n",
      "After dvec to cuda: 452.507136 MB\n",
      "After forward to cuda: 4352.441344 MB\n"
     ]
    },
    {
     "name": "stderr",
     "output_type": "stream",
     "text": [
      "2021-11-24 17:10:16,332 - INFO - Wrote summary at step 842\n"
     ]
    },
    {
     "name": "stdout",
     "output_type": "stream",
     "text": [
      "After input to cuda: 451.718656 MB\n",
      "\bAfter single dvec to cuda: 423.130112 MB\n",
      "\bAfter single dvec to cuda: 432.919552 MB\n",
      "\bAfter single dvec to cuda: 441.353216 MB\n",
      "\bAfter single dvec to cuda: 451.6864 MB\n",
      "After dvec to cuda: 451.690496 MB\n",
      "After forward to cuda: 4352.548352 MB\n",
      "After input to cuda: 452.691968 MB\n",
      "\bAfter single dvec to cuda: 424.109056 MB\n",
      "\bAfter single dvec to cuda: 434.166784 MB\n",
      "\bAfter single dvec to cuda: 444.229632 MB\n",
      "\bAfter single dvec to cuda: 453.74464 MB\n",
      "After dvec to cuda: 453.748736 MB\n",
      "After forward to cuda: 4352.271872 MB\n"
     ]
    },
    {
     "name": "stderr",
     "output_type": "stream",
     "text": [
      "2021-11-24 17:10:17,041 - INFO - Wrote summary at step 843\n"
     ]
    },
    {
     "name": "stdout",
     "output_type": "stream",
     "text": [
      "After input to cuda: 452.775936 MB\n",
      "\bAfter single dvec to cuda: 422.395904 MB\n",
      "\bAfter single dvec to cuda: 432.674304 MB\n",
      "\bAfter single dvec to cuda: 440.835584 MB\n",
      "\bAfter single dvec to cuda: 445.736448 MB\n",
      "After dvec to cuda: 445.740544 MB\n",
      "After forward to cuda: 4345.998336 MB\n",
      "After input to cuda: 445.711872 MB\n",
      "\bAfter single dvec to cuda: 423.131648 MB\n",
      "\bAfter single dvec to cuda: 432.647168 MB\n",
      "\bAfter single dvec to cuda: 441.896448 MB\n",
      "\bAfter single dvec to cuda: 451.142144 MB\n",
      "After dvec to cuda: 451.14624 MB\n",
      "After forward to cuda: 4351.580672 MB\n"
     ]
    },
    {
     "name": "stderr",
     "output_type": "stream",
     "text": [
      "2021-11-24 17:10:17,748 - INFO - Wrote summary at step 844\n"
     ]
    },
    {
     "name": "stdout",
     "output_type": "stream",
     "text": [
      "After input to cuda: 451.14624 MB\n",
      "\bAfter single dvec to cuda: 419.94752 MB\n",
      "\bAfter single dvec to cuda: 430.277632 MB\n",
      "\bAfter single dvec to cuda: 437.246976 MB\n",
      "\bAfter single dvec to cuda: 447.579136 MB\n",
      "After dvec to cuda: 447.583232 MB\n",
      "After forward to cuda: 4347.13344 MB\n",
      "After input to cuda: 447.637504 MB\n",
      "\bAfter single dvec to cuda: 423.26528 MB\n",
      "\bAfter single dvec to cuda: 426.266624 MB\n",
      "\bAfter single dvec to cuda: 436.053504 MB\n",
      "\bAfter single dvec to cuda: 438.2976 MB\n",
      "After dvec to cuda: 438.301696 MB\n",
      "After forward to cuda: 4338.909696 MB\n"
     ]
    },
    {
     "name": "stderr",
     "output_type": "stream",
     "text": [
      "2021-11-24 17:10:18,455 - INFO - Wrote summary at step 845\n"
     ]
    },
    {
     "name": "stdout",
     "output_type": "stream",
     "text": [
      "After input to cuda: 438.749184 MB\n",
      "\bAfter single dvec to cuda: 423.709184 MB\n",
      "\bAfter single dvec to cuda: 426.707456 MB\n",
      "\bAfter single dvec to cuda: 436.225024 MB\n",
      "\bAfter single dvec to cuda: 446.017536 MB\n",
      "After dvec to cuda: 446.021632 MB\n",
      "After forward to cuda: 4346.306048 MB\n",
      "After input to cuda: 446.308352 MB\n",
      "\bAfter single dvec to cuda: 423.949824 MB\n",
      "\bAfter single dvec to cuda: 433.73824 MB\n",
      "\bAfter single dvec to cuda: 444.069888 MB\n",
      "\bAfter single dvec to cuda: 453.046784 MB\n",
      "After dvec to cuda: 453.05088 MB\n",
      "After forward to cuda: 4352.575488 MB\n"
     ]
    },
    {
     "name": "stderr",
     "output_type": "stream",
     "text": [
      "2021-11-24 17:10:19,166 - INFO - Wrote summary at step 846\n"
     ]
    },
    {
     "name": "stdout",
     "output_type": "stream",
     "text": [
      "After input to cuda: 452.591616 MB\n",
      "\bAfter single dvec to cuda: 423.461376 MB\n",
      "\bAfter single dvec to cuda: 432.1664 MB\n",
      "\bAfter single dvec to cuda: 434.082304 MB\n",
      "\bAfter single dvec to cuda: 442.24256 MB\n",
      "After dvec to cuda: 442.246656 MB\n",
      "After forward to cuda: 4341.771264 MB\n",
      "After input to cuda: 441.91744 MB\n",
      "\bAfter single dvec to cuda: 423.479808 MB\n",
      "\bAfter single dvec to cuda: 433.76384 MB\n",
      "\bAfter single dvec to cuda: 444.094976 MB\n",
      "\bAfter single dvec to cuda: 453.615104 MB\n",
      "After dvec to cuda: 453.6192 MB\n",
      "After forward to cuda: 4353.425408 MB\n"
     ]
    },
    {
     "name": "stderr",
     "output_type": "stream",
     "text": [
      "2021-11-24 17:10:19,873 - INFO - Wrote summary at step 847\n"
     ]
    },
    {
     "name": "stdout",
     "output_type": "stream",
     "text": [
      "After input to cuda: 453.9008 MB\n",
      "\bAfter single dvec to cuda: 423.465984 MB\n",
      "\bAfter single dvec to cuda: 433.527296 MB\n",
      "\bAfter single dvec to cuda: 444.128768 MB\n",
      "\bAfter single dvec to cuda: 455.80032 MB\n",
      "After dvec to cuda: 455.804416 MB\n",
      "After forward to cuda: 4355.649536 MB\n",
      "After input to cuda: 455.838208 MB\n",
      "\bAfter single dvec to cuda: 423.499264 MB\n",
      "\bAfter single dvec to cuda: 431.659008 MB\n",
      "\bAfter single dvec to cuda: 436.289536 MB\n",
      "\bAfter single dvec to cuda: 446.353408 MB\n",
      "After dvec to cuda: 446.357504 MB\n",
      "After forward to cuda: 4347.43296 MB\n"
     ]
    },
    {
     "name": "stderr",
     "output_type": "stream",
     "text": [
      "2021-11-24 17:10:20,601 - INFO - Wrote summary at step 848\n"
     ]
    },
    {
     "name": "stdout",
     "output_type": "stream",
     "text": [
      "After input to cuda: 447.655424 MB\n",
      "\bAfter single dvec to cuda: 422.376448 MB\n",
      "\bAfter single dvec to cuda: 431.079936 MB\n",
      "\bAfter single dvec to cuda: 441.141248 MB\n",
      "\bAfter single dvec to cuda: 448.759296 MB\n",
      "After dvec to cuda: 448.763392 MB\n",
      "After forward to cuda: 4348.100096 MB\n",
      "After input to cuda: 447.15008 MB\n",
      "\bAfter single dvec to cuda: 423.20896 MB\n",
      "\bAfter single dvec to cuda: 434.354688 MB\n",
      "\bAfter single dvec to cuda: 445.230592 MB\n",
      "\bAfter single dvec to cuda: 455.188992 MB\n",
      "After dvec to cuda: 455.193088 MB\n",
      "After forward to cuda: 4355.324928 MB\n"
     ]
    },
    {
     "name": "stderr",
     "output_type": "stream",
     "text": [
      "2021-11-24 17:10:21,310 - INFO - Wrote summary at step 849\n"
     ]
    },
    {
     "name": "stdout",
     "output_type": "stream",
     "text": [
      "After input to cuda: 455.116288 MB\n",
      "\bAfter single dvec to cuda: 422.76096 MB\n",
      "\bAfter single dvec to cuda: 433.069056 MB\n",
      "\bAfter single dvec to cuda: 441.772032 MB\n",
      "\bAfter single dvec to cuda: 452.372992 MB\n",
      "After dvec to cuda: 452.377088 MB\n",
      "After forward to cuda: 4352.956416 MB\n",
      "After input to cuda: 453.05088 MB\n",
      "\bAfter single dvec to cuda: 423.72608 MB\n",
      "\bAfter single dvec to cuda: 434.253312 MB\n",
      "\bAfter single dvec to cuda: 442.9568 MB\n",
      "\bAfter single dvec to cuda: 453.292544 MB\n",
      "After dvec to cuda: 453.29664 MB\n",
      "After forward to cuda: 4353.666048 MB\n"
     ]
    },
    {
     "name": "stderr",
     "output_type": "stream",
     "text": [
      "2021-11-24 17:10:22,039 - INFO - Wrote summary at step 850\n"
     ]
    },
    {
     "name": "stdout",
     "output_type": "stream",
     "text": [
      "After input to cuda: 453.29664 MB\n",
      "\bAfter single dvec to cuda: 416.2048 MB\n",
      "\bAfter single dvec to cuda: 426.806784 MB\n",
      "\bAfter single dvec to cuda: 437.113344 MB\n",
      "\bAfter single dvec to cuda: 439.026688 MB\n",
      "After dvec to cuda: 439.030784 MB\n",
      "After forward to cuda: 4338.920448 MB\n",
      "After input to cuda: 438.433792 MB\n",
      "\bAfter single dvec to cuda: 421.577728 MB\n",
      "\bAfter single dvec to cuda: 428.104704 MB\n",
      "\bAfter single dvec to cuda: 438.435328 MB\n",
      "\bAfter single dvec to cuda: 444.153856 MB\n",
      "After dvec to cuda: 444.157952 MB\n",
      "After forward to cuda: 4344.66048 MB\n"
     ]
    },
    {
     "name": "stderr",
     "output_type": "stream",
     "text": [
      "2021-11-24 17:10:22,743 - INFO - Wrote summary at step 851\n"
     ]
    },
    {
     "name": "stdout",
     "output_type": "stream",
     "text": [
      "After input to cuda: 444.157952 MB\n",
      "\bAfter single dvec to cuda: 423.104512 MB\n",
      "\bAfter single dvec to cuda: 431.537664 MB\n",
      "\bAfter single dvec to cuda: 435.620352 MB\n",
      "\bAfter single dvec to cuda: 445.40928 MB\n",
      "After dvec to cuda: 445.413376 MB\n",
      "After forward to cuda: 4345.511424 MB\n",
      "After input to cuda: 445.413376 MB\n",
      "\bAfter single dvec to cuda: 423.754752 MB\n",
      "\bAfter single dvec to cuda: 432.162304 MB\n",
      "\bAfter single dvec to cuda: 441.133568 MB\n",
      "\bAfter single dvec to cuda: 449.562624 MB\n",
      "After dvec to cuda: 449.56672 MB\n",
      "After forward to cuda: 4350.29248 MB\n"
     ]
    },
    {
     "name": "stderr",
     "output_type": "stream",
     "text": [
      "2021-11-24 17:10:23,450 - INFO - Wrote summary at step 852\n"
     ]
    },
    {
     "name": "stdout",
     "output_type": "stream",
     "text": [
      "After input to cuda: 450.194432 MB\n",
      "\bAfter single dvec to cuda: 423.41376 MB\n",
      "\bAfter single dvec to cuda: 432.387072 MB\n",
      "\bAfter single dvec to cuda: 443.05152 MB\n",
      "\bAfter single dvec to cuda: 451.757056 MB\n",
      "After dvec to cuda: 451.761152 MB\n",
      "After forward to cuda: 4352.161792 MB\n",
      "After input to cuda: 451.13344 MB\n",
      "\bAfter single dvec to cuda: 419.408384 MB\n",
      "\bAfter single dvec to cuda: 427.570688 MB\n",
      "\bAfter single dvec to cuda: 437.802496 MB\n",
      "\bAfter single dvec to cuda: 444.601856 MB\n",
      "After dvec to cuda: 444.605952 MB\n",
      "After forward to cuda: 4345.862656 MB\n"
     ]
    },
    {
     "name": "stderr",
     "output_type": "stream",
     "text": [
      "2021-11-24 17:10:24,158 - INFO - Wrote summary at step 853\n"
     ]
    },
    {
     "name": "stdout",
     "output_type": "stream",
     "text": [
      "After input to cuda: 444.605952 MB\n",
      "\bAfter single dvec to cuda: 423.106048 MB\n",
      "\bAfter single dvec to cuda: 431.264768 MB\n",
      "\bAfter single dvec to cuda: 434.537984 MB\n",
      "\bAfter single dvec to cuda: 442.152448 MB\n",
      "After dvec to cuda: 442.156544 MB\n",
      "After forward to cuda: 4343.463936 MB\n",
      "After input to cuda: 443.019776 MB\n",
      "\bAfter single dvec to cuda: 422.71744 MB\n",
      "\bAfter single dvec to cuda: 433.047552 MB\n",
      "\bAfter single dvec to cuda: 442.56512 MB\n",
      "\bAfter single dvec to cuda: 451.812864 MB\n",
      "After dvec to cuda: 451.81696 MB\n",
      "After forward to cuda: 4352.093184 MB\n"
     ]
    },
    {
     "name": "stderr",
     "output_type": "stream",
     "text": [
      "2021-11-24 17:10:24,877 - INFO - Wrote summary at step 854\n"
     ]
    },
    {
     "name": "stdout",
     "output_type": "stream",
     "text": [
      "After input to cuda: 452.000256 MB\n",
      "\bAfter single dvec to cuda: 424.179712 MB\n",
      "\bAfter single dvec to cuda: 434.511872 MB\n",
      "\bAfter single dvec to cuda: 442.398208 MB\n",
      "\bAfter single dvec to cuda: 450.559488 MB\n",
      "After dvec to cuda: 450.563584 MB\n",
      "After forward to cuda: 4349.939712 MB\n",
      "After input to cuda: 450.443776 MB\n",
      "\bAfter single dvec to cuda: 424.082944 MB\n",
      "\bAfter single dvec to cuda: 426.269184 MB\n",
      "\bAfter single dvec to cuda: 434.429952 MB\n",
      "\bAfter single dvec to cuda: 444.66176 MB\n",
      "After dvec to cuda: 444.665856 MB\n",
      "After forward to cuda: 4343.869952 MB\n"
     ]
    },
    {
     "name": "stderr",
     "output_type": "stream",
     "text": [
      "2021-11-24 17:10:25,582 - INFO - Wrote summary at step 855\n"
     ]
    },
    {
     "name": "stdout",
     "output_type": "stream",
     "text": [
      "After input to cuda: 444.345344 MB\n",
      "\bAfter single dvec to cuda: 423.764992 MB\n",
      "\bAfter single dvec to cuda: 434.367488 MB\n",
      "\bAfter single dvec to cuda: 442.52672 MB\n",
      "\bAfter single dvec to cuda: 450.958848 MB\n",
      "After dvec to cuda: 450.962944 MB\n",
      "After forward to cuda: 4351.251456 MB\n",
      "After input to cuda: 451.149312 MB\n",
      "\bAfter single dvec to cuda: 424.0 MB\n",
      "\bAfter single dvec to cuda: 432.976896 MB\n",
      "\bAfter single dvec to cuda: 441.682944 MB\n",
      "\bAfter single dvec to cuda: 451.74528 MB\n",
      "After dvec to cuda: 451.749376 MB\n",
      "After forward to cuda: 4350.980608 MB\n"
     ]
    },
    {
     "name": "stderr",
     "output_type": "stream",
     "text": [
      "2021-11-24 17:10:26,292 - INFO - Wrote summary at step 856\n"
     ]
    },
    {
     "name": "stdout",
     "output_type": "stream",
     "text": [
      "After input to cuda: 451.317248 MB\n",
      "\bAfter single dvec to cuda: 423.465984 MB\n",
      "\bAfter single dvec to cuda: 432.713728 MB\n",
      "\bAfter single dvec to cuda: 440.601088 MB\n",
      "\bAfter single dvec to cuda: 450.38848 MB\n",
      "After dvec to cuda: 450.392576 MB\n",
      "After forward to cuda: 4349.917184 MB\n",
      "After input to cuda: 450.032128 MB\n",
      "\bAfter single dvec to cuda: 423.135232 MB\n",
      "\bAfter single dvec to cuda: 426.136576 MB\n",
      "\bAfter single dvec to cuda: 427.617792 MB\n",
      "\bAfter single dvec to cuda: 434.691584 MB\n",
      "After dvec to cuda: 434.69568 MB\n",
      "After forward to cuda: 4335.248384 MB\n"
     ]
    },
    {
     "name": "stderr",
     "output_type": "stream",
     "text": [
      "2021-11-24 17:10:26,998 - INFO - Wrote summary at step 857\n"
     ]
    },
    {
     "name": "stdout",
     "output_type": "stream",
     "text": [
      "After input to cuda: 435.250688 MB\n",
      "\bAfter single dvec to cuda: 421.31968 MB\n",
      "\bAfter single dvec to cuda: 430.021632 MB\n",
      "\bAfter single dvec to cuda: 434.925056 MB\n",
      "\bAfter single dvec to cuda: 444.171776 MB\n",
      "After dvec to cuda: 444.175872 MB\n",
      "After forward to cuda: 4344.662016 MB\n",
      "After input to cuda: 444.217856 MB\n",
      "\bAfter single dvec to cuda: 421.903872 MB\n",
      "\bAfter single dvec to cuda: 432.508928 MB\n",
      "\bAfter single dvec to cuda: 442.569216 MB\n",
      "\bAfter single dvec to cuda: 452.086272 MB\n",
      "After dvec to cuda: 452.090368 MB\n",
      "After forward to cuda: 4351.779328 MB\n"
     ]
    },
    {
     "name": "stderr",
     "output_type": "stream",
     "text": [
      "2021-11-24 17:10:27,706 - INFO - Wrote summary at step 858\n"
     ]
    },
    {
     "name": "stdout",
     "output_type": "stream",
     "text": [
      "After input to cuda: 451.808768 MB\n",
      "\bAfter single dvec to cuda: 416.191488 MB\n",
      "\bAfter single dvec to cuda: 423.53664 MB\n",
      "\bAfter single dvec to cuda: 433.870848 MB\n",
      "\bAfter single dvec to cuda: 443.66336 MB\n",
      "After dvec to cuda: 443.667456 MB\n",
      "After forward to cuda: 4344.713216 MB\n",
      "After input to cuda: 444.901888 MB\n",
      "\bAfter single dvec to cuda: 424.734208 MB\n",
      "\bAfter single dvec to cuda: 432.35072 MB\n",
      "\bAfter single dvec to cuda: 441.328128 MB\n",
      "\bAfter single dvec to cuda: 450.576896 MB\n",
      "After dvec to cuda: 450.580992 MB\n",
      "After forward to cuda: 4349.344256 MB\n"
     ]
    },
    {
     "name": "stderr",
     "output_type": "stream",
     "text": [
      "2021-11-24 17:10:28,413 - INFO - Wrote summary at step 859\n"
     ]
    },
    {
     "name": "stdout",
     "output_type": "stream",
     "text": [
      "After input to cuda: 449.34656 MB\n",
      "\bAfter single dvec to cuda: 423.476736 MB\n",
      "\bAfter single dvec to cuda: 433.806848 MB\n",
      "\bAfter single dvec to cuda: 442.24 MB\n",
      "\bAfter single dvec to cuda: 451.757056 MB\n",
      "After dvec to cuda: 451.761152 MB\n",
      "After forward to cuda: 4351.617536 MB\n",
      "After input to cuda: 451.761152 MB\n",
      "\bAfter single dvec to cuda: 414.289408 MB\n",
      "\bAfter single dvec to cuda: 424.520704 MB\n",
      "\bAfter single dvec to cuda: 434.852864 MB\n",
      "\bAfter single dvec to cuda: 437.5808 MB\n",
      "After dvec to cuda: 437.584896 MB\n",
      "After forward to cuda: 4338.66496 MB\n"
     ]
    },
    {
     "name": "stderr",
     "output_type": "stream",
     "text": [
      "2021-11-24 17:10:29,119 - INFO - Wrote summary at step 860\n"
     ]
    },
    {
     "name": "stdout",
     "output_type": "stream",
     "text": [
      "After input to cuda: 437.269504 MB\n",
      "\bAfter single dvec to cuda: 423.16032 MB\n",
      "\bAfter single dvec to cuda: 431.376896 MB\n",
      "\bAfter single dvec to cuda: 441.165824 MB\n",
      "\bAfter single dvec to cuda: 451.2256 MB\n",
      "After dvec to cuda: 451.229696 MB\n",
      "After forward to cuda: 4351.643136 MB\n",
      "After input to cuda: 451.550208 MB\n",
      "\bAfter single dvec to cuda: 423.455232 MB\n",
      "\bAfter single dvec to cuda: 432.97536 MB\n",
      "\bAfter single dvec to cuda: 439.50848 MB\n",
      "\bAfter single dvec to cuda: 448.210432 MB\n",
      "After dvec to cuda: 448.214528 MB\n",
      "After forward to cuda: 4348.838912 MB\n"
     ]
    },
    {
     "name": "stderr",
     "output_type": "stream",
     "text": [
      "2021-11-24 17:10:29,825 - INFO - Wrote summary at step 861\n"
     ]
    },
    {
     "name": "stdout",
     "output_type": "stream",
     "text": [
      "After input to cuda: 448.745984 MB\n",
      "\bAfter single dvec to cuda: 422.703616 MB\n",
      "\bAfter single dvec to cuda: 431.948288 MB\n",
      "\bAfter single dvec to cuda: 442.822656 MB\n",
      "\bAfter single dvec to cuda: 449.840128 MB\n",
      "After dvec to cuda: 449.844224 MB\n",
      "After forward to cuda: 4348.803584 MB\n",
      "After input to cuda: 448.992256 MB\n",
      "\bAfter single dvec to cuda: 418.32192 MB\n",
      "\bAfter single dvec to cuda: 428.629504 MB\n",
      "\bAfter single dvec to cuda: 434.88512 MB\n",
      "\bAfter single dvec to cuda: 444.94592 MB\n",
      "After dvec to cuda: 444.950016 MB\n",
      "After forward to cuda: 4344.474624 MB\n"
     ]
    },
    {
     "name": "stderr",
     "output_type": "stream",
     "text": [
      "2021-11-24 17:10:30,554 - INFO - Wrote summary at step 862\n"
     ]
    },
    {
     "name": "stdout",
     "output_type": "stream",
     "text": [
      "After input to cuda: 444.950016 MB\n",
      "\bAfter single dvec to cuda: 423.479296 MB\n",
      "\bAfter single dvec to cuda: 427.835904 MB\n",
      "\bAfter single dvec to cuda: 436.80768 MB\n",
      "\bAfter single dvec to cuda: 443.611648 MB\n",
      "After dvec to cuda: 443.615744 MB\n",
      "After forward to cuda: 4344.053248 MB\n",
      "After input to cuda: 443.615744 MB\n",
      "\bAfter single dvec to cuda: 423.10656 MB\n",
      "\bAfter single dvec to cuda: 431.806464 MB\n",
      "\bAfter single dvec to cuda: 441.593856 MB\n",
      "\bAfter single dvec to cuda: 451.923456 MB\n",
      "After dvec to cuda: 451.927552 MB\n",
      "After forward to cuda: 4352.02048 MB\n"
     ]
    },
    {
     "name": "stderr",
     "output_type": "stream",
     "text": [
      "2021-11-24 17:10:31,261 - INFO - Wrote summary at step 863\n"
     ]
    },
    {
     "name": "stdout",
     "output_type": "stream",
     "text": [
      "After input to cuda: 452.524544 MB\n",
      "\bAfter single dvec to cuda: 423.777792 MB\n",
      "\bAfter single dvec to cuda: 433.567744 MB\n",
      "\bAfter single dvec to cuda: 443.085312 MB\n",
      "\bAfter single dvec to cuda: 450.702848 MB\n",
      "After dvec to cuda: 450.706944 MB\n",
      "After forward to cuda: 4349.983744 MB\n",
      "After input to cuda: 450.430464 MB\n",
      "\bAfter single dvec to cuda: 423.480832 MB\n",
      "\bAfter single dvec to cuda: 432.454144 MB\n",
      "\bAfter single dvec to cuda: 443.329536 MB\n",
      "\bAfter single dvec to cuda: 453.392384 MB\n",
      "After dvec to cuda: 453.39648 MB\n",
      "After forward to cuda: 4352.921088 MB\n"
     ]
    },
    {
     "name": "stderr",
     "output_type": "stream",
     "text": [
      "2021-11-24 17:10:31,969 - INFO - Wrote summary at step 864\n"
     ]
    },
    {
     "name": "stdout",
     "output_type": "stream",
     "text": [
      "After input to cuda: 453.39648 MB\n",
      "\bAfter single dvec to cuda: 417.060864 MB\n",
      "\bAfter single dvec to cuda: 427.316736 MB\n",
      "\bAfter single dvec to cuda: 435.473408 MB\n",
      "\bAfter single dvec to cuda: 437.658112 MB\n",
      "After dvec to cuda: 437.662208 MB\n",
      "After forward to cuda: 4338.115072 MB\n",
      "After input to cuda: 437.341696 MB\n",
      "\bAfter single dvec to cuda: 416.388608 MB\n",
      "\bAfter single dvec to cuda: 426.642944 MB\n",
      "\bAfter single dvec to cuda: 430.40768 MB\n",
      "\bAfter single dvec to cuda: 437.753856 MB\n",
      "After dvec to cuda: 437.757952 MB\n",
      "After forward to cuda: 4339.480064 MB\n"
     ]
    },
    {
     "name": "stderr",
     "output_type": "stream",
     "text": [
      "2021-11-24 17:10:32,672 - INFO - Wrote summary at step 865\n"
     ]
    },
    {
     "name": "stdout",
     "output_type": "stream",
     "text": [
      "After input to cuda: 437.757952 MB\n",
      "\bAfter single dvec to cuda: 423.156224 MB\n",
      "\bAfter single dvec to cuda: 425.068032 MB\n",
      "\bAfter single dvec to cuda: 432.956928 MB\n",
      "\bAfter single dvec to cuda: 441.657344 MB\n",
      "After dvec to cuda: 441.66144 MB\n",
      "After forward to cuda: 4341.94176 MB\n",
      "After input to cuda: 441.58464 MB\n",
      "\bAfter single dvec to cuda: 423.08352 MB\n",
      "\bAfter single dvec to cuda: 431.78496 MB\n",
      "\bAfter single dvec to cuda: 441.847808 MB\n",
      "\bAfter single dvec to cuda: 449.462272 MB\n",
      "After dvec to cuda: 449.466368 MB\n",
      "After forward to cuda: 4349.813248 MB\n"
     ]
    },
    {
     "name": "stderr",
     "output_type": "stream",
     "text": [
      "2021-11-24 17:10:33,387 - INFO - Wrote summary at step 866\n"
     ]
    },
    {
     "name": "stdout",
     "output_type": "stream",
     "text": [
      "After input to cuda: 450.317312 MB\n",
      "\bAfter single dvec to cuda: 423.908864 MB\n",
      "\bAfter single dvec to cuda: 428.265984 MB\n",
      "\bAfter single dvec to cuda: 435.613696 MB\n",
      "\bAfter single dvec to cuda: 445.945856 MB\n",
      "After dvec to cuda: 445.949952 MB\n",
      "After forward to cuda: 4344.700416 MB\n",
      "After input to cuda: 445.175808 MB\n",
      "\bAfter single dvec to cuda: 423.18336 MB\n",
      "\bAfter single dvec to cuda: 431.341568 MB\n",
      "\bAfter single dvec to cuda: 440.316416 MB\n",
      "\bAfter single dvec to cuda: 447.936 MB\n",
      "After dvec to cuda: 447.940096 MB\n",
      "After forward to cuda: 4349.230592 MB\n"
     ]
    },
    {
     "name": "stderr",
     "output_type": "stream",
     "text": [
      "2021-11-24 17:10:34,095 - INFO - Wrote summary at step 867\n"
     ]
    },
    {
     "name": "stdout",
     "output_type": "stream",
     "text": [
      "After input to cuda: 447.940096 MB\n",
      "\bAfter single dvec to cuda: 419.923968 MB\n",
      "\bAfter single dvec to cuda: 428.35712 MB\n",
      "\bAfter single dvec to cuda: 436.645888 MB\n",
      "\bAfter single dvec to cuda: 445.349888 MB\n",
      "After dvec to cuda: 445.353984 MB\n",
      "After forward to cuda: 4346.130432 MB\n",
      "After input to cuda: 445.353984 MB\n",
      "\bAfter single dvec to cuda: 415.061504 MB\n",
      "\bAfter single dvec to cuda: 423.764992 MB\n",
      "\bAfter single dvec to cuda: 426.76224 MB\n",
      "\bAfter single dvec to cuda: 435.736064 MB\n",
      "After dvec to cuda: 435.74016 MB\n",
      "After forward to cuda: 4336.024576 MB\n"
     ]
    },
    {
     "name": "stderr",
     "output_type": "stream",
     "text": [
      "2021-11-24 17:10:34,799 - INFO - Wrote summary at step 868\n"
     ]
    },
    {
     "name": "stdout",
     "output_type": "stream",
     "text": [
      "After input to cuda: 436.52864 MB\n",
      "\bAfter single dvec to cuda: 423.97184 MB\n",
      "\bAfter single dvec to cuda: 432.675328 MB\n",
      "\bAfter single dvec to cuda: 440.561152 MB\n",
      "\bAfter single dvec to cuda: 449.263104 MB\n",
      "After dvec to cuda: 449.2672 MB\n",
      "After forward to cuda: 4348.791808 MB\n",
      "After input to cuda: 448.47872 MB\n",
      "\bAfter single dvec to cuda: 423.155712 MB\n",
      "\bAfter single dvec to cuda: 432.946688 MB\n",
      "\bAfter single dvec to cuda: 443.549696 MB\n",
      "\bAfter single dvec to cuda: 451.439104 MB\n",
      "After dvec to cuda: 451.4432 MB\n",
      "After forward to cuda: 4351.9744 MB\n"
     ]
    },
    {
     "name": "stderr",
     "output_type": "stream",
     "text": [
      "2021-11-24 17:10:35,519 - INFO - Wrote summary at step 869\n"
     ]
    },
    {
     "name": "stdout",
     "output_type": "stream",
     "text": [
      "After input to cuda: 452.040192 MB\n",
      "\bAfter single dvec to cuda: 424.349184 MB\n",
      "\bAfter single dvec to cuda: 434.581504 MB\n",
      "\bAfter single dvec to cuda: 445.18656 MB\n",
      "\bAfter single dvec to cuda: 453.891584 MB\n",
      "After dvec to cuda: 453.89568 MB\n",
      "After forward to cuda: 4353.773568 MB\n",
      "After input to cuda: 453.89568 MB\n",
      "\bAfter single dvec to cuda: 418.914816 MB\n",
      "\bAfter single dvec to cuda: 429.248 MB\n",
      "\bAfter single dvec to cuda: 439.308288 MB\n",
      "\bAfter single dvec to cuda: 449.369088 MB\n",
      "After dvec to cuda: 449.373184 MB\n",
      "After forward to cuda: 4349.062144 MB\n"
     ]
    },
    {
     "name": "stderr",
     "output_type": "stream",
     "text": [
      "2021-11-24 17:10:36,227 - INFO - Wrote summary at step 870\n"
     ]
    },
    {
     "name": "stdout",
     "output_type": "stream",
     "text": [
      "After input to cuda: 449.537536 MB\n",
      "\bAfter single dvec to cuda: 422.616064 MB\n",
      "\bAfter single dvec to cuda: 426.452992 MB\n",
      "\bAfter single dvec to cuda: 434.340352 MB\n",
      "\bAfter single dvec to cuda: 441.68704 MB\n",
      "After dvec to cuda: 441.691136 MB\n",
      "After forward to cuda: 4341.091328 MB\n",
      "After input to cuda: 440.929792 MB\n",
      "\bAfter single dvec to cuda: 423.108096 MB\n",
      "\bAfter single dvec to cuda: 430.724608 MB\n",
      "\bAfter single dvec to cuda: 439.425536 MB\n",
      "\bAfter single dvec to cuda: 447.316992 MB\n",
      "After dvec to cuda: 447.321088 MB\n",
      "After forward to cuda: 4347.734528 MB\n"
     ]
    },
    {
     "name": "stderr",
     "output_type": "stream",
     "text": [
      "2021-11-24 17:10:36,933 - INFO - Wrote summary at step 871\n"
     ]
    },
    {
     "name": "stdout",
     "output_type": "stream",
     "text": [
      "After input to cuda: 447.321088 MB\n",
      "\bAfter single dvec to cuda: 423.21152 MB\n",
      "\bAfter single dvec to cuda: 433.003008 MB\n",
      "\bAfter single dvec to cuda: 443.336192 MB\n",
      "\bAfter single dvec to cuda: 453.666304 MB\n",
      "After dvec to cuda: 453.6704 MB\n",
      "After forward to cuda: 4353.876992 MB\n",
      "After input to cuda: 454.381056 MB\n",
      "\bAfter single dvec to cuda: 419.58144 MB\n",
      "\bAfter single dvec to cuda: 430.187008 MB\n",
      "\bAfter single dvec to cuda: 439.952384 MB\n",
      "\bAfter single dvec to cuda: 450.18112 MB\n",
      "After dvec to cuda: 450.185216 MB\n",
      "After forward to cuda: 4349.02784 MB\n"
     ]
    },
    {
     "name": "stderr",
     "output_type": "stream",
     "text": [
      "2021-11-24 17:10:37,641 - INFO - Wrote summary at step 872\n"
     ]
    },
    {
     "name": "stdout",
     "output_type": "stream",
     "text": [
      "After input to cuda: 449.47456 MB\n",
      "\bAfter single dvec to cuda: 423.186944 MB\n",
      "\bAfter single dvec to cuda: 425.370624 MB\n",
      "\bAfter single dvec to cuda: 434.73152 MB\n",
      "\bAfter single dvec to cuda: 441.746944 MB\n",
      "After dvec to cuda: 441.75104 MB\n",
      "After forward to cuda: 4341.275648 MB\n",
      "After input to cuda: 441.75104 MB\n",
      "\bAfter single dvec to cuda: 423.133184 MB\n",
      "\bAfter single dvec to cuda: 432.6528 MB\n",
      "\bAfter single dvec to cuda: 442.173952 MB\n",
      "\bAfter single dvec to cuda: 451.147264 MB\n",
      "After dvec to cuda: 451.15136 MB\n",
      "After forward to cuda: 4351.364096 MB\n"
     ]
    },
    {
     "name": "stderr",
     "output_type": "stream",
     "text": [
      "2021-11-24 17:10:38,347 - INFO - Wrote summary at step 873\n"
     ]
    },
    {
     "name": "stdout",
     "output_type": "stream",
     "text": [
      "After input to cuda: 451.86816 MB\n",
      "\bAfter single dvec to cuda: 423.506432 MB\n",
      "\bAfter single dvec to cuda: 433.786368 MB\n",
      "\bAfter single dvec to cuda: 443.577344 MB\n",
      "\bAfter single dvec to cuda: 452.74368 MB\n",
      "After dvec to cuda: 452.747776 MB\n",
      "After forward to cuda: 4352.431616 MB\n",
      "After input to cuda: 452.907008 MB\n",
      "\bAfter single dvec to cuda: 420.717056 MB\n",
      "\bAfter single dvec to cuda: 429.147648 MB\n",
      "\bAfter single dvec to cuda: 439.754752 MB\n",
      "\bAfter single dvec to cuda: 448.183808 MB\n",
      "After dvec to cuda: 448.187904 MB\n",
      "After forward to cuda: 4346.951168 MB\n"
     ]
    },
    {
     "name": "stderr",
     "output_type": "stream",
     "text": [
      "2021-11-24 17:10:39,055 - INFO - Wrote summary at step 874\n"
     ]
    },
    {
     "name": "stdout",
     "output_type": "stream",
     "text": [
      "After input to cuda: 447.42656 MB\n",
      "\bAfter single dvec to cuda: 417.890304 MB\n",
      "\bAfter single dvec to cuda: 428.198912 MB\n",
      "\bAfter single dvec to cuda: 433.09824 MB\n",
      "\bAfter single dvec to cuda: 441.804288 MB\n",
      "After dvec to cuda: 441.808384 MB\n",
      "After forward to cuda: 4341.619712 MB\n",
      "After input to cuda: 441.693696 MB\n",
      "\bAfter single dvec to cuda: 421.581824 MB\n",
      "\bAfter single dvec to cuda: 423.766528 MB\n",
      "\bAfter single dvec to cuda: 432.472064 MB\n",
      "\bAfter single dvec to cuda: 441.719808 MB\n",
      "After dvec to cuda: 441.723904 MB\n",
      "After forward to cuda: 4342.22592 MB\n"
     ]
    },
    {
     "name": "stderr",
     "output_type": "stream",
     "text": [
      "2021-11-24 17:10:39,762 - INFO - Wrote summary at step 875\n"
     ]
    },
    {
     "name": "stdout",
     "output_type": "stream",
     "text": [
      "After input to cuda: 441.723904 MB\n",
      "\bAfter single dvec to cuda: 419.951104 MB\n",
      "\bAfter single dvec to cuda: 427.022848 MB\n",
      "\bAfter single dvec to cuda: 434.371072 MB\n",
      "\bAfter single dvec to cuda: 443.615232 MB\n",
      "After dvec to cuda: 443.619328 MB\n",
      "After forward to cuda: 4344.236032 MB\n",
      "After input to cuda: 443.6736 MB\n",
      "\bAfter single dvec to cuda: 422.719488 MB\n",
      "\bAfter single dvec to cuda: 432.782336 MB\n",
      "\bAfter single dvec to cuda: 442.573312 MB\n",
      "\bAfter single dvec to cuda: 452.903424 MB\n",
      "After dvec to cuda: 452.90752 MB\n",
      "After forward to cuda: 4353.610752 MB\n"
     ]
    },
    {
     "name": "stderr",
     "output_type": "stream",
     "text": [
      "2021-11-24 17:10:40,494 - INFO - Wrote summary at step 876\n"
     ]
    },
    {
     "name": "stdout",
     "output_type": "stream",
     "text": [
      "After input to cuda: 452.853248 MB\n",
      "\bAfter single dvec to cuda: 424.296448 MB\n",
      "\bAfter single dvec to cuda: 434.523136 MB\n",
      "\bAfter single dvec to cuda: 444.752896 MB\n",
      "\bAfter single dvec to cuda: 449.106944 MB\n",
      "After dvec to cuda: 449.11104 MB\n",
      "After forward to cuda: 4349.583872 MB\n",
      "After input to cuda: 449.11104 MB\n",
      "\bAfter single dvec to cuda: 419.91936 MB\n",
      "\bAfter single dvec to cuda: 428.89216 MB\n",
      "\bAfter single dvec to cuda: 439.146496 MB\n",
      "\bAfter single dvec to cuda: 448.395776 MB\n",
      "After dvec to cuda: 448.399872 MB\n",
      "After forward to cuda: 4347.954176 MB\n"
     ]
    },
    {
     "name": "stderr",
     "output_type": "stream",
     "text": [
      "2021-11-24 17:10:41,218 - INFO - Wrote summary at step 877\n"
     ]
    },
    {
     "name": "stdout",
     "output_type": "stream",
     "text": [
      "After input to cuda: 448.399872 MB\n",
      "\bAfter single dvec to cuda: 422.094848 MB\n",
      "\bAfter single dvec to cuda: 432.323584 MB\n",
      "\bAfter single dvec to cuda: 441.025024 MB\n",
      "\bAfter single dvec to cuda: 449.457664 MB\n",
      "After dvec to cuda: 449.46176 MB\n",
      "After forward to cuda: 4349.842432 MB\n",
      "After input to cuda: 449.46176 MB\n",
      "\bAfter single dvec to cuda: 420.764672 MB\n",
      "\bAfter single dvec to cuda: 428.923392 MB\n",
      "\bAfter single dvec to cuda: 439.801856 MB\n",
      "\bAfter single dvec to cuda: 449.861632 MB\n",
      "After dvec to cuda: 449.865728 MB\n",
      "After forward to cuda: 4349.390336 MB\n"
     ]
    },
    {
     "name": "stderr",
     "output_type": "stream",
     "text": [
      "2021-11-24 17:10:41,926 - INFO - Wrote summary at step 878\n"
     ]
    },
    {
     "name": "stdout",
     "output_type": "stream",
     "text": [
      "After input to cuda: 449.865728 MB\n",
      "\bAfter single dvec to cuda: 423.185408 MB\n",
      "\bAfter single dvec to cuda: 434.44224 MB\n",
      "\bAfter single dvec to cuda: 443.95776 MB\n",
      "\bAfter single dvec to cuda: 452.531712 MB\n",
      "After dvec to cuda: 452.535808 MB\n",
      "After forward to cuda: 4352.342016 MB\n",
      "After input to cuda: 452.535808 MB\n",
      "\bAfter single dvec to cuda: 422.76352 MB\n",
      "\bAfter single dvec to cuda: 431.740416 MB\n",
      "\bAfter single dvec to cuda: 440.716288 MB\n",
      "\bAfter single dvec to cuda: 449.692672 MB\n",
      "After dvec to cuda: 449.696768 MB\n",
      "After forward to cuda: 4350.286336 MB\n"
     ]
    },
    {
     "name": "stderr",
     "output_type": "stream",
     "text": [
      "2021-11-24 17:10:42,635 - INFO - Wrote summary at step 879\n"
     ]
    },
    {
     "name": "stdout",
     "output_type": "stream",
     "text": [
      "After input to cuda: 450.183168 MB\n",
      "\bAfter single dvec to cuda: 423.61856 MB\n",
      "\bAfter single dvec to cuda: 430.689792 MB\n",
      "\bAfter single dvec to cuda: 440.2048 MB\n",
      "\bAfter single dvec to cuda: 450.266624 MB\n",
      "After dvec to cuda: 450.27072 MB\n",
      "After forward to cuda: 4349.80352 MB\n",
      "After input to cuda: 449.792512 MB\n",
      "\bAfter single dvec to cuda: 416.673792 MB\n",
      "\bAfter single dvec to cuda: 427.279872 MB\n",
      "\bAfter single dvec to cuda: 435.169792 MB\n",
      "\bAfter single dvec to cuda: 438.170624 MB\n",
      "After dvec to cuda: 438.17472 MB\n",
      "After forward to cuda: 4338.6496 MB\n"
     ]
    },
    {
     "name": "stderr",
     "output_type": "stream",
     "text": [
      "2021-11-24 17:10:43,341 - INFO - Wrote summary at step 880\n"
     ]
    },
    {
     "name": "stdout",
     "output_type": "stream",
     "text": [
      "After input to cuda: 438.166528 MB\n",
      "\bAfter single dvec to cuda: 421.854208 MB\n",
      "\bAfter single dvec to cuda: 428.926464 MB\n",
      "\bAfter single dvec to cuda: 436.270592 MB\n",
      "\bAfter single dvec to cuda: 444.701184 MB\n",
      "After dvec to cuda: 444.70528 MB\n",
      "After forward to cuda: 4345.207808 MB\n",
      "After input to cuda: 444.70528 MB\n",
      "\bAfter single dvec to cuda: 418.051072 MB\n",
      "\bAfter single dvec to cuda: 428.30336 MB\n",
      "\bAfter single dvec to cuda: 437.008384 MB\n",
      "\bAfter single dvec to cuda: 447.067136 MB\n",
      "After dvec to cuda: 447.071232 MB\n",
      "After forward to cuda: 4347.33824 MB\n"
     ]
    },
    {
     "name": "stderr",
     "output_type": "stream",
     "text": [
      "2021-11-24 17:10:44,047 - INFO - Wrote summary at step 881\n"
     ]
    },
    {
     "name": "stdout",
     "output_type": "stream",
     "text": [
      "After input to cuda: 447.673344 MB\n",
      "\bAfter single dvec to cuda: 423.761408 MB\n",
      "\bAfter single dvec to cuda: 429.203968 MB\n",
      "\bAfter single dvec to cuda: 439.265792 MB\n",
      "\bAfter single dvec to cuda: 448.242176 MB\n",
      "After dvec to cuda: 448.246272 MB\n",
      "After forward to cuda: 4348.016128 MB\n",
      "After input to cuda: 448.520192 MB\n",
      "\bAfter single dvec to cuda: 424.359424 MB\n",
      "\bAfter single dvec to cuda: 430.07232 MB\n",
      "\bAfter single dvec to cuda: 439.047168 MB\n",
      "\bAfter single dvec to cuda: 443.40736 MB\n",
      "After dvec to cuda: 443.411456 MB\n",
      "After forward to cuda: 4342.9376 MB\n"
     ]
    },
    {
     "name": "stderr",
     "output_type": "stream",
     "text": [
      "2021-11-24 17:10:44,753 - INFO - Wrote summary at step 882\n"
     ]
    },
    {
     "name": "stdout",
     "output_type": "stream",
     "text": [
      "After input to cuda: 442.850816 MB\n",
      "\bAfter single dvec to cuda: 423.525376 MB\n",
      "\bAfter single dvec to cuda: 433.040896 MB\n",
      "\bAfter single dvec to cuda: 440.034304 MB\n",
      "\bAfter single dvec to cuda: 450.093568 MB\n",
      "After dvec to cuda: 450.097664 MB\n",
      "After forward to cuda: 4350.383616 MB\n",
      "After input to cuda: 450.543616 MB\n",
      "\bAfter single dvec to cuda: 423.867904 MB\n",
      "\bAfter single dvec to cuda: 433.657856 MB\n",
      "\bAfter single dvec to cuda: 442.0864 MB\n",
      "\bAfter single dvec to cuda: 452.148224 MB\n",
      "After dvec to cuda: 452.15232 MB\n",
      "After forward to cuda: 4351.489024 MB\n"
     ]
    },
    {
     "name": "stderr",
     "output_type": "stream",
     "text": [
      "2021-11-24 17:10:45,463 - INFO - Wrote summary at step 883\n"
     ]
    },
    {
     "name": "stdout",
     "output_type": "stream",
     "text": [
      "After input to cuda: 451.390976 MB\n",
      "\bAfter single dvec to cuda: 421.581312 MB\n",
      "\bAfter single dvec to cuda: 424.579584 MB\n",
      "\bAfter single dvec to cuda: 434.86208 MB\n",
      "\bAfter single dvec to cuda: 445.466112 MB\n",
      "After dvec to cuda: 445.470208 MB\n",
      "After forward to cuda: 4344.994816 MB\n",
      "After input to cuda: 445.470208 MB\n",
      "\bAfter single dvec to cuda: 422.785536 MB\n",
      "\bAfter single dvec to cuda: 433.065472 MB\n",
      "\bAfter single dvec to cuda: 443.396096 MB\n",
      "\bAfter single dvec to cuda: 452.371968 MB\n",
      "After dvec to cuda: 452.376064 MB\n",
      "After forward to cuda: 4351.900672 MB\n"
     ]
    },
    {
     "name": "stderr",
     "output_type": "stream",
     "text": [
      "2021-11-24 17:10:46,171 - INFO - Wrote summary at step 884\n"
     ]
    },
    {
     "name": "stdout",
     "output_type": "stream",
     "text": [
      "After input to cuda: 452.376064 MB\n",
      "\bAfter single dvec to cuda: 420.762624 MB\n",
      "\bAfter single dvec to cuda: 422.947328 MB\n",
      "\bAfter single dvec to cuda: 433.174528 MB\n",
      "\bAfter single dvec to cuda: 441.60768 MB\n",
      "After dvec to cuda: 441.611776 MB\n",
      "After forward to cuda: 4342.084608 MB\n",
      "After input to cuda: 441.611776 MB\n",
      "\bAfter single dvec to cuda: 416.14592 MB\n",
      "\bAfter single dvec to cuda: 424.03584 MB\n",
      "\bAfter single dvec to cuda: 434.641408 MB\n",
      "\bAfter single dvec to cuda: 442.532352 MB\n",
      "After dvec to cuda: 442.536448 MB\n",
      "After forward to cuda: 4342.959104 MB\n"
     ]
    },
    {
     "name": "stderr",
     "output_type": "stream",
     "text": [
      "2021-11-24 17:10:46,874 - INFO - Wrote summary at step 885\n"
     ]
    },
    {
     "name": "stdout",
     "output_type": "stream",
     "text": [
      "After input to cuda: 443.463168 MB\n",
      "\bAfter single dvec to cuda: 422.777856 MB\n",
      "\bAfter single dvec to cuda: 429.822464 MB\n",
      "\bAfter single dvec to cuda: 434.993664 MB\n",
      "\bAfter single dvec to cuda: 436.635648 MB\n",
      "After dvec to cuda: 436.639744 MB\n",
      "After forward to cuda: 4336.062976 MB\n",
      "After input to cuda: 435.960832 MB\n",
      "\bAfter single dvec to cuda: 421.01504 MB\n",
      "\bAfter single dvec to cuda: 430.80704 MB\n",
      "\bAfter single dvec to cuda: 440.324608 MB\n",
      "\bAfter single dvec to cuda: 443.380736 MB\n",
      "After dvec to cuda: 443.384832 MB\n",
      "After forward to cuda: 4343.707648 MB\n"
     ]
    },
    {
     "name": "stderr",
     "output_type": "stream",
     "text": [
      "2021-11-24 17:10:47,579 - INFO - Wrote summary at step 886\n"
     ]
    },
    {
     "name": "stdout",
     "output_type": "stream",
     "text": [
      "After input to cuda: 443.8912 MB\n",
      "\bAfter single dvec to cuda: 423.936 MB\n",
      "\bAfter single dvec to cuda: 432.639488 MB\n",
      "\bAfter single dvec to cuda: 442.697216 MB\n",
      "\bAfter single dvec to cuda: 451.670528 MB\n",
      "After dvec to cuda: 451.674624 MB\n",
      "After forward to cuda: 4351.992832 MB\n",
      "After input to cuda: 451.280896 MB\n",
      "\bAfter single dvec to cuda: 422.214144 MB\n",
      "\bAfter single dvec to cuda: 428.948992 MB\n",
      "\bAfter single dvec to cuda: 438.735872 MB\n",
      "\bAfter single dvec to cuda: 447.686144 MB\n",
      "After dvec to cuda: 447.69024 MB\n",
      "After forward to cuda: 4347.214848 MB\n"
     ]
    },
    {
     "name": "stderr",
     "output_type": "stream",
     "text": [
      "2021-11-24 17:10:48,287 - INFO - Wrote summary at step 887\n"
     ]
    },
    {
     "name": "stdout",
     "output_type": "stream",
     "text": [
      "After input to cuda: 447.69024 MB\n",
      "\bAfter single dvec to cuda: 423.465984 MB\n",
      "\bAfter single dvec to cuda: 433.798144 MB\n",
      "\bAfter single dvec to cuda: 443.586048 MB\n",
      "\bAfter single dvec to cuda: 453.106688 MB\n",
      "After dvec to cuda: 453.110784 MB\n",
      "After forward to cuda: 4354.000896 MB\n",
      "After input to cuda: 453.347328 MB\n",
      "\bAfter single dvec to cuda: 423.777792 MB\n",
      "\bAfter single dvec to cuda: 433.839616 MB\n",
      "\bAfter single dvec to cuda: 444.713984 MB\n",
      "\bAfter single dvec to cuda: 453.146112 MB\n",
      "After dvec to cuda: 453.150208 MB\n",
      "After forward to cuda: 4352.674816 MB\n"
     ]
    },
    {
     "name": "stderr",
     "output_type": "stream",
     "text": [
      "2021-11-24 17:10:48,994 - INFO - Wrote summary at step 888\n"
     ]
    },
    {
     "name": "stdout",
     "output_type": "stream",
     "text": [
      "After input to cuda: 453.150208 MB\n",
      "\bAfter single dvec to cuda: 416.20224 MB\n",
      "\bAfter single dvec to cuda: 424.906752 MB\n",
      "\bAfter single dvec to cuda: 434.697728 MB\n",
      "\bAfter single dvec to cuda: 440.95744 MB\n",
      "After dvec to cuda: 440.961536 MB\n",
      "After forward to cuda: 4340.895744 MB\n",
      "After input to cuda: 440.364544 MB\n",
      "\bAfter single dvec to cuda: 423.479296 MB\n",
      "\bAfter single dvec to cuda: 426.23232 MB\n",
      "\bAfter single dvec to cuda: 436.0192 MB\n",
      "\bAfter single dvec to cuda: 446.271488 MB\n",
      "After dvec to cuda: 446.275584 MB\n",
      "After forward to cuda: 4345.800192 MB\n"
     ]
    },
    {
     "name": "stderr",
     "output_type": "stream",
     "text": [
      "2021-11-24 17:10:49,698 - INFO - Wrote summary at step 889\n"
     ]
    },
    {
     "name": "stdout",
     "output_type": "stream",
     "text": [
      "After input to cuda: 446.275584 MB\n",
      "\bAfter single dvec to cuda: 414.79168 MB\n",
      "\bAfter single dvec to cuda: 422.953472 MB\n",
      "\bAfter single dvec to cuda: 433.25952 MB\n",
      "\bAfter single dvec to cuda: 435.716096 MB\n",
      "After dvec to cuda: 435.720192 MB\n",
      "After forward to cuda: 4335.81312 MB\n",
      "After input to cuda: 436.317184 MB\n",
      "\bAfter single dvec to cuda: 423.704064 MB\n",
      "\bAfter single dvec to cuda: 426.973184 MB\n",
      "\bAfter single dvec to cuda: 437.036544 MB\n",
      "\bAfter single dvec to cuda: 446.281216 MB\n",
      "After dvec to cuda: 446.285312 MB\n",
      "After forward to cuda: 4345.2416 MB\n"
     ]
    },
    {
     "name": "stderr",
     "output_type": "stream",
     "text": [
      "2021-11-24 17:10:50,404 - INFO - Wrote summary at step 890\n"
     ]
    },
    {
     "name": "stdout",
     "output_type": "stream",
     "text": [
      "After input to cuda: 445.68832 MB\n",
      "\bAfter single dvec to cuda: 423.106048 MB\n",
      "\bAfter single dvec to cuda: 433.168384 MB\n",
      "\bAfter single dvec to cuda: 442.955776 MB\n",
      "\bAfter single dvec to cuda: 452.74368 MB\n",
      "After dvec to cuda: 452.747776 MB\n",
      "After forward to cuda: 4353.144832 MB\n",
      "After input to cuda: 453.594624 MB\n",
      "\bAfter single dvec to cuda: 421.070848 MB\n",
      "\bAfter single dvec to cuda: 430.04416 MB\n",
      "\bAfter single dvec to cuda: 439.83616 MB\n",
      "\bAfter single dvec to cuda: 442.838016 MB\n",
      "After dvec to cuda: 442.842112 MB\n",
      "After forward to cuda: 4341.57056 MB\n"
     ]
    },
    {
     "name": "stderr",
     "output_type": "stream",
     "text": [
      "2021-11-24 17:10:51,111 - INFO - Wrote summary at step 891\n"
     ]
    },
    {
     "name": "stdout",
     "output_type": "stream",
     "text": [
      "After input to cuda: 441.995264 MB\n",
      "\bAfter single dvec to cuda: 423.183872 MB\n",
      "\bAfter single dvec to cuda: 431.888384 MB\n",
      "\bAfter single dvec to cuda: 440.862208 MB\n",
      "\bAfter single dvec to cuda: 447.880192 MB\n",
      "After dvec to cuda: 447.884288 MB\n",
      "After forward to cuda: 4348.69248 MB\n",
      "After input to cuda: 447.884288 MB\n",
      "\bAfter single dvec to cuda: 423.184896 MB\n",
      "\bAfter single dvec to cuda: 433.247744 MB\n",
      "\bAfter single dvec to cuda: 443.580416 MB\n",
      "\bAfter single dvec to cuda: 446.851072 MB\n",
      "After dvec to cuda: 446.855168 MB\n",
      "After forward to cuda: 4346.607104 MB\n"
     ]
    },
    {
     "name": "stderr",
     "output_type": "stream",
     "text": [
      "2021-11-24 17:10:51,817 - INFO - Wrote summary at step 892\n"
     ]
    },
    {
     "name": "stdout",
     "output_type": "stream",
     "text": [
      "After input to cuda: 446.855168 MB\n",
      "\bAfter single dvec to cuda: 419.951616 MB\n",
      "\bAfter single dvec to cuda: 427.56608 MB\n",
      "\bAfter single dvec to cuda: 437.845504 MB\n",
      "\bAfter single dvec to cuda: 446.820352 MB\n",
      "After dvec to cuda: 446.824448 MB\n",
      "After forward to cuda: 4346.635776 MB\n",
      "After input to cuda: 446.824448 MB\n",
      "\bAfter single dvec to cuda: 415.060992 MB\n",
      "\bAfter single dvec to cuda: 425.394176 MB\n",
      "\bAfter single dvec to cuda: 435.279872 MB\n",
      "\bAfter single dvec to cuda: 436.923904 MB\n",
      "After dvec to cuda: 436.928 MB\n",
      "After forward to cuda: 4337.747456 MB\n"
     ]
    },
    {
     "name": "stderr",
     "output_type": "stream",
     "text": [
      "2021-11-24 17:10:52,523 - INFO - Wrote summary at step 893\n"
     ]
    },
    {
     "name": "stdout",
     "output_type": "stream",
     "text": [
      "After input to cuda: 437.303296 MB\n",
      "\bAfter single dvec to cuda: 424.12544 MB\n",
      "\bAfter single dvec to cuda: 430.925824 MB\n",
      "\bAfter single dvec to cuda: 441.183744 MB\n",
      "\bAfter single dvec to cuda: 449.61792 MB\n",
      "After dvec to cuda: 449.622016 MB\n",
      "After forward to cuda: 4349.373952 MB\n",
      "After input to cuda: 449.843712 MB\n",
      "\bAfter single dvec to cuda: 420.274688 MB\n",
      "\bAfter single dvec to cuda: 430.877184 MB\n",
      "\bAfter single dvec to cuda: 434.315264 MB\n",
      "\bAfter single dvec to cuda: 441.052672 MB\n",
      "After dvec to cuda: 441.056768 MB\n",
      "After forward to cuda: 4340.997632 MB\n"
     ]
    },
    {
     "name": "stderr",
     "output_type": "stream",
     "text": [
      "2021-11-24 17:10:53,229 - INFO - Wrote summary at step 894\n"
     ]
    },
    {
     "name": "stdout",
     "output_type": "stream",
     "text": [
      "After input to cuda: 440.459776 MB\n",
      "\bAfter single dvec to cuda: 416.691712 MB\n",
      "\bAfter single dvec to cuda: 425.664 MB\n",
      "\bAfter single dvec to cuda: 435.456512 MB\n",
      "\bAfter single dvec to cuda: 445.516288 MB\n",
      "After dvec to cuda: 445.520384 MB\n",
      "After forward to cuda: 4346.182144 MB\n",
      "After input to cuda: 445.520384 MB\n",
      "\bAfter single dvec to cuda: 414.788608 MB\n",
      "\bAfter single dvec to cuda: 423.05536 MB\n",
      "\bAfter single dvec to cuda: 433.390592 MB\n",
      "\bAfter single dvec to cuda: 436.659712 MB\n",
      "After dvec to cuda: 436.663808 MB\n",
      "After forward to cuda: 4337.363968 MB\n"
     ]
    },
    {
     "name": "stderr",
     "output_type": "stream",
     "text": [
      "2021-11-24 17:10:53,934 - INFO - Wrote summary at step 895\n"
     ]
    },
    {
     "name": "stdout",
     "output_type": "stream",
     "text": [
      "After input to cuda: 436.587008 MB\n",
      "\bAfter single dvec to cuda: 423.028736 MB\n",
      "\bAfter single dvec to cuda: 429.73184 MB\n",
      "\bAfter single dvec to cuda: 440.061952 MB\n",
      "\bAfter single dvec to cuda: 450.66496 MB\n",
      "After dvec to cuda: 450.669056 MB\n",
      "After forward to cuda: 4351.829504 MB\n",
      "After input to cuda: 452.689408 MB\n",
      "\bAfter single dvec to cuda: 423.525888 MB\n",
      "\bAfter single dvec to cuda: 432.769024 MB\n",
      "\bAfter single dvec to cuda: 442.287616 MB\n",
      "\bAfter single dvec to cuda: 449.281024 MB\n",
      "After dvec to cuda: 449.28512 MB\n",
      "After forward to cuda: 4348.809728 MB\n"
     ]
    },
    {
     "name": "stderr",
     "output_type": "stream",
     "text": [
      "2021-11-24 17:10:54,639 - INFO - Wrote summary at step 896\n"
     ]
    },
    {
     "name": "stdout",
     "output_type": "stream",
     "text": [
      "After input to cuda: 448.327168 MB\n",
      "\bAfter single dvec to cuda: 424.142848 MB\n",
      "\bAfter single dvec to cuda: 433.662976 MB\n",
      "\bAfter single dvec to cuda: 443.182592 MB\n",
      "\bAfter single dvec to cuda: 446.686208 MB\n",
      "After dvec to cuda: 446.690304 MB\n",
      "After forward to cuda: 4346.785792 MB\n",
      "After input to cuda: 447.645696 MB\n",
      "\bAfter single dvec to cuda: 424.233984 MB\n",
      "\bAfter single dvec to cuda: 434.540032 MB\n",
      "\bAfter single dvec to cuda: 445.141504 MB\n",
      "\bAfter single dvec to cuda: 453.30432 MB\n",
      "After dvec to cuda: 453.308416 MB\n",
      "After forward to cuda: 4353.60768 MB\n"
     ]
    },
    {
     "name": "stderr",
     "output_type": "stream",
     "text": [
      "2021-11-24 17:10:55,346 - INFO - Wrote summary at step 897\n"
     ]
    },
    {
     "name": "stdout",
     "output_type": "stream",
     "text": [
      "After input to cuda: 452.168192 MB\n",
      "\bAfter single dvec to cuda: 421.295616 MB\n",
      "\bAfter single dvec to cuda: 431.629312 MB\n",
      "\bAfter single dvec to cuda: 442.181632 MB\n",
      "\bAfter single dvec to cuda: 451.699712 MB\n",
      "After dvec to cuda: 451.703808 MB\n",
      "After forward to cuda: 4351.944192 MB\n",
      "After input to cuda: 450.90304 MB\n",
      "\bAfter single dvec to cuda: 423.13216 MB\n",
      "\bAfter single dvec to cuda: 426.612224 MB\n",
      "\bAfter single dvec to cuda: 437.191168 MB\n",
      "\bAfter single dvec to cuda: 447.522816 MB\n",
      "After dvec to cuda: 447.526912 MB\n",
      "After forward to cuda: 4347.62496 MB\n"
     ]
    },
    {
     "name": "stderr",
     "output_type": "stream",
     "text": [
      "2021-11-24 17:10:56,054 - INFO - Wrote summary at step 898\n"
     ]
    },
    {
     "name": "stdout",
     "output_type": "stream",
     "text": [
      "After input to cuda: 447.526912 MB\n",
      "\bAfter single dvec to cuda: 423.156736 MB\n",
      "\bAfter single dvec to cuda: 433.48992 MB\n",
      "\bAfter single dvec to cuda: 442.255872 MB\n",
      "\bAfter single dvec to cuda: 451.771392 MB\n",
      "After dvec to cuda: 451.775488 MB\n",
      "After forward to cuda: 4351.868416 MB\n",
      "After input to cuda: 451.775488 MB\n",
      "\bAfter single dvec to cuda: 423.479296 MB\n",
      "\bAfter single dvec to cuda: 426.983936 MB\n",
      "\bAfter single dvec to cuda: 437.238784 MB\n",
      "\bAfter single dvec to cuda: 441.050624 MB\n",
      "After dvec to cuda: 441.05472 MB\n",
      "After forward to cuda: 4340.601856 MB\n"
     ]
    },
    {
     "name": "stderr",
     "output_type": "stream",
     "text": [
      "2021-11-24 17:10:56,759 - INFO - Wrote summary at step 899\n"
     ]
    },
    {
     "name": "stdout",
     "output_type": "stream",
     "text": [
      "After input to cuda: 441.10592 MB\n",
      "\bAfter single dvec to cuda: 421.358592 MB\n",
      "\bAfter single dvec to cuda: 430.602752 MB\n",
      "\bAfter single dvec to cuda: 440.392192 MB\n",
      "\bAfter single dvec to cuda: 448.011776 MB\n",
      "After dvec to cuda: 448.015872 MB\n",
      "After forward to cuda: 4349.097472 MB\n",
      "After input to cuda: 448.619008 MB\n",
      "\bAfter single dvec to cuda: 422.506496 MB\n",
      "\bAfter single dvec to cuda: 426.318336 MB\n",
      "\bAfter single dvec to cuda: 436.381184 MB\n",
      "\bAfter single dvec to cuda: 447.258112 MB\n",
      "After dvec to cuda: 447.262208 MB\n",
      "After forward to cuda: 4346.269696 MB\n"
     ]
    },
    {
     "name": "stderr",
     "output_type": "stream",
     "text": [
      "2021-11-24 17:10:57,465 - INFO - Wrote summary at step 900\n"
     ]
    },
    {
     "name": "stdout",
     "output_type": "stream",
     "text": [
      "After input to cuda: 446.77376 MB\n",
      "\bAfter single dvec to cuda: 423.27552 MB\n",
      "\bAfter single dvec to cuda: 431.981568 MB\n",
      "\bAfter single dvec to cuda: 439.870976 MB\n",
      "\bAfter single dvec to cuda: 444.49792 MB\n",
      "After dvec to cuda: 444.502016 MB\n",
      "After forward to cuda: 4344.429056 MB\n",
      "After input to cuda: 444.336128 MB\n",
      "\bAfter single dvec to cuda: 423.105536 MB\n",
      "\bAfter single dvec to cuda: 432.620544 MB\n",
      "\bAfter single dvec to cuda: 436.003328 MB\n",
      "\bAfter single dvec to cuda: 444.980736 MB\n",
      "After dvec to cuda: 444.984832 MB\n",
      "After forward to cuda: 4344.50944 MB\n"
     ]
    },
    {
     "name": "stderr",
     "output_type": "stream",
     "text": [
      "2021-11-24 17:10:58,171 - INFO - Wrote summary at step 901\n"
     ]
    },
    {
     "name": "stdout",
     "output_type": "stream",
     "text": [
      "After input to cuda: 444.984832 MB\n",
      "\bAfter single dvec to cuda: 421.848576 MB\n",
      "\bAfter single dvec to cuda: 423.217152 MB\n",
      "\bAfter single dvec to cuda: 426.668032 MB\n",
      "\bAfter single dvec to cuda: 433.742848 MB\n",
      "After dvec to cuda: 433.746944 MB\n",
      "After forward to cuda: 4333.271552 MB\n",
      "After input to cuda: 433.746944 MB\n",
      "\bAfter single dvec to cuda: 414.35648 MB\n",
      "\bAfter single dvec to cuda: 424.636416 MB\n",
      "\bAfter single dvec to cuda: 435.241984 MB\n",
      "\bAfter single dvec to cuda: 444.489216 MB\n",
      "After dvec to cuda: 444.493312 MB\n",
      "After forward to cuda: 4345.065984 MB\n"
     ]
    },
    {
     "name": "stderr",
     "output_type": "stream",
     "text": [
      "2021-11-24 17:10:58,877 - INFO - Wrote summary at step 902\n"
     ]
    },
    {
     "name": "stdout",
     "output_type": "stream",
     "text": [
      "After input to cuda: 444.493312 MB\n",
      "\bAfter single dvec to cuda: 421.037568 MB\n",
      "\bAfter single dvec to cuda: 423.220736 MB\n",
      "\bAfter single dvec to cuda: 433.452032 MB\n",
      "\bAfter single dvec to cuda: 442.970112 MB\n",
      "After dvec to cuda: 442.974208 MB\n",
      "After forward to cuda: 4342.498816 MB\n",
      "After input to cuda: 442.974208 MB\n",
      "\bAfter single dvec to cuda: 423.206912 MB\n",
      "\bAfter single dvec to cuda: 433.53856 MB\n",
      "\bAfter single dvec to cuda: 441.968128 MB\n",
      "\bAfter single dvec to cuda: 449.312256 MB\n",
      "After dvec to cuda: 449.316352 MB\n",
      "After forward to cuda: 4350.534144 MB\n"
     ]
    },
    {
     "name": "stderr",
     "output_type": "stream",
     "text": [
      "2021-11-24 17:10:59,583 - INFO - Wrote summary at step 903\n"
     ]
    },
    {
     "name": "stdout",
     "output_type": "stream",
     "text": [
      "After input to cuda: 449.913344 MB\n",
      "\bAfter single dvec to cuda: 424.89088 MB\n",
      "\bAfter single dvec to cuda: 433.591808 MB\n",
      "\bAfter single dvec to cuda: 440.666624 MB\n",
      "\bAfter single dvec to cuda: 448.282112 MB\n",
      "After dvec to cuda: 448.286208 MB\n",
      "After forward to cuda: 4348.555776 MB\n",
      "After input to cuda: 448.295424 MB\n",
      "\bAfter single dvec to cuda: 422.188544 MB\n",
      "\bAfter single dvec to cuda: 424.374784 MB\n",
      "\bAfter single dvec to cuda: 429.275136 MB\n",
      "\bAfter single dvec to cuda: 437.709312 MB\n",
      "After dvec to cuda: 437.713408 MB\n",
      "After forward to cuda: 4337.975808 MB\n"
     ]
    },
    {
     "name": "stderr",
     "output_type": "stream",
     "text": [
      "2021-11-24 17:11:00,287 - INFO - Wrote summary at step 904\n"
     ]
    },
    {
     "name": "stdout",
     "output_type": "stream",
     "text": [
      "After input to cuda: 437.300736 MB\n",
      "\bAfter single dvec to cuda: 423.303168 MB\n",
      "\bAfter single dvec to cuda: 430.268416 MB\n",
      "\bAfter single dvec to cuda: 439.243776 MB\n",
      "\bAfter single dvec to cuda: 448.217088 MB\n",
      "After dvec to cuda: 448.221184 MB\n",
      "After forward to cuda: 4347.745792 MB\n",
      "After input to cuda: 448.027648 MB\n",
      "\bAfter single dvec to cuda: 420.495872 MB\n",
      "\bAfter single dvec to cuda: 427.5712 MB\n",
      "\bAfter single dvec to cuda: 438.394368 MB\n",
      "\bAfter single dvec to cuda: 446.281216 MB\n",
      "After dvec to cuda: 446.285312 MB\n",
      "After forward to cuda: 4345.80992 MB\n"
     ]
    },
    {
     "name": "stderr",
     "output_type": "stream",
     "text": [
      "2021-11-24 17:11:00,996 - INFO - Wrote summary at step 905\n"
     ]
    },
    {
     "name": "stdout",
     "output_type": "stream",
     "text": [
      "After input to cuda: 446.285312 MB\n",
      "\bAfter single dvec to cuda: 419.5584 MB\n",
      "\bAfter single dvec to cuda: 426.601472 MB\n",
      "\bAfter single dvec to cuda: 437.20448 MB\n",
      "\bAfter single dvec to cuda: 445.634048 MB\n",
      "After dvec to cuda: 445.638144 MB\n",
      "After forward to cuda: 4345.985024 MB\n",
      "After input to cuda: 445.638144 MB\n",
      "\bAfter single dvec to cuda: 423.181824 MB\n",
      "\bAfter single dvec to cuda: 428.62336 MB\n",
      "\bAfter single dvec to cuda: 438.683648 MB\n",
      "\bAfter single dvec to cuda: 449.290752 MB\n",
      "After dvec to cuda: 449.294848 MB\n",
      "After forward to cuda: 4349.426688 MB\n"
     ]
    },
    {
     "name": "stderr",
     "output_type": "stream",
     "text": [
      "2021-11-24 17:11:01,702 - INFO - Wrote summary at step 906\n"
     ]
    },
    {
     "name": "stdout",
     "output_type": "stream",
     "text": [
      "After input to cuda: 449.294848 MB\n",
      "\bAfter single dvec to cuda: 421.038592 MB\n",
      "\bAfter single dvec to cuda: 430.016 MB\n",
      "\bAfter single dvec to cuda: 441.161728 MB\n",
      "\bAfter single dvec to cuda: 452.293632 MB\n",
      "After dvec to cuda: 452.297728 MB\n",
      "After forward to cuda: 4352.800256 MB\n",
      "After input to cuda: 452.297728 MB\n",
      "\bAfter single dvec to cuda: 417.777152 MB\n",
      "\bAfter single dvec to cuda: 428.081152 MB\n",
      "\bAfter single dvec to cuda: 438.140928 MB\n",
      "\bAfter single dvec to cuda: 448.202752 MB\n",
      "After dvec to cuda: 448.206848 MB\n",
      "After forward to cuda: 4348.8896 MB\n"
     ]
    },
    {
     "name": "stderr",
     "output_type": "stream",
     "text": [
      "2021-11-24 17:11:02,408 - INFO - Wrote summary at step 907\n"
     ]
    },
    {
     "name": "stdout",
     "output_type": "stream",
     "text": [
      "After input to cuda: 449.20832 MB\n",
      "\bAfter single dvec to cuda: 419.866112 MB\n",
      "\bAfter single dvec to cuda: 427.208704 MB\n",
      "\bAfter single dvec to cuda: 432.379904 MB\n",
      "\bAfter single dvec to cuda: 438.907904 MB\n",
      "After dvec to cuda: 438.912 MB\n",
      "After forward to cuda: 4338.197504 MB\n",
      "After input to cuda: 438.50752 MB\n",
      "\bAfter single dvec to cuda: 423.729664 MB\n",
      "\bAfter single dvec to cuda: 429.442048 MB\n",
      "\bAfter single dvec to cuda: 438.144512 MB\n",
      "\bAfter single dvec to cuda: 448.748544 MB\n",
      "After dvec to cuda: 448.75264 MB\n",
      "After forward to cuda: 4348.000768 MB\n"
     ]
    },
    {
     "name": "stderr",
     "output_type": "stream",
     "text": [
      "2021-11-24 17:11:03,112 - INFO - Wrote summary at step 908\n"
     ]
    },
    {
     "name": "stdout",
     "output_type": "stream",
     "text": [
      "After input to cuda: 448.47616 MB\n",
      "\bAfter single dvec to cuda: 421.086208 MB\n",
      "\bAfter single dvec to cuda: 428.107264 MB\n",
      "\bAfter single dvec to cuda: 437.080576 MB\n",
      "\bAfter single dvec to cuda: 439.805952 MB\n",
      "After dvec to cuda: 439.810048 MB\n",
      "After forward to cuda: 4339.014144 MB\n",
      "After input to cuda: 439.518208 MB\n",
      "\bAfter single dvec to cuda: 423.23968 MB\n",
      "\bAfter single dvec to cuda: 430.18496 MB\n",
      "\bAfter single dvec to cuda: 439.703552 MB\n",
      "\bAfter single dvec to cuda: 448.678912 MB\n",
      "After dvec to cuda: 448.683008 MB\n",
      "After forward to cuda: 4349.106688 MB\n"
     ]
    },
    {
     "name": "stderr",
     "output_type": "stream",
     "text": [
      "2021-11-24 17:11:03,820 - INFO - Wrote summary at step 909\n"
     ]
    },
    {
     "name": "stdout",
     "output_type": "stream",
     "text": [
      "After input to cuda: 448.606208 MB\n",
      "\bAfter single dvec to cuda: 423.160832 MB\n",
      "\bAfter single dvec to cuda: 433.496576 MB\n",
      "\bAfter single dvec to cuda: 444.374016 MB\n",
      "\bAfter single dvec to cuda: 453.865984 MB\n",
      "After dvec to cuda: 453.87008 MB\n",
      "After forward to cuda: 4354.840576 MB\n",
      "After input to cuda: 454.631936 MB\n",
      "\bAfter single dvec to cuda: 423.082496 MB\n",
      "\bAfter single dvec to cuda: 433.366016 MB\n",
      "\bAfter single dvec to cuda: 437.177856 MB\n",
      "\bAfter single dvec to cuda: 445.606912 MB\n",
      "After dvec to cuda: 445.611008 MB\n",
      "After forward to cuda: 4344.444416 MB\n"
     ]
    },
    {
     "name": "stderr",
     "output_type": "stream",
     "text": [
      "2021-11-24 17:11:04,525 - INFO - Wrote summary at step 910\n"
     ]
    },
    {
     "name": "stdout",
     "output_type": "stream",
     "text": [
      "After input to cuda: 444.94848 MB\n",
      "\bAfter single dvec to cuda: 423.53408 MB\n",
      "\bAfter single dvec to cuda: 433.864704 MB\n",
      "\bAfter single dvec to cuda: 444.332032 MB\n",
      "\bAfter single dvec to cuda: 453.744128 MB\n",
      "After dvec to cuda: 453.748224 MB\n",
      "After forward to cuda: 4353.713152 MB\n",
      "After input to cuda: 453.697024 MB\n",
      "\bAfter single dvec to cuda: 422.342656 MB\n",
      "\bAfter single dvec to cuda: 426.427904 MB\n",
      "\bAfter single dvec to cuda: 429.42976 MB\n",
      "\bAfter single dvec to cuda: 432.351232 MB\n",
      "After dvec to cuda: 432.355328 MB\n",
      "After forward to cuda: 4332.697088 MB\n"
     ]
    },
    {
     "name": "stderr",
     "output_type": "stream",
     "text": [
      "2021-11-24 17:11:05,229 - INFO - Wrote summary at step 911\n"
     ]
    },
    {
     "name": "stdout",
     "output_type": "stream",
     "text": [
      "After input to cuda: 433.201152 MB\n",
      "\bAfter single dvec to cuda: 422.155776 MB\n",
      "\bAfter single dvec to cuda: 429.119488 MB\n",
      "\bAfter single dvec to cuda: 439.182848 MB\n",
      "\bAfter single dvec to cuda: 448.42752 MB\n",
      "After dvec to cuda: 448.431616 MB\n",
      "After forward to cuda: 4347.139072 MB\n",
      "After input to cuda: 447.585792 MB\n",
      "\bAfter single dvec to cuda: 417.503232 MB\n",
      "\bAfter single dvec to cuda: 424.604672 MB\n",
      "\bAfter single dvec to cuda: 432.492032 MB\n",
      "\bAfter single dvec to cuda: 441.197568 MB\n",
      "After dvec to cuda: 441.201664 MB\n",
      "After forward to cuda: 4342.44096 MB\n"
     ]
    },
    {
     "name": "stderr",
     "output_type": "stream",
     "text": [
      "2021-11-24 17:11:05,933 - INFO - Wrote summary at step 912\n"
     ]
    },
    {
     "name": "stdout",
     "output_type": "stream",
     "text": [
      "After input to cuda: 441.968128 MB\n",
      "\bAfter single dvec to cuda: 422.345728 MB\n",
      "\bAfter single dvec to cuda: 429.31456 MB\n",
      "\bAfter single dvec to cuda: 432.312832 MB\n",
      "\bAfter single dvec to cuda: 439.1168 MB\n",
      "After dvec to cuda: 439.120896 MB\n",
      "After forward to cuda: 4339.859968 MB\n",
      "After input to cuda: 438.354432 MB\n",
      "\bAfter single dvec to cuda: 419.894272 MB\n",
      "\bAfter single dvec to cuda: 428.325888 MB\n",
      "\bAfter single dvec to cuda: 437.303296 MB\n",
      "\bAfter single dvec to cuda: 446.009344 MB\n",
      "After dvec to cuda: 446.01344 MB\n",
      "After forward to cuda: 4346.486272 MB\n"
     ]
    },
    {
     "name": "stderr",
     "output_type": "stream",
     "text": [
      "2021-11-24 17:11:06,637 - INFO - Wrote summary at step 913\n"
     ]
    },
    {
     "name": "stdout",
     "output_type": "stream",
     "text": [
      "After input to cuda: 446.01344 MB\n",
      "\bAfter single dvec to cuda: 420.491264 MB\n",
      "\bAfter single dvec to cuda: 428.3776 MB\n",
      "\bAfter single dvec to cuda: 438.16704 MB\n",
      "\bAfter single dvec to cuda: 448.33792 MB\n",
      "After dvec to cuda: 448.342016 MB\n",
      "After forward to cuda: 4350.510592 MB\n",
      "After input to cuda: 448.342016 MB\n",
      "\bAfter single dvec to cuda: 423.183872 MB\n",
      "\bAfter single dvec to cuda: 431.889408 MB\n",
      "\bAfter single dvec to cuda: 442.493952 MB\n",
      "\bAfter single dvec to cuda: 451.848192 MB\n",
      "After dvec to cuda: 451.852288 MB\n",
      "After forward to cuda: 4352.89344 MB\n"
     ]
    },
    {
     "name": "stderr",
     "output_type": "stream",
     "text": [
      "2021-11-24 17:11:07,365 - INFO - Wrote summary at step 914\n"
     ]
    },
    {
     "name": "stdout",
     "output_type": "stream",
     "text": [
      "After input to cuda: 452.37248 MB\n",
      "\bAfter single dvec to cuda: 423.625216 MB\n",
      "\bAfter single dvec to cuda: 433.68448 MB\n",
      "\bAfter single dvec to cuda: 441.842176 MB\n",
      "\bAfter single dvec to cuda: 452.447744 MB\n",
      "After dvec to cuda: 452.45184 MB\n",
      "After forward to cuda: 4352.81408 MB\n",
      "After input to cuda: 452.264448 MB\n",
      "\bAfter single dvec to cuda: 423.438848 MB\n",
      "\bAfter single dvec to cuda: 432.955392 MB\n",
      "\bAfter single dvec to cuda: 440.569856 MB\n",
      "\bAfter single dvec to cuda: 447.616512 MB\n",
      "After dvec to cuda: 447.620608 MB\n",
      "After forward to cuda: 4348.35456 MB\n"
     ]
    },
    {
     "name": "stderr",
     "output_type": "stream",
     "text": [
      "2021-11-24 17:11:08,074 - INFO - Wrote summary at step 915\n"
     ]
    },
    {
     "name": "stdout",
     "output_type": "stream",
     "text": [
      "After input to cuda: 447.9104 MB\n",
      "\bAfter single dvec to cuda: 422.202368 MB\n",
      "\bAfter single dvec to cuda: 423.684096 MB\n",
      "\bAfter single dvec to cuda: 430.756352 MB\n",
      "\bAfter single dvec to cuda: 440.275456 MB\n",
      "After dvec to cuda: 440.279552 MB\n",
      "After forward to cuda: 4339.755008 MB\n",
      "After input to cuda: 439.65696 MB\n",
      "\bAfter single dvec to cuda: 418.05056 MB\n",
      "\bAfter single dvec to cuda: 419.68896 MB\n",
      "\bAfter single dvec to cuda: 429.916672 MB\n",
      "\bAfter single dvec to cuda: 439.706624 MB\n",
      "After dvec to cuda: 439.71072 MB\n",
      "After forward to cuda: 4339.235328 MB\n"
     ]
    },
    {
     "name": "stderr",
     "output_type": "stream",
     "text": [
      "2021-11-24 17:11:08,780 - INFO - Wrote summary at step 916\n"
     ]
    },
    {
     "name": "stdout",
     "output_type": "stream",
     "text": [
      "After input to cuda: 439.71072 MB\n",
      "\bAfter single dvec to cuda: 418.32192 MB\n",
      "\bAfter single dvec to cuda: 428.57984 MB\n",
      "\bAfter single dvec to cuda: 437.828096 MB\n",
      "\bAfter single dvec to cuda: 446.528512 MB\n",
      "After dvec to cuda: 446.532608 MB\n",
      "After forward to cuda: 4346.630656 MB\n",
      "After input to cuda: 446.455808 MB\n",
      "\bAfter single dvec to cuda: 419.53536 MB\n",
      "\bAfter single dvec to cuda: 424.5504 MB\n",
      "\bAfter single dvec to cuda: 427.738112 MB\n",
      "\bAfter single dvec to cuda: 438.017536 MB\n",
      "After dvec to cuda: 438.021632 MB\n",
      "After forward to cuda: 4338.11456 MB\n"
     ]
    },
    {
     "name": "stderr",
     "output_type": "stream",
     "text": [
      "2021-11-24 17:11:09,485 - INFO - Wrote summary at step 917\n"
     ]
    },
    {
     "name": "stdout",
     "output_type": "stream",
     "text": [
      "After input to cuda: 438.618624 MB\n",
      "\bAfter single dvec to cuda: 423.650816 MB\n",
      "\bAfter single dvec to cuda: 433.170432 MB\n",
      "\bAfter single dvec to cuda: 442.688512 MB\n",
      "\bAfter single dvec to cuda: 448.134144 MB\n",
      "After dvec to cuda: 448.13824 MB\n",
      "After forward to cuda: 4347.257344 MB\n",
      "After input to cuda: 447.732736 MB\n",
      "\bAfter single dvec to cuda: 423.246848 MB\n",
      "\bAfter single dvec to cuda: 427.875328 MB\n",
      "\bAfter single dvec to cuda: 435.493888 MB\n",
      "\bAfter single dvec to cuda: 444.739072 MB\n",
      "After dvec to cuda: 444.743168 MB\n",
      "After forward to cuda: 4344.721408 MB\n"
     ]
    },
    {
     "name": "stderr",
     "output_type": "stream",
     "text": [
      "2021-11-24 17:11:10,215 - INFO - Wrote summary at step 918\n"
     ]
    },
    {
     "name": "stdout",
     "output_type": "stream",
     "text": [
      "After input to cuda: 444.62848 MB\n",
      "\bAfter single dvec to cuda: 422.781952 MB\n",
      "\bAfter single dvec to cuda: 433.114624 MB\n",
      "\bAfter single dvec to cuda: 440.082432 MB\n",
      "\bAfter single dvec to cuda: 443.353088 MB\n",
      "After dvec to cuda: 443.357184 MB\n",
      "After forward to cuda: 4342.941184 MB\n",
      "After input to cuda: 443.357184 MB\n",
      "\bAfter single dvec to cuda: 423.130624 MB\n",
      "\bAfter single dvec to cuda: 432.1024 MB\n",
      "\bAfter single dvec to cuda: 439.149568 MB\n",
      "\bAfter single dvec to cuda: 447.58016 MB\n",
      "After dvec to cuda: 447.584256 MB\n",
      "After forward to cuda: 4348.02176 MB\n"
     ]
    },
    {
     "name": "stderr",
     "output_type": "stream",
     "text": [
      "2021-11-24 17:11:10,923 - INFO - Wrote summary at step 919\n"
     ]
    },
    {
     "name": "stdout",
     "output_type": "stream",
     "text": [
      "After input to cuda: 447.584256 MB\n",
      "\bAfter single dvec to cuda: 423.207424 MB\n",
      "\bAfter single dvec to cuda: 434.08128 MB\n",
      "\bAfter single dvec to cuda: 443.598848 MB\n",
      "\bAfter single dvec to cuda: 451.218432 MB\n",
      "After dvec to cuda: 451.222528 MB\n",
      "After forward to cuda: 4351.753728 MB\n",
      "After input to cuda: 451.81952 MB\n",
      "\bAfter single dvec to cuda: 414.955008 MB\n",
      "\bAfter single dvec to cuda: 425.5616 MB\n",
      "\bAfter single dvec to cuda: 432.065024 MB\n",
      "\bAfter single dvec to cuda: 437.777408 MB\n",
      "After dvec to cuda: 437.781504 MB\n",
      "After forward to cuda: 4337.657344 MB\n"
     ]
    },
    {
     "name": "stderr",
     "output_type": "stream",
     "text": [
      "2021-11-24 17:11:11,627 - INFO - Wrote summary at step 920\n"
     ]
    },
    {
     "name": "stdout",
     "output_type": "stream",
     "text": [
      "After input to cuda: 437.184512 MB\n",
      "\bAfter single dvec to cuda: 421.850112 MB\n",
      "\bAfter single dvec to cuda: 424.035328 MB\n",
      "\bAfter single dvec to cuda: 433.009664 MB\n",
      "\bAfter single dvec to cuda: 440.082944 MB\n",
      "After dvec to cuda: 440.08704 MB\n",
      "After forward to cuda: 4341.029376 MB\n",
      "After input to cuda: 440.684032 MB\n",
      "\bAfter single dvec to cuda: 415.929344 MB\n",
      "\bAfter single dvec to cuda: 425.716224 MB\n",
      "\bAfter single dvec to cuda: 433.87392 MB\n",
      "\bAfter single dvec to cuda: 443.93472 MB\n",
      "After dvec to cuda: 443.938816 MB\n",
      "After forward to cuda: 4343.5264 MB\n"
     ]
    },
    {
     "name": "stderr",
     "output_type": "stream",
     "text": [
      "2021-11-24 17:11:12,331 - INFO - Wrote summary at step 921\n"
     ]
    },
    {
     "name": "stdout",
     "output_type": "stream",
     "text": [
      "After input to cuda: 443.651072 MB\n",
      "\bAfter single dvec to cuda: 415.373312 MB\n",
      "\bAfter single dvec to cuda: 425.603584 MB\n",
      "\bAfter single dvec to cuda: 436.480512 MB\n",
      "\bAfter single dvec to cuda: 445.457408 MB\n",
      "After dvec to cuda: 445.461504 MB\n",
      "After forward to cuda: 4344.676864 MB\n",
      "After input to cuda: 445.152256 MB\n",
      "\bAfter single dvec to cuda: 423.18592 MB\n",
      "\bAfter single dvec to cuda: 430.533632 MB\n",
      "\bAfter single dvec to cuda: 440.049152 MB\n",
      "\bAfter single dvec to cuda: 446.852096 MB\n",
      "After dvec to cuda: 446.856192 MB\n",
      "After forward to cuda: 4346.3808 MB\n"
     ]
    },
    {
     "name": "stderr",
     "output_type": "stream",
     "text": [
      "2021-11-24 17:11:13,036 - INFO - Wrote summary at step 922\n"
     ]
    },
    {
     "name": "stdout",
     "output_type": "stream",
     "text": [
      "After input to cuda: 446.856192 MB\n",
      "\bAfter single dvec to cuda: 423.108096 MB\n",
      "\bAfter single dvec to cuda: 426.377216 MB\n",
      "\bAfter single dvec to cuda: 435.352064 MB\n",
      "\bAfter single dvec to cuda: 443.21536 MB\n",
      "After dvec to cuda: 443.219456 MB\n",
      "After forward to cuda: 4343.578624 MB\n",
      "After input to cuda: 444.082688 MB\n",
      "\bAfter single dvec to cuda: 424.073728 MB\n",
      "\bAfter single dvec to cuda: 425.711616 MB\n",
      "\bAfter single dvec to cuda: 436.861952 MB\n",
      "\bAfter single dvec to cuda: 446.377472 MB\n",
      "After dvec to cuda: 446.381568 MB\n",
      "After forward to cuda: 4345.585664 MB\n"
     ]
    },
    {
     "name": "stderr",
     "output_type": "stream",
     "text": [
      "2021-11-24 17:11:13,743 - INFO - Wrote summary at step 923\n"
     ]
    },
    {
     "name": "stdout",
     "output_type": "stream",
     "text": [
      "After input to cuda: 445.518336 MB\n",
      "\bAfter single dvec to cuda: 423.157248 MB\n",
      "\bAfter single dvec to cuda: 433.490944 MB\n",
      "\bAfter single dvec to cuda: 435.131904 MB\n",
      "\bAfter single dvec to cuda: 445.466112 MB\n",
      "After dvec to cuda: 445.470208 MB\n",
      "After forward to cuda: 4345.315328 MB\n",
      "After input to cuda: 445.79072 MB\n",
      "\bAfter single dvec to cuda: 423.480832 MB\n",
      "\bAfter single dvec to cuda: 424.961536 MB\n",
      "\bAfter single dvec to cuda: 433.120256 MB\n",
      "\bAfter single dvec to cuda: 440.462336 MB\n",
      "After dvec to cuda: 440.466432 MB\n",
      "After forward to cuda: 4339.99104 MB\n"
     ]
    },
    {
     "name": "stderr",
     "output_type": "stream",
     "text": [
      "2021-11-24 17:11:14,468 - INFO - Wrote summary at step 924\n"
     ]
    },
    {
     "name": "stdout",
     "output_type": "stream",
     "text": [
      "After input to cuda: 440.466432 MB\n",
      "\bAfter single dvec to cuda: 424.072704 MB\n",
      "\bAfter single dvec to cuda: 432.345088 MB\n",
      "\bAfter single dvec to cuda: 440.504832 MB\n",
      "\bAfter single dvec to cuda: 449.48224 MB\n",
      "After dvec to cuda: 449.486336 MB\n",
      "After forward to cuda: 4350.408192 MB\n",
      "After input to cuda: 449.762816 MB\n",
      "\bAfter single dvec to cuda: 423.805952 MB\n",
      "\bAfter single dvec to cuda: 432.7808 MB\n",
      "\bAfter single dvec to cuda: 436.868608 MB\n",
      "\bAfter single dvec to cuda: 446.384128 MB\n",
      "After dvec to cuda: 446.388224 MB\n",
      "After forward to cuda: 4346.193408 MB\n"
     ]
    },
    {
     "name": "stderr",
     "output_type": "stream",
     "text": [
      "2021-11-24 17:11:15,189 - INFO - Wrote summary at step 925\n"
     ]
    },
    {
     "name": "stdout",
     "output_type": "stream",
     "text": [
      "After input to cuda: 446.697472 MB\n",
      "\bAfter single dvec to cuda: 423.19872 MB\n",
      "\bAfter single dvec to cuda: 433.507328 MB\n",
      "\bAfter single dvec to cuda: 441.39776 MB\n",
      "\bAfter single dvec to cuda: 452.001792 MB\n",
      "After dvec to cuda: 452.005888 MB\n",
      "After forward to cuda: 4351.530496 MB\n",
      "After input to cuda: 451.099648 MB\n",
      "\bAfter single dvec to cuda: 422.345216 MB\n",
      "\bAfter single dvec to cuda: 430.779392 MB\n",
      "\bAfter single dvec to cuda: 441.78688 MB\n",
      "\bAfter single dvec to cuda: 450.491904 MB\n",
      "After dvec to cuda: 450.496 MB\n",
      "After forward to cuda: 4350.020608 MB\n"
     ]
    },
    {
     "name": "stderr",
     "output_type": "stream",
     "text": [
      "2021-11-24 17:11:15,894 - INFO - Wrote summary at step 926\n"
     ]
    },
    {
     "name": "stdout",
     "output_type": "stream",
     "text": [
      "After input to cuda: 450.496 MB\n",
      "\bAfter single dvec to cuda: 423.21152 MB\n",
      "\bAfter single dvec to cuda: 434.247168 MB\n",
      "\bAfter single dvec to cuda: 442.950144 MB\n",
      "\bAfter single dvec to cuda: 449.752064 MB\n",
      "After dvec to cuda: 449.75616 MB\n",
      "After forward to cuda: 4350.06976 MB\n",
      "After input to cuda: 449.75616 MB\n",
      "\bAfter single dvec to cuda: 421.582336 MB\n",
      "\bAfter single dvec to cuda: 431.640576 MB\n",
      "\bAfter single dvec to cuda: 441.703424 MB\n",
      "\bAfter single dvec to cuda: 443.947008 MB\n",
      "After dvec to cuda: 443.951104 MB\n",
      "After forward to cuda: 4343.757312 MB\n"
     ]
    },
    {
     "name": "stderr",
     "output_type": "stream",
     "text": [
      "2021-11-24 17:11:16,602 - INFO - Wrote summary at step 927\n"
     ]
    },
    {
     "name": "stdout",
     "output_type": "stream",
     "text": [
      "After input to cuda: 443.951104 MB\n",
      "\bAfter single dvec to cuda: 423.108096 MB\n",
      "\bAfter single dvec to cuda: 433.440256 MB\n",
      "\bAfter single dvec to cuda: 440.240128 MB\n",
      "\bAfter single dvec to cuda: 449.215488 MB\n",
      "After dvec to cuda: 449.219584 MB\n",
      "After forward to cuda: 4350.599168 MB\n",
      "After input to cuda: 449.219584 MB\n",
      "\bAfter single dvec to cuda: 419.920384 MB\n",
      "\bAfter single dvec to cuda: 428.622336 MB\n",
      "\bAfter single dvec to cuda: 436.236288 MB\n",
      "\bAfter single dvec to cuda: 445.725696 MB\n",
      "After dvec to cuda: 445.729792 MB\n",
      "After forward to cuda: 4345.2544 MB\n"
     ]
    },
    {
     "name": "stderr",
     "output_type": "stream",
     "text": [
      "2021-11-24 17:11:17,309 - INFO - Wrote summary at step 928\n"
     ]
    },
    {
     "name": "stdout",
     "output_type": "stream",
     "text": [
      "After input to cuda: 446.491136 MB\n",
      "\bAfter single dvec to cuda: 423.922176 MB\n",
      "\bAfter single dvec to cuda: 428.279296 MB\n",
      "\bAfter single dvec to cuda: 435.895808 MB\n",
      "\bAfter single dvec to cuda: 444.32896 MB\n",
      "After dvec to cuda: 444.333056 MB\n",
      "After forward to cuda: 4344.815616 MB\n",
      "After input to cuda: 445.291008 MB\n",
      "\bAfter single dvec to cuda: 424.90624 MB\n",
      "\bAfter single dvec to cuda: 431.952384 MB\n",
      "\bAfter single dvec to cuda: 442.555392 MB\n",
      "\bAfter single dvec to cuda: 445.009408 MB\n",
      "After dvec to cuda: 445.013504 MB\n",
      "After forward to cuda: 4343.98976 MB\n"
     ]
    },
    {
     "name": "stderr",
     "output_type": "stream",
     "text": [
      "2021-11-24 17:11:18,013 - INFO - Wrote summary at step 929\n"
     ]
    },
    {
     "name": "stdout",
     "output_type": "stream",
     "text": [
      "After input to cuda: 443.294208 MB\n",
      "\bAfter single dvec to cuda: 423.104 MB\n",
      "\bAfter single dvec to cuda: 433.437184 MB\n",
      "\bAfter single dvec to cuda: 440.783872 MB\n",
      "\bAfter single dvec to cuda: 450.02752 MB\n",
      "After dvec to cuda: 450.031616 MB\n",
      "After forward to cuda: 4350.830592 MB\n",
      "After input to cuda: 450.031616 MB\n",
      "\bAfter single dvec to cuda: 419.58144 MB\n",
      "\bAfter single dvec to cuda: 423.939072 MB\n",
      "\bAfter single dvec to cuda: 434.223104 MB\n",
      "\bAfter single dvec to cuda: 443.74272 MB\n",
      "After dvec to cuda: 443.746816 MB\n",
      "After forward to cuda: 4343.321088 MB\n"
     ]
    },
    {
     "name": "stderr",
     "output_type": "stream",
     "text": [
      "2021-11-24 17:11:18,719 - INFO - Wrote summary at step 930\n"
     ]
    },
    {
     "name": "stdout",
     "output_type": "stream",
     "text": [
      "After input to cuda: 443.746816 MB\n",
      "\bAfter single dvec to cuda: 423.211008 MB\n",
      "\bAfter single dvec to cuda: 432.187392 MB\n",
      "\bAfter single dvec to cuda: 441.43104 MB\n",
      "\bAfter single dvec to cuda: 445.24544 MB\n",
      "After dvec to cuda: 445.249536 MB\n",
      "After forward to cuda: 4345.6768 MB\n",
      "After input to cuda: 445.846528 MB\n",
      "\bAfter single dvec to cuda: 423.350272 MB\n",
      "\bAfter single dvec to cuda: 430.696448 MB\n",
      "\bAfter single dvec to cuda: 440.97792 MB\n",
      "\bAfter single dvec to cuda: 445.607936 MB\n",
      "After dvec to cuda: 445.612032 MB\n",
      "After forward to cuda: 4344.56832 MB\n"
     ]
    },
    {
     "name": "stderr",
     "output_type": "stream",
     "text": [
      "2021-11-24 17:11:19,427 - INFO - Wrote summary at step 931\n"
     ]
    },
    {
     "name": "stdout",
     "output_type": "stream",
     "text": [
      "After input to cuda: 445.01504 MB\n",
      "\bAfter single dvec to cuda: 423.131648 MB\n",
      "\bAfter single dvec to cuda: 432.920576 MB\n",
      "\bAfter single dvec to cuda: 443.526144 MB\n",
      "\bAfter single dvec to cuda: 449.243648 MB\n",
      "After dvec to cuda: 449.247744 MB\n",
      "After forward to cuda: 4348.772352 MB\n",
      "After input to cuda: 449.247744 MB\n",
      "\bAfter single dvec to cuda: 423.130624 MB\n",
      "\bAfter single dvec to cuda: 432.105984 MB\n",
      "\bAfter single dvec to cuda: 442.202624 MB\n",
      "\bAfter single dvec to cuda: 451.44576 MB\n",
      "After dvec to cuda: 451.449856 MB\n",
      "After forward to cuda: 4351.547904 MB\n"
     ]
    },
    {
     "name": "stderr",
     "output_type": "stream",
     "text": [
      "2021-11-24 17:11:20,133 - INFO - Wrote summary at step 932\n"
     ]
    },
    {
     "name": "stdout",
     "output_type": "stream",
     "text": [
      "After input to cuda: 451.449856 MB\n",
      "\bAfter single dvec to cuda: 421.034496 MB\n",
      "\bAfter single dvec to cuda: 430.8224 MB\n",
      "\bAfter single dvec to cuda: 437.894144 MB\n",
      "\bAfter single dvec to cuda: 447.680512 MB\n",
      "After dvec to cuda: 447.684608 MB\n",
      "After forward to cuda: 4347.209216 MB\n",
      "After input to cuda: 447.684608 MB\n",
      "\bAfter single dvec to cuda: 423.20896 MB\n",
      "\bAfter single dvec to cuda: 429.941248 MB\n",
      "\bAfter single dvec to cuda: 439.732224 MB\n",
      "\bAfter single dvec to cuda: 449.248768 MB\n",
      "After dvec to cuda: 449.252864 MB\n",
      "After forward to cuda: 4349.303808 MB\n"
     ]
    },
    {
     "name": "stderr",
     "output_type": "stream",
     "text": [
      "2021-11-24 17:11:20,840 - INFO - Wrote summary at step 933\n"
     ]
    },
    {
     "name": "stdout",
     "output_type": "stream",
     "text": [
      "After input to cuda: 449.77408 MB\n",
      "\bAfter single dvec to cuda: 423.68256 MB\n",
      "\bAfter single dvec to cuda: 427.497984 MB\n",
      "\bAfter single dvec to cuda: 431.857664 MB\n",
      "\bAfter single dvec to cuda: 438.928896 MB\n",
      "After dvec to cuda: 438.932992 MB\n",
      "After forward to cuda: 4337.936384 MB\n",
      "After input to cuda: 438.411776 MB\n",
      "\bAfter single dvec to cuda: 416.963072 MB\n",
      "\bAfter single dvec to cuda: 427.195392 MB\n",
      "\bAfter single dvec to cuda: 437.529088 MB\n",
      "\bAfter single dvec to cuda: 446.349312 MB\n",
      "After dvec to cuda: 446.353408 MB\n",
      "After forward to cuda: 4347.015168 MB\n"
     ]
    },
    {
     "name": "stderr",
     "output_type": "stream",
     "text": [
      "2021-11-24 17:11:21,544 - INFO - Wrote summary at step 934\n"
     ]
    },
    {
     "name": "stdout",
     "output_type": "stream",
     "text": [
      "After input to cuda: 446.353408 MB\n",
      "\bAfter single dvec to cuda: 424.838144 MB\n",
      "\bAfter single dvec to cuda: 435.117568 MB\n",
      "\bAfter single dvec to cuda: 441.823744 MB\n",
      "\bAfter single dvec to cuda: 448.869888 MB\n",
      "After dvec to cuda: 448.873984 MB\n",
      "After forward to cuda: 4349.089792 MB\n",
      "After input to cuda: 448.873984 MB\n",
      "\bAfter single dvec to cuda: 423.185408 MB\n",
      "\bAfter single dvec to cuda: 432.700416 MB\n",
      "\bAfter single dvec to cuda: 440.859136 MB\n",
      "\bAfter single dvec to cuda: 450.647552 MB\n",
      "After dvec to cuda: 450.651648 MB\n",
      "After forward to cuda: 4350.744576 MB\n"
     ]
    },
    {
     "name": "stderr",
     "output_type": "stream",
     "text": [
      "2021-11-24 17:11:22,253 - INFO - Wrote summary at step 935\n"
     ]
    },
    {
     "name": "stdout",
     "output_type": "stream",
     "text": [
      "After input to cuda: 451.17184 MB\n",
      "\bAfter single dvec to cuda: 421.016576 MB\n",
      "\bAfter single dvec to cuda: 430.535168 MB\n",
      "\bAfter single dvec to cuda: 438.963712 MB\n",
      "\bAfter single dvec to cuda: 449.567232 MB\n",
      "After dvec to cuda: 449.571328 MB\n",
      "After forward to cuda: 4348.575744 MB\n",
      "After input to cuda: 449.051136 MB\n",
      "\bAfter single dvec to cuda: 423.756288 MB\n",
      "\bAfter single dvec to cuda: 431.914496 MB\n",
      "\bAfter single dvec to cuda: 441.7024 MB\n",
      "\bAfter single dvec to cuda: 451.48928 MB\n",
      "After dvec to cuda: 451.493376 MB\n",
      "After forward to cuda: 4351.586304 MB\n"
     ]
    },
    {
     "name": "stderr",
     "output_type": "stream",
     "text": [
      "2021-11-24 17:11:22,961 - INFO - Wrote summary at step 936\n"
     ]
    },
    {
     "name": "stdout",
     "output_type": "stream",
     "text": [
      "After input to cuda: 452.013568 MB\n",
      "\bAfter single dvec to cuda: 417.482752 MB\n",
      "\bAfter single dvec to cuda: 427.763712 MB\n",
      "\bAfter single dvec to cuda: 435.1104 MB\n",
      "\bAfter single dvec to cuda: 443.8144 MB\n",
      "After dvec to cuda: 443.818496 MB\n",
      "After forward to cuda: 4342.822912 MB\n",
      "After input to cuda: 443.298304 MB\n",
      "\bAfter single dvec to cuda: 421.577216 MB\n",
      "\bAfter single dvec to cuda: 430.010368 MB\n",
      "\bAfter single dvec to cuda: 437.00224 MB\n",
      "\bAfter single dvec to cuda: 445.976064 MB\n",
      "After dvec to cuda: 445.98016 MB\n",
      "After forward to cuda: 4345.82528 MB\n"
     ]
    },
    {
     "name": "stderr",
     "output_type": "stream",
     "text": [
      "2021-11-24 17:11:23,667 - INFO - Wrote summary at step 937\n"
     ]
    },
    {
     "name": "stdout",
     "output_type": "stream",
     "text": [
      "After input to cuda: 446.300672 MB\n",
      "\bAfter single dvec to cuda: 423.450624 MB\n",
      "\bAfter single dvec to cuda: 431.882752 MB\n",
      "\bAfter single dvec to cuda: 442.757632 MB\n",
      "\bAfter single dvec to cuda: 453.425664 MB\n",
      "After dvec to cuda: 453.42976 MB\n",
      "After forward to cuda: 4352.954368 MB\n",
      "After input to cuda: 453.42976 MB\n",
      "\bAfter single dvec to cuda: 423.451648 MB\n",
      "\bAfter single dvec to cuda: 433.240576 MB\n",
      "\bAfter single dvec to cuda: 443.032064 MB\n",
      "\bAfter single dvec to cuda: 452.314624 MB\n",
      "After dvec to cuda: 452.31872 MB\n",
      "After forward to cuda: 4353.079296 MB\n"
     ]
    },
    {
     "name": "stderr",
     "output_type": "stream",
     "text": [
      "2021-11-24 17:11:24,375 - INFO - Wrote summary at step 938\n"
     ]
    },
    {
     "name": "stdout",
     "output_type": "stream",
     "text": [
      "After input to cuda: 451.998208 MB\n",
      "\bAfter single dvec to cuda: 415.333376 MB\n",
      "\bAfter single dvec to cuda: 425.637888 MB\n",
      "\bAfter single dvec to cuda: 429.99552 MB\n",
      "\bAfter single dvec to cuda: 439.512064 MB\n",
      "After dvec to cuda: 439.51616 MB\n",
      "After forward to cuda: 4340.005376 MB\n",
      "After input to cuda: 439.51616 MB\n",
      "\bAfter single dvec to cuda: 417.778176 MB\n",
      "\bAfter single dvec to cuda: 428.381696 MB\n",
      "\bAfter single dvec to cuda: 436.65408 MB\n",
      "\bAfter single dvec to cuda: 446.884864 MB\n",
      "After dvec to cuda: 446.88896 MB\n",
      "After forward to cuda: 4346.987008 MB\n"
     ]
    },
    {
     "name": "stderr",
     "output_type": "stream",
     "text": [
      "2021-11-24 17:11:25,080 - INFO - Wrote summary at step 939\n"
     ]
    },
    {
     "name": "stdout",
     "output_type": "stream",
     "text": [
      "After input to cuda: 446.81216 MB\n",
      "\bAfter single dvec to cuda: 419.531776 MB\n",
      "\bAfter single dvec to cuda: 429.763584 MB\n",
      "\bAfter single dvec to cuda: 433.307136 MB\n",
      "\bAfter single dvec to cuda: 443.912192 MB\n",
      "After dvec to cuda: 443.916288 MB\n",
      "After forward to cuda: 4343.489024 MB\n",
      "After input to cuda: 443.916288 MB\n",
      "\bAfter single dvec to cuda: 423.083008 MB\n",
      "\bAfter single dvec to cuda: 433.961472 MB\n",
      "\bAfter single dvec to cuda: 442.661888 MB\n",
      "\bAfter single dvec to cuda: 450.820608 MB\n",
      "After dvec to cuda: 450.824704 MB\n",
      "After forward to cuda: 4352.660992 MB\n"
     ]
    },
    {
     "name": "stderr",
     "output_type": "stream",
     "text": [
      "2021-11-24 17:11:25,786 - INFO - Wrote summary at step 940\n"
     ]
    },
    {
     "name": "stdout",
     "output_type": "stream",
     "text": [
      "After input to cuda: 452.179456 MB\n",
      "\bAfter single dvec to cuda: 424.4864 MB\n",
      "\bAfter single dvec to cuda: 434.82112 MB\n",
      "\bAfter single dvec to cuda: 444.06528 MB\n",
      "\bAfter single dvec to cuda: 451.409408 MB\n",
      "After dvec to cuda: 451.413504 MB\n",
      "After forward to cuda: 4350.2336 MB\n",
      "After input to cuda: 450.135552 MB\n",
      "\bAfter single dvec to cuda: 419.921408 MB\n",
      "\bAfter single dvec to cuda: 430.17728 MB\n",
      "\bAfter single dvec to cuda: 436.980224 MB\n",
      "\bAfter single dvec to cuda: 441.337856 MB\n",
      "After dvec to cuda: 441.341952 MB\n",
      "After forward to cuda: 4341.682688 MB\n"
     ]
    },
    {
     "name": "stderr",
     "output_type": "stream",
     "text": [
      "2021-11-24 17:11:26,493 - INFO - Wrote summary at step 941\n"
     ]
    },
    {
     "name": "stdout",
     "output_type": "stream",
     "text": [
      "After input to cuda: 442.15808 MB\n",
      "\bAfter single dvec to cuda: 416.69376 MB\n",
      "\bAfter single dvec to cuda: 426.975744 MB\n",
      "\bAfter single dvec to cuda: 435.952128 MB\n",
      "\bAfter single dvec to cuda: 446.128128 MB\n",
      "After dvec to cuda: 446.132224 MB\n",
      "After forward to cuda: 4345.97376 MB\n",
      "After input to cuda: 446.240768 MB\n",
      "\bAfter single dvec to cuda: 424.137728 MB\n",
      "\bAfter single dvec to cuda: 433.927168 MB\n",
      "\bAfter single dvec to cuda: 444.258304 MB\n",
      "\bAfter single dvec to cuda: 447.52384 MB\n",
      "After dvec to cuda: 447.527936 MB\n",
      "After forward to cuda: 4346.648064 MB\n"
     ]
    },
    {
     "name": "stderr",
     "output_type": "stream",
     "text": [
      "2021-11-24 17:11:27,199 - INFO - Wrote summary at step 942\n"
     ]
    },
    {
     "name": "stdout",
     "output_type": "stream",
     "text": [
      "After input to cuda: 447.123456 MB\n",
      "\bAfter single dvec to cuda: 424.270336 MB\n",
      "\bAfter single dvec to cuda: 433.873408 MB\n",
      "\bAfter single dvec to cuda: 444.207616 MB\n",
      "\bAfter single dvec to cuda: 454.514688 MB\n",
      "After dvec to cuda: 454.518784 MB\n",
      "After forward to cuda: 4353.5232 MB\n",
      "After input to cuda: 453.998592 MB\n",
      "\bAfter single dvec to cuda: 423.208448 MB\n",
      "\bAfter single dvec to cuda: 432.784384 MB\n",
      "\bAfter single dvec to cuda: 437.687808 MB\n",
      "\bAfter single dvec to cuda: 447.96928 MB\n",
      "After dvec to cuda: 447.973376 MB\n",
      "After forward to cuda: 4348.071424 MB\n"
     ]
    },
    {
     "name": "stderr",
     "output_type": "stream",
     "text": [
      "2021-11-24 17:11:27,907 - INFO - Wrote summary at step 943\n"
     ]
    },
    {
     "name": "stdout",
     "output_type": "stream",
     "text": [
      "After input to cuda: 447.973376 MB\n",
      "\bAfter single dvec to cuda: 422.508544 MB\n",
      "\bAfter single dvec to cuda: 429.555712 MB\n",
      "\bAfter single dvec to cuda: 439.783424 MB\n",
      "\bAfter single dvec to cuda: 450.062848 MB\n",
      "After dvec to cuda: 450.066944 MB\n",
      "After forward to cuda: 4351.58784 MB\n",
      "After input to cuda: 450.387456 MB\n",
      "\bAfter single dvec to cuda: 423.527424 MB\n",
      "\bAfter single dvec to cuda: 433.178112 MB\n",
      "\bAfter single dvec to cuda: 437.175808 MB\n",
      "\bAfter single dvec to cuda: 447.45728 MB\n",
      "After dvec to cuda: 447.461376 MB\n",
      "After forward to cuda: 4348.187136 MB\n"
     ]
    },
    {
     "name": "stderr",
     "output_type": "stream",
     "text": [
      "2021-11-24 17:11:28,615 - INFO - Wrote summary at step 944\n"
     ]
    },
    {
     "name": "stdout",
     "output_type": "stream",
     "text": [
      "After input to cuda: 447.064064 MB\n",
      "\bAfter single dvec to cuda: 422.403072 MB\n",
      "\bAfter single dvec to cuda: 429.396992 MB\n",
      "\bAfter single dvec to cuda: 439.703552 MB\n",
      "\bAfter single dvec to cuda: 444.334592 MB\n",
      "After dvec to cuda: 444.338688 MB\n",
      "After forward to cuda: 4346.579968 MB\n",
      "After input to cuda: 445.171712 MB\n",
      "\bAfter single dvec to cuda: 423.942656 MB\n",
      "\bAfter single dvec to cuda: 434.546176 MB\n",
      "\bAfter single dvec to cuda: 441.56416 MB\n",
      "\bAfter single dvec to cuda: 451.354112 MB\n",
      "After dvec to cuda: 451.358208 MB\n",
      "After forward to cuda: 4350.456832 MB\n"
     ]
    },
    {
     "name": "stderr",
     "output_type": "stream",
     "text": [
      "2021-11-24 17:11:29,322 - INFO - Wrote summary at step 945\n"
     ]
    },
    {
     "name": "stdout",
     "output_type": "stream",
     "text": [
      "After input to cuda: 451.358208 MB\n",
      "\bAfter single dvec to cuda: 423.917568 MB\n",
      "\bAfter single dvec to cuda: 426.646528 MB\n",
      "\bAfter single dvec to cuda: 436.705792 MB\n",
      "\bAfter single dvec to cuda: 447.307776 MB\n",
      "After dvec to cuda: 447.311872 MB\n",
      "After forward to cuda: 4348.16256 MB\n",
      "After input to cuda: 447.632384 MB\n",
      "\bAfter single dvec to cuda: 424.180736 MB\n",
      "\bAfter single dvec to cuda: 432.611328 MB\n",
      "\bAfter single dvec to cuda: 442.399744 MB\n",
      "\bAfter single dvec to cuda: 446.441984 MB\n",
      "After dvec to cuda: 446.44608 MB\n",
      "After forward to cuda: 4346.223616 MB\n"
     ]
    },
    {
     "name": "stderr",
     "output_type": "stream",
     "text": [
      "2021-11-24 17:11:30,026 - INFO - Wrote summary at step 946\n"
     ]
    },
    {
     "name": "stdout",
     "output_type": "stream",
     "text": [
      "After input to cuda: 445.369344 MB\n",
      "\bAfter single dvec to cuda: 421.311488 MB\n",
      "\bAfter single dvec to cuda: 430.287872 MB\n",
      "\bAfter single dvec to cuda: 435.730944 MB\n",
      "\bAfter single dvec to cuda: 444.703744 MB\n",
      "After dvec to cuda: 444.70784 MB\n",
      "After forward to cuda: 4345.334272 MB\n",
      "After input to cuda: 445.241344 MB\n",
      "\bAfter single dvec to cuda: 421.029888 MB\n",
      "\bAfter single dvec to cuda: 431.310848 MB\n",
      "\bAfter single dvec to cuda: 441.916928 MB\n",
      "\bAfter single dvec to cuda: 451.9808 MB\n",
      "After dvec to cuda: 451.984896 MB\n",
      "After forward to cuda: 4351.54432 MB\n"
     ]
    },
    {
     "name": "stderr",
     "output_type": "stream",
     "text": [
      "2021-11-24 17:11:30,733 - INFO - Wrote summary at step 947\n"
     ]
    },
    {
     "name": "stdout",
     "output_type": "stream",
     "text": [
      "After input to cuda: 451.75552 MB\n",
      "\bAfter single dvec to cuda: 421.609984 MB\n",
      "\bAfter single dvec to cuda: 431.67232 MB\n",
      "\bAfter single dvec to cuda: 441.73312 MB\n",
      "\bAfter single dvec to cuda: 451.792384 MB\n",
      "After dvec to cuda: 451.79648 MB\n",
      "After forward to cuda: 4351.894528 MB\n",
      "After input to cuda: 451.492352 MB\n",
      "\bAfter single dvec to cuda: 415.289856 MB\n",
      "\bAfter single dvec to cuda: 425.543168 MB\n",
      "\bAfter single dvec to cuda: 427.022336 MB\n",
      "\bAfter single dvec to cuda: 436.54144 MB\n",
      "After dvec to cuda: 436.545536 MB\n",
      "After forward to cuda: 4336.840704 MB\n"
     ]
    },
    {
     "name": "stderr",
     "output_type": "stream",
     "text": [
      "2021-11-24 17:11:31,440 - INFO - Wrote summary at step 948\n"
     ]
    },
    {
     "name": "stdout",
     "output_type": "stream",
     "text": [
      "After input to cuda: 436.58752 MB\n",
      "\bAfter single dvec to cuda: 423.199232 MB\n",
      "\bAfter single dvec to cuda: 432.446464 MB\n",
      "\bAfter single dvec to cuda: 442.31168 MB\n",
      "\bAfter single dvec to cuda: 452.644864 MB\n",
      "After dvec to cuda: 452.64896 MB\n",
      "After forward to cuda: 4352.699904 MB\n",
      "After input to cuda: 452.64896 MB\n",
      "\bAfter single dvec to cuda: 420.263424 MB\n",
      "\bAfter single dvec to cuda: 421.361664 MB\n",
      "\bAfter single dvec to cuda: 430.335488 MB\n",
      "\bAfter single dvec to cuda: 439.312384 MB\n",
      "After dvec to cuda: 439.31648 MB\n",
      "After forward to cuda: 4339.469312 MB\n"
     ]
    },
    {
     "name": "stderr",
     "output_type": "stream",
     "text": [
      "2021-11-24 17:11:32,146 - INFO - Wrote summary at step 949\n"
     ]
    },
    {
     "name": "stdout",
     "output_type": "stream",
     "text": [
      "After input to cuda: 439.673856 MB\n",
      "\bAfter single dvec to cuda: 423.581184 MB\n",
      "\bAfter single dvec to cuda: 432.557568 MB\n",
      "\bAfter single dvec to cuda: 435.011072 MB\n",
      "\bAfter single dvec to cuda: 437.468672 MB\n",
      "After dvec to cuda: 437.472768 MB\n",
      "After forward to cuda: 4336.817664 MB\n",
      "After input to cuda: 437.293056 MB\n",
      "\bAfter single dvec to cuda: 423.349248 MB\n",
      "\bAfter single dvec to cuda: 432.593408 MB\n",
      "\bAfter single dvec to cuda: 436.434944 MB\n",
      "\bAfter single dvec to cuda: 443.239424 MB\n",
      "After dvec to cuda: 443.24352 MB\n",
      "After forward to cuda: 4342.54848 MB\n"
     ]
    },
    {
     "name": "stderr",
     "output_type": "stream",
     "text": [
      "2021-11-24 17:11:32,864 - INFO - Wrote summary at step 950\n"
     ]
    },
    {
     "name": "stdout",
     "output_type": "stream",
     "text": [
      "After input to cuda: 443.023872 MB\n",
      "\bAfter single dvec to cuda: 423.209472 MB\n",
      "\bAfter single dvec to cuda: 432.728064 MB\n",
      "\bAfter single dvec to cuda: 440.886784 MB\n",
      "\bAfter single dvec to cuda: 446.061568 MB\n",
      "After dvec to cuda: 446.065664 MB\n",
      "After forward to cuda: 4346.953728 MB\n",
      "After input to cuda: 446.065664 MB\n",
      "\bAfter single dvec to cuda: 421.03552 MB\n",
      "\bAfter single dvec to cuda: 430.27968 MB\n",
      "\bAfter single dvec to cuda: 431.376384 MB\n",
      "\bAfter single dvec to cuda: 439.705088 MB\n",
      "After dvec to cuda: 439.709184 MB\n",
      "After forward to cuda: 4339.233792 MB\n"
     ]
    },
    {
     "name": "stderr",
     "output_type": "stream",
     "text": [
      "2021-11-24 17:11:33,569 - INFO - Wrote summary at step 951\n"
     ]
    },
    {
     "name": "stdout",
     "output_type": "stream",
     "text": [
      "After input to cuda: 439.709184 MB\n",
      "\bAfter single dvec to cuda: 415.333888 MB\n",
      "\bAfter single dvec to cuda: 425.638912 MB\n",
      "\bAfter single dvec to cuda: 435.702272 MB\n",
      "\bAfter single dvec to cuda: 444.67968 MB\n",
      "After dvec to cuda: 444.683776 MB\n",
      "After forward to cuda: 4345.775104 MB\n",
      "After input to cuda: 445.285888 MB\n",
      "\bAfter single dvec to cuda: 422.181888 MB\n",
      "\bAfter single dvec to cuda: 425.992704 MB\n",
      "\bAfter single dvec to cuda: 435.780096 MB\n",
      "\bAfter single dvec to cuda: 446.925824 MB\n",
      "After dvec to cuda: 446.92992 MB\n",
      "After forward to cuda: 4346.61376 MB\n"
     ]
    },
    {
     "name": "stderr",
     "output_type": "stream",
     "text": [
      "2021-11-24 17:11:34,274 - INFO - Wrote summary at step 952\n"
     ]
    },
    {
     "name": "stdout",
     "output_type": "stream",
     "text": [
      "After input to cuda: 447.089152 MB\n",
      "\bAfter single dvec to cuda: 423.865856 MB\n",
      "\bAfter single dvec to cuda: 432.023552 MB\n",
      "\bAfter single dvec to cuda: 441.270272 MB\n",
      "\bAfter single dvec to cuda: 451.876352 MB\n",
      "After dvec to cuda: 451.880448 MB\n",
      "After forward to cuda: 4352.8064 MB\n",
      "After input to cuda: 451.119104 MB\n",
      "\bAfter single dvec to cuda: 420.221952 MB\n",
      "\bAfter single dvec to cuda: 430.801408 MB\n",
      "\bAfter single dvec to cuda: 441.13664 MB\n",
      "\bAfter single dvec to cuda: 451.197952 MB\n",
      "After dvec to cuda: 451.202048 MB\n",
      "After forward to cuda: 4351.33696 MB\n"
     ]
    },
    {
     "name": "stderr",
     "output_type": "stream",
     "text": [
      "2021-11-24 17:11:35,000 - INFO - Wrote summary at step 953\n"
     ]
    },
    {
     "name": "stdout",
     "output_type": "stream",
     "text": [
      "After input to cuda: 451.125248 MB\n",
      "\bAfter single dvec to cuda: 419.52256 MB\n",
      "\bAfter single dvec to cuda: 428.22656 MB\n",
      "\bAfter single dvec to cuda: 436.386816 MB\n",
      "\bAfter single dvec to cuda: 445.635072 MB\n",
      "After dvec to cuda: 445.639168 MB\n",
      "After forward to cuda: 4346.76736 MB\n",
      "After input to cuda: 445.715968 MB\n",
      "\bAfter single dvec to cuda: 423.134208 MB\n",
      "\bAfter single dvec to cuda: 433.197568 MB\n",
      "\bAfter single dvec to cuda: 440.54272 MB\n",
      "\bAfter single dvec to cuda: 447.614464 MB\n",
      "After dvec to cuda: 447.61856 MB\n",
      "After forward to cuda: 4348.663296 MB\n"
     ]
    },
    {
     "name": "stderr",
     "output_type": "stream",
     "text": [
      "2021-11-24 17:11:35,706 - INFO - Wrote summary at step 954\n"
     ]
    },
    {
     "name": "stdout",
     "output_type": "stream",
     "text": [
      "After input to cuda: 447.61856 MB\n",
      "\bAfter single dvec to cuda: 423.212032 MB\n",
      "\bAfter single dvec to cuda: 433.818112 MB\n",
      "\bAfter single dvec to cuda: 443.333632 MB\n",
      "\bAfter single dvec to cuda: 444.811264 MB\n",
      "After dvec to cuda: 444.81536 MB\n",
      "After forward to cuda: 4345.267712 MB\n",
      "After input to cuda: 445.771776 MB\n",
      "\bAfter single dvec to cuda: 416.96512 MB\n",
      "\bAfter single dvec to cuda: 427.271168 MB\n",
      "\bAfter single dvec to cuda: 435.701248 MB\n",
      "\bAfter single dvec to cuda: 445.21984 MB\n",
      "After dvec to cuda: 445.223936 MB\n",
      "After forward to cuda: 4343.8208 MB\n"
     ]
    },
    {
     "name": "stderr",
     "output_type": "stream",
     "text": [
      "2021-11-24 17:11:36,436 - INFO - Wrote summary at step 955\n"
     ]
    },
    {
     "name": "stdout",
     "output_type": "stream",
     "text": [
      "After input to cuda: 444.869632 MB\n",
      "\bAfter single dvec to cuda: 423.000064 MB\n",
      "\bAfter single dvec to cuda: 431.977984 MB\n",
      "\bAfter single dvec to cuda: 439.161344 MB\n",
      "\bAfter single dvec to cuda: 448.409088 MB\n",
      "After dvec to cuda: 448.413184 MB\n",
      "After forward to cuda: 4347.937792 MB\n",
      "After input to cuda: 447.811072 MB\n",
      "\bAfter single dvec to cuda: 422.367232 MB\n",
      "\bAfter single dvec to cuda: 425.637888 MB\n",
      "\bAfter single dvec to cuda: 427.549696 MB\n",
      "\bAfter single dvec to cuda: 437.833728 MB\n",
      "After dvec to cuda: 437.837824 MB\n",
      "After forward to cuda: 4338.310656 MB\n"
     ]
    },
    {
     "name": "stderr",
     "output_type": "stream",
     "text": [
      "2021-11-24 17:11:37,159 - INFO - Wrote summary at step 956\n"
     ]
    },
    {
     "name": "stdout",
     "output_type": "stream",
     "text": [
      "After input to cuda: 437.837824 MB\n",
      "\bAfter single dvec to cuda: 416.964096 MB\n",
      "\bAfter single dvec to cuda: 418.444288 MB\n",
      "\bAfter single dvec to cuda: 419.54304 MB\n",
      "\bAfter single dvec to cuda: 427.703296 MB\n",
      "After dvec to cuda: 427.707392 MB\n",
      "After forward to cuda: 4328.748544 MB\n",
      "After input to cuda: 427.707392 MB\n",
      "\bAfter single dvec to cuda: 423.183872 MB\n",
      "\bAfter single dvec to cuda: 431.612928 MB\n",
      "\bAfter single dvec to cuda: 440.315392 MB\n",
      "\bAfter single dvec to cuda: 449.559552 MB\n",
      "After dvec to cuda: 449.563648 MB\n",
      "After forward to cuda: 4349.690368 MB\n"
     ]
    },
    {
     "name": "stderr",
     "output_type": "stream",
     "text": [
      "2021-11-24 17:11:37,877 - INFO - Wrote summary at step 957\n"
     ]
    },
    {
     "name": "stdout",
     "output_type": "stream",
     "text": [
      "After input to cuda: 450.16576 MB\n",
      "\bAfter single dvec to cuda: 421.095424 MB\n",
      "\bAfter single dvec to cuda: 431.398912 MB\n",
      "\bAfter single dvec to cuda: 440.91648 MB\n",
      "\bAfter single dvec to cuda: 451.251712 MB\n",
      "After dvec to cuda: 451.255808 MB\n",
      "After forward to cuda: 4350.283264 MB\n",
      "After input to cuda: 450.712064 MB\n",
      "\bAfter single dvec to cuda: 421.36576 MB\n",
      "\bAfter single dvec to cuda: 430.341632 MB\n",
      "\bAfter single dvec to cuda: 440.403456 MB\n",
      "\bAfter single dvec to cuda: 450.46272 MB\n",
      "After dvec to cuda: 450.466816 MB\n",
      "After forward to cuda: 4349.991424 MB\n"
     ]
    },
    {
     "name": "stderr",
     "output_type": "stream",
     "text": [
      "2021-11-24 17:11:38,607 - INFO - Wrote summary at step 958\n"
     ]
    },
    {
     "name": "stdout",
     "output_type": "stream",
     "text": [
      "After input to cuda: 450.408448 MB\n",
      "\bAfter single dvec to cuda: 423.184896 MB\n",
      "\bAfter single dvec to cuda: 426.972672 MB\n",
      "\bAfter single dvec to cuda: 429.577216 MB\n",
      "\bAfter single dvec to cuda: 435.018752 MB\n",
      "After dvec to cuda: 435.022848 MB\n",
      "After forward to cuda: 4335.159296 MB\n",
      "After input to cuda: 435.34336 MB\n",
      "\bAfter single dvec to cuda: 423.529984 MB\n",
      "\bAfter single dvec to cuda: 434.134528 MB\n",
      "\bAfter single dvec to cuda: 435.776512 MB\n",
      "\bAfter single dvec to cuda: 445.29408 MB\n",
      "After dvec to cuda: 445.298176 MB\n",
      "After forward to cuda: 4344.502272 MB\n"
     ]
    },
    {
     "name": "stderr",
     "output_type": "stream",
     "text": [
      "2021-11-24 17:11:39,313 - INFO - Wrote summary at step 959\n"
     ]
    },
    {
     "name": "stdout",
     "output_type": "stream",
     "text": [
      "After input to cuda: 444.977664 MB\n",
      "\bAfter single dvec to cuda: 420.76416 MB\n",
      "\bAfter single dvec to cuda: 427.024384 MB\n",
      "\bAfter single dvec to cuda: 436.540928 MB\n",
      "\bAfter single dvec to cuda: 445.516288 MB\n",
      "After dvec to cuda: 445.520384 MB\n",
      "After forward to cuda: 4346.022912 MB\n",
      "After input to cuda: 445.520384 MB\n",
      "\bAfter single dvec to cuda: 423.182848 MB\n",
      "\bAfter single dvec to cuda: 431.61344 MB\n",
      "\bAfter single dvec to cuda: 435.158528 MB\n",
      "\bAfter single dvec to cuda: 444.950528 MB\n",
      "After dvec to cuda: 444.954624 MB\n",
      "After forward to cuda: 4345.470464 MB\n"
     ]
    },
    {
     "name": "stderr",
     "output_type": "stream",
     "text": [
      "2021-11-24 17:11:40,020 - INFO - Wrote summary at step 960\n"
     ]
    },
    {
     "name": "stdout",
     "output_type": "stream",
     "text": [
      "After input to cuda: 445.815808 MB\n",
      "\bAfter single dvec to cuda: 422.168576 MB\n",
      "\bAfter single dvec to cuda: 431.95648 MB\n",
      "\bAfter single dvec to cuda: 440.38656 MB\n",
      "\bAfter single dvec to cuda: 450.445824 MB\n",
      "After dvec to cuda: 450.44992 MB\n",
      "After forward to cuda: 4349.976064 MB\n",
      "After input to cuda: 449.762816 MB\n",
      "\bAfter single dvec to cuda: 422.938112 MB\n",
      "\bAfter single dvec to cuda: 434.082816 MB\n",
      "\bAfter single dvec to cuda: 444.685824 MB\n",
      "\bAfter single dvec to cuda: 452.977664 MB\n",
      "After dvec to cuda: 452.98176 MB\n",
      "After forward to cuda: 4352.506368 MB\n"
     ]
    },
    {
     "name": "stderr",
     "output_type": "stream",
     "text": [
      "2021-11-24 17:11:40,727 - INFO - Wrote summary at step 961\n"
     ]
    },
    {
     "name": "stdout",
     "output_type": "stream",
     "text": [
      "After input to cuda: 453.641216 MB\n",
      "\bAfter single dvec to cuda: 416.817152 MB\n",
      "\bAfter single dvec to cuda: 421.176832 MB\n",
      "\bAfter single dvec to cuda: 424.45056 MB\n",
      "\bAfter single dvec to cuda: 434.242048 MB\n",
      "After dvec to cuda: 434.246144 MB\n",
      "After forward to cuda: 4333.596672 MB\n",
      "After input to cuda: 433.412608 MB\n",
      "\bAfter single dvec to cuda: 416.0128 MB\n",
      "\bAfter single dvec to cuda: 424.986112 MB\n",
      "\bAfter single dvec to cuda: 429.341184 MB\n",
      "\bAfter single dvec to cuda: 438.857216 MB\n",
      "After dvec to cuda: 438.861312 MB\n",
      "After forward to cuda: 4338.963456 MB\n"
     ]
    },
    {
     "name": "stderr",
     "output_type": "stream",
     "text": [
      "2021-11-24 17:11:41,451 - INFO - Wrote summary at step 962\n"
     ]
    },
    {
     "name": "stdout",
     "output_type": "stream",
     "text": [
      "After input to cuda: 439.46752 MB\n",
      "\bAfter single dvec to cuda: 423.791616 MB\n",
      "\bAfter single dvec to cuda: 433.580032 MB\n",
      "\bAfter single dvec to cuda: 436.767232 MB\n",
      "\bAfter single dvec to cuda: 447.643136 MB\n",
      "After dvec to cuda: 447.647232 MB\n",
      "After forward to cuda: 4347.74016 MB\n",
      "After input to cuda: 447.638016 MB\n",
      "\bAfter single dvec to cuda: 424.07936 MB\n",
      "\bAfter single dvec to cuda: 430.340608 MB\n",
      "\bAfter single dvec to cuda: 439.041024 MB\n",
      "\bAfter single dvec to cuda: 448.827904 MB\n",
      "After dvec to cuda: 448.832 MB\n",
      "After forward to cuda: 4349.367808 MB\n"
     ]
    },
    {
     "name": "stderr",
     "output_type": "stream",
     "text": [
      "2021-11-24 17:11:42,158 - INFO - Wrote summary at step 963\n"
     ]
    },
    {
     "name": "stdout",
     "output_type": "stream",
     "text": [
      "After input to cuda: 449.02656 MB\n",
      "\bAfter single dvec to cuda: 422.915584 MB\n",
      "\bAfter single dvec to cuda: 433.517056 MB\n",
      "\bAfter single dvec to cuda: 442.762752 MB\n",
      "\bAfter single dvec to cuda: 448.9984 MB\n",
      "After dvec to cuda: 449.002496 MB\n",
      "After forward to cuda: 4348.527104 MB\n",
      "After input to cuda: 449.002496 MB\n",
      "\bAfter single dvec to cuda: 422.370304 MB\n",
      "\bAfter single dvec to cuda: 433.247744 MB\n",
      "\bAfter single dvec to cuda: 444.626944 MB\n",
      "\bAfter single dvec to cuda: 453.872128 MB\n",
      "After dvec to cuda: 453.876224 MB\n",
      "After forward to cuda: 4354.173952 MB\n"
     ]
    },
    {
     "name": "stderr",
     "output_type": "stream",
     "text": [
      "2021-11-24 17:11:42,906 - INFO - Wrote summary at step 964\n"
     ]
    },
    {
     "name": "stdout",
     "output_type": "stream",
     "text": [
      "After input to cuda: 453.400064 MB\n",
      "\bAfter single dvec to cuda: 423.496192 MB\n",
      "\bAfter single dvec to cuda: 431.383552 MB\n",
      "\bAfter single dvec to cuda: 437.101568 MB\n",
      "\bAfter single dvec to cuda: 442.817536 MB\n",
      "After dvec to cuda: 442.821632 MB\n",
      "After forward to cuda: 4342.030848 MB\n",
      "After input to cuda: 442.50624 MB\n",
      "\bAfter single dvec to cuda: 417.507328 MB\n",
      "\bAfter single dvec to cuda: 427.8144 MB\n",
      "\bAfter single dvec to cuda: 438.687744 MB\n",
      "\bAfter single dvec to cuda: 446.844928 MB\n",
      "After dvec to cuda: 446.849024 MB\n",
      "After forward to cuda: 4346.78016 MB\n"
     ]
    },
    {
     "name": "stderr",
     "output_type": "stream",
     "text": [
      "2021-11-24 17:11:43,614 - INFO - Wrote summary at step 965\n"
     ]
    },
    {
     "name": "stdout",
     "output_type": "stream",
     "text": [
      "After input to cuda: 447.284224 MB\n",
      "\bAfter single dvec to cuda: 423.565824 MB\n",
      "\bAfter single dvec to cuda: 431.1808 MB\n",
      "\bAfter single dvec to cuda: 433.908736 MB\n",
      "\bAfter single dvec to cuda: 443.155968 MB\n",
      "After dvec to cuda: 443.160064 MB\n",
      "After forward to cuda: 4342.93248 MB\n",
      "After input to cuda: 443.321856 MB\n",
      "\bAfter single dvec to cuda: 423.806464 MB\n",
      "\bAfter single dvec to cuda: 432.781824 MB\n",
      "\bAfter single dvec to cuda: 439.441408 MB\n",
      "\bAfter single dvec to cuda: 449.503232 MB\n",
      "After dvec to cuda: 449.507328 MB\n",
      "After forward to cuda: 4349.310976 MB\n"
     ]
    },
    {
     "name": "stderr",
     "output_type": "stream",
     "text": [
      "2021-11-24 17:11:44,318 - INFO - Wrote summary at step 966\n"
     ]
    },
    {
     "name": "stdout",
     "output_type": "stream",
     "text": [
      "After input to cuda: 449.786368 MB\n",
      "\bAfter single dvec to cuda: 422.45632 MB\n",
      "\bAfter single dvec to cuda: 432.790016 MB\n",
      "\bAfter single dvec to cuda: 441.46432 MB\n",
      "\bAfter single dvec to cuda: 451.25632 MB\n",
      "After dvec to cuda: 451.260416 MB\n",
      "After forward to cuda: 4350.59712 MB\n",
      "After input to cuda: 450.499072 MB\n",
      "\bAfter single dvec to cuda: 423.326208 MB\n",
      "\bAfter single dvec to cuda: 430.00832 MB\n",
      "\bAfter single dvec to cuda: 438.711296 MB\n",
      "\bAfter single dvec to cuda: 448.969216 MB\n",
      "After dvec to cuda: 448.973312 MB\n",
      "After forward to cuda: 4348.49792 MB\n"
     ]
    },
    {
     "name": "stderr",
     "output_type": "stream",
     "text": [
      "2021-11-24 17:11:45,037 - INFO - Wrote summary at step 967\n"
     ]
    },
    {
     "name": "stdout",
     "output_type": "stream",
     "text": [
      "After input to cuda: 448.973312 MB\n",
      "\bAfter single dvec to cuda: 423.300608 MB\n",
      "\bAfter single dvec to cuda: 433.636352 MB\n",
      "\bAfter single dvec to cuda: 443.695616 MB\n",
      "\bAfter single dvec to cuda: 453.213696 MB\n",
      "After dvec to cuda: 453.217792 MB\n",
      "After forward to cuda: 4353.862144 MB\n",
      "After input to cuda: 453.485056 MB\n",
      "\bAfter single dvec to cuda: 423.171584 MB\n",
      "\bAfter single dvec to cuda: 433.504768 MB\n",
      "\bAfter single dvec to cuda: 444.109312 MB\n",
      "\bAfter single dvec to cuda: 449.826304 MB\n",
      "After dvec to cuda: 449.8304 MB\n",
      "After forward to cuda: 4351.090176 MB\n"
     ]
    },
    {
     "name": "stderr",
     "output_type": "stream",
     "text": [
      "2021-11-24 17:11:45,745 - INFO - Wrote summary at step 968\n"
     ]
    },
    {
     "name": "stdout",
     "output_type": "stream",
     "text": [
      "After input to cuda: 450.209792 MB\n",
      "\bAfter single dvec to cuda: 423.968256 MB\n",
      "\bAfter single dvec to cuda: 427.596288 MB\n",
      "\bAfter single dvec to cuda: 435.213312 MB\n",
      "\bAfter single dvec to cuda: 444.462592 MB\n",
      "After dvec to cuda: 444.466688 MB\n",
      "After forward to cuda: 4343.803392 MB\n",
      "After input to cuda: 443.705344 MB\n",
      "\bAfter single dvec to cuda: 423.182336 MB\n",
      "\bAfter single dvec to cuda: 432.700928 MB\n",
      "\bAfter single dvec to cuda: 440.293888 MB\n",
      "\bAfter single dvec to cuda: 450.627072 MB\n",
      "After dvec to cuda: 450.631168 MB\n",
      "After forward to cuda: 4350.476288 MB\n"
     ]
    },
    {
     "name": "stderr",
     "output_type": "stream",
     "text": [
      "2021-11-24 17:11:46,472 - INFO - Wrote summary at step 969\n"
     ]
    },
    {
     "name": "stdout",
     "output_type": "stream",
     "text": [
      "After input to cuda: 450.95168 MB\n",
      "\bAfter single dvec to cuda: 420.813824 MB\n",
      "\bAfter single dvec to cuda: 431.149568 MB\n",
      "\bAfter single dvec to cuda: 440.665088 MB\n",
      "\bAfter single dvec to cuda: 443.152896 MB\n",
      "After dvec to cuda: 443.156992 MB\n",
      "After forward to cuda: 4342.929408 MB\n",
      "After input to cuda: 442.83648 MB\n",
      "\bAfter single dvec to cuda: 423.159808 MB\n",
      "\bAfter single dvec to cuda: 430.23104 MB\n",
      "\bAfter single dvec to cuda: 432.123904 MB\n",
      "\bAfter single dvec to cuda: 442.4576 MB\n",
      "After dvec to cuda: 442.461696 MB\n",
      "After forward to cuda: 4343.59552 MB\n"
     ]
    },
    {
     "name": "stderr",
     "output_type": "stream",
     "text": [
      "2021-11-24 17:11:47,178 - INFO - Wrote summary at step 970\n"
     ]
    },
    {
     "name": "stdout",
     "output_type": "stream",
     "text": [
      "After input to cuda: 442.461696 MB\n",
      "\bAfter single dvec to cuda: 423.104 MB\n",
      "\bAfter single dvec to cuda: 430.178816 MB\n",
      "\bAfter single dvec to cuda: 438.610944 MB\n",
      "\bAfter single dvec to cuda: 448.398848 MB\n",
      "After dvec to cuda: 448.402944 MB\n",
      "After forward to cuda: 4348.214272 MB\n",
      "After input to cuda: 448.402944 MB\n",
      "\bAfter single dvec to cuda: 423.107072 MB\n",
      "\bAfter single dvec to cuda: 430.124032 MB\n",
      "\bAfter single dvec to cuda: 439.098368 MB\n",
      "\bAfter single dvec to cuda: 448.344064 MB\n",
      "After dvec to cuda: 448.34816 MB\n",
      "After forward to cuda: 4348.668416 MB\n"
     ]
    },
    {
     "name": "stderr",
     "output_type": "stream",
     "text": [
      "2021-11-24 17:11:47,899 - INFO - Wrote summary at step 971\n"
     ]
    },
    {
     "name": "stdout",
     "output_type": "stream",
     "text": [
      "After input to cuda: 448.34816 MB\n",
      "\bAfter single dvec to cuda: 421.039104 MB\n",
      "\bAfter single dvec to cuda: 431.100416 MB\n",
      "\bAfter single dvec to cuda: 438.44608 MB\n",
      "\bAfter single dvec to cuda: 448.508416 MB\n",
      "After dvec to cuda: 448.512512 MB\n",
      "After forward to cuda: 4348.639232 MB\n",
      "After input to cuda: 449.114624 MB\n",
      "\bAfter single dvec to cuda: 423.789056 MB\n",
      "\bAfter single dvec to cuda: 434.120704 MB\n",
      "\bAfter single dvec to cuda: 442.553856 MB\n",
      "\bAfter single dvec to cuda: 450.44224 MB\n",
      "After dvec to cuda: 450.446336 MB\n",
      "After forward to cuda: 4349.810176 MB\n"
     ]
    },
    {
     "name": "stderr",
     "output_type": "stream",
     "text": [
      "2021-11-24 17:11:48,606 - INFO - Wrote summary at step 972\n"
     ]
    },
    {
     "name": "stdout",
     "output_type": "stream",
     "text": [
      "After input to cuda: 450.285568 MB\n",
      "\bAfter single dvec to cuda: 423.599616 MB\n",
      "\bAfter single dvec to cuda: 434.205184 MB\n",
      "\bAfter single dvec to cuda: 445.080576 MB\n",
      "\bAfter single dvec to cuda: 454.055936 MB\n",
      "After dvec to cuda: 454.060032 MB\n",
      "After forward to cuda: 4353.711616 MB\n",
      "After input to cuda: 453.618688 MB\n",
      "\bAfter single dvec to cuda: 423.156736 MB\n",
      "\bAfter single dvec to cuda: 428.599296 MB\n",
      "\bAfter single dvec to cuda: 431.869952 MB\n",
      "\bAfter single dvec to cuda: 440.571392 MB\n",
      "After dvec to cuda: 440.575488 MB\n",
      "After forward to cuda: 4340.100096 MB\n"
     ]
    },
    {
     "name": "stderr",
     "output_type": "stream",
     "text": [
      "2021-11-24 17:11:49,314 - INFO - Wrote summary at step 973\n"
     ]
    },
    {
     "name": "stdout",
     "output_type": "stream",
     "text": [
      "After input to cuda: 440.575488 MB\n",
      "\bAfter single dvec to cuda: 423.181312 MB\n",
      "\bAfter single dvec to cuda: 427.540992 MB\n",
      "\bAfter single dvec to cuda: 435.160064 MB\n",
      "\bAfter single dvec to cuda: 445.391872 MB\n",
      "After dvec to cuda: 445.395968 MB\n",
      "After forward to cuda: 4344.920576 MB\n",
      "After input to cuda: 445.319168 MB\n",
      "\bAfter single dvec to cuda: 423.08352 MB\n",
      "\bAfter single dvec to cuda: 432.05888 MB\n",
      "\bAfter single dvec to cuda: 441.574912 MB\n",
      "\bAfter single dvec to cuda: 450.546688 MB\n",
      "After dvec to cuda: 450.550784 MB\n",
      "After forward to cuda: 4351.537152 MB\n"
     ]
    },
    {
     "name": "stderr",
     "output_type": "stream",
     "text": [
      "2021-11-24 17:11:50,019 - INFO - Wrote summary at step 974\n"
     ]
    },
    {
     "name": "stdout",
     "output_type": "stream",
     "text": [
      "After input to cuda: 451.224576 MB\n",
      "\bAfter single dvec to cuda: 423.782912 MB\n",
      "\bAfter single dvec to cuda: 429.229568 MB\n",
      "\bAfter single dvec to cuda: 439.563776 MB\n",
      "\bAfter single dvec to cuda: 450.16832 MB\n",
      "After dvec to cuda: 450.172416 MB\n",
      "After forward to cuda: 4349.697024 MB\n",
      "After input to cuda: 450.172416 MB\n",
      "\bAfter single dvec to cuda: 423.780864 MB\n",
      "\bAfter single dvec to cuda: 425.422336 MB\n",
      "\bAfter single dvec to cuda: 438.744064 MB\n",
      "\bAfter single dvec to cuda: 447.753728 MB\n",
      "After dvec to cuda: 447.757824 MB\n",
      "After forward to cuda: 4347.446784 MB\n"
     ]
    },
    {
     "name": "stderr",
     "output_type": "stream",
     "text": [
      "2021-11-24 17:11:50,728 - INFO - Wrote summary at step 975\n"
     ]
    },
    {
     "name": "stdout",
     "output_type": "stream",
     "text": [
      "After input to cuda: 447.922176 MB\n",
      "\bAfter single dvec to cuda: 422.611968 MB\n",
      "\bAfter single dvec to cuda: 432.67584 MB\n",
      "\bAfter single dvec to cuda: 435.40224 MB\n",
      "\bAfter single dvec to cuda: 436.773888 MB\n",
      "After dvec to cuda: 436.777984 MB\n",
      "After forward to cuda: 4337.30816 MB\n",
      "After input to cuda: 437.812224 MB\n",
      "\bAfter single dvec to cuda: 424.70656 MB\n",
      "\bAfter single dvec to cuda: 428.517888 MB\n",
      "\bAfter single dvec to cuda: 434.232832 MB\n",
      "\bAfter single dvec to cuda: 443.206656 MB\n",
      "After dvec to cuda: 443.210752 MB\n",
      "After forward to cuda: 4342.905344 MB\n"
     ]
    },
    {
     "name": "stderr",
     "output_type": "stream",
     "text": [
      "2021-11-24 17:11:51,433 - INFO - Wrote summary at step 976\n"
     ]
    },
    {
     "name": "stdout",
     "output_type": "stream",
     "text": [
      "After input to cuda: 441.415168 MB\n",
      "\bAfter single dvec to cuda: 417.231872 MB\n",
      "\bAfter single dvec to cuda: 428.107264 MB\n",
      "\bAfter single dvec to cuda: 438.437888 MB\n",
      "\bAfter single dvec to cuda: 448.500224 MB\n",
      "After dvec to cuda: 448.50432 MB\n",
      "After forward to cuda: 4348.028928 MB\n",
      "After input to cuda: 448.50432 MB\n",
      "\bAfter single dvec to cuda: 413.975552 MB\n",
      "\bAfter single dvec to cuda: 424.310272 MB\n",
      "\bAfter single dvec to cuda: 434.912768 MB\n",
      "\bAfter single dvec to cuda: 444.156416 MB\n",
      "After dvec to cuda: 444.160512 MB\n",
      "After forward to cuda: 4345.300992 MB\n"
     ]
    },
    {
     "name": "stderr",
     "output_type": "stream",
     "text": [
      "2021-11-24 17:11:52,139 - INFO - Wrote summary at step 977\n"
     ]
    },
    {
     "name": "stdout",
     "output_type": "stream",
     "text": [
      "After input to cuda: 444.160512 MB\n",
      "\bAfter single dvec to cuda: 423.156736 MB\n",
      "\bAfter single dvec to cuda: 432.351744 MB\n",
      "\bAfter single dvec to cuda: 435.625472 MB\n",
      "\bAfter single dvec to cuda: 444.873728 MB\n",
      "After dvec to cuda: 444.877824 MB\n",
      "After forward to cuda: 4345.671168 MB\n",
      "After input to cuda: 445.919232 MB\n",
      "\bAfter single dvec to cuda: 424.174592 MB\n",
      "\bAfter single dvec to cuda: 430.857216 MB\n",
      "\bAfter single dvec to cuda: 441.731072 MB\n",
      "\bAfter single dvec to cuda: 451.790848 MB\n",
      "After dvec to cuda: 451.794944 MB\n",
      "After forward to cuda: 4350.851584 MB\n"
     ]
    },
    {
     "name": "stderr",
     "output_type": "stream",
     "text": [
      "2021-11-24 17:11:52,844 - INFO - Wrote summary at step 978\n"
     ]
    },
    {
     "name": "stdout",
     "output_type": "stream",
     "text": [
      "After input to cuda: 451.711488 MB\n",
      "\bAfter single dvec to cuda: 422.875648 MB\n",
      "\bAfter single dvec to cuda: 427.64032 MB\n",
      "\bAfter single dvec to cuda: 436.071936 MB\n",
      "\bAfter single dvec to cuda: 444.22912 MB\n",
      "After dvec to cuda: 444.233216 MB\n",
      "After forward to cuda: 4344.519168 MB\n",
      "After input to cuda: 444.06528 MB\n",
      "\bAfter single dvec to cuda: 423.973376 MB\n",
      "\bAfter single dvec to cuda: 433.493504 MB\n",
      "\bAfter single dvec to cuda: 442.196992 MB\n",
      "\bAfter single dvec to cuda: 451.715584 MB\n",
      "After dvec to cuda: 451.71968 MB\n",
      "After forward to cuda: 4351.30624 MB\n"
     ]
    },
    {
     "name": "stderr",
     "output_type": "stream",
     "text": [
      "2021-11-24 17:11:53,547 - INFO - Wrote summary at step 979\n"
     ]
    },
    {
     "name": "stdout",
     "output_type": "stream",
     "text": [
      "After input to cuda: 451.245056 MB\n",
      "\bAfter single dvec to cuda: 423.444992 MB\n",
      "\bAfter single dvec to cuda: 432.962048 MB\n",
      "\bAfter single dvec to cuda: 434.876416 MB\n",
      "\bAfter single dvec to cuda: 444.123648 MB\n",
      "After dvec to cuda: 444.127744 MB\n",
      "After forward to cuda: 4344.797696 MB\n",
      "After input to cuda: 444.1728 MB\n",
      "\bAfter single dvec to cuda: 423.568384 MB\n",
      "\bAfter single dvec to cuda: 430.537728 MB\n",
      "\bAfter single dvec to cuda: 440.86784 MB\n",
      "\bAfter single dvec to cuda: 449.270784 MB\n",
      "After dvec to cuda: 449.27488 MB\n",
      "After forward to cuda: 4349.12 MB\n"
     ]
    },
    {
     "name": "stderr",
     "output_type": "stream",
     "text": [
      "2021-11-24 17:11:54,255 - INFO - Wrote summary at step 980\n"
     ]
    },
    {
     "name": "stdout",
     "output_type": "stream",
     "text": [
      "After input to cuda: 449.595392 MB\n",
      "\bAfter single dvec to cuda: 423.811072 MB\n",
      "\bAfter single dvec to cuda: 436.857344 MB\n",
      "\bAfter single dvec to cuda: 442.546688 MB\n",
      "\bAfter single dvec to cuda: 451.250176 MB\n",
      "After dvec to cuda: 451.254272 MB\n",
      "After forward to cuda: 4351.0656 MB\n",
      "After input to cuda: 450.93376 MB\n",
      "\bAfter single dvec to cuda: 420.85376 MB\n",
      "\bAfter single dvec to cuda: 429.825024 MB\n",
      "\bAfter single dvec to cuda: 437.715456 MB\n",
      "\bAfter single dvec to cuda: 448.050176 MB\n",
      "After dvec to cuda: 448.054272 MB\n",
      "After forward to cuda: 4347.57888 MB\n"
     ]
    },
    {
     "name": "stderr",
     "output_type": "stream",
     "text": [
      "2021-11-24 17:11:54,962 - INFO - Wrote summary at step 981\n"
     ]
    },
    {
     "name": "stdout",
     "output_type": "stream",
     "text": [
      "After input to cuda: 447.693824 MB\n",
      "\bAfter single dvec to cuda: 423.182848 MB\n",
      "\bAfter single dvec to cuda: 432.969216 MB\n",
      "\bAfter single dvec to cuda: 442.48832 MB\n",
      "\bAfter single dvec to cuda: 451.73248 MB\n",
      "After dvec to cuda: 451.736576 MB\n",
      "After forward to cuda: 4352.034304 MB\n",
      "After input to cuda: 452.051968 MB\n",
      "\bAfter single dvec to cuda: 422.1696 MB\n",
      "\bAfter single dvec to cuda: 431.142912 MB\n",
      "\bAfter single dvec to cuda: 438.759936 MB\n",
      "\bAfter single dvec to cuda: 448.007168 MB\n",
      "After dvec to cuda: 448.011264 MB\n",
      "After forward to cuda: 4347.22048 MB\n"
     ]
    },
    {
     "name": "stderr",
     "output_type": "stream",
     "text": [
      "2021-11-24 17:11:55,669 - INFO - Wrote summary at step 982\n"
     ]
    },
    {
     "name": "stdout",
     "output_type": "stream",
     "text": [
      "After input to cuda: 448.73728 MB\n",
      "\bAfter single dvec to cuda: 422.350848 MB\n",
      "\bAfter single dvec to cuda: 432.95232 MB\n",
      "\bAfter single dvec to cuda: 442.198016 MB\n",
      "\bAfter single dvec to cuda: 451.713536 MB\n",
      "After dvec to cuda: 451.717632 MB\n",
      "After forward to cuda: 4351.894528 MB\n",
      "After input to cuda: 451.357184 MB\n",
      "\bAfter single dvec to cuda: 423.891968 MB\n",
      "\bAfter single dvec to cuda: 428.520448 MB\n",
      "\bAfter single dvec to cuda: 435.866112 MB\n",
      "\bAfter single dvec to cuda: 444.568064 MB\n",
      "After dvec to cuda: 444.57216 MB\n",
      "After forward to cuda: 4343.776256 MB\n"
     ]
    },
    {
     "name": "stderr",
     "output_type": "stream",
     "text": [
      "2021-11-24 17:11:56,376 - INFO - Wrote summary at step 983\n"
     ]
    },
    {
     "name": "stdout",
     "output_type": "stream",
     "text": [
      "After input to cuda: 443.8912 MB\n",
      "\bAfter single dvec to cuda: 423.207424 MB\n",
      "\bAfter single dvec to cuda: 432.45312 MB\n",
      "\bAfter single dvec to cuda: 435.492352 MB\n",
      "\bAfter single dvec to cuda: 444.737536 MB\n",
      "After dvec to cuda: 444.741632 MB\n",
      "After forward to cuda: 4345.193984 MB\n",
      "After input to cuda: 445.621248 MB\n",
      "\bAfter single dvec to cuda: 422.977024 MB\n",
      "\bAfter single dvec to cuda: 433.229824 MB\n",
      "\bAfter single dvec to cuda: 443.834368 MB\n",
      "\bAfter single dvec to cuda: 453.625856 MB\n",
      "After dvec to cuda: 453.629952 MB\n",
      "After forward to cuda: 4352.274944 MB\n"
     ]
    },
    {
     "name": "stderr",
     "output_type": "stream",
     "text": [
      "2021-11-24 17:11:57,084 - INFO - Wrote summary at step 984\n"
     ]
    },
    {
     "name": "stdout",
     "output_type": "stream",
     "text": [
      "After input to cuda: 452.750336 MB\n",
      "\bAfter single dvec to cuda: 424.32 MB\n",
      "\bAfter single dvec to cuda: 434.628096 MB\n",
      "\bAfter single dvec to cuda: 443.330048 MB\n",
      "\bAfter single dvec to cuda: 452.850688 MB\n",
      "After dvec to cuda: 452.854784 MB\n",
      "After forward to cuda: 4353.905664 MB\n",
      "After input to cuda: 454.664704 MB\n",
      "\bAfter single dvec to cuda: 424.968704 MB\n",
      "\bAfter single dvec to cuda: 434.756096 MB\n",
      "\bAfter single dvec to cuda: 444.544 MB\n",
      "\bAfter single dvec to cuda: 452.874752 MB\n",
      "After dvec to cuda: 452.878848 MB\n",
      "After forward to cuda: 4352.047616 MB\n"
     ]
    },
    {
     "name": "stderr",
     "output_type": "stream",
     "text": [
      "2021-11-24 17:11:57,790 - INFO - Wrote summary at step 985\n"
     ]
    },
    {
     "name": "stdout",
     "output_type": "stream",
     "text": [
      "After input to cuda: 452.523008 MB\n",
      "\bAfter single dvec to cuda: 424.635904 MB\n",
      "\bAfter single dvec to cuda: 433.341952 MB\n",
      "\bAfter single dvec to cuda: 442.043904 MB\n",
      "\bAfter single dvec to cuda: 451.832832 MB\n",
      "After dvec to cuda: 451.836928 MB\n",
      "After forward to cuda: 4351.163904 MB\n",
      "After input to cuda: 450.787328 MB\n",
      "\bAfter single dvec to cuda: 414.762496 MB\n",
      "\bAfter single dvec to cuda: 425.015296 MB\n",
      "\bAfter single dvec to cuda: 433.668096 MB\n",
      "\bAfter single dvec to cuda: 437.483008 MB\n",
      "After dvec to cuda: 437.487104 MB\n",
      "After forward to cuda: 4337.398784 MB\n"
     ]
    },
    {
     "name": "stderr",
     "output_type": "stream",
     "text": [
      "2021-11-24 17:11:58,495 - INFO - Wrote summary at step 986\n"
     ]
    },
    {
     "name": "stdout",
     "output_type": "stream",
     "text": [
      "After input to cuda: 437.902848 MB\n",
      "\bAfter single dvec to cuda: 420.229632 MB\n",
      "\bAfter single dvec to cuda: 430.022144 MB\n",
      "\bAfter single dvec to cuda: 438.724096 MB\n",
      "\bAfter single dvec to cuda: 447.970816 MB\n",
      "After dvec to cuda: 447.974912 MB\n",
      "After forward to cuda: 4349.645824 MB\n",
      "After input to cuda: 448.469504 MB\n",
      "\bAfter single dvec to cuda: 423.709184 MB\n",
      "\bAfter single dvec to cuda: 433.499136 MB\n",
      "\bAfter single dvec to cuda: 442.742784 MB\n",
      "\bAfter single dvec to cuda: 452.257792 MB\n",
      "After dvec to cuda: 452.261888 MB\n",
      "After forward to cuda: 4353.092096 MB\n"
     ]
    },
    {
     "name": "stderr",
     "output_type": "stream",
     "text": [
      "2021-11-24 17:11:59,204 - INFO - Wrote summary at step 987\n"
     ]
    },
    {
     "name": "stdout",
     "output_type": "stream",
     "text": [
      "After input to cuda: 452.417536 MB\n",
      "\bAfter single dvec to cuda: 423.319552 MB\n",
      "\bAfter single dvec to cuda: 432.019456 MB\n",
      "\bAfter single dvec to cuda: 440.994304 MB\n",
      "\bAfter single dvec to cuda: 451.057664 MB\n",
      "After dvec to cuda: 451.06176 MB\n",
      "After forward to cuda: 4350.586368 MB\n",
      "After input to cuda: 450.188288 MB\n",
      "\bAfter single dvec to cuda: 420.15744 MB\n",
      "\bAfter single dvec to cuda: 430.411776 MB\n",
      "\bAfter single dvec to cuda: 435.31264 MB\n",
      "\bAfter single dvec to cuda: 438.311936 MB\n",
      "After dvec to cuda: 438.316032 MB\n",
      "After forward to cuda: 4337.768448 MB\n"
     ]
    },
    {
     "name": "stderr",
     "output_type": "stream",
     "text": [
      "2021-11-24 17:11:59,908 - INFO - Wrote summary at step 988\n"
     ]
    },
    {
     "name": "stdout",
     "output_type": "stream",
     "text": [
      "After input to cuda: 438.24384 MB\n",
      "\bAfter single dvec to cuda: 423.682048 MB\n",
      "\bAfter single dvec to cuda: 431.842304 MB\n",
      "\bAfter single dvec to cuda: 440.273408 MB\n",
      "\bAfter single dvec to cuda: 445.71648 MB\n",
      "After dvec to cuda: 445.720576 MB\n",
      "After forward to cuda: 4345.826304 MB\n",
      "After input to cuda: 445.792768 MB\n",
      "\bAfter single dvec to cuda: 423.754752 MB\n",
      "\bAfter single dvec to cuda: 433.54368 MB\n",
      "\bAfter single dvec to cuda: 441.428992 MB\n",
      "\bAfter single dvec to cuda: 451.216896 MB\n",
      "After dvec to cuda: 451.220992 MB\n",
      "After forward to cuda: 4350.46912 MB\n"
     ]
    },
    {
     "name": "stderr",
     "output_type": "stream",
     "text": [
      "2021-11-24 17:12:00,614 - INFO - Wrote summary at step 989\n"
     ]
    },
    {
     "name": "stdout",
     "output_type": "stream",
     "text": [
      "After input to cuda: 450.944512 MB\n",
      "\bAfter single dvec to cuda: 423.528448 MB\n",
      "\bAfter single dvec to cuda: 431.419392 MB\n",
      "\bAfter single dvec to cuda: 438.440448 MB\n",
      "\bAfter single dvec to cuda: 448.77312 MB\n",
      "After dvec to cuda: 448.777216 MB\n",
      "After forward to cuda: 4348.390912 MB\n",
      "After input to cuda: 448.456704 MB\n",
      "\bAfter single dvec to cuda: 421.851648 MB\n",
      "\bAfter single dvec to cuda: 430.283776 MB\n",
      "\bAfter single dvec to cuda: 431.381504 MB\n",
      "\bAfter single dvec to cuda: 440.083456 MB\n",
      "After dvec to cuda: 440.087552 MB\n",
      "After forward to cuda: 4339.957248 MB\n"
     ]
    },
    {
     "name": "stderr",
     "output_type": "stream",
     "text": [
      "2021-11-24 17:12:01,320 - INFO - Wrote summary at step 990\n"
     ]
    },
    {
     "name": "stdout",
     "output_type": "stream",
     "text": [
      "After input to cuda: 440.408064 MB\n",
      "\bAfter single dvec to cuda: 421.356032 MB\n",
      "\bAfter single dvec to cuda: 430.060544 MB\n",
      "\bAfter single dvec to cuda: 437.408256 MB\n",
      "\bAfter single dvec to cuda: 444.751872 MB\n",
      "After dvec to cuda: 444.755968 MB\n",
      "After forward to cuda: 4344.937984 MB\n",
      "After input to cuda: 444.435456 MB\n",
      "\bAfter single dvec to cuda: 423.183872 MB\n",
      "\bAfter single dvec to cuda: 432.704512 MB\n",
      "\bAfter single dvec to cuda: 442.491392 MB\n",
      "\bAfter single dvec to cuda: 452.827136 MB\n",
      "After dvec to cuda: 452.831232 MB\n",
      "After forward to cuda: 4353.037824 MB\n"
     ]
    },
    {
     "name": "stderr",
     "output_type": "stream",
     "text": [
      "2021-11-24 17:12:02,029 - INFO - Wrote summary at step 991\n"
     ]
    },
    {
     "name": "stdout",
     "output_type": "stream",
     "text": [
      "After input to cuda: 453.541888 MB\n",
      "\bAfter single dvec to cuda: 423.108096 MB\n",
      "\bAfter single dvec to cuda: 432.085504 MB\n",
      "\bAfter single dvec to cuda: 438.329344 MB\n",
      "\bAfter single dvec to cuda: 448.664064 MB\n",
      "After dvec to cuda: 448.66816 MB\n",
      "After forward to cuda: 4347.510784 MB\n",
      "After input to cuda: 447.957504 MB\n",
      "\bAfter single dvec to cuda: 423.183872 MB\n",
      "\bAfter single dvec to cuda: 430.802432 MB\n",
      "\bAfter single dvec to cuda: 440.380928 MB\n",
      "\bAfter single dvec to cuda: 449.630208 MB\n",
      "After dvec to cuda: 449.634304 MB\n",
      "After forward to cuda: 4349.158912 MB\n"
     ]
    },
    {
     "name": "stderr",
     "output_type": "stream",
     "text": [
      "2021-11-24 17:12:02,737 - INFO - Wrote summary at step 992\n"
     ]
    },
    {
     "name": "stdout",
     "output_type": "stream",
     "text": [
      "After input to cuda: 449.634304 MB\n",
      "\bAfter single dvec to cuda: 421.850112 MB\n",
      "\bAfter single dvec to cuda: 429.466624 MB\n",
      "\bAfter single dvec to cuda: 434.637824 MB\n",
      "\bAfter single dvec to cuda: 442.253824 MB\n",
      "After dvec to cuda: 442.25792 MB\n",
      "After forward to cuda: 4343.460864 MB\n",
      "After input to cuda: 443.227648 MB\n",
      "\bAfter single dvec to cuda: 425.327104 MB\n",
      "\bAfter single dvec to cuda: 434.304512 MB\n",
      "\bAfter single dvec to cuda: 443.008 MB\n",
      "\bAfter single dvec to cuda: 451.712512 MB\n",
      "After dvec to cuda: 451.716608 MB\n",
      "After forward to cuda: 4350.850048 MB\n"
     ]
    },
    {
     "name": "stderr",
     "output_type": "stream",
     "text": [
      "2021-11-24 17:12:03,444 - INFO - Wrote summary at step 993\n"
     ]
    },
    {
     "name": "stdout",
     "output_type": "stream",
     "text": [
      "After input to cuda: 450.74688 MB\n",
      "\bAfter single dvec to cuda: 423.183872 MB\n",
      "\bAfter single dvec to cuda: 433.78688 MB\n",
      "\bAfter single dvec to cuda: 443.30496 MB\n",
      "\bAfter single dvec to cuda: 444.784128 MB\n",
      "After dvec to cuda: 444.788224 MB\n",
      "After forward to cuda: 4344.312832 MB\n",
      "After input to cuda: 444.711424 MB\n",
      "\bAfter single dvec to cuda: 421.233152 MB\n",
      "\bAfter single dvec to cuda: 429.12 MB\n",
      "\bAfter single dvec to cuda: 432.658944 MB\n",
      "\bAfter single dvec to cuda: 435.129344 MB\n",
      "After dvec to cuda: 435.13344 MB\n",
      "After forward to cuda: 4335.669248 MB\n"
     ]
    },
    {
     "name": "stderr",
     "output_type": "stream",
     "text": [
      "2021-11-24 17:12:04,149 - INFO - Wrote summary at step 994\n"
     ]
    },
    {
     "name": "stdout",
     "output_type": "stream",
     "text": [
      "After input to cuda: 435.21024 MB\n",
      "\bAfter single dvec to cuda: 421.849088 MB\n",
      "\bAfter single dvec to cuda: 430.060544 MB\n",
      "\bAfter single dvec to cuda: 431.427584 MB\n",
      "\bAfter single dvec to cuda: 441.757696 MB\n",
      "After dvec to cuda: 441.761792 MB\n",
      "After forward to cuda: 4341.85472 MB\n",
      "After input to cuda: 441.761792 MB\n",
      "\bAfter single dvec to cuda: 423.207936 MB\n",
      "\bAfter single dvec to cuda: 431.424 MB\n",
      "\bAfter single dvec to cuda: 439.038464 MB\n",
      "\bAfter single dvec to cuda: 447.469056 MB\n",
      "After dvec to cuda: 447.473152 MB\n",
      "After forward to cuda: 4348.591104 MB\n"
     ]
    },
    {
     "name": "stderr",
     "output_type": "stream",
     "text": [
      "2021-11-24 17:12:04,855 - INFO - Wrote summary at step 995\n"
     ]
    },
    {
     "name": "stdout",
     "output_type": "stream",
     "text": [
      "After input to cuda: 448.498176 MB\n",
      "\bAfter single dvec to cuda: 423.84128 MB\n",
      "\bAfter single dvec to cuda: 431.732224 MB\n",
      "\bAfter single dvec to cuda: 438.536704 MB\n",
      "\bAfter single dvec to cuda: 447.238144 MB\n",
      "After dvec to cuda: 447.24224 MB\n",
      "After forward to cuda: 4347.076608 MB\n",
      "After input to cuda: 446.98368 MB\n",
      "\bAfter single dvec to cuda: 424.51712 MB\n",
      "\bAfter single dvec to cuda: 433.494016 MB\n",
      "\bAfter single dvec to cuda: 440.569856 MB\n",
      "\bAfter single dvec to cuda: 451.448832 MB\n",
      "After dvec to cuda: 451.452928 MB\n",
      "After forward to cuda: 4351.567872 MB\n"
     ]
    },
    {
     "name": "stderr",
     "output_type": "stream",
     "text": [
      "2021-11-24 17:12:05,563 - INFO - Wrote summary at step 996\n"
     ]
    },
    {
     "name": "stdout",
     "output_type": "stream",
     "text": [
      "After input to cuda: 451.657216 MB\n",
      "\bAfter single dvec to cuda: 424.077824 MB\n",
      "\bAfter single dvec to cuda: 434.679808 MB\n",
      "\bAfter single dvec to cuda: 443.11296 MB\n",
      "\bAfter single dvec to cuda: 452.903424 MB\n",
      "After dvec to cuda: 452.90752 MB\n",
      "After forward to cuda: 4352.149504 MB\n",
      "After input to cuda: 452.051456 MB\n",
      "\bAfter single dvec to cuda: 422.779904 MB\n",
      "\bAfter single dvec to cuda: 432.900608 MB\n",
      "\bAfter single dvec to cuda: 443.18208 MB\n",
      "\bAfter single dvec to cuda: 452.16 MB\n",
      "After dvec to cuda: 452.164096 MB\n",
      "After forward to cuda: 4352.509952 MB\n"
     ]
    },
    {
     "name": "stderr",
     "output_type": "stream",
     "text": [
      "2021-11-24 17:12:06,272 - INFO - Wrote summary at step 997\n"
     ]
    },
    {
     "name": "stdout",
     "output_type": "stream",
     "text": [
      "After input to cuda: 452.049408 MB\n",
      "\bAfter single dvec to cuda: 422.640128 MB\n",
      "\bAfter single dvec to cuda: 431.538688 MB\n",
      "\bAfter single dvec to cuda: 441.869312 MB\n",
      "\bAfter single dvec to cuda: 452.047872 MB\n",
      "After dvec to cuda: 452.051968 MB\n",
      "After forward to cuda: 4352.144896 MB\n",
      "After input to cuda: 452.051968 MB\n",
      "\bAfter single dvec to cuda: 417.50784 MB\n",
      "\bAfter single dvec to cuda: 422.678016 MB\n",
      "\bAfter single dvec to cuda: 430.8352 MB\n",
      "\bAfter single dvec to cuda: 441.09312 MB\n",
      "After dvec to cuda: 441.097216 MB\n",
      "After forward to cuda: 4341.459456 MB\n"
     ]
    },
    {
     "name": "stderr",
     "output_type": "stream",
     "text": [
      "2021-11-24 17:12:06,978 - INFO - Wrote summary at step 998\n"
     ]
    },
    {
     "name": "stdout",
     "output_type": "stream",
     "text": [
      "After input to cuda: 441.85344 MB\n",
      "\bAfter single dvec to cuda: 421.792256 MB\n",
      "\bAfter single dvec to cuda: 430.765056 MB\n",
      "\bAfter single dvec to cuda: 441.099264 MB\n",
      "\bAfter single dvec to cuda: 451.435008 MB\n",
      "After dvec to cuda: 451.439104 MB\n",
      "After forward to cuda: 4350.963712 MB\n",
      "After input to cuda: 451.439104 MB\n",
      "\bAfter single dvec to cuda: 423.942656 MB\n",
      "\bAfter single dvec to cuda: 426.39872 MB\n",
      "\bAfter single dvec to cuda: 434.287616 MB\n",
      "\bAfter single dvec to cuda: 439.864832 MB\n",
      "After dvec to cuda: 439.868928 MB\n",
      "After forward to cuda: 4342.022656 MB\n"
     ]
    },
    {
     "name": "stderr",
     "output_type": "stream",
     "text": [
      "2021-11-24 17:12:07,683 - INFO - Wrote summary at step 999\n"
     ]
    },
    {
     "name": "stdout",
     "output_type": "stream",
     "text": [
      "After input to cuda: 439.112704 MB\n",
      "\bAfter single dvec to cuda: 423.1808 MB\n",
      "\bAfter single dvec to cuda: 424.660992 MB\n",
      "\bAfter single dvec to cuda: 427.116544 MB\n",
      "\bAfter single dvec to cuda: 435.277824 MB\n",
      "After dvec to cuda: 435.28192 MB\n",
      "After forward to cuda: 4338.387968 MB\n",
      "After input to cuda: 436.620288 MB\n",
      "\bAfter single dvec to cuda: 424.499712 MB\n",
      "\bAfter single dvec to cuda: 434.286592 MB\n",
      "\bAfter single dvec to cuda: 438.370816 MB\n",
      "\bAfter single dvec to cuda: 448.157184 MB\n",
      "After dvec to cuda: 448.16128 MB\n",
      "After forward to cuda: 4347.088896 MB\n"
     ]
    },
    {
     "name": "stderr",
     "output_type": "stream",
     "text": [
      "2021-11-24 17:12:08,389 - INFO - Wrote summary at step 1000\n",
      "2021-11-24 17:12:08,763 - INFO - Saved checkpoint to: ./chkpt/first_try/chkpt_1000.pt\n"
     ]
    },
    {
     "ename": "AttributeError",
     "evalue": "module 'asyncio' has no attribute 'run'",
     "output_type": "error",
     "traceback": [
      "\u001b[0;31m---------------------------------------------------------------------------\u001b[0m",
      "\u001b[0;31mAttributeError\u001b[0m                            Traceback (most recent call last)",
      "\u001b[0;32m<ipython-input-13-2d9a04c877e7>\u001b[0m in \u001b[0;36m<module>\u001b[0;34m\u001b[0m\n\u001b[1;32m     72\u001b[0m \u001b[0;34m\u001b[0m\u001b[0m\n\u001b[1;32m     73\u001b[0m             \u001b[0;31m# drive.Upload(save_path, \"1sWAUt5vfyD97Cq85J8_zuwMeX4tmfEiZ\")\u001b[0m\u001b[0;34m\u001b[0m\u001b[0;34m\u001b[0m\u001b[0;34m\u001b[0m\u001b[0m\n\u001b[0;32m---> 74\u001b[0;31m             \u001b[0masyncio\u001b[0m\u001b[0;34m.\u001b[0m\u001b[0mrun\u001b[0m\u001b[0;34m(\u001b[0m\u001b[0mUploadToDrive\u001b[0m\u001b[0;34m(\u001b[0m\u001b[0mdrive\u001b[0m\u001b[0;34m,\u001b[0m \u001b[0msave_path\u001b[0m\u001b[0;34m)\u001b[0m\u001b[0;34m)\u001b[0m\u001b[0;34m\u001b[0m\u001b[0;34m\u001b[0m\u001b[0m\n\u001b[0m\u001b[1;32m     75\u001b[0m \u001b[0;34m\u001b[0m\u001b[0m\n\u001b[1;32m     76\u001b[0m             \u001b[0;31m# Nén file\u001b[0m\u001b[0;34m\u001b[0m\u001b[0;34m\u001b[0m\u001b[0;34m\u001b[0m\u001b[0m\n",
      "\u001b[0;31mAttributeError\u001b[0m: module 'asyncio' has no attribute 'run'"
     ]
    }
   ],
   "source": [
    "accum = 0\n",
    "accum_loss = 0\n",
    "\n",
    "for dvec_mels, target_mag, mixed_mag in trainloader:\n",
    "    target_mag = target_mag.cuda()\n",
    "    mixed_mag = mixed_mag.cuda()\n",
    "    \n",
    "    print(\"After input to cuda: \", end=\"\")\n",
    "    get_gpu_allocated()\n",
    "\n",
    "    dvec_list = list()\n",
    "    for mel in dvec_mels:\n",
    "        mel = mel.cuda()\n",
    "        dvec = embedder(mel)\n",
    "        print(\"\\bAfter single dvec to cuda: \", end=\"\")\n",
    "        get_gpu_allocated()\n",
    "        dvec_list.append(dvec)\n",
    "    dvec = torch.stack(dvec_list, dim=0)\n",
    "    dvec = dvec.detach()\n",
    "    \n",
    "    print(\"After dvec to cuda: \", end=\"\")\n",
    "    get_gpu_allocated()\n",
    "\n",
    "    mask = model(mixed_mag, dvec)\n",
    "    output = mixed_mag * mask\n",
    "    \n",
    "    print(\"After forward to cuda: \", end=\"\")\n",
    "    get_gpu_allocated()\n",
    "\n",
    "    # output = torch.pow(torch.clamp(output, min=0.0), hp.audio.power)\n",
    "    # target_mag = torch.pow(torch.clamp(target_mag, min=0.0), hp.audio.power)\n",
    "    loss = criterion(output, target_mag)\n",
    "\n",
    "    loss.backward()\n",
    "    accum_loss += loss.item()\n",
    "    accum += 1\n",
    "    \n",
    "    if accum % hp[\"train\"][\"grad_accumulate\"] == 0:\n",
    "        optimizer.step()\n",
    "        optimizer.zero_grad()\n",
    "        accum = 0\n",
    "        step += 1\n",
    "        accum_loss /= hp[\"train\"][\"grad_accumulate\"]\n",
    "        \n",
    "        if accum_loss > 1e8 or math.isnan(accum_loss):\n",
    "            logger.error(\"Loss exploded to %.02f at step %d!\" % (accum_loss, step))\n",
    "            raise Exception(\"Loss exploded\")\n",
    "\n",
    "        if step == 2100:\n",
    "            break\n",
    "\n",
    "        # write loss to tensorboard\n",
    "        if step % hp.train.summary_interval == 0:\n",
    "            writer.log_training(accum_loss, step)\n",
    "            logger.info(\"Wrote summary at step %d\" % step)\n",
    "\n",
    "        accum_loss = 0\n",
    "            \n",
    "        # 1. save checkpoint file to resume training\n",
    "        # 2. evaluate and save sample to tensorboard\n",
    "        # backup brrrrrrrrrrrrrrrrrrrrrrrrrrrrrr\n",
    "        if step % hp.train.checkpoint_interval == 0:\n",
    "            save_path = os.path.join(pt_dir, 'chkpt_%d.pt' % step)\n",
    "            torch.save({\n",
    "                'model': model.state_dict(),\n",
    "                'optimizer': optimizer.state_dict(),\n",
    "                'step': step,\n",
    "                'hp_str': hp_str,\n",
    "            }, save_path)\n",
    "            logger.info(\"Saved checkpoint to: %s\" % save_path)\n",
    "            validate(audio, model, embedder, testloader, writer, step)\n",
    "\n",
    "            # drive.Upload(save_path, \"1sWAUt5vfyD97Cq85J8_zuwMeX4tmfEiZ\")\n",
    "            asyncio.run(UploadToDrive(drive, save_path))\n",
    "\n",
    "            # Nén file\n",
    "            os.system(f'zip -j ./tensorboard.zip ./{log_dir}/*')\n",
    "            drive.Upload('tensorboard.zip', \"1sWAUt5vfyD97Cq85J8_zuwMeX4tmfEiZ\")"
   ]
  },
  {
   "cell_type": "code",
   "execution_count": 15,
   "id": "92a092ac",
   "metadata": {},
   "outputs": [
    {
     "ename": "AttributeError",
     "evalue": "module 'asyncio' has no attribute 'run'",
     "output_type": "error",
     "traceback": [
      "\u001b[0;31m---------------------------------------------------------------------------\u001b[0m",
      "\u001b[0;31mAttributeError\u001b[0m                            Traceback (most recent call last)",
      "\u001b[0;32m<ipython-input-15-7f336cb84901>\u001b[0m in \u001b[0;36m<module>\u001b[0;34m\u001b[0m\n\u001b[0;32m----> 1\u001b[0;31m \u001b[0masyncio\u001b[0m\u001b[0;34m.\u001b[0m\u001b[0mrun\u001b[0m\u001b[0;34m\u001b[0m\u001b[0;34m\u001b[0m\u001b[0m\n\u001b[0m",
      "\u001b[0;31mAttributeError\u001b[0m: module 'asyncio' has no attribute 'run'"
     ]
    }
   ],
   "source": [
    "asyncio.run"
   ]
  }
 ],
 "metadata": {
  "kernelspec": {
   "display_name": "Python 3",
   "language": "python",
   "name": "python3"
  },
  "language_info": {
   "codemirror_mode": {
    "name": "ipython",
    "version": 3
   },
   "file_extension": ".py",
   "mimetype": "text/x-python",
   "name": "python",
   "nbconvert_exporter": "python",
   "pygments_lexer": "ipython3",
   "version": "3.6.9"
  }
 },
 "nbformat": 4,
 "nbformat_minor": 5
}
