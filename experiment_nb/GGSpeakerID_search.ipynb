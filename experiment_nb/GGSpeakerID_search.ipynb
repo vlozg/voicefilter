{
 "cells": [
  {
   "cell_type": "code",
   "execution_count": 9,
   "id": "f29cb3c7",
   "metadata": {},
   "outputs": [],
   "source": [
    "import pandas as pd\n",
    "from pathlib import Path"
   ]
  },
  {
   "cell_type": "code",
   "execution_count": 10,
   "id": "f86ebca4",
   "metadata": {},
   "outputs": [],
   "source": [
    "vctk_df=pd.read_csv('datasets/VCTK-Corpus/test_tuples.csv')\n",
    "libri_df=pd.read_csv('datasets/LibriSpeech/dev_tuples.csv')"
   ]
  },
  {
   "cell_type": "markdown",
   "id": "bc2ce04c",
   "metadata": {},
   "source": [
    "# Get VCTK"
   ]
  },
  {
   "cell_type": "code",
   "execution_count": 11,
   "id": "86386944",
   "metadata": {},
   "outputs": [
    {
     "data": {
      "text/html": [
       "<div>\n",
       "<style scoped>\n",
       "    .dataframe tbody tr th:only-of-type {\n",
       "        vertical-align: middle;\n",
       "    }\n",
       "\n",
       "    .dataframe tbody tr th {\n",
       "        vertical-align: top;\n",
       "    }\n",
       "\n",
       "    .dataframe thead th {\n",
       "        text-align: right;\n",
       "    }\n",
       "</style>\n",
       "<table border=\"1\" class=\"dataframe\">\n",
       "  <thead>\n",
       "    <tr style=\"text-align: right;\">\n",
       "      <th></th>\n",
       "      <th>clean_utterance</th>\n",
       "      <th>embedding_utterance</th>\n",
       "      <th>interference_utterance</th>\n",
       "    </tr>\n",
       "  </thead>\n",
       "  <tbody>\n",
       "    <tr>\n",
       "      <th>0</th>\n",
       "      <td>p246_001</td>\n",
       "      <td>p246_354</td>\n",
       "      <td>p273_070</td>\n",
       "    </tr>\n",
       "    <tr>\n",
       "      <th>1</th>\n",
       "      <td>p246_002</td>\n",
       "      <td>p246_001</td>\n",
       "      <td>p305_350</td>\n",
       "    </tr>\n",
       "    <tr>\n",
       "      <th>2</th>\n",
       "      <td>p246_003</td>\n",
       "      <td>p246_170</td>\n",
       "      <td>p247_332</td>\n",
       "    </tr>\n",
       "    <tr>\n",
       "      <th>3</th>\n",
       "      <td>p246_004</td>\n",
       "      <td>p246_203</td>\n",
       "      <td>p305_112</td>\n",
       "    </tr>\n",
       "    <tr>\n",
       "      <th>4</th>\n",
       "      <td>p246_005</td>\n",
       "      <td>p246_340</td>\n",
       "      <td>p333_180</td>\n",
       "    </tr>\n",
       "  </tbody>\n",
       "</table>\n",
       "</div>"
      ],
      "text/plain": [
       "  clean_utterance embedding_utterance interference_utterance\n",
       "0        p246_001            p246_354               p273_070\n",
       "1        p246_002            p246_001               p305_350\n",
       "2        p246_003            p246_170               p247_332\n",
       "3        p246_004            p246_203               p305_112\n",
       "4        p246_005            p246_340               p333_180"
      ]
     },
     "execution_count": 11,
     "metadata": {},
     "output_type": "execute_result"
    }
   ],
   "source": [
    "vctk_df.head(5)"
   ]
  },
  {
   "cell_type": "code",
   "execution_count": 12,
   "id": "b7a7ac1a",
   "metadata": {},
   "outputs": [
    {
     "data": {
      "text/plain": [
       "[PosixPath('datasets/VCTK-Corpus/wav48/p329/p329_337.wav'),\n",
       " PosixPath('datasets/VCTK-Corpus/wav48/p329/p329_417.wav'),\n",
       " PosixPath('datasets/VCTK-Corpus/wav48/p329/p329_176.wav'),\n",
       " PosixPath('datasets/VCTK-Corpus/wav48/p329/p329_363.wav'),\n",
       " PosixPath('datasets/VCTK-Corpus/wav48/p329/p329_353.wav')]"
      ]
     },
     "execution_count": 12,
     "metadata": {},
     "output_type": "execute_result"
    }
   ],
   "source": [
    "vtck_paths= Path(\"datasets/VCTK-Corpus\").rglob('*.wav')\n",
    "list(vtck_paths)[:5]"
   ]
  },
  {
   "cell_type": "code",
   "execution_count": 13,
   "id": "a8179c4d",
   "metadata": {},
   "outputs": [
    {
     "data": {
      "text/html": [
       "<div>\n",
       "<style scoped>\n",
       "    .dataframe tbody tr th:only-of-type {\n",
       "        vertical-align: middle;\n",
       "    }\n",
       "\n",
       "    .dataframe tbody tr th {\n",
       "        vertical-align: top;\n",
       "    }\n",
       "\n",
       "    .dataframe thead th {\n",
       "        text-align: right;\n",
       "    }\n",
       "</style>\n",
       "<table border=\"1\" class=\"dataframe\">\n",
       "  <thead>\n",
       "    <tr style=\"text-align: right;\">\n",
       "      <th></th>\n",
       "      <th>clean_utterance</th>\n",
       "      <th>embedding_utterance</th>\n",
       "      <th>interference_utterance</th>\n",
       "      <th>clean_utterance_path</th>\n",
       "      <th>embedding_utterance_path</th>\n",
       "      <th>interference_utterance_path</th>\n",
       "    </tr>\n",
       "  </thead>\n",
       "  <tbody>\n",
       "    <tr>\n",
       "      <th>0</th>\n",
       "      <td>p246_001</td>\n",
       "      <td>p246_354</td>\n",
       "      <td>p273_070</td>\n",
       "      <td>datasets/VCTK-Corpus/wav48/p246/p246_001.wav</td>\n",
       "      <td>datasets/VCTK-Corpus/wav48/p246/p246_354.wav</td>\n",
       "      <td>datasets/VCTK-Corpus/wav48/p273/p273_070.wav</td>\n",
       "    </tr>\n",
       "    <tr>\n",
       "      <th>1</th>\n",
       "      <td>p246_002</td>\n",
       "      <td>p246_001</td>\n",
       "      <td>p305_350</td>\n",
       "      <td>datasets/VCTK-Corpus/wav48/p246/p246_002.wav</td>\n",
       "      <td>datasets/VCTK-Corpus/wav48/p246/p246_001.wav</td>\n",
       "      <td>datasets/VCTK-Corpus/wav48/p305/p305_350.wav</td>\n",
       "    </tr>\n",
       "    <tr>\n",
       "      <th>2</th>\n",
       "      <td>p246_003</td>\n",
       "      <td>p246_170</td>\n",
       "      <td>p247_332</td>\n",
       "      <td>datasets/VCTK-Corpus/wav48/p246/p246_003.wav</td>\n",
       "      <td>datasets/VCTK-Corpus/wav48/p246/p246_170.wav</td>\n",
       "      <td>datasets/VCTK-Corpus/wav48/p247/p247_332.wav</td>\n",
       "    </tr>\n",
       "    <tr>\n",
       "      <th>3</th>\n",
       "      <td>p246_004</td>\n",
       "      <td>p246_203</td>\n",
       "      <td>p305_112</td>\n",
       "      <td>datasets/VCTK-Corpus/wav48/p246/p246_004.wav</td>\n",
       "      <td>datasets/VCTK-Corpus/wav48/p246/p246_203.wav</td>\n",
       "      <td>datasets/VCTK-Corpus/wav48/p305/p305_112.wav</td>\n",
       "    </tr>\n",
       "    <tr>\n",
       "      <th>4</th>\n",
       "      <td>p246_005</td>\n",
       "      <td>p246_340</td>\n",
       "      <td>p333_180</td>\n",
       "      <td>datasets/VCTK-Corpus/wav48/p246/p246_005.wav</td>\n",
       "      <td>datasets/VCTK-Corpus/wav48/p246/p246_340.wav</td>\n",
       "      <td>datasets/VCTK-Corpus/wav48/p333/p333_180.wav</td>\n",
       "    </tr>\n",
       "  </tbody>\n",
       "</table>\n",
       "</div>"
      ],
      "text/plain": [
       "  clean_utterance embedding_utterance interference_utterance  \\\n",
       "0        p246_001            p246_354               p273_070   \n",
       "1        p246_002            p246_001               p305_350   \n",
       "2        p246_003            p246_170               p247_332   \n",
       "3        p246_004            p246_203               p305_112   \n",
       "4        p246_005            p246_340               p333_180   \n",
       "\n",
       "                           clean_utterance_path  \\\n",
       "0  datasets/VCTK-Corpus/wav48/p246/p246_001.wav   \n",
       "1  datasets/VCTK-Corpus/wav48/p246/p246_002.wav   \n",
       "2  datasets/VCTK-Corpus/wav48/p246/p246_003.wav   \n",
       "3  datasets/VCTK-Corpus/wav48/p246/p246_004.wav   \n",
       "4  datasets/VCTK-Corpus/wav48/p246/p246_005.wav   \n",
       "\n",
       "                       embedding_utterance_path  \\\n",
       "0  datasets/VCTK-Corpus/wav48/p246/p246_354.wav   \n",
       "1  datasets/VCTK-Corpus/wav48/p246/p246_001.wav   \n",
       "2  datasets/VCTK-Corpus/wav48/p246/p246_170.wav   \n",
       "3  datasets/VCTK-Corpus/wav48/p246/p246_203.wav   \n",
       "4  datasets/VCTK-Corpus/wav48/p246/p246_340.wav   \n",
       "\n",
       "                    interference_utterance_path  \n",
       "0  datasets/VCTK-Corpus/wav48/p273/p273_070.wav  \n",
       "1  datasets/VCTK-Corpus/wav48/p305/p305_350.wav  \n",
       "2  datasets/VCTK-Corpus/wav48/p247/p247_332.wav  \n",
       "3  datasets/VCTK-Corpus/wav48/p305/p305_112.wav  \n",
       "4  datasets/VCTK-Corpus/wav48/p333/p333_180.wav  "
      ]
     },
     "execution_count": 13,
     "metadata": {},
     "output_type": "execute_result"
    }
   ],
   "source": [
    "for c in vctk_df.columns:\n",
    "    if \"_path\" in c:\n",
    "        continue\n",
    "    tmp_split = vctk_df[c].str.split(pat=\"_\", n=1, expand=True)\n",
    "    vctk_df[c+\"_path\"] = \"datasets/VCTK-Corpus/wav48/\" + tmp_split[0] + \"/\" + vctk_df[c] + \".wav\"\n",
    "vctk_df.head(5)"
   ]
  },
  {
   "cell_type": "code",
   "execution_count": 14,
   "id": "da32bb5b",
   "metadata": {},
   "outputs": [
    {
     "data": {
      "text/html": [
       "<div>\n",
       "<style scoped>\n",
       "    .dataframe tbody tr th:only-of-type {\n",
       "        vertical-align: middle;\n",
       "    }\n",
       "\n",
       "    .dataframe tbody tr th {\n",
       "        vertical-align: top;\n",
       "    }\n",
       "\n",
       "    .dataframe thead th {\n",
       "        text-align: right;\n",
       "    }\n",
       "</style>\n",
       "<table border=\"1\" class=\"dataframe\">\n",
       "  <thead>\n",
       "    <tr style=\"text-align: right;\">\n",
       "      <th></th>\n",
       "      <th>clean_utterance</th>\n",
       "      <th>embedding_utterance</th>\n",
       "      <th>interference_utterance</th>\n",
       "      <th>clean_utterance_path</th>\n",
       "      <th>embedding_utterance_path</th>\n",
       "      <th>interference_utterance_path</th>\n",
       "    </tr>\n",
       "  </thead>\n",
       "  <tbody>\n",
       "  </tbody>\n",
       "</table>\n",
       "</div>"
      ],
      "text/plain": [
       "Empty DataFrame\n",
       "Columns: [clean_utterance, embedding_utterance, interference_utterance, clean_utterance_path, embedding_utterance_path, interference_utterance_path]\n",
       "Index: []"
      ]
     },
     "execution_count": 14,
     "metadata": {},
     "output_type": "execute_result"
    }
   ],
   "source": [
    "check_file_exist = vctk_df.apply(lambda x: Path(x[\"clean_utterance_path\"]).is_file() & Path(x[\"embedding_utterance_path\"]).is_file() & Path(x[\"interference_utterance_path\"]).is_file(), axis=1)\n",
    "vctk_df[~(check_file_exist)]"
   ]
  },
  {
   "cell_type": "code",
   "execution_count": 15,
   "id": "6b645756",
   "metadata": {},
   "outputs": [],
   "source": [
    "vctk_df.drop(columns=[\"clean_utterance\", \"embedding_utterance\", \"interference_utterance\"], inplace=True)\n",
    "vctk_df.to_csv(\"datasets/VCTK-Corpus/test_tuples_path.csv\", index=False)"
   ]
  },
  {
   "cell_type": "markdown",
   "id": "b047dd27",
   "metadata": {},
   "source": [
    "# Get LibriSpeech"
   ]
  },
  {
   "cell_type": "code",
   "execution_count": 16,
   "id": "6ffc10b8",
   "metadata": {},
   "outputs": [
    {
     "data": {
      "text/html": [
       "<div>\n",
       "<style scoped>\n",
       "    .dataframe tbody tr th:only-of-type {\n",
       "        vertical-align: middle;\n",
       "    }\n",
       "\n",
       "    .dataframe tbody tr th {\n",
       "        vertical-align: top;\n",
       "    }\n",
       "\n",
       "    .dataframe thead th {\n",
       "        text-align: right;\n",
       "    }\n",
       "</style>\n",
       "<table border=\"1\" class=\"dataframe\">\n",
       "  <thead>\n",
       "    <tr style=\"text-align: right;\">\n",
       "      <th></th>\n",
       "      <th>clean_utterance</th>\n",
       "      <th>embedding_utterance</th>\n",
       "      <th>interference_utterance</th>\n",
       "    </tr>\n",
       "  </thead>\n",
       "  <tbody>\n",
       "    <tr>\n",
       "      <th>0</th>\n",
       "      <td>4831-18525-0005</td>\n",
       "      <td>4831-29134-0017</td>\n",
       "      <td>3576-138058-0010</td>\n",
       "    </tr>\n",
       "    <tr>\n",
       "      <th>1</th>\n",
       "      <td>6841-88291-0003</td>\n",
       "      <td>6841-88294-0035</td>\n",
       "      <td>1585-157660-0013</td>\n",
       "    </tr>\n",
       "    <tr>\n",
       "      <th>2</th>\n",
       "      <td>1988-147956-0028</td>\n",
       "      <td>1988-148538-0011</td>\n",
       "      <td>84-121123-0026</td>\n",
       "    </tr>\n",
       "    <tr>\n",
       "      <th>3</th>\n",
       "      <td>251-137823-0002</td>\n",
       "      <td>251-137823-0003</td>\n",
       "      <td>6455-67803-0007</td>\n",
       "    </tr>\n",
       "    <tr>\n",
       "      <th>4</th>\n",
       "      <td>5849-50964-0009</td>\n",
       "      <td>5849-50873-0018</td>\n",
       "      <td>6267-65525-0027</td>\n",
       "    </tr>\n",
       "  </tbody>\n",
       "</table>\n",
       "</div>"
      ],
      "text/plain": [
       "    clean_utterance embedding_utterance interference_utterance\n",
       "0   4831-18525-0005     4831-29134-0017       3576-138058-0010\n",
       "1   6841-88291-0003     6841-88294-0035       1585-157660-0013\n",
       "2  1988-147956-0028    1988-148538-0011         84-121123-0026\n",
       "3   251-137823-0002     251-137823-0003        6455-67803-0007\n",
       "4   5849-50964-0009     5849-50873-0018        6267-65525-0027"
      ]
     },
     "execution_count": 16,
     "metadata": {},
     "output_type": "execute_result"
    }
   ],
   "source": [
    "libri_df.head(5)"
   ]
  },
  {
   "cell_type": "code",
   "execution_count": 17,
   "id": "e3448846",
   "metadata": {},
   "outputs": [
    {
     "data": {
      "text/plain": [
       "[';ID  |SEX| SUBSET           |MINUTES| NAME\\n',\n",
       " '14   | F | train-clean-360  | 25.03 | Kristin LeMoine\\n',\n",
       " '16   | F | train-clean-360  | 25.11 | Alys AtteWater\\n',\n",
       " '17   | M | train-clean-360  | 25.04 | Gord Mackenzie\\n',\n",
       " '19   | F | train-clean-100  | 25.19 | Kara Shallenberg\\n']"
      ]
     },
     "execution_count": 17,
     "metadata": {},
     "output_type": "execute_result"
    }
   ],
   "source": [
    "with open(\"datasets/LibriSpeech/SPEAKERS.TXT\", \"r\") as f:\n",
    "    speakers = f.readlines()[11:]\n",
    "speakers[:5]"
   ]
  },
  {
   "cell_type": "code",
   "execution_count": 18,
   "id": "25f6c49e",
   "metadata": {},
   "outputs": [
    {
     "data": {
      "text/plain": [
       "[PosixPath('datasets/LibriSpeech/train-clean-100/1034/121119/1034-121119-0094.flac'),\n",
       " PosixPath('datasets/LibriSpeech/train-clean-100/1034/121119/1034-121119-0012.flac'),\n",
       " PosixPath('datasets/LibriSpeech/train-clean-100/1034/121119/1034-121119-0000.flac'),\n",
       " PosixPath('datasets/LibriSpeech/train-clean-100/1034/121119/1034-121119-0087.flac'),\n",
       " PosixPath('datasets/LibriSpeech/train-clean-100/1034/121119/1034-121119-0080.flac')]"
      ]
     },
     "execution_count": 18,
     "metadata": {},
     "output_type": "execute_result"
    }
   ],
   "source": [
    "libri_paths= Path(\"datasets/LibriSpeech\").rglob('*.flac')\n",
    "list(libri_paths)[:5]"
   ]
  },
  {
   "cell_type": "code",
   "execution_count": 19,
   "id": "5ca34d2f",
   "metadata": {},
   "outputs": [
    {
     "data": {
      "text/plain": [
       "[[';ID  ', 'SEX', ' SUBSET           ', 'MINUTES', ' NAME\\n'],\n",
       " ['14   ', ' F ', ' train-clean-360  ', ' 25.03 ', ' Kristin LeMoine\\n'],\n",
       " ['16   ', ' F ', ' train-clean-360  ', ' 25.11 ', ' Alys AtteWater\\n'],\n",
       " ['17   ', ' M ', ' train-clean-360  ', ' 25.04 ', ' Gord Mackenzie\\n'],\n",
       " ['19   ', ' F ', ' train-clean-100  ', ' 25.19 ', ' Kara Shallenberg\\n']]"
      ]
     },
     "execution_count": 19,
     "metadata": {},
     "output_type": "execute_result"
    }
   ],
   "source": [
    "speakers = [s.split(\"|\", 4) for s in speakers]\n",
    "speakers[:5]"
   ]
  },
  {
   "cell_type": "code",
   "execution_count": 20,
   "id": "2904a81b",
   "metadata": {},
   "outputs": [
    {
     "data": {
      "text/plain": [
       "[[';ID', 'SEX', 'SUBSET', 'MINUTES', 'NAME'],\n",
       " ['14', 'F', 'train-clean-360', '25.03', 'Kristin LeMoine'],\n",
       " ['16', 'F', 'train-clean-360', '25.11', 'Alys AtteWater'],\n",
       " ['17', 'M', 'train-clean-360', '25.04', 'Gord Mackenzie'],\n",
       " ['19', 'F', 'train-clean-100', '25.19', 'Kara Shallenberg']]"
      ]
     },
     "execution_count": 20,
     "metadata": {},
     "output_type": "execute_result"
    }
   ],
   "source": [
    "speakers = [[s.strip() for s in speaker] for speaker in speakers]\n",
    "speakers[:5]"
   ]
  },
  {
   "cell_type": "code",
   "execution_count": 21,
   "id": "ed715de6",
   "metadata": {},
   "outputs": [],
   "source": [
    "speakers = {i: s for (i, _, s, _, _) in speakers}"
   ]
  },
  {
   "cell_type": "code",
   "execution_count": 22,
   "id": "ce1f0469",
   "metadata": {},
   "outputs": [
    {
     "data": {
      "text/plain": [
       "'dev-other'"
      ]
     },
     "execution_count": 22,
     "metadata": {},
     "output_type": "execute_result"
    }
   ],
   "source": [
    "speakers['4831']"
   ]
  },
  {
   "cell_type": "code",
   "execution_count": 23,
   "id": "d65951e9",
   "metadata": {},
   "outputs": [
    {
     "data": {
      "text/html": [
       "<div>\n",
       "<style scoped>\n",
       "    .dataframe tbody tr th:only-of-type {\n",
       "        vertical-align: middle;\n",
       "    }\n",
       "\n",
       "    .dataframe tbody tr th {\n",
       "        vertical-align: top;\n",
       "    }\n",
       "\n",
       "    .dataframe thead th {\n",
       "        text-align: right;\n",
       "    }\n",
       "</style>\n",
       "<table border=\"1\" class=\"dataframe\">\n",
       "  <thead>\n",
       "    <tr style=\"text-align: right;\">\n",
       "      <th></th>\n",
       "      <th>clean_utterance</th>\n",
       "      <th>embedding_utterance</th>\n",
       "      <th>interference_utterance</th>\n",
       "      <th>clean_utterance_set</th>\n",
       "      <th>embedding_utterance_set</th>\n",
       "      <th>interference_utterance_set</th>\n",
       "    </tr>\n",
       "  </thead>\n",
       "  <tbody>\n",
       "    <tr>\n",
       "      <th>0</th>\n",
       "      <td>4831-18525-0005</td>\n",
       "      <td>4831-29134-0017</td>\n",
       "      <td>3576-138058-0010</td>\n",
       "      <td>dev-other</td>\n",
       "      <td>dev-other</td>\n",
       "      <td>dev-clean</td>\n",
       "    </tr>\n",
       "    <tr>\n",
       "      <th>1</th>\n",
       "      <td>6841-88291-0003</td>\n",
       "      <td>6841-88294-0035</td>\n",
       "      <td>1585-157660-0013</td>\n",
       "      <td>dev-other</td>\n",
       "      <td>dev-other</td>\n",
       "      <td>dev-other</td>\n",
       "    </tr>\n",
       "    <tr>\n",
       "      <th>2</th>\n",
       "      <td>1988-147956-0028</td>\n",
       "      <td>1988-148538-0011</td>\n",
       "      <td>84-121123-0026</td>\n",
       "      <td>dev-clean</td>\n",
       "      <td>dev-clean</td>\n",
       "      <td>dev-clean</td>\n",
       "    </tr>\n",
       "    <tr>\n",
       "      <th>3</th>\n",
       "      <td>251-137823-0002</td>\n",
       "      <td>251-137823-0003</td>\n",
       "      <td>6455-67803-0007</td>\n",
       "      <td>dev-clean</td>\n",
       "      <td>dev-clean</td>\n",
       "      <td>dev-other</td>\n",
       "    </tr>\n",
       "    <tr>\n",
       "      <th>4</th>\n",
       "      <td>5849-50964-0009</td>\n",
       "      <td>5849-50873-0018</td>\n",
       "      <td>6267-65525-0027</td>\n",
       "      <td>dev-other</td>\n",
       "      <td>dev-other</td>\n",
       "      <td>dev-other</td>\n",
       "    </tr>\n",
       "  </tbody>\n",
       "</table>\n",
       "</div>"
      ],
      "text/plain": [
       "    clean_utterance embedding_utterance interference_utterance  \\\n",
       "0   4831-18525-0005     4831-29134-0017       3576-138058-0010   \n",
       "1   6841-88291-0003     6841-88294-0035       1585-157660-0013   \n",
       "2  1988-147956-0028    1988-148538-0011         84-121123-0026   \n",
       "3   251-137823-0002     251-137823-0003        6455-67803-0007   \n",
       "4   5849-50964-0009     5849-50873-0018        6267-65525-0027   \n",
       "\n",
       "  clean_utterance_set embedding_utterance_set interference_utterance_set  \n",
       "0           dev-other               dev-other                  dev-clean  \n",
       "1           dev-other               dev-other                  dev-other  \n",
       "2           dev-clean               dev-clean                  dev-clean  \n",
       "3           dev-clean               dev-clean                  dev-other  \n",
       "4           dev-other               dev-other                  dev-other  "
      ]
     },
     "execution_count": 23,
     "metadata": {},
     "output_type": "execute_result"
    }
   ],
   "source": [
    "for c in libri_df.columns:\n",
    "    if \"_set\" in c or \"_path\" in c:\n",
    "        continue\n",
    "    tmp_split = libri_df[c].str.split(pat=\"-\", n=2, expand=True)\n",
    "    libri_df[c+\"_set\"] = tmp_split[0].map(speakers)\n",
    "libri_df.head(5)"
   ]
  },
  {
   "cell_type": "code",
   "execution_count": 24,
   "id": "5676cdc3",
   "metadata": {},
   "outputs": [
    {
     "name": "stdout",
     "output_type": "stream",
     "text": [
      "clean_utterance_set\n",
      "['dev-other' 'dev-clean']\n",
      "embedding_utterance_set\n",
      "['dev-other' 'dev-clean']\n",
      "interference_utterance_set\n",
      "['dev-clean' 'dev-other']\n"
     ]
    }
   ],
   "source": [
    "for c in libri_df.columns:\n",
    "    if \"_set\" not in c:\n",
    "        continue\n",
    "    print(c)\n",
    "    print(libri_df[c].unique())"
   ]
  },
  {
   "cell_type": "code",
   "execution_count": 25,
   "id": "b4fd4bd5",
   "metadata": {},
   "outputs": [
    {
     "data": {
      "text/html": [
       "<div>\n",
       "<style scoped>\n",
       "    .dataframe tbody tr th:only-of-type {\n",
       "        vertical-align: middle;\n",
       "    }\n",
       "\n",
       "    .dataframe tbody tr th {\n",
       "        vertical-align: top;\n",
       "    }\n",
       "\n",
       "    .dataframe thead th {\n",
       "        text-align: right;\n",
       "    }\n",
       "</style>\n",
       "<table border=\"1\" class=\"dataframe\">\n",
       "  <thead>\n",
       "    <tr style=\"text-align: right;\">\n",
       "      <th></th>\n",
       "      <th>clean_utterance</th>\n",
       "      <th>embedding_utterance</th>\n",
       "      <th>interference_utterance</th>\n",
       "      <th>clean_utterance_set</th>\n",
       "      <th>embedding_utterance_set</th>\n",
       "      <th>interference_utterance_set</th>\n",
       "      <th>clean_utterance_path</th>\n",
       "      <th>embedding_utterance_path</th>\n",
       "      <th>interference_utterance_path</th>\n",
       "    </tr>\n",
       "  </thead>\n",
       "  <tbody>\n",
       "    <tr>\n",
       "      <th>0</th>\n",
       "      <td>4831-18525-0005</td>\n",
       "      <td>4831-29134-0017</td>\n",
       "      <td>3576-138058-0010</td>\n",
       "      <td>dev-other</td>\n",
       "      <td>dev-other</td>\n",
       "      <td>dev-clean</td>\n",
       "      <td>datasets/LibriSpeech/dev-other/4831/18525/4831...</td>\n",
       "      <td>datasets/LibriSpeech/dev-other/4831/29134/4831...</td>\n",
       "      <td>datasets/LibriSpeech/dev-clean/3576/138058/357...</td>\n",
       "    </tr>\n",
       "    <tr>\n",
       "      <th>1</th>\n",
       "      <td>6841-88291-0003</td>\n",
       "      <td>6841-88294-0035</td>\n",
       "      <td>1585-157660-0013</td>\n",
       "      <td>dev-other</td>\n",
       "      <td>dev-other</td>\n",
       "      <td>dev-other</td>\n",
       "      <td>datasets/LibriSpeech/dev-other/6841/88291/6841...</td>\n",
       "      <td>datasets/LibriSpeech/dev-other/6841/88294/6841...</td>\n",
       "      <td>datasets/LibriSpeech/dev-other/1585/157660/158...</td>\n",
       "    </tr>\n",
       "    <tr>\n",
       "      <th>2</th>\n",
       "      <td>1988-147956-0028</td>\n",
       "      <td>1988-148538-0011</td>\n",
       "      <td>84-121123-0026</td>\n",
       "      <td>dev-clean</td>\n",
       "      <td>dev-clean</td>\n",
       "      <td>dev-clean</td>\n",
       "      <td>datasets/LibriSpeech/dev-clean/1988/147956/198...</td>\n",
       "      <td>datasets/LibriSpeech/dev-clean/1988/148538/198...</td>\n",
       "      <td>datasets/LibriSpeech/dev-clean/84/121123/84-12...</td>\n",
       "    </tr>\n",
       "    <tr>\n",
       "      <th>3</th>\n",
       "      <td>251-137823-0002</td>\n",
       "      <td>251-137823-0003</td>\n",
       "      <td>6455-67803-0007</td>\n",
       "      <td>dev-clean</td>\n",
       "      <td>dev-clean</td>\n",
       "      <td>dev-other</td>\n",
       "      <td>datasets/LibriSpeech/dev-clean/251/137823/251-...</td>\n",
       "      <td>datasets/LibriSpeech/dev-clean/251/137823/251-...</td>\n",
       "      <td>datasets/LibriSpeech/dev-other/6455/67803/6455...</td>\n",
       "    </tr>\n",
       "    <tr>\n",
       "      <th>4</th>\n",
       "      <td>5849-50964-0009</td>\n",
       "      <td>5849-50873-0018</td>\n",
       "      <td>6267-65525-0027</td>\n",
       "      <td>dev-other</td>\n",
       "      <td>dev-other</td>\n",
       "      <td>dev-other</td>\n",
       "      <td>datasets/LibriSpeech/dev-other/5849/50964/5849...</td>\n",
       "      <td>datasets/LibriSpeech/dev-other/5849/50873/5849...</td>\n",
       "      <td>datasets/LibriSpeech/dev-other/6267/65525/6267...</td>\n",
       "    </tr>\n",
       "  </tbody>\n",
       "</table>\n",
       "</div>"
      ],
      "text/plain": [
       "    clean_utterance embedding_utterance interference_utterance  \\\n",
       "0   4831-18525-0005     4831-29134-0017       3576-138058-0010   \n",
       "1   6841-88291-0003     6841-88294-0035       1585-157660-0013   \n",
       "2  1988-147956-0028    1988-148538-0011         84-121123-0026   \n",
       "3   251-137823-0002     251-137823-0003        6455-67803-0007   \n",
       "4   5849-50964-0009     5849-50873-0018        6267-65525-0027   \n",
       "\n",
       "  clean_utterance_set embedding_utterance_set interference_utterance_set  \\\n",
       "0           dev-other               dev-other                  dev-clean   \n",
       "1           dev-other               dev-other                  dev-other   \n",
       "2           dev-clean               dev-clean                  dev-clean   \n",
       "3           dev-clean               dev-clean                  dev-other   \n",
       "4           dev-other               dev-other                  dev-other   \n",
       "\n",
       "                                clean_utterance_path  \\\n",
       "0  datasets/LibriSpeech/dev-other/4831/18525/4831...   \n",
       "1  datasets/LibriSpeech/dev-other/6841/88291/6841...   \n",
       "2  datasets/LibriSpeech/dev-clean/1988/147956/198...   \n",
       "3  datasets/LibriSpeech/dev-clean/251/137823/251-...   \n",
       "4  datasets/LibriSpeech/dev-other/5849/50964/5849...   \n",
       "\n",
       "                            embedding_utterance_path  \\\n",
       "0  datasets/LibriSpeech/dev-other/4831/29134/4831...   \n",
       "1  datasets/LibriSpeech/dev-other/6841/88294/6841...   \n",
       "2  datasets/LibriSpeech/dev-clean/1988/148538/198...   \n",
       "3  datasets/LibriSpeech/dev-clean/251/137823/251-...   \n",
       "4  datasets/LibriSpeech/dev-other/5849/50873/5849...   \n",
       "\n",
       "                         interference_utterance_path  \n",
       "0  datasets/LibriSpeech/dev-clean/3576/138058/357...  \n",
       "1  datasets/LibriSpeech/dev-other/1585/157660/158...  \n",
       "2  datasets/LibriSpeech/dev-clean/84/121123/84-12...  \n",
       "3  datasets/LibriSpeech/dev-other/6455/67803/6455...  \n",
       "4  datasets/LibriSpeech/dev-other/6267/65525/6267...  "
      ]
     },
     "execution_count": 25,
     "metadata": {},
     "output_type": "execute_result"
    }
   ],
   "source": [
    "for c in libri_df.columns:\n",
    "    if \"_set\" in c or \"_path\" in c:\n",
    "        continue\n",
    "    tmp_split = libri_df[c].str.split(pat=\"-\", n=2, expand=True)\n",
    "    libri_df[c+\"_path\"] =  'datasets/LibriSpeech/'+libri_df[c+\"_set\"]+'/'+tmp_split[0]+'/'+tmp_split[1]+'/'+libri_df[c]+'.flac'\n",
    "libri_df.head(5)"
   ]
  },
  {
   "cell_type": "code",
   "execution_count": 26,
   "id": "14ba6b12",
   "metadata": {},
   "outputs": [
    {
     "data": {
      "text/html": [
       "<div>\n",
       "<style scoped>\n",
       "    .dataframe tbody tr th:only-of-type {\n",
       "        vertical-align: middle;\n",
       "    }\n",
       "\n",
       "    .dataframe tbody tr th {\n",
       "        vertical-align: top;\n",
       "    }\n",
       "\n",
       "    .dataframe thead th {\n",
       "        text-align: right;\n",
       "    }\n",
       "</style>\n",
       "<table border=\"1\" class=\"dataframe\">\n",
       "  <thead>\n",
       "    <tr style=\"text-align: right;\">\n",
       "      <th></th>\n",
       "      <th>clean_utterance</th>\n",
       "      <th>embedding_utterance</th>\n",
       "      <th>interference_utterance</th>\n",
       "      <th>clean_utterance_set</th>\n",
       "      <th>embedding_utterance_set</th>\n",
       "      <th>interference_utterance_set</th>\n",
       "      <th>clean_utterance_path</th>\n",
       "      <th>embedding_utterance_path</th>\n",
       "      <th>interference_utterance_path</th>\n",
       "    </tr>\n",
       "  </thead>\n",
       "  <tbody>\n",
       "  </tbody>\n",
       "</table>\n",
       "</div>"
      ],
      "text/plain": [
       "Empty DataFrame\n",
       "Columns: [clean_utterance, embedding_utterance, interference_utterance, clean_utterance_set, embedding_utterance_set, interference_utterance_set, clean_utterance_path, embedding_utterance_path, interference_utterance_path]\n",
       "Index: []"
      ]
     },
     "execution_count": 26,
     "metadata": {},
     "output_type": "execute_result"
    }
   ],
   "source": [
    "check_file_exist = libri_df.apply(lambda x: Path(x[\"clean_utterance_path\"]).is_file() & Path(x[\"embedding_utterance_path\"]).is_file() & Path(x[\"interference_utterance_path\"]).is_file(), axis=1)\n",
    "libri_df[~(check_file_exist)]"
   ]
  },
  {
   "cell_type": "code",
   "execution_count": 27,
   "id": "6f71db23",
   "metadata": {},
   "outputs": [],
   "source": [
    "libri_df.drop(columns=[\"clean_utterance\", \"embedding_utterance\", \"interference_utterance\", \"clean_utterance_set\", \"embedding_utterance_set\", \"interference_utterance_set\"], inplace=True)\n",
    "libri_df.to_csv(\"datasets/LibriSpeech/dev_tuples_path.csv\", index=False)"
   ]
  },
  {
   "cell_type": "markdown",
   "id": "7fe07ac8",
   "metadata": {},
   "source": [
    "# Old"
   ]
  },
  {
   "cell_type": "code",
   "execution_count": null,
   "id": "619b37f9",
   "metadata": {},
   "outputs": [],
   "source": [
    "for i,r in vctk_df.iterrows():\n",
    "\n",
    "    temp= dict()\n",
    "    for path in filepath_list:\n",
    "        if r['clean_utterance'] in path:\n",
    "            temp['clean_utterance']=path\n",
    "        if r['embedding_utterance'] in path:\n",
    "            temp['embedding_utterance']=path\n",
    "        if r['interference_utterance'] in path:\n",
    "            temp['interference_utterance']=path\n",
    "    \n",
    "    if len(temp)!=3:\n",
    "        print(temp)\n",
    "        print(r)\n",
    "    #path_df.append(temp,ignore_index=True)\n",
    "    #print(temp)\n",
    "    #print(len(temp))\n",
    "    #print(r['clean_utterance'])\n",
    "    #print(r['embedding_utterance'])\n",
    "    #print(r['interference_utterance'])\n"
   ]
  },
  {
   "cell_type": "code",
   "execution_count": 16,
   "id": "27ec667e",
   "metadata": {},
   "outputs": [],
   "source": [
    "for path in filepath_list:\n",
    "    if '4831-29134-0017' in path:\n",
    "        print(path)"
   ]
  }
 ],
 "metadata": {
  "kernelspec": {
   "display_name": "Python 3 (ipykernel)",
   "language": "python",
   "name": "python3"
  },
  "language_info": {
   "codemirror_mode": {
    "name": "ipython",
    "version": 3
   },
   "file_extension": ".py",
   "mimetype": "text/x-python",
   "name": "python",
   "nbconvert_exporter": "python",
   "pygments_lexer": "ipython3",
   "version": "3.8.0"
  }
 },
 "nbformat": 4,
 "nbformat_minor": 5
}
