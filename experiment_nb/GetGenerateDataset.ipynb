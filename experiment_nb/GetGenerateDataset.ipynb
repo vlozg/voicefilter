{
 "cells": [
  {
   "cell_type": "markdown",
   "id": "2ed6be7b",
   "metadata": {},
   "source": [
    "# Import libraries & parse arguments"
   ]
  },
  {
   "cell_type": "code",
   "execution_count": 1,
   "id": "c82b69b2",
   "metadata": {},
   "outputs": [],
   "source": [
    "import os\n",
    "import numpy as np\n",
    "import pandas as pd\n",
    "import IPython.display\n",
    "\n",
    "from utils.audio import Audio\n",
    "from utils.hparams import HParam\n",
    "from datasets.dataloader import create_dataloader"
   ]
  },
  {
   "cell_type": "code",
   "execution_count": 2,
   "id": "26a49c3c",
   "metadata": {},
   "outputs": [
    {
     "name": "stderr",
     "output_type": "stream",
     "text": [
      "/root/voicefilter/utils/hparams.py:18: YAMLLoadWarning: calling yaml.load_all() without Loader=... is deprecated, as the default Loader is unsafe. Please read https://msg.pyyaml.org/load for full details.\n",
      "  for doc in docs:\n"
     ]
    }
   ],
   "source": [
    "hp = HParam(\"config.yaml\")"
   ]
  },
  {
   "cell_type": "markdown",
   "id": "b78b99fb",
   "metadata": {},
   "source": [
    "# Prepare"
   ]
  },
  {
   "cell_type": "markdown",
   "id": "9060b484",
   "metadata": {},
   "source": [
    "Create testloader in debug mode"
   ]
  },
  {
   "cell_type": "code",
   "execution_count": 3,
   "id": "4534eb87",
   "metadata": {},
   "outputs": [],
   "source": [
    "testloader_vn = create_dataloader(hp, \"generate\", dataset_detail=[\"vin\", \"zalo-train\", \"zalo-test\"], scheme=\"test_cuda_debug\", size=5000)\n",
    "testloader_lb = create_dataloader(hp, \"generate\", dataset_detail=[\"librispeech-test\"], scheme=\"test_cuda_debug\", size=5000)"
   ]
  },
  {
   "cell_type": "markdown",
   "id": "b31581ec",
   "metadata": {},
   "source": [
    "Audio is an abstract class that help simplify many operation on a single audio file like convert to mel, waveform to mel or mel to waveform,..."
   ]
  },
  {
   "cell_type": "code",
   "execution_count": 4,
   "id": "4747dabf",
   "metadata": {},
   "outputs": [],
   "source": [
    "audio = Audio(hp)"
   ]
  },
  {
   "cell_type": "markdown",
   "id": "205b5300",
   "metadata": {},
   "source": [
    "# Main"
   ]
  },
  {
   "cell_type": "code",
   "execution_count": 16,
   "id": "663b6ec2",
   "metadata": {},
   "outputs": [],
   "source": [
    "s1_dvecs = []\n",
    "s1_targets = []\n",
    "s2s = []\n",
    "l1s = []\n",
    "l2s = []\n",
    "for s1_dvecs_, s1_targets_, s2s_, _, _, l1s_, l2s_ in testloader_vn:\n",
    "    s1_dvecs += s1_dvecs_\n",
    "    s1_targets += s1_targets_\n",
    "    s2s += s2s_\n",
    "    l1s += l1s_\n",
    "    l2s += l2s_"
   ]
  },
  {
   "cell_type": "code",
   "execution_count": 18,
   "id": "0bd2bd85",
   "metadata": {},
   "outputs": [],
   "source": [
    "df = pd.DataFrame({\n",
    "    \"clean_utterance_path\": s1_targets,\n",
    "    \"embedding_utterance_path\": s1_dvecs,\n",
    "    \"interference_utterance_path\": s2s,\n",
    "    \"clean_segment\": l1s,\n",
    "    \"interference_segment\": l2s,\n",
    "    \"segment_length\": 3\n",
    "})"
   ]
  },
  {
   "cell_type": "code",
   "execution_count": 19,
   "id": "e5422b8c",
   "metadata": {},
   "outputs": [],
   "source": [
    "df.to_csv(\"VNGenerateDataset.csv\", index=False)"
   ]
  },
  {
   "cell_type": "code",
   "execution_count": 20,
   "id": "bf1b999d",
   "metadata": {},
   "outputs": [],
   "source": [
    "s1_dvecs = []\n",
    "s1_targets = []\n",
    "s2s = []\n",
    "l1s = []\n",
    "l2s = []\n",
    "for s1_dvecs_, s1_targets_, s2s_, _, _, l1s_, l2s_ in testloader_lb:\n",
    "    s1_dvecs += s1_dvecs_\n",
    "    s1_targets += s1_targets_\n",
    "    s2s += s2s_\n",
    "    l1s += l1s_\n",
    "    l2s += l2s_"
   ]
  },
  {
   "cell_type": "code",
   "execution_count": null,
   "id": "681c3315",
   "metadata": {},
   "outputs": [],
   "source": [
    "df = pd.DataFrame({\n",
    "    \"clean_utterance_path\": s1_targets,\n",
    "    \"embedding_utterance_path\": s1_dvecs,\n",
    "    \"interference_utterance_path\": s2s,\n",
    "    \"clean_segment\": l1s,\n",
    "    \"interference_segment\": l2s,\n",
    "    \"segment_length\": 3\n",
    "})\n",
    "df.to_csv(\"LibriSpeechGenerateDataset.csv\", index=False)"
   ]
  }
 ],
 "metadata": {
  "kernelspec": {
   "display_name": "Python 3 (ipykernel)",
   "language": "python",
   "name": "python3"
  },
  "language_info": {
   "codemirror_mode": {
    "name": "ipython",
    "version": 3
   },
   "file_extension": ".py",
   "mimetype": "text/x-python",
   "name": "python",
   "nbconvert_exporter": "python",
   "pygments_lexer": "ipython3",
   "version": "3.8.0"
  }
 },
 "nbformat": 4,
 "nbformat_minor": 5
}
