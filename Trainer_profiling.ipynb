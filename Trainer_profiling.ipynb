{
 "cells": [
  {
   "cell_type": "code",
   "execution_count": 1,
   "metadata": {},
   "outputs": [
    {
     "name": "stderr",
     "output_type": "stream",
     "text": [
      "/root/voicefilter/utils/hparams.py:18: YAMLLoadWarning: calling yaml.load_all() without Loader=... is deprecated, as the default Loader is unsafe. Please read https://msg.pyyaml.org/load for full details.\n",
      "  for doc in docs:\n"
     ]
    }
   ],
   "source": [
    "import torch\n",
    "import torch.nn as nn\n",
    "import torch.nn.functional as F\n",
    "\n",
    "import os\n",
    "\n",
    "from utils.audio import Audio\n",
    "from utils.hparams import HParam\n",
    "\n",
    "from model.embedder import SpeechEmbedder\n",
    "from datasets.dataloader import create_dataloader\n",
    "\n",
    "hp = HParam(\"config.yaml\")\n",
    "audio = Audio(hp)"
   ]
  },
  {
   "cell_type": "markdown",
   "metadata": {},
   "source": [
    "# Trainer setup"
   ]
  },
  {
   "cell_type": "code",
   "execution_count": 1,
   "metadata": {},
   "outputs": [
    {
     "name": "stderr",
     "output_type": "stream",
     "text": [
      "/root/.virtualenvs/venv/lib/python3.8/site-packages/tqdm/auto.py:22: TqdmWarning: IProgress not found. Please update jupyter and ipywidgets. See https://ipywidgets.readthedocs.io/en/stable/user_install.html\n",
      "  from .autonotebook import tqdm as notebook_tqdm\n"
     ]
    }
   ],
   "source": [
    "import os\n",
    "import time\n",
    "import logging\n",
    "import argparse\n",
    "\n",
    "from utils.trainer import trainer\n",
    "from utils.hparams import HParam\n",
    "from utils.writer import MyWriter\n",
    "from datasets.dataloader import create_dataloader"
   ]
  },
  {
   "cell_type": "code",
   "execution_count": 2,
   "metadata": {},
   "outputs": [
    {
     "name": "stderr",
     "output_type": "stream",
     "text": [
      "/root/voicefilter/utils/hparams.py:18: YAMLLoadWarning: calling yaml.load_all() without Loader=... is deprecated, as the default Loader is unsafe. Please read https://msg.pyyaml.org/load for full details.\n",
      "  for doc in docs:\n"
     ]
    }
   ],
   "source": [
    "parser = argparse.ArgumentParser()\n",
    "parser.add_argument('-b', '--base_dir', type=str, default='.',\n",
    "                    help=\"Root directory of run.\")\n",
    "parser.add_argument('-c', '--config', type=str, required=True,\n",
    "                    help=\"folder contain yaml files for configuration\")\n",
    "parser.add_argument('-e', '--embedder_path', type=str, required=True,\n",
    "                    help=\"path of embedder model pt file\")\n",
    "parser.add_argument('--checkpoint_path', type=str, default=None,\n",
    "                    help=\"path of checkpoint pt file\")\n",
    "parser.add_argument('-m', '--model', type=str, required=True,\n",
    "                    help=\"Name of the model. Used for both logging and saving checkpoints.\")\n",
    "parser.add_argument('--train_set', type=str, nargs=\"+\",\n",
    "                    help=\"List of dataset subset name for train set.\")\n",
    "parser.add_argument('--test_set', type=str, nargs=\"+\",\n",
    "                    help=\"List of dataset subset name for train set.\")\n",
    "args = parser.parse_args([\n",
    "    \"-c\", \"config.yaml\"\n",
    "    ,\"-e\", \"embedder.pt\"\n",
    "    ,\"-m\", \"performance_prof\"\n",
    "    ,\"--train_set\", \"librispeech-train\"\n",
    "    ,\"--test_set\", \"librispeech-test\"\n",
    "])\n",
    "\n",
    "hp = HParam(args.config)\n",
    "with open(args.config, 'r') as f:\n",
    "    # store hparams as string\n",
    "    hp_str = ''.join(f.readlines())\n",
    "\n",
    "pt_dir = os.path.join(args.base_dir, hp.log.chkpt_dir, args.model)\n",
    "os.makedirs(pt_dir, exist_ok=True)\n",
    "\n",
    "log_dir = os.path.join(args.base_dir, hp.log.log_dir, args.model)\n",
    "os.makedirs(log_dir, exist_ok=True)\n",
    "\n",
    "chkpt_path = args.checkpoint_path if args.checkpoint_path is not None else None\n",
    "\n",
    "logging.basicConfig(\n",
    "    level=logging.INFO,\n",
    "    format='%(asctime)s - %(levelname)s - %(message)s',\n",
    "    handlers=[\n",
    "        logging.FileHandler(os.path.join(log_dir,\n",
    "            '%s-%d.log' % (args.model, time.time()))),\n",
    "        logging.StreamHandler()\n",
    "    ]\n",
    ")\n",
    "logger = logging.getLogger()\n",
    "\n",
    "writer = MyWriter(hp, log_dir)\n",
    "\n",
    "trainloader = create_dataloader(hp, \"generate\", dataset_detail=args.train_set, scheme=\"train\")\n",
    "testloader = create_dataloader(hp, \"generate\", dataset_detail=args.test_set, scheme=\"test\")"
   ]
  },
  {
   "cell_type": "markdown",
   "metadata": {},
   "source": [
    "# Profiling"
   ]
  },
  {
   "cell_type": "code",
   "execution_count": 3,
   "metadata": {},
   "outputs": [],
   "source": [
    "from torch.profiler import profile, record_function, ProfilerActivity"
   ]
  },
  {
   "cell_type": "code",
   "execution_count": 4,
   "metadata": {},
   "outputs": [
    {
     "name": "stderr",
     "output_type": "stream",
     "text": [
      "/root/.virtualenvs/venv/lib/python3.8/site-packages/torch/profiler/profiler.py:228: UserWarning: use_cuda is deprecated, use activities argument instead\n",
      "  warn(\"use_cuda is deprecated, use activities argument instead\")\n",
      "2022-04-02 18:33:19,021 - INFO - Starting new training run\n",
      "2022-04-02 18:33:21,829 - INFO - Wrote summary at step 1\n",
      "2022-04-02 18:33:22,585 - INFO - Wrote summary at step 2\n",
      "2022-04-02 18:33:23,334 - INFO - Wrote summary at step 3\n"
     ]
    }
   ],
   "source": [
    "with profile(activities=[ProfilerActivity.CPU, ProfilerActivity.CUDA], record_shapes=True, profile_memory=True, use_cuda=True) as prof:\n",
    "    trainer(args, pt_dir, chkpt_path, trainloader, testloader, writer, logger, hp, hp_str, profiling=True)"
   ]
  },
  {
   "cell_type": "code",
   "execution_count": 5,
   "metadata": {},
   "outputs": [],
   "source": [
    "prof.export_chrome_trace(\"trace.json\")"
   ]
  }
 ],
 "metadata": {
  "interpreter": {
   "hash": "4ed27c33f293ca8c3697f2b328444ff97f02b44e95d63e9588b837d1a5300422"
  },
  "kernelspec": {
   "display_name": "Python 3.8.0 ('venv')",
   "language": "python",
   "name": "python3"
  },
  "language_info": {
   "codemirror_mode": {
    "name": "ipython",
    "version": 3
   },
   "file_extension": ".py",
   "mimetype": "text/x-python",
   "name": "python",
   "nbconvert_exporter": "python",
   "pygments_lexer": "ipython3",
   "version": "3.8.0"
  },
  "orig_nbformat": 4
 },
 "nbformat": 4,
 "nbformat_minor": 2
}
