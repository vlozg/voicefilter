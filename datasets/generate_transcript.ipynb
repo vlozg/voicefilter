{
 "cells": [
  {
   "cell_type": "code",
   "execution_count": 3,
   "metadata": {},
   "outputs": [],
   "source": [
    "import argparse\n",
    "import glob\n",
    "import os\n",
    "\n",
    "import wave\n",
    "import contextlib\n",
    "import numpy as np\n",
    "import librosa"
   ]
  },
  {
   "cell_type": "code",
   "execution_count": 4,
   "metadata": {},
   "outputs": [],
   "source": [
    "speaker_folders={}"
   ]
  },
  {
   "cell_type": "code",
   "execution_count": 5,
   "metadata": {},
   "outputs": [],
   "source": [
    "libri_dir= \"LibriSpeech\"\n",
    "vivos_dir= \"VIVOS/vivos\"\n",
    "vctk_dir= \"VCTK-Corpus\"\n",
    "voxceleb1_dir= \"VoxCeleb1\"\n",
    "voxceleb2_dir= \"VoxCeleb2\"\n",
    "vin_dir= \"VinBigdata\"\n",
    "zalo_dir= \"ZaloAI2020\""
   ]
  },
  {
   "cell_type": "code",
   "execution_count": 6,
   "metadata": {},
   "outputs": [],
   "source": [
    "speaker_folders={}"
   ]
  },
  {
   "cell_type": "code",
   "execution_count": 5,
   "metadata": {},
   "outputs": [],
   "source": [
    "speaker_folders[\"librispeech-train\"] = [x for x in glob.glob(os.path.join(libri_dir, 'train-clean-100', '*'))\n",
    "                            if os.path.isdir(x)] + \\\n",
    "                            [x for x in glob.glob(os.path.join(libri_dir, 'train-clean-360', '*'))\n",
    "                            if os.path.isdir(x)]\n",
    "for spk in speaker_folders[\"librispeech-train\"]:\n",
    "    transript_paths=glob.glob(os.path.join(spk, '**', \"*.trans.txt\"), recursive=True)\n",
    "    for transcript_dir in transript_paths:\n",
    "        base_dir=os.path.dirname(transcript_dir)\n",
    "        with open(transcript_dir) as file:\n",
    "            lines=file.readlines()\n",
    "            lines=[line.strip().split(' ',1) for line in lines]\n",
    "            for name, transcript in lines:\n",
    "                with open(os.path.join(base_dir,name+'.txt'),'w+') as wf:\n",
    "                    wf.writelines(transcript)\n"
   ]
  },
  {
   "cell_type": "code",
   "execution_count": 25,
   "metadata": {},
   "outputs": [],
   "source": [
    "speaker_folders[\"librispeech-test\"] = [x for x in glob.glob(os.path.join(libri_dir, 'dev-clean', '*'))] + \\\n",
    "                            [x for x in glob.glob(os.path.join(libri_dir, 'test-clean', '*'))]\n",
    "for spk in speaker_folders[\"librispeech-test\"]:\n",
    "    transript_paths=glob.glob(os.path.join(spk, '**', \"*.trans.txt\"), recursive=True)\n",
    "    for transcript_dir in transript_paths:\n",
    "        base_dir=os.path.dirname(transcript_dir)\n",
    "        with open(transcript_dir) as file:\n",
    "            lines=file.readlines()\n",
    "            lines=[line.strip().split(' ',1) for line in lines]\n",
    "            for name, transcript in lines:\n",
    "                with open(os.path.join(base_dir,name+'.txt'),'w+') as wf:\n",
    "                    wf.writelines(transcript)"
   ]
  },
  {
   "cell_type": "code",
   "execution_count": 13,
   "metadata": {},
   "outputs": [],
   "source": [
    "speaker_folders[\"librispeech-other\"] = [x for x in glob.glob(os.path.join(libri_dir, 'dev-other', '*'))] + \\\n",
    "                            [x for x in glob.glob(os.path.join(libri_dir, 'test-other', '*'))]\n",
    "for spk in speaker_folders[\"librispeech-other\"]:\n",
    "    transript_paths=glob.glob(os.path.join(spk, '**', \"*.trans.txt\"), recursive=True)\n",
    "    for transcript_dir in transript_paths:\n",
    "        base_dir=os.path.dirname(transcript_dir)\n",
    "        with open(transcript_dir) as file:\n",
    "            lines=file.readlines()\n",
    "            lines=[line.strip().split(' ',1) for line in lines]\n",
    "            for name, transcript in lines:\n",
    "                with open(os.path.join(base_dir,name+'.txt'),'w+') as wf:\n",
    "                    wf.writelines(transcript)"
   ]
  },
  {
   "cell_type": "code",
   "execution_count": 49,
   "metadata": {},
   "outputs": [],
   "source": [
    "base_dir='VIVOS/vivos/train/waves'\n",
    "with open('VIVOS/vivos/train/prompts.txt') as file:\n",
    "    lines=file.readlines()\n",
    "    lines=[line.strip().split(' ',1) for line in lines]\n",
    "    for name, prompt in lines:\n",
    "        with open(os.path.join(base_dir,name.split('_')[0],name+'.txt'),'w+') as wf:\n",
    "            wf.writelines(prompt)\n"
   ]
  },
  {
   "cell_type": "code",
   "execution_count": 50,
   "metadata": {},
   "outputs": [],
   "source": [
    "base_dir='VIVOS/vivos/test/waves'\n",
    "with open('VIVOS/vivos/test/prompts.txt') as file:\n",
    "    lines=file.readlines()\n",
    "    lines=[line.strip().split(' ',1) for line in lines]\n",
    "    for name, prompt in lines:\n",
    "        with open(os.path.join(base_dir,name.split('_')[0],name+'.txt'),'w+') as wf:\n",
    "            wf.writelines(prompt)"
   ]
  },
  {
   "cell_type": "code",
   "execution_count": 61,
   "metadata": {},
   "outputs": [],
   "source": [
    "base_dir='vinAudio_ASReval/groundtruth'\n",
    "with open('vinAudio_ASReval/target_groundtruth.txt.uniq') as file:\n",
    "    lines=file.readlines()\n",
    "    lines=[line.strip().split(' ',1) for line in lines]\n",
    "    for name, prompt in lines:\n",
    "        with open(os.path.join(base_dir,name +'.txt'),'w+') as wf:\n",
    "            wf.writelines(prompt.upper())"
   ]
  },
  {
   "cell_type": "code",
   "execution_count": null,
   "metadata": {},
   "outputs": [],
   "source": []
  }
 ],
 "metadata": {
  "kernelspec": {
   "display_name": "Python 3.7.12 ('base')",
   "language": "python",
   "name": "python3"
  },
  "language_info": {
   "codemirror_mode": {
    "name": "ipython",
    "version": 3
   },
   "file_extension": ".py",
   "mimetype": "text/x-python",
   "name": "python",
   "nbconvert_exporter": "python",
   "pygments_lexer": "ipython3",
   "version": "3.7.12"
  },
  "orig_nbformat": 4,
  "vscode": {
   "interpreter": {
    "hash": "d4d1e4263499bec80672ea0156c357c1ee493ec2b1c70f0acce89fc37c4a6abe"
   }
  }
 },
 "nbformat": 4,
 "nbformat_minor": 2
}
