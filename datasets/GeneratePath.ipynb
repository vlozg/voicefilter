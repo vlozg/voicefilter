{
 "cells": [
  {
   "cell_type": "code",
   "execution_count": 1,
   "metadata": {},
   "outputs": [],
   "source": [
    "import pandas as pd\n",
    "import os\n",
    "import glob\n",
    "import json"
   ]
  },
  {
   "cell_type": "code",
   "execution_count": 22,
   "metadata": {},
   "outputs": [
    {
     "data": {
      "text/plain": [
       "(500000, 6)"
      ]
     },
     "metadata": {},
     "output_type": "display_data"
    },
    {
     "data": {
      "text/plain": [
       "(500000, 6)"
      ]
     },
     "metadata": {},
     "output_type": "display_data"
    },
    {
     "data": {
      "text/plain": [
       "(499953, 3)"
      ]
     },
     "metadata": {},
     "output_type": "display_data"
    }
   ],
   "source": [
    "df=pd.read_csv('recipes/ZaloGenerate_train.csv')\n",
    "display(df.shape)\n",
    "display(df.drop_duplicates().shape)\n",
    "display(df[['clean_utterance_path','embedding_utterance_path','interference_utterance_path']].drop_duplicates().shape)"
   ]
  },
  {
   "cell_type": "code",
   "execution_count": 16,
   "metadata": {},
   "outputs": [
    {
     "data": {
      "text/html": [
       "<div>\n",
       "<style scoped>\n",
       "    .dataframe tbody tr th:only-of-type {\n",
       "        vertical-align: middle;\n",
       "    }\n",
       "\n",
       "    .dataframe tbody tr th {\n",
       "        vertical-align: top;\n",
       "    }\n",
       "\n",
       "    .dataframe thead th {\n",
       "        text-align: right;\n",
       "    }\n",
       "</style>\n",
       "<table border=\"1\" class=\"dataframe\">\n",
       "  <thead>\n",
       "    <tr style=\"text-align: right;\">\n",
       "      <th></th>\n",
       "      <th>clean_utterance_path</th>\n",
       "      <th>embedding_utterance_path</th>\n",
       "      <th>interference_utterance_path</th>\n",
       "      <th>clean_segment_start</th>\n",
       "      <th>interference_segment_start</th>\n",
       "      <th>segment_length</th>\n",
       "    </tr>\n",
       "  </thead>\n",
       "  <tbody>\n",
       "    <tr>\n",
       "      <th>0</th>\n",
       "      <td>datasets/LibriSpeech/train-clean-360/7434/9667...</td>\n",
       "      <td>datasets/LibriSpeech/train-clean-360/7434/7593...</td>\n",
       "      <td>datasets/LibriSpeech/train-clean-360/2053/1389...</td>\n",
       "      <td>81586</td>\n",
       "      <td>117795</td>\n",
       "      <td>3.0</td>\n",
       "    </tr>\n",
       "    <tr>\n",
       "      <th>1</th>\n",
       "      <td>datasets/LibriSpeech/train-clean-360/667/15881...</td>\n",
       "      <td>datasets/LibriSpeech/train-clean-360/667/15881...</td>\n",
       "      <td>datasets/ZaloAI2020/dataset/729-F-26/729-11.wav</td>\n",
       "      <td>136034</td>\n",
       "      <td>1030</td>\n",
       "      <td>3.0</td>\n",
       "    </tr>\n",
       "    <tr>\n",
       "      <th>2</th>\n",
       "      <td>datasets/ZaloAI2020/dataset/482-F-35/482-18.wav</td>\n",
       "      <td>datasets/ZaloAI2020/dataset/482-F-35/482-10.wav</td>\n",
       "      <td>datasets/LibriSpeech/train-clean-100/8324/2866...</td>\n",
       "      <td>2123</td>\n",
       "      <td>91192</td>\n",
       "      <td>3.0</td>\n",
       "    </tr>\n",
       "    <tr>\n",
       "      <th>3</th>\n",
       "      <td>datasets/LibriSpeech/train-clean-100/4195/1862...</td>\n",
       "      <td>datasets/LibriSpeech/train-clean-100/4195/1750...</td>\n",
       "      <td>datasets/LibriSpeech/train-clean-360/3448/5417...</td>\n",
       "      <td>65286</td>\n",
       "      <td>8533</td>\n",
       "      <td>3.0</td>\n",
       "    </tr>\n",
       "    <tr>\n",
       "      <th>4</th>\n",
       "      <td>datasets/LibriSpeech/train-clean-100/7226/8696...</td>\n",
       "      <td>datasets/LibriSpeech/train-clean-100/7226/8696...</td>\n",
       "      <td>datasets/LibriSpeech/train-clean-360/511/13122...</td>\n",
       "      <td>106657</td>\n",
       "      <td>142867</td>\n",
       "      <td>3.0</td>\n",
       "    </tr>\n",
       "  </tbody>\n",
       "</table>\n",
       "</div>"
      ],
      "text/plain": [
       "                                clean_utterance_path  \\\n",
       "0  datasets/LibriSpeech/train-clean-360/7434/9667...   \n",
       "1  datasets/LibriSpeech/train-clean-360/667/15881...   \n",
       "2    datasets/ZaloAI2020/dataset/482-F-35/482-18.wav   \n",
       "3  datasets/LibriSpeech/train-clean-100/4195/1862...   \n",
       "4  datasets/LibriSpeech/train-clean-100/7226/8696...   \n",
       "\n",
       "                            embedding_utterance_path  \\\n",
       "0  datasets/LibriSpeech/train-clean-360/7434/7593...   \n",
       "1  datasets/LibriSpeech/train-clean-360/667/15881...   \n",
       "2    datasets/ZaloAI2020/dataset/482-F-35/482-10.wav   \n",
       "3  datasets/LibriSpeech/train-clean-100/4195/1750...   \n",
       "4  datasets/LibriSpeech/train-clean-100/7226/8696...   \n",
       "\n",
       "                         interference_utterance_path  clean_segment_start  \\\n",
       "0  datasets/LibriSpeech/train-clean-360/2053/1389...                81586   \n",
       "1    datasets/ZaloAI2020/dataset/729-F-26/729-11.wav               136034   \n",
       "2  datasets/LibriSpeech/train-clean-100/8324/2866...                 2123   \n",
       "3  datasets/LibriSpeech/train-clean-360/3448/5417...                65286   \n",
       "4  datasets/LibriSpeech/train-clean-360/511/13122...               106657   \n",
       "\n",
       "   interference_segment_start  segment_length  \n",
       "0                      117795             3.0  \n",
       "1                        1030             3.0  \n",
       "2                       91192             3.0  \n",
       "3                        8533             3.0  \n",
       "4                      142867             3.0  "
      ]
     },
     "metadata": {},
     "output_type": "display_data"
    },
    {
     "data": {
      "text/plain": [
       "(500000, 3)"
      ]
     },
     "metadata": {},
     "output_type": "display_data"
    },
    {
     "data": {
      "text/plain": [
       "(57166, 3)"
      ]
     },
     "execution_count": 16,
     "metadata": {},
     "output_type": "execute_result"
    }
   ],
   "source": [
    "df=pd.read_csv('recipes/LibriZaloGenerate_train.csv')\n",
    "display(df.head())\n",
    "display(df[['clean_utterance_path','embedding_utterance_path','interference_utterance_path']].drop_duplicates().shape)\n",
    "temp=df[['clean_utterance_path','embedding_utterance_path','interference_utterance_path']].drop_duplicates()\n",
    "temp[temp['clean_utterance_path'].str.contains('ZaloAI2020')].shape"
   ]
  },
  {
   "cell_type": "code",
   "execution_count": 13,
   "metadata": {},
   "outputs": [
    {
     "data": {
      "text/plain": [
       "(136797, 3)"
      ]
     },
     "execution_count": 13,
     "metadata": {},
     "output_type": "execute_result"
    }
   ],
   "source": [
    "df=pd.read_csv('recipes/LibriZaloMix_train.csv')\n",
    "df[['clean_utterance_path','embedding_utterance_path','interference_utterance_path']].drop_duplicates().shape\n",
    "temp=df[['clean_utterance_path','embedding_utterance_path','interference_utterance_path']].drop_duplicates()\n",
    "temp[temp['clean_utterance_path'].str.contains('ZaloAI2020')].shape"
   ]
  },
  {
   "cell_type": "code",
   "execution_count": 11,
   "metadata": {},
   "outputs": [
    {
     "data": {
      "text/plain": [
       "(59460, 3)"
      ]
     },
     "execution_count": 11,
     "metadata": {},
     "output_type": "execute_result"
    }
   ],
   "source": [
    "df=pd.read_csv('recipes/LibriZaloCross_train.csv')\n",
    "df[['clean_utterance_path','embedding_utterance_path','interference_utterance_path']].drop_duplicates().shape\n",
    "temp=df[['clean_utterance_path','embedding_utterance_path','interference_utterance_path']].drop_duplicates()\n",
    "temp[temp['clean_utterance_path'].str.contains('ZaloAI2020')].shape"
   ]
  },
  {
   "cell_type": "code",
   "execution_count": 26,
   "metadata": {},
   "outputs": [],
   "source": []
  },
  {
   "cell_type": "code",
   "execution_count": 28,
   "metadata": {},
   "outputs": [
    {
     "data": {
      "text/html": [
       "<div>\n",
       "<style scoped>\n",
       "    .dataframe tbody tr th:only-of-type {\n",
       "        vertical-align: middle;\n",
       "    }\n",
       "\n",
       "    .dataframe tbody tr th {\n",
       "        vertical-align: top;\n",
       "    }\n",
       "\n",
       "    .dataframe thead th {\n",
       "        text-align: right;\n",
       "    }\n",
       "</style>\n",
       "<table border=\"1\" class=\"dataframe\">\n",
       "  <thead>\n",
       "    <tr style=\"text-align: right;\">\n",
       "      <th></th>\n",
       "      <th>clean_utterance_path</th>\n",
       "      <th>embedding_utterance_path</th>\n",
       "      <th>interference_utterance_path</th>\n",
       "    </tr>\n",
       "  </thead>\n",
       "  <tbody>\n",
       "  </tbody>\n",
       "</table>\n",
       "</div>"
      ],
      "text/plain": [
       "Empty DataFrame\n",
       "Columns: [clean_utterance_path, embedding_utterance_path, interference_utterance_path]\n",
       "Index: []"
      ]
     },
     "execution_count": 28,
     "metadata": {},
     "output_type": "execute_result"
    }
   ],
   "source": []
  },
  {
   "cell_type": "code",
   "execution_count": null,
   "metadata": {},
   "outputs": [],
   "source": []
  },
  {
   "cell_type": "code",
   "execution_count": null,
   "metadata": {},
   "outputs": [],
   "source": []
  },
  {
   "cell_type": "code",
   "execution_count": 8,
   "metadata": {},
   "outputs": [],
   "source": [
    "#/home/longvu/voicefilter/datasets/vinAudio_ASReval"
   ]
  },
  {
   "cell_type": "code",
   "execution_count": 9,
   "metadata": {},
   "outputs": [],
   "source": [
    "gt = [[x.split(r'/')[-1],'datasets/'+x] for x in glob.glob(os.path.join(\"vinAudio_ASReval\", 'groundtruth', '*.wav'))]\n",
    "snr0 = [[x.split(r'/')[-1],'datasets/'+x] for x in glob.glob(os.path.join(\"vinAudio_ASReval\", 'mixedSNR0', '*.wav'))]\n",
    "snr10 = [[x.split(r'/')[-1],'datasets/'+x] for x in glob.glob(os.path.join(\"vinAudio_ASReval\", 'mixedSNR10', '*.wav'))]\n",
    "ref = [[x.split(r'/')[-1],'datasets/'+x] for x in glob.glob(os.path.join(\"vinAudio_ASReval\", 'ref', '*.wav'))]\n",
    "gt_di={}\n",
    "snr0_di={}\n",
    "snr10_di={}\n",
    "ref_di={}\n",
    "df_snr0_li=[]\n",
    "df_snr10_li=[]"
   ]
  },
  {
   "cell_type": "code",
   "execution_count": 11,
   "metadata": {},
   "outputs": [
    {
     "data": {
      "text/plain": [
       "['speaker_0000004245-utt_0000410127-1.wav',\n",
       " 'datasets/vinAudio_ASReval/groundtruth/speaker_0000004245-utt_0000410127-1.wav']"
      ]
     },
     "execution_count": 11,
     "metadata": {},
     "output_type": "execute_result"
    }
   ],
   "source": [
    "gt[0]"
   ]
  },
  {
   "cell_type": "code",
   "execution_count": 12,
   "metadata": {},
   "outputs": [],
   "source": [
    "for x in gt:\n",
    "    gt_di[x[0]]=x[1]\n",
    "for x in snr0:\n",
    "    snr0_di[x[0]]=x[1]\n",
    "for x in snr10:\n",
    "    snr10_di[x[0]]=x[1]\n",
    "for x in ref:\n",
    "    ref_di[x[0]]=x[1]"
   ]
  },
  {
   "cell_type": "code",
   "execution_count": 13,
   "metadata": {},
   "outputs": [],
   "source": [
    "for k in snr0_di.keys():\n",
    "    df_snr0_li.append({'mixed_utterance_path':gt_di[k],'clean_utterance_path':gt_di[k],'reference_utterance_path':ref_di[k]})\n",
    "#for k in snr10_di.keys():\n",
    "#    df_snr10_li.append({'mixed_utterance_path':gt_di[k],'clean_utterance_path':gt_di[k],'reference_utterance_path':ref_di[k]})"
   ]
  },
  {
   "cell_type": "code",
   "execution_count": 14,
   "metadata": {},
   "outputs": [],
   "source": [
    "pd.DataFrame(df_snr0_li).to_csv('/home/longvu/voicefilter/datasets/recipes/VinASRClean.csv',index=False)\n",
    "#pd.DataFrame(df_snr10_li).to_csv('/home/longvu/voicefilter/datasets/recipes/VinASRSNR10.csv',index=False)"
   ]
  },
  {
   "cell_type": "code",
   "execution_count": 17,
   "metadata": {},
   "outputs": [],
   "source": [
    "df=pd.read_csv('ggspeaker_id/LibriSpeech/dev_tuples.csv')"
   ]
  },
  {
   "cell_type": "code",
   "execution_count": 18,
   "metadata": {},
   "outputs": [
    {
     "data": {
      "text/plain": [
       "Index(['clean_utterance', 'embedding_utterance', 'interference_utterance',\n",
       "       'clean_utterance_set', 'clean_utterance_path',\n",
       "       'embedding_utterance_set', 'embedding_utterance_path',\n",
       "       'interference_utterance_set', 'interference_utterance_path',\n",
       "       'dvec_tensor_path', 'dvec_tensor_path_y'],\n",
       "      dtype='object')"
      ]
     },
     "execution_count": 18,
     "metadata": {},
     "output_type": "execute_result"
    }
   ],
   "source": [
    "df.columns"
   ]
  },
  {
   "cell_type": "code",
   "execution_count": 21,
   "metadata": {},
   "outputs": [
    {
     "name": "stderr",
     "output_type": "stream",
     "text": [
      "/opt/conda/lib/python3.7/site-packages/ipykernel_launcher.py:2: SettingWithCopyWarning: \n",
      "A value is trying to be set on a copy of a slice from a DataFrame.\n",
      "Try using .loc[row_indexer,col_indexer] = value instead\n",
      "\n",
      "See the caveats in the documentation: https://pandas.pydata.org/pandas-docs/stable/user_guide/indexing.html#returning-a-view-versus-a-copy\n",
      "  \n"
     ]
    }
   ],
   "source": [
    "temp_df=df[['clean_utterance_path', 'embedding_utterance_path', \"dvec_tensor_path\"]]\n",
    "temp_df['mixed_utterance_path']=df['clean_utterance_path']"
   ]
  },
  {
   "cell_type": "code",
   "execution_count": 23,
   "metadata": {},
   "outputs": [],
   "source": [
    "temp_df.to_csv('/home/longvu/voicefilter/datasets/recipes/CleanGGLibri.csv',index=False)"
   ]
  },
  {
   "cell_type": "markdown",
   "metadata": {},
   "source": []
  }
 ],
 "metadata": {
  "kernelspec": {
   "display_name": "Python 3.7.12 ('base')",
   "language": "python",
   "name": "python3"
  },
  "language_info": {
   "codemirror_mode": {
    "name": "ipython",
    "version": 3
   },
   "file_extension": ".py",
   "mimetype": "text/x-python",
   "name": "python",
   "nbconvert_exporter": "python",
   "pygments_lexer": "ipython3",
   "version": "3.7.12"
  },
  "orig_nbformat": 4,
  "vscode": {
   "interpreter": {
    "hash": "d4d1e4263499bec80672ea0156c357c1ee493ec2b1c70f0acce89fc37c4a6abe"
   }
  }
 },
 "nbformat": 4,
 "nbformat_minor": 2
}
